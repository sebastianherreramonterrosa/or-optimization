{
 "cells": [
  {
   "cell_type": "code",
   "execution_count": 1,
   "metadata": {},
   "outputs": [],
   "source": [
    "import folium\n",
    "import pandas\n",
    "import collections\n",
    "import numpy\n",
    "import geopy.distance\n",
    "from docplex.mp.model import Model"
   ]
  },
  {
   "cell_type": "code",
   "execution_count": 2,
   "metadata": {},
   "outputs": [
    {
     "data": {
      "text/html": [
       "<div>\n",
       "<style scoped>\n",
       "    .dataframe tbody tr th:only-of-type {\n",
       "        vertical-align: middle;\n",
       "    }\n",
       "\n",
       "    .dataframe tbody tr th {\n",
       "        vertical-align: top;\n",
       "    }\n",
       "\n",
       "    .dataframe thead th {\n",
       "        text-align: right;\n",
       "    }\n",
       "</style>\n",
       "<table border=\"1\" class=\"dataframe\">\n",
       "  <thead>\n",
       "    <tr style=\"text-align: right;\">\n",
       "      <th></th>\n",
       "      <th>Lat</th>\n",
       "      <th>Lng</th>\n",
       "    </tr>\n",
       "    <tr>\n",
       "      <th>Nombre</th>\n",
       "      <th></th>\n",
       "      <th></th>\n",
       "    </tr>\n",
       "  </thead>\n",
       "  <tbody>\n",
       "    <tr>\n",
       "      <th>Escultura Nave Espacial</th>\n",
       "      <td>4.615251</td>\n",
       "      <td>-74.071534</td>\n",
       "    </tr>\n",
       "    <tr>\n",
       "      <th>Estatua Tomas Cipriano de Mosquera</th>\n",
       "      <td>4.597386</td>\n",
       "      <td>-74.076421</td>\n",
       "    </tr>\n",
       "    <tr>\n",
       "      <th>Estatua Ricardo Palma</th>\n",
       "      <td>4.602078</td>\n",
       "      <td>-74.066768</td>\n",
       "    </tr>\n",
       "    <tr>\n",
       "      <th>Monumento al Almirante José Prudencio Padilla</th>\n",
       "      <td>4.625450</td>\n",
       "      <td>-74.074206</td>\n",
       "    </tr>\n",
       "    <tr>\n",
       "      <th>Monumento 21 Ángeles</th>\n",
       "      <td>4.732816</td>\n",
       "      <td>-74.075095</td>\n",
       "    </tr>\n",
       "    <tr>\n",
       "      <th>...</th>\n",
       "      <td>...</td>\n",
       "      <td>...</td>\n",
       "    </tr>\n",
       "    <tr>\n",
       "      <th>Laboratorios Spaison Ltda</th>\n",
       "      <td>4.681562</td>\n",
       "      <td>-74.117520</td>\n",
       "    </tr>\n",
       "    <tr>\n",
       "      <th>Luminex Legrand</th>\n",
       "      <td>4.693044</td>\n",
       "      <td>-74.118457</td>\n",
       "    </tr>\n",
       "    <tr>\n",
       "      <th>Doña Juana ESP SA</th>\n",
       "      <td>4.499661</td>\n",
       "      <td>-74.143927</td>\n",
       "    </tr>\n",
       "    <tr>\n",
       "      <th>Avianca</th>\n",
       "      <td>4.645531</td>\n",
       "      <td>-74.099483</td>\n",
       "    </tr>\n",
       "    <tr>\n",
       "      <th>Notaría 14</th>\n",
       "      <td>4.641680</td>\n",
       "      <td>-74.072357</td>\n",
       "    </tr>\n",
       "  </tbody>\n",
       "</table>\n",
       "<p>100 rows × 2 columns</p>\n",
       "</div>"
      ],
      "text/plain": [
       "                                                    Lat        Lng\n",
       "Nombre                                                            \n",
       "Escultura Nave Espacial                        4.615251 -74.071534\n",
       "Estatua Tomas Cipriano de Mosquera             4.597386 -74.076421\n",
       "Estatua Ricardo Palma                          4.602078 -74.066768\n",
       "Monumento al Almirante José Prudencio Padilla  4.625450 -74.074206\n",
       "Monumento 21 Ángeles                           4.732816 -74.075095\n",
       "...                                                 ...        ...\n",
       "Laboratorios Spaison Ltda                      4.681562 -74.117520\n",
       "Luminex Legrand                                4.693044 -74.118457\n",
       "Doña Juana ESP SA                              4.499661 -74.143927\n",
       "Avianca                                        4.645531 -74.099483\n",
       "Notaría 14                                     4.641680 -74.072357\n",
       "\n",
       "[100 rows x 2 columns]"
      ]
     },
     "execution_count": 2,
     "metadata": {},
     "output_type": "execute_result"
    }
   ],
   "source": [
    "df_sitios_bog = pandas.read_csv(\"./data/sitios-de-interes-en-bogota.csv\", sep=\";\")\n",
    "df_sitios_bog = df_sitios_bog[[\"Nombre\", \"Geo Point\"]]\n",
    "df_sitios_bog[\"Lat\"] = df_sitios_bog.apply(lambda row: float(row[\"Geo Point\"].split(\",\")[0]), axis=1)\n",
    "df_sitios_bog[\"Lng\"] = df_sitios_bog.apply(lambda row: float(row[\"Geo Point\"].split(\",\")[1]), axis=1)\n",
    "df_sitios_bog.drop(\"Geo Point\", axis=1, inplace=True)\n",
    "df_sitios_bog = df_sitios_bog.head(101)\n",
    "df_sitios_bog = df_sitios_bog.drop_duplicates(subset='Nombre')\n",
    "df_sitios_bog = df_sitios_bog.set_index(\"Nombre\")\n",
    "df_sitios_bog"
   ]
  },
  {
   "cell_type": "code",
   "execution_count": 3,
   "metadata": {},
   "outputs": [
    {
     "ename": "KeyError",
     "evalue": "'Nombre'",
     "output_type": "error",
     "traceback": [
      "\u001b[1;31m---------------------------------------------------------------------------\u001b[0m",
      "\u001b[1;31mKeyError\u001b[0m                                  Traceback (most recent call last)",
      "File \u001b[1;32mc:\\Users\\sejo_\\AppData\\Local\\Programs\\Python\\Python310\\lib\\site-packages\\pandas\\core\\indexes\\base.py:3791\u001b[0m, in \u001b[0;36mIndex.get_loc\u001b[1;34m(self, key)\u001b[0m\n\u001b[0;32m   3790\u001b[0m \u001b[38;5;28;01mtry\u001b[39;00m:\n\u001b[1;32m-> 3791\u001b[0m     \u001b[38;5;28;01mreturn\u001b[39;00m \u001b[38;5;28;43mself\u001b[39;49m\u001b[38;5;241;43m.\u001b[39;49m\u001b[43m_engine\u001b[49m\u001b[38;5;241;43m.\u001b[39;49m\u001b[43mget_loc\u001b[49m\u001b[43m(\u001b[49m\u001b[43mcasted_key\u001b[49m\u001b[43m)\u001b[49m\n\u001b[0;32m   3792\u001b[0m \u001b[38;5;28;01mexcept\u001b[39;00m \u001b[38;5;167;01mKeyError\u001b[39;00m \u001b[38;5;28;01mas\u001b[39;00m err:\n",
      "File \u001b[1;32mindex.pyx:152\u001b[0m, in \u001b[0;36mpandas._libs.index.IndexEngine.get_loc\u001b[1;34m()\u001b[0m\n",
      "File \u001b[1;32mindex.pyx:181\u001b[0m, in \u001b[0;36mpandas._libs.index.IndexEngine.get_loc\u001b[1;34m()\u001b[0m\n",
      "File \u001b[1;32mpandas\\_libs\\hashtable_class_helper.pxi:7080\u001b[0m, in \u001b[0;36mpandas._libs.hashtable.PyObjectHashTable.get_item\u001b[1;34m()\u001b[0m\n",
      "File \u001b[1;32mpandas\\_libs\\hashtable_class_helper.pxi:7088\u001b[0m, in \u001b[0;36mpandas._libs.hashtable.PyObjectHashTable.get_item\u001b[1;34m()\u001b[0m\n",
      "\u001b[1;31mKeyError\u001b[0m: 'Nombre'",
      "\nThe above exception was the direct cause of the following exception:\n",
      "\u001b[1;31mKeyError\u001b[0m                                  Traceback (most recent call last)",
      "Cell \u001b[1;32mIn[3], line 9\u001b[0m\n\u001b[0;32m      7\u001b[0m         folium\u001b[38;5;241m.\u001b[39mCircleMarker([row[\u001b[38;5;124m\"\u001b[39m\u001b[38;5;124mLat\u001b[39m\u001b[38;5;124m\"\u001b[39m], row[\u001b[38;5;124m\"\u001b[39m\u001b[38;5;124mLng\u001b[39m\u001b[38;5;124m\"\u001b[39m]], radius\u001b[38;5;241m=\u001b[39m\u001b[38;5;241m5\u001b[39m, color\u001b[38;5;241m=\u001b[39m\u001b[38;5;124m\"\u001b[39m\u001b[38;5;124myellow\u001b[39m\u001b[38;5;124m\"\u001b[39m, fill\u001b[38;5;241m=\u001b[39m\u001b[38;5;28;01mTrue\u001b[39;00m, fill_color\u001b[38;5;241m=\u001b[39m\u001b[38;5;124m\"\u001b[39m\u001b[38;5;124mwhite\u001b[39m\u001b[38;5;124m\"\u001b[39m, fill_opacity\u001b[38;5;241m=\u001b[39m\u001b[38;5;241m0.6\u001b[39m, popup\u001b[38;5;241m=\u001b[39m\u001b[38;5;124mf\u001b[39m\u001b[38;5;124m\"\u001b[39m\u001b[38;5;132;01m{\u001b[39;00mrow[\u001b[38;5;124m'\u001b[39m\u001b[38;5;124mNombre\u001b[39m\u001b[38;5;124m'\u001b[39m]\u001b[38;5;132;01m}\u001b[39;00m\u001b[38;5;124m\"\u001b[39m)\u001b[38;5;241m.\u001b[39madd_to(bogota_map)\n\u001b[0;32m      8\u001b[0m     \u001b[38;5;28;01melse\u001b[39;00m:\n\u001b[1;32m----> 9\u001b[0m         folium\u001b[38;5;241m.\u001b[39mCircleMarker([row[\u001b[38;5;124m\"\u001b[39m\u001b[38;5;124mLat\u001b[39m\u001b[38;5;124m\"\u001b[39m], row[\u001b[38;5;124m\"\u001b[39m\u001b[38;5;124mLng\u001b[39m\u001b[38;5;124m\"\u001b[39m]], radius\u001b[38;5;241m=\u001b[39m\u001b[38;5;241m5\u001b[39m, color\u001b[38;5;241m=\u001b[39m\u001b[38;5;124m\"\u001b[39m\u001b[38;5;124mblue\u001b[39m\u001b[38;5;124m\"\u001b[39m, fill\u001b[38;5;241m=\u001b[39m\u001b[38;5;28;01mTrue\u001b[39;00m, fill_color\u001b[38;5;241m=\u001b[39m\u001b[38;5;124m\"\u001b[39m\u001b[38;5;124mwhite\u001b[39m\u001b[38;5;124m\"\u001b[39m, fill_opacity\u001b[38;5;241m=\u001b[39m\u001b[38;5;241m0.8\u001b[39m, popup\u001b[38;5;241m=\u001b[39m\u001b[38;5;124mf\u001b[39m\u001b[38;5;124m\"\u001b[39m\u001b[38;5;132;01m{\u001b[39;00m\u001b[43mrow\u001b[49m\u001b[43m[\u001b[49m\u001b[38;5;124;43m'\u001b[39;49m\u001b[38;5;124;43mNombre\u001b[39;49m\u001b[38;5;124;43m'\u001b[39;49m\u001b[43m]\u001b[49m\u001b[38;5;132;01m}\u001b[39;00m\u001b[38;5;124m\"\u001b[39m)\u001b[38;5;241m.\u001b[39madd_to(bogota_map)\n\u001b[0;32m     11\u001b[0m bogota_map\n",
      "File \u001b[1;32mc:\\Users\\sejo_\\AppData\\Local\\Programs\\Python\\Python310\\lib\\site-packages\\pandas\\core\\series.py:1040\u001b[0m, in \u001b[0;36mSeries.__getitem__\u001b[1;34m(self, key)\u001b[0m\n\u001b[0;32m   1037\u001b[0m     \u001b[38;5;28;01mreturn\u001b[39;00m \u001b[38;5;28mself\u001b[39m\u001b[38;5;241m.\u001b[39m_values[key]\n\u001b[0;32m   1039\u001b[0m \u001b[38;5;28;01melif\u001b[39;00m key_is_scalar:\n\u001b[1;32m-> 1040\u001b[0m     \u001b[38;5;28;01mreturn\u001b[39;00m \u001b[38;5;28;43mself\u001b[39;49m\u001b[38;5;241;43m.\u001b[39;49m\u001b[43m_get_value\u001b[49m\u001b[43m(\u001b[49m\u001b[43mkey\u001b[49m\u001b[43m)\u001b[49m\n\u001b[0;32m   1042\u001b[0m \u001b[38;5;66;03m# Convert generator to list before going through hashable part\u001b[39;00m\n\u001b[0;32m   1043\u001b[0m \u001b[38;5;66;03m# (We will iterate through the generator there to check for slices)\u001b[39;00m\n\u001b[0;32m   1044\u001b[0m \u001b[38;5;28;01mif\u001b[39;00m is_iterator(key):\n",
      "File \u001b[1;32mc:\\Users\\sejo_\\AppData\\Local\\Programs\\Python\\Python310\\lib\\site-packages\\pandas\\core\\series.py:1156\u001b[0m, in \u001b[0;36mSeries._get_value\u001b[1;34m(self, label, takeable)\u001b[0m\n\u001b[0;32m   1153\u001b[0m     \u001b[38;5;28;01mreturn\u001b[39;00m \u001b[38;5;28mself\u001b[39m\u001b[38;5;241m.\u001b[39m_values[label]\n\u001b[0;32m   1155\u001b[0m \u001b[38;5;66;03m# Similar to Index.get_value, but we do not fall back to positional\u001b[39;00m\n\u001b[1;32m-> 1156\u001b[0m loc \u001b[38;5;241m=\u001b[39m \u001b[38;5;28;43mself\u001b[39;49m\u001b[38;5;241;43m.\u001b[39;49m\u001b[43mindex\u001b[49m\u001b[38;5;241;43m.\u001b[39;49m\u001b[43mget_loc\u001b[49m\u001b[43m(\u001b[49m\u001b[43mlabel\u001b[49m\u001b[43m)\u001b[49m\n\u001b[0;32m   1158\u001b[0m \u001b[38;5;28;01mif\u001b[39;00m is_integer(loc):\n\u001b[0;32m   1159\u001b[0m     \u001b[38;5;28;01mreturn\u001b[39;00m \u001b[38;5;28mself\u001b[39m\u001b[38;5;241m.\u001b[39m_values[loc]\n",
      "File \u001b[1;32mc:\\Users\\sejo_\\AppData\\Local\\Programs\\Python\\Python310\\lib\\site-packages\\pandas\\core\\indexes\\base.py:3798\u001b[0m, in \u001b[0;36mIndex.get_loc\u001b[1;34m(self, key)\u001b[0m\n\u001b[0;32m   3793\u001b[0m     \u001b[38;5;28;01mif\u001b[39;00m \u001b[38;5;28misinstance\u001b[39m(casted_key, \u001b[38;5;28mslice\u001b[39m) \u001b[38;5;129;01mor\u001b[39;00m (\n\u001b[0;32m   3794\u001b[0m         \u001b[38;5;28misinstance\u001b[39m(casted_key, abc\u001b[38;5;241m.\u001b[39mIterable)\n\u001b[0;32m   3795\u001b[0m         \u001b[38;5;129;01mand\u001b[39;00m \u001b[38;5;28many\u001b[39m(\u001b[38;5;28misinstance\u001b[39m(x, \u001b[38;5;28mslice\u001b[39m) \u001b[38;5;28;01mfor\u001b[39;00m x \u001b[38;5;129;01min\u001b[39;00m casted_key)\n\u001b[0;32m   3796\u001b[0m     ):\n\u001b[0;32m   3797\u001b[0m         \u001b[38;5;28;01mraise\u001b[39;00m InvalidIndexError(key)\n\u001b[1;32m-> 3798\u001b[0m     \u001b[38;5;28;01mraise\u001b[39;00m \u001b[38;5;167;01mKeyError\u001b[39;00m(key) \u001b[38;5;28;01mfrom\u001b[39;00m \u001b[38;5;21;01merr\u001b[39;00m\n\u001b[0;32m   3799\u001b[0m \u001b[38;5;28;01mexcept\u001b[39;00m \u001b[38;5;167;01mTypeError\u001b[39;00m:\n\u001b[0;32m   3800\u001b[0m     \u001b[38;5;66;03m# If we have a listlike key, _check_indexing_error will raise\u001b[39;00m\n\u001b[0;32m   3801\u001b[0m     \u001b[38;5;66;03m#  InvalidIndexError. Otherwise we fall through and re-raise\u001b[39;00m\n\u001b[0;32m   3802\u001b[0m     \u001b[38;5;66;03m#  the TypeError.\u001b[39;00m\n\u001b[0;32m   3803\u001b[0m     \u001b[38;5;28mself\u001b[39m\u001b[38;5;241m.\u001b[39m_check_indexing_error(key)\n",
      "\u001b[1;31mKeyError\u001b[0m: 'Nombre'"
     ]
    }
   ],
   "source": [
    "lat_mean = df_sitios_bog[\"Lat\"].mean()\n",
    "lng_mean = df_sitios_bog[\"Lng\"].mean()\n",
    "\n",
    "bogota_map = folium.Map(location=[lat_mean, lng_mean], zoom_start=12, tiles=\"cartodbdark_matter\")\n",
    "for idx, row in df_sitios_bog.iterrows():\n",
    "    if idx == \"Bavaria SA.\":\n",
    "        folium.CircleMarker([row[\"Lat\"], row[\"Lng\"]], radius=5, color=\"yellow\", fill=True, fill_color=\"white\", fill_opacity=0.6, popup=f\"{row['Nombre']}\").add_to(bogota_map)\n",
    "    else:\n",
    "        folium.CircleMarker([row[\"Lat\"], row[\"Lng\"]], radius=5, color=\"blue\", fill=True, fill_color=\"white\", fill_opacity=0.8, popup=f\"{row['Nombre']}\").add_to(bogota_map)\n",
    "\n",
    "bogota_map"
   ]
  },
  {
   "cell_type": "markdown",
   "metadata": {},
   "source": [
    "#### **Conjuntos**\n",
    "$$ \\text{CLIENTES} = \\{1, 2, \\ldots, N\\} $$\n",
    "$$ \\text{NODOS} = \\{0\\} \\cup \\text{CLIENTES} $$"
   ]
  },
  {
   "cell_type": "code",
   "execution_count": null,
   "metadata": {},
   "outputs": [],
   "source": [
    "NODOS = df_sitios_bog.index.to_list()\n",
    "CLIENTES = df_sitios_bog[df_sitios_bog.index != \"Bavaria SA.\"].index.to_list()"
   ]
  },
  {
   "cell_type": "markdown",
   "metadata": {},
   "source": [
    "#### **Parámetros**\n",
    "$$ \\text{DISTANCIAS}_{n1, n2}: \\text{Distancia euclidiana entre } n1 \\in \\text{NODOS} \\text{ y } n2 \\in \\text{NODOS} $$"
   ]
  },
  {
   "cell_type": "code",
   "execution_count": null,
   "metadata": {},
   "outputs": [],
   "source": [
    "df_distancias = pandas.DataFrame()\n",
    "for nodo1 in NODOS:\n",
    "    for nodo2 in NODOS:\n",
    "        df_distancias.loc[nodo1, nodo2] = geopy.distance.geodesic((df_sitios_bog.loc[nodo1, \"Lat\"], df_sitios_bog.loc[nodo1, \"Lng\"]), (df_sitios_bog.loc[nodo2, \"Lat\"], df_sitios_bog.loc[nodo2, \"Lng\"])).km\n",
    "        df_sitios_bog"
   ]
  },
  {
   "cell_type": "code",
   "execution_count": null,
   "metadata": {},
   "outputs": [],
   "source": [
    "model = Model(\"TSP\")"
   ]
  },
  {
   "cell_type": "markdown",
   "metadata": {},
   "source": [
    "#### **Variables de Decisión**\n",
    "$$ x_{n1, n2} = \\begin{cases} \n",
    "1 & \\text{Si el vehículo viaja de } n1 \\in \\text{NODOS} \\text{ a } n2 \\in \\text{NODOS} \\\\ \n",
    "0 & \\text{d.l.c.} \n",
    "\\end{cases} $$\n",
    "$$ u_{n} \\in \\mathbb{R}^{+} \\text{: Carga acumulada del vehículo al llegar al nodo } n \\in \\text{NODOS} $$"
   ]
  },
  {
   "cell_type": "code",
   "execution_count": null,
   "metadata": {},
   "outputs": [],
   "source": [
    "x = model.binary_var_dict([(nodo1, nodo2) for nodo1 in NODOS for nodo2 in NODOS], name=\"x\")\n",
    "u = model.continuous_var_dict(NODOS, name=\"u\")"
   ]
  },
  {
   "cell_type": "markdown",
   "metadata": {},
   "source": [
    "#### **Función Objetivo**\n",
    "$$ \\text{Minimizar } \\sum_{n1 \\in \\text{NODOS}} \\sum_{n2 \\in \\text{NODOS}} \\text{DISTANCIAS}_{n1, n2} \\cdot x_{n1, n2} $$"
   ]
  },
  {
   "cell_type": "code",
   "execution_count": null,
   "metadata": {},
   "outputs": [],
   "source": [
    "model.minimize(model.sum(df_distancias.loc[nodo1, nodo2] * x[nodo1, nodo2] for nodo1 in NODOS for nodo2 in NODOS))"
   ]
  },
  {
   "cell_type": "markdown",
   "metadata": {},
   "source": [
    "#### **Restricciones**\n",
    "\n",
    "1. **Prohibición de bucles:**\n",
    "$$ \\forall n \\in \\text{NODOS}: x_{n, n} = 0 $$\n",
    "\n",
    "2. **Asignación única de salidas para cada cliente:**\n",
    "$$ \\forall n1 \\in \\text{NODOS}: \\sum_{n2 \\in \\text{NODOS}} x_{n1, n2} = 1 $$\n",
    "\n",
    "3. **Asignación única de entradas para cada cliente:**\n",
    "$$ \\forall n2 \\in \\text{NODOS}: \\sum_{n1 \\in \\text{NODOS}} x_{n1, n2} = 1 $$\n",
    "\n",
    "4. **Restricciones para evitar subtours (Condiciones de Miller-Tucker-Zemlin):**\n",
    "$$ \\forall c1, c2 \\in \\text{CLIENTES}, c1 \\neq c2: \\text{Si } x_{c1, c2} = 1 \\rightarrow u_{c2} =  u_{c1} + 1 $$\n",
    "$$ \\forall cl1, cl2 \\in \\text{CLIENTES}, cl1 \\neq cl2: u_{cl2} \\geq u_{cl1} + 1 - \\mathcal{M} \\cdot (1 - x_{cl1, cl2}) $$"
   ]
  },
  {
   "cell_type": "code",
   "execution_count": null,
   "metadata": {},
   "outputs": [],
   "source": [
    "for nodo in NODOS:\n",
    "    model.add_constraint(x[nodo, nodo] == 0)\n",
    "\n",
    "for nodo1 in NODOS:\n",
    "    model.add_constraint(model.sum(x[nodo1, nodo2] for nodo2 in NODOS if nodo1 != nodo2) == 1)\n",
    "\n",
    "for nodo1 in NODOS:\n",
    "    model.add_constraint(model.sum(x[nodo2, nodo1] for nodo2 in NODOS if nodo1 != nodo2) == 1)\n",
    "    \n",
    "for cliente1 in CLIENTES:\n",
    "    for cliente2 in CLIENTES:\n",
    "        if cliente1 != cliente2:\n",
    "            # model.add_constraint(u[cliente2] >= u[cliente1] + 1 - 10000 * (1 - x[cliente1, cliente2]))\n",
    "            model.add_indicator(x[cliente1, cliente2], u[cliente2] == u[cliente1] + 1, active_value = 1)"
   ]
  },
  {
   "cell_type": "code",
   "execution_count": null,
   "metadata": {},
   "outputs": [],
   "source": [
    "# model.parameters.mip.limits.solutions = 1\n",
    "model.set_time_limit(200)\n",
    "solution = model.solve(log_output=True)"
   ]
  },
  {
   "cell_type": "code",
   "execution_count": null,
   "metadata": {},
   "outputs": [],
   "source": [
    "depot = \"Bavaria SA.\"\n",
    "for cliente in CLIENTES:\n",
    "    if x[depot, cliente].solution_value > 0.9:\n",
    "        print(f\"==== Ruta ====\")\n",
    "        ruta = [depot, cliente]\n",
    "        r = f\"{depot} -> {cliente} -> \"\n",
    "\n",
    "        cliente_actual = cliente\n",
    "        while x[cliente_actual, depot].solution_value < 0.9:\n",
    "            for siguiente_cliente in CLIENTES:\n",
    "                if x[cliente_actual, siguiente_cliente].solution_value > 0.9:\n",
    "                    break\n",
    "            ruta.append(siguiente_cliente)\n",
    "            r += str(siguiente_cliente) + \" -> \"\n",
    "            cliente_actual = siguiente_cliente\n",
    "\n",
    "        ruta.append(depot)\n",
    "        r += depot\n",
    "        print(r)"
   ]
  },
  {
   "cell_type": "code",
   "execution_count": null,
   "metadata": {},
   "outputs": [],
   "source": [
    "def get_bearing(p1, p2):\n",
    "    long_diff = numpy.radians(p2.lon - p1.lon)\n",
    "    lat1 = numpy.radians(p1.lat)\n",
    "    lat2 = numpy.radians(p2.lat)\n",
    "    x = numpy.sin(long_diff) * numpy.cos(lat2)\n",
    "    y = numpy.cos(lat1) * numpy.sin(lat2) - (numpy.sin(lat1) * numpy.cos(lat2) * numpy.cos(long_diff))\n",
    "    bearing = numpy.degrees(numpy.arctan2(x, y))\n",
    "    if bearing < 0:\n",
    "        return bearing + 360\n",
    "    return bearing\n",
    "\n",
    "\n",
    "def get_arrows(locations, color=\"black\", size=4, n_arrows=3, weight_arrow=3):\n",
    "    Point = collections.namedtuple(\"Point\", field_names=[\"lat\", \"lon\"])\n",
    "    p1 = Point(locations[0][0], locations[0][1])\n",
    "    p2 = Point(locations[1][0], locations[1][1])\n",
    "    rotation = get_bearing(p1, p2) - 90\n",
    "    arrow_lats = numpy.linspace(p1.lat, p2.lat, n_arrows + 2)[1 : n_arrows + 1]\n",
    "    arrow_lons = numpy.linspace(p1.lon, p2.lon, n_arrows + 2)[1 : n_arrows + 1]\n",
    "    arrows = []\n",
    "    for points in zip(arrow_lats, arrow_lons):\n",
    "        arrows.append(\n",
    "            folium.RegularPolygonMarker(\n",
    "                location=points,\n",
    "                color=color,\n",
    "                weight=weight_arrow,\n",
    "                fill=True,\n",
    "                fill_color=color,\n",
    "                fill_opacity=1,\n",
    "                number_of_sides=3,\n",
    "                radius=size,\n",
    "                rotation=rotation,\n",
    "            )\n",
    "        )\n",
    "    return arrows"
   ]
  },
  {
   "cell_type": "code",
   "execution_count": null,
   "metadata": {},
   "outputs": [],
   "source": [
    "lat_mean = df_sitios_bog[\"Lat\"].mean()\n",
    "lng_mean = df_sitios_bog[\"Lng\"].mean()\n",
    "\n",
    "bogota_map = folium.Map(location=[lat_mean, lng_mean], zoom_start=12, tiles=\"cartodbdark_matter\")\n",
    "for idx, row in df_sitios_bog.iterrows():\n",
    "    if idx == \"Bavaria SA.\":\n",
    "        folium.CircleMarker([row[\"Lat\"], row[\"Lng\"]], radius=10, color=\"yellow\", fill=True, fill_color=\"white\", fill_opacity=0.6, popup=f\"{row['Nombre']}\").add_to(bogota_map)\n",
    "    else:\n",
    "        folium.CircleMarker([row[\"Lat\"], row[\"Lng\"]], radius=5, color=\"blue\", fill=True, fill_color=\"white\", fill_opacity=0.8, popup=f\"{row['Nombre']}\").add_to(bogota_map)\n",
    "\n",
    "for i in range(len(ruta) - 1):\n",
    "\tcoordinates = [\n",
    "\t\tdf_sitios_bog.loc[ruta[i], [\"Lat\", \"Lng\"]].values.tolist(),\n",
    "\t\tdf_sitios_bog.loc[ruta[i+1], [\"Lat\", \"Lng\"]].values.tolist(),\n",
    "\t]\n",
    "\n",
    "\tcolor = \"gray\"\n",
    "\tweight = 2\n",
    "\n",
    "\tpl = folium.PolyLine(coordinates, color=color, weight=weight)\n",
    "\tbogota_map.add_child(pl)\n",
    "\n",
    "\tarrows = get_arrows(locations=coordinates, color=color, size=2, n_arrows=1)\n",
    "\tfor arrow in arrows:\n",
    "\t\tarrow.add_to(bogota_map)\n",
    "\n",
    "\n",
    "bogota_map"
   ]
  }
 ],
 "metadata": {
  "kernelspec": {
   "display_name": "Python 3",
   "language": "python",
   "name": "python3"
  },
  "language_info": {
   "codemirror_mode": {
    "name": "ipython",
    "version": 3
   },
   "file_extension": ".py",
   "mimetype": "text/x-python",
   "name": "python",
   "nbconvert_exporter": "python",
   "pygments_lexer": "ipython3",
   "version": "3.10.10"
  }
 },
 "nbformat": 4,
 "nbformat_minor": 2
}
