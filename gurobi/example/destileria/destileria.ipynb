{
 "cells": [
  {
   "cell_type": "markdown",
   "metadata": {},
   "source": [
    "## **DESTILERÍA VALLE AROMÁTICO**\n",
    "\n",
    "La empresa Valle Aromático es una pequeña destilería que se especializa en la producción y venta de licores artesanales, utilizando ingredientes locales de alta calidad. Producen dos tipos de licores: gin artesanal y licor de hierbas, cada uno con un volumen de 500 ml por botella. El precio de venta del gin artesanal es de 50,000 COP y el licor de hierbas se vende a 40,000 COP. Los costos asociados con la producción, incluyendo ingredientes, mano de obra y otros gastos operativos, son de 25,000 COP por botella de gin y 20,000 COP por botella de licor de hierbas.\n",
    "\n",
    "Para la elaboración de estos licores, se requieren dos ingredientes principales: alcohol base y esencias botánicas. Se necesitan 350 ml de alcohol base y 15 ml de esencias botánicas para producir una botella de gin artesanal, mientras que se requieren 300 ml de alcohol base y 20 ml de esencias botánicas para una botella de licor de hierbas. Cada semana, Valle Aromático dispone de 200 litros de alcohol base y 10 litros de esencias botánicas. Mientras que la demanda de gin artesanal es ilimitada, la demanda de licor de hierbas no supera las 500 botellas por semana.\n",
    "\n",
    "El objetivo de Valle Aromático es maximizar sus ganancias, definidas como los ingresos menos los costos de producción. Para lograr este fin, necesitan desarrollar un modelo matemático que represente esta situación y les permita alcanzar su meta de maximización de ganancias.\n"
   ]
  },
  {
   "cell_type": "markdown",
   "metadata": {},
   "source": [
    "$$ \\text{maximizar } Z = (50000 \\cdot x + 40000 \\cdot y) - (25000 \\cdot x + 20000 \\cdot y)$$\n",
    "\n",
    "$$ 350 \\cdot x + 300 \\cdot y \\leq 200000 $$\n",
    "$$ 15 \\cdot x + 20 \\cdot y \\leq 10000 $$\n",
    "$$ y \\leq 500 $$\n",
    "$$ x \\geq 0 $$\n",
    "$$ y \\geq 0 $$\n"
   ]
  },
  {
   "cell_type": "code",
   "execution_count": 1,
   "metadata": {},
   "outputs": [],
   "source": [
    "from docplex.mp.model import Model"
   ]
  },
  {
   "cell_type": "code",
   "execution_count": 2,
   "metadata": {},
   "outputs": [],
   "source": [
    "model = Model(name=\"telephone_production\")"
   ]
  },
  {
   "cell_type": "code",
   "execution_count": 3,
   "metadata": {},
   "outputs": [],
   "source": [
    "# Variables de decisión\n",
    "x = model.continuous_var(name=\"x\", lb=0)  # botellas de gin artesanal\n",
    "y = model.continuous_var(name=\"y\", lb=0)  # botellas de licor de hierbas"
   ]
  },
  {
   "cell_type": "code",
   "execution_count": 4,
   "metadata": {},
   "outputs": [],
   "source": [
    "# Función objetivo: Maximizar las ganancias\n",
    "model.maximize(25000 * x + 20000 * y)"
   ]
  },
  {
   "cell_type": "code",
   "execution_count": 5,
   "metadata": {},
   "outputs": [
    {
     "data": {
      "text/plain": [
       "docplex.mp.LinearConstraint[Restriccion_demanda_licor_hierbas](y,LE,500)"
      ]
     },
     "execution_count": 5,
     "metadata": {},
     "output_type": "execute_result"
    }
   ],
   "source": [
    "# Restricciones\n",
    "# Capacidad de alcohol base\n",
    "model.add_constraint(350 * x + 300 * y <= 200000, ctname=\"Restriccion_alcohol_base\")\n",
    "\n",
    "# Capacidad de esencias botánicas\n",
    "model.add_constraint(15 * x + 20 * y <= 10000, ctname=\"Restriccion_esencias_botanicas\")\n",
    "\n",
    "# Demanda de licor de hierbas\n",
    "model.add_constraint(y <= 500, ctname=\"Restriccion_demanda_licor_hierbas\")"
   ]
  },
  {
   "cell_type": "code",
   "execution_count": 6,
   "metadata": {},
   "outputs": [
    {
     "name": "stdout",
     "output_type": "stream",
     "text": [
      "Version identifier: 22.1.1.0 | 2022-11-27 | 9160aff4d\n",
      "CPXPARAM_Read_DataCheck                          1\n",
      "Tried aggregator 1 time.\n",
      "LP Presolve eliminated 1 rows and 0 columns.\n",
      "Reduced LP has 2 rows, 2 columns, and 4 nonzeros.\n",
      "Presolve time = 0.02 sec. (0.00 ticks)\n",
      "\n",
      "Iteration log . . .\n",
      "Iteration:     1   Scaled dual infeas =          1428.571428\n"
     ]
    }
   ],
   "source": [
    "solution = model.solve(log_output=True)"
   ]
  },
  {
   "cell_type": "code",
   "execution_count": 8,
   "metadata": {},
   "outputs": [
    {
     "name": "stdout",
     "output_type": "stream",
     "text": [
      "Número de botellas de gin artesanal a producir: 571.4285714285714\n",
      "Número de botellas de licor de hierbas a producir: 0\n",
      "Ganancias máximas: 14285714.285714285\n"
     ]
    }
   ],
   "source": [
    "# Imprimir la solución\n",
    "if solution:\n",
    "    print(\"Número de botellas de gin artesanal a producir:\", x.solution_value)\n",
    "    print(\"Número de botellas de licor de hierbas a producir:\", y.solution_value)\n",
    "    print(\"Ganancias máximas:\", model.objective_value)\n",
    "else:\n",
    "    print(\"No se encontró solución\")"
   ]
  }
 ],
 "metadata": {
  "kernelspec": {
   "display_name": "Python 3",
   "language": "python",
   "name": "python3"
  },
  "language_info": {
   "codemirror_mode": {
    "name": "ipython",
    "version": 3
   },
   "file_extension": ".py",
   "mimetype": "text/x-python",
   "name": "python",
   "nbconvert_exporter": "python",
   "pygments_lexer": "ipython3",
   "version": "3.10.10"
  }
 },
 "nbformat": 4,
 "nbformat_minor": 2
}
