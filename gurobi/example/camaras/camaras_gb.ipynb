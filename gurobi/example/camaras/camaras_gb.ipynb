{
 "cells": [
  {
   "cell_type": "markdown",
   "metadata": {},
   "source": [
    "## **Cámaras Galería de arte**"
   ]
  },
  {
   "attachments": {
    "image-2.png": {
     "image/png": "[encoded data removed]"
    },
    "image.png": {
     "image/png": "[encoded data removed]"
    }
   },
   "cell_type": "markdown",
   "metadata": {},
   "source": [
    "En una galería de arte cuyo plano es el de la figura, se desean instalar cámaras de video para tenerla completamente vigilada. Hay 9 zonas A, B, . . . , I, y 9 posibles puntos 1, . . . , 9 de instalación de las cámaras. Una cámara colocada en cualquiera de los puntos señalados vigila todas las zonas adyacentes a dicho punto. Por ejemplo, una cámara en el punto 3 vigila las zonas A y B y una cámara en el punto 8 vigila las zonas B, F, G y C. Todas la zonas deben está vigilidas por al menos una cámara.\n",
    "\n",
    "![image.png](attachment:image.png)\n",
    "\n",
    "Por requerimientos tecnológicos, si se sitúan cámaras en los puntos 2,3 y 4, estas cámaras costarían $5, $7 y $8. Para los otros puntos, una cámara de valor de $2 cumpliría con los requerimientos.\n",
    "\n",
    "Se tienen los siguientes requerimientos\n",
    "1.\tEl número de cámaras que vigilan G debe ser mayor al número de cámaras que vigilan B\n",
    "2.\tSi se instala una cámara en 6 y no se instala cámara en 3 entonces se debe instalar una cámara en 9\n",
    "3.\tNo se puede tener más que 3 cámaras que vigilan el sector constituido por las zonas A y B\n",
    "\n",
    "La transmisión de los datos entre cámaras se hace mediante una red wifi. Los datos de grabación llegan a un router wifi común. La galería quiere saber dónde instalar el router y las cámaras teniendo en cuenta que: \n",
    "-\tEl router wifi solo se puede instalar en uno de los 9 puntos de instalación de cámaras.\n",
    "-\tEl router wifi no se puede instalar en un punto donde hay una cámara.\n",
    "-\tCada cámara se conecta directamente al router wifi. El nivel de radiaciones que genera la conexión es proporcional a la distancia entre la cámara y el router y vale 15 unidades de radiación/metro. Las distancias entre los puntos se muestran en la tabla siguiente.\n",
    "\n",
    "![image-2.png](attachment:image-2.png)\n",
    "\n",
    "Formula el correspondiente modelo en programación lineal en FORMA COMPACTA para determinar dónde se deben instalar las cámaras de manera que se minimice el costo total de instalación de cámaras y la suma total de las radiaciones generadas por las conexiones entre cada cámara y el router wifi."
   ]
  },
  {
   "cell_type": "code",
   "execution_count": 1,
   "metadata": {},
   "outputs": [],
   "source": [
    "import pandas\n",
    "import gurobipy as gp\n",
    "from gurobipy import GRB\n",
    "import networkx as nx\n",
    "import plotly.graph_objects as go\n",
    "import matplotlib.pyplot as plt"
   ]
  },
  {
   "cell_type": "code",
   "execution_count": 2,
   "metadata": {},
   "outputs": [],
   "source": [
    "df_punto_zona = pandas.read_excel(\"./data.xlsx\", sheet_name=\"Punto Zona\", index_col=0)\n",
    "df_costo_instalacion = pandas.read_excel(\"./data.xlsx\", sheet_name=\"Costo Instalación\")\n",
    "df_distancias = pandas.read_excel(\"./data.xlsx\", sheet_name=\"Distancias\", index_col=0)"
   ]
  },
  {
   "cell_type": "markdown",
   "metadata": {},
   "source": [
    "**Conjuntos**\n"
   ]
  },
  {
   "cell_type": "markdown",
   "metadata": {},
   "source": [
    "$$ P: \\text{Puntos} = \\{1, 2, 3, 4, 5, 6, 7, 8, 9\\}$$\n",
    "$$ Z: \\text{Zonas} = \\{\\text{A, B, C, D, E, F, G, H, I}\\} $$"
   ]
  },
  {
   "cell_type": "code",
   "execution_count": 3,
   "metadata": {},
   "outputs": [],
   "source": [
    "PUNTOS = df_punto_zona.index.to_list()\n",
    "ZONAS = df_punto_zona.columns.to_list()"
   ]
  },
  {
   "cell_type": "markdown",
   "metadata": {},
   "source": [
    "**Parámetros**\n"
   ]
  },
  {
   "cell_type": "markdown",
   "metadata": {},
   "source": [
    "$$ \\alpha_{p,z} = \\left\\{ \\begin{array}{cl}\n",
    "1:\\text{Si la camara del punto } p\\in P \\text{ vigila la zona } z\\in Z \\\\\n",
    "0:\\text{dlc}\n",
    "\\end{array} \\right. $$\n",
    "$$ \\text{Costo\\_Instalacion}_{p}: \\text{Costo de instalar una cámara en un punto } p\\in P $$\n",
    "$$ \\text{Distancia}_{p1,p2}: \\text{Distancia en metros de un punto } p1\\in P \\text{ a un punto } p2\\in P $$"
   ]
  },
  {
   "cell_type": "code",
   "execution_count": 4,
   "metadata": {},
   "outputs": [],
   "source": [
    "COSTO_INSTALACION = df_costo_instalacion.set_index(\"Punto\")[\"Costo Instalación\"].to_dict()\n",
    "ALPHA = df_punto_zona.to_dict(\"index\")\n",
    "DISTANCIA = df_distancias.to_dict(\"index\")"
   ]
  },
  {
   "cell_type": "code",
   "execution_count": 5,
   "metadata": {},
   "outputs": [
    {
     "name": "stdout",
     "output_type": "stream",
     "text": [
      "Set parameter Username\n",
      "Academic license - for non-commercial use only - expires 2025-01-28\n"
     ]
    }
   ],
   "source": [
    "model = gp.Model()"
   ]
  },
  {
   "cell_type": "markdown",
   "metadata": {},
   "source": [
    "**Variables de decisión**\n"
   ]
  },
  {
   "cell_type": "markdown",
   "metadata": {},
   "source": [
    "$$ x_{p} = \\left\\{ \\begin{array}{cl}\n",
    "1:\\text{Si instalo una cámara en el punto } p\\in P \\\\\n",
    "0:\\text{dlc}\n",
    "\\end{array} \\right. $$\n",
    "\n",
    "$$ y_{p} \\in \\mathbb{Z}:  \\text{Cantidad de cámaras que vigilan la zona } z\\in Z $$\n",
    "\n",
    "$$ w_{p} = \\left\\{ \\begin{array}{cl}\n",
    "1:\\text{Si instalo el router wi-fi en el punto } p\\in P \\\\\n",
    "0:\\text{dlc}\n",
    "\\end{array} \\right. $$"
   ]
  },
  {
   "cell_type": "code",
   "execution_count": 6,
   "metadata": {},
   "outputs": [],
   "source": [
    "x = model.addVars(PUNTOS, vtype=GRB.BINARY, name=\"x\")\n",
    "y = model.addVars(ZONAS, vtype=GRB.INTEGER, name=\"y\")\n",
    "w = model.addVars(PUNTOS, vtype=GRB.BINARY, name=\"w\")"
   ]
  },
  {
   "cell_type": "markdown",
   "metadata": {},
   "source": [
    "**Función Objetivo**\n"
   ]
  },
  {
   "cell_type": "markdown",
   "metadata": {},
   "source": [
    "$$ \\text{minimizar } \\text{FO} = \\sum_{p\\in P} \\text{Costo\\_Instalacion}_{p} \\times x_{p} + \\sum_{p1\\in P} \\sum_{p2\\in P} 15 \\times \\text{Distancia}_{p1,p2} \\times w_{p1} $$"
   ]
  },
  {
   "cell_type": "code",
   "execution_count": 7,
   "metadata": {},
   "outputs": [],
   "source": [
    "costo_instalacion_camara = gp.quicksum(COSTO_INSTALACION[punto] * x[punto] for punto in PUNTOS)\n",
    "radiacion_wifi = gp.quicksum(\n",
    "    15 * DISTANCIA[punto1][punto2] * w[punto1]\n",
    "    for punto1 in PUNTOS\n",
    "    for punto2 in PUNTOS\n",
    ")\n",
    "\n",
    "## OPC1: FO una expresión\n",
    "# model.setObjective(costo_instalacion_camara + radiacion_wifi, GRB.MINIMIZE)\n",
    "\n",
    "## OPC2: FO multiobjetivo\n",
    "model.setObjectiveN(costo_instalacion_camara, index=0, priority=2, weight=1)\n",
    "model.setObjectiveN(radiacion_wifi, index=1, priority=1, weight=1)\n",
    "model.ModelSense = GRB.MINIMIZE"
   ]
  },
  {
   "cell_type": "markdown",
   "metadata": {},
   "source": [
    "**Restricciones**\n"
   ]
  },
  {
   "cell_type": "markdown",
   "metadata": {},
   "source": [
    "$$ \\forall z\\in Z:y_{z} = \\sum_{p\\in P}\\alpha_{pz} \\times x_{p} $$"
   ]
  },
  {
   "cell_type": "code",
   "execution_count": 8,
   "metadata": {},
   "outputs": [],
   "source": [
    "for zona in ZONAS:\n",
    "    model.addConstr(y[zona] == gp.quicksum(ALPHA[punto][zona] * x[punto] for punto in PUNTOS))"
   ]
  },
  {
   "cell_type": "markdown",
   "metadata": {},
   "source": [
    "$$ \\forall z\\in Z:y_{z} \\ge 1 $$"
   ]
  },
  {
   "cell_type": "code",
   "execution_count": 9,
   "metadata": {},
   "outputs": [],
   "source": [
    "for zona in ZONAS:\n",
    "    model.addConstr(y[zona] >= 1)"
   ]
  },
  {
   "cell_type": "markdown",
   "metadata": {},
   "source": [
    "$$ y_{B} \\ge  y_{G} - 1 $$\n",
    "$$ x_{9} \\ge  x_{6} + (1 - x_{3}) - 1 $$\n",
    "$$ x_{1} + x_{2} + x_{3} + x_{8} \\le  3 $$"
   ]
  },
  {
   "cell_type": "code",
   "execution_count": 10,
   "metadata": {},
   "outputs": [
    {
     "data": {
      "text/plain": [
       "<gurobi.Constr *Awaiting Model Update*>"
      ]
     },
     "execution_count": 10,
     "metadata": {},
     "output_type": "execute_result"
    }
   ],
   "source": [
    "model.addConstr(y[\"B\"] >= y[\"G\"] - 1)\n",
    "model.addConstr(x[9] >= x[6] + (1 - x[3]) - 1)\n",
    "model.addConstr(x[1] + x[2] + x[3] + x[8] <= 3)"
   ]
  },
  {
   "cell_type": "markdown",
   "metadata": {},
   "source": [
    "$$ \\sum_{p\\in P}w_{p} =1 $$"
   ]
  },
  {
   "cell_type": "code",
   "execution_count": 11,
   "metadata": {},
   "outputs": [
    {
     "data": {
      "text/plain": [
       "<gurobi.Constr *Awaiting Model Update*>"
      ]
     },
     "execution_count": 11,
     "metadata": {},
     "output_type": "execute_result"
    }
   ],
   "source": [
    "model.addConstr(gp.quicksum(w[punto] for punto in PUNTOS) == 1)"
   ]
  },
  {
   "attachments": {},
   "cell_type": "markdown",
   "metadata": {},
   "source": [
    "$$ \\forall p\\in P:w_{p} \\le 1 - x_{p} $$"
   ]
  },
  {
   "cell_type": "code",
   "execution_count": 12,
   "metadata": {},
   "outputs": [],
   "source": [
    "for punto in PUNTOS:\n",
    "    model.addConstr(w[punto] <= 1 - x[punto])"
   ]
  },
  {
   "cell_type": "code",
   "execution_count": 13,
   "metadata": {},
   "outputs": [
    {
     "name": "stdout",
     "output_type": "stream",
     "text": [
      "Gurobi Optimizer version 11.0.1 build v11.0.1rc0 (win64 - Windows 11.0 (22631.2))\n",
      "\n",
      "CPU model: Intel(R) Core(TM) i7-9750H CPU @ 2.60GHz, instruction set [SSE2|AVX|AVX2]\n",
      "Thread count: 6 physical cores, 12 logical processors, using up to 12 threads\n",
      "\n",
      "Optimize a model with 31 rows, 27 columns and 75 nonzeros\n",
      "Model fingerprint: 0xbef1cd56\n",
      "Variable types: 0 continuous, 27 integer (18 binary)\n",
      "Coefficient statistics:\n",
      "  Matrix range     [1e+00, 1e+00]\n",
      "  Objective range  [2e+00, 1e+03]\n",
      "  Bounds range     [1e+00, 1e+00]\n",
      "  RHS range        [1e+00, 3e+00]\n",
      "\n",
      "---------------------------------------------------------------------------\n",
      "Multi-objectives: starting optimization with 2 objectives ... \n",
      "---------------------------------------------------------------------------\n",
      "\n",
      "Multi-objectives: applying initial presolve ...\n",
      "---------------------------------------------------------------------------\n",
      "\n",
      "Presolve removed 15 rows and 7 columns\n",
      "Presolve time: 0.02s\n",
      "Presolved: 16 rows, 20 columns, 49 nonzeros\n",
      "---------------------------------------------------------------------------\n",
      "\n",
      "Multi-objectives: optimize objective 1 () ...\n",
      "---------------------------------------------------------------------------\n",
      "\n",
      "Found heuristic solution: objective 15.0000000\n",
      "Presolve removed 0 rows and 2 columns\n",
      "Presolve time: 0.01s\n",
      "Presolved: 16 rows, 18 columns, 47 nonzeros\n",
      "Variable types: 0 continuous, 18 integer (14 binary)\n",
      "\n",
      "Root relaxation: objective 1.000000e+01, 8 iterations, 0.01 seconds (0.00 work units)\n",
      "\n",
      "    Nodes    |    Current Node    |     Objective Bounds      |     Work\n",
      " Expl Unexpl |  Obj  Depth IntInf | Incumbent    BestBd   Gap | It/Node Time\n",
      "\n",
      "*    0     0               0      10.0000000   10.00000  0.00%     -    0s\n",
      "\n",
      "Explored 1 nodes (8 simplex iterations) in 0.10 seconds (0.00 work units)\n",
      "Thread count was 12 (of 12 available processors)\n",
      "\n",
      "Solution count 2: 10 15 \n",
      "\n",
      "Optimal solution found (tolerance 1.00e-04)\n",
      "Best objective 1.000000000000e+01, best bound 1.000000000000e+01, gap 0.0000%\n",
      "---------------------------------------------------------------------------\n",
      "\n",
      "Multi-objectives: optimize objective 2 () ...\n",
      "---------------------------------------------------------------------------\n",
      "\n",
      "\n",
      "Loaded user MIP start with objective 810\n",
      "\n",
      "Presolve removed 17 rows and 20 columns\n",
      "Presolve time: 0.02s\n",
      "Presolve: All rows and columns removed\n",
      "\n",
      "Explored 0 nodes (0 simplex iterations) in 0.15 seconds (0.00 work units)\n",
      "Thread count was 1 (of 12 available processors)\n",
      "\n",
      "Solution count 2: 705 810 \n",
      "\n",
      "Optimal solution found (tolerance 1.00e-04)\n",
      "Best objective 7.050000000000e+02, best bound 7.050000000000e+02, gap 0.0000%\n",
      "\n",
      "---------------------------------------------------------------------------\n",
      "Multi-objectives: solved in 0.20 seconds (0.00 work units), solution count 3\n",
      "\n"
     ]
    }
   ],
   "source": [
    "model.optimize()"
   ]
  },
  {
   "cell_type": "code",
   "execution_count": 14,
   "metadata": {},
   "outputs": [
    {
     "data": {
      "text/plain": [
       "10.0"
      ]
     },
     "execution_count": 14,
     "metadata": {},
     "output_type": "execute_result"
    }
   ],
   "source": [
    "costo_instalacion_camara.getValue()"
   ]
  },
  {
   "cell_type": "code",
   "execution_count": 15,
   "metadata": {},
   "outputs": [
    {
     "data": {
      "text/plain": [
       "705.0"
      ]
     },
     "execution_count": 15,
     "metadata": {},
     "output_type": "execute_result"
    }
   ],
   "source": [
    "radiacion_wifi.getValue()"
   ]
  },
  {
   "cell_type": "code",
   "execution_count": 16,
   "metadata": {},
   "outputs": [],
   "source": [
    "plt.style.use(\"ggplot\")"
   ]
  },
  {
   "cell_type": "code",
   "execution_count": 17,
   "metadata": {},
   "outputs": [],
   "source": [
    "# Definiendo Grafo\n",
    "G = nx.Graph()\n",
    "\n",
    "# Añadiendo nodos de cámaras y zonas\n",
    "G.add_nodes_from(list(map(str, PUNTOS)))\n",
    "G.add_nodes_from(ZONAS)\n",
    "\n",
    "# Construyendo aristas\n",
    "edges = []\n",
    "for punto, covertura in ALPHA.items():\n",
    "    for zone, vigila in covertura.items():\n",
    "        if vigila == 1:\n",
    "            edges.append((str(punto), zone))\n",
    "\n",
    "# Añadiendo aristas al grafo\n",
    "G.add_edges_from(edges)\n",
    "\n",
    "# Configurando el diseño para la visualización del grafo\n",
    "pos_alpha = nx.spring_layout(G, seed=43)  # Usando el diseño de resorte (spring layout)\n"
   ]
  },
  {
   "cell_type": "code",
   "execution_count": 18,
   "metadata": {},
   "outputs": [
    {
     "data": {
      "image/png": "[encoded data removed]",
      "text/plain": [
       "<Figure size 1000x800 with 1 Axes>"
      ]
     },
     "metadata": {},
     "output_type": "display_data"
    }
   ],
   "source": [
    "plt.figure(figsize=(10, 8))\n",
    "nx.draw_networkx_nodes(G, pos_alpha, nodelist=ZONAS, node_color=\"lightblue\", node_size=700)\n",
    "nx.draw_networkx_nodes(G, pos_alpha, node_shape=\"s\", nodelist=list(map(str, PUNTOS)), node_color=\"gray\", node_size=700)\n",
    "\n",
    "nx.draw_networkx_labels(G, pos_alpha)\n",
    "nx.draw_networkx_edges(G, pos_alpha)\n",
    "\n",
    "plt.title(\"INSTALACIÓN CÁMARAS\")\n",
    "plt.show()"
   ]
  },
  {
   "cell_type": "code",
   "execution_count": 19,
   "metadata": {},
   "outputs": [
    {
     "data": {
      "image/png": "[encoded data removed]",
      "text/plain": [
       "<Figure size 1000x800 with 1 Axes>"
      ]
     },
     "metadata": {},
     "output_type": "display_data"
    }
   ],
   "source": [
    "plt.figure(figsize=(10, 8))\n",
    "nx.draw_networkx_nodes(G, pos_alpha, nodelist=ZONAS, node_color=\"lightblue\", node_size=700)\n",
    "nx.draw_networkx_nodes(G, pos_alpha, node_shape=\"s\", nodelist=list(map(str, PUNTOS)), node_color=[\"lightgreen\" if x[punto].X > 0.9 else \"gray\" for punto in PUNTOS], node_size=700)\n",
    "\n",
    "nx.draw_networkx_labels(G, pos_alpha)\n",
    "nx.draw_networkx_edges(G, pos_alpha)\n",
    "\n",
    "plt.title(f\"INSTALACIÓN CÁMARAS - COSTO INSTLACIÓN: {costo_instalacion_camara.getValue()}\")\n",
    "plt.show()"
   ]
  },
  {
   "cell_type": "code",
   "execution_count": 20,
   "metadata": {},
   "outputs": [
    {
     "data": {
      "image/png": "[encoded data removed]",
      "text/plain": [
       "<Figure size 1000x800 with 1 Axes>"
      ]
     },
     "metadata": {},
     "output_type": "display_data"
    }
   ],
   "source": [
    "plt.figure(figsize=(10, 8))\n",
    "nx.draw_networkx_nodes(G, pos_alpha, nodelist=ZONAS, node_color=\"lightblue\", node_size=700)\n",
    "nx.draw_networkx_nodes(G, pos_alpha, node_shape=\"s\", nodelist=list(map(str, PUNTOS)), node_color=[\"yellow\" if w[punto].X > 0.9 else \"gray\" for punto in PUNTOS], node_size=700)\n",
    "\n",
    "nx.draw_networkx_labels(G, pos_alpha)\n",
    "nx.draw_networkx_edges(G, pos_alpha)\n",
    "\n",
    "plt.title(f\"INSTALACIÓN WIFI - RADIACIÓN WIFI: {radiacion_wifi.getValue()}\")\n",
    "plt.show()"
   ]
  },
  {
   "cell_type": "code",
   "execution_count": 21,
   "metadata": {},
   "outputs": [
    {
     "data": {
      "application/vnd.plotly.v1+json": {
       "config": {
        "plotlyServerURL": "https://plot.ly"
       },
       "data": [
        {
         "hoverinfo": "none",
         "line": {
          "color": "gray",
          "width": 2
         },
         "mode": "lines",
         "showlegend": false,
         "type": "scatter",
         "x": [
          -0.7795187721627017,
          -0.5744194688019235,
          null,
          -0.7795187721627017,
          -0.7396641338370609,
          null,
          -0.28391485366892205,
          -0.5744194688019235,
          null,
          -0.28391485366892205,
          0.07898209930320439,
          null,
          -0.4159685154944977,
          -0.5744194688019235,
          null,
          -0.4159685154944977,
          -0.19760840828681683,
          null,
          0.4312662876916571,
          0.07898209930320439,
          null,
          0.4312662876916571,
          0.6665347559756785,
          null,
          0.054325201914486324,
          0.07898209930320439,
          null,
          0.054325201914486324,
          0.054172772734677466,
          null,
          0.7174587528664228,
          0.3881526330402482,
          null,
          0.7174587528664228,
          1,
          null,
          0.7174587528664228,
          0.6665347559756785,
          null,
          0.17628683419581914,
          -0.1312245440231001,
          null,
          0.17628683419581914,
          0.3881526330402482,
          null,
          0.04559083493104517,
          -0.19760840828681683,
          null,
          0.04559083493104517,
          -0.1312245440231001,
          null,
          0.04559083493104517,
          0.054172772734677466,
          null,
          0.04559083493104517,
          0.3881526330402482,
          null,
          -0.4904514763782157,
          -0.1312245440231001,
          null,
          -0.4904514763782157,
          -0.7396641338370609,
          null
         ],
         "y": [
          0.08076889133557186,
          0.3553639768847448,
          null,
          0.08076889133557186,
          -0.24353573028058417,
          null,
          0.5641798352305623,
          0.3553639768847448,
          null,
          0.5641798352305623,
          0.5450999795524178,
          null,
          0.1850607163892291,
          0.3553639768847448,
          null,
          0.1850607163892291,
          -0.03380297840609983,
          null,
          0.47005398970936235,
          0.5450999795524178,
          null,
          0.47005398970936235,
          0.22062326506728794,
          null,
          0.2927785520328425,
          0.5450999795524178,
          null,
          0.2927785520328425,
          0.0006166336627634893,
          null,
          -0.12024252733903819,
          -0.333646244891869,
          null,
          -0.12024252733903819,
          -0.1842659655093421,
          null,
          -0.12024252733903819,
          0.22062326506728794,
          null,
          -0.5584793359562014,
          -0.5115507422849707,
          null,
          -0.5584793359562014,
          -0.333646244891869,
          null,
          -0.2594938112926938,
          -0.03380297840609983,
          null,
          -0.2594938112926938,
          -0.5115507422849707,
          null,
          -0.2594938112926938,
          0.0006166336627634893,
          null,
          -0.2594938112926938,
          -0.333646244891869,
          null,
          -0.4695285039039826,
          -0.5115507422849707,
          null,
          -0.4695285039039826,
          -0.24353573028058417,
          null
         ]
        },
        {
         "hoverinfo": "text",
         "marker": {
          "color": "lightblue",
          "size": 40
         },
         "mode": "markers",
         "name": "Zonas",
         "text": [
          "A"
         ],
         "type": "scatter",
         "x": [
          -0.5744194688019235
         ],
         "y": [
          0.3553639768847448
         ]
        },
        {
         "hoverinfo": "text",
         "marker": {
          "color": "lightblue",
          "size": 40
         },
         "mode": "markers",
         "name": "Zonas",
         "text": [
          "B"
         ],
         "type": "scatter",
         "x": [
          -0.19760840828681683
         ],
         "y": [
          -0.03380297840609983
         ]
        },
        {
         "hoverinfo": "text",
         "marker": {
          "color": "lightblue",
          "size": 40
         },
         "mode": "markers",
         "name": "Zonas",
         "text": [
          "C"
         ],
         "type": "scatter",
         "x": [
          -0.1312245440231001
         ],
         "y": [
          -0.5115507422849707
         ]
        },
        {
         "hoverinfo": "text",
         "marker": {
          "color": "lightblue",
          "size": 40
         },
         "mode": "markers",
         "name": "Zonas",
         "text": [
          "D"
         ],
         "type": "scatter",
         "x": [
          -0.7396641338370609
         ],
         "y": [
          -0.24353573028058417
         ]
        },
        {
         "hoverinfo": "text",
         "marker": {
          "color": "lightblue",
          "size": 40
         },
         "mode": "markers",
         "name": "Zonas",
         "text": [
          "E"
         ],
         "type": "scatter",
         "x": [
          0.07898209930320439
         ],
         "y": [
          0.5450999795524178
         ]
        },
        {
         "hoverinfo": "text",
         "marker": {
          "color": "lightblue",
          "size": 40
         },
         "mode": "markers",
         "name": "Zonas",
         "text": [
          "F"
         ],
         "type": "scatter",
         "x": [
          0.054172772734677466
         ],
         "y": [
          0.0006166336627634893
         ]
        },
        {
         "hoverinfo": "text",
         "marker": {
          "color": "lightblue",
          "size": 40
         },
         "mode": "markers",
         "name": "Zonas",
         "text": [
          "G"
         ],
         "type": "scatter",
         "x": [
          0.3881526330402482
         ],
         "y": [
          -0.333646244891869
         ]
        },
        {
         "hoverinfo": "text",
         "marker": {
          "color": "lightblue",
          "size": 40
         },
         "mode": "markers",
         "name": "Zonas",
         "text": [
          "H"
         ],
         "type": "scatter",
         "x": [
          1
         ],
         "y": [
          -0.1842659655093421
         ]
        },
        {
         "hoverinfo": "text",
         "marker": {
          "color": "lightblue",
          "size": 40
         },
         "mode": "markers",
         "name": "Zonas",
         "text": [
          "I"
         ],
         "type": "scatter",
         "x": [
          0.6665347559756785
         ],
         "y": [
          0.22062326506728794
         ]
        },
        {
         "hoverinfo": "text",
         "marker": {
          "color": "lightgreen",
          "size": 30,
          "symbol": "square"
         },
         "mode": "markers",
         "name": "Puntos",
         "text": [
          "1"
         ],
         "type": "scatter",
         "x": [
          -0.7795187721627017
         ],
         "y": [
          0.08076889133557186
         ]
        },
        {
         "hoverinfo": "text",
         "marker": {
          "color": "silver",
          "size": 30,
          "symbol": "square"
         },
         "mode": "markers",
         "name": "Puntos",
         "text": [
          "2"
         ],
         "type": "scatter",
         "x": [
          -0.28391485366892205
         ],
         "y": [
          0.5641798352305623
         ]
        },
        {
         "hoverinfo": "text",
         "marker": {
          "color": "yellow",
          "size": 30,
          "symbol": "square"
         },
         "mode": "markers",
         "name": "Puntos",
         "text": [
          "3"
         ],
         "type": "scatter",
         "x": [
          -0.4159685154944977
         ],
         "y": [
          0.1850607163892291
         ]
        },
        {
         "hoverinfo": "text",
         "marker": {
          "color": "silver",
          "size": 30,
          "symbol": "square"
         },
         "mode": "markers",
         "name": "Puntos",
         "text": [
          "4"
         ],
         "type": "scatter",
         "x": [
          0.4312662876916571
         ],
         "y": [
          0.47005398970936235
         ]
        },
        {
         "hoverinfo": "text",
         "marker": {
          "color": "lightgreen",
          "size": 30,
          "symbol": "square"
         },
         "mode": "markers",
         "name": "Puntos",
         "text": [
          "5"
         ],
         "type": "scatter",
         "x": [
          0.054325201914486324
         ],
         "y": [
          0.2927785520328425
         ]
        },
        {
         "hoverinfo": "text",
         "marker": {
          "color": "lightgreen",
          "size": 30,
          "symbol": "square"
         },
         "mode": "markers",
         "name": "Puntos",
         "text": [
          "6"
         ],
         "type": "scatter",
         "x": [
          0.7174587528664228
         ],
         "y": [
          -0.12024252733903819
         ]
        },
        {
         "hoverinfo": "text",
         "marker": {
          "color": "silver",
          "size": 30,
          "symbol": "square"
         },
         "mode": "markers",
         "name": "Puntos",
         "text": [
          "7"
         ],
         "type": "scatter",
         "x": [
          0.17628683419581914
         ],
         "y": [
          -0.5584793359562014
         ]
        },
        {
         "hoverinfo": "text",
         "marker": {
          "color": "lightgreen",
          "size": 30,
          "symbol": "square"
         },
         "mode": "markers",
         "name": "Puntos",
         "text": [
          "8"
         ],
         "type": "scatter",
         "x": [
          0.04559083493104517
         ],
         "y": [
          -0.2594938112926938
         ]
        },
        {
         "hoverinfo": "text",
         "marker": {
          "color": "lightgreen",
          "size": 30,
          "symbol": "square"
         },
         "mode": "markers",
         "name": "Puntos",
         "text": [
          "9"
         ],
         "type": "scatter",
         "x": [
          -0.4904514763782157
         ],
         "y": [
          -0.4695285039039826
         ]
        },
        {
         "hoverinfo": "none",
         "mode": "text",
         "showlegend": false,
         "text": [
          "1"
         ],
         "textposition": "middle center",
         "type": "scatter",
         "x": [
          -0.7795187721627017
         ],
         "y": [
          0.08076889133557186
         ]
        },
        {
         "hoverinfo": "none",
         "mode": "text",
         "showlegend": false,
         "text": [
          "2"
         ],
         "textposition": "middle center",
         "type": "scatter",
         "x": [
          -0.28391485366892205
         ],
         "y": [
          0.5641798352305623
         ]
        },
        {
         "hoverinfo": "none",
         "mode": "text",
         "showlegend": false,
         "text": [
          "3"
         ],
         "textposition": "middle center",
         "type": "scatter",
         "x": [
          -0.4159685154944977
         ],
         "y": [
          0.1850607163892291
         ]
        },
        {
         "hoverinfo": "none",
         "mode": "text",
         "showlegend": false,
         "text": [
          "4"
         ],
         "textposition": "middle center",
         "type": "scatter",
         "x": [
          0.4312662876916571
         ],
         "y": [
          0.47005398970936235
         ]
        },
        {
         "hoverinfo": "none",
         "mode": "text",
         "showlegend": false,
         "text": [
          "5"
         ],
         "textposition": "middle center",
         "type": "scatter",
         "x": [
          0.054325201914486324
         ],
         "y": [
          0.2927785520328425
         ]
        },
        {
         "hoverinfo": "none",
         "mode": "text",
         "showlegend": false,
         "text": [
          "6"
         ],
         "textposition": "middle center",
         "type": "scatter",
         "x": [
          0.7174587528664228
         ],
         "y": [
          -0.12024252733903819
         ]
        },
        {
         "hoverinfo": "none",
         "mode": "text",
         "showlegend": false,
         "text": [
          "7"
         ],
         "textposition": "middle center",
         "type": "scatter",
         "x": [
          0.17628683419581914
         ],
         "y": [
          -0.5584793359562014
         ]
        },
        {
         "hoverinfo": "none",
         "mode": "text",
         "showlegend": false,
         "text": [
          "8"
         ],
         "textposition": "middle center",
         "type": "scatter",
         "x": [
          0.04559083493104517
         ],
         "y": [
          -0.2594938112926938
         ]
        },
        {
         "hoverinfo": "none",
         "mode": "text",
         "showlegend": false,
         "text": [
          "9"
         ],
         "textposition": "middle center",
         "type": "scatter",
         "x": [
          -0.4904514763782157
         ],
         "y": [
          -0.4695285039039826
         ]
        },
        {
         "hoverinfo": "none",
         "mode": "text",
         "showlegend": false,
         "text": [
          "A"
         ],
         "textposition": "middle center",
         "type": "scatter",
         "x": [
          -0.5744194688019235
         ],
         "y": [
          0.3553639768847448
         ]
        },
        {
         "hoverinfo": "none",
         "mode": "text",
         "showlegend": false,
         "text": [
          "B"
         ],
         "textposition": "middle center",
         "type": "scatter",
         "x": [
          -0.19760840828681683
         ],
         "y": [
          -0.03380297840609983
         ]
        },
        {
         "hoverinfo": "none",
         "mode": "text",
         "showlegend": false,
         "text": [
          "C"
         ],
         "textposition": "middle center",
         "type": "scatter",
         "x": [
          -0.1312245440231001
         ],
         "y": [
          -0.5115507422849707
         ]
        },
        {
         "hoverinfo": "none",
         "mode": "text",
         "showlegend": false,
         "text": [
          "D"
         ],
         "textposition": "middle center",
         "type": "scatter",
         "x": [
          -0.7396641338370609
         ],
         "y": [
          -0.24353573028058417
         ]
        },
        {
         "hoverinfo": "none",
         "mode": "text",
         "showlegend": false,
         "text": [
          "E"
         ],
         "textposition": "middle center",
         "type": "scatter",
         "x": [
          0.07898209930320439
         ],
         "y": [
          0.5450999795524178
         ]
        },
        {
         "hoverinfo": "none",
         "mode": "text",
         "showlegend": false,
         "text": [
          "F"
         ],
         "textposition": "middle center",
         "type": "scatter",
         "x": [
          0.054172772734677466
         ],
         "y": [
          0.0006166336627634893
         ]
        },
        {
         "hoverinfo": "none",
         "mode": "text",
         "showlegend": false,
         "text": [
          "G"
         ],
         "textposition": "middle center",
         "type": "scatter",
         "x": [
          0.3881526330402482
         ],
         "y": [
          -0.333646244891869
         ]
        },
        {
         "hoverinfo": "none",
         "mode": "text",
         "showlegend": false,
         "text": [
          "H"
         ],
         "textposition": "middle center",
         "type": "scatter",
         "x": [
          1
         ],
         "y": [
          -0.1842659655093421
         ]
        },
        {
         "hoverinfo": "none",
         "mode": "text",
         "showlegend": false,
         "text": [
          "I"
         ],
         "textposition": "middle center",
         "type": "scatter",
         "x": [
          0.6665347559756785
         ],
         "y": [
          0.22062326506728794
         ]
        }
       ],
       "layout": {
        "height": 650,
        "showlegend": false,
        "template": {
         "data": {
          "bar": [
           {
            "error_x": {
             "color": "rgb(51,51,51)"
            },
            "error_y": {
             "color": "rgb(51,51,51)"
            },
            "marker": {
             "line": {
              "color": "rgb(237,237,237)",
              "width": 0.5
             },
             "pattern": {
              "fillmode": "overlay",
              "size": 10,
              "solidity": 0.2
             }
            },
            "type": "bar"
           }
          ],
          "barpolar": [
           {
            "marker": {
             "line": {
              "color": "rgb(237,237,237)",
              "width": 0.5
             },
             "pattern": {
              "fillmode": "overlay",
              "size": 10,
              "solidity": 0.2
             }
            },
            "type": "barpolar"
           }
          ],
          "carpet": [
           {
            "aaxis": {
             "endlinecolor": "rgb(51,51,51)",
             "gridcolor": "white",
             "linecolor": "white",
             "minorgridcolor": "white",
             "startlinecolor": "rgb(51,51,51)"
            },
            "baxis": {
             "endlinecolor": "rgb(51,51,51)",
             "gridcolor": "white",
             "linecolor": "white",
             "minorgridcolor": "white",
             "startlinecolor": "rgb(51,51,51)"
            },
            "type": "carpet"
           }
          ],
          "choropleth": [
           {
            "colorbar": {
             "outlinewidth": 0,
             "tickcolor": "rgb(237,237,237)",
             "ticklen": 6,
             "ticks": "inside"
            },
            "type": "choropleth"
           }
          ],
          "contour": [
           {
            "colorbar": {
             "outlinewidth": 0,
             "tickcolor": "rgb(237,237,237)",
             "ticklen": 6,
             "ticks": "inside"
            },
            "colorscale": [
             [
              0,
              "rgb(20,44,66)"
             ],
             [
              1,
              "rgb(90,179,244)"
             ]
            ],
            "type": "contour"
           }
          ],
          "contourcarpet": [
           {
            "colorbar": {
             "outlinewidth": 0,
             "tickcolor": "rgb(237,237,237)",
             "ticklen": 6,
             "ticks": "inside"
            },
            "type": "contourcarpet"
           }
          ],
          "heatmap": [
           {
            "colorbar": {
             "outlinewidth": 0,
             "tickcolor": "rgb(237,237,237)",
             "ticklen": 6,
             "ticks": "inside"
            },
            "colorscale": [
             [
              0,
              "rgb(20,44,66)"
             ],
             [
              1,
              "rgb(90,179,244)"
             ]
            ],
            "type": "heatmap"
           }
          ],
          "heatmapgl": [
           {
            "colorbar": {
             "outlinewidth": 0,
             "tickcolor": "rgb(237,237,237)",
             "ticklen": 6,
             "ticks": "inside"
            },
            "colorscale": [
             [
              0,
              "rgb(20,44,66)"
             ],
             [
              1,
              "rgb(90,179,244)"
             ]
            ],
            "type": "heatmapgl"
           }
          ],
          "histogram": [
           {
            "marker": {
             "pattern": {
              "fillmode": "overlay",
              "size": 10,
              "solidity": 0.2
             }
            },
            "type": "histogram"
           }
          ],
          "histogram2d": [
           {
            "colorbar": {
             "outlinewidth": 0,
             "tickcolor": "rgb(237,237,237)",
             "ticklen": 6,
             "ticks": "inside"
            },
            "colorscale": [
             [
              0,
              "rgb(20,44,66)"
             ],
             [
              1,
              "rgb(90,179,244)"
             ]
            ],
            "type": "histogram2d"
           }
          ],
          "histogram2dcontour": [
           {
            "colorbar": {
             "outlinewidth": 0,
             "tickcolor": "rgb(237,237,237)",
             "ticklen": 6,
             "ticks": "inside"
            },
            "colorscale": [
             [
              0,
              "rgb(20,44,66)"
             ],
             [
              1,
              "rgb(90,179,244)"
             ]
            ],
            "type": "histogram2dcontour"
           }
          ],
          "mesh3d": [
           {
            "colorbar": {
             "outlinewidth": 0,
             "tickcolor": "rgb(237,237,237)",
             "ticklen": 6,
             "ticks": "inside"
            },
            "type": "mesh3d"
           }
          ],
          "parcoords": [
           {
            "line": {
             "colorbar": {
              "outlinewidth": 0,
              "tickcolor": "rgb(237,237,237)",
              "ticklen": 6,
              "ticks": "inside"
             }
            },
            "type": "parcoords"
           }
          ],
          "pie": [
           {
            "automargin": true,
            "type": "pie"
           }
          ],
          "scatter": [
           {
            "fillpattern": {
             "fillmode": "overlay",
             "size": 10,
             "solidity": 0.2
            },
            "type": "scatter"
           }
          ],
          "scatter3d": [
           {
            "line": {
             "colorbar": {
              "outlinewidth": 0,
              "tickcolor": "rgb(237,237,237)",
              "ticklen": 6,
              "ticks": "inside"
             }
            },
            "marker": {
             "colorbar": {
              "outlinewidth": 0,
              "tickcolor": "rgb(237,237,237)",
              "ticklen": 6,
              "ticks": "inside"
             }
            },
            "type": "scatter3d"
           }
          ],
          "scattercarpet": [
           {
            "marker": {
             "colorbar": {
              "outlinewidth": 0,
              "tickcolor": "rgb(237,237,237)",
              "ticklen": 6,
              "ticks": "inside"
             }
            },
            "type": "scattercarpet"
           }
          ],
          "scattergeo": [
           {
            "marker": {
             "colorbar": {
              "outlinewidth": 0,
              "tickcolor": "rgb(237,237,237)",
              "ticklen": 6,
              "ticks": "inside"
             }
            },
            "type": "scattergeo"
           }
          ],
          "scattergl": [
           {
            "marker": {
             "colorbar": {
              "outlinewidth": 0,
              "tickcolor": "rgb(237,237,237)",
              "ticklen": 6,
              "ticks": "inside"
             }
            },
            "type": "scattergl"
           }
          ],
          "scattermapbox": [
           {
            "marker": {
             "colorbar": {
              "outlinewidth": 0,
              "tickcolor": "rgb(237,237,237)",
              "ticklen": 6,
              "ticks": "inside"
             }
            },
            "type": "scattermapbox"
           }
          ],
          "scatterpolar": [
           {
            "marker": {
             "colorbar": {
              "outlinewidth": 0,
              "tickcolor": "rgb(237,237,237)",
              "ticklen": 6,
              "ticks": "inside"
             }
            },
            "type": "scatterpolar"
           }
          ],
          "scatterpolargl": [
           {
            "marker": {
             "colorbar": {
              "outlinewidth": 0,
              "tickcolor": "rgb(237,237,237)",
              "ticklen": 6,
              "ticks": "inside"
             }
            },
            "type": "scatterpolargl"
           }
          ],
          "scatterternary": [
           {
            "marker": {
             "colorbar": {
              "outlinewidth": 0,
              "tickcolor": "rgb(237,237,237)",
              "ticklen": 6,
              "ticks": "inside"
             }
            },
            "type": "scatterternary"
           }
          ],
          "surface": [
           {
            "colorbar": {
             "outlinewidth": 0,
             "tickcolor": "rgb(237,237,237)",
             "ticklen": 6,
             "ticks": "inside"
            },
            "colorscale": [
             [
              0,
              "rgb(20,44,66)"
             ],
             [
              1,
              "rgb(90,179,244)"
             ]
            ],
            "type": "surface"
           }
          ],
          "table": [
           {
            "cells": {
             "fill": {
              "color": "rgb(237,237,237)"
             },
             "line": {
              "color": "white"
             }
            },
            "header": {
             "fill": {
              "color": "rgb(217,217,217)"
             },
             "line": {
              "color": "white"
             }
            },
            "type": "table"
           }
          ]
         },
         "layout": {
          "annotationdefaults": {
           "arrowhead": 0,
           "arrowwidth": 1
          },
          "autotypenumbers": "strict",
          "coloraxis": {
           "colorbar": {
            "outlinewidth": 0,
            "tickcolor": "rgb(237,237,237)",
            "ticklen": 6,
            "ticks": "inside"
           }
          },
          "colorscale": {
           "sequential": [
            [
             0,
             "rgb(20,44,66)"
            ],
            [
             1,
             "rgb(90,179,244)"
            ]
           ],
           "sequentialminus": [
            [
             0,
             "rgb(20,44,66)"
            ],
            [
             1,
             "rgb(90,179,244)"
            ]
           ]
          },
          "colorway": [
           "#F8766D",
           "#A3A500",
           "#00BF7D",
           "#00B0F6",
           "#E76BF3"
          ],
          "font": {
           "color": "rgb(51,51,51)"
          },
          "geo": {
           "bgcolor": "white",
           "lakecolor": "white",
           "landcolor": "rgb(237,237,237)",
           "showlakes": true,
           "showland": true,
           "subunitcolor": "white"
          },
          "hoverlabel": {
           "align": "left"
          },
          "hovermode": "closest",
          "paper_bgcolor": "white",
          "plot_bgcolor": "rgb(237,237,237)",
          "polar": {
           "angularaxis": {
            "gridcolor": "white",
            "linecolor": "white",
            "showgrid": true,
            "tickcolor": "rgb(51,51,51)",
            "ticks": "outside"
           },
           "bgcolor": "rgb(237,237,237)",
           "radialaxis": {
            "gridcolor": "white",
            "linecolor": "white",
            "showgrid": true,
            "tickcolor": "rgb(51,51,51)",
            "ticks": "outside"
           }
          },
          "scene": {
           "xaxis": {
            "backgroundcolor": "rgb(237,237,237)",
            "gridcolor": "white",
            "gridwidth": 2,
            "linecolor": "white",
            "showbackground": true,
            "showgrid": true,
            "tickcolor": "rgb(51,51,51)",
            "ticks": "outside",
            "zerolinecolor": "white"
           },
           "yaxis": {
            "backgroundcolor": "rgb(237,237,237)",
            "gridcolor": "white",
            "gridwidth": 2,
            "linecolor": "white",
            "showbackground": true,
            "showgrid": true,
            "tickcolor": "rgb(51,51,51)",
            "ticks": "outside",
            "zerolinecolor": "white"
           },
           "zaxis": {
            "backgroundcolor": "rgb(237,237,237)",
            "gridcolor": "white",
            "gridwidth": 2,
            "linecolor": "white",
            "showbackground": true,
            "showgrid": true,
            "tickcolor": "rgb(51,51,51)",
            "ticks": "outside",
            "zerolinecolor": "white"
           }
          },
          "shapedefaults": {
           "fillcolor": "black",
           "line": {
            "width": 0
           },
           "opacity": 0.3
          },
          "ternary": {
           "aaxis": {
            "gridcolor": "white",
            "linecolor": "white",
            "showgrid": true,
            "tickcolor": "rgb(51,51,51)",
            "ticks": "outside"
           },
           "baxis": {
            "gridcolor": "white",
            "linecolor": "white",
            "showgrid": true,
            "tickcolor": "rgb(51,51,51)",
            "ticks": "outside"
           },
           "bgcolor": "rgb(237,237,237)",
           "caxis": {
            "gridcolor": "white",
            "linecolor": "white",
            "showgrid": true,
            "tickcolor": "rgb(51,51,51)",
            "ticks": "outside"
           }
          },
          "xaxis": {
           "automargin": true,
           "gridcolor": "white",
           "linecolor": "white",
           "showgrid": true,
           "tickcolor": "rgb(51,51,51)",
           "ticks": "outside",
           "title": {
            "standoff": 15
           },
           "zerolinecolor": "white"
          },
          "yaxis": {
           "automargin": true,
           "gridcolor": "white",
           "linecolor": "white",
           "showgrid": true,
           "tickcolor": "rgb(51,51,51)",
           "ticks": "outside",
           "title": {
            "standoff": 15
           },
           "zerolinecolor": "white"
          }
         }
        },
        "title": {
         "text": "INSTALACIÓN CAMARAS <br /> COSTO INSTLACIÓN: 10.0 - COSTO RADIACIÓN: 705.0"
        },
        "width": 800,
        "xaxis": {
         "showgrid": false,
         "visible": false,
         "zeroline": false
        },
        "yaxis": {
         "showgrid": false,
         "visible": false,
         "zeroline": false
        }
       }
      }
     },
     "metadata": {},
     "output_type": "display_data"
    }
   ],
   "source": [
    "# Crear la figura\n",
    "fig = go.Figure()\n",
    "\n",
    "# Agregar bordes\n",
    "edge_x = []\n",
    "edge_y = []\n",
    "for edge in G.edges():\n",
    "    x0, y0 = pos_alpha[edge[0]]\n",
    "    x1, y1 = pos_alpha[edge[1]]\n",
    "    edge_x.extend([x0, x1, None])\n",
    "    edge_y.extend([y0, y1, None])\n",
    "\n",
    "fig.add_trace(go.Scatter(x=edge_x, y=edge_y, mode=\"lines\", line=dict(width=2, color=\"gray\"), hoverinfo=\"none\", showlegend=False))\n",
    "\n",
    "# Agregar nodos de ZONAS\n",
    "for zona in ZONAS:\n",
    "    coord_x, coord_y = pos_alpha[zona]\n",
    "    fig.add_trace(go.Scatter(x=[coord_x], y=[coord_y], mode=\"markers\", marker=dict(size=40, color=\"lightblue\"), name=\"Zonas\", text=[zona], hoverinfo=\"text\"))\n",
    "\n",
    "# Agregar nodos de PUNTOS\n",
    "for punto in PUNTOS:\n",
    "    coord_x, coord_y = pos_alpha[str(punto)]\n",
    "    color = \"silver\"\n",
    "    if x[punto].X > 0.9:\n",
    "        color = \"lightgreen\"\n",
    "    if w[punto].X > 0.9:\n",
    "        color = \"yellow\"\n",
    "    fig.add_trace(go.Scatter(x=[coord_x], y=[coord_y], mode=\"markers\", marker=dict(size=30, color=color, symbol=\"square\"), name=\"Puntos\", text=[str(punto)], hoverinfo=\"text\"))\n",
    "\n",
    "# Agregar etiquetas\n",
    "for node, (coord_x, coord_y) in pos_alpha.items():\n",
    "    fig.add_trace(go.Scatter(x=[coord_x], y=[coord_y], mode=\"text\", text=[node], textposition=\"middle center\", hoverinfo=\"none\", showlegend=False))\n",
    "\n",
    "\n",
    "\n",
    "fig.update_layout(\n",
    "    title=f\"INSTALACIÓN CAMARAS <br /> COSTO INSTLACIÓN: {costo_instalacion_camara.getValue()} - RADIACIÓN WIFI: {radiacion_wifi.getValue()}\",\n",
    "    showlegend=False,\n",
    "    xaxis=dict(showgrid=False, zeroline=False, visible=False),\n",
    "    yaxis=dict(showgrid=False, zeroline=False, visible=False),\n",
    "    width=800,\n",
    "    height=650,\n",
    "    template=\"ggplot2\",\n",
    ")\n",
    "\n",
    "# Mostrar la figura\n",
    "fig.show()"
   ]
  }
 ],
 "metadata": {
  "kernelspec": {
   "display_name": "Python 3.7.11 ('base')",
   "language": "python",
   "name": "python3"
  },
  "language_info": {
   "codemirror_mode": {
    "name": "ipython",
    "version": 3
   },
   "file_extension": ".py",
   "mimetype": "text/x-python",
   "name": "python",
   "nbconvert_exporter": "python",
   "pygments_lexer": "ipython3",
   "version": "3.10.10"
  },
  "orig_nbformat": 4,
  "vscode": {
   "interpreter": {
    "hash": "d90077ce7125d20909e99e912648307be4f32fccb58a5fb76bf45800dc67acda"
   }
  }
 },
 "nbformat": 4,
 "nbformat_minor": 2
}
