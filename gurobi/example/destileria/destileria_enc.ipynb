{
 "cells": [
  {
   "cell_type": "markdown",
   "metadata": {},
   "source": [
    "## **DESTILERÍA VALLE AROMÁTICO**\n",
    "\n",
    "La empresa Valle Aromático es una pequeña destilería que se especializa en la producción y venta de licores artesanales, utilizando ingredientes locales de alta calidad. Producen dos tipos de licores: gin artesanal y licor de hierbas, cada uno con un volumen de 500 ml por botella. El precio de venta del gin artesanal es de 50,000 COP y el licor de hierbas se vende a 40,000 COP. Los costos asociados con la producción, incluyendo ingredientes, mano de obra y otros gastos operativos, son de 25,000 COP por botella de gin y 20,000 COP por botella de licor de hierbas.\n",
    "\n",
    "Para la elaboración de estos licores, se requieren dos ingredientes principales: alcohol base y esencias botánicas. Se necesitan 350 ml de alcohol base y 15 ml de esencias botánicas para producir una botella de gin artesanal, mientras que se requieren 300 ml de alcohol base y 20 ml de esencias botánicas para una botella de licor de hierbas. Cada semana, Valle Aromático dispone de 200 litros de alcohol base y 10 litros de esencias botánicas. Mientras que la demanda de gin artesanal es ilimitada, la demanda de licor de hierbas no supera las 500 botellas por semana.\n",
    "\n",
    "El objetivo de Valle Aromático es maximizar sus ganancias, definidas como los ingresos menos los costos de producción. Para lograr este fin, necesitan desarrollar un modelo matemático que represente esta situación y les permita alcanzar su meta de maximización de ganancias.\n"
   ]
  }
 ],
 "metadata": {
  "kernelspec": {
   "display_name": "Python 3",
   "language": "python",
   "name": "python3"
  },
  "language_info": {
   "codemirror_mode": {
    "name": "ipython",
    "version": 3
   },
   "file_extension": ".py",
   "mimetype": "text/x-python",
   "name": "python",
   "nbconvert_exporter": "python",
   "pygments_lexer": "ipython3",
   "version": "3.10.10"
  }
 },
 "nbformat": 4,
 "nbformat_minor": 2
}
