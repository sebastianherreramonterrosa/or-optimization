{
 "cells": [
  {
   "cell_type": "code",
   "execution_count": 67,
   "metadata": {},
   "outputs": [],
   "source": [
    "from ortools.constraint_solver import routing_enums_pb2\n",
    "from ortools.constraint_solver import pywrapcp\n",
    "import random\n",
    "import re\n",
    "import time\n",
    "import plotly.graph_objects as go\n",
    "import plotly.express as px\n",
    "import itertools"
   ]
  },
  {
   "attachments": {},
   "cell_type": "markdown",
   "metadata": {},
   "source": [
    "**Conjuntos**\n",
    "\n",
    "$$ \\text{CLIENTES} = \\{1, 2, \\ldots, N\\} $$\n",
    "$$ \\text{NODOS} = \\{0\\} \\cup \\text{CLIENTES} $$\n",
    "$$ \\text{CAMIONES} = \\{1, 2, 3, 4, 5, 6, 7\\} $$"
   ]
  },
  {
   "cell_type": "code",
   "execution_count": 68,
   "metadata": {},
   "outputs": [],
   "source": [
    "N = 20\n",
    "CLIENTES = list(range(1, N + 1))\n",
    "NODOS = [0] + CLIENTES\n",
    "CAMIONES = [1, 2, 3, 4, 5]"
   ]
  },
  {
   "cell_type": "code",
   "execution_count": 69,
   "metadata": {},
   "outputs": [],
   "source": [
    "random.seed(142)"
   ]
  },
  {
   "attachments": {},
   "cell_type": "markdown",
   "metadata": {},
   "source": [
    "**Parámetros**\n",
    "\n",
    "$$ \\text{CAPACIDAD\\_CAMION}_c = 70 \\text{ para cada camión } c \\in \\text{CAMIONES} $$\n",
    "$$ \\text{DEMANDA}_{cl}: \\text{Demanda del cliente } cl \\in \\text{CLIENTES} $$\n",
    "$$ \\text{DISTANCIAS}_{n1,n2}: \\text{Distancia euclidiana entre } n1 \\in \\text{NODOS} \\text{ y } n2 \\in \\text{NODOS} $$"
   ]
  },
  {
   "cell_type": "code",
   "execution_count": 70,
   "metadata": {},
   "outputs": [],
   "source": [
    "CAPACIDAD_CAMION = {c: 70 for c in CAMIONES}\n",
    "DEMANDAS = {c: random.randint(10, 20) for c in CLIENTES}\n",
    "COORDENADAS = {n: {\"x\": random.randint(0, N * 10), \"y\": random.randint(0, N * 10)} for n in NODOS}\n",
    "DISTANCIAS = {(n1, n2): round(((COORDENADAS[n1][\"x\"] - COORDENADAS[n2][\"x\"]) ** 2 + (COORDENADAS[n1][\"y\"] - COORDENADAS[n2][\"y\"]) ** 2) ** 0.5) for n1 in NODOS for n2 in NODOS}"
   ]
  },
  {
   "cell_type": "code",
   "execution_count": 71,
   "metadata": {},
   "outputs": [
    {
     "data": {
      "application/vnd.plotly.v1+json": {
       "config": {
        "plotlyServerURL": "https://plot.ly"
       },
       "data": [
        {
         "marker": {
          "color": "red",
          "size": 15
         },
         "mode": "markers",
         "name": "Depósito",
         "type": "scatter",
         "x": [
          121
         ],
         "y": [
          63
         ]
        },
        {
         "marker": {
          "color": "black",
          "size": 10
         },
         "mode": "markers",
         "name": "Clientes",
         "type": "scatter",
         "x": [
          25,
          80,
          84,
          16,
          199,
          197,
          68,
          182,
          112,
          200,
          183,
          83,
          28,
          169,
          182,
          7,
          191,
          128,
          82,
          29
         ],
         "y": [
          176,
          133,
          22,
          123,
          164,
          30,
          34,
          1,
          96,
          61,
          194,
          102,
          75,
          68,
          89,
          5,
          60,
          47,
          188,
          85
         ]
        }
       ],
       "layout": {
        "annotations": [
         {
          "showarrow": false,
          "text": "<b>C1: </b> 19",
          "x": 17,
          "y": 184
         },
         {
          "showarrow": false,
          "text": "<b>C2: </b> 20",
          "x": 72,
          "y": 141
         },
         {
          "showarrow": false,
          "text": "<b>C3: </b> 20",
          "x": 76,
          "y": 30
         },
         {
          "showarrow": false,
          "text": "<b>C4: </b> 17",
          "x": 8,
          "y": 131
         },
         {
          "showarrow": false,
          "text": "<b>C5: </b> 12",
          "x": 191,
          "y": 172
         },
         {
          "showarrow": false,
          "text": "<b>C6: </b> 17",
          "x": 189,
          "y": 38
         },
         {
          "showarrow": false,
          "text": "<b>C7: </b> 14",
          "x": 60,
          "y": 42
         },
         {
          "showarrow": false,
          "text": "<b>C8: </b> 15",
          "x": 174,
          "y": 9
         },
         {
          "showarrow": false,
          "text": "<b>C9: </b> 15",
          "x": 104,
          "y": 104
         },
         {
          "showarrow": false,
          "text": "<b>C10: </b> 14",
          "x": 192,
          "y": 69
         },
         {
          "showarrow": false,
          "text": "<b>C11: </b> 10",
          "x": 175,
          "y": 202
         },
         {
          "showarrow": false,
          "text": "<b>C12: </b> 11",
          "x": 75,
          "y": 110
         },
         {
          "showarrow": false,
          "text": "<b>C13: </b> 14",
          "x": 20,
          "y": 83
         },
         {
          "showarrow": false,
          "text": "<b>C14: </b> 12",
          "x": 161,
          "y": 76
         },
         {
          "showarrow": false,
          "text": "<b>C15: </b> 19",
          "x": 174,
          "y": 97
         },
         {
          "showarrow": false,
          "text": "<b>C16: </b> 18",
          "x": -1,
          "y": 13
         },
         {
          "showarrow": false,
          "text": "<b>C17: </b> 13",
          "x": 183,
          "y": 68
         },
         {
          "showarrow": false,
          "text": "<b>C18: </b> 19",
          "x": 120,
          "y": 55
         },
         {
          "showarrow": false,
          "text": "<b>C19: </b> 18",
          "x": 74,
          "y": 196
         },
         {
          "showarrow": false,
          "text": "<b>C20: </b> 10",
          "x": 21,
          "y": 93
         }
        ],
        "height": 600,
        "template": {
         "data": {
          "bar": [
           {
            "error_x": {
             "color": "rgb(51,51,51)"
            },
            "error_y": {
             "color": "rgb(51,51,51)"
            },
            "marker": {
             "line": {
              "color": "rgb(237,237,237)",
              "width": 0.5
             },
             "pattern": {
              "fillmode": "overlay",
              "size": 10,
              "solidity": 0.2
             }
            },
            "type": "bar"
           }
          ],
          "barpolar": [
           {
            "marker": {
             "line": {
              "color": "rgb(237,237,237)",
              "width": 0.5
             },
             "pattern": {
              "fillmode": "overlay",
              "size": 10,
              "solidity": 0.2
             }
            },
            "type": "barpolar"
           }
          ],
          "carpet": [
           {
            "aaxis": {
             "endlinecolor": "rgb(51,51,51)",
             "gridcolor": "white",
             "linecolor": "white",
             "minorgridcolor": "white",
             "startlinecolor": "rgb(51,51,51)"
            },
            "baxis": {
             "endlinecolor": "rgb(51,51,51)",
             "gridcolor": "white",
             "linecolor": "white",
             "minorgridcolor": "white",
             "startlinecolor": "rgb(51,51,51)"
            },
            "type": "carpet"
           }
          ],
          "choropleth": [
           {
            "colorbar": {
             "outlinewidth": 0,
             "tickcolor": "rgb(237,237,237)",
             "ticklen": 6,
             "ticks": "inside"
            },
            "type": "choropleth"
           }
          ],
          "contour": [
           {
            "colorbar": {
             "outlinewidth": 0,
             "tickcolor": "rgb(237,237,237)",
             "ticklen": 6,
             "ticks": "inside"
            },
            "colorscale": [
             [
              0,
              "rgb(20,44,66)"
             ],
             [
              1,
              "rgb(90,179,244)"
             ]
            ],
            "type": "contour"
           }
          ],
          "contourcarpet": [
           {
            "colorbar": {
             "outlinewidth": 0,
             "tickcolor": "rgb(237,237,237)",
             "ticklen": 6,
             "ticks": "inside"
            },
            "type": "contourcarpet"
           }
          ],
          "heatmap": [
           {
            "colorbar": {
             "outlinewidth": 0,
             "tickcolor": "rgb(237,237,237)",
             "ticklen": 6,
             "ticks": "inside"
            },
            "colorscale": [
             [
              0,
              "rgb(20,44,66)"
             ],
             [
              1,
              "rgb(90,179,244)"
             ]
            ],
            "type": "heatmap"
           }
          ],
          "heatmapgl": [
           {
            "colorbar": {
             "outlinewidth": 0,
             "tickcolor": "rgb(237,237,237)",
             "ticklen": 6,
             "ticks": "inside"
            },
            "colorscale": [
             [
              0,
              "rgb(20,44,66)"
             ],
             [
              1,
              "rgb(90,179,244)"
             ]
            ],
            "type": "heatmapgl"
           }
          ],
          "histogram": [
           {
            "marker": {
             "pattern": {
              "fillmode": "overlay",
              "size": 10,
              "solidity": 0.2
             }
            },
            "type": "histogram"
           }
          ],
          "histogram2d": [
           {
            "colorbar": {
             "outlinewidth": 0,
             "tickcolor": "rgb(237,237,237)",
             "ticklen": 6,
             "ticks": "inside"
            },
            "colorscale": [
             [
              0,
              "rgb(20,44,66)"
             ],
             [
              1,
              "rgb(90,179,244)"
             ]
            ],
            "type": "histogram2d"
           }
          ],
          "histogram2dcontour": [
           {
            "colorbar": {
             "outlinewidth": 0,
             "tickcolor": "rgb(237,237,237)",
             "ticklen": 6,
             "ticks": "inside"
            },
            "colorscale": [
             [
              0,
              "rgb(20,44,66)"
             ],
             [
              1,
              "rgb(90,179,244)"
             ]
            ],
            "type": "histogram2dcontour"
           }
          ],
          "mesh3d": [
           {
            "colorbar": {
             "outlinewidth": 0,
             "tickcolor": "rgb(237,237,237)",
             "ticklen": 6,
             "ticks": "inside"
            },
            "type": "mesh3d"
           }
          ],
          "parcoords": [
           {
            "line": {
             "colorbar": {
              "outlinewidth": 0,
              "tickcolor": "rgb(237,237,237)",
              "ticklen": 6,
              "ticks": "inside"
             }
            },
            "type": "parcoords"
           }
          ],
          "pie": [
           {
            "automargin": true,
            "type": "pie"
           }
          ],
          "scatter": [
           {
            "fillpattern": {
             "fillmode": "overlay",
             "size": 10,
             "solidity": 0.2
            },
            "type": "scatter"
           }
          ],
          "scatter3d": [
           {
            "line": {
             "colorbar": {
              "outlinewidth": 0,
              "tickcolor": "rgb(237,237,237)",
              "ticklen": 6,
              "ticks": "inside"
             }
            },
            "marker": {
             "colorbar": {
              "outlinewidth": 0,
              "tickcolor": "rgb(237,237,237)",
              "ticklen": 6,
              "ticks": "inside"
             }
            },
            "type": "scatter3d"
           }
          ],
          "scattercarpet": [
           {
            "marker": {
             "colorbar": {
              "outlinewidth": 0,
              "tickcolor": "rgb(237,237,237)",
              "ticklen": 6,
              "ticks": "inside"
             }
            },
            "type": "scattercarpet"
           }
          ],
          "scattergeo": [
           {
            "marker": {
             "colorbar": {
              "outlinewidth": 0,
              "tickcolor": "rgb(237,237,237)",
              "ticklen": 6,
              "ticks": "inside"
             }
            },
            "type": "scattergeo"
           }
          ],
          "scattergl": [
           {
            "marker": {
             "colorbar": {
              "outlinewidth": 0,
              "tickcolor": "rgb(237,237,237)",
              "ticklen": 6,
              "ticks": "inside"
             }
            },
            "type": "scattergl"
           }
          ],
          "scattermapbox": [
           {
            "marker": {
             "colorbar": {
              "outlinewidth": 0,
              "tickcolor": "rgb(237,237,237)",
              "ticklen": 6,
              "ticks": "inside"
             }
            },
            "type": "scattermapbox"
           }
          ],
          "scatterpolar": [
           {
            "marker": {
             "colorbar": {
              "outlinewidth": 0,
              "tickcolor": "rgb(237,237,237)",
              "ticklen": 6,
              "ticks": "inside"
             }
            },
            "type": "scatterpolar"
           }
          ],
          "scatterpolargl": [
           {
            "marker": {
             "colorbar": {
              "outlinewidth": 0,
              "tickcolor": "rgb(237,237,237)",
              "ticklen": 6,
              "ticks": "inside"
             }
            },
            "type": "scatterpolargl"
           }
          ],
          "scatterternary": [
           {
            "marker": {
             "colorbar": {
              "outlinewidth": 0,
              "tickcolor": "rgb(237,237,237)",
              "ticklen": 6,
              "ticks": "inside"
             }
            },
            "type": "scatterternary"
           }
          ],
          "surface": [
           {
            "colorbar": {
             "outlinewidth": 0,
             "tickcolor": "rgb(237,237,237)",
             "ticklen": 6,
             "ticks": "inside"
            },
            "colorscale": [
             [
              0,
              "rgb(20,44,66)"
             ],
             [
              1,
              "rgb(90,179,244)"
             ]
            ],
            "type": "surface"
           }
          ],
          "table": [
           {
            "cells": {
             "fill": {
              "color": "rgb(237,237,237)"
             },
             "line": {
              "color": "white"
             }
            },
            "header": {
             "fill": {
              "color": "rgb(217,217,217)"
             },
             "line": {
              "color": "white"
             }
            },
            "type": "table"
           }
          ]
         },
         "layout": {
          "annotationdefaults": {
           "arrowhead": 0,
           "arrowwidth": 1
          },
          "autotypenumbers": "strict",
          "coloraxis": {
           "colorbar": {
            "outlinewidth": 0,
            "tickcolor": "rgb(237,237,237)",
            "ticklen": 6,
            "ticks": "inside"
           }
          },
          "colorscale": {
           "sequential": [
            [
             0,
             "rgb(20,44,66)"
            ],
            [
             1,
             "rgb(90,179,244)"
            ]
           ],
           "sequentialminus": [
            [
             0,
             "rgb(20,44,66)"
            ],
            [
             1,
             "rgb(90,179,244)"
            ]
           ]
          },
          "colorway": [
           "#F8766D",
           "#A3A500",
           "#00BF7D",
           "#00B0F6",
           "#E76BF3"
          ],
          "font": {
           "color": "rgb(51,51,51)"
          },
          "geo": {
           "bgcolor": "white",
           "lakecolor": "white",
           "landcolor": "rgb(237,237,237)",
           "showlakes": true,
           "showland": true,
           "subunitcolor": "white"
          },
          "hoverlabel": {
           "align": "left"
          },
          "hovermode": "closest",
          "paper_bgcolor": "white",
          "plot_bgcolor": "rgb(237,237,237)",
          "polar": {
           "angularaxis": {
            "gridcolor": "white",
            "linecolor": "white",
            "showgrid": true,
            "tickcolor": "rgb(51,51,51)",
            "ticks": "outside"
           },
           "bgcolor": "rgb(237,237,237)",
           "radialaxis": {
            "gridcolor": "white",
            "linecolor": "white",
            "showgrid": true,
            "tickcolor": "rgb(51,51,51)",
            "ticks": "outside"
           }
          },
          "scene": {
           "xaxis": {
            "backgroundcolor": "rgb(237,237,237)",
            "gridcolor": "white",
            "gridwidth": 2,
            "linecolor": "white",
            "showbackground": true,
            "showgrid": true,
            "tickcolor": "rgb(51,51,51)",
            "ticks": "outside",
            "zerolinecolor": "white"
           },
           "yaxis": {
            "backgroundcolor": "rgb(237,237,237)",
            "gridcolor": "white",
            "gridwidth": 2,
            "linecolor": "white",
            "showbackground": true,
            "showgrid": true,
            "tickcolor": "rgb(51,51,51)",
            "ticks": "outside",
            "zerolinecolor": "white"
           },
           "zaxis": {
            "backgroundcolor": "rgb(237,237,237)",
            "gridcolor": "white",
            "gridwidth": 2,
            "linecolor": "white",
            "showbackground": true,
            "showgrid": true,
            "tickcolor": "rgb(51,51,51)",
            "ticks": "outside",
            "zerolinecolor": "white"
           }
          },
          "shapedefaults": {
           "fillcolor": "black",
           "line": {
            "width": 0
           },
           "opacity": 0.3
          },
          "ternary": {
           "aaxis": {
            "gridcolor": "white",
            "linecolor": "white",
            "showgrid": true,
            "tickcolor": "rgb(51,51,51)",
            "ticks": "outside"
           },
           "baxis": {
            "gridcolor": "white",
            "linecolor": "white",
            "showgrid": true,
            "tickcolor": "rgb(51,51,51)",
            "ticks": "outside"
           },
           "bgcolor": "rgb(237,237,237)",
           "caxis": {
            "gridcolor": "white",
            "linecolor": "white",
            "showgrid": true,
            "tickcolor": "rgb(51,51,51)",
            "ticks": "outside"
           }
          },
          "xaxis": {
           "automargin": true,
           "gridcolor": "white",
           "linecolor": "white",
           "showgrid": true,
           "tickcolor": "rgb(51,51,51)",
           "ticks": "outside",
           "title": {
            "standoff": 15
           },
           "zerolinecolor": "white"
          },
          "yaxis": {
           "automargin": true,
           "gridcolor": "white",
           "linecolor": "white",
           "showgrid": true,
           "tickcolor": "rgb(51,51,51)",
           "ticks": "outside",
           "title": {
            "standoff": 15
           },
           "zerolinecolor": "white"
          }
         }
        },
        "title": {
         "text": "COORDENADAS NODOS"
        },
        "width": 800,
        "xaxis": {
         "range": [
          -10,
          210
         ],
         "title": {
          "text": "X"
         }
        },
        "yaxis": {
         "range": [
          -10,
          210
         ],
         "title": {
          "text": "Y"
         }
        }
       }
      }
     },
     "metadata": {},
     "output_type": "display_data"
    }
   ],
   "source": [
    "fig = go.Figure()\n",
    "\n",
    "# Añadir punto de depósito en rojo\n",
    "fig.add_trace(\n",
    "    go.Scatter(\n",
    "        x=[COORDENADAS[0][\"x\"]],\n",
    "        y=[COORDENADAS[0][\"y\"]],\n",
    "        mode=\"markers\",\n",
    "        name=\"Depósito\",\n",
    "        marker=dict(color=\"red\", size=15),\n",
    "    )\n",
    ")\n",
    "\n",
    "# Añadir puntos de clientes en negro\n",
    "fig.add_trace(\n",
    "    go.Scatter(\n",
    "        x=[coord[\"x\"] for coord in list(COORDENADAS.values())[1:]],\n",
    "        y=[coord[\"y\"] for coord in list(COORDENADAS.values())[1:]],\n",
    "        mode=\"markers\",\n",
    "        name=\"Clientes\",\n",
    "        marker=dict(color=\"black\", size=10),\n",
    "    )\n",
    ")\n",
    "\n",
    "# Añadir anotaciones de clientes\n",
    "for cliente in CLIENTES:\n",
    "    coord_cliente_x = COORDENADAS[cliente][\"x\"]\n",
    "    coord_cliente_y = COORDENADAS[cliente][\"y\"]\n",
    "    fig.add_annotation(x=coord_cliente_x - 8, y=coord_cliente_y + 8, text=f\"<b>C{cliente}: </b> {DEMANDAS[cliente]}\", showarrow=False)\n",
    "\n",
    "# Configurar el layout del gráfico\n",
    "fig.update_layout(\n",
    "    title=f\"COORDENADAS NODOS\",\n",
    "    xaxis_title=\"X\",\n",
    "    yaxis_title=\"Y\",\n",
    "    xaxis=dict(range=[-10, N * 10 + 10]),\n",
    "    yaxis=dict(range=[-10, N * 10 + 10]),\n",
    "    width=800,\n",
    "    height=600,\n",
    "    template=\"ggplot2\",\n",
    ")\n",
    "\n",
    "fig.show()"
   ]
  },
  {
   "cell_type": "code",
   "execution_count": 72,
   "metadata": {},
   "outputs": [],
   "source": [
    "# Crear el problema de enrutamiento\n",
    "manager = pywrapcp.RoutingIndexManager(len(NODOS), len(CAMIONES), 0)\n",
    "routing = pywrapcp.RoutingModel(manager)"
   ]
  },
  {
   "cell_type": "code",
   "execution_count": 73,
   "metadata": {},
   "outputs": [
    {
     "data": {
      "text/plain": [
       "True"
      ]
     },
     "execution_count": 73,
     "metadata": {},
     "output_type": "execute_result"
    }
   ],
   "source": [
    "# Crear y registrar una función de callback para las distancias\n",
    "def distancia_callback(from_index, to_index):\n",
    "    from_node = manager.IndexToNode(from_index)\n",
    "    to_node = manager.IndexToNode(to_index)\n",
    "    return DISTANCIAS[from_node, to_node]\n",
    "\n",
    "\n",
    "transit_callback_index = routing.RegisterTransitCallback(distancia_callback)\n",
    "routing.SetArcCostEvaluatorOfAllVehicles(transit_callback_index)\n",
    "\n",
    "\n",
    "# Agregar restricción de capacidad\n",
    "def demand_callback(from_index):\n",
    "    from_node = manager.IndexToNode(from_index)\n",
    "    return DEMANDAS.get(from_node, 0)\n",
    "\n",
    "\n",
    "demand_callback_index = routing.RegisterUnaryTransitCallback(demand_callback)\n",
    "routing.AddDimensionWithVehicleCapacity(demand_callback_index, 0, [CAPACIDAD_CAMION[c] for c in CAMIONES], True, \"Capacity\")  # slack  # capacidades de vehículos  # start cumul to zero\n"
   ]
  },
  {
   "cell_type": "code",
   "execution_count": 74,
   "metadata": {},
   "outputs": [],
   "source": [
    "# Configuración de parámetros de búsqueda\n",
    "search_parameters = pywrapcp.DefaultRoutingSearchParameters()\n",
    "search_parameters.first_solution_strategy = routing_enums_pb2.FirstSolutionStrategy.PATH_CHEAPEST_ARC\n",
    "search_parameters.local_search_metaheuristic = routing_enums_pb2.LocalSearchMetaheuristic.GUIDED_LOCAL_SEARCH\n",
    "search_parameters.time_limit.seconds = 30"
   ]
  },
  {
   "cell_type": "code",
   "execution_count": 75,
   "metadata": {},
   "outputs": [],
   "source": [
    "# Resolver el problema\n",
    "solution = routing.SolveWithParameters(search_parameters)"
   ]
  },
  {
   "cell_type": "code",
   "execution_count": 76,
   "metadata": {},
   "outputs": [
    {
     "name": "stdout",
     "output_type": "stream",
     "text": [
      "Route for vehicle 1:\n",
      " 0 -> 8 -> 6 -> 10 -> 17 -> 0\n",
      "Distance of the route: 230m\n",
      "\n",
      "Route for vehicle 2:\n",
      " 0 -> 9 -> 11 -> 5 -> 15 -> 14 -> 0\n",
      "Distance of the route: 339m\n",
      "\n",
      "Route for vehicle 3:\n",
      " 0 -> 12 -> 1 -> 19 -> 2 -> 0\n",
      "Distance of the route: 342m\n",
      "\n",
      "Route for vehicle 4:\n",
      " 0 -> 7 -> 3 -> 18 -> 0\n",
      "Distance of the route: 148m\n",
      "\n",
      "Route for vehicle 5:\n",
      " 0 -> 4 -> 20 -> 13 -> 16 -> 0\n",
      "Distance of the route: 372m\n",
      "\n",
      "Total Distance of all routes: 1431m\n"
     ]
    }
   ],
   "source": [
    "if solution:\n",
    "    total_distance = 0\n",
    "    for vehicle_id in range(len(CAMIONES)):\n",
    "        index = routing.Start(vehicle_id)\n",
    "        plan_output = \"Route for vehicle {}:\\n\".format(CAMIONES[vehicle_id])\n",
    "        route_distance = 0\n",
    "        while not routing.IsEnd(index):\n",
    "            plan_output += \" {} ->\".format(manager.IndexToNode(index))\n",
    "            previous_index = index\n",
    "            index = solution.Value(routing.NextVar(index))\n",
    "            route_distance += routing.GetArcCostForVehicle(previous_index, index, vehicle_id)\n",
    "        plan_output += \" {}\\n\".format(manager.IndexToNode(index))\n",
    "        plan_output += \"Distance of the route: {}m\\n\".format(route_distance)\n",
    "        print(plan_output)\n",
    "        total_distance += route_distance\n",
    "    print(\"Total Distance of all routes: {}m\".format(total_distance))\n",
    "else:\n",
    "    print(\"No solution found!\")\n"
   ]
  },
  {
   "cell_type": "code",
   "execution_count": 77,
   "metadata": {},
   "outputs": [],
   "source": [
    "rutas = {}\n",
    "if solution:\n",
    "    total_distance = 0\n",
    "    for vehicle_id in range(len(CAMIONES)):\n",
    "        index = routing.Start(vehicle_id)\n",
    "        route = []\n",
    "        route_distance = 0\n",
    "        while not routing.IsEnd(index):\n",
    "            node_index = manager.IndexToNode(index)\n",
    "            route.append(node_index)\n",
    "            index = solution.Value(routing.NextVar(index))\n",
    "            route_distance += routing.GetArcCostForVehicle(previous_index, index, vehicle_id)\n",
    "        total_distance += route_distance\n",
    "        route.append(manager.IndexToNode(index))\n",
    "        rutas[CAMIONES[vehicle_id]] = route"
   ]
  },
  {
   "cell_type": "code",
   "execution_count": 78,
   "metadata": {},
   "outputs": [],
   "source": [
    "fo = sum(sum([DISTANCIAS[(ruta[i], ruta[i + 1])] for i in range(len(ruta) - 1)]) for ruta in rutas.values())"
   ]
  },
  {
   "cell_type": "code",
   "execution_count": 79,
   "metadata": {},
   "outputs": [
    {
     "data": {
      "application/vnd.plotly.v1+json": {
       "config": {
        "plotlyServerURL": "https://plot.ly"
       },
       "data": [
        {
         "line": {
          "color": "#DC3912",
          "dash": "solid",
          "width": 2
         },
         "mode": "lines",
         "name": "Ruta C1 - CAP: 59 D: 230.00",
         "type": "scatter",
         "x": [
          121,
          182,
          197,
          200,
          191,
          121
         ],
         "y": [
          63,
          1,
          30,
          61,
          60,
          63
         ]
        },
        {
         "line": {
          "color": "#FF9900",
          "dash": "solid",
          "width": 2
         },
         "mode": "lines",
         "name": "Ruta C2 - CAP: 68 D: 339.00",
         "type": "scatter",
         "x": [
          121,
          112,
          183,
          199,
          182,
          169,
          121
         ],
         "y": [
          63,
          96,
          194,
          164,
          89,
          68,
          63
         ]
        },
        {
         "line": {
          "color": "#109618",
          "dash": "solid",
          "width": 2
         },
         "mode": "lines",
         "name": "Ruta C3 - CAP: 68 D: 342.00",
         "type": "scatter",
         "x": [
          121,
          83,
          25,
          82,
          80,
          121
         ],
         "y": [
          63,
          102,
          176,
          188,
          133,
          63
         ]
        },
        {
         "line": {
          "color": "#990099",
          "dash": "solid",
          "width": 2
         },
         "mode": "lines",
         "name": "Ruta C4 - CAP: 53 D: 148.00",
         "type": "scatter",
         "x": [
          121,
          68,
          84,
          128,
          121
         ],
         "y": [
          63,
          34,
          22,
          47,
          63
         ]
        },
        {
         "line": {
          "color": "#0099C6",
          "dash": "solid",
          "width": 2
         },
         "mode": "lines",
         "name": "Ruta C5 - CAP: 59 D: 372.00",
         "type": "scatter",
         "x": [
          121,
          16,
          29,
          28,
          7,
          121
         ],
         "y": [
          63,
          123,
          85,
          75,
          5,
          63
         ]
        },
        {
         "marker": {
          "color": "red",
          "size": 15
         },
         "mode": "markers",
         "name": "Depósito",
         "type": "scatter",
         "x": [
          121
         ],
         "y": [
          63
         ]
        },
        {
         "marker": {
          "color": "black",
          "size": 10
         },
         "mode": "markers",
         "name": "Clientes",
         "type": "scatter",
         "x": [
          25,
          80,
          84,
          16,
          199,
          197,
          68,
          182,
          112,
          200,
          183,
          83,
          28,
          169,
          182,
          7,
          191,
          128,
          82,
          29
         ],
         "y": [
          176,
          133,
          22,
          123,
          164,
          30,
          34,
          1,
          96,
          61,
          194,
          102,
          75,
          68,
          89,
          5,
          60,
          47,
          188,
          85
         ]
        }
       ],
       "layout": {
        "annotations": [
         {
          "arrowcolor": "#DC3912",
          "arrowhead": 1,
          "arrowsize": 2,
          "arrowwidth": 1,
          "ax": 145.4,
          "axref": "x",
          "ay": 38.2,
          "ayref": "y",
          "showarrow": true,
          "x": 151.5,
          "xref": "x",
          "y": 32,
          "yref": "y"
         },
         {
          "arrowcolor": "#DC3912",
          "arrowhead": 1,
          "arrowsize": 2,
          "arrowwidth": 1,
          "ax": 188,
          "axref": "x",
          "ay": 12.6,
          "ayref": "y",
          "showarrow": true,
          "x": 189.5,
          "xref": "x",
          "y": 15.5,
          "yref": "y"
         },
         {
          "arrowcolor": "#DC3912",
          "arrowhead": 1,
          "arrowsize": 2,
          "arrowwidth": 1,
          "ax": 198.2,
          "axref": "x",
          "ay": 42.4,
          "ayref": "y",
          "showarrow": true,
          "x": 198.5,
          "xref": "x",
          "y": 45.5,
          "yref": "y"
         },
         {
          "arrowcolor": "#DC3912",
          "arrowhead": 1,
          "arrowsize": 2,
          "arrowwidth": 1,
          "ax": 196.4,
          "axref": "x",
          "ay": 60.6,
          "ayref": "y",
          "showarrow": true,
          "x": 195.5,
          "xref": "x",
          "y": 60.5,
          "yref": "y"
         },
         {
          "arrowcolor": "#DC3912",
          "arrowhead": 1,
          "arrowsize": 2,
          "arrowwidth": 1,
          "ax": 163,
          "axref": "x",
          "ay": 61.2,
          "ayref": "y",
          "showarrow": true,
          "x": 156,
          "xref": "x",
          "y": 61.5,
          "yref": "y"
         },
         {
          "arrowcolor": "#FF9900",
          "arrowhead": 1,
          "arrowsize": 2,
          "arrowwidth": 1,
          "ax": 117.4,
          "axref": "x",
          "ay": 76.2,
          "ayref": "y",
          "showarrow": true,
          "x": 116.5,
          "xref": "x",
          "y": 79.5,
          "yref": "y"
         },
         {
          "arrowcolor": "#FF9900",
          "arrowhead": 1,
          "arrowsize": 2,
          "arrowwidth": 1,
          "ax": 140.4,
          "axref": "x",
          "ay": 135.2,
          "ayref": "y",
          "showarrow": true,
          "x": 147.5,
          "xref": "x",
          "y": 145,
          "yref": "y"
         },
         {
          "arrowcolor": "#FF9900",
          "arrowhead": 1,
          "arrowsize": 2,
          "arrowwidth": 1,
          "ax": 189.4,
          "axref": "x",
          "ay": 182,
          "ayref": "y",
          "showarrow": true,
          "x": 191,
          "xref": "x",
          "y": 179,
          "yref": "y"
         },
         {
          "arrowcolor": "#FF9900",
          "arrowhead": 1,
          "arrowsize": 2,
          "arrowwidth": 1,
          "ax": 192.2,
          "axref": "x",
          "ay": 134,
          "ayref": "y",
          "showarrow": true,
          "x": 190.5,
          "xref": "x",
          "y": 126.5,
          "yref": "y"
         },
         {
          "arrowcolor": "#FF9900",
          "arrowhead": 1,
          "arrowsize": 2,
          "arrowwidth": 1,
          "ax": 176.8,
          "axref": "x",
          "ay": 80.6,
          "ayref": "y",
          "showarrow": true,
          "x": 175.5,
          "xref": "x",
          "y": 78.5,
          "yref": "y"
         },
         {
          "arrowcolor": "#FF9900",
          "arrowhead": 1,
          "arrowsize": 2,
          "arrowwidth": 1,
          "ax": 149.8,
          "axref": "x",
          "ay": 66,
          "ayref": "y",
          "showarrow": true,
          "x": 145,
          "xref": "x",
          "y": 65.5,
          "yref": "y"
         },
         {
          "arrowcolor": "#109618",
          "arrowhead": 1,
          "arrowsize": 2,
          "arrowwidth": 1,
          "ax": 105.8,
          "axref": "x",
          "ay": 78.6,
          "ayref": "y",
          "showarrow": true,
          "x": 102,
          "xref": "x",
          "y": 82.5,
          "yref": "y"
         },
         {
          "arrowcolor": "#109618",
          "arrowhead": 1,
          "arrowsize": 2,
          "arrowwidth": 1,
          "ax": 59.8,
          "axref": "x",
          "ay": 131.6,
          "ayref": "y",
          "showarrow": true,
          "x": 54,
          "xref": "x",
          "y": 139,
          "yref": "y"
         },
         {
          "arrowcolor": "#109618",
          "arrowhead": 1,
          "arrowsize": 2,
          "arrowwidth": 1,
          "ax": 47.8,
          "axref": "x",
          "ay": 180.8,
          "ayref": "y",
          "showarrow": true,
          "x": 53.5,
          "xref": "x",
          "y": 182,
          "yref": "y"
         },
         {
          "arrowcolor": "#109618",
          "arrowhead": 1,
          "arrowsize": 2,
          "arrowwidth": 1,
          "ax": 81.2,
          "axref": "x",
          "ay": 166,
          "ayref": "y",
          "showarrow": true,
          "x": 81,
          "xref": "x",
          "y": 160.5,
          "yref": "y"
         },
         {
          "arrowcolor": "#109618",
          "arrowhead": 1,
          "arrowsize": 2,
          "arrowwidth": 1,
          "ax": 96.4,
          "axref": "x",
          "ay": 105,
          "ayref": "y",
          "showarrow": true,
          "x": 100.5,
          "xref": "x",
          "y": 98,
          "yref": "y"
         },
         {
          "arrowcolor": "#990099",
          "arrowhead": 1,
          "arrowsize": 2,
          "arrowwidth": 1,
          "ax": 99.8,
          "axref": "x",
          "ay": 51.4,
          "ayref": "y",
          "showarrow": true,
          "x": 94.5,
          "xref": "x",
          "y": 48.5,
          "yref": "y"
         },
         {
          "arrowcolor": "#990099",
          "arrowhead": 1,
          "arrowsize": 2,
          "arrowwidth": 1,
          "ax": 74.4,
          "axref": "x",
          "ay": 29.2,
          "ayref": "y",
          "showarrow": true,
          "x": 76,
          "xref": "x",
          "y": 28,
          "yref": "y"
         },
         {
          "arrowcolor": "#990099",
          "arrowhead": 1,
          "arrowsize": 2,
          "arrowwidth": 1,
          "ax": 101.6,
          "axref": "x",
          "ay": 32,
          "ayref": "y",
          "showarrow": true,
          "x": 106,
          "xref": "x",
          "y": 34.5,
          "yref": "y"
         },
         {
          "arrowcolor": "#990099",
          "arrowhead": 1,
          "arrowsize": 2,
          "arrowwidth": 1,
          "ax": 125.2,
          "axref": "x",
          "ay": 53.4,
          "ayref": "y",
          "showarrow": true,
          "x": 124.5,
          "xref": "x",
          "y": 55,
          "yref": "y"
         },
         {
          "arrowcolor": "#0099C6",
          "arrowhead": 1,
          "arrowsize": 2,
          "arrowwidth": 1,
          "ax": 79,
          "axref": "x",
          "ay": 87,
          "ayref": "y",
          "showarrow": true,
          "x": 68.5,
          "xref": "x",
          "y": 93,
          "yref": "y"
         },
         {
          "arrowcolor": "#0099C6",
          "arrowhead": 1,
          "arrowsize": 2,
          "arrowwidth": 1,
          "ax": 21.2,
          "axref": "x",
          "ay": 107.8,
          "ayref": "y",
          "showarrow": true,
          "x": 22.5,
          "xref": "x",
          "y": 104,
          "yref": "y"
         },
         {
          "arrowcolor": "#0099C6",
          "arrowhead": 1,
          "arrowsize": 2,
          "arrowwidth": 1,
          "ax": 28.6,
          "axref": "x",
          "ay": 81,
          "ayref": "y",
          "showarrow": true,
          "x": 28.5,
          "xref": "x",
          "y": 80,
          "yref": "y"
         },
         {
          "arrowcolor": "#0099C6",
          "arrowhead": 1,
          "arrowsize": 2,
          "arrowwidth": 1,
          "ax": 19.6,
          "axref": "x",
          "ay": 47,
          "ayref": "y",
          "showarrow": true,
          "x": 17.5,
          "xref": "x",
          "y": 40,
          "yref": "y"
         },
         {
          "arrowcolor": "#0099C6",
          "arrowhead": 1,
          "arrowsize": 2,
          "arrowwidth": 1,
          "ax": 52.6,
          "axref": "x",
          "ay": 28.2,
          "ayref": "y",
          "showarrow": true,
          "x": 64,
          "xref": "x",
          "y": 34,
          "yref": "y"
         },
         {
          "showarrow": false,
          "text": "<b>C1: </b> 19",
          "x": 17,
          "y": 184
         },
         {
          "showarrow": false,
          "text": "<b>C2: </b> 20",
          "x": 72,
          "y": 141
         },
         {
          "showarrow": false,
          "text": "<b>C3: </b> 20",
          "x": 76,
          "y": 30
         },
         {
          "showarrow": false,
          "text": "<b>C4: </b> 17",
          "x": 8,
          "y": 131
         },
         {
          "showarrow": false,
          "text": "<b>C5: </b> 12",
          "x": 191,
          "y": 172
         },
         {
          "showarrow": false,
          "text": "<b>C6: </b> 17",
          "x": 189,
          "y": 38
         },
         {
          "showarrow": false,
          "text": "<b>C7: </b> 14",
          "x": 60,
          "y": 42
         },
         {
          "showarrow": false,
          "text": "<b>C8: </b> 15",
          "x": 174,
          "y": 9
         },
         {
          "showarrow": false,
          "text": "<b>C9: </b> 15",
          "x": 104,
          "y": 104
         },
         {
          "showarrow": false,
          "text": "<b>C10: </b> 14",
          "x": 192,
          "y": 69
         },
         {
          "showarrow": false,
          "text": "<b>C11: </b> 10",
          "x": 175,
          "y": 202
         },
         {
          "showarrow": false,
          "text": "<b>C12: </b> 11",
          "x": 75,
          "y": 110
         },
         {
          "showarrow": false,
          "text": "<b>C13: </b> 14",
          "x": 20,
          "y": 83
         },
         {
          "showarrow": false,
          "text": "<b>C14: </b> 12",
          "x": 161,
          "y": 76
         },
         {
          "showarrow": false,
          "text": "<b>C15: </b> 19",
          "x": 174,
          "y": 97
         },
         {
          "showarrow": false,
          "text": "<b>C16: </b> 18",
          "x": -1,
          "y": 13
         },
         {
          "showarrow": false,
          "text": "<b>C17: </b> 13",
          "x": 183,
          "y": 68
         },
         {
          "showarrow": false,
          "text": "<b>C18: </b> 19",
          "x": 120,
          "y": 55
         },
         {
          "showarrow": false,
          "text": "<b>C19: </b> 18",
          "x": 74,
          "y": 196
         },
         {
          "showarrow": false,
          "text": "<b>C20: </b> 10",
          "x": 21,
          "y": 93
         }
        ],
        "height": 600,
        "template": {
         "data": {
          "bar": [
           {
            "error_x": {
             "color": "rgb(51,51,51)"
            },
            "error_y": {
             "color": "rgb(51,51,51)"
            },
            "marker": {
             "line": {
              "color": "rgb(237,237,237)",
              "width": 0.5
             },
             "pattern": {
              "fillmode": "overlay",
              "size": 10,
              "solidity": 0.2
             }
            },
            "type": "bar"
           }
          ],
          "barpolar": [
           {
            "marker": {
             "line": {
              "color": "rgb(237,237,237)",
              "width": 0.5
             },
             "pattern": {
              "fillmode": "overlay",
              "size": 10,
              "solidity": 0.2
             }
            },
            "type": "barpolar"
           }
          ],
          "carpet": [
           {
            "aaxis": {
             "endlinecolor": "rgb(51,51,51)",
             "gridcolor": "white",
             "linecolor": "white",
             "minorgridcolor": "white",
             "startlinecolor": "rgb(51,51,51)"
            },
            "baxis": {
             "endlinecolor": "rgb(51,51,51)",
             "gridcolor": "white",
             "linecolor": "white",
             "minorgridcolor": "white",
             "startlinecolor": "rgb(51,51,51)"
            },
            "type": "carpet"
           }
          ],
          "choropleth": [
           {
            "colorbar": {
             "outlinewidth": 0,
             "tickcolor": "rgb(237,237,237)",
             "ticklen": 6,
             "ticks": "inside"
            },
            "type": "choropleth"
           }
          ],
          "contour": [
           {
            "colorbar": {
             "outlinewidth": 0,
             "tickcolor": "rgb(237,237,237)",
             "ticklen": 6,
             "ticks": "inside"
            },
            "colorscale": [
             [
              0,
              "rgb(20,44,66)"
             ],
             [
              1,
              "rgb(90,179,244)"
             ]
            ],
            "type": "contour"
           }
          ],
          "contourcarpet": [
           {
            "colorbar": {
             "outlinewidth": 0,
             "tickcolor": "rgb(237,237,237)",
             "ticklen": 6,
             "ticks": "inside"
            },
            "type": "contourcarpet"
           }
          ],
          "heatmap": [
           {
            "colorbar": {
             "outlinewidth": 0,
             "tickcolor": "rgb(237,237,237)",
             "ticklen": 6,
             "ticks": "inside"
            },
            "colorscale": [
             [
              0,
              "rgb(20,44,66)"
             ],
             [
              1,
              "rgb(90,179,244)"
             ]
            ],
            "type": "heatmap"
           }
          ],
          "heatmapgl": [
           {
            "colorbar": {
             "outlinewidth": 0,
             "tickcolor": "rgb(237,237,237)",
             "ticklen": 6,
             "ticks": "inside"
            },
            "colorscale": [
             [
              0,
              "rgb(20,44,66)"
             ],
             [
              1,
              "rgb(90,179,244)"
             ]
            ],
            "type": "heatmapgl"
           }
          ],
          "histogram": [
           {
            "marker": {
             "pattern": {
              "fillmode": "overlay",
              "size": 10,
              "solidity": 0.2
             }
            },
            "type": "histogram"
           }
          ],
          "histogram2d": [
           {
            "colorbar": {
             "outlinewidth": 0,
             "tickcolor": "rgb(237,237,237)",
             "ticklen": 6,
             "ticks": "inside"
            },
            "colorscale": [
             [
              0,
              "rgb(20,44,66)"
             ],
             [
              1,
              "rgb(90,179,244)"
             ]
            ],
            "type": "histogram2d"
           }
          ],
          "histogram2dcontour": [
           {
            "colorbar": {
             "outlinewidth": 0,
             "tickcolor": "rgb(237,237,237)",
             "ticklen": 6,
             "ticks": "inside"
            },
            "colorscale": [
             [
              0,
              "rgb(20,44,66)"
             ],
             [
              1,
              "rgb(90,179,244)"
             ]
            ],
            "type": "histogram2dcontour"
           }
          ],
          "mesh3d": [
           {
            "colorbar": {
             "outlinewidth": 0,
             "tickcolor": "rgb(237,237,237)",
             "ticklen": 6,
             "ticks": "inside"
            },
            "type": "mesh3d"
           }
          ],
          "parcoords": [
           {
            "line": {
             "colorbar": {
              "outlinewidth": 0,
              "tickcolor": "rgb(237,237,237)",
              "ticklen": 6,
              "ticks": "inside"
             }
            },
            "type": "parcoords"
           }
          ],
          "pie": [
           {
            "automargin": true,
            "type": "pie"
           }
          ],
          "scatter": [
           {
            "fillpattern": {
             "fillmode": "overlay",
             "size": 10,
             "solidity": 0.2
            },
            "type": "scatter"
           }
          ],
          "scatter3d": [
           {
            "line": {
             "colorbar": {
              "outlinewidth": 0,
              "tickcolor": "rgb(237,237,237)",
              "ticklen": 6,
              "ticks": "inside"
             }
            },
            "marker": {
             "colorbar": {
              "outlinewidth": 0,
              "tickcolor": "rgb(237,237,237)",
              "ticklen": 6,
              "ticks": "inside"
             }
            },
            "type": "scatter3d"
           }
          ],
          "scattercarpet": [
           {
            "marker": {
             "colorbar": {
              "outlinewidth": 0,
              "tickcolor": "rgb(237,237,237)",
              "ticklen": 6,
              "ticks": "inside"
             }
            },
            "type": "scattercarpet"
           }
          ],
          "scattergeo": [
           {
            "marker": {
             "colorbar": {
              "outlinewidth": 0,
              "tickcolor": "rgb(237,237,237)",
              "ticklen": 6,
              "ticks": "inside"
             }
            },
            "type": "scattergeo"
           }
          ],
          "scattergl": [
           {
            "marker": {
             "colorbar": {
              "outlinewidth": 0,
              "tickcolor": "rgb(237,237,237)",
              "ticklen": 6,
              "ticks": "inside"
             }
            },
            "type": "scattergl"
           }
          ],
          "scattermapbox": [
           {
            "marker": {
             "colorbar": {
              "outlinewidth": 0,
              "tickcolor": "rgb(237,237,237)",
              "ticklen": 6,
              "ticks": "inside"
             }
            },
            "type": "scattermapbox"
           }
          ],
          "scatterpolar": [
           {
            "marker": {
             "colorbar": {
              "outlinewidth": 0,
              "tickcolor": "rgb(237,237,237)",
              "ticklen": 6,
              "ticks": "inside"
             }
            },
            "type": "scatterpolar"
           }
          ],
          "scatterpolargl": [
           {
            "marker": {
             "colorbar": {
              "outlinewidth": 0,
              "tickcolor": "rgb(237,237,237)",
              "ticklen": 6,
              "ticks": "inside"
             }
            },
            "type": "scatterpolargl"
           }
          ],
          "scatterternary": [
           {
            "marker": {
             "colorbar": {
              "outlinewidth": 0,
              "tickcolor": "rgb(237,237,237)",
              "ticklen": 6,
              "ticks": "inside"
             }
            },
            "type": "scatterternary"
           }
          ],
          "surface": [
           {
            "colorbar": {
             "outlinewidth": 0,
             "tickcolor": "rgb(237,237,237)",
             "ticklen": 6,
             "ticks": "inside"
            },
            "colorscale": [
             [
              0,
              "rgb(20,44,66)"
             ],
             [
              1,
              "rgb(90,179,244)"
             ]
            ],
            "type": "surface"
           }
          ],
          "table": [
           {
            "cells": {
             "fill": {
              "color": "rgb(237,237,237)"
             },
             "line": {
              "color": "white"
             }
            },
            "header": {
             "fill": {
              "color": "rgb(217,217,217)"
             },
             "line": {
              "color": "white"
             }
            },
            "type": "table"
           }
          ]
         },
         "layout": {
          "annotationdefaults": {
           "arrowhead": 0,
           "arrowwidth": 1
          },
          "autotypenumbers": "strict",
          "coloraxis": {
           "colorbar": {
            "outlinewidth": 0,
            "tickcolor": "rgb(237,237,237)",
            "ticklen": 6,
            "ticks": "inside"
           }
          },
          "colorscale": {
           "sequential": [
            [
             0,
             "rgb(20,44,66)"
            ],
            [
             1,
             "rgb(90,179,244)"
            ]
           ],
           "sequentialminus": [
            [
             0,
             "rgb(20,44,66)"
            ],
            [
             1,
             "rgb(90,179,244)"
            ]
           ]
          },
          "colorway": [
           "#F8766D",
           "#A3A500",
           "#00BF7D",
           "#00B0F6",
           "#E76BF3"
          ],
          "font": {
           "color": "rgb(51,51,51)"
          },
          "geo": {
           "bgcolor": "white",
           "lakecolor": "white",
           "landcolor": "rgb(237,237,237)",
           "showlakes": true,
           "showland": true,
           "subunitcolor": "white"
          },
          "hoverlabel": {
           "align": "left"
          },
          "hovermode": "closest",
          "paper_bgcolor": "white",
          "plot_bgcolor": "rgb(237,237,237)",
          "polar": {
           "angularaxis": {
            "gridcolor": "white",
            "linecolor": "white",
            "showgrid": true,
            "tickcolor": "rgb(51,51,51)",
            "ticks": "outside"
           },
           "bgcolor": "rgb(237,237,237)",
           "radialaxis": {
            "gridcolor": "white",
            "linecolor": "white",
            "showgrid": true,
            "tickcolor": "rgb(51,51,51)",
            "ticks": "outside"
           }
          },
          "scene": {
           "xaxis": {
            "backgroundcolor": "rgb(237,237,237)",
            "gridcolor": "white",
            "gridwidth": 2,
            "linecolor": "white",
            "showbackground": true,
            "showgrid": true,
            "tickcolor": "rgb(51,51,51)",
            "ticks": "outside",
            "zerolinecolor": "white"
           },
           "yaxis": {
            "backgroundcolor": "rgb(237,237,237)",
            "gridcolor": "white",
            "gridwidth": 2,
            "linecolor": "white",
            "showbackground": true,
            "showgrid": true,
            "tickcolor": "rgb(51,51,51)",
            "ticks": "outside",
            "zerolinecolor": "white"
           },
           "zaxis": {
            "backgroundcolor": "rgb(237,237,237)",
            "gridcolor": "white",
            "gridwidth": 2,
            "linecolor": "white",
            "showbackground": true,
            "showgrid": true,
            "tickcolor": "rgb(51,51,51)",
            "ticks": "outside",
            "zerolinecolor": "white"
           }
          },
          "shapedefaults": {
           "fillcolor": "black",
           "line": {
            "width": 0
           },
           "opacity": 0.3
          },
          "ternary": {
           "aaxis": {
            "gridcolor": "white",
            "linecolor": "white",
            "showgrid": true,
            "tickcolor": "rgb(51,51,51)",
            "ticks": "outside"
           },
           "baxis": {
            "gridcolor": "white",
            "linecolor": "white",
            "showgrid": true,
            "tickcolor": "rgb(51,51,51)",
            "ticks": "outside"
           },
           "bgcolor": "rgb(237,237,237)",
           "caxis": {
            "gridcolor": "white",
            "linecolor": "white",
            "showgrid": true,
            "tickcolor": "rgb(51,51,51)",
            "ticks": "outside"
           }
          },
          "xaxis": {
           "automargin": true,
           "gridcolor": "white",
           "linecolor": "white",
           "showgrid": true,
           "tickcolor": "rgb(51,51,51)",
           "ticks": "outside",
           "title": {
            "standoff": 15
           },
           "zerolinecolor": "white"
          },
          "yaxis": {
           "automargin": true,
           "gridcolor": "white",
           "linecolor": "white",
           "showgrid": true,
           "tickcolor": "rgb(51,51,51)",
           "ticks": "outside",
           "title": {
            "standoff": 15
           },
           "zerolinecolor": "white"
          }
         }
        },
        "title": {
         "text": "RECORRIDO TOTAL: 1431.00"
        },
        "width": 800,
        "xaxis": {
         "range": [
          -10,
          210
         ],
         "title": {
          "text": "X"
         }
        },
        "yaxis": {
         "range": [
          -10,
          210
         ],
         "title": {
          "text": "Y"
         }
        }
       }
      }
     },
     "metadata": {},
     "output_type": "display_data"
    }
   ],
   "source": [
    "fig = go.Figure()\n",
    "\n",
    "# RUTAS\n",
    "for id_camion, ruta in rutas.items():\n",
    "    coords_x = [COORDENADAS[nodo][\"x\"] for nodo in ruta]\n",
    "    coords_y = [COORDENADAS[nodo][\"y\"] for nodo in ruta]\n",
    "    capacidad_ruta = sum(map(lambda x: DEMANDAS[x] if x != 0 else 0, ruta))\n",
    "    distancia_ruta = sum([DISTANCIAS[(ruta[i], ruta[i + 1])] for i in range(len(ruta) - 1)])\n",
    "\n",
    "    fig.add_trace(\n",
    "        go.Scatter(\n",
    "            x=coords_x,\n",
    "            y=coords_y,\n",
    "            mode=\"lines\",\n",
    "            line=dict(color=px.colors.qualitative.G10[id_camion % len(px.colors.qualitative.G10)], width=2, dash=\"solid\"),\n",
    "            name=f\"Ruta C{id_camion} - CAP: {capacidad_ruta} D: {distancia_ruta:.2f}\",\n",
    "        )\n",
    "    )\n",
    "\n",
    "    # FLECHAS\n",
    "    for i in range(len(ruta) - 1):\n",
    "        mid_x = (coords_x[i] + coords_x[i + 1]) / 2\n",
    "        mid_y = (coords_y[i] + coords_y[i + 1]) / 2\n",
    "        fig.add_annotation(\n",
    "            x=mid_x, y=mid_y,\n",
    "            ax=mid_x - (coords_x[i + 1] - coords_x[i]) * 0.1, ay=mid_y - (coords_y[i + 1] - coords_y[i]) * 0.1,\n",
    "            xref=\"x\",\n",
    "            yref=\"y\",\n",
    "            axref=\"x\",\n",
    "            ayref=\"y\",\n",
    "            showarrow=True,\n",
    "            arrowhead=1,\n",
    "            arrowsize=2,\n",
    "            arrowwidth=1,\n",
    "            arrowcolor=px.colors.qualitative.G10[id_camion % len(px.colors.qualitative.G10)],\n",
    "        )\n",
    "\n",
    "# DEPÓSITO\n",
    "fig.add_trace(\n",
    "    go.Scatter(\n",
    "        x=[COORDENADAS[0][\"x\"]],\n",
    "        y=[COORDENADAS[0][\"y\"]],\n",
    "        mode=\"markers\",\n",
    "        name=\"Depósito\",\n",
    "        marker=dict(color=\"red\", size=15),\n",
    "    )\n",
    ")\n",
    "\n",
    "# CLIENTES\n",
    "fig.add_trace(\n",
    "    go.Scatter(\n",
    "        x=[coord[\"x\"] for coord in list(COORDENADAS.values())[1:]],\n",
    "        y=[coord[\"y\"] for coord in list(COORDENADAS.values())[1:]],\n",
    "        mode=\"markers\",\n",
    "        name=\"Clientes\",\n",
    "        marker=dict(color=\"black\", size=10),\n",
    "    )\n",
    ")\n",
    "\n",
    "for cliente in CLIENTES:\n",
    "    coord_cliente_x = COORDENADAS[cliente][\"x\"]\n",
    "    coord_cliente_y = COORDENADAS[cliente][\"y\"]\n",
    "    fig.add_annotation(x=coord_cliente_x - 8, y=coord_cliente_y + 8, text=f\"<b>C{cliente}: </b> {DEMANDAS[cliente]}\", showarrow=False)\n",
    "\n",
    "\n",
    "fig.update_layout(\n",
    "    title=f\"RECORRIDO TOTAL: {fo:.2f}\",\n",
    "    xaxis_title=\"X\",\n",
    "    yaxis_title=\"Y\",\n",
    "    xaxis=dict(range=[-10, N * 10 + 10]),\n",
    "    yaxis=dict(range=[-10, N * 10 + 10]),\n",
    "    width=800,\n",
    "    height=600,\n",
    "    template=\"ggplot2\",\n",
    ")\n",
    "\n",
    "fig.show()"
   ]
  }
 ],
 "metadata": {
  "kernelspec": {
   "display_name": "Python 3.7.11 ('base')",
   "language": "python",
   "name": "python3"
  },
  "language_info": {
   "codemirror_mode": {
    "name": "ipython",
    "version": 3
   },
   "file_extension": ".py",
   "mimetype": "text/x-python",
   "name": "python",
   "nbconvert_exporter": "python",
   "pygments_lexer": "ipython3",
   "version": "3.10.10"
  },
  "orig_nbformat": 4,
  "vscode": {
   "interpreter": {
    "hash": "d90077ce7125d20909e99e912648307be4f32fccb58a5fb76bf45800dc67acda"
   }
  }
 },
 "nbformat": 4,
 "nbformat_minor": 2
}
