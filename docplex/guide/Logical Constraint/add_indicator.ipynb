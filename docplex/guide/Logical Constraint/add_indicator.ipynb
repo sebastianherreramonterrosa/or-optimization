{
 "cells": [
  {
   "cell_type": "code",
   "execution_count": 1,
   "metadata": {},
   "outputs": [],
   "source": [
    "from docplex.mp.model import Model"
   ]
  },
  {
   "cell_type": "code",
   "execution_count": 2,
   "metadata": {},
   "outputs": [],
   "source": [
    "model = Model()"
   ]
  },
  {
   "cell_type": "markdown",
   "metadata": {},
   "source": [
    "**add_indicator**\n",
    "- equivalenecia unidireccional\n",
    "- [biniria] -> [binaria, entera, continua]"
   ]
  },
  {
   "cell_type": "code",
   "execution_count": 3,
   "metadata": {},
   "outputs": [],
   "source": [
    "b = model.binary_var(name=\"b\")\n",
    "c = model.continuous_var(name=\"c\")\n",
    "i = model.integer_var(name=\"i\")"
   ]
  },
  {
   "cell_type": "code",
   "execution_count": 4,
   "metadata": {},
   "outputs": [
    {
     "data": {
      "text/plain": [
       "docplex.mp.LinearConstraint[](b,EQ,1)"
      ]
     },
     "execution_count": 4,
     "metadata": {},
     "output_type": "execute_result"
    }
   ],
   "source": [
    "## Inicialización de variables / Premisas\n",
    "model.add_constraint(b == 1)"
   ]
  },
  {
   "cell_type": "code",
   "execution_count": 5,
   "metadata": {},
   "outputs": [],
   "source": [
    "# model.add_indicator(b, c == 3.14, active_value=1)\n",
    "# model.add_indicator(b, i == 5, active_value=1)"
   ]
  },
  {
   "cell_type": "code",
   "execution_count": 6,
   "metadata": {},
   "outputs": [
    {
     "data": {
      "text/plain": [
       "docplex.mp.constr.IndicatorConstraint[](b,i>=3,true=1)"
      ]
     },
     "execution_count": 6,
     "metadata": {},
     "output_type": "execute_result"
    }
   ],
   "source": [
    "model.add_indicator(b, c + i + b == 5.2, active_value=1)\n",
    "model.add_indicator(b, i >= 3, active_value=1)"
   ]
  },
  {
   "cell_type": "code",
   "execution_count": 7,
   "metadata": {},
   "outputs": [],
   "source": [
    "solution = model.solve()"
   ]
  },
  {
   "cell_type": "code",
   "execution_count": 8,
   "metadata": {},
   "outputs": [
    {
     "name": "stdout",
     "output_type": "stream",
     "text": [
      "solution for: docplex_model1\n",
      "status: OPTIMAL_SOLUTION(2)\n",
      "b = 1\n",
      "c = 1.200\n",
      "i = 3\n"
     ]
    }
   ],
   "source": [
    "solution.display()"
   ]
  }
 ],
 "metadata": {
  "kernelspec": {
   "display_name": "Python 3.7.11 ('base')",
   "language": "python",
   "name": "python3"
  },
  "language_info": {
   "codemirror_mode": {
    "name": "ipython",
    "version": 3
   },
   "file_extension": ".py",
   "mimetype": "text/x-python",
   "name": "python",
   "nbconvert_exporter": "python",
   "pygments_lexer": "ipython3",
   "version": "3.10.10"
  },
  "orig_nbformat": 4,
  "vscode": {
   "interpreter": {
    "hash": "d90077ce7125d20909e99e912648307be4f32fccb58a5fb76bf45800dc67acda"
   }
  }
 },
 "nbformat": 4,
 "nbformat_minor": 2
}
