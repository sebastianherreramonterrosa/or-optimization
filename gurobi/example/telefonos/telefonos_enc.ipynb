{
 "cells": [
  {
   "cell_type": "markdown",
   "metadata": {},
   "source": [
    "## **PROBLEMA TELEFONOS**\n",
    "\n",
    "Una compañía telefónica produce y vende dos tipos de teléfonos: teléfonos de escritorio y teléfonos celulares.\n",
    "Cada tipo de teléfono es ensamblado y pintado por la empresa. El objetivo es maximizar las ganancias y la empresa tiene que producir al menos 100 de cada tipo de teléfono.\n",
    "Existen límites en cuanto a la capacidad de producción de la empresa, y la empresa debe calcular la cantidad óptima de cada tipo de teléfono a producir, sin exceder la capacidad de la planta.\n",
    "\n",
    "Condiciones\n",
    "\n",
    "1. La producción de teléfonos de escritorio debe ser mayor o igual a 100.\n",
    "2. La producción de teléfonos celulares debe ser mayor o igual a 100.\n",
    "3. El tiempo de montaje total no debe exceder las 400 horas. Montar un teléfono de escritorio tarda 12 minutos y un celular 24 minutos.\n",
    "4. El tiempo de pintura total no debe exceder las 490 horas. Pintar un teléfono de escritorio tarda 30 minutos y un celular 24 minutos.\n",
    "5. La compañía vende cada telefono de escritorio a 12 dolares y cada celular a 20 dolares\n",
    "\n",
    "**_¿Cómo cambiaría el problema si?_**\n",
    "\n",
    "La compañía tiene la opción de exceder sus horas de montaje hasta 40. Pero cada hora utilizada le cuesta 2 dólares ¿Cuántas de estas horas debería utilizar?\n",
    "Si las horas de ensamblaje fuera un recurso infinito ¿El overtime también sería infinito?\n"
   ]
  }
 ],
 "metadata": {
  "kernelspec": {
   "display_name": "Python 3",
   "language": "python",
   "name": "python3"
  },
  "language_info": {
   "codemirror_mode": {
    "name": "ipython",
    "version": 3
   },
   "file_extension": ".py",
   "mimetype": "text/x-python",
   "name": "python",
   "nbconvert_exporter": "python",
   "pygments_lexer": "ipython3",
   "version": "3.10.10"
  }
 },
 "nbformat": 4,
 "nbformat_minor": 2
}
