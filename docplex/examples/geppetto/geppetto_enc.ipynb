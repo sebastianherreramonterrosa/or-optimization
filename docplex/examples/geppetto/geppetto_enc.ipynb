{
 "cells": [
  {
   "attachments": {},
   "cell_type": "markdown",
   "metadata": {},
   "source": [
    "\n",
    "\n",
    "## **Gepetto's Woodcarving, Inc.**\n",
    "\n",
    "Gepetto's Woodcarving, Inc., se dedica a la fabricación de dos tipos de juguetes de madera: soldados y trenes. La compañía desea optimizar su producción semanal para maximizar las ganancias, teniendo en cuenta los costos de producción y las limitaciones de recursos.\n",
    "\n",
    "### **1. Descripción de Productos y Costos Asociados**\n",
    "- **Soldados:**\n",
    "  - **Precio de venta:** $27 por unidad.\n",
    "  - **Costo de materia prima:** $10 por unidad.\n",
    "  - **Costo de mano de obra:** $14 por unidad.\n",
    "\n",
    "- **Trenes:**\n",
    "  - **Precio de venta:** $21 por unidad.\n",
    "  - **Costo de materia prima:** $9 por unidad.\n",
    "  - **Costo de mano de obra:** $10 por unidad.\n",
    "\n",
    "### **2. Requerimientos de Producción por Juguete**\n",
    "- **Soldados:**\n",
    "  - **Carpintería:** 1 hora por soldado.\n",
    "  - **Terminado:** 2 horas por soldado.\n",
    "\n",
    "- **Trenes:**\n",
    "  - **Carpintería:** 1 hora por tren.\n",
    "  - **Terminado:** 1 hora por tren.\n",
    "\n",
    "### **3. Recursos y Limitaciones Semanales**\n",
    "- **Disponibilidad de materia prima:** Suficiente para cubrir la demanda semanal.\n",
    "- **Mano de obra disponible por semana:**\n",
    "  - **Carpintería:** 80 horas.\n",
    "  - **Terminado:** 100 horas.\n",
    "- **Capacidad de venta por semana:**\n",
    "  - **Soldados:** Máximo de 40 unidades.\n",
    "  - **Trenes:** Demanda ilimitada.\n",
    "\n",
    "Con estos datos, escriba un modelo de optimización que le permita conocer a Gepetto's las cantidades optimas a producir de soldados y trenes para alcanzar el máximo beneficio posible cumpliendo las restricciones actuales.\n",
    "\n"
   ]
  }
 ],
 "metadata": {
  "kernelspec": {
   "display_name": "Python 3.7.11 ('base')",
   "language": "python",
   "name": "python3"
  },
  "language_info": {
   "codemirror_mode": {
    "name": "ipython",
    "version": 3
   },
   "file_extension": ".py",
   "mimetype": "text/x-python",
   "name": "python",
   "nbconvert_exporter": "python",
   "pygments_lexer": "ipython3",
   "version": "3.10.10"
  },
  "vscode": {
   "interpreter": {
    "hash": "d90077ce7125d20909e99e912648307be4f32fccb58a5fb76bf45800dc67acda"
   }
  }
 },
 "nbformat": 4,
 "nbformat_minor": 2
}
