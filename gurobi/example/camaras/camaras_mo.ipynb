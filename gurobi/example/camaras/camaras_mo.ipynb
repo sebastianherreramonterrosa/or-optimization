{
 "cells": [
  {
   "cell_type": "markdown",
   "metadata": {},
   "source": [
    "## **Cámaras Galería de arte**\n"
   ]
  },
  {
   "attachments": {
    "image-2.png": {
     "image/png": "[encoded data removed]"
    },
    "image.png": {
     "image/png": "[encoded data removed]"
    }
   },
   "cell_type": "markdown",
   "metadata": {},
   "source": [
    "En una galería de arte cuyo plano es el de la figura, se desean instalar cámaras de video para tenerla completamente vigilada. Hay 9 zonas A, B, . . . , I, y 9 posibles puntos 1, . . . , 9 de instalación de las cámaras. Una cámara colocada en cualquiera de los puntos señalados vigila todas las zonas adyacentes a dicho punto. Por ejemplo, una cámara en el punto 3 vigila las zonas A y B y una cámara en el punto 8 vigila las zonas B, F, G y C. Todas la zonas deben está vigilidas por al menos una cámara.\n",
    "\n",
    "![image.png](attachment:image.png)\n",
    "\n",
    "Por requerimientos tecnológicos, si se sitúan cámaras en los puntos 2,3 y 4, estas cámaras costarían $5, $7 y $8. Para los otros puntos, una cámara de valor de $2 cumpliría con los requerimientos.\n",
    "\n",
    "Se tienen los siguientes requerimientos\n",
    "\n",
    "1. El número de cámaras que vigilan G debe ser mayor al número de cámaras que vigilan B\n",
    "2. Si se instala una cámara en 6 y no se instala cámara en 3 entonces se debe instalar una cámara en 9\n",
    "3. No se puede tener más que 3 cámaras que vigilan el sector constituido por las zonas A y B\n",
    "\n",
    "La transmisión de los datos entre cámaras se hace mediante una red wifi. Los datos de grabación llegan a un router wifi común. La galería quiere saber dónde instalar el router y las cámaras teniendo en cuenta que:\n",
    "\n",
    "-   El router wifi solo se puede instalar en uno de los 9 puntos de instalación de cámaras.\n",
    "-   El router wifi no se puede instalar en un punto donde hay una cámara.\n",
    "-   Cada cámara se conecta directamente al router wifi. El nivel de radiaciones que genera la conexión es proporcional a la distancia entre la cámara y el router y vale 15 unidades de radiación/metro. Las distancias entre los puntos se muestran en la tabla siguiente.\n",
    "\n",
    "![image-2.png](attachment:image-2.png)\n",
    "\n",
    "Formula el correspondiente modelo en programación lineal en FORMA COMPACTA para determinar dónde se deben instalar las cámaras de manera que se minimice el costo total de instalación de cámaras y la suma total de las radiaciones generadas por las conexiones entre cada cámara y el router wifi.\n"
   ]
  },
  {
   "cell_type": "code",
   "execution_count": 3,
   "metadata": {},
   "outputs": [],
   "source": [
    "import pandas\n",
    "import gurobipy as gp\n",
    "from gurobipy import GRB\n",
    "import networkx as nx\n",
    "import plotly.graph_objects as go\n",
    "import plotly.subplots"
   ]
  },
  {
   "cell_type": "code",
   "execution_count": 4,
   "metadata": {},
   "outputs": [],
   "source": [
    "df_punto_zona = pandas.read_excel(\"./data.xlsx\", sheet_name=\"Punto Zona\", index_col=0)\n",
    "df_costo_instalacion = pandas.read_excel(\"./data.xlsx\", sheet_name=\"Costo Instalación\")\n",
    "df_distancias = pandas.read_excel(\"./data.xlsx\", sheet_name=\"Distancias\", index_col=0)"
   ]
  },
  {
   "cell_type": "markdown",
   "metadata": {},
   "source": [
    "**Conjuntos**\n"
   ]
  },
  {
   "cell_type": "markdown",
   "metadata": {},
   "source": [
    "$$ P: \\text{Puntos} = \\{1, 2, 3, 4, 5, 6, 7, 8, 9\\}$$\n",
    "$$ Z: \\text{Zonas} = \\{\\text{A, B, C, D, E, F, G, H, I}\\} $$"
   ]
  },
  {
   "cell_type": "code",
   "execution_count": 5,
   "metadata": {},
   "outputs": [],
   "source": [
    "PUNTOS = df_punto_zona.index.to_list()\n",
    "ZONAS = df_punto_zona.columns.to_list()"
   ]
  },
  {
   "cell_type": "markdown",
   "metadata": {},
   "source": [
    "**Parámetros**\n"
   ]
  },
  {
   "cell_type": "markdown",
   "metadata": {},
   "source": [
    "$$ \\alpha_{p,z} = \\left\\{ \\begin{array}{cl}\n",
    "1:\\text{Si la camara del punto } p\\in P \\text{ vigila la zona } z\\in Z \\\\\n",
    "0:\\text{dlc}\n",
    "\\end{array} \\right. $$\n",
    "$$ \\text{Costo\\_Instalacion}_{p}: \\text{Costo de instalar una cámara en un punto } p\\in P $$\n",
    "$$ \\text{Distancia}_{p1,p2}: \\text{Distancia en metros de un punto } p1\\in P \\text{ a un punto } p2\\in P $$"
   ]
  },
  {
   "cell_type": "code",
   "execution_count": 6,
   "metadata": {},
   "outputs": [],
   "source": [
    "COSTO_INSTALACION = df_costo_instalacion.set_index(\"Punto\")[\"Costo Instalación\"].to_dict()\n",
    "ALPHA = df_punto_zona.to_dict(\"index\")\n",
    "DISTANCIA = df_distancias.to_dict(\"index\")"
   ]
  },
  {
   "cell_type": "code",
   "execution_count": 7,
   "metadata": {},
   "outputs": [
    {
     "name": "stdout",
     "output_type": "stream",
     "text": [
      "Set parameter Username\n",
      "Academic license - for non-commercial use only - expires 2025-01-28\n",
      "Gurobi Optimizer version 11.0.1 build v11.0.1rc0 (win64 - Windows 11.0 (22631.2))\n",
      "\n",
      "CPU model: Intel(R) Core(TM) i7-9750H CPU @ 2.60GHz, instruction set [SSE2|AVX|AVX2]\n",
      "Thread count: 6 physical cores, 12 logical processors, using up to 12 threads\n",
      "\n",
      "Optimize a model with 31 rows, 27 columns and 75 nonzeros\n",
      "Model fingerprint: 0x9b087489\n",
      "Variable types: 0 continuous, 27 integer (18 binary)\n",
      "Coefficient statistics:\n",
      "  Matrix range     [1e+00, 1e+00]\n",
      "  Objective range  [2e+00, 1e+03]\n",
      "  Bounds range     [1e+00, 1e+00]\n",
      "  RHS range        [1e+00, 3e+00]\n",
      "\n",
      "---------------------------------------------------------------------------\n",
      "Multi-objectives: starting optimization with 2 objectives ... \n",
      "---------------------------------------------------------------------------\n",
      "\n",
      "Multi-objectives: applying initial presolve ...\n",
      "---------------------------------------------------------------------------\n",
      "\n",
      "Presolve removed 15 rows and 7 columns\n",
      "Presolve time: 0.00s\n",
      "Presolved: 16 rows, 20 columns, 49 nonzeros\n",
      "---------------------------------------------------------------------------\n",
      "\n",
      "Multi-objectives: optimize objective 1 () ...\n",
      "---------------------------------------------------------------------------\n",
      "\n",
      "Found heuristic solution: objective 1080.0000000\n",
      "Presolve removed 0 rows and 2 columns\n",
      "Presolve time: 0.00s\n",
      "Presolved: 16 rows, 18 columns, 47 nonzeros\n",
      "Variable types: 0 continuous, 18 integer (14 binary)\n",
      "Found heuristic solution: objective 870.0000000\n",
      "\n",
      "Root relaxation: objective 6.600000e+02, 7 iterations, 0.00 seconds (0.00 work units)\n",
      "\n",
      "    Nodes    |    Current Node    |     Objective Bounds      |     Work\n",
      " Expl Unexpl |  Obj  Depth IntInf | Incumbent    BestBd   Gap | It/Node Time\n",
      "\n",
      "*    0     0               0     660.0000000  660.00000  0.00%     -    0s\n",
      "\n",
      "Explored 1 nodes (7 simplex iterations) in 0.06 seconds (0.00 work units)\n",
      "Thread count was 12 (of 12 available processors)\n",
      "\n",
      "Solution count 3: 660 870 1080 \n",
      "\n",
      "Optimal solution found (tolerance 1.00e-04)\n",
      "Best objective 6.600000000000e+02, best bound 6.600000000000e+02, gap 0.0000%\n",
      "---------------------------------------------------------------------------\n",
      "\n",
      "Multi-objectives: optimize objective 2 () ...\n",
      "---------------------------------------------------------------------------\n",
      "\n",
      "\n",
      "Loaded user MIP start with objective 21\n",
      "\n",
      "Presolve removed 14 rows and 15 columns\n",
      "Presolve time: 0.00s\n",
      "Presolved: 3 rows, 5 columns, 9 nonzeros\n",
      "Variable types: 0 continuous, 5 integer (3 binary)\n",
      "Found heuristic solution: objective 11.0000000\n",
      "\n",
      "Explored 0 nodes (0 simplex iterations) in 0.09 seconds (0.00 work units)\n",
      "Thread count was 12 (of 12 available processors)\n",
      "\n",
      "Solution count 2: 11 21 \n",
      "\n",
      "Optimal solution found (tolerance 1.00e-04)\n",
      "Best objective 1.100000000000e+01, best bound 1.100000000000e+01, gap 0.0000%\n",
      "\n",
      "---------------------------------------------------------------------------\n",
      "Multi-objectives: solved in 0.10 seconds (0.00 work units), solution count 4\n",
      "\n"
     ]
    }
   ],
   "source": [
    "model1 = gp.Model()\n",
    "\n",
    "## Variables\n",
    "x1 = model1.addVars(PUNTOS, vtype=GRB.BINARY, name=\"x1\")\n",
    "y1 = model1.addVars(ZONAS, vtype=GRB.INTEGER, name=\"y1\")\n",
    "w1 = model1.addVars(PUNTOS, vtype=GRB.BINARY, name=\"w1\")\n",
    "\n",
    "## Función Objetivo\n",
    "costo_instalacion_camara = gp.quicksum(COSTO_INSTALACION[punto] * x1[punto] for punto in PUNTOS)\n",
    "radiacion_wifi = gp.quicksum(15 * DISTANCIA[punto1][punto2] * w1[punto1] for punto1 in PUNTOS for punto2 in PUNTOS)\n",
    "model1.setObjectiveN(costo_instalacion_camara, index=0, priority=1, weight=1)\n",
    "model1.setObjectiveN(radiacion_wifi, index=1, priority=2, weight=1)\n",
    "model1.ModelSense = GRB.MINIMIZE\n",
    "\n",
    "## Restricciones\n",
    "for zona in ZONAS:\n",
    "    model1.addConstr(y1[zona] == gp.quicksum(ALPHA[punto][zona] * x1[punto] for punto in PUNTOS))\n",
    "\n",
    "for zona in ZONAS:\n",
    "    model1.addConstr(y1[zona] >= 1)\n",
    "\n",
    "model1.addConstr(y1[\"B\"] >= y1[\"G\"] - 1)\n",
    "model1.addConstr(x1[9] >= x1[6] + (1 - x1[3]) - 1)\n",
    "model1.addConstr(x1[1] + x1[2] + x1[3] + x1[8] <= 3)\n",
    "\n",
    "model1.addConstr(gp.quicksum(w1[punto] for punto in PUNTOS) == 1)\n",
    "\n",
    "for punto in PUNTOS:\n",
    "    model1.addConstr(w1[punto] <= 1 - x1[punto])\n",
    "\n",
    "## Optimizar\n",
    "model1.optimize()"
   ]
  },
  {
   "cell_type": "code",
   "execution_count": 8,
   "metadata": {},
   "outputs": [
    {
     "name": "stdout",
     "output_type": "stream",
     "text": [
      "Gurobi Optimizer version 11.0.1 build v11.0.1rc0 (win64 - Windows 11.0 (22631.2))\n",
      "\n",
      "CPU model: Intel(R) Core(TM) i7-9750H CPU @ 2.60GHz, instruction set [SSE2|AVX|AVX2]\n",
      "Thread count: 6 physical cores, 12 logical processors, using up to 12 threads\n",
      "\n",
      "Optimize a model with 31 rows, 27 columns and 75 nonzeros\n",
      "Model fingerprint: 0xbef1cd56\n",
      "Variable types: 0 continuous, 27 integer (18 binary)\n",
      "Coefficient statistics:\n",
      "  Matrix range     [1e+00, 1e+00]\n",
      "  Objective range  [2e+00, 1e+03]\n",
      "  Bounds range     [1e+00, 1e+00]\n",
      "  RHS range        [1e+00, 3e+00]\n",
      "\n",
      "---------------------------------------------------------------------------\n",
      "Multi-objectives: starting optimization with 2 objectives ... \n",
      "---------------------------------------------------------------------------\n",
      "\n",
      "Multi-objectives: applying initial presolve ...\n",
      "---------------------------------------------------------------------------\n",
      "\n",
      "Presolve removed 15 rows and 7 columns\n",
      "Presolve time: 0.00s\n",
      "Presolved: 16 rows, 20 columns, 49 nonzeros\n",
      "---------------------------------------------------------------------------\n",
      "\n",
      "Multi-objectives: optimize objective 1 () ...\n",
      "---------------------------------------------------------------------------\n",
      "\n",
      "Found heuristic solution: objective 15.0000000\n",
      "Presolve removed 0 rows and 2 columns\n",
      "Presolve time: 0.00s\n",
      "Presolved: 16 rows, 18 columns, 47 nonzeros\n",
      "Variable types: 0 continuous, 18 integer (14 binary)\n",
      "\n",
      "Root relaxation: objective 1.000000e+01, 8 iterations, 0.00 seconds (0.00 work units)\n",
      "\n",
      "    Nodes    |    Current Node    |     Objective Bounds      |     Work\n",
      " Expl Unexpl |  Obj  Depth IntInf | Incumbent    BestBd   Gap | It/Node Time\n",
      "\n",
      "*    0     0               0      10.0000000   10.00000  0.00%     -    0s\n",
      "\n",
      "Explored 1 nodes (8 simplex iterations) in 0.05 seconds (0.00 work units)\n",
      "Thread count was 12 (of 12 available processors)\n",
      "\n",
      "Solution count 2: 10 15 \n",
      "\n",
      "Optimal solution found (tolerance 1.00e-04)\n",
      "Best objective 1.000000000000e+01, best bound 1.000000000000e+01, gap 0.0000%\n",
      "---------------------------------------------------------------------------\n",
      "\n",
      "Multi-objectives: optimize objective 2 () ...\n",
      "---------------------------------------------------------------------------\n",
      "\n",
      "\n",
      "Loaded user MIP start with objective 810\n",
      "\n",
      "Presolve removed 17 rows and 20 columns\n",
      "Presolve time: 0.00s\n",
      "Presolve: All rows and columns removed\n",
      "\n",
      "Explored 0 nodes (0 simplex iterations) in 0.07 seconds (0.00 work units)\n",
      "Thread count was 1 (of 12 available processors)\n",
      "\n",
      "Solution count 2: 705 810 \n",
      "\n",
      "Optimal solution found (tolerance 1.00e-04)\n",
      "Best objective 7.050000000000e+02, best bound 7.050000000000e+02, gap 0.0000%\n",
      "\n",
      "---------------------------------------------------------------------------\n",
      "Multi-objectives: solved in 0.13 seconds (0.00 work units), solution count 3\n",
      "\n"
     ]
    }
   ],
   "source": [
    "model2 = gp.Model()\n",
    "\n",
    "## Variables\n",
    "x2 = model2.addVars(PUNTOS, vtype=GRB.BINARY, name=\"x2\")\n",
    "y2 = model2.addVars(ZONAS, vtype=GRB.INTEGER, name=\"y2\")\n",
    "w2 = model2.addVars(PUNTOS, vtype=GRB.BINARY, name=\"w2\")\n",
    "\n",
    "## Función Objetivo\n",
    "costo_instalacion_camara = gp.quicksum(COSTO_INSTALACION[punto] * x2[punto] for punto in PUNTOS)\n",
    "radiacion_wifi = gp.quicksum(15 * DISTANCIA[punto1][punto2] * w2[punto1] for punto1 in PUNTOS for punto2 in PUNTOS)\n",
    "model2.setObjectiveN(costo_instalacion_camara, index=0, priority=2, weight=1)\n",
    "model2.setObjectiveN(radiacion_wifi, index=1, priority=1, weight=1)\n",
    "model2.ModelSense = GRB.MINIMIZE\n",
    "\n",
    "## Restricciones\n",
    "for zona in ZONAS:\n",
    "    model2.addConstr(y2[zona] == gp.quicksum(ALPHA[punto][zona] * x2[punto] for punto in PUNTOS))\n",
    "    # model2.addConstr(y2[zona] == gp.quicksum(ALPHA_ALT[punto, zona] * x2[punto] for punto in PUNTOS))\n",
    "\n",
    "for zona in ZONAS:\n",
    "    model2.addConstr(y2[zona] >= 1)\n",
    "\n",
    "model2.addConstr(y2[\"B\"] >= y2[\"G\"] - 1)\n",
    "model2.addConstr(x2[9] >= x2[6] + (1 - x2[3]) - 1)\n",
    "model2.addConstr(x2[1] + x2[2] + x2[3] + x2[8] <= 3)\n",
    "\n",
    "model2.addConstr(gp.quicksum(w2[punto] for punto in PUNTOS) == 1)\n",
    "\n",
    "for punto in PUNTOS:\n",
    "    model2.addConstr(w2[punto] <= 1 - x2[punto])\n",
    "\n",
    "## Optimizar\n",
    "model2.optimize()"
   ]
  },
  {
   "cell_type": "code",
   "execution_count": 9,
   "metadata": {},
   "outputs": [],
   "source": [
    "# Definiendo Grafo\n",
    "G = nx.Graph()\n",
    "\n",
    "# Añadiendo nodos de cámaras y zonas\n",
    "G.add_nodes_from(list(map(str, PUNTOS)))\n",
    "G.add_nodes_from(ZONAS)\n",
    "\n",
    "# Construyendo aristas\n",
    "edges = []\n",
    "for punto, covertura in ALPHA.items():\n",
    "    for zone, vigila in covertura.items():\n",
    "        if vigila == 1:\n",
    "            edges.append((str(punto), zone))\n",
    "\n",
    "# Añadiendo aristas al grafo\n",
    "G.add_edges_from(edges)\n",
    "\n",
    "# Configurando el diseño para la visualización del grafo\n",
    "pos_alpha = nx.spring_layout(G, seed=43)  # Usando el diseño de resorte (spring layout)"
   ]
  },
  {
   "cell_type": "code",
   "execution_count": 10,
   "metadata": {},
   "outputs": [],
   "source": [
    "fig = plotly.subplots.make_subplots(\n",
    "    rows=1,\n",
    "    cols=2,\n",
    "    subplot_titles=(\n",
    "        f\"COSTO INSTLACIÓN: {model1.getObjective(0).getValue()} - RADIACIÓN WIFI: {model1.getObjective(1).getValue()}\",\n",
    "        f\"COSTO INSTLACIÓN: {model2.getObjective(0).getValue()} - RADIACIÓN WIFI: {model2.getObjective(1).getValue()}\",\n",
    "    ),\n",
    ")"
   ]
  },
  {
   "cell_type": "code",
   "execution_count": 11,
   "metadata": {},
   "outputs": [],
   "source": [
    "edge_x = []\n",
    "edge_y = []\n",
    "for edge in G.edges():\n",
    "    coord_x0, coord_y0 = pos_alpha[edge[0]]\n",
    "    coord_x1, coord_y1 = pos_alpha[edge[1]]\n",
    "    edge_x.extend([coord_x0, coord_x1, None])\n",
    "    edge_y.extend([coord_y0, coord_y1, None])\n",
    "\n",
    "fig.add_trace(go.Scatter(x=edge_x, y=edge_y, mode=\"lines\", line=dict(width=2, color=\"gray\"), hoverinfo=\"none\", showlegend=False), row=1, col=1)\n",
    "\n",
    "# Agregar nodos de ZONAS\n",
    "for zona in ZONAS:\n",
    "    coord_x, coord_y = pos_alpha[zona]\n",
    "    fig.add_trace(go.Scatter(x=[coord_x], y=[coord_y], mode=\"markers\", marker=dict(size=40, color=\"lightblue\"), name=\"Zonas\", text=[zona], hoverinfo=\"text\"), row=1, col=1)\n",
    "\n",
    "# Agregar nodos de PUNTOS\n",
    "for punto in PUNTOS:\n",
    "    coord_x, coord_y = pos_alpha[str(punto)]\n",
    "    color = \"silver\"\n",
    "    if x1[punto].X > 0.9:\n",
    "        color = \"lightgreen\"\n",
    "    if w1[punto].X > 0.9:\n",
    "        color = \"yellow\"\n",
    "    fig.add_trace(go.Scatter(x=[coord_x], y=[coord_y], mode=\"markers\", marker=dict(size=30, color=color, symbol=\"square\"), name=\"Puntos\", text=[str(punto)], hoverinfo=\"text\"), row=1, col=1)\n",
    "\n",
    "# Agregar etiquetas\n",
    "for node, (coord_x, coord_y) in pos_alpha.items():\n",
    "    fig.add_trace(go.Scatter(x=[coord_x], y=[coord_y], mode=\"text\", text=[node], textposition=\"middle center\", hoverinfo=\"none\", showlegend=False), row=1, col=1)"
   ]
  },
  {
   "cell_type": "code",
   "execution_count": 12,
   "metadata": {},
   "outputs": [],
   "source": [
    "edge_x = []\n",
    "edge_y = []\n",
    "for edge in G.edges():\n",
    "    coord_x0, coord_y0 = pos_alpha[edge[0]]\n",
    "    coord_x1, coord_y1 = pos_alpha[edge[1]]\n",
    "    edge_x.extend([coord_x0, coord_x1, None])\n",
    "    edge_y.extend([coord_y0, coord_y1, None])\n",
    "\n",
    "fig.add_trace(go.Scatter(x=edge_x, y=edge_y, mode=\"lines\", line=dict(width=2, color=\"gray\"), hoverinfo=\"none\", showlegend=False), row=1, col=2)\n",
    "\n",
    "# Agregar nodos de ZONAS\n",
    "for zona in ZONAS:\n",
    "    coord_x, coord_y = pos_alpha[zona]\n",
    "    fig.add_trace(go.Scatter(x=[coord_x], y=[coord_y], mode=\"markers\", marker=dict(size=40, color=\"lightblue\"), name=\"Zonas\", text=[zona], hoverinfo=\"text\"), row=1, col=2)\n",
    "\n",
    "# Agregar nodos de PUNTOS\n",
    "for punto in PUNTOS:\n",
    "    coord_x, coord_y = pos_alpha[str(punto)]\n",
    "    color = \"silver\"\n",
    "    if x2[punto].X > 0.9:\n",
    "        color = \"lightgreen\"\n",
    "    if w2[punto].X > 0.9:\n",
    "        color = \"yellow\"\n",
    "    fig.add_trace(go.Scatter(x=[coord_x], y=[coord_y], mode=\"markers\", marker=dict(size=30, color=color, symbol=\"square\"), name=\"Puntos\", text=[str(punto)], hoverinfo=\"text\"), row=1, col=2)\n",
    "\n",
    "# Agregar etiquetas\n",
    "for node, (coord_x, coord_y) in pos_alpha.items():\n",
    "    fig.add_trace(go.Scatter(x=[coord_x], y=[coord_y], mode=\"text\", text=[node], textposition=\"middle center\", hoverinfo=\"none\", showlegend=False), row=1, col=2)"
   ]
  },
  {
   "cell_type": "code",
   "execution_count": 13,
   "metadata": {},
   "outputs": [
    {
     "data": {
      "application/vnd.plotly.v1+json": {
       "config": {
        "plotlyServerURL": "https://plot.ly"
       },
       "data": [
        {
         "hoverinfo": "none",
         "line": {
          "color": "gray",
          "width": 2
         },
         "mode": "lines",
         "showlegend": false,
         "type": "scatter",
         "x": [
          -0.7795187721627017,
          -0.5744194688019235,
          null,
          -0.7795187721627017,
          -0.7396641338370609,
          null,
          -0.28391485366892205,
          -0.5744194688019235,
          null,
          -0.28391485366892205,
          0.07898209930320439,
          null,
          -0.4159685154944977,
          -0.5744194688019235,
          null,
          -0.4159685154944977,
          -0.19760840828681683,
          null,
          0.4312662876916571,
          0.07898209930320439,
          null,
          0.4312662876916571,
          0.6665347559756785,
          null,
          0.054325201914486324,
          0.07898209930320439,
          null,
          0.054325201914486324,
          0.054172772734677466,
          null,
          0.7174587528664228,
          0.3881526330402482,
          null,
          0.7174587528664228,
          1,
          null,
          0.7174587528664228,
          0.6665347559756785,
          null,
          0.17628683419581914,
          -0.1312245440231001,
          null,
          0.17628683419581914,
          0.3881526330402482,
          null,
          0.04559083493104517,
          -0.19760840828681683,
          null,
          0.04559083493104517,
          -0.1312245440231001,
          null,
          0.04559083493104517,
          0.054172772734677466,
          null,
          0.04559083493104517,
          0.3881526330402482,
          null,
          -0.4904514763782157,
          -0.1312245440231001,
          null,
          -0.4904514763782157,
          -0.7396641338370609,
          null
         ],
         "xaxis": "x",
         "y": [
          0.08076889133557186,
          0.3553639768847448,
          null,
          0.08076889133557186,
          -0.24353573028058417,
          null,
          0.5641798352305623,
          0.3553639768847448,
          null,
          0.5641798352305623,
          0.5450999795524178,
          null,
          0.1850607163892291,
          0.3553639768847448,
          null,
          0.1850607163892291,
          -0.03380297840609983,
          null,
          0.47005398970936235,
          0.5450999795524178,
          null,
          0.47005398970936235,
          0.22062326506728794,
          null,
          0.2927785520328425,
          0.5450999795524178,
          null,
          0.2927785520328425,
          0.0006166336627634893,
          null,
          -0.12024252733903819,
          -0.333646244891869,
          null,
          -0.12024252733903819,
          -0.1842659655093421,
          null,
          -0.12024252733903819,
          0.22062326506728794,
          null,
          -0.5584793359562014,
          -0.5115507422849707,
          null,
          -0.5584793359562014,
          -0.333646244891869,
          null,
          -0.2594938112926938,
          -0.03380297840609983,
          null,
          -0.2594938112926938,
          -0.5115507422849707,
          null,
          -0.2594938112926938,
          0.0006166336627634893,
          null,
          -0.2594938112926938,
          -0.333646244891869,
          null,
          -0.4695285039039826,
          -0.5115507422849707,
          null,
          -0.4695285039039826,
          -0.24353573028058417,
          null
         ],
         "yaxis": "y"
        },
        {
         "hoverinfo": "text",
         "marker": {
          "color": "lightblue",
          "size": 40
         },
         "mode": "markers",
         "name": "Zonas",
         "text": [
          "A"
         ],
         "type": "scatter",
         "x": [
          -0.5744194688019235
         ],
         "xaxis": "x",
         "y": [
          0.3553639768847448
         ],
         "yaxis": "y"
        },
        {
         "hoverinfo": "text",
         "marker": {
          "color": "lightblue",
          "size": 40
         },
         "mode": "markers",
         "name": "Zonas",
         "text": [
          "B"
         ],
         "type": "scatter",
         "x": [
          -0.19760840828681683
         ],
         "xaxis": "x",
         "y": [
          -0.03380297840609983
         ],
         "yaxis": "y"
        },
        {
         "hoverinfo": "text",
         "marker": {
          "color": "lightblue",
          "size": 40
         },
         "mode": "markers",
         "name": "Zonas",
         "text": [
          "C"
         ],
         "type": "scatter",
         "x": [
          -0.1312245440231001
         ],
         "xaxis": "x",
         "y": [
          -0.5115507422849707
         ],
         "yaxis": "y"
        },
        {
         "hoverinfo": "text",
         "marker": {
          "color": "lightblue",
          "size": 40
         },
         "mode": "markers",
         "name": "Zonas",
         "text": [
          "D"
         ],
         "type": "scatter",
         "x": [
          -0.7396641338370609
         ],
         "xaxis": "x",
         "y": [
          -0.24353573028058417
         ],
         "yaxis": "y"
        },
        {
         "hoverinfo": "text",
         "marker": {
          "color": "lightblue",
          "size": 40
         },
         "mode": "markers",
         "name": "Zonas",
         "text": [
          "E"
         ],
         "type": "scatter",
         "x": [
          0.07898209930320439
         ],
         "xaxis": "x",
         "y": [
          0.5450999795524178
         ],
         "yaxis": "y"
        },
        {
         "hoverinfo": "text",
         "marker": {
          "color": "lightblue",
          "size": 40
         },
         "mode": "markers",
         "name": "Zonas",
         "text": [
          "F"
         ],
         "type": "scatter",
         "x": [
          0.054172772734677466
         ],
         "xaxis": "x",
         "y": [
          0.0006166336627634893
         ],
         "yaxis": "y"
        },
        {
         "hoverinfo": "text",
         "marker": {
          "color": "lightblue",
          "size": 40
         },
         "mode": "markers",
         "name": "Zonas",
         "text": [
          "G"
         ],
         "type": "scatter",
         "x": [
          0.3881526330402482
         ],
         "xaxis": "x",
         "y": [
          -0.333646244891869
         ],
         "yaxis": "y"
        },
        {
         "hoverinfo": "text",
         "marker": {
          "color": "lightblue",
          "size": 40
         },
         "mode": "markers",
         "name": "Zonas",
         "text": [
          "H"
         ],
         "type": "scatter",
         "x": [
          1
         ],
         "xaxis": "x",
         "y": [
          -0.1842659655093421
         ],
         "yaxis": "y"
        },
        {
         "hoverinfo": "text",
         "marker": {
          "color": "lightblue",
          "size": 40
         },
         "mode": "markers",
         "name": "Zonas",
         "text": [
          "I"
         ],
         "type": "scatter",
         "x": [
          0.6665347559756785
         ],
         "xaxis": "x",
         "y": [
          0.22062326506728794
         ],
         "yaxis": "y"
        },
        {
         "hoverinfo": "text",
         "marker": {
          "color": "silver",
          "size": 30,
          "symbol": "square"
         },
         "mode": "markers",
         "name": "Puntos",
         "text": [
          "1"
         ],
         "type": "scatter",
         "x": [
          -0.7795187721627017
         ],
         "xaxis": "x",
         "y": [
          0.08076889133557186
         ],
         "yaxis": "y"
        },
        {
         "hoverinfo": "text",
         "marker": {
          "color": "lightgreen",
          "size": 30,
          "symbol": "square"
         },
         "mode": "markers",
         "name": "Puntos",
         "text": [
          "2"
         ],
         "type": "scatter",
         "x": [
          -0.28391485366892205
         ],
         "xaxis": "x",
         "y": [
          0.5641798352305623
         ],
         "yaxis": "y"
        },
        {
         "hoverinfo": "text",
         "marker": {
          "color": "silver",
          "size": 30,
          "symbol": "square"
         },
         "mode": "markers",
         "name": "Puntos",
         "text": [
          "3"
         ],
         "type": "scatter",
         "x": [
          -0.4159685154944977
         ],
         "xaxis": "x",
         "y": [
          0.1850607163892291
         ],
         "yaxis": "y"
        },
        {
         "hoverinfo": "text",
         "marker": {
          "color": "silver",
          "size": 30,
          "symbol": "square"
         },
         "mode": "markers",
         "name": "Puntos",
         "text": [
          "4"
         ],
         "type": "scatter",
         "x": [
          0.4312662876916571
         ],
         "xaxis": "x",
         "y": [
          0.47005398970936235
         ],
         "yaxis": "y"
        },
        {
         "hoverinfo": "text",
         "marker": {
          "color": "yellow",
          "size": 30,
          "symbol": "square"
         },
         "mode": "markers",
         "name": "Puntos",
         "text": [
          "5"
         ],
         "type": "scatter",
         "x": [
          0.054325201914486324
         ],
         "xaxis": "x",
         "y": [
          0.2927785520328425
         ],
         "yaxis": "y"
        },
        {
         "hoverinfo": "text",
         "marker": {
          "color": "lightgreen",
          "size": 30,
          "symbol": "square"
         },
         "mode": "markers",
         "name": "Puntos",
         "text": [
          "6"
         ],
         "type": "scatter",
         "x": [
          0.7174587528664228
         ],
         "xaxis": "x",
         "y": [
          -0.12024252733903819
         ],
         "yaxis": "y"
        },
        {
         "hoverinfo": "text",
         "marker": {
          "color": "silver",
          "size": 30,
          "symbol": "square"
         },
         "mode": "markers",
         "name": "Puntos",
         "text": [
          "7"
         ],
         "type": "scatter",
         "x": [
          0.17628683419581914
         ],
         "xaxis": "x",
         "y": [
          -0.5584793359562014
         ],
         "yaxis": "y"
        },
        {
         "hoverinfo": "text",
         "marker": {
          "color": "lightgreen",
          "size": 30,
          "symbol": "square"
         },
         "mode": "markers",
         "name": "Puntos",
         "text": [
          "8"
         ],
         "type": "scatter",
         "x": [
          0.04559083493104517
         ],
         "xaxis": "x",
         "y": [
          -0.2594938112926938
         ],
         "yaxis": "y"
        },
        {
         "hoverinfo": "text",
         "marker": {
          "color": "lightgreen",
          "size": 30,
          "symbol": "square"
         },
         "mode": "markers",
         "name": "Puntos",
         "text": [
          "9"
         ],
         "type": "scatter",
         "x": [
          -0.4904514763782157
         ],
         "xaxis": "x",
         "y": [
          -0.4695285039039826
         ],
         "yaxis": "y"
        },
        {
         "hoverinfo": "none",
         "mode": "text",
         "showlegend": false,
         "text": [
          "1"
         ],
         "textposition": "middle center",
         "type": "scatter",
         "x": [
          -0.7795187721627017
         ],
         "xaxis": "x",
         "y": [
          0.08076889133557186
         ],
         "yaxis": "y"
        },
        {
         "hoverinfo": "none",
         "mode": "text",
         "showlegend": false,
         "text": [
          "2"
         ],
         "textposition": "middle center",
         "type": "scatter",
         "x": [
          -0.28391485366892205
         ],
         "xaxis": "x",
         "y": [
          0.5641798352305623
         ],
         "yaxis": "y"
        },
        {
         "hoverinfo": "none",
         "mode": "text",
         "showlegend": false,
         "text": [
          "3"
         ],
         "textposition": "middle center",
         "type": "scatter",
         "x": [
          -0.4159685154944977
         ],
         "xaxis": "x",
         "y": [
          0.1850607163892291
         ],
         "yaxis": "y"
        },
        {
         "hoverinfo": "none",
         "mode": "text",
         "showlegend": false,
         "text": [
          "4"
         ],
         "textposition": "middle center",
         "type": "scatter",
         "x": [
          0.4312662876916571
         ],
         "xaxis": "x",
         "y": [
          0.47005398970936235
         ],
         "yaxis": "y"
        },
        {
         "hoverinfo": "none",
         "mode": "text",
         "showlegend": false,
         "text": [
          "5"
         ],
         "textposition": "middle center",
         "type": "scatter",
         "x": [
          0.054325201914486324
         ],
         "xaxis": "x",
         "y": [
          0.2927785520328425
         ],
         "yaxis": "y"
        },
        {
         "hoverinfo": "none",
         "mode": "text",
         "showlegend": false,
         "text": [
          "6"
         ],
         "textposition": "middle center",
         "type": "scatter",
         "x": [
          0.7174587528664228
         ],
         "xaxis": "x",
         "y": [
          -0.12024252733903819
         ],
         "yaxis": "y"
        },
        {
         "hoverinfo": "none",
         "mode": "text",
         "showlegend": false,
         "text": [
          "7"
         ],
         "textposition": "middle center",
         "type": "scatter",
         "x": [
          0.17628683419581914
         ],
         "xaxis": "x",
         "y": [
          -0.5584793359562014
         ],
         "yaxis": "y"
        },
        {
         "hoverinfo": "none",
         "mode": "text",
         "showlegend": false,
         "text": [
          "8"
         ],
         "textposition": "middle center",
         "type": "scatter",
         "x": [
          0.04559083493104517
         ],
         "xaxis": "x",
         "y": [
          -0.2594938112926938
         ],
         "yaxis": "y"
        },
        {
         "hoverinfo": "none",
         "mode": "text",
         "showlegend": false,
         "text": [
          "9"
         ],
         "textposition": "middle center",
         "type": "scatter",
         "x": [
          -0.4904514763782157
         ],
         "xaxis": "x",
         "y": [
          -0.4695285039039826
         ],
         "yaxis": "y"
        },
        {
         "hoverinfo": "none",
         "mode": "text",
         "showlegend": false,
         "text": [
          "A"
         ],
         "textposition": "middle center",
         "type": "scatter",
         "x": [
          -0.5744194688019235
         ],
         "xaxis": "x",
         "y": [
          0.3553639768847448
         ],
         "yaxis": "y"
        },
        {
         "hoverinfo": "none",
         "mode": "text",
         "showlegend": false,
         "text": [
          "B"
         ],
         "textposition": "middle center",
         "type": "scatter",
         "x": [
          -0.19760840828681683
         ],
         "xaxis": "x",
         "y": [
          -0.03380297840609983
         ],
         "yaxis": "y"
        },
        {
         "hoverinfo": "none",
         "mode": "text",
         "showlegend": false,
         "text": [
          "C"
         ],
         "textposition": "middle center",
         "type": "scatter",
         "x": [
          -0.1312245440231001
         ],
         "xaxis": "x",
         "y": [
          -0.5115507422849707
         ],
         "yaxis": "y"
        },
        {
         "hoverinfo": "none",
         "mode": "text",
         "showlegend": false,
         "text": [
          "D"
         ],
         "textposition": "middle center",
         "type": "scatter",
         "x": [
          -0.7396641338370609
         ],
         "xaxis": "x",
         "y": [
          -0.24353573028058417
         ],
         "yaxis": "y"
        },
        {
         "hoverinfo": "none",
         "mode": "text",
         "showlegend": false,
         "text": [
          "E"
         ],
         "textposition": "middle center",
         "type": "scatter",
         "x": [
          0.07898209930320439
         ],
         "xaxis": "x",
         "y": [
          0.5450999795524178
         ],
         "yaxis": "y"
        },
        {
         "hoverinfo": "none",
         "mode": "text",
         "showlegend": false,
         "text": [
          "F"
         ],
         "textposition": "middle center",
         "type": "scatter",
         "x": [
          0.054172772734677466
         ],
         "xaxis": "x",
         "y": [
          0.0006166336627634893
         ],
         "yaxis": "y"
        },
        {
         "hoverinfo": "none",
         "mode": "text",
         "showlegend": false,
         "text": [
          "G"
         ],
         "textposition": "middle center",
         "type": "scatter",
         "x": [
          0.3881526330402482
         ],
         "xaxis": "x",
         "y": [
          -0.333646244891869
         ],
         "yaxis": "y"
        },
        {
         "hoverinfo": "none",
         "mode": "text",
         "showlegend": false,
         "text": [
          "H"
         ],
         "textposition": "middle center",
         "type": "scatter",
         "x": [
          1
         ],
         "xaxis": "x",
         "y": [
          -0.1842659655093421
         ],
         "yaxis": "y"
        },
        {
         "hoverinfo": "none",
         "mode": "text",
         "showlegend": false,
         "text": [
          "I"
         ],
         "textposition": "middle center",
         "type": "scatter",
         "x": [
          0.6665347559756785
         ],
         "xaxis": "x",
         "y": [
          0.22062326506728794
         ],
         "yaxis": "y"
        },
        {
         "hoverinfo": "none",
         "line": {
          "color": "gray",
          "width": 2
         },
         "mode": "lines",
         "showlegend": false,
         "type": "scatter",
         "x": [
          -0.7795187721627017,
          -0.5744194688019235,
          null,
          -0.7795187721627017,
          -0.7396641338370609,
          null,
          -0.28391485366892205,
          -0.5744194688019235,
          null,
          -0.28391485366892205,
          0.07898209930320439,
          null,
          -0.4159685154944977,
          -0.5744194688019235,
          null,
          -0.4159685154944977,
          -0.19760840828681683,
          null,
          0.4312662876916571,
          0.07898209930320439,
          null,
          0.4312662876916571,
          0.6665347559756785,
          null,
          0.054325201914486324,
          0.07898209930320439,
          null,
          0.054325201914486324,
          0.054172772734677466,
          null,
          0.7174587528664228,
          0.3881526330402482,
          null,
          0.7174587528664228,
          1,
          null,
          0.7174587528664228,
          0.6665347559756785,
          null,
          0.17628683419581914,
          -0.1312245440231001,
          null,
          0.17628683419581914,
          0.3881526330402482,
          null,
          0.04559083493104517,
          -0.19760840828681683,
          null,
          0.04559083493104517,
          -0.1312245440231001,
          null,
          0.04559083493104517,
          0.054172772734677466,
          null,
          0.04559083493104517,
          0.3881526330402482,
          null,
          -0.4904514763782157,
          -0.1312245440231001,
          null,
          -0.4904514763782157,
          -0.7396641338370609,
          null
         ],
         "xaxis": "x2",
         "y": [
          0.08076889133557186,
          0.3553639768847448,
          null,
          0.08076889133557186,
          -0.24353573028058417,
          null,
          0.5641798352305623,
          0.3553639768847448,
          null,
          0.5641798352305623,
          0.5450999795524178,
          null,
          0.1850607163892291,
          0.3553639768847448,
          null,
          0.1850607163892291,
          -0.03380297840609983,
          null,
          0.47005398970936235,
          0.5450999795524178,
          null,
          0.47005398970936235,
          0.22062326506728794,
          null,
          0.2927785520328425,
          0.5450999795524178,
          null,
          0.2927785520328425,
          0.0006166336627634893,
          null,
          -0.12024252733903819,
          -0.333646244891869,
          null,
          -0.12024252733903819,
          -0.1842659655093421,
          null,
          -0.12024252733903819,
          0.22062326506728794,
          null,
          -0.5584793359562014,
          -0.5115507422849707,
          null,
          -0.5584793359562014,
          -0.333646244891869,
          null,
          -0.2594938112926938,
          -0.03380297840609983,
          null,
          -0.2594938112926938,
          -0.5115507422849707,
          null,
          -0.2594938112926938,
          0.0006166336627634893,
          null,
          -0.2594938112926938,
          -0.333646244891869,
          null,
          -0.4695285039039826,
          -0.5115507422849707,
          null,
          -0.4695285039039826,
          -0.24353573028058417,
          null
         ],
         "yaxis": "y2"
        },
        {
         "hoverinfo": "text",
         "marker": {
          "color": "lightblue",
          "size": 40
         },
         "mode": "markers",
         "name": "Zonas",
         "text": [
          "A"
         ],
         "type": "scatter",
         "x": [
          -0.5744194688019235
         ],
         "xaxis": "x2",
         "y": [
          0.3553639768847448
         ],
         "yaxis": "y2"
        },
        {
         "hoverinfo": "text",
         "marker": {
          "color": "lightblue",
          "size": 40
         },
         "mode": "markers",
         "name": "Zonas",
         "text": [
          "B"
         ],
         "type": "scatter",
         "x": [
          -0.19760840828681683
         ],
         "xaxis": "x2",
         "y": [
          -0.03380297840609983
         ],
         "yaxis": "y2"
        },
        {
         "hoverinfo": "text",
         "marker": {
          "color": "lightblue",
          "size": 40
         },
         "mode": "markers",
         "name": "Zonas",
         "text": [
          "C"
         ],
         "type": "scatter",
         "x": [
          -0.1312245440231001
         ],
         "xaxis": "x2",
         "y": [
          -0.5115507422849707
         ],
         "yaxis": "y2"
        },
        {
         "hoverinfo": "text",
         "marker": {
          "color": "lightblue",
          "size": 40
         },
         "mode": "markers",
         "name": "Zonas",
         "text": [
          "D"
         ],
         "type": "scatter",
         "x": [
          -0.7396641338370609
         ],
         "xaxis": "x2",
         "y": [
          -0.24353573028058417
         ],
         "yaxis": "y2"
        },
        {
         "hoverinfo": "text",
         "marker": {
          "color": "lightblue",
          "size": 40
         },
         "mode": "markers",
         "name": "Zonas",
         "text": [
          "E"
         ],
         "type": "scatter",
         "x": [
          0.07898209930320439
         ],
         "xaxis": "x2",
         "y": [
          0.5450999795524178
         ],
         "yaxis": "y2"
        },
        {
         "hoverinfo": "text",
         "marker": {
          "color": "lightblue",
          "size": 40
         },
         "mode": "markers",
         "name": "Zonas",
         "text": [
          "F"
         ],
         "type": "scatter",
         "x": [
          0.054172772734677466
         ],
         "xaxis": "x2",
         "y": [
          0.0006166336627634893
         ],
         "yaxis": "y2"
        },
        {
         "hoverinfo": "text",
         "marker": {
          "color": "lightblue",
          "size": 40
         },
         "mode": "markers",
         "name": "Zonas",
         "text": [
          "G"
         ],
         "type": "scatter",
         "x": [
          0.3881526330402482
         ],
         "xaxis": "x2",
         "y": [
          -0.333646244891869
         ],
         "yaxis": "y2"
        },
        {
         "hoverinfo": "text",
         "marker": {
          "color": "lightblue",
          "size": 40
         },
         "mode": "markers",
         "name": "Zonas",
         "text": [
          "H"
         ],
         "type": "scatter",
         "x": [
          1
         ],
         "xaxis": "x2",
         "y": [
          -0.1842659655093421
         ],
         "yaxis": "y2"
        },
        {
         "hoverinfo": "text",
         "marker": {
          "color": "lightblue",
          "size": 40
         },
         "mode": "markers",
         "name": "Zonas",
         "text": [
          "I"
         ],
         "type": "scatter",
         "x": [
          0.6665347559756785
         ],
         "xaxis": "x2",
         "y": [
          0.22062326506728794
         ],
         "yaxis": "y2"
        },
        {
         "hoverinfo": "text",
         "marker": {
          "color": "lightgreen",
          "size": 30,
          "symbol": "square"
         },
         "mode": "markers",
         "name": "Puntos",
         "text": [
          "1"
         ],
         "type": "scatter",
         "x": [
          -0.7795187721627017
         ],
         "xaxis": "x2",
         "y": [
          0.08076889133557186
         ],
         "yaxis": "y2"
        },
        {
         "hoverinfo": "text",
         "marker": {
          "color": "silver",
          "size": 30,
          "symbol": "square"
         },
         "mode": "markers",
         "name": "Puntos",
         "text": [
          "2"
         ],
         "type": "scatter",
         "x": [
          -0.28391485366892205
         ],
         "xaxis": "x2",
         "y": [
          0.5641798352305623
         ],
         "yaxis": "y2"
        },
        {
         "hoverinfo": "text",
         "marker": {
          "color": "yellow",
          "size": 30,
          "symbol": "square"
         },
         "mode": "markers",
         "name": "Puntos",
         "text": [
          "3"
         ],
         "type": "scatter",
         "x": [
          -0.4159685154944977
         ],
         "xaxis": "x2",
         "y": [
          0.1850607163892291
         ],
         "yaxis": "y2"
        },
        {
         "hoverinfo": "text",
         "marker": {
          "color": "silver",
          "size": 30,
          "symbol": "square"
         },
         "mode": "markers",
         "name": "Puntos",
         "text": [
          "4"
         ],
         "type": "scatter",
         "x": [
          0.4312662876916571
         ],
         "xaxis": "x2",
         "y": [
          0.47005398970936235
         ],
         "yaxis": "y2"
        },
        {
         "hoverinfo": "text",
         "marker": {
          "color": "lightgreen",
          "size": 30,
          "symbol": "square"
         },
         "mode": "markers",
         "name": "Puntos",
         "text": [
          "5"
         ],
         "type": "scatter",
         "x": [
          0.054325201914486324
         ],
         "xaxis": "x2",
         "y": [
          0.2927785520328425
         ],
         "yaxis": "y2"
        },
        {
         "hoverinfo": "text",
         "marker": {
          "color": "lightgreen",
          "size": 30,
          "symbol": "square"
         },
         "mode": "markers",
         "name": "Puntos",
         "text": [
          "6"
         ],
         "type": "scatter",
         "x": [
          0.7174587528664228
         ],
         "xaxis": "x2",
         "y": [
          -0.12024252733903819
         ],
         "yaxis": "y2"
        },
        {
         "hoverinfo": "text",
         "marker": {
          "color": "silver",
          "size": 30,
          "symbol": "square"
         },
         "mode": "markers",
         "name": "Puntos",
         "text": [
          "7"
         ],
         "type": "scatter",
         "x": [
          0.17628683419581914
         ],
         "xaxis": "x2",
         "y": [
          -0.5584793359562014
         ],
         "yaxis": "y2"
        },
        {
         "hoverinfo": "text",
         "marker": {
          "color": "lightgreen",
          "size": 30,
          "symbol": "square"
         },
         "mode": "markers",
         "name": "Puntos",
         "text": [
          "8"
         ],
         "type": "scatter",
         "x": [
          0.04559083493104517
         ],
         "xaxis": "x2",
         "y": [
          -0.2594938112926938
         ],
         "yaxis": "y2"
        },
        {
         "hoverinfo": "text",
         "marker": {
          "color": "lightgreen",
          "size": 30,
          "symbol": "square"
         },
         "mode": "markers",
         "name": "Puntos",
         "text": [
          "9"
         ],
         "type": "scatter",
         "x": [
          -0.4904514763782157
         ],
         "xaxis": "x2",
         "y": [
          -0.4695285039039826
         ],
         "yaxis": "y2"
        },
        {
         "hoverinfo": "none",
         "mode": "text",
         "showlegend": false,
         "text": [
          "1"
         ],
         "textposition": "middle center",
         "type": "scatter",
         "x": [
          -0.7795187721627017
         ],
         "xaxis": "x2",
         "y": [
          0.08076889133557186
         ],
         "yaxis": "y2"
        },
        {
         "hoverinfo": "none",
         "mode": "text",
         "showlegend": false,
         "text": [
          "2"
         ],
         "textposition": "middle center",
         "type": "scatter",
         "x": [
          -0.28391485366892205
         ],
         "xaxis": "x2",
         "y": [
          0.5641798352305623
         ],
         "yaxis": "y2"
        },
        {
         "hoverinfo": "none",
         "mode": "text",
         "showlegend": false,
         "text": [
          "3"
         ],
         "textposition": "middle center",
         "type": "scatter",
         "x": [
          -0.4159685154944977
         ],
         "xaxis": "x2",
         "y": [
          0.1850607163892291
         ],
         "yaxis": "y2"
        },
        {
         "hoverinfo": "none",
         "mode": "text",
         "showlegend": false,
         "text": [
          "4"
         ],
         "textposition": "middle center",
         "type": "scatter",
         "x": [
          0.4312662876916571
         ],
         "xaxis": "x2",
         "y": [
          0.47005398970936235
         ],
         "yaxis": "y2"
        },
        {
         "hoverinfo": "none",
         "mode": "text",
         "showlegend": false,
         "text": [
          "5"
         ],
         "textposition": "middle center",
         "type": "scatter",
         "x": [
          0.054325201914486324
         ],
         "xaxis": "x2",
         "y": [
          0.2927785520328425
         ],
         "yaxis": "y2"
        },
        {
         "hoverinfo": "none",
         "mode": "text",
         "showlegend": false,
         "text": [
          "6"
         ],
         "textposition": "middle center",
         "type": "scatter",
         "x": [
          0.7174587528664228
         ],
         "xaxis": "x2",
         "y": [
          -0.12024252733903819
         ],
         "yaxis": "y2"
        },
        {
         "hoverinfo": "none",
         "mode": "text",
         "showlegend": false,
         "text": [
          "7"
         ],
         "textposition": "middle center",
         "type": "scatter",
         "x": [
          0.17628683419581914
         ],
         "xaxis": "x2",
         "y": [
          -0.5584793359562014
         ],
         "yaxis": "y2"
        },
        {
         "hoverinfo": "none",
         "mode": "text",
         "showlegend": false,
         "text": [
          "8"
         ],
         "textposition": "middle center",
         "type": "scatter",
         "x": [
          0.04559083493104517
         ],
         "xaxis": "x2",
         "y": [
          -0.2594938112926938
         ],
         "yaxis": "y2"
        },
        {
         "hoverinfo": "none",
         "mode": "text",
         "showlegend": false,
         "text": [
          "9"
         ],
         "textposition": "middle center",
         "type": "scatter",
         "x": [
          -0.4904514763782157
         ],
         "xaxis": "x2",
         "y": [
          -0.4695285039039826
         ],
         "yaxis": "y2"
        },
        {
         "hoverinfo": "none",
         "mode": "text",
         "showlegend": false,
         "text": [
          "A"
         ],
         "textposition": "middle center",
         "type": "scatter",
         "x": [
          -0.5744194688019235
         ],
         "xaxis": "x2",
         "y": [
          0.3553639768847448
         ],
         "yaxis": "y2"
        },
        {
         "hoverinfo": "none",
         "mode": "text",
         "showlegend": false,
         "text": [
          "B"
         ],
         "textposition": "middle center",
         "type": "scatter",
         "x": [
          -0.19760840828681683
         ],
         "xaxis": "x2",
         "y": [
          -0.03380297840609983
         ],
         "yaxis": "y2"
        },
        {
         "hoverinfo": "none",
         "mode": "text",
         "showlegend": false,
         "text": [
          "C"
         ],
         "textposition": "middle center",
         "type": "scatter",
         "x": [
          -0.1312245440231001
         ],
         "xaxis": "x2",
         "y": [
          -0.5115507422849707
         ],
         "yaxis": "y2"
        },
        {
         "hoverinfo": "none",
         "mode": "text",
         "showlegend": false,
         "text": [
          "D"
         ],
         "textposition": "middle center",
         "type": "scatter",
         "x": [
          -0.7396641338370609
         ],
         "xaxis": "x2",
         "y": [
          -0.24353573028058417
         ],
         "yaxis": "y2"
        },
        {
         "hoverinfo": "none",
         "mode": "text",
         "showlegend": false,
         "text": [
          "E"
         ],
         "textposition": "middle center",
         "type": "scatter",
         "x": [
          0.07898209930320439
         ],
         "xaxis": "x2",
         "y": [
          0.5450999795524178
         ],
         "yaxis": "y2"
        },
        {
         "hoverinfo": "none",
         "mode": "text",
         "showlegend": false,
         "text": [
          "F"
         ],
         "textposition": "middle center",
         "type": "scatter",
         "x": [
          0.054172772734677466
         ],
         "xaxis": "x2",
         "y": [
          0.0006166336627634893
         ],
         "yaxis": "y2"
        },
        {
         "hoverinfo": "none",
         "mode": "text",
         "showlegend": false,
         "text": [
          "G"
         ],
         "textposition": "middle center",
         "type": "scatter",
         "x": [
          0.3881526330402482
         ],
         "xaxis": "x2",
         "y": [
          -0.333646244891869
         ],
         "yaxis": "y2"
        },
        {
         "hoverinfo": "none",
         "mode": "text",
         "showlegend": false,
         "text": [
          "H"
         ],
         "textposition": "middle center",
         "type": "scatter",
         "x": [
          1
         ],
         "xaxis": "x2",
         "y": [
          -0.1842659655093421
         ],
         "yaxis": "y2"
        },
        {
         "hoverinfo": "none",
         "mode": "text",
         "showlegend": false,
         "text": [
          "I"
         ],
         "textposition": "middle center",
         "type": "scatter",
         "x": [
          0.6665347559756785
         ],
         "xaxis": "x2",
         "y": [
          0.22062326506728794
         ],
         "yaxis": "y2"
        }
       ],
       "layout": {
        "annotations": [
         {
          "font": {
           "size": 16
          },
          "showarrow": false,
          "text": "COSTO INSTLACIÓN: 11.0 - RADIACIÓN WIFI: 660.0",
          "x": 0.225,
          "xanchor": "center",
          "xref": "paper",
          "y": 1,
          "yanchor": "bottom",
          "yref": "paper"
         },
         {
          "font": {
           "size": 16
          },
          "showarrow": false,
          "text": "COSTO INSTLACIÓN: 10.0 - RADIACIÓN WIFI: 705.0",
          "x": 0.775,
          "xanchor": "center",
          "xref": "paper",
          "y": 1,
          "yanchor": "bottom",
          "yref": "paper"
         }
        ],
        "height": 600,
        "showlegend": false,
        "template": {
         "data": {
          "bar": [
           {
            "error_x": {
             "color": "rgb(51,51,51)"
            },
            "error_y": {
             "color": "rgb(51,51,51)"
            },
            "marker": {
             "line": {
              "color": "rgb(237,237,237)",
              "width": 0.5
             },
             "pattern": {
              "fillmode": "overlay",
              "size": 10,
              "solidity": 0.2
             }
            },
            "type": "bar"
           }
          ],
          "barpolar": [
           {
            "marker": {
             "line": {
              "color": "rgb(237,237,237)",
              "width": 0.5
             },
             "pattern": {
              "fillmode": "overlay",
              "size": 10,
              "solidity": 0.2
             }
            },
            "type": "barpolar"
           }
          ],
          "carpet": [
           {
            "aaxis": {
             "endlinecolor": "rgb(51,51,51)",
             "gridcolor": "white",
             "linecolor": "white",
             "minorgridcolor": "white",
             "startlinecolor": "rgb(51,51,51)"
            },
            "baxis": {
             "endlinecolor": "rgb(51,51,51)",
             "gridcolor": "white",
             "linecolor": "white",
             "minorgridcolor": "white",
             "startlinecolor": "rgb(51,51,51)"
            },
            "type": "carpet"
           }
          ],
          "choropleth": [
           {
            "colorbar": {
             "outlinewidth": 0,
             "tickcolor": "rgb(237,237,237)",
             "ticklen": 6,
             "ticks": "inside"
            },
            "type": "choropleth"
           }
          ],
          "contour": [
           {
            "colorbar": {
             "outlinewidth": 0,
             "tickcolor": "rgb(237,237,237)",
             "ticklen": 6,
             "ticks": "inside"
            },
            "colorscale": [
             [
              0,
              "rgb(20,44,66)"
             ],
             [
              1,
              "rgb(90,179,244)"
             ]
            ],
            "type": "contour"
           }
          ],
          "contourcarpet": [
           {
            "colorbar": {
             "outlinewidth": 0,
             "tickcolor": "rgb(237,237,237)",
             "ticklen": 6,
             "ticks": "inside"
            },
            "type": "contourcarpet"
           }
          ],
          "heatmap": [
           {
            "colorbar": {
             "outlinewidth": 0,
             "tickcolor": "rgb(237,237,237)",
             "ticklen": 6,
             "ticks": "inside"
            },
            "colorscale": [
             [
              0,
              "rgb(20,44,66)"
             ],
             [
              1,
              "rgb(90,179,244)"
             ]
            ],
            "type": "heatmap"
           }
          ],
          "heatmapgl": [
           {
            "colorbar": {
             "outlinewidth": 0,
             "tickcolor": "rgb(237,237,237)",
             "ticklen": 6,
             "ticks": "inside"
            },
            "colorscale": [
             [
              0,
              "rgb(20,44,66)"
             ],
             [
              1,
              "rgb(90,179,244)"
             ]
            ],
            "type": "heatmapgl"
           }
          ],
          "histogram": [
           {
            "marker": {
             "pattern": {
              "fillmode": "overlay",
              "size": 10,
              "solidity": 0.2
             }
            },
            "type": "histogram"
           }
          ],
          "histogram2d": [
           {
            "colorbar": {
             "outlinewidth": 0,
             "tickcolor": "rgb(237,237,237)",
             "ticklen": 6,
             "ticks": "inside"
            },
            "colorscale": [
             [
              0,
              "rgb(20,44,66)"
             ],
             [
              1,
              "rgb(90,179,244)"
             ]
            ],
            "type": "histogram2d"
           }
          ],
          "histogram2dcontour": [
           {
            "colorbar": {
             "outlinewidth": 0,
             "tickcolor": "rgb(237,237,237)",
             "ticklen": 6,
             "ticks": "inside"
            },
            "colorscale": [
             [
              0,
              "rgb(20,44,66)"
             ],
             [
              1,
              "rgb(90,179,244)"
             ]
            ],
            "type": "histogram2dcontour"
           }
          ],
          "mesh3d": [
           {
            "colorbar": {
             "outlinewidth": 0,
             "tickcolor": "rgb(237,237,237)",
             "ticklen": 6,
             "ticks": "inside"
            },
            "type": "mesh3d"
           }
          ],
          "parcoords": [
           {
            "line": {
             "colorbar": {
              "outlinewidth": 0,
              "tickcolor": "rgb(237,237,237)",
              "ticklen": 6,
              "ticks": "inside"
             }
            },
            "type": "parcoords"
           }
          ],
          "pie": [
           {
            "automargin": true,
            "type": "pie"
           }
          ],
          "scatter": [
           {
            "fillpattern": {
             "fillmode": "overlay",
             "size": 10,
             "solidity": 0.2
            },
            "type": "scatter"
           }
          ],
          "scatter3d": [
           {
            "line": {
             "colorbar": {
              "outlinewidth": 0,
              "tickcolor": "rgb(237,237,237)",
              "ticklen": 6,
              "ticks": "inside"
             }
            },
            "marker": {
             "colorbar": {
              "outlinewidth": 0,
              "tickcolor": "rgb(237,237,237)",
              "ticklen": 6,
              "ticks": "inside"
             }
            },
            "type": "scatter3d"
           }
          ],
          "scattercarpet": [
           {
            "marker": {
             "colorbar": {
              "outlinewidth": 0,
              "tickcolor": "rgb(237,237,237)",
              "ticklen": 6,
              "ticks": "inside"
             }
            },
            "type": "scattercarpet"
           }
          ],
          "scattergeo": [
           {
            "marker": {
             "colorbar": {
              "outlinewidth": 0,
              "tickcolor": "rgb(237,237,237)",
              "ticklen": 6,
              "ticks": "inside"
             }
            },
            "type": "scattergeo"
           }
          ],
          "scattergl": [
           {
            "marker": {
             "colorbar": {
              "outlinewidth": 0,
              "tickcolor": "rgb(237,237,237)",
              "ticklen": 6,
              "ticks": "inside"
             }
            },
            "type": "scattergl"
           }
          ],
          "scattermapbox": [
           {
            "marker": {
             "colorbar": {
              "outlinewidth": 0,
              "tickcolor": "rgb(237,237,237)",
              "ticklen": 6,
              "ticks": "inside"
             }
            },
            "type": "scattermapbox"
           }
          ],
          "scatterpolar": [
           {
            "marker": {
             "colorbar": {
              "outlinewidth": 0,
              "tickcolor": "rgb(237,237,237)",
              "ticklen": 6,
              "ticks": "inside"
             }
            },
            "type": "scatterpolar"
           }
          ],
          "scatterpolargl": [
           {
            "marker": {
             "colorbar": {
              "outlinewidth": 0,
              "tickcolor": "rgb(237,237,237)",
              "ticklen": 6,
              "ticks": "inside"
             }
            },
            "type": "scatterpolargl"
           }
          ],
          "scatterternary": [
           {
            "marker": {
             "colorbar": {
              "outlinewidth": 0,
              "tickcolor": "rgb(237,237,237)",
              "ticklen": 6,
              "ticks": "inside"
             }
            },
            "type": "scatterternary"
           }
          ],
          "surface": [
           {
            "colorbar": {
             "outlinewidth": 0,
             "tickcolor": "rgb(237,237,237)",
             "ticklen": 6,
             "ticks": "inside"
            },
            "colorscale": [
             [
              0,
              "rgb(20,44,66)"
             ],
             [
              1,
              "rgb(90,179,244)"
             ]
            ],
            "type": "surface"
           }
          ],
          "table": [
           {
            "cells": {
             "fill": {
              "color": "rgb(237,237,237)"
             },
             "line": {
              "color": "white"
             }
            },
            "header": {
             "fill": {
              "color": "rgb(217,217,217)"
             },
             "line": {
              "color": "white"
             }
            },
            "type": "table"
           }
          ]
         },
         "layout": {
          "annotationdefaults": {
           "arrowhead": 0,
           "arrowwidth": 1
          },
          "autotypenumbers": "strict",
          "coloraxis": {
           "colorbar": {
            "outlinewidth": 0,
            "tickcolor": "rgb(237,237,237)",
            "ticklen": 6,
            "ticks": "inside"
           }
          },
          "colorscale": {
           "sequential": [
            [
             0,
             "rgb(20,44,66)"
            ],
            [
             1,
             "rgb(90,179,244)"
            ]
           ],
           "sequentialminus": [
            [
             0,
             "rgb(20,44,66)"
            ],
            [
             1,
             "rgb(90,179,244)"
            ]
           ]
          },
          "colorway": [
           "#F8766D",
           "#A3A500",
           "#00BF7D",
           "#00B0F6",
           "#E76BF3"
          ],
          "font": {
           "color": "rgb(51,51,51)"
          },
          "geo": {
           "bgcolor": "white",
           "lakecolor": "white",
           "landcolor": "rgb(237,237,237)",
           "showlakes": true,
           "showland": true,
           "subunitcolor": "white"
          },
          "hoverlabel": {
           "align": "left"
          },
          "hovermode": "closest",
          "paper_bgcolor": "white",
          "plot_bgcolor": "rgb(237,237,237)",
          "polar": {
           "angularaxis": {
            "gridcolor": "white",
            "linecolor": "white",
            "showgrid": true,
            "tickcolor": "rgb(51,51,51)",
            "ticks": "outside"
           },
           "bgcolor": "rgb(237,237,237)",
           "radialaxis": {
            "gridcolor": "white",
            "linecolor": "white",
            "showgrid": true,
            "tickcolor": "rgb(51,51,51)",
            "ticks": "outside"
           }
          },
          "scene": {
           "xaxis": {
            "backgroundcolor": "rgb(237,237,237)",
            "gridcolor": "white",
            "gridwidth": 2,
            "linecolor": "white",
            "showbackground": true,
            "showgrid": true,
            "tickcolor": "rgb(51,51,51)",
            "ticks": "outside",
            "zerolinecolor": "white"
           },
           "yaxis": {
            "backgroundcolor": "rgb(237,237,237)",
            "gridcolor": "white",
            "gridwidth": 2,
            "linecolor": "white",
            "showbackground": true,
            "showgrid": true,
            "tickcolor": "rgb(51,51,51)",
            "ticks": "outside",
            "zerolinecolor": "white"
           },
           "zaxis": {
            "backgroundcolor": "rgb(237,237,237)",
            "gridcolor": "white",
            "gridwidth": 2,
            "linecolor": "white",
            "showbackground": true,
            "showgrid": true,
            "tickcolor": "rgb(51,51,51)",
            "ticks": "outside",
            "zerolinecolor": "white"
           }
          },
          "shapedefaults": {
           "fillcolor": "black",
           "line": {
            "width": 0
           },
           "opacity": 0.3
          },
          "ternary": {
           "aaxis": {
            "gridcolor": "white",
            "linecolor": "white",
            "showgrid": true,
            "tickcolor": "rgb(51,51,51)",
            "ticks": "outside"
           },
           "baxis": {
            "gridcolor": "white",
            "linecolor": "white",
            "showgrid": true,
            "tickcolor": "rgb(51,51,51)",
            "ticks": "outside"
           },
           "bgcolor": "rgb(237,237,237)",
           "caxis": {
            "gridcolor": "white",
            "linecolor": "white",
            "showgrid": true,
            "tickcolor": "rgb(51,51,51)",
            "ticks": "outside"
           }
          },
          "xaxis": {
           "automargin": true,
           "gridcolor": "white",
           "linecolor": "white",
           "showgrid": true,
           "tickcolor": "rgb(51,51,51)",
           "ticks": "outside",
           "title": {
            "standoff": 15
           },
           "zerolinecolor": "white"
          },
          "yaxis": {
           "automargin": true,
           "gridcolor": "white",
           "linecolor": "white",
           "showgrid": true,
           "tickcolor": "rgb(51,51,51)",
           "ticks": "outside",
           "title": {
            "standoff": 15
           },
           "zerolinecolor": "white"
          }
         }
        },
        "title": {
         "text": "COMPARACIÓN SOLUCIÓN MULTIOBJETIVO"
        },
        "width": 1200,
        "xaxis": {
         "anchor": "y",
         "domain": [
          0,
          0.45
         ],
         "showgrid": false,
         "visible": false,
         "zeroline": false
        },
        "xaxis2": {
         "anchor": "y2",
         "domain": [
          0.55,
          1
         ],
         "showgrid": false,
         "visible": false,
         "zeroline": false
        },
        "yaxis": {
         "anchor": "x",
         "domain": [
          0,
          1
         ],
         "showgrid": false,
         "visible": false,
         "zeroline": false
        },
        "yaxis2": {
         "anchor": "x2",
         "domain": [
          0,
          1
         ],
         "showgrid": false,
         "visible": false,
         "zeroline": false
        }
       }
      }
     },
     "metadata": {},
     "output_type": "display_data"
    }
   ],
   "source": [
    "fig.update_xaxes(showgrid=False, zeroline=False, visible=False, row=1, col=1)\n",
    "fig.update_yaxes(showgrid=False, zeroline=False, visible=False, row=1, col=1)\n",
    "fig.update_xaxes(showgrid=False, zeroline=False, visible=False, row=1, col=2)\n",
    "fig.update_yaxes(showgrid=False, zeroline=False, visible=False, row=1, col=2)\n",
    "\n",
    "fig.update_layout(\n",
    "    height=600,\n",
    "    width=1200,\n",
    "    showlegend=False,\n",
    "    title_text=\"COMPARACIÓN SOLUCIÓN MULTIOBJETIVO\",\n",
    "    template=\"ggplot2\",\n",
    ")\n",
    "fig.show()"
   ]
  }
 ],
 "metadata": {
  "kernelspec": {
   "display_name": "Python 3.7.11 ('base')",
   "language": "python",
   "name": "python3"
  },
  "language_info": {
   "codemirror_mode": {
    "name": "ipython",
    "version": 3
   },
   "file_extension": ".py",
   "mimetype": "text/x-python",
   "name": "python",
   "nbconvert_exporter": "python",
   "pygments_lexer": "ipython3",
   "version": "3.10.10"
  },
  "orig_nbformat": 4,
  "vscode": {
   "interpreter": {
    "hash": "d90077ce7125d20909e99e912648307be4f32fccb58a5fb76bf45800dc67acda"
   }
  }
 },
 "nbformat": 4,
 "nbformat_minor": 2
}
