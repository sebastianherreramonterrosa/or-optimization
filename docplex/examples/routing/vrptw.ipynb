{
 "cells": [
  {
   "cell_type": "code",
   "execution_count": 18,
   "metadata": {},
   "outputs": [],
   "source": [
    "from docplex.mp.model import Model\n",
    "import random\n",
    "import plotly.graph_objects as go\n",
    "import plotly.express as px"
   ]
  },
  {
   "cell_type": "markdown",
   "metadata": {},
   "source": [
    "**Conjuntos**\n",
    "\n",
    "$$ \\text{CLIENTES} = \\{1, 2, \\ldots, N\\} $$\n",
    "$$ \\text{NODOS} = \\{0\\} \\cup \\text{CLIENTES} $$\n",
    "$$ \\text{CAMIONES} = \\{1, 2, 3, 4, 5, 6, 7\\} $$"
   ]
  },
  {
   "cell_type": "code",
   "execution_count": 19,
   "metadata": {},
   "outputs": [],
   "source": [
    "# Conjuntos\n",
    "N = 20  # Número de clientes (ajusta según sea necesario)\n",
    "CLIENTES = list(range(1, N + 1))\n",
    "NODOS = [0] + CLIENTES\n",
    "CAMIONES = [1, 2, 3, 4, 5, 6, 7]"
   ]
  },
  {
   "cell_type": "code",
   "execution_count": 20,
   "metadata": {},
   "outputs": [],
   "source": [
    "random.seed(62)"
   ]
  },
  {
   "cell_type": "markdown",
   "metadata": {},
   "source": [
    "**Parámetros**\n",
    "\n",
    "$$ \\text{DISTANCIAS}_{n1,n2}: \\text{Distancia euclidiana entre } n1 \\in \\text{NODOS} \\text{ y } n2 \\in \\text{NODOS} $$\n",
    "$$ \\text{TIEMPO\\_SERVICIO}_{cliente}: \\text{Tiempo de servicio en el cliente } cliente \\in \\text{CLIENTES} $$\n",
    "$$ \\text{VENTANA\\_TIEMPO}_{cliente} = [a_{cliente}, b_{cliente}]: \\text{Ventana de tiempo para el cliente } cliente \\in \\text{CLIENTES} $$\n",
    "$$ \\text{TIEMPO\\_TRAVEL}_{n1,n2}: \\text{Tiempo de viaje entre } n1 \\in \\text{NODOS} \\text{ y } n2 \\in \\text{NODOS} $$"
   ]
  },
  {
   "cell_type": "code",
   "execution_count": 21,
   "metadata": {},
   "outputs": [],
   "source": [
    "# Parámetros\n",
    "COORDENADAS = {n: {\"x\": random.randint(0, N * 10), \"y\": random.randint(0, N * 10)} for n in NODOS}\n",
    "VEL_CAMION = 10\n",
    "TIEMPO_VIAJE = {(n1, n2): (((COORDENADAS[n1][\"x\"] - COORDENADAS[n2][\"x\"]) ** 2 + (COORDENADAS[n1][\"y\"] - COORDENADAS[n2][\"y\"]) ** 2) ** 0.5) / VEL_CAMION for n1 in NODOS for n2 in NODOS}\n",
    "TIEMPO_SERVICIO = {cliente: random.randint(3, 7) for cliente in CLIENTES}\n",
    "VENTANA_TIEMPO = {\n",
    "    1: {\"mint\": 0, \"maxt\": 56},\n",
    "    2: {\"mint\": 3, \"maxt\": 75},\n",
    "    3: {\"mint\": 10, \"maxt\": 55},\n",
    "    4: {\"mint\": 49, \"maxt\": 93},\n",
    "    5: {\"mint\": 3, \"maxt\": 49},\n",
    "    6: {\"mint\": 19, \"maxt\": 63},\n",
    "    7: {\"mint\": 2, \"maxt\": 57},\n",
    "    8: {\"mint\": 13, \"maxt\": 61},\n",
    "    9: {\"mint\": 23, \"maxt\": 65},\n",
    "    10: {\"mint\": 4, \"maxt\": 90},\n",
    "    11: {\"mint\": 0, \"maxt\": 65},\n",
    "    12: {\"mint\": 10, \"maxt\": 52},\n",
    "    13: {\"mint\": 20, \"maxt\": 64},\n",
    "    14: {\"mint\": 31, \"maxt\": 76},\n",
    "    15: {\"mint\": 2, \"maxt\": 30},\n",
    "    16: {\"mint\": 0, \"maxt\": 82},\n",
    "    17: {\"mint\": 21, \"maxt\": 56},\n",
    "    18: {\"mint\": 44, \"maxt\": 86},\n",
    "    19: {\"mint\": 5, \"maxt\": 15},\n",
    "    20: {\"mint\": 27, \"maxt\": 72},\n",
    "}"
   ]
  },
  {
   "cell_type": "code",
   "execution_count": 22,
   "metadata": {},
   "outputs": [
    {
     "data": {
      "application/vnd.plotly.v1+json": {
       "config": {
        "plotlyServerURL": "https://plot.ly"
       },
       "data": [
        {
         "marker": {
          "color": "red",
          "size": 15
         },
         "mode": "markers",
         "name": "Depósito",
         "type": "scatter",
         "x": [
          147
         ],
         "y": [
          44
         ]
        },
        {
         "marker": {
          "color": "black",
          "size": 10
         },
         "mode": "markers",
         "name": "Clientes",
         "type": "scatter",
         "x": [
          16,
          118,
          171,
          43,
          47,
          1,
          163,
          31,
          120,
          132,
          198,
          151,
          41,
          54,
          20,
          139,
          144,
          157,
          78,
          92
         ],
         "y": [
          60,
          79,
          91,
          130,
          41,
          66,
          43,
          7,
          120,
          4,
          87,
          165,
          177,
          183,
          83,
          114,
          4,
          101,
          87,
          118
         ]
        }
       ],
       "layout": {
        "annotations": [
         {
          "font": {
           "size": 10
          },
          "showarrow": false,
          "text": "<b>C1: </b>[0, 56]",
          "x": 8,
          "y": 68
         },
         {
          "font": {
           "size": 10
          },
          "showarrow": false,
          "text": "<b>C2: </b>[3, 75]",
          "x": 110,
          "y": 87
         },
         {
          "font": {
           "size": 10
          },
          "showarrow": false,
          "text": "<b>C3: </b>[10, 55]",
          "x": 163,
          "y": 99
         },
         {
          "font": {
           "size": 10
          },
          "showarrow": false,
          "text": "<b>C4: </b>[49, 93]",
          "x": 35,
          "y": 138
         },
         {
          "font": {
           "size": 10
          },
          "showarrow": false,
          "text": "<b>C5: </b>[3, 49]",
          "x": 39,
          "y": 49
         },
         {
          "font": {
           "size": 10
          },
          "showarrow": false,
          "text": "<b>C6: </b>[19, 63]",
          "x": -7,
          "y": 74
         },
         {
          "font": {
           "size": 10
          },
          "showarrow": false,
          "text": "<b>C7: </b>[2, 57]",
          "x": 155,
          "y": 51
         },
         {
          "font": {
           "size": 10
          },
          "showarrow": false,
          "text": "<b>C8: </b>[13, 61]",
          "x": 23,
          "y": 15
         },
         {
          "font": {
           "size": 10
          },
          "showarrow": false,
          "text": "<b>C9: </b>[23, 65]",
          "x": 112,
          "y": 128
         },
         {
          "font": {
           "size": 10
          },
          "showarrow": false,
          "text": "<b>C10: </b>[4, 90]",
          "x": 124,
          "y": 12
         },
         {
          "font": {
           "size": 10
          },
          "showarrow": false,
          "text": "<b>C11: </b>[0, 65]",
          "x": 190,
          "y": 95
         },
         {
          "font": {
           "size": 10
          },
          "showarrow": false,
          "text": "<b>C12: </b>[10, 52]",
          "x": 143,
          "y": 173
         },
         {
          "font": {
           "size": 10
          },
          "showarrow": false,
          "text": "<b>C13: </b>[20, 64]",
          "x": 33,
          "y": 185
         },
         {
          "font": {
           "size": 10
          },
          "showarrow": false,
          "text": "<b>C14: </b>[31, 76]",
          "x": 46,
          "y": 191
         },
         {
          "font": {
           "size": 10
          },
          "showarrow": false,
          "text": "<b>C15: </b>[2, 30]",
          "x": 12,
          "y": 91
         },
         {
          "font": {
           "size": 10
          },
          "showarrow": false,
          "text": "<b>C16: </b>[0, 82]",
          "x": 131,
          "y": 122
         },
         {
          "font": {
           "size": 10
          },
          "showarrow": false,
          "text": "<b>C17: </b>[21, 56]",
          "x": 136,
          "y": 12
         },
         {
          "font": {
           "size": 10
          },
          "showarrow": false,
          "text": "<b>C18: </b>[44, 86]",
          "x": 149,
          "y": 109
         },
         {
          "font": {
           "size": 10
          },
          "showarrow": false,
          "text": "<b>C19: </b>[5, 15]",
          "x": 70,
          "y": 95
         },
         {
          "font": {
           "size": 10
          },
          "showarrow": false,
          "text": "<b>C20: </b>[27, 72]",
          "x": 84,
          "y": 126
         }
        ],
        "height": 600,
        "template": {
         "data": {
          "bar": [
           {
            "error_x": {
             "color": "rgb(51,51,51)"
            },
            "error_y": {
             "color": "rgb(51,51,51)"
            },
            "marker": {
             "line": {
              "color": "rgb(237,237,237)",
              "width": 0.5
             },
             "pattern": {
              "fillmode": "overlay",
              "size": 10,
              "solidity": 0.2
             }
            },
            "type": "bar"
           }
          ],
          "barpolar": [
           {
            "marker": {
             "line": {
              "color": "rgb(237,237,237)",
              "width": 0.5
             },
             "pattern": {
              "fillmode": "overlay",
              "size": 10,
              "solidity": 0.2
             }
            },
            "type": "barpolar"
           }
          ],
          "carpet": [
           {
            "aaxis": {
             "endlinecolor": "rgb(51,51,51)",
             "gridcolor": "white",
             "linecolor": "white",
             "minorgridcolor": "white",
             "startlinecolor": "rgb(51,51,51)"
            },
            "baxis": {
             "endlinecolor": "rgb(51,51,51)",
             "gridcolor": "white",
             "linecolor": "white",
             "minorgridcolor": "white",
             "startlinecolor": "rgb(51,51,51)"
            },
            "type": "carpet"
           }
          ],
          "choropleth": [
           {
            "colorbar": {
             "outlinewidth": 0,
             "tickcolor": "rgb(237,237,237)",
             "ticklen": 6,
             "ticks": "inside"
            },
            "type": "choropleth"
           }
          ],
          "contour": [
           {
            "colorbar": {
             "outlinewidth": 0,
             "tickcolor": "rgb(237,237,237)",
             "ticklen": 6,
             "ticks": "inside"
            },
            "colorscale": [
             [
              0,
              "rgb(20,44,66)"
             ],
             [
              1,
              "rgb(90,179,244)"
             ]
            ],
            "type": "contour"
           }
          ],
          "contourcarpet": [
           {
            "colorbar": {
             "outlinewidth": 0,
             "tickcolor": "rgb(237,237,237)",
             "ticklen": 6,
             "ticks": "inside"
            },
            "type": "contourcarpet"
           }
          ],
          "heatmap": [
           {
            "colorbar": {
             "outlinewidth": 0,
             "tickcolor": "rgb(237,237,237)",
             "ticklen": 6,
             "ticks": "inside"
            },
            "colorscale": [
             [
              0,
              "rgb(20,44,66)"
             ],
             [
              1,
              "rgb(90,179,244)"
             ]
            ],
            "type": "heatmap"
           }
          ],
          "heatmapgl": [
           {
            "colorbar": {
             "outlinewidth": 0,
             "tickcolor": "rgb(237,237,237)",
             "ticklen": 6,
             "ticks": "inside"
            },
            "colorscale": [
             [
              0,
              "rgb(20,44,66)"
             ],
             [
              1,
              "rgb(90,179,244)"
             ]
            ],
            "type": "heatmapgl"
           }
          ],
          "histogram": [
           {
            "marker": {
             "pattern": {
              "fillmode": "overlay",
              "size": 10,
              "solidity": 0.2
             }
            },
            "type": "histogram"
           }
          ],
          "histogram2d": [
           {
            "colorbar": {
             "outlinewidth": 0,
             "tickcolor": "rgb(237,237,237)",
             "ticklen": 6,
             "ticks": "inside"
            },
            "colorscale": [
             [
              0,
              "rgb(20,44,66)"
             ],
             [
              1,
              "rgb(90,179,244)"
             ]
            ],
            "type": "histogram2d"
           }
          ],
          "histogram2dcontour": [
           {
            "colorbar": {
             "outlinewidth": 0,
             "tickcolor": "rgb(237,237,237)",
             "ticklen": 6,
             "ticks": "inside"
            },
            "colorscale": [
             [
              0,
              "rgb(20,44,66)"
             ],
             [
              1,
              "rgb(90,179,244)"
             ]
            ],
            "type": "histogram2dcontour"
           }
          ],
          "mesh3d": [
           {
            "colorbar": {
             "outlinewidth": 0,
             "tickcolor": "rgb(237,237,237)",
             "ticklen": 6,
             "ticks": "inside"
            },
            "type": "mesh3d"
           }
          ],
          "parcoords": [
           {
            "line": {
             "colorbar": {
              "outlinewidth": 0,
              "tickcolor": "rgb(237,237,237)",
              "ticklen": 6,
              "ticks": "inside"
             }
            },
            "type": "parcoords"
           }
          ],
          "pie": [
           {
            "automargin": true,
            "type": "pie"
           }
          ],
          "scatter": [
           {
            "fillpattern": {
             "fillmode": "overlay",
             "size": 10,
             "solidity": 0.2
            },
            "type": "scatter"
           }
          ],
          "scatter3d": [
           {
            "line": {
             "colorbar": {
              "outlinewidth": 0,
              "tickcolor": "rgb(237,237,237)",
              "ticklen": 6,
              "ticks": "inside"
             }
            },
            "marker": {
             "colorbar": {
              "outlinewidth": 0,
              "tickcolor": "rgb(237,237,237)",
              "ticklen": 6,
              "ticks": "inside"
             }
            },
            "type": "scatter3d"
           }
          ],
          "scattercarpet": [
           {
            "marker": {
             "colorbar": {
              "outlinewidth": 0,
              "tickcolor": "rgb(237,237,237)",
              "ticklen": 6,
              "ticks": "inside"
             }
            },
            "type": "scattercarpet"
           }
          ],
          "scattergeo": [
           {
            "marker": {
             "colorbar": {
              "outlinewidth": 0,
              "tickcolor": "rgb(237,237,237)",
              "ticklen": 6,
              "ticks": "inside"
             }
            },
            "type": "scattergeo"
           }
          ],
          "scattergl": [
           {
            "marker": {
             "colorbar": {
              "outlinewidth": 0,
              "tickcolor": "rgb(237,237,237)",
              "ticklen": 6,
              "ticks": "inside"
             }
            },
            "type": "scattergl"
           }
          ],
          "scattermapbox": [
           {
            "marker": {
             "colorbar": {
              "outlinewidth": 0,
              "tickcolor": "rgb(237,237,237)",
              "ticklen": 6,
              "ticks": "inside"
             }
            },
            "type": "scattermapbox"
           }
          ],
          "scatterpolar": [
           {
            "marker": {
             "colorbar": {
              "outlinewidth": 0,
              "tickcolor": "rgb(237,237,237)",
              "ticklen": 6,
              "ticks": "inside"
             }
            },
            "type": "scatterpolar"
           }
          ],
          "scatterpolargl": [
           {
            "marker": {
             "colorbar": {
              "outlinewidth": 0,
              "tickcolor": "rgb(237,237,237)",
              "ticklen": 6,
              "ticks": "inside"
             }
            },
            "type": "scatterpolargl"
           }
          ],
          "scatterternary": [
           {
            "marker": {
             "colorbar": {
              "outlinewidth": 0,
              "tickcolor": "rgb(237,237,237)",
              "ticklen": 6,
              "ticks": "inside"
             }
            },
            "type": "scatterternary"
           }
          ],
          "surface": [
           {
            "colorbar": {
             "outlinewidth": 0,
             "tickcolor": "rgb(237,237,237)",
             "ticklen": 6,
             "ticks": "inside"
            },
            "colorscale": [
             [
              0,
              "rgb(20,44,66)"
             ],
             [
              1,
              "rgb(90,179,244)"
             ]
            ],
            "type": "surface"
           }
          ],
          "table": [
           {
            "cells": {
             "fill": {
              "color": "rgb(237,237,237)"
             },
             "line": {
              "color": "white"
             }
            },
            "header": {
             "fill": {
              "color": "rgb(217,217,217)"
             },
             "line": {
              "color": "white"
             }
            },
            "type": "table"
           }
          ]
         },
         "layout": {
          "annotationdefaults": {
           "arrowhead": 0,
           "arrowwidth": 1
          },
          "autotypenumbers": "strict",
          "coloraxis": {
           "colorbar": {
            "outlinewidth": 0,
            "tickcolor": "rgb(237,237,237)",
            "ticklen": 6,
            "ticks": "inside"
           }
          },
          "colorscale": {
           "sequential": [
            [
             0,
             "rgb(20,44,66)"
            ],
            [
             1,
             "rgb(90,179,244)"
            ]
           ],
           "sequentialminus": [
            [
             0,
             "rgb(20,44,66)"
            ],
            [
             1,
             "rgb(90,179,244)"
            ]
           ]
          },
          "colorway": [
           "#F8766D",
           "#A3A500",
           "#00BF7D",
           "#00B0F6",
           "#E76BF3"
          ],
          "font": {
           "color": "rgb(51,51,51)"
          },
          "geo": {
           "bgcolor": "white",
           "lakecolor": "white",
           "landcolor": "rgb(237,237,237)",
           "showlakes": true,
           "showland": true,
           "subunitcolor": "white"
          },
          "hoverlabel": {
           "align": "left"
          },
          "hovermode": "closest",
          "paper_bgcolor": "white",
          "plot_bgcolor": "rgb(237,237,237)",
          "polar": {
           "angularaxis": {
            "gridcolor": "white",
            "linecolor": "white",
            "showgrid": true,
            "tickcolor": "rgb(51,51,51)",
            "ticks": "outside"
           },
           "bgcolor": "rgb(237,237,237)",
           "radialaxis": {
            "gridcolor": "white",
            "linecolor": "white",
            "showgrid": true,
            "tickcolor": "rgb(51,51,51)",
            "ticks": "outside"
           }
          },
          "scene": {
           "xaxis": {
            "backgroundcolor": "rgb(237,237,237)",
            "gridcolor": "white",
            "gridwidth": 2,
            "linecolor": "white",
            "showbackground": true,
            "showgrid": true,
            "tickcolor": "rgb(51,51,51)",
            "ticks": "outside",
            "zerolinecolor": "white"
           },
           "yaxis": {
            "backgroundcolor": "rgb(237,237,237)",
            "gridcolor": "white",
            "gridwidth": 2,
            "linecolor": "white",
            "showbackground": true,
            "showgrid": true,
            "tickcolor": "rgb(51,51,51)",
            "ticks": "outside",
            "zerolinecolor": "white"
           },
           "zaxis": {
            "backgroundcolor": "rgb(237,237,237)",
            "gridcolor": "white",
            "gridwidth": 2,
            "linecolor": "white",
            "showbackground": true,
            "showgrid": true,
            "tickcolor": "rgb(51,51,51)",
            "ticks": "outside",
            "zerolinecolor": "white"
           }
          },
          "shapedefaults": {
           "fillcolor": "black",
           "line": {
            "width": 0
           },
           "opacity": 0.3
          },
          "ternary": {
           "aaxis": {
            "gridcolor": "white",
            "linecolor": "white",
            "showgrid": true,
            "tickcolor": "rgb(51,51,51)",
            "ticks": "outside"
           },
           "baxis": {
            "gridcolor": "white",
            "linecolor": "white",
            "showgrid": true,
            "tickcolor": "rgb(51,51,51)",
            "ticks": "outside"
           },
           "bgcolor": "rgb(237,237,237)",
           "caxis": {
            "gridcolor": "white",
            "linecolor": "white",
            "showgrid": true,
            "tickcolor": "rgb(51,51,51)",
            "ticks": "outside"
           }
          },
          "xaxis": {
           "automargin": true,
           "gridcolor": "white",
           "linecolor": "white",
           "showgrid": true,
           "tickcolor": "rgb(51,51,51)",
           "ticks": "outside",
           "title": {
            "standoff": 15
           },
           "zerolinecolor": "white"
          },
          "yaxis": {
           "automargin": true,
           "gridcolor": "white",
           "linecolor": "white",
           "showgrid": true,
           "tickcolor": "rgb(51,51,51)",
           "ticks": "outside",
           "title": {
            "standoff": 15
           },
           "zerolinecolor": "white"
          }
         }
        },
        "title": {
         "text": "COORDENADAS NODOS"
        },
        "width": 800,
        "xaxis": {
         "title": {
          "text": "X"
         }
        },
        "yaxis": {
         "title": {
          "text": "Y"
         }
        }
       }
      }
     },
     "metadata": {},
     "output_type": "display_data"
    }
   ],
   "source": [
    "fig = go.Figure()\n",
    "\n",
    "# Añadir punto de depósito en rojo\n",
    "fig.add_trace(\n",
    "    go.Scatter(\n",
    "        x=[COORDENADAS[0][\"x\"]],\n",
    "        y=[COORDENADAS[0][\"y\"]],\n",
    "        mode=\"markers\",\n",
    "        name=\"Depósito\",\n",
    "        marker=dict(color=\"red\", size=15),\n",
    "    )\n",
    ")\n",
    "\n",
    "# Añadir puntos de clientes en negro\n",
    "fig.add_trace(\n",
    "    go.Scatter(\n",
    "        x=[coord[\"x\"] for coord in list(COORDENADAS.values())[1:]],\n",
    "        y=[coord[\"y\"] for coord in list(COORDENADAS.values())[1:]],\n",
    "        mode=\"markers\",\n",
    "        name=\"Clientes\",\n",
    "        marker=dict(color=\"black\", size=10),\n",
    "    )\n",
    ")\n",
    "\n",
    "# Añadir anotaciones de clientes\n",
    "for cliente in CLIENTES:\n",
    "    coord_cliente_x = COORDENADAS[cliente][\"x\"]\n",
    "    coord_cliente_y = COORDENADAS[cliente][\"y\"]\n",
    "    ventana = f\"[{VENTANA_TIEMPO[cliente]['mint']}, {VENTANA_TIEMPO[cliente]['maxt']}]\"\n",
    "    fig.add_annotation(x=coord_cliente_x - 8, y=coord_cliente_y + 8, text=f\"<b>C{cliente}: </b>{ventana}\", showarrow=False, font=dict(size=10))\n",
    "\n",
    "# Configurar el layout del gráfico\n",
    "fig.update_layout(\n",
    "    title=f\"COORDENADAS NODOS\",\n",
    "    xaxis_title=\"X\",\n",
    "    yaxis_title=\"Y\",\n",
    "    width=800,\n",
    "    height=600,\n",
    "    template=\"ggplot2\",\n",
    ")\n",
    "\n",
    "fig.show()"
   ]
  },
  {
   "cell_type": "code",
   "execution_count": 23,
   "metadata": {},
   "outputs": [],
   "source": [
    "# Creación del modelo\n",
    "model = Model(\"VRPTW\")"
   ]
  },
  {
   "cell_type": "markdown",
   "metadata": {},
   "source": [
    "**Variables de Decisión**\n",
    "$$ x_{n1, n2, camion} = \\begin{cases} \n",
    "1 & \\text{Si el camión } camion \\text{ viaja de } n1 \\in \\text{NODOS} \\text{ a } n2 \\in \\text{NODOS} \\\\ \n",
    "0 & \\text{d.l.camion.} \n",
    "\\end{cases} $$\n",
    "$$ t_{n, camion} \\in \\mathbb{R}^{+} \\text{: Tiempo de llegada del vehículo } camion \\text{ al nodo } n \\in \\text{NODOS} $$"
   ]
  },
  {
   "cell_type": "code",
   "execution_count": 24,
   "metadata": {},
   "outputs": [],
   "source": [
    "# Variables de decisión\n",
    "x = model.binary_var_dict([(nodo1, nodo2, camion) for nodo1 in NODOS for nodo2 in NODOS for camion in CAMIONES], name=\"x\")\n",
    "t = model.continuous_var_dict([(nodo, camion) for nodo in NODOS for camion in CAMIONES], name=\"t\")"
   ]
  },
  {
   "cell_type": "markdown",
   "metadata": {},
   "source": [
    "**Función Objetivo**\n",
    "$$ \\text{Minimizar } \\sum_{camion \\in \\text{CAMIONES}} \\sum_{n1 \\in \\text{NODOS}} \\sum_{n2 \\in \\text{NODOS}} \\text{DISTANCIAS}_{n1, n2} \\cdot x_{n1, n2, camion} $$"
   ]
  },
  {
   "cell_type": "code",
   "execution_count": 25,
   "metadata": {},
   "outputs": [],
   "source": [
    "# Función objetivo\n",
    "model.minimize(model.sum(TIEMPO_VIAJE[(nodo1, nodo2)] * x[(nodo1, nodo2, camion)] for nodo1 in NODOS for nodo2 in NODOS for camion in CAMIONES))"
   ]
  },
  {
   "cell_type": "markdown",
   "metadata": {},
   "source": [
    "**Restricciones**\n",
    "\n",
    "1. **Prohibición de bucles:**\n",
    "$$ \\forall n \\in \\text{NODOS}, \\forall camion \\in \\text{CAMIONES}: x_{n, n, camion} = 0 $$\n",
    "\n",
    "2. **Asignación única de salidas para cada cliente:**\n",
    "$$ \\forall cliente \\in \\text{CLIENTES}: \\sum_{n \\in \\text{NODOS}} \\sum_{camion \\in \\text{CAMIONES}} x_{cliente, n, camion} = 1 $$\n",
    "\n",
    "3. **Asignación única de entradas para cada cliente:**\n",
    "$$ \\forall cliente \\in \\text{CLIENTES}: \\sum_{n \\in \\text{NODOS}} \\sum_{camion \\in \\text{CAMIONES}} x_{n, cliente, camion} = 1 $$\n",
    "\n",
    "4. **Visita de un camión desde el depósito a un cliente:**\n",
    "$$ \\forall camion \\in \\text{CAMIONES}: \\sum_{cliente \\in \\text{CLIENTES}} x_{0, cliente, camion} \\leq 1 $$\n",
    "\n",
    "5. **Retorno de un camión del cliente al depósito:**\n",
    "$$ \\forall camion \\in \\text{CAMIONES}: \\sum_{cliente \\in \\text{CLIENTES}} x_{cliente, 0, camion} \\leq 1 $$\n",
    "\n",
    "6. **Flujo de continuidad:**\n",
    "$$ \\forall camion \\in \\text{CAMIONES}, \\forall n \\in \\text{NODOS}: \\sum_{n' \\in \\text{NODOS}} x_{n', n, camion} = \\sum_{n' \\in \\text{NODOS}} x_{n, n', camion} $$\n",
    "\n",
    "7. **Restricciones de ventana de tiempo:**\n",
    "$$ \\forall cliente \\in \\text{CLIENTES}, \\forall camion \\in \\text{CAMIONES}: a_{cliente} \\leq t_{cliente, camion} \\leq b_{cliente} $$\n",
    "\n",
    "8. **Tiempo de llegada y servicio:**\n",
    "$$ \\forall cl1, cl2 \\in \\text{CLIENTES}, cl1 \\neq cl2, \\forall c \\in \\text{CAMIONES}: \\text{Si } x_{cl1, cl2, c} = 1 \\rightarrow t_{cl2, c} = t_{cl1, c} + \\text{TIEMPO\\_TRAVEL}_{cl1, cl2} + \\text{TIEMPO\\_SERVICIO}_{cl2}$$\n",
    "$$ \\forall cl1, cl2 \\in \\text{CLIENTES}, cl1 \\neq cl2, \\forall c \\in \\text{CAMIONES}: t_{cl2, c} \\geq t_{cl1, c} + \\text{TIEMPO\\_TRAVEL}_{cl1, cl2} + \\text{TIEMPO\\_SERVICIO}_{cl2} - \\mathcal{M}  \\cdot (1 - x_{cl1, cl2, c}) $$\n",
    "\n",
    "\n",
    "9. **Tiempo de llegada del depósito a los clientes:**\n",
    "$$ \\forall cl \\in \\text{CLIENTES}, \\forall c \\in \\text{CAMIONES}: \\text{Si } x_{0, cl, c} = 1 \\rightarrow t_{cl, camion} =  \\text{TIEMPO\\_TRAVEL}_{0, cliente} + \\text{TIEMPO\\_SERVICIO}_{cl}$$\n",
    "$$ \\forall cl \\in \\text{CLIENTES}, \\forall c \\in \\text{CAMIONES}: t_{cl, camion} \\geq \\text{TIEMPO\\_TRAVEL}_{0, cliente} + \\text{TIEMPO\\_SERVICIO}_{cl} - 10000 \\cdot (1 - x_{0, cl, c}) $$\n"
   ]
  },
  {
   "cell_type": "code",
   "execution_count": 26,
   "metadata": {},
   "outputs": [],
   "source": [
    "# Restricciones\n",
    "# 1. Prohibición de bucles\n",
    "for nodo in NODOS:\n",
    "    for camion in CAMIONES:\n",
    "        model.add_constraint(x[nodo, nodo, camion] == 0)\n",
    "\n",
    "# 2. Asignación única de salidas para cada cliente\n",
    "for cliente in CLIENTES:\n",
    "    model.add_constraint(model.sum(x[cliente, nodo, camion] for nodo in NODOS for camion in CAMIONES) == 1)\n",
    "\n",
    "# 3. Asignación única de entradas para cada cliente\n",
    "for cliente in CLIENTES:\n",
    "    model.add_constraint(model.sum(x[nodo, cliente, camion] for nodo in NODOS for camion in CAMIONES) == 1)\n",
    "\n",
    "for camion in CAMIONES:\n",
    "    model.add_constraint(model.sum(x[0, cliente, camion] for cliente in CLIENTES) <= 1)\n",
    "    model.add_constraint(model.sum(x[cliente, 0, camion] for cliente in CLIENTES) <= 1)\n",
    "\n",
    "# 6. Flujo de continuidad\n",
    "for camion in CAMIONES:\n",
    "    for nodo in NODOS:\n",
    "        model.add_constraint(model.sum(x[nodo_, nodo, camion] for nodo_ in NODOS) == model.sum(x[nodo, nodo_, camion] for nodo_ in NODOS))\n",
    "\n",
    "# 7. Restricciones de ventana de tiempo\n",
    "for cliente in CLIENTES:\n",
    "    for camion in CAMIONES:\n",
    "        model.add_constraint(t[cliente, camion] - TIEMPO_SERVICIO[cliente] >= VENTANA_TIEMPO[cliente][\"mint\"])\n",
    "        model.add_constraint(t[cliente, camion] <= VENTANA_TIEMPO[cliente][\"maxt\"])\n",
    "        \n",
    "# 8. Tiempo de llegada y servicio\n",
    "for cliente1 in CLIENTES:\n",
    "    for cliente2 in CLIENTES:\n",
    "        for camion in CAMIONES:\n",
    "            if cliente1 != cliente2:\n",
    "                # model.add_constraint(t[cliente2, camion] >= t[cliente1, camion] + TIEMPO_VIAJE[(cliente1, cliente2)] + TIEMPO_SERVICIO[cliente1] - 10000 * (1 - x[cliente1, cliente2, camion]))\n",
    "                model.add_indicator(x[cliente1, cliente2, camion], t[cliente2, camion] == t[cliente1, camion] + TIEMPO_VIAJE[(cliente1, cliente2)] + TIEMPO_SERVICIO[cliente2], active_value = 1)\n",
    "\n",
    "# 9. Tiempo de lltegada del depósito a los clientes\n",
    "for cliente in CLIENTES:\n",
    "    for camion in CAMIONES:\n",
    "        # model.add_constraint(t[cliente, camion] >= TIEMPO_VIAJE[(0, cliente)] + 0 - 10000 * (1 - x[0, cliente, camion]))\n",
    "        model.add_indicator(x[0, cliente, camion], t[cliente, camion] == TIEMPO_VIAJE[0, cliente] + TIEMPO_SERVICIO[cliente], active_value = 1)"
   ]
  },
  {
   "cell_type": "code",
   "execution_count": 27,
   "metadata": {},
   "outputs": [
    {
     "name": "stdout",
     "output_type": "stream",
     "text": [
      "Version identifier: 22.1.1.0 | 2022-11-27 | 9160aff4d\n",
      "CPXPARAM_Read_DataCheck                          1\n",
      "CPXPARAM_TimeLimit                               20\n"
     ]
    },
    {
     "name": "stdout",
     "output_type": "stream",
     "text": [
      "Tried aggregator 2 times.\n",
      "MIP Presolve eliminated 427 rows and 651 columns.\n",
      "MIP Presolve modified 959 coefficients.\n",
      "Aggregator did 959 substitutions.\n",
      "Reduced MIP has 1482 rows, 3864 columns, and 13615 nonzeros.\n",
      "Reduced MIP has 2443 binaries, 0 generals, 0 SOSs, and 2303 indicators.\n",
      "Presolve time = 0.05 sec. (23.18 ticks)\n",
      "Probing time = 0.09 sec. (23.69 ticks)\n",
      "Tried aggregator 1 time.\n",
      "Detecting symmetries...\n",
      "Reduced MIP has 1482 rows, 3864 columns, and 13615 nonzeros.\n",
      "Reduced MIP has 2443 binaries, 0 generals, 0 SOSs, and 2303 indicators.\n",
      "Presolve time = 0.01 sec. (9.28 ticks)\n",
      "Probing time = 0.01 sec. (4.74 ticks)\n",
      "Clique table members: 8333.\n",
      "MIP emphasis: balance optimality and feasibility.\n",
      "MIP search method: dynamic search.\n",
      "Parallel mode: deterministic, using up to 12 threads.\n",
      "Root relaxation solution time = 0.02 sec. (3.73 ticks)\n",
      "\n",
      "        Nodes                                         Cuts/\n",
      "   Node  Left     Objective  IInf  Best Integer    Best Bound    ItCnt     Gap\n",
      "\n",
      "      0     0       69.1024    20                     69.1024       88         \n",
      "      0     0       69.1024    20                    Cuts: 70      105         \n",
      "      0     0       69.1024    22                    Cuts: 64      122         \n",
      "Detecting symmetries...\n",
      "      0     2       69.1024    22                     69.1024      122         \n",
      "Elapsed time = 1.44 sec. (652.72 ticks, tree = 0.02 MB, solutions = 0)\n",
      "*  1871+ 1122                          179.7311       69.3597            61.41%\n",
      "*  1904  1287      integral     0      173.6829       69.3597    20485   60.07%\n",
      "   2194  1419    infeasible            173.6829       69.6115    22519   59.92%\n",
      "*  3004+ 1986                          159.3823       69.7622            56.23%\n",
      "*  3077  2069      integral     0      158.9167       69.7622    34552   56.10%\n",
      "\n",
      "Performing restart 1\n",
      "\n",
      "Repeating presolve.\n",
      "Tried aggregator 1 time.\n",
      "Reduced MIP has 1482 rows, 3864 columns, and 13615 nonzeros.\n",
      "Reduced MIP has 2443 binaries, 0 generals, 0 SOSs, and 2303 indicators.\n",
      "Presolve time = 0.02 sec. (7.11 ticks)\n",
      "Tried aggregator 1 time.\n",
      "Reduced MIP has 1482 rows, 3864 columns, and 13615 nonzeros.\n",
      "Reduced MIP has 2443 binaries, 0 generals, 0 SOSs, and 2303 indicators.\n",
      "Presolve time = 0.02 sec. (9.80 ticks)\n",
      "Represolve time = 0.16 sec. (49.75 ticks)\n",
      "   3943     0       69.1024    29      158.9167     Cuts: 103    48187   56.10%\n",
      "   3943     0       69.1024    31      158.9167       Cuts: 8    48203   56.10%\n",
      "   3943     0       69.1024    22      158.9167      Cuts: 22    48228   56.10%\n",
      "   3943     0       69.1024    20      158.9167      Cuts: 69    48243   56.10%\n",
      "   3943     0       69.1024    22      158.9167      Cuts: 82    48263   56.10%\n",
      "   3943     2       69.1024    22      158.9167       69.7719    48263   56.10%\n",
      "   4397   271      108.3198     9      158.9167       69.7719    53752   56.10%\n",
      "   5448   778      136.7810    10      158.9167       69.7719    62316   56.10%\n",
      "   6615  1631       78.2235    11      158.9167       70.2133    79252   55.82%\n",
      "*  6808  1688      integral     0      152.6264       70.2133    80427   54.00%\n",
      "*  6819  1796      integral     0      148.0578       70.2133    83670   52.58%\n",
      "   7933  2505      116.1835    11      148.0578       71.0174    99980   52.03%\n",
      "   9520  3334      113.2881    24      148.0578       71.9298   118499   51.42%\n",
      "  11178  4600       97.2323    11      148.0578       75.7192   145374   48.86%\n",
      "  17924  8566       90.4896    14      148.0578       77.5235   246372   47.64%\n",
      "Elapsed time = 12.56 sec. (3699.61 ticks, tree = 18.43 MB, solutions = 6)\n",
      "  25036 13138       90.6830     8      148.0578       78.5396   372373   46.95%\n",
      "  31401 16981       79.3609    42      148.0578       79.2576   487271   46.47%\n",
      "* 31805+17434                          147.7996       79.3407            46.32%\n",
      "\n",
      "Clique cuts applied:  5\n",
      "Cover cuts applied:  127\n",
      "Implied bound cuts applied:  497\n",
      "Zero-half cuts applied:  4\n",
      "Gomory fractional cuts applied:  4\n",
      "\n",
      "Root node processing (before b&c):\n",
      "  Real time             =    1.44 sec. (651.99 ticks)\n",
      "Parallel b&c, 12 threads:\n",
      "  Real time             =   18.64 sec. (5122.08 ticks)\n",
      "  Sync time (average)   =    3.84 sec.\n",
      "  Wait time (average)   =    0.05 sec.\n",
      "                          ------------\n",
      "Total (root+branch&cut) =   20.08 sec. (5774.07 ticks)\n"
     ]
    }
   ],
   "source": [
    "# Resolviendo el modelo\n",
    "# model.parameters.mip.limits.solutions = 1\n",
    "model.set_time_limit(20)\n",
    "solution = model.solve(log_output=True)\n"
   ]
  },
  {
   "cell_type": "code",
   "execution_count": 28,
   "metadata": {},
   "outputs": [
    {
     "name": "stdout",
     "output_type": "stream",
     "text": [
      "==== Ruta camión 1 ====\n",
      "0 -> 11 -> 3 -> 12 -> 9 -> 16 -> 18 -> 0\n",
      "==== Ruta camión 2 ====\n",
      "0 -> 19 -> 7 -> 10 -> 17 -> 0\n",
      "==== Ruta camión 3 ====\n",
      "0 -> 5 -> 8 -> 13 -> 14 -> 4 -> 0\n",
      "==== Ruta camión 5 ====\n",
      "0 -> 15 -> 6 -> 1 -> 20 -> 2 -> 0\n",
      "\n",
      "==== Arreglo de rutas ====\n",
      "{1: [0, 11, 3, 12, 9, 16, 18, 0], 2: [0, 19, 7, 10, 17, 0], 3: [0, 5, 8, 13, 14, 4, 0], 5: [0, 15, 6, 1, 20, 2, 0]}\n"
     ]
    }
   ],
   "source": [
    "rutas = {}\n",
    "cliente_camion = {}\n",
    "for camion in CAMIONES:\n",
    "    for cliente in CLIENTES:\n",
    "        if x[0, cliente, camion].solution_value > 0.9:\n",
    "            print(f\"==== Ruta camión {camion} ====\")\n",
    "            ruta = [0, cliente]\n",
    "            r = \"0 -> \" + str(cliente) + \" -> \"\n",
    "            cliente_camion[cliente] = camion\n",
    "\n",
    "            cliente_actual = cliente\n",
    "            while x[cliente_actual, 0, camion].solution_value < 0.9:\n",
    "                for siguiente_cliente in CLIENTES:\n",
    "                    if x[cliente_actual, siguiente_cliente, camion].solution_value > 0.9:\n",
    "                        break\n",
    "                cliente_camion[siguiente_cliente] = camion\n",
    "                ruta.append(siguiente_cliente)\n",
    "                r += str(siguiente_cliente) + \" -> \"\n",
    "                cliente_actual = siguiente_cliente\n",
    "                \n",
    "\n",
    "            ruta.append(0)\n",
    "            r += \"0\"\n",
    "            print(r)\n",
    "            rutas[camion] = ruta\n",
    "            \n",
    "print(\"\\n==== Arreglo de rutas ====\")\n",
    "print(rutas)\n"
   ]
  },
  {
   "cell_type": "code",
   "execution_count": 29,
   "metadata": {},
   "outputs": [
    {
     "data": {
      "application/vnd.plotly.v1+json": {
       "config": {
        "plotlyServerURL": "https://plot.ly"
       },
       "data": [
        {
         "line": {
          "color": "#DC3912",
          "dash": "solid",
          "width": 2
         },
         "mode": "lines",
         "name": "Ruta C1 - T: 32.53",
         "type": "scatter",
         "x": [
          147,
          198,
          171,
          151,
          120,
          139,
          157,
          147
         ],
         "y": [
          44,
          87,
          91,
          165,
          120,
          114,
          101,
          44
         ]
        },
        {
         "line": {
          "color": "#FF9900",
          "dash": "solid",
          "width": 2
         },
         "mode": "lines",
         "name": "Ruta C2 - T: 27.89",
         "type": "scatter",
         "x": [
          147,
          78,
          163,
          132,
          144,
          147
         ],
         "y": [
          44,
          87,
          43,
          4,
          4,
          44
         ]
        },
        {
         "line": {
          "color": "#109618",
          "dash": "solid",
          "width": 2
         },
         "mode": "lines",
         "name": "Ruta C3 - T: 51.13",
         "type": "scatter",
         "x": [
          147,
          47,
          31,
          41,
          54,
          43,
          147
         ],
         "y": [
          44,
          41,
          7,
          177,
          183,
          130,
          44
         ]
        },
        {
         "line": {
          "color": "#0099C6",
          "dash": "solid",
          "width": 2
         },
         "mode": "lines",
         "name": "Ruta C5 - T: 36.24",
         "type": "scatter",
         "x": [
          147,
          20,
          1,
          16,
          92,
          118,
          147
         ],
         "y": [
          44,
          83,
          66,
          60,
          118,
          79,
          44
         ]
        },
        {
         "marker": {
          "color": "red",
          "size": 15
         },
         "mode": "markers",
         "name": "Depósito",
         "type": "scatter",
         "x": [
          147
         ],
         "y": [
          44
         ]
        },
        {
         "marker": {
          "color": "black",
          "size": 10
         },
         "mode": "markers",
         "name": "Clientes",
         "type": "scatter",
         "x": [
          16,
          118,
          171,
          43,
          47,
          1,
          163,
          31,
          120,
          132,
          198,
          151,
          41,
          54,
          20,
          139,
          144,
          157,
          78,
          92
         ],
         "y": [
          60,
          79,
          91,
          130,
          41,
          66,
          43,
          7,
          120,
          4,
          87,
          165,
          177,
          183,
          83,
          114,
          4,
          101,
          87,
          118
         ]
        }
       ],
       "layout": {
        "annotations": [
         {
          "arrowcolor": "#DC3912",
          "arrowhead": 1,
          "arrowsize": 2,
          "arrowwidth": 1,
          "ax": 167.4,
          "axref": "x",
          "ay": 61.2,
          "ayref": "y",
          "showarrow": true,
          "x": 172.5,
          "xref": "x",
          "y": 65.5,
          "yref": "y"
         },
         {
          "arrowcolor": "#DC3912",
          "arrowhead": 1,
          "arrowsize": 2,
          "arrowwidth": 1,
          "ax": 187.2,
          "axref": "x",
          "ay": 88.6,
          "ayref": "y",
          "showarrow": true,
          "x": 184.5,
          "xref": "x",
          "y": 89,
          "yref": "y"
         },
         {
          "arrowcolor": "#DC3912",
          "arrowhead": 1,
          "arrowsize": 2,
          "arrowwidth": 1,
          "ax": 163,
          "axref": "x",
          "ay": 120.6,
          "ayref": "y",
          "showarrow": true,
          "x": 161,
          "xref": "x",
          "y": 128,
          "yref": "y"
         },
         {
          "arrowcolor": "#DC3912",
          "arrowhead": 1,
          "arrowsize": 2,
          "arrowwidth": 1,
          "ax": 138.6,
          "axref": "x",
          "ay": 147,
          "ayref": "y",
          "showarrow": true,
          "x": 135.5,
          "xref": "x",
          "y": 142.5,
          "yref": "y"
         },
         {
          "arrowcolor": "#DC3912",
          "arrowhead": 1,
          "arrowsize": 2,
          "arrowwidth": 1,
          "ax": 127.6,
          "axref": "x",
          "ay": 117.6,
          "ayref": "y",
          "showarrow": true,
          "x": 129.5,
          "xref": "x",
          "y": 117,
          "yref": "y"
         },
         {
          "arrowcolor": "#DC3912",
          "arrowhead": 1,
          "arrowsize": 2,
          "arrowwidth": 1,
          "ax": 146.2,
          "axref": "x",
          "ay": 108.8,
          "ayref": "y",
          "showarrow": true,
          "x": 148,
          "xref": "x",
          "y": 107.5,
          "yref": "y"
         },
         {
          "arrowcolor": "#DC3912",
          "arrowhead": 1,
          "arrowsize": 2,
          "arrowwidth": 1,
          "ax": 153,
          "axref": "x",
          "ay": 78.2,
          "ayref": "y",
          "showarrow": true,
          "x": 152,
          "xref": "x",
          "y": 72.5,
          "yref": "y"
         },
         {
          "arrowcolor": "#FF9900",
          "arrowhead": 1,
          "arrowsize": 2,
          "arrowwidth": 1,
          "ax": 119.4,
          "axref": "x",
          "ay": 61.2,
          "ayref": "y",
          "showarrow": true,
          "x": 112.5,
          "xref": "x",
          "y": 65.5,
          "yref": "y"
         },
         {
          "arrowcolor": "#FF9900",
          "arrowhead": 1,
          "arrowsize": 2,
          "arrowwidth": 1,
          "ax": 112,
          "axref": "x",
          "ay": 69.4,
          "ayref": "y",
          "showarrow": true,
          "x": 120.5,
          "xref": "x",
          "y": 65,
          "yref": "y"
         },
         {
          "arrowcolor": "#FF9900",
          "arrowhead": 1,
          "arrowsize": 2,
          "arrowwidth": 1,
          "ax": 150.6,
          "axref": "x",
          "ay": 27.4,
          "ayref": "y",
          "showarrow": true,
          "x": 147.5,
          "xref": "x",
          "y": 23.5,
          "yref": "y"
         },
         {
          "arrowcolor": "#FF9900",
          "arrowhead": 1,
          "arrowsize": 2,
          "arrowwidth": 1,
          "ax": 136.8,
          "axref": "x",
          "ay": 4,
          "ayref": "y",
          "showarrow": true,
          "x": 138,
          "xref": "x",
          "y": 4,
          "yref": "y"
         },
         {
          "arrowcolor": "#FF9900",
          "arrowhead": 1,
          "arrowsize": 2,
          "arrowwidth": 1,
          "ax": 145.2,
          "axref": "x",
          "ay": 20,
          "ayref": "y",
          "showarrow": true,
          "x": 145.5,
          "xref": "x",
          "y": 24,
          "yref": "y"
         },
         {
          "arrowcolor": "#109618",
          "arrowhead": 1,
          "arrowsize": 2,
          "arrowwidth": 1,
          "ax": 107,
          "axref": "x",
          "ay": 42.8,
          "ayref": "y",
          "showarrow": true,
          "x": 97,
          "xref": "x",
          "y": 42.5,
          "yref": "y"
         },
         {
          "arrowcolor": "#109618",
          "arrowhead": 1,
          "arrowsize": 2,
          "arrowwidth": 1,
          "ax": 40.6,
          "axref": "x",
          "ay": 27.4,
          "ayref": "y",
          "showarrow": true,
          "x": 39,
          "xref": "x",
          "y": 24,
          "yref": "y"
         },
         {
          "arrowcolor": "#109618",
          "arrowhead": 1,
          "arrowsize": 2,
          "arrowwidth": 1,
          "ax": 35,
          "axref": "x",
          "ay": 75,
          "ayref": "y",
          "showarrow": true,
          "x": 36,
          "xref": "x",
          "y": 92,
          "yref": "y"
         },
         {
          "arrowcolor": "#109618",
          "arrowhead": 1,
          "arrowsize": 2,
          "arrowwidth": 1,
          "ax": 46.2,
          "axref": "x",
          "ay": 179.4,
          "ayref": "y",
          "showarrow": true,
          "x": 47.5,
          "xref": "x",
          "y": 180,
          "yref": "y"
         },
         {
          "arrowcolor": "#109618",
          "arrowhead": 1,
          "arrowsize": 2,
          "arrowwidth": 1,
          "ax": 49.6,
          "axref": "x",
          "ay": 161.8,
          "ayref": "y",
          "showarrow": true,
          "x": 48.5,
          "xref": "x",
          "y": 156.5,
          "yref": "y"
         },
         {
          "arrowcolor": "#109618",
          "arrowhead": 1,
          "arrowsize": 2,
          "arrowwidth": 1,
          "ax": 84.6,
          "axref": "x",
          "ay": 95.6,
          "ayref": "y",
          "showarrow": true,
          "x": 95,
          "xref": "x",
          "y": 87,
          "yref": "y"
         },
         {
          "arrowcolor": "#0099C6",
          "arrowhead": 1,
          "arrowsize": 2,
          "arrowwidth": 1,
          "ax": 96.2,
          "axref": "x",
          "ay": 59.6,
          "ayref": "y",
          "showarrow": true,
          "x": 83.5,
          "xref": "x",
          "y": 63.5,
          "yref": "y"
         },
         {
          "arrowcolor": "#0099C6",
          "arrowhead": 1,
          "arrowsize": 2,
          "arrowwidth": 1,
          "ax": 12.4,
          "axref": "x",
          "ay": 76.2,
          "ayref": "y",
          "showarrow": true,
          "x": 10.5,
          "xref": "x",
          "y": 74.5,
          "yref": "y"
         },
         {
          "arrowcolor": "#0099C6",
          "arrowhead": 1,
          "arrowsize": 2,
          "arrowwidth": 1,
          "ax": 7,
          "axref": "x",
          "ay": 63.6,
          "ayref": "y",
          "showarrow": true,
          "x": 8.5,
          "xref": "x",
          "y": 63,
          "yref": "y"
         },
         {
          "arrowcolor": "#0099C6",
          "arrowhead": 1,
          "arrowsize": 2,
          "arrowwidth": 1,
          "ax": 46.4,
          "axref": "x",
          "ay": 83.2,
          "ayref": "y",
          "showarrow": true,
          "x": 54,
          "xref": "x",
          "y": 89,
          "yref": "y"
         },
         {
          "arrowcolor": "#0099C6",
          "arrowhead": 1,
          "arrowsize": 2,
          "arrowwidth": 1,
          "ax": 102.4,
          "axref": "x",
          "ay": 102.4,
          "ayref": "y",
          "showarrow": true,
          "x": 105,
          "xref": "x",
          "y": 98.5,
          "yref": "y"
         },
         {
          "arrowcolor": "#0099C6",
          "arrowhead": 1,
          "arrowsize": 2,
          "arrowwidth": 1,
          "ax": 129.6,
          "axref": "x",
          "ay": 65,
          "ayref": "y",
          "showarrow": true,
          "x": 132.5,
          "xref": "x",
          "y": 61.5,
          "yref": "y"
         },
         {
          "font": {
           "size": 10
          },
          "showarrow": false,
          "text": "<b>C1:</b>  [0, 56]<br />TI: 28.45 | TF: 31.45",
          "x": 8,
          "y": 68
         },
         {
          "font": {
           "size": 10
          },
          "showarrow": false,
          "text": "<b>C2:</b>  [3, 75]<br />TI: 49.70 | TF: 54.70",
          "x": 110,
          "y": 87
         },
         {
          "font": {
           "size": 10
          },
          "showarrow": false,
          "text": "<b>C3:</b>  [10, 55]<br />TI: 16.40 | TF: 21.40",
          "x": 163,
          "y": 99
         },
         {
          "font": {
           "size": 10
          },
          "showarrow": false,
          "text": "<b>C4:</b>  [49, 93]<br />TI: 62.64 | TF: 69.64",
          "x": 35,
          "y": 138
         },
         {
          "font": {
           "size": 10
          },
          "showarrow": false,
          "text": "<b>C5:</b>  [3, 49]<br />TI: 10.00 | TF: 16.00",
          "x": 39,
          "y": 49
         },
         {
          "font": {
           "size": 10
          },
          "showarrow": false,
          "text": "<b>C6:</b>  [19, 63]<br />TI: 22.83 | TF: 26.83",
          "x": -7,
          "y": 74
         },
         {
          "font": {
           "size": 10
          },
          "showarrow": false,
          "text": "<b>C7:</b>  [2, 57]<br />TI: 21.70 | TF: 28.70",
          "x": 155,
          "y": 51
         },
         {
          "font": {
           "size": 10
          },
          "showarrow": false,
          "text": "<b>C8:</b>  [13, 61]<br />TI: 19.76 | TF: 24.76",
          "x": 23,
          "y": 15
         },
         {
          "font": {
           "size": 10
          },
          "showarrow": false,
          "text": "<b>C9:</b>  [23, 65]<br />TI: 37.53 | TF: 41.53",
          "x": 112,
          "y": 128
         },
         {
          "font": {
           "size": 10
          },
          "showarrow": false,
          "text": "<b>C10:</b>  [4, 90]<br />TI: 33.68 | TF: 37.68",
          "x": 124,
          "y": 12
         },
         {
          "font": {
           "size": 10
          },
          "showarrow": false,
          "text": "<b>C11:</b>  [0, 65]<br />TI: 6.67 | TF: 13.67",
          "x": 190,
          "y": 95
         },
         {
          "font": {
           "size": 10
          },
          "showarrow": false,
          "text": "<b>C12:</b>  [10, 52]<br />TI: 29.07 | TF: 32.07",
          "x": 143,
          "y": 173
         },
         {
          "font": {
           "size": 10
          },
          "showarrow": false,
          "text": "<b>C13:</b>  [20, 64]<br />TI: 41.79 | TF: 48.79",
          "x": 33,
          "y": 185
         },
         {
          "font": {
           "size": 10
          },
          "showarrow": false,
          "text": "<b>C14:</b>  [31, 76]<br />TI: 50.22 | TF: 57.22",
          "x": 46,
          "y": 191
         },
         {
          "font": {
           "size": 10
          },
          "showarrow": false,
          "text": "<b>C15:</b>  [2, 30]<br />TI: 13.29 | TF: 20.29",
          "x": 12,
          "y": 91
         },
         {
          "font": {
           "size": 10
          },
          "showarrow": false,
          "text": "<b>C16:</b>  [0, 82]<br />TI: 43.52 | TF: 47.52",
          "x": 131,
          "y": 122
         },
         {
          "font": {
           "size": 10
          },
          "showarrow": false,
          "text": "<b>C17:</b>  [21, 56]<br />TI: 38.88 | TF: 41.88",
          "x": 136,
          "y": 12
         },
         {
          "font": {
           "size": 10
          },
          "showarrow": false,
          "text": "<b>C18:</b>  [44, 86]<br />TI: 49.74 | TF: 53.74",
          "x": 149,
          "y": 109
         },
         {
          "font": {
           "size": 10
          },
          "showarrow": false,
          "text": "<b>C19:</b>  [5, 15]<br />TI: 8.13 | TF: 12.13",
          "x": 70,
          "y": 95
         },
         {
          "font": {
           "size": 10
          },
          "showarrow": false,
          "text": "<b>C20:</b>  [27, 72]<br />TI: 41.01 | TF: 45.01",
          "x": 84,
          "y": 126
         }
        ],
        "height": 1000,
        "template": {
         "data": {
          "bar": [
           {
            "error_x": {
             "color": "rgb(51,51,51)"
            },
            "error_y": {
             "color": "rgb(51,51,51)"
            },
            "marker": {
             "line": {
              "color": "rgb(237,237,237)",
              "width": 0.5
             },
             "pattern": {
              "fillmode": "overlay",
              "size": 10,
              "solidity": 0.2
             }
            },
            "type": "bar"
           }
          ],
          "barpolar": [
           {
            "marker": {
             "line": {
              "color": "rgb(237,237,237)",
              "width": 0.5
             },
             "pattern": {
              "fillmode": "overlay",
              "size": 10,
              "solidity": 0.2
             }
            },
            "type": "barpolar"
           }
          ],
          "carpet": [
           {
            "aaxis": {
             "endlinecolor": "rgb(51,51,51)",
             "gridcolor": "white",
             "linecolor": "white",
             "minorgridcolor": "white",
             "startlinecolor": "rgb(51,51,51)"
            },
            "baxis": {
             "endlinecolor": "rgb(51,51,51)",
             "gridcolor": "white",
             "linecolor": "white",
             "minorgridcolor": "white",
             "startlinecolor": "rgb(51,51,51)"
            },
            "type": "carpet"
           }
          ],
          "choropleth": [
           {
            "colorbar": {
             "outlinewidth": 0,
             "tickcolor": "rgb(237,237,237)",
             "ticklen": 6,
             "ticks": "inside"
            },
            "type": "choropleth"
           }
          ],
          "contour": [
           {
            "colorbar": {
             "outlinewidth": 0,
             "tickcolor": "rgb(237,237,237)",
             "ticklen": 6,
             "ticks": "inside"
            },
            "colorscale": [
             [
              0,
              "rgb(20,44,66)"
             ],
             [
              1,
              "rgb(90,179,244)"
             ]
            ],
            "type": "contour"
           }
          ],
          "contourcarpet": [
           {
            "colorbar": {
             "outlinewidth": 0,
             "tickcolor": "rgb(237,237,237)",
             "ticklen": 6,
             "ticks": "inside"
            },
            "type": "contourcarpet"
           }
          ],
          "heatmap": [
           {
            "colorbar": {
             "outlinewidth": 0,
             "tickcolor": "rgb(237,237,237)",
             "ticklen": 6,
             "ticks": "inside"
            },
            "colorscale": [
             [
              0,
              "rgb(20,44,66)"
             ],
             [
              1,
              "rgb(90,179,244)"
             ]
            ],
            "type": "heatmap"
           }
          ],
          "heatmapgl": [
           {
            "colorbar": {
             "outlinewidth": 0,
             "tickcolor": "rgb(237,237,237)",
             "ticklen": 6,
             "ticks": "inside"
            },
            "colorscale": [
             [
              0,
              "rgb(20,44,66)"
             ],
             [
              1,
              "rgb(90,179,244)"
             ]
            ],
            "type": "heatmapgl"
           }
          ],
          "histogram": [
           {
            "marker": {
             "pattern": {
              "fillmode": "overlay",
              "size": 10,
              "solidity": 0.2
             }
            },
            "type": "histogram"
           }
          ],
          "histogram2d": [
           {
            "colorbar": {
             "outlinewidth": 0,
             "tickcolor": "rgb(237,237,237)",
             "ticklen": 6,
             "ticks": "inside"
            },
            "colorscale": [
             [
              0,
              "rgb(20,44,66)"
             ],
             [
              1,
              "rgb(90,179,244)"
             ]
            ],
            "type": "histogram2d"
           }
          ],
          "histogram2dcontour": [
           {
            "colorbar": {
             "outlinewidth": 0,
             "tickcolor": "rgb(237,237,237)",
             "ticklen": 6,
             "ticks": "inside"
            },
            "colorscale": [
             [
              0,
              "rgb(20,44,66)"
             ],
             [
              1,
              "rgb(90,179,244)"
             ]
            ],
            "type": "histogram2dcontour"
           }
          ],
          "mesh3d": [
           {
            "colorbar": {
             "outlinewidth": 0,
             "tickcolor": "rgb(237,237,237)",
             "ticklen": 6,
             "ticks": "inside"
            },
            "type": "mesh3d"
           }
          ],
          "parcoords": [
           {
            "line": {
             "colorbar": {
              "outlinewidth": 0,
              "tickcolor": "rgb(237,237,237)",
              "ticklen": 6,
              "ticks": "inside"
             }
            },
            "type": "parcoords"
           }
          ],
          "pie": [
           {
            "automargin": true,
            "type": "pie"
           }
          ],
          "scatter": [
           {
            "fillpattern": {
             "fillmode": "overlay",
             "size": 10,
             "solidity": 0.2
            },
            "type": "scatter"
           }
          ],
          "scatter3d": [
           {
            "line": {
             "colorbar": {
              "outlinewidth": 0,
              "tickcolor": "rgb(237,237,237)",
              "ticklen": 6,
              "ticks": "inside"
             }
            },
            "marker": {
             "colorbar": {
              "outlinewidth": 0,
              "tickcolor": "rgb(237,237,237)",
              "ticklen": 6,
              "ticks": "inside"
             }
            },
            "type": "scatter3d"
           }
          ],
          "scattercarpet": [
           {
            "marker": {
             "colorbar": {
              "outlinewidth": 0,
              "tickcolor": "rgb(237,237,237)",
              "ticklen": 6,
              "ticks": "inside"
             }
            },
            "type": "scattercarpet"
           }
          ],
          "scattergeo": [
           {
            "marker": {
             "colorbar": {
              "outlinewidth": 0,
              "tickcolor": "rgb(237,237,237)",
              "ticklen": 6,
              "ticks": "inside"
             }
            },
            "type": "scattergeo"
           }
          ],
          "scattergl": [
           {
            "marker": {
             "colorbar": {
              "outlinewidth": 0,
              "tickcolor": "rgb(237,237,237)",
              "ticklen": 6,
              "ticks": "inside"
             }
            },
            "type": "scattergl"
           }
          ],
          "scattermapbox": [
           {
            "marker": {
             "colorbar": {
              "outlinewidth": 0,
              "tickcolor": "rgb(237,237,237)",
              "ticklen": 6,
              "ticks": "inside"
             }
            },
            "type": "scattermapbox"
           }
          ],
          "scatterpolar": [
           {
            "marker": {
             "colorbar": {
              "outlinewidth": 0,
              "tickcolor": "rgb(237,237,237)",
              "ticklen": 6,
              "ticks": "inside"
             }
            },
            "type": "scatterpolar"
           }
          ],
          "scatterpolargl": [
           {
            "marker": {
             "colorbar": {
              "outlinewidth": 0,
              "tickcolor": "rgb(237,237,237)",
              "ticklen": 6,
              "ticks": "inside"
             }
            },
            "type": "scatterpolargl"
           }
          ],
          "scatterternary": [
           {
            "marker": {
             "colorbar": {
              "outlinewidth": 0,
              "tickcolor": "rgb(237,237,237)",
              "ticklen": 6,
              "ticks": "inside"
             }
            },
            "type": "scatterternary"
           }
          ],
          "surface": [
           {
            "colorbar": {
             "outlinewidth": 0,
             "tickcolor": "rgb(237,237,237)",
             "ticklen": 6,
             "ticks": "inside"
            },
            "colorscale": [
             [
              0,
              "rgb(20,44,66)"
             ],
             [
              1,
              "rgb(90,179,244)"
             ]
            ],
            "type": "surface"
           }
          ],
          "table": [
           {
            "cells": {
             "fill": {
              "color": "rgb(237,237,237)"
             },
             "line": {
              "color": "white"
             }
            },
            "header": {
             "fill": {
              "color": "rgb(217,217,217)"
             },
             "line": {
              "color": "white"
             }
            },
            "type": "table"
           }
          ]
         },
         "layout": {
          "annotationdefaults": {
           "arrowhead": 0,
           "arrowwidth": 1
          },
          "autotypenumbers": "strict",
          "coloraxis": {
           "colorbar": {
            "outlinewidth": 0,
            "tickcolor": "rgb(237,237,237)",
            "ticklen": 6,
            "ticks": "inside"
           }
          },
          "colorscale": {
           "sequential": [
            [
             0,
             "rgb(20,44,66)"
            ],
            [
             1,
             "rgb(90,179,244)"
            ]
           ],
           "sequentialminus": [
            [
             0,
             "rgb(20,44,66)"
            ],
            [
             1,
             "rgb(90,179,244)"
            ]
           ]
          },
          "colorway": [
           "#F8766D",
           "#A3A500",
           "#00BF7D",
           "#00B0F6",
           "#E76BF3"
          ],
          "font": {
           "color": "rgb(51,51,51)"
          },
          "geo": {
           "bgcolor": "white",
           "lakecolor": "white",
           "landcolor": "rgb(237,237,237)",
           "showlakes": true,
           "showland": true,
           "subunitcolor": "white"
          },
          "hoverlabel": {
           "align": "left"
          },
          "hovermode": "closest",
          "paper_bgcolor": "white",
          "plot_bgcolor": "rgb(237,237,237)",
          "polar": {
           "angularaxis": {
            "gridcolor": "white",
            "linecolor": "white",
            "showgrid": true,
            "tickcolor": "rgb(51,51,51)",
            "ticks": "outside"
           },
           "bgcolor": "rgb(237,237,237)",
           "radialaxis": {
            "gridcolor": "white",
            "linecolor": "white",
            "showgrid": true,
            "tickcolor": "rgb(51,51,51)",
            "ticks": "outside"
           }
          },
          "scene": {
           "xaxis": {
            "backgroundcolor": "rgb(237,237,237)",
            "gridcolor": "white",
            "gridwidth": 2,
            "linecolor": "white",
            "showbackground": true,
            "showgrid": true,
            "tickcolor": "rgb(51,51,51)",
            "ticks": "outside",
            "zerolinecolor": "white"
           },
           "yaxis": {
            "backgroundcolor": "rgb(237,237,237)",
            "gridcolor": "white",
            "gridwidth": 2,
            "linecolor": "white",
            "showbackground": true,
            "showgrid": true,
            "tickcolor": "rgb(51,51,51)",
            "ticks": "outside",
            "zerolinecolor": "white"
           },
           "zaxis": {
            "backgroundcolor": "rgb(237,237,237)",
            "gridcolor": "white",
            "gridwidth": 2,
            "linecolor": "white",
            "showbackground": true,
            "showgrid": true,
            "tickcolor": "rgb(51,51,51)",
            "ticks": "outside",
            "zerolinecolor": "white"
           }
          },
          "shapedefaults": {
           "fillcolor": "black",
           "line": {
            "width": 0
           },
           "opacity": 0.3
          },
          "ternary": {
           "aaxis": {
            "gridcolor": "white",
            "linecolor": "white",
            "showgrid": true,
            "tickcolor": "rgb(51,51,51)",
            "ticks": "outside"
           },
           "baxis": {
            "gridcolor": "white",
            "linecolor": "white",
            "showgrid": true,
            "tickcolor": "rgb(51,51,51)",
            "ticks": "outside"
           },
           "bgcolor": "rgb(237,237,237)",
           "caxis": {
            "gridcolor": "white",
            "linecolor": "white",
            "showgrid": true,
            "tickcolor": "rgb(51,51,51)",
            "ticks": "outside"
           }
          },
          "xaxis": {
           "automargin": true,
           "gridcolor": "white",
           "linecolor": "white",
           "showgrid": true,
           "tickcolor": "rgb(51,51,51)",
           "ticks": "outside",
           "title": {
            "standoff": 15
           },
           "zerolinecolor": "white"
          },
          "yaxis": {
           "automargin": true,
           "gridcolor": "white",
           "linecolor": "white",
           "showgrid": true,
           "tickcolor": "rgb(51,51,51)",
           "ticks": "outside",
           "title": {
            "standoff": 15
           },
           "zerolinecolor": "white"
          }
         }
        },
        "title": {
         "text": "RECORRIDO TOTAL: 147.80"
        },
        "width": 1200,
        "xaxis": {
         "title": {
          "text": "X"
         }
        },
        "yaxis": {
         "title": {
          "text": "Y"
         }
        }
       }
      }
     },
     "metadata": {},
     "output_type": "display_data"
    }
   ],
   "source": [
    "fig = go.Figure()\n",
    "\n",
    "# RUTAS\n",
    "for id_camion, ruta in rutas.items():\n",
    "    coords_x = [COORDENADAS[nodo][\"x\"] for nodo in ruta]\n",
    "    coords_y = [COORDENADAS[nodo][\"y\"] for nodo in ruta]\n",
    "    tiempo_ruta = sum([TIEMPO_VIAJE[(ruta[i], ruta[i + 1])] for i in range(len(ruta) - 1)])\n",
    "\n",
    "    fig.add_trace(\n",
    "        go.Scatter(\n",
    "            x=coords_x,\n",
    "            y=coords_y,\n",
    "            mode=\"lines\",\n",
    "            line=dict(color=px.colors.qualitative.G10[id_camion % len(px.colors.qualitative.G10)], width=2, dash=\"solid\"),\n",
    "            name=f\"Ruta C{id_camion} - T: {tiempo_ruta:.2f}\",\n",
    "        )\n",
    "    )\n",
    "\n",
    "    # FLECHAS\n",
    "    for i in range(len(ruta) - 1):\n",
    "        mid_x = (coords_x[i] + coords_x[i + 1]) / 2\n",
    "        mid_y = (coords_y[i] + coords_y[i + 1]) / 2\n",
    "        fig.add_annotation(\n",
    "            x=mid_x, y=mid_y,\n",
    "            ax=mid_x - (coords_x[i + 1] - coords_x[i]) * 0.1, ay=mid_y - (coords_y[i + 1] - coords_y[i]) * 0.1,\n",
    "            xref=\"x\",\n",
    "            yref=\"y\",\n",
    "            axref=\"x\",\n",
    "            ayref=\"y\",\n",
    "            showarrow=True,\n",
    "            arrowhead=1,\n",
    "            arrowsize=2,\n",
    "            arrowwidth=1,\n",
    "            arrowcolor=px.colors.qualitative.G10[id_camion % len(px.colors.qualitative.G10)],\n",
    "        )\n",
    "\n",
    "# DEPÓSITO\n",
    "fig.add_trace(\n",
    "    go.Scatter(\n",
    "        x=[COORDENADAS[0][\"x\"]],\n",
    "        y=[COORDENADAS[0][\"y\"]],\n",
    "        mode=\"markers\",\n",
    "        name=\"Depósito\",\n",
    "        marker=dict(color=\"red\", size=15),\n",
    "    )\n",
    ")\n",
    "\n",
    "# CLIENTES\n",
    "fig.add_trace(\n",
    "    go.Scatter(\n",
    "        x=[coord[\"x\"] for coord in list(COORDENADAS.values())[1:]],\n",
    "        y=[coord[\"y\"] for coord in list(COORDENADAS.values())[1:]],\n",
    "        mode=\"markers\",\n",
    "        name=\"Clientes\",\n",
    "        marker=dict(color=\"black\", size=10),\n",
    "    )\n",
    ")\n",
    "\n",
    "for cliente in CLIENTES:\n",
    "    coord_cliente_x = COORDENADAS[cliente][\"x\"]\n",
    "    coord_cliente_y = COORDENADAS[cliente][\"y\"]\n",
    "    id_camion = cliente_camion[cliente]\n",
    "    ventana = f\"[{VENTANA_TIEMPO[cliente]['mint']}, {VENTANA_TIEMPO[cliente]['maxt']}]\"\n",
    "    t_llegada = t[cliente, id_camion].solution_value - TIEMPO_SERVICIO[cliente]\n",
    "    t_salida = t[cliente, id_camion].solution_value\n",
    "    fig.add_annotation(x=coord_cliente_x - 8, y=coord_cliente_y + 8, text=f\"<b>C{cliente}:</b>  {ventana}<br />TI: {t_llegada:.2f} | TF: {t_salida:.2f}\", font=dict(size=10), showarrow=False)\n",
    "\n",
    "fig.update_layout(\n",
    "    title=f\"RECORRIDO TOTAL: {solution.objective_value:.2f}\",\n",
    "    xaxis_title=\"X\",\n",
    "    yaxis_title=\"Y\",\n",
    "    width=1200,\n",
    "    height=1000,\n",
    "    template=\"ggplot2\",\n",
    ")\n",
    "\n",
    "fig.show()"
   ]
  },
  {
   "cell_type": "code",
   "execution_count": 33,
   "metadata": {},
   "outputs": [],
   "source": [
    "i = 19"
   ]
  },
  {
   "cell_type": "code",
   "execution_count": 34,
   "metadata": {},
   "outputs": [
    {
     "data": {
      "text/plain": [
       "8.130190649671139"
      ]
     },
     "execution_count": 34,
     "metadata": {},
     "output_type": "execute_result"
    }
   ],
   "source": [
    "TIEMPO_VIAJE[0, i]"
   ]
  },
  {
   "cell_type": "code",
   "execution_count": 35,
   "metadata": {},
   "outputs": [
    {
     "data": {
      "text/plain": [
       "12.130190649671139"
      ]
     },
     "execution_count": 35,
     "metadata": {},
     "output_type": "execute_result"
    }
   ],
   "source": [
    "TIEMPO_SERVICIO[i] + TIEMPO_VIAJE[0, i]"
   ]
  }
 ],
 "metadata": {
  "kernelspec": {
   "display_name": "Python 3",
   "language": "python",
   "name": "python3"
  },
  "language_info": {
   "codemirror_mode": {
    "name": "ipython",
    "version": 3
   },
   "file_extension": ".py",
   "mimetype": "text/x-python",
   "name": "python",
   "nbconvert_exporter": "python",
   "pygments_lexer": "ipython3",
   "version": "3.10.10"
  }
 },
 "nbformat": 4,
 "nbformat_minor": 2
}
