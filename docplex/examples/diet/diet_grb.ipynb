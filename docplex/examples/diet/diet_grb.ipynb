{
 "cells": [
  {
   "cell_type": "markdown",
   "metadata": {},
   "source": [
    "## **PROBLEMA DE OPTIMIZACIÓN DE LA DIETA MILITAR**\n",
    "\n",
    "### **Descripción:**\n",
    "\n",
    "El objetivo de este problema es determinar la cantidad óptima de raciones de alimento que deben ser consumidas por un soldado para cumplir con sus requerimientos nutricionales diarios a un costo mínimo. Cada ración de alimento tiene un costo asociado y valores específicos de nutrientes esenciales. Las restricciones están determinadas por los requisitos nutricionales diarios mínimos y máximos establecidos para garantizar el adecuado rendimiento físico y mental del personal militar. Las raciones pueden ser fracciones, un soldado puede comer 1.62 raciones de cualquier alimento.\n",
    "\n",
    "### **Datos:**\n",
    "\n",
    "-   **Raciones de Alimento**: Una lista de raciones de alimento disponibles para el consumo, cada una con su respectivo costo por unidad y las cantidades mínimas y máximas que se pueden consumir por día.\n",
    "\n",
    "-   **Nutrientes**: Una lista de nutrientes esenciales que deben ser consumidos diariamente, cada uno con su cantidad mínima y máxima recomendada.\n",
    "\n",
    "-   **Valores Nutricionales de las Raciones de Alimento**: Una matriz que indica la cantidad de cada nutriente presente en cada ración de alimento.\n",
    "\n",
    "### **Objetivo:**\n",
    "\n",
    "Minimizar el costo total de las raciones de alimento consumidas mientras se cumple con las cantidades recomendadas de cada nutriente.\n",
    "\n",
    "### **Restricciones:**\n",
    "\n",
    "1. Las cantidades de raciones de alimento consumidas deben estar entre las cantidades mínimas y máximas definidas para cada ración de alimento.\n",
    "2. La cantidad total de cada nutriente consumido a partir de todas las raciones de alimento debe estar entre las cantidades mínimas y máximas definidas para cada nutriente.\n",
    "\n",
    "### **Raciones de Alimento**\n",
    "\n",
    "|       Alimento       | Costo_Unitario | qmin | qmax |\n",
    "| :------------------: | :------------: | :--: | :--: |\n",
    "|     Pollo asado      |      0.84      |  1   |  14  |\n",
    "|   Pasta con salsa    |      0.78      |  0   |  14  |\n",
    "|    Tomate fresco     |      0.27      |  1   |  10  |\n",
    "|    Manzana fresca    |      0.24      |  1   |  9   |\n",
    "|         Uvas         |      0.32      |  2   |  13  |\n",
    "| Galletas energéticas |      0.03      |  2   |  15  |\n",
    "|   Leche descremada   |      0.23      |  2   |  12  |\n",
    "|  Cereal con frutas   |      0.34      |  0   |  9   |\n",
    "|      Salchichas      |      0.31      |  1   |  15  |\n",
    "\n",
    "### **Nutrientes**\n",
    "\n",
    "|    Nutiente     | qmin | qmax  |\n",
    "| :-------------: | :--: | :---- |\n",
    "|    Calorías     | 2000 | 2500  |\n",
    "|     Calcio      | 800  | 1600  |\n",
    "|     Hierro      |  10  | 30    |\n",
    "|   Vitamina A    | 5000 | 50000 |\n",
    "| Fibra dietética |  25  | 100   |\n",
    "|  Carbohidratos  |  0   | 300   |\n",
    "|    Proteína     |  50  | 100   |\n",
    "\n",
    "### **Valores Nutricionales de las Raciones de Alimento**\n",
    "\n",
    "|         A/N          | Calorías | Calcio | Hierro | Vit_A  | Fibra dietética | Carbohidratos | Proteína |\n",
    "| :------------------: | :------: | :----: | :----: | :----: | :-------------: | :-----------: | :------: |\n",
    "|     Pollo asado      |  277.4   |  21.9  |  1.8   |  77.4  |        0        |       0       |   42.2   |\n",
    "|   Pasta con salsa    |  358.2   |  80.2  |  2.3   | 3055.2 |      11.6       |     58.3      |   8.2    |\n",
    "|    Tomate fresco     |   25.8   |  6.2   |  0.6   | 766.3  |       1.4       |      5.7      |    1     |\n",
    "|    Manzana fresca    |   81.4   |  9.7   |  0.2   |  73.1  |       3.7       |      21       |   0.3    |\n",
    "|         Uvas         |   15.1   |  3.4   |  0.1   |   24   |       0.2       |      4.1      |   0.2    |\n",
    "| Galletas energéticas |   78.1   |  6.2   |  0.4   | 101.8  |        0        |      9.3      |   0.9    |\n",
    "|   Leche descremada   |  121.2   | 296.7  |  0.1   | 500.2  |        0        |     11.7      |   8.1    |\n",
    "|  Cereal con frutas   |  115.1   |  12.9  |  16.8  | 1250.2 |        4        |     27.9      |    4     |\n",
    "|      Salchichas      |  242.1   |  23.5  |  2.3   |   0    |        0        |      18       |   10.4   |\n",
    "\n",
    "### **¿Cómo cambiaría el problema si? (Resolver en notebbok distinto)**\n",
    "\n",
    "1. Queremos que la ingesta de salchichas represente mínimo el 12% de la ingesta total de alimentos\n",
    "2. Queremos maximizar la ingesta de proteína como primera prioridad y los costos como segunda\n"
   ]
  },
  {
   "cell_type": "code",
   "execution_count": 1,
   "metadata": {},
   "outputs": [],
   "source": [
    "import pandas\n",
    "from docplex.mp.model import Model\n",
    "import plotly.graph_objects as go\n",
    "import gurobipy as gp\n",
    "from gurobipy import GRB"
   ]
  },
  {
   "cell_type": "code",
   "execution_count": 2,
   "metadata": {},
   "outputs": [],
   "source": [
    "df_foods = pandas.read_excel(\"./data.xlsx\", sheet_name=\"Raciones de Alimento\", index_col=0)\n",
    "df_nutrients = pandas.read_excel(\"./data.xlsx\", sheet_name=\"Nutrientes\", index_col=0)\n",
    "df_food_nutrient = pandas.read_excel(\"./data.xlsx\", sheet_name=\"Valores Nutricionales\", index_col=0)"
   ]
  },
  {
   "cell_type": "code",
   "execution_count": 3,
   "metadata": {},
   "outputs": [
    {
     "data": {
      "text/html": [
       "<div>\n",
       "<style scoped>\n",
       "    .dataframe tbody tr th:only-of-type {\n",
       "        vertical-align: middle;\n",
       "    }\n",
       "\n",
       "    .dataframe tbody tr th {\n",
       "        vertical-align: top;\n",
       "    }\n",
       "\n",
       "    .dataframe thead th {\n",
       "        text-align: right;\n",
       "    }\n",
       "</style>\n",
       "<table border=\"1\" class=\"dataframe\">\n",
       "  <thead>\n",
       "    <tr style=\"text-align: right;\">\n",
       "      <th></th>\n",
       "      <th>costo unitario</th>\n",
       "      <th>qmin</th>\n",
       "      <th>qmax</th>\n",
       "    </tr>\n",
       "    <tr>\n",
       "      <th>alimento</th>\n",
       "      <th></th>\n",
       "      <th></th>\n",
       "      <th></th>\n",
       "    </tr>\n",
       "  </thead>\n",
       "  <tbody>\n",
       "    <tr>\n",
       "      <th>Pollo asado</th>\n",
       "      <td>0.84</td>\n",
       "      <td>1</td>\n",
       "      <td>14</td>\n",
       "    </tr>\n",
       "    <tr>\n",
       "      <th>Pasta con salsa</th>\n",
       "      <td>0.78</td>\n",
       "      <td>0</td>\n",
       "      <td>14</td>\n",
       "    </tr>\n",
       "    <tr>\n",
       "      <th>Tomate fresco</th>\n",
       "      <td>0.27</td>\n",
       "      <td>1</td>\n",
       "      <td>10</td>\n",
       "    </tr>\n",
       "    <tr>\n",
       "      <th>Manzana fresca</th>\n",
       "      <td>0.24</td>\n",
       "      <td>1</td>\n",
       "      <td>9</td>\n",
       "    </tr>\n",
       "    <tr>\n",
       "      <th>Uvas</th>\n",
       "      <td>0.32</td>\n",
       "      <td>2</td>\n",
       "      <td>13</td>\n",
       "    </tr>\n",
       "    <tr>\n",
       "      <th>Galletas energéticas</th>\n",
       "      <td>0.03</td>\n",
       "      <td>2</td>\n",
       "      <td>15</td>\n",
       "    </tr>\n",
       "    <tr>\n",
       "      <th>Leche descremada</th>\n",
       "      <td>0.23</td>\n",
       "      <td>2</td>\n",
       "      <td>12</td>\n",
       "    </tr>\n",
       "    <tr>\n",
       "      <th>Cereal con frutas</th>\n",
       "      <td>0.34</td>\n",
       "      <td>0</td>\n",
       "      <td>9</td>\n",
       "    </tr>\n",
       "    <tr>\n",
       "      <th>Salchichas</th>\n",
       "      <td>0.31</td>\n",
       "      <td>1</td>\n",
       "      <td>15</td>\n",
       "    </tr>\n",
       "  </tbody>\n",
       "</table>\n",
       "</div>"
      ],
      "text/plain": [
       "                      costo unitario  qmin  qmax\n",
       "alimento                                        \n",
       "Pollo asado                     0.84     1    14\n",
       "Pasta con salsa                 0.78     0    14\n",
       "Tomate fresco                   0.27     1    10\n",
       "Manzana fresca                  0.24     1     9\n",
       "Uvas                            0.32     2    13\n",
       "Galletas energéticas            0.03     2    15\n",
       "Leche descremada                0.23     2    12\n",
       "Cereal con frutas               0.34     0     9\n",
       "Salchichas                      0.31     1    15"
      ]
     },
     "execution_count": 3,
     "metadata": {},
     "output_type": "execute_result"
    }
   ],
   "source": [
    "df_foods"
   ]
  },
  {
   "cell_type": "code",
   "execution_count": 4,
   "metadata": {},
   "outputs": [
    {
     "data": {
      "text/plain": [
       "['Pollo asado',\n",
       " 'Pasta con salsa',\n",
       " 'Tomate fresco',\n",
       " 'Manzana fresca',\n",
       " 'Uvas',\n",
       " 'Galletas energéticas',\n",
       " 'Leche descremada',\n",
       " 'Cereal con frutas',\n",
       " 'Salchichas']"
      ]
     },
     "execution_count": 4,
     "metadata": {},
     "output_type": "execute_result"
    }
   ],
   "source": [
    "df_foods.index.to_list()"
   ]
  },
  {
   "cell_type": "code",
   "execution_count": 5,
   "metadata": {},
   "outputs": [
    {
     "data": {
      "text/html": [
       "<div>\n",
       "<style scoped>\n",
       "    .dataframe tbody tr th:only-of-type {\n",
       "        vertical-align: middle;\n",
       "    }\n",
       "\n",
       "    .dataframe tbody tr th {\n",
       "        vertical-align: top;\n",
       "    }\n",
       "\n",
       "    .dataframe thead th {\n",
       "        text-align: right;\n",
       "    }\n",
       "</style>\n",
       "<table border=\"1\" class=\"dataframe\">\n",
       "  <thead>\n",
       "    <tr style=\"text-align: right;\">\n",
       "      <th></th>\n",
       "      <th>qmin</th>\n",
       "      <th>qmax</th>\n",
       "    </tr>\n",
       "    <tr>\n",
       "      <th>nutriente</th>\n",
       "      <th></th>\n",
       "      <th></th>\n",
       "    </tr>\n",
       "  </thead>\n",
       "  <tbody>\n",
       "    <tr>\n",
       "      <th>Calorías</th>\n",
       "      <td>2000</td>\n",
       "      <td>2500</td>\n",
       "    </tr>\n",
       "    <tr>\n",
       "      <th>Calcio</th>\n",
       "      <td>800</td>\n",
       "      <td>1600</td>\n",
       "    </tr>\n",
       "    <tr>\n",
       "      <th>Hierro</th>\n",
       "      <td>10</td>\n",
       "      <td>30</td>\n",
       "    </tr>\n",
       "    <tr>\n",
       "      <th>Vitamina A</th>\n",
       "      <td>5000</td>\n",
       "      <td>50000</td>\n",
       "    </tr>\n",
       "    <tr>\n",
       "      <th>Fibra</th>\n",
       "      <td>25</td>\n",
       "      <td>100</td>\n",
       "    </tr>\n",
       "    <tr>\n",
       "      <th>Carbohidratos</th>\n",
       "      <td>0</td>\n",
       "      <td>300</td>\n",
       "    </tr>\n",
       "    <tr>\n",
       "      <th>Proteína</th>\n",
       "      <td>50</td>\n",
       "      <td>100</td>\n",
       "    </tr>\n",
       "  </tbody>\n",
       "</table>\n",
       "</div>"
      ],
      "text/plain": [
       "               qmin   qmax\n",
       "nutriente                 \n",
       "Calorías       2000   2500\n",
       "Calcio          800   1600\n",
       "Hierro           10     30\n",
       "Vitamina A     5000  50000\n",
       "Fibra            25    100\n",
       "Carbohidratos     0    300\n",
       "Proteína         50    100"
      ]
     },
     "execution_count": 5,
     "metadata": {},
     "output_type": "execute_result"
    }
   ],
   "source": [
    "df_nutrients"
   ]
  },
  {
   "cell_type": "markdown",
   "metadata": {},
   "source": [
    "**Conjuntos**\n"
   ]
  },
  {
   "cell_type": "markdown",
   "metadata": {},
   "source": [
    "$$ \\text{FOODS} : \\text{Conjunto de alimentos} $$\n",
    "$$ \\text{NUTRIENTS} : \\text{Conjunto de nutrientes} $$\n"
   ]
  },
  {
   "cell_type": "code",
   "execution_count": 6,
   "metadata": {},
   "outputs": [],
   "source": [
    "FOODS = df_foods.index.to_list()\n",
    "NUTRIENTS = df_nutrients.index.to_list()"
   ]
  },
  {
   "cell_type": "markdown",
   "metadata": {},
   "source": [
    "**Parámetros**\n"
   ]
  },
  {
   "cell_type": "markdown",
   "metadata": {},
   "source": [
    "$$ \\text{c}_f \\in \\mathbb{R}^{+}: \\text{Costo por unidad del alimento } f \\in \\text{F} $$\n",
    "$$ \\text{food\\_min}_f \\in \\mathbb{R}^{+}: \\text{Cantidad mínima permitida del alimento } f \\in \\text{F} $$\n",
    "$$ \\text{food\\_max}_f \\in \\mathbb{R}^{+}: \\text{Cantidad máxima permitida del alimento } f \\in \\text{F} $$\n",
    "$$ \\text{nutrient\\_min}_n \\in \\mathbb{R}^{+}: \\text{Cantidad mínima requerida del nutriente } n \\in \\text{N} $$\n",
    "$$ \\text{nutrient\\_max}_n \\in \\mathbb{R}^{+}: \\text{Cantidad máxima permitida del nutriente } n \\in \\text{N} $$\n",
    "$$ \\text{a}_{fn} \\in \\mathbb{R}^{+}: \\text{Cantidad del nutriente } n \\in \\text{N} \\text{ en el alimento } f \\in \\text{F} $$\n"
   ]
  },
  {
   "cell_type": "code",
   "execution_count": 7,
   "metadata": {},
   "outputs": [
    {
     "name": "stdout",
     "output_type": "stream",
     "text": [
      "0.84\n",
      "1\n",
      "14\n",
      "800\n",
      "1600\n"
     ]
    }
   ],
   "source": [
    "## Usaremos los dataframe\n",
    "print(df_foods.loc[\"Pollo asado\", \"costo unitario\"])\n",
    "print(df_foods.loc[\"Pollo asado\", \"qmin\"])\n",
    "print(df_foods.loc[\"Pollo asado\", \"qmax\"])\n",
    "print(df_nutrients.loc[\"Calcio\", \"qmin\"])\n",
    "print(df_nutrients.loc[\"Calcio\", \"qmax\"])"
   ]
  },
  {
   "cell_type": "markdown",
   "metadata": {},
   "source": [
    "**Variables de decisión**\n",
    "\n",
    "$$ x_f \\in \\mathbb{R}^{+}: \\text{Cantidad del alimento } f \\in \\text{FOODS} \\text{ a consumir} $$\n",
    "$$ y_n \\in \\mathbb{R}^{+}: \\text{Cantidad del nutriente } n \\in \\text{NUTRIENTS} \\text{ a consumir} $$\n"
   ]
  },
  {
   "cell_type": "code",
   "execution_count": 8,
   "metadata": {},
   "outputs": [
    {
     "name": "stdout",
     "output_type": "stream",
     "text": [
      "Set parameter Username\n",
      "Academic license - for non-commercial use only - expires 2025-01-28\n"
     ]
    }
   ],
   "source": [
    "# Creación del modelo\n",
    "model = gp.Model(name=\"Militar Diet\")"
   ]
  },
  {
   "cell_type": "code",
   "execution_count": 9,
   "metadata": {},
   "outputs": [],
   "source": [
    "# Variables\n",
    "x = model.addVars(FOODS, vtype=GRB.CONTINUOUS, name=\"x\")\n",
    "y = model.addVars(NUTRIENTS, vtype=GRB.CONTINUOUS, name=\"y\")"
   ]
  },
  {
   "cell_type": "markdown",
   "metadata": {},
   "source": [
    "**Función Objetivo**\n"
   ]
  },
  {
   "cell_type": "markdown",
   "metadata": {},
   "source": [
    "$$ \\text{minimizar FO} = \\sum_{f \\in \\text{FOODS}} c_f \\cdot x_f $$\n"
   ]
  },
  {
   "cell_type": "code",
   "execution_count": 10,
   "metadata": {},
   "outputs": [],
   "source": [
    "# Función objetivo: Minimizar el costo total de los alimentos\n",
    "model.setObjective(gp.quicksum(x[f] * df_foods.loc[f, \"costo unitario\"] for f in FOODS), GRB.MINIMIZE)"
   ]
  },
  {
   "cell_type": "markdown",
   "metadata": {},
   "source": [
    "**Restricciones**\n",
    "\n",
    "1. Respetar la cantidad mínima y máxima de cada alimento:\n",
    "$$ \\forall f \\in \\text{FOODS:} \\quad x_f \\geq \\text{food\\_min}_f $$\n",
    "$$ \\forall f \\in \\text{FOODS:} \\quad x_f \\leq \\text{food\\_max}_f $$\n",
    "\n",
    "2. Satisfacer las necesidades de nutrientes:\n",
    "$$ \\forall n \\in \\text{NUTRIENTS:} \\quad y_n = \\sum_{f \\in \\text{FOODS}} a_{fn} \\cdot x_f $$\n",
    "$$ \\forall n \\in \\text{NUTRIENTS:} \\quad y_n \\geq \\text{nutrient\\_min}_n  $$\n",
    "$$ \\forall n \\in \\text{NUTRIENTS:} \\quad y_n \\leq \\text{nutrient\\_max}_n  $$\n"
   ]
  },
  {
   "cell_type": "code",
   "execution_count": 11,
   "metadata": {},
   "outputs": [],
   "source": [
    "# 1. Respetar la cantidad mínima y máxima de cada alimento\n",
    "for f in FOODS:\n",
    "    model.addConstr(x[f] >= df_foods.loc[f, \"qmin\"], f\"min_{f}\")\n",
    "    \n",
    "# model.addConstrs((x[f] >= df_foods.loc[f, \"qmin\"] for f in FOODS))\n",
    "\n",
    "for f in FOODS:\n",
    "    model.addConstr(x[f] <= df_foods.loc[f, \"qmax\"], f\"max_{f}\")\n",
    "\n",
    "for n in NUTRIENTS:\n",
    "    model.addConstr(y[n] == gp.quicksum(df_food_nutrient.loc[f, n] * x[f] for f in FOODS), f\"nut_{n}\")\n",
    "\n",
    "for n in NUTRIENTS:\n",
    "    model.addConstr(y[n] >= df_nutrients.loc[n, \"qmin\"], f\"nut_min_{n}\")\n",
    "\n",
    "for n in NUTRIENTS:\n",
    "    model.addConstr(y[n] <= df_nutrients.loc[n, \"qmax\"], f\"nut_max_{n}\")"
   ]
  },
  {
   "cell_type": "code",
   "execution_count": 12,
   "metadata": {},
   "outputs": [
    {
     "name": "stdout",
     "output_type": "stream",
     "text": [
      "Gurobi Optimizer version 11.0.1 build v11.0.1rc0 (win64 - Windows 11.0 (22631.2))\n",
      "\n",
      "CPU model: Intel(R) Core(TM) i7-9750H CPU @ 2.60GHz, instruction set [SSE2|AVX|AVX2]\n",
      "Thread count: 6 physical cores, 12 logical processors, using up to 12 threads\n",
      "\n",
      "Optimize a model with 39 rows, 16 columns and 96 nonzeros\n",
      "Model fingerprint: 0xf6ae9c1c\n",
      "Coefficient statistics:\n",
      "  Matrix range     [1e-01, 3e+03]\n",
      "  Objective range  [3e-02, 8e-01]\n",
      "  Bounds range     [0e+00, 0e+00]\n",
      "  RHS range        [1e+00, 5e+04]\n",
      "Presolve removed 32 rows and 2 columns\n",
      "Presolve time: 0.01s\n",
      "Presolved: 7 rows, 14 columns, 62 nonzeros\n",
      "\n",
      "Iteration    Objective       Primal Inf.    Dual Inf.      Time\n",
      "       0    2.8200000e+00   8.455938e+01   0.000000e+00      0s\n",
      "       3    4.2627127e+00   0.000000e+00   0.000000e+00      0s\n",
      "\n",
      "Solved in 3 iterations and 0.02 seconds (0.00 work units)\n",
      "Optimal objective  4.262712703e+00\n"
     ]
    }
   ],
   "source": [
    "# Resolviendo el modelo\n",
    "model.optimize()"
   ]
  },
  {
   "cell_type": "code",
   "execution_count": 13,
   "metadata": {},
   "outputs": [
    {
     "data": {
      "text/plain": [
       "4.2627127025475735"
      ]
     },
     "execution_count": 13,
     "metadata": {},
     "output_type": "execute_result"
    }
   ],
   "source": [
    "model.ObjVal"
   ]
  },
  {
   "cell_type": "code",
   "execution_count": 14,
   "metadata": {},
   "outputs": [
    {
     "name": "stdout",
     "output_type": "stream",
     "text": [
      "FOODS\n",
      "Pollo asado: 1.0\n",
      "Pasta con salsa: 1.681034482758621\n",
      "Tomate fresco: 1.0\n",
      "Manzana fresca: 1.0\n",
      "Uvas: 2.0\n",
      "Galletas energéticas: 6.383526866528322\n",
      "Leche descremada: 2.0\n",
      "Cereal con frutas: 0.0\n",
      "Salchichas: 1.0\n",
      "\n",
      "NUTRIENTS\n",
      "Calorías: 2000.0\n",
      "Calcio: 835.896832089717\n",
      "Hierro: 11.719790056956157\n",
      "Vitamina A: 7750.939586736722\n",
      "Fibra: 25.0\n",
      "Carbohidratos: 233.671110203541\n",
      "Proteína: 90.02965693849619\n"
     ]
    }
   ],
   "source": [
    "# Imprimiendo la solución\n",
    "print(\"FOODS\")\n",
    "for f in FOODS:\n",
    "    print(f\"{f}: {x[f].X}\")\n",
    "\n",
    "print(\"\\nNUTRIENTS\")\n",
    "for n in NUTRIENTS:\n",
    "    print(f\"{n}: {y[n].X}\")"
   ]
  },
  {
   "cell_type": "code",
   "execution_count": 17,
   "metadata": {},
   "outputs": [
    {
     "data": {
      "text/plain": [
       "['Pollo asado',\n",
       " 'Pasta con salsa',\n",
       " 'Tomate fresco',\n",
       " 'Manzana fresca',\n",
       " 'Uvas',\n",
       " 'Galletas energéticas',\n",
       " 'Leche descremada',\n",
       " 'Cereal con frutas',\n",
       " 'Salchichas']"
      ]
     },
     "execution_count": 17,
     "metadata": {},
     "output_type": "execute_result"
    }
   ],
   "source": [
    "FOODS"
   ]
  },
  {
   "cell_type": "code",
   "execution_count": 18,
   "metadata": {},
   "outputs": [
    {
     "data": {
      "text/plain": [
       "[1.0, 1.681034482758621, 1.0, 1.0, 2.0, 6.383526866528322, 2.0, 0.0, 1.0]"
      ]
     },
     "execution_count": 18,
     "metadata": {},
     "output_type": "execute_result"
    }
   ],
   "source": [
    "[x[f].X for f in FOODS]"
   ]
  },
  {
   "cell_type": "code",
   "execution_count": 22,
   "metadata": {},
   "outputs": [
    {
     "data": {
      "application/vnd.plotly.v1+json": {
       "config": {
        "plotlyServerURL": "https://plot.ly"
       },
       "data": [
        {
         "text": [
          "1.00",
          "1.68",
          "1.00",
          "1.00",
          "2.00",
          "6.38",
          "2.00",
          "0.00",
          "1.00"
         ],
         "type": "bar",
         "x": [
          "Pollo asado",
          "Pasta con salsa",
          "Tomate fresco",
          "Manzana fresca",
          "Uvas",
          "Galletas energéticas",
          "Leche descremada",
          "Cereal con frutas",
          "Salchichas"
         ],
         "y": [
          1,
          1.681034482758621,
          1,
          1,
          2,
          6.383526866528322,
          2,
          0,
          1
         ]
        }
       ],
       "layout": {
        "shapes": [
         {
          "line": {
           "color": "blue",
           "dash": "dash",
           "width": 2
          },
          "type": "line",
          "x0": -0.4,
          "x1": 0.4,
          "y0": 1,
          "y1": 1
         },
         {
          "line": {
           "color": "blue",
           "dash": "dash",
           "width": 2
          },
          "type": "line",
          "x0": -0.4,
          "x1": 0.4,
          "y0": 14,
          "y1": 14
         },
         {
          "line": {
           "color": "blue",
           "dash": "dash",
           "width": 2
          },
          "type": "line",
          "x0": 0.6,
          "x1": 1.4,
          "y0": 0,
          "y1": 0
         },
         {
          "line": {
           "color": "blue",
           "dash": "dash",
           "width": 2
          },
          "type": "line",
          "x0": 0.6,
          "x1": 1.4,
          "y0": 14,
          "y1": 14
         },
         {
          "line": {
           "color": "blue",
           "dash": "dash",
           "width": 2
          },
          "type": "line",
          "x0": 1.6,
          "x1": 2.4,
          "y0": 1,
          "y1": 1
         },
         {
          "line": {
           "color": "blue",
           "dash": "dash",
           "width": 2
          },
          "type": "line",
          "x0": 1.6,
          "x1": 2.4,
          "y0": 10,
          "y1": 10
         },
         {
          "line": {
           "color": "blue",
           "dash": "dash",
           "width": 2
          },
          "type": "line",
          "x0": 2.6,
          "x1": 3.4,
          "y0": 1,
          "y1": 1
         },
         {
          "line": {
           "color": "blue",
           "dash": "dash",
           "width": 2
          },
          "type": "line",
          "x0": 2.6,
          "x1": 3.4,
          "y0": 9,
          "y1": 9
         },
         {
          "line": {
           "color": "blue",
           "dash": "dash",
           "width": 2
          },
          "type": "line",
          "x0": 3.6,
          "x1": 4.4,
          "y0": 2,
          "y1": 2
         },
         {
          "line": {
           "color": "blue",
           "dash": "dash",
           "width": 2
          },
          "type": "line",
          "x0": 3.6,
          "x1": 4.4,
          "y0": 13,
          "y1": 13
         },
         {
          "line": {
           "color": "blue",
           "dash": "dash",
           "width": 2
          },
          "type": "line",
          "x0": 4.6,
          "x1": 5.4,
          "y0": 2,
          "y1": 2
         },
         {
          "line": {
           "color": "blue",
           "dash": "dash",
           "width": 2
          },
          "type": "line",
          "x0": 4.6,
          "x1": 5.4,
          "y0": 15,
          "y1": 15
         },
         {
          "line": {
           "color": "blue",
           "dash": "dash",
           "width": 2
          },
          "type": "line",
          "x0": 5.6,
          "x1": 6.4,
          "y0": 2,
          "y1": 2
         },
         {
          "line": {
           "color": "blue",
           "dash": "dash",
           "width": 2
          },
          "type": "line",
          "x0": 5.6,
          "x1": 6.4,
          "y0": 12,
          "y1": 12
         },
         {
          "line": {
           "color": "blue",
           "dash": "dash",
           "width": 2
          },
          "type": "line",
          "x0": 6.6,
          "x1": 7.4,
          "y0": 0,
          "y1": 0
         },
         {
          "line": {
           "color": "blue",
           "dash": "dash",
           "width": 2
          },
          "type": "line",
          "x0": 6.6,
          "x1": 7.4,
          "y0": 9,
          "y1": 9
         },
         {
          "line": {
           "color": "blue",
           "dash": "dash",
           "width": 2
          },
          "type": "line",
          "x0": 7.6,
          "x1": 8.4,
          "y0": 1,
          "y1": 1
         },
         {
          "line": {
           "color": "blue",
           "dash": "dash",
           "width": 2
          },
          "type": "line",
          "x0": 7.6,
          "x1": 8.4,
          "y0": 15,
          "y1": 15
         }
        ],
        "showlegend": false,
        "template": {
         "data": {
          "bar": [
           {
            "error_x": {
             "color": "rgb(51,51,51)"
            },
            "error_y": {
             "color": "rgb(51,51,51)"
            },
            "marker": {
             "line": {
              "color": "rgb(237,237,237)",
              "width": 0.5
             },
             "pattern": {
              "fillmode": "overlay",
              "size": 10,
              "solidity": 0.2
             }
            },
            "type": "bar"
           }
          ],
          "barpolar": [
           {
            "marker": {
             "line": {
              "color": "rgb(237,237,237)",
              "width": 0.5
             },
             "pattern": {
              "fillmode": "overlay",
              "size": 10,
              "solidity": 0.2
             }
            },
            "type": "barpolar"
           }
          ],
          "carpet": [
           {
            "aaxis": {
             "endlinecolor": "rgb(51,51,51)",
             "gridcolor": "white",
             "linecolor": "white",
             "minorgridcolor": "white",
             "startlinecolor": "rgb(51,51,51)"
            },
            "baxis": {
             "endlinecolor": "rgb(51,51,51)",
             "gridcolor": "white",
             "linecolor": "white",
             "minorgridcolor": "white",
             "startlinecolor": "rgb(51,51,51)"
            },
            "type": "carpet"
           }
          ],
          "choropleth": [
           {
            "colorbar": {
             "outlinewidth": 0,
             "tickcolor": "rgb(237,237,237)",
             "ticklen": 6,
             "ticks": "inside"
            },
            "type": "choropleth"
           }
          ],
          "contour": [
           {
            "colorbar": {
             "outlinewidth": 0,
             "tickcolor": "rgb(237,237,237)",
             "ticklen": 6,
             "ticks": "inside"
            },
            "colorscale": [
             [
              0,
              "rgb(20,44,66)"
             ],
             [
              1,
              "rgb(90,179,244)"
             ]
            ],
            "type": "contour"
           }
          ],
          "contourcarpet": [
           {
            "colorbar": {
             "outlinewidth": 0,
             "tickcolor": "rgb(237,237,237)",
             "ticklen": 6,
             "ticks": "inside"
            },
            "type": "contourcarpet"
           }
          ],
          "heatmap": [
           {
            "colorbar": {
             "outlinewidth": 0,
             "tickcolor": "rgb(237,237,237)",
             "ticklen": 6,
             "ticks": "inside"
            },
            "colorscale": [
             [
              0,
              "rgb(20,44,66)"
             ],
             [
              1,
              "rgb(90,179,244)"
             ]
            ],
            "type": "heatmap"
           }
          ],
          "heatmapgl": [
           {
            "colorbar": {
             "outlinewidth": 0,
             "tickcolor": "rgb(237,237,237)",
             "ticklen": 6,
             "ticks": "inside"
            },
            "colorscale": [
             [
              0,
              "rgb(20,44,66)"
             ],
             [
              1,
              "rgb(90,179,244)"
             ]
            ],
            "type": "heatmapgl"
           }
          ],
          "histogram": [
           {
            "marker": {
             "pattern": {
              "fillmode": "overlay",
              "size": 10,
              "solidity": 0.2
             }
            },
            "type": "histogram"
           }
          ],
          "histogram2d": [
           {
            "colorbar": {
             "outlinewidth": 0,
             "tickcolor": "rgb(237,237,237)",
             "ticklen": 6,
             "ticks": "inside"
            },
            "colorscale": [
             [
              0,
              "rgb(20,44,66)"
             ],
             [
              1,
              "rgb(90,179,244)"
             ]
            ],
            "type": "histogram2d"
           }
          ],
          "histogram2dcontour": [
           {
            "colorbar": {
             "outlinewidth": 0,
             "tickcolor": "rgb(237,237,237)",
             "ticklen": 6,
             "ticks": "inside"
            },
            "colorscale": [
             [
              0,
              "rgb(20,44,66)"
             ],
             [
              1,
              "rgb(90,179,244)"
             ]
            ],
            "type": "histogram2dcontour"
           }
          ],
          "mesh3d": [
           {
            "colorbar": {
             "outlinewidth": 0,
             "tickcolor": "rgb(237,237,237)",
             "ticklen": 6,
             "ticks": "inside"
            },
            "type": "mesh3d"
           }
          ],
          "parcoords": [
           {
            "line": {
             "colorbar": {
              "outlinewidth": 0,
              "tickcolor": "rgb(237,237,237)",
              "ticklen": 6,
              "ticks": "inside"
             }
            },
            "type": "parcoords"
           }
          ],
          "pie": [
           {
            "automargin": true,
            "type": "pie"
           }
          ],
          "scatter": [
           {
            "fillpattern": {
             "fillmode": "overlay",
             "size": 10,
             "solidity": 0.2
            },
            "type": "scatter"
           }
          ],
          "scatter3d": [
           {
            "line": {
             "colorbar": {
              "outlinewidth": 0,
              "tickcolor": "rgb(237,237,237)",
              "ticklen": 6,
              "ticks": "inside"
             }
            },
            "marker": {
             "colorbar": {
              "outlinewidth": 0,
              "tickcolor": "rgb(237,237,237)",
              "ticklen": 6,
              "ticks": "inside"
             }
            },
            "type": "scatter3d"
           }
          ],
          "scattercarpet": [
           {
            "marker": {
             "colorbar": {
              "outlinewidth": 0,
              "tickcolor": "rgb(237,237,237)",
              "ticklen": 6,
              "ticks": "inside"
             }
            },
            "type": "scattercarpet"
           }
          ],
          "scattergeo": [
           {
            "marker": {
             "colorbar": {
              "outlinewidth": 0,
              "tickcolor": "rgb(237,237,237)",
              "ticklen": 6,
              "ticks": "inside"
             }
            },
            "type": "scattergeo"
           }
          ],
          "scattergl": [
           {
            "marker": {
             "colorbar": {
              "outlinewidth": 0,
              "tickcolor": "rgb(237,237,237)",
              "ticklen": 6,
              "ticks": "inside"
             }
            },
            "type": "scattergl"
           }
          ],
          "scattermapbox": [
           {
            "marker": {
             "colorbar": {
              "outlinewidth": 0,
              "tickcolor": "rgb(237,237,237)",
              "ticklen": 6,
              "ticks": "inside"
             }
            },
            "type": "scattermapbox"
           }
          ],
          "scatterpolar": [
           {
            "marker": {
             "colorbar": {
              "outlinewidth": 0,
              "tickcolor": "rgb(237,237,237)",
              "ticklen": 6,
              "ticks": "inside"
             }
            },
            "type": "scatterpolar"
           }
          ],
          "scatterpolargl": [
           {
            "marker": {
             "colorbar": {
              "outlinewidth": 0,
              "tickcolor": "rgb(237,237,237)",
              "ticklen": 6,
              "ticks": "inside"
             }
            },
            "type": "scatterpolargl"
           }
          ],
          "scatterternary": [
           {
            "marker": {
             "colorbar": {
              "outlinewidth": 0,
              "tickcolor": "rgb(237,237,237)",
              "ticklen": 6,
              "ticks": "inside"
             }
            },
            "type": "scatterternary"
           }
          ],
          "surface": [
           {
            "colorbar": {
             "outlinewidth": 0,
             "tickcolor": "rgb(237,237,237)",
             "ticklen": 6,
             "ticks": "inside"
            },
            "colorscale": [
             [
              0,
              "rgb(20,44,66)"
             ],
             [
              1,
              "rgb(90,179,244)"
             ]
            ],
            "type": "surface"
           }
          ],
          "table": [
           {
            "cells": {
             "fill": {
              "color": "rgb(237,237,237)"
             },
             "line": {
              "color": "white"
             }
            },
            "header": {
             "fill": {
              "color": "rgb(217,217,217)"
             },
             "line": {
              "color": "white"
             }
            },
            "type": "table"
           }
          ]
         },
         "layout": {
          "annotationdefaults": {
           "arrowhead": 0,
           "arrowwidth": 1
          },
          "autotypenumbers": "strict",
          "coloraxis": {
           "colorbar": {
            "outlinewidth": 0,
            "tickcolor": "rgb(237,237,237)",
            "ticklen": 6,
            "ticks": "inside"
           }
          },
          "colorscale": {
           "sequential": [
            [
             0,
             "rgb(20,44,66)"
            ],
            [
             1,
             "rgb(90,179,244)"
            ]
           ],
           "sequentialminus": [
            [
             0,
             "rgb(20,44,66)"
            ],
            [
             1,
             "rgb(90,179,244)"
            ]
           ]
          },
          "colorway": [
           "#F8766D",
           "#A3A500",
           "#00BF7D",
           "#00B0F6",
           "#E76BF3"
          ],
          "font": {
           "color": "rgb(51,51,51)"
          },
          "geo": {
           "bgcolor": "white",
           "lakecolor": "white",
           "landcolor": "rgb(237,237,237)",
           "showlakes": true,
           "showland": true,
           "subunitcolor": "white"
          },
          "hoverlabel": {
           "align": "left"
          },
          "hovermode": "closest",
          "paper_bgcolor": "white",
          "plot_bgcolor": "rgb(237,237,237)",
          "polar": {
           "angularaxis": {
            "gridcolor": "white",
            "linecolor": "white",
            "showgrid": true,
            "tickcolor": "rgb(51,51,51)",
            "ticks": "outside"
           },
           "bgcolor": "rgb(237,237,237)",
           "radialaxis": {
            "gridcolor": "white",
            "linecolor": "white",
            "showgrid": true,
            "tickcolor": "rgb(51,51,51)",
            "ticks": "outside"
           }
          },
          "scene": {
           "xaxis": {
            "backgroundcolor": "rgb(237,237,237)",
            "gridcolor": "white",
            "gridwidth": 2,
            "linecolor": "white",
            "showbackground": true,
            "showgrid": true,
            "tickcolor": "rgb(51,51,51)",
            "ticks": "outside",
            "zerolinecolor": "white"
           },
           "yaxis": {
            "backgroundcolor": "rgb(237,237,237)",
            "gridcolor": "white",
            "gridwidth": 2,
            "linecolor": "white",
            "showbackground": true,
            "showgrid": true,
            "tickcolor": "rgb(51,51,51)",
            "ticks": "outside",
            "zerolinecolor": "white"
           },
           "zaxis": {
            "backgroundcolor": "rgb(237,237,237)",
            "gridcolor": "white",
            "gridwidth": 2,
            "linecolor": "white",
            "showbackground": true,
            "showgrid": true,
            "tickcolor": "rgb(51,51,51)",
            "ticks": "outside",
            "zerolinecolor": "white"
           }
          },
          "shapedefaults": {
           "fillcolor": "black",
           "line": {
            "width": 0
           },
           "opacity": 0.3
          },
          "ternary": {
           "aaxis": {
            "gridcolor": "white",
            "linecolor": "white",
            "showgrid": true,
            "tickcolor": "rgb(51,51,51)",
            "ticks": "outside"
           },
           "baxis": {
            "gridcolor": "white",
            "linecolor": "white",
            "showgrid": true,
            "tickcolor": "rgb(51,51,51)",
            "ticks": "outside"
           },
           "bgcolor": "rgb(237,237,237)",
           "caxis": {
            "gridcolor": "white",
            "linecolor": "white",
            "showgrid": true,
            "tickcolor": "rgb(51,51,51)",
            "ticks": "outside"
           }
          },
          "xaxis": {
           "automargin": true,
           "gridcolor": "white",
           "linecolor": "white",
           "showgrid": true,
           "tickcolor": "rgb(51,51,51)",
           "ticks": "outside",
           "title": {
            "standoff": 15
           },
           "zerolinecolor": "white"
          },
          "yaxis": {
           "automargin": true,
           "gridcolor": "white",
           "linecolor": "white",
           "showgrid": true,
           "tickcolor": "rgb(51,51,51)",
           "ticks": "outside",
           "title": {
            "standoff": 15
           },
           "zerolinecolor": "white"
          }
         }
        },
        "title": {
         "text": "CONSUMO DE RACIONES DE ALIMENTOS"
        },
        "width": 800,
        "xaxis": {
         "title": {
          "text": "Alimentos"
         },
         "type": "category"
        },
        "yaxis": {
         "title": {
          "text": "Raciones"
         }
        }
       }
      }
     },
     "metadata": {},
     "output_type": "display_data"
    }
   ],
   "source": [
    "fig = go.Figure()\n",
    "\n",
    "fig.add_trace(go.Bar(x=FOODS, y=[x[f].X for f in FOODS], text=[f\"{x[f].X:.2f}\" for f in FOODS],))\n",
    "\n",
    "for idx, f in enumerate(FOODS):\n",
    "    fig.add_shape(\n",
    "        type=\"line\",\n",
    "        x0=idx - 0.4,\n",
    "        x1=idx + 0.4,\n",
    "        y0=df_foods.loc[f, \"qmin\"],\n",
    "        y1=df_foods.loc[f, \"qmin\"],\n",
    "        line=dict(color=\"blue\", width=2, dash=\"dash\"),\n",
    "    )\n",
    "    \n",
    "    fig.add_shape(\n",
    "        type=\"line\",\n",
    "        x0=idx - 0.4,\n",
    "        x1=idx + 0.4,\n",
    "        y0=df_foods.loc[f, \"qmax\"],\n",
    "        y1=df_foods.loc[f, \"qmax\"],\n",
    "        line=dict(color=\"blue\", width=2, dash=\"dash\"),\n",
    "    )\n",
    "    \n",
    "fig.update_layout(\n",
    "    title=\"CONSUMO DE RACIONES DE ALIMENTOS\",\n",
    "    xaxis_title=\"Alimentos\",\n",
    "    yaxis_title=\"Raciones\",\n",
    "    xaxis={\"type\": \"category\"},\n",
    "    showlegend=False,\n",
    "    width=800,\n",
    "    template=\"ggplot2\",\n",
    ")\n",
    "\n",
    "\n",
    "fig.show()"
   ]
  },
  {
   "cell_type": "code",
   "execution_count": 16,
   "metadata": {},
   "outputs": [
    {
     "data": {
      "application/vnd.plotly.v1+json": {
       "config": {
        "plotlyServerURL": "https://plot.ly"
       },
       "data": [
        {
         "marker": {
          "color": "goldenrod"
         },
         "text": [
          "80.00%",
          "52.24%",
          "39.07%",
          "15.50%",
          "25.00%",
          "77.89%",
          "90.03%"
         ],
         "textposition": "outside",
         "type": "bar",
         "x": [
          "Calorías",
          "Calcio",
          "Hierro",
          "Vitamina A",
          "Fibra",
          "Carbohidratos",
          "Proteína"
         ],
         "y": [
          0.8,
          0.5224355200560731,
          0.39065966856520523,
          0.15501879173473443,
          0.25,
          0.7789037006784699,
          0.9002965693849618
         ]
        }
       ],
       "layout": {
        "height": 500,
        "shapes": [
         {
          "line": {
           "color": "blue",
           "dash": "dash",
           "width": 2
          },
          "type": "line",
          "x0": -0.4,
          "x1": 0.4,
          "y0": 0.8,
          "y1": 0.8
         },
         {
          "line": {
           "color": "blue",
           "dash": "dash",
           "width": 2
          },
          "type": "line",
          "x0": 0.6,
          "x1": 1.4,
          "y0": 0.5,
          "y1": 0.5
         },
         {
          "line": {
           "color": "blue",
           "dash": "dash",
           "width": 2
          },
          "type": "line",
          "x0": 1.6,
          "x1": 2.4,
          "y0": 0.3333333333333333,
          "y1": 0.3333333333333333
         },
         {
          "line": {
           "color": "blue",
           "dash": "dash",
           "width": 2
          },
          "type": "line",
          "x0": 2.6,
          "x1": 3.4,
          "y0": 0.1,
          "y1": 0.1
         },
         {
          "line": {
           "color": "blue",
           "dash": "dash",
           "width": 2
          },
          "type": "line",
          "x0": 3.6,
          "x1": 4.4,
          "y0": 0.25,
          "y1": 0.25
         },
         {
          "line": {
           "color": "blue",
           "dash": "dash",
           "width": 2
          },
          "type": "line",
          "x0": 4.6,
          "x1": 5.4,
          "y0": 0,
          "y1": 0
         },
         {
          "line": {
           "color": "blue",
           "dash": "dash",
           "width": 2
          },
          "type": "line",
          "x0": 5.6,
          "x1": 6.4,
          "y0": 0.5,
          "y1": 0.5
         }
        ],
        "showlegend": false,
        "template": {
         "data": {
          "bar": [
           {
            "error_x": {
             "color": "rgb(51,51,51)"
            },
            "error_y": {
             "color": "rgb(51,51,51)"
            },
            "marker": {
             "line": {
              "color": "rgb(237,237,237)",
              "width": 0.5
             },
             "pattern": {
              "fillmode": "overlay",
              "size": 10,
              "solidity": 0.2
             }
            },
            "type": "bar"
           }
          ],
          "barpolar": [
           {
            "marker": {
             "line": {
              "color": "rgb(237,237,237)",
              "width": 0.5
             },
             "pattern": {
              "fillmode": "overlay",
              "size": 10,
              "solidity": 0.2
             }
            },
            "type": "barpolar"
           }
          ],
          "carpet": [
           {
            "aaxis": {
             "endlinecolor": "rgb(51,51,51)",
             "gridcolor": "white",
             "linecolor": "white",
             "minorgridcolor": "white",
             "startlinecolor": "rgb(51,51,51)"
            },
            "baxis": {
             "endlinecolor": "rgb(51,51,51)",
             "gridcolor": "white",
             "linecolor": "white",
             "minorgridcolor": "white",
             "startlinecolor": "rgb(51,51,51)"
            },
            "type": "carpet"
           }
          ],
          "choropleth": [
           {
            "colorbar": {
             "outlinewidth": 0,
             "tickcolor": "rgb(237,237,237)",
             "ticklen": 6,
             "ticks": "inside"
            },
            "type": "choropleth"
           }
          ],
          "contour": [
           {
            "colorbar": {
             "outlinewidth": 0,
             "tickcolor": "rgb(237,237,237)",
             "ticklen": 6,
             "ticks": "inside"
            },
            "colorscale": [
             [
              0,
              "rgb(20,44,66)"
             ],
             [
              1,
              "rgb(90,179,244)"
             ]
            ],
            "type": "contour"
           }
          ],
          "contourcarpet": [
           {
            "colorbar": {
             "outlinewidth": 0,
             "tickcolor": "rgb(237,237,237)",
             "ticklen": 6,
             "ticks": "inside"
            },
            "type": "contourcarpet"
           }
          ],
          "heatmap": [
           {
            "colorbar": {
             "outlinewidth": 0,
             "tickcolor": "rgb(237,237,237)",
             "ticklen": 6,
             "ticks": "inside"
            },
            "colorscale": [
             [
              0,
              "rgb(20,44,66)"
             ],
             [
              1,
              "rgb(90,179,244)"
             ]
            ],
            "type": "heatmap"
           }
          ],
          "heatmapgl": [
           {
            "colorbar": {
             "outlinewidth": 0,
             "tickcolor": "rgb(237,237,237)",
             "ticklen": 6,
             "ticks": "inside"
            },
            "colorscale": [
             [
              0,
              "rgb(20,44,66)"
             ],
             [
              1,
              "rgb(90,179,244)"
             ]
            ],
            "type": "heatmapgl"
           }
          ],
          "histogram": [
           {
            "marker": {
             "pattern": {
              "fillmode": "overlay",
              "size": 10,
              "solidity": 0.2
             }
            },
            "type": "histogram"
           }
          ],
          "histogram2d": [
           {
            "colorbar": {
             "outlinewidth": 0,
             "tickcolor": "rgb(237,237,237)",
             "ticklen": 6,
             "ticks": "inside"
            },
            "colorscale": [
             [
              0,
              "rgb(20,44,66)"
             ],
             [
              1,
              "rgb(90,179,244)"
             ]
            ],
            "type": "histogram2d"
           }
          ],
          "histogram2dcontour": [
           {
            "colorbar": {
             "outlinewidth": 0,
             "tickcolor": "rgb(237,237,237)",
             "ticklen": 6,
             "ticks": "inside"
            },
            "colorscale": [
             [
              0,
              "rgb(20,44,66)"
             ],
             [
              1,
              "rgb(90,179,244)"
             ]
            ],
            "type": "histogram2dcontour"
           }
          ],
          "mesh3d": [
           {
            "colorbar": {
             "outlinewidth": 0,
             "tickcolor": "rgb(237,237,237)",
             "ticklen": 6,
             "ticks": "inside"
            },
            "type": "mesh3d"
           }
          ],
          "parcoords": [
           {
            "line": {
             "colorbar": {
              "outlinewidth": 0,
              "tickcolor": "rgb(237,237,237)",
              "ticklen": 6,
              "ticks": "inside"
             }
            },
            "type": "parcoords"
           }
          ],
          "pie": [
           {
            "automargin": true,
            "type": "pie"
           }
          ],
          "scatter": [
           {
            "fillpattern": {
             "fillmode": "overlay",
             "size": 10,
             "solidity": 0.2
            },
            "type": "scatter"
           }
          ],
          "scatter3d": [
           {
            "line": {
             "colorbar": {
              "outlinewidth": 0,
              "tickcolor": "rgb(237,237,237)",
              "ticklen": 6,
              "ticks": "inside"
             }
            },
            "marker": {
             "colorbar": {
              "outlinewidth": 0,
              "tickcolor": "rgb(237,237,237)",
              "ticklen": 6,
              "ticks": "inside"
             }
            },
            "type": "scatter3d"
           }
          ],
          "scattercarpet": [
           {
            "marker": {
             "colorbar": {
              "outlinewidth": 0,
              "tickcolor": "rgb(237,237,237)",
              "ticklen": 6,
              "ticks": "inside"
             }
            },
            "type": "scattercarpet"
           }
          ],
          "scattergeo": [
           {
            "marker": {
             "colorbar": {
              "outlinewidth": 0,
              "tickcolor": "rgb(237,237,237)",
              "ticklen": 6,
              "ticks": "inside"
             }
            },
            "type": "scattergeo"
           }
          ],
          "scattergl": [
           {
            "marker": {
             "colorbar": {
              "outlinewidth": 0,
              "tickcolor": "rgb(237,237,237)",
              "ticklen": 6,
              "ticks": "inside"
             }
            },
            "type": "scattergl"
           }
          ],
          "scattermapbox": [
           {
            "marker": {
             "colorbar": {
              "outlinewidth": 0,
              "tickcolor": "rgb(237,237,237)",
              "ticklen": 6,
              "ticks": "inside"
             }
            },
            "type": "scattermapbox"
           }
          ],
          "scatterpolar": [
           {
            "marker": {
             "colorbar": {
              "outlinewidth": 0,
              "tickcolor": "rgb(237,237,237)",
              "ticklen": 6,
              "ticks": "inside"
             }
            },
            "type": "scatterpolar"
           }
          ],
          "scatterpolargl": [
           {
            "marker": {
             "colorbar": {
              "outlinewidth": 0,
              "tickcolor": "rgb(237,237,237)",
              "ticklen": 6,
              "ticks": "inside"
             }
            },
            "type": "scatterpolargl"
           }
          ],
          "scatterternary": [
           {
            "marker": {
             "colorbar": {
              "outlinewidth": 0,
              "tickcolor": "rgb(237,237,237)",
              "ticklen": 6,
              "ticks": "inside"
             }
            },
            "type": "scatterternary"
           }
          ],
          "surface": [
           {
            "colorbar": {
             "outlinewidth": 0,
             "tickcolor": "rgb(237,237,237)",
             "ticklen": 6,
             "ticks": "inside"
            },
            "colorscale": [
             [
              0,
              "rgb(20,44,66)"
             ],
             [
              1,
              "rgb(90,179,244)"
             ]
            ],
            "type": "surface"
           }
          ],
          "table": [
           {
            "cells": {
             "fill": {
              "color": "rgb(237,237,237)"
             },
             "line": {
              "color": "white"
             }
            },
            "header": {
             "fill": {
              "color": "rgb(217,217,217)"
             },
             "line": {
              "color": "white"
             }
            },
            "type": "table"
           }
          ]
         },
         "layout": {
          "annotationdefaults": {
           "arrowhead": 0,
           "arrowwidth": 1
          },
          "autotypenumbers": "strict",
          "coloraxis": {
           "colorbar": {
            "outlinewidth": 0,
            "tickcolor": "rgb(237,237,237)",
            "ticklen": 6,
            "ticks": "inside"
           }
          },
          "colorscale": {
           "sequential": [
            [
             0,
             "rgb(20,44,66)"
            ],
            [
             1,
             "rgb(90,179,244)"
            ]
           ],
           "sequentialminus": [
            [
             0,
             "rgb(20,44,66)"
            ],
            [
             1,
             "rgb(90,179,244)"
            ]
           ]
          },
          "colorway": [
           "#F8766D",
           "#A3A500",
           "#00BF7D",
           "#00B0F6",
           "#E76BF3"
          ],
          "font": {
           "color": "rgb(51,51,51)"
          },
          "geo": {
           "bgcolor": "white",
           "lakecolor": "white",
           "landcolor": "rgb(237,237,237)",
           "showlakes": true,
           "showland": true,
           "subunitcolor": "white"
          },
          "hoverlabel": {
           "align": "left"
          },
          "hovermode": "closest",
          "paper_bgcolor": "white",
          "plot_bgcolor": "rgb(237,237,237)",
          "polar": {
           "angularaxis": {
            "gridcolor": "white",
            "linecolor": "white",
            "showgrid": true,
            "tickcolor": "rgb(51,51,51)",
            "ticks": "outside"
           },
           "bgcolor": "rgb(237,237,237)",
           "radialaxis": {
            "gridcolor": "white",
            "linecolor": "white",
            "showgrid": true,
            "tickcolor": "rgb(51,51,51)",
            "ticks": "outside"
           }
          },
          "scene": {
           "xaxis": {
            "backgroundcolor": "rgb(237,237,237)",
            "gridcolor": "white",
            "gridwidth": 2,
            "linecolor": "white",
            "showbackground": true,
            "showgrid": true,
            "tickcolor": "rgb(51,51,51)",
            "ticks": "outside",
            "zerolinecolor": "white"
           },
           "yaxis": {
            "backgroundcolor": "rgb(237,237,237)",
            "gridcolor": "white",
            "gridwidth": 2,
            "linecolor": "white",
            "showbackground": true,
            "showgrid": true,
            "tickcolor": "rgb(51,51,51)",
            "ticks": "outside",
            "zerolinecolor": "white"
           },
           "zaxis": {
            "backgroundcolor": "rgb(237,237,237)",
            "gridcolor": "white",
            "gridwidth": 2,
            "linecolor": "white",
            "showbackground": true,
            "showgrid": true,
            "tickcolor": "rgb(51,51,51)",
            "ticks": "outside",
            "zerolinecolor": "white"
           }
          },
          "shapedefaults": {
           "fillcolor": "black",
           "line": {
            "width": 0
           },
           "opacity": 0.3
          },
          "ternary": {
           "aaxis": {
            "gridcolor": "white",
            "linecolor": "white",
            "showgrid": true,
            "tickcolor": "rgb(51,51,51)",
            "ticks": "outside"
           },
           "baxis": {
            "gridcolor": "white",
            "linecolor": "white",
            "showgrid": true,
            "tickcolor": "rgb(51,51,51)",
            "ticks": "outside"
           },
           "bgcolor": "rgb(237,237,237)",
           "caxis": {
            "gridcolor": "white",
            "linecolor": "white",
            "showgrid": true,
            "tickcolor": "rgb(51,51,51)",
            "ticks": "outside"
           }
          },
          "xaxis": {
           "automargin": true,
           "gridcolor": "white",
           "linecolor": "white",
           "showgrid": true,
           "tickcolor": "rgb(51,51,51)",
           "ticks": "outside",
           "title": {
            "standoff": 15
           },
           "zerolinecolor": "white"
          },
          "yaxis": {
           "automargin": true,
           "gridcolor": "white",
           "linecolor": "white",
           "showgrid": true,
           "tickcolor": "rgb(51,51,51)",
           "ticks": "outside",
           "title": {
            "standoff": 15
           },
           "zerolinecolor": "white"
          }
         }
        },
        "title": {
         "text": "POECENTAJES DE CUMPLIMIENTO NUTRIENTES"
        },
        "width": 800,
        "xaxis": {
         "title": {
          "text": "Nutrientes"
         },
         "type": "category"
        },
        "yaxis": {
         "title": {
          "text": "Porcentaje "
         }
        }
       }
      }
     },
     "metadata": {},
     "output_type": "display_data"
    }
   ],
   "source": [
    "fig = go.Figure()\n",
    "\n",
    "nutrients_percentages = [(y[n].X) / (df_nutrients.loc[n, \"qmax\"]) for n in NUTRIENTS]\n",
    "fig.add_trace(\n",
    "    go.Bar(\n",
    "        x=NUTRIENTS,\n",
    "        y=nutrients_percentages,\n",
    "        text=[f\"{p:.2%}\" for p in nutrients_percentages],\n",
    "        textposition=\"outside\",\n",
    "        marker_color=\"goldenrod\"\n",
    "    )\n",
    ")\n",
    "\n",
    "for idx, n in enumerate(NUTRIENTS):\n",
    "    fig.add_shape(\n",
    "        type=\"line\",\n",
    "        x0=idx - 0.4,\n",
    "        x1=idx + 0.4,\n",
    "        y0=df_nutrients.loc[n, \"qmin\"] / (df_nutrients.loc[n, \"qmax\"]),\n",
    "        y1=df_nutrients.loc[n, \"qmin\"] / (df_nutrients.loc[n, \"qmax\"]),\n",
    "        line=dict(color=\"blue\", width=2, dash=\"dash\"),\n",
    "    )\n",
    "\n",
    "\n",
    "# Configuraciones adicionales de la gráfica\n",
    "fig.update_layout(\n",
    "    title=\"POECENTAJES DE CUMPLIMIENTO NUTRIENTES\",\n",
    "    xaxis_title=\"Nutrientes\",\n",
    "    yaxis_title=\"Porcentaje \",\n",
    "    xaxis={\"type\": \"category\"},\n",
    "    showlegend=False,\n",
    "    width=800,\n",
    "    height=500,\n",
    "    template=\"ggplot2\",\n",
    ")\n",
    "\n",
    "# Mostrar la gráfica\n",
    "fig.show()"
   ]
  },
  {
   "cell_type": "markdown",
   "metadata": {},
   "source": [
    "| Concepto                        | Descripción                                                 | Ecuación                                                                                      | Código Python (Gurobipy)                                                                                              |\n",
    "| :-----------------------------: | ----------------------------------------------------------- | --------------------------------------------------------------------------------------------- | --------------------------------------------------------------------------------------------------------------- |\n",
    "|  **SET**                        | Conjunto de alimentos                                       | $$ \\text{FOODS} $$                                                                            | `FOODS = [...]`                                                                                                 |\n",
    "|  **SET**                        | Conjunto de nutrientes                                      | $$ \\text{NUTRIENTS} $$                                                                        | `NUTRIENTS = [...]`                                                                                             |\n",
    "| **PARAM**                       | Costo por unidad del alimento \\(f\\)                         | $$ \\text{c}_f \\in \\mathbb{R}^{+} $$                                                          | `df_foods.loc[f, 'costo']`                                                                                             |\n",
    "| **PARAM**                       | Cantidad mínima permitida del alimento \\(f\\)                | $$ \\text{food\\_min}_f \\in \\mathbb{R}^{+} $$                                                   | `df_foods.loc[f, 'qmin']`                                                                                              |\n",
    "| **PARAM**                       | Cantidad máxima permitida del alimento \\(f\\)                | $$ \\text{food\\_max}_f \\in \\mathbb{R}^{+} $$                                                   | `df_foods.loc[f, 'qmax']`                                                                                              |\n",
    "| **PARAM**                       | Cantidad mínima requerida del nutriente \\(n\\)               | $$ \\text{nutrient\\_min}_n \\in \\mathbb{R}^{+} $$                                               | `df_nutrients.loc[n, 'qmin']`                                                                                          |\n",
    "| **PARAM**                       | Cantidad máxima permitida del nutriente \\(n\\)               | $$ \\text{nutrient\\_max}_n \\in \\mathbb{R}^{+} $$                                               | `df_nutrients.loc[n, 'qmax']`                                                                                          |\n",
    "| **PARAM**                       | Cantidad del nutriente \\(n\\) en el alimento \\(f\\)           | $$ \\text{a}_{fn} \\in \\mathbb{R}^{+} $$                                                       | `df_nutrient_content`                                                                                           |\n",
    "|  **VAR**                        | Variables de alimentos                                      | $$ x_f \\in \\mathbb{R}^{+} $$                                                                  | `x = model.addVars(FOODS, lb=0, name=\"x\", vtype=GRB.CONTINUOUS)`                                                                      |\n",
    "|  **VAR**                        | Variables de nutrientes                                     | $$ y_n \\in \\mathbb{R}^{+} $$                                                                  | `y = model.addVars(NUTRIENTS, lb=0, name=\"y\", vtype=GRB.CONTINUOUS)`                                                                  |\n",
    "|  **FO**                         | Función objetivo: Minimizar el costo total de los alimentos | $$ \\text{minimizar FO} = \\sum_{f \\in \\text{FOODS}} c_f \\cdot x_f $$                           | `model.setObjective(gp.quicksum(x[f] * df_foods.loc[f, 'costo'] for f in FOODS), GRB.MINIMIZE)`                 |\n",
    "| **CONST**                       | Restricción mínima de alimentos                             | $$ \\forall f \\in \\text{FOODS:} \\quad x_f \\geq \\text{food\\_min}_f $$                           | `model.addConstrs((x[f] >= df_foods.loc[f, 'qmin'] for f in FOODS), name=\"min_food\")`                           |\n",
    "| **CONST**                       | Restricción máxima de alimentos                             | $$ \\forall f \\in \\text{FOODS:} \\quad x_f \\leq \\text{food\\_max}_f $$                           | `model.addConstrs((x[f] <= df_foods.loc[f, 'qmax'] for f in FOODS), name=\"max_food\")`                           |\n",
    "| **CONST**                       | Relación nutrientes-alimentos                               | $$ \\forall n \\in \\text{NUTRIENTS:} \\quad y_n = \\sum_{f \\in \\text{FOODS}} a_{fn} \\cdot x_f $$  | `model.addConstrs((y[n] == gp.quicksum(df_nutrient_content.loc[f, n] * x[f] for f in FOODS) for n in NUTRIENTS), name=\"nutrient_balance\")` |\n",
    "| **CONST**                       | Restricción mínima de nutrientes                            | $$ \\forall n \\in \\text{NUTRIENTS:} \\quad y_n \\geq \\text{nutrient\\_min}_n $$                   | `model.addConstrs((y[n] >= df_nutrients.loc[n, 'qmin'] for n in NUTRIENTS), name=\"min_nutrient\")`               |\n",
    "| **CONST**                       | Restricción máxima de nutrientes                            | $$ \\forall n \\in \\text{NUTRIENTS:} \\quad y_n \\leq \\text{nutrient\\_max}_n $$                    | `model.addConstrs((y[n] <= df_nutrients.loc[n, 'qmax'] for n in NUTRIENTS), name=\"max_nutrient\")`               |\n"
   ]
  }
 ],
 "metadata": {
  "kernelspec": {
   "display_name": "Python 3",
   "language": "python",
   "name": "python3"
  },
  "language_info": {
   "codemirror_mode": {
    "name": "ipython",
    "version": 3
   },
   "file_extension": ".py",
   "mimetype": "text/x-python",
   "name": "python",
   "nbconvert_exporter": "python",
   "pygments_lexer": "ipython3",
   "version": "3.10.10"
  }
 },
 "nbformat": 4,
 "nbformat_minor": 2
}
