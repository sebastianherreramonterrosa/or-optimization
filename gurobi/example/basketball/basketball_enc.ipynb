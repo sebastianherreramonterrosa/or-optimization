{
 "cells": [
  {
   "cell_type": "markdown",
   "metadata": {},
   "source": [
    "## **Alineación Inicial en Equipo de Baloncesto**\n",
    "\n",
    "El entrenador Gregg Popovich dirige un equipo de baloncesto que consta de doce jugadores, cada uno evaluado en una escala de 1 (pobre) a 5 (excelente) en manejo de la pelota, tiros, rebotes y habilidades defensivas. A continuación se muestran las posiciones que cada jugador puede ocupar junto con sus habilidades. La alineación inicial de 5 jugadores debe cumplir con las siguientes restricciones:\n",
    "\n",
    "-   Al menos 3 jugadores del equipo inicial deben ser aptos para la defensa (D), al menos 2 deben poder jugar en el ataque (A) y al menos un jugador debe poder desempeñarse como centro (C).\n",
    "-   El nivel medio del manejo de la pelota, de los tiros y de los rebotes de la alineación inicial debe ser al menos igual a 3.\n",
    "-   Si LeBron James inicia, entonces Kevin Durant no podrá iniciar.\n",
    "-   Si Stephen Curry inicia, entonces tanto Klay Thompson como Draymond Green deben iniciar.\n",
    "-   Al menos uno entre James Harden o Russell Westbrook debe iniciar.\n",
    "\n",
    "Dadas estas restricciones, el entrenador Popovich desea maximizar la capacidad defensiva total del equipo inicial. Se solicita formular el modelo de Programación Lineal Entera (PLE) que permita determinar qué jugadores deben conformar la alineación inicial del equipo.\n",
    "\n",
    "### **Datos de los jugadores**\n",
    "\n",
    "|        Jugador        | Posición | Manejo | Tiros | Rebotes | Defensa |\n",
    "| :-------------------: | :------: | :----: | :---: | :-----: | :-----: |\n",
    "|     LeBron James      |   D-A    |   5    |   5   |    4    |    5    |\n",
    "|     Stephen Curry     |   A-C    |   5    |   5   |    3    |    3    |\n",
    "|     Kevin Durant      |   D-A    |   5    |   5   |    4    |    4    |\n",
    "|     James Harden      |   A-C    |   4    |   5   |    3    |    3    |\n",
    "|   Russell Westbrook   |   D-A    |   4    |   4   |    5    |    4    |\n",
    "|     Klay Thompson     |    A     |   3    |   5   |    3    |    4    |\n",
    "|    Draymond Green     |   D-C    |   3    |   3   |    5    |    5    |\n",
    "| Giannis Antetokounmpo |   D-C    |   5    |   4   |    5    |    5    |\n",
    "|     Kawhi Leonard     |    D     |   4    |   5   |    4    |    5    |\n",
    "|     Kyrie Irving      |    A     |   5    |   5   |    2    |    3    |\n",
    "|     Anthony Davis     |    C     |   4    |   4   |    5    |    5    |\n",
    "|     Nikola Jokic      |    C     |   5    |   4   |    5    |    4    |\n"
   ]
  },
  {
   "cell_type": "code",
   "execution_count": null,
   "metadata": {},
   "outputs": [],
   "source": [
    "import pandas\n",
    "import gurobipy as gp\n",
    "from gurobipy import GRB"
   ]
  },
  {
   "cell_type": "code",
   "execution_count": null,
   "metadata": {},
   "outputs": [],
   "source": [
    "df_habilidades = pandas.read_excel(\"./data.xlsx\", sheet_name=\"Habilidades\", index_col=0)\n",
    "df_bin_posicion = pandas.read_excel(\"./data.xlsx\", sheet_name=\"Bin Posición\", index_col=0)\n",
    "df_min_puntuacion_hab = pandas.read_excel(\"./data.xlsx\", sheet_name=\"Min Puntuación Habilidad\", index_col=0)\n",
    "df_min_jugadores_pos = pandas.read_excel(\"./data.xlsx\", sheet_name=\"Min Jugadores Posición\", index_col=0)"
   ]
  }
 ],
 "metadata": {
  "kernelspec": {
   "display_name": "Python 3",
   "language": "python",
   "name": "python3"
  },
  "language_info": {
   "codemirror_mode": {
    "name": "ipython",
    "version": 3
   },
   "file_extension": ".py",
   "mimetype": "text/x-python",
   "name": "python",
   "nbconvert_exporter": "python",
   "pygments_lexer": "ipython3",
   "version": "3.10.10"
  }
 },
 "nbformat": 4,
 "nbformat_minor": 2
}
