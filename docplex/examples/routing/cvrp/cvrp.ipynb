{
 "cells": [
  {
   "cell_type": "code",
   "execution_count": 105,
   "metadata": {},
   "outputs": [],
   "source": [
    "from docplex.mp.model import Model\n",
    "import random\n",
    "import matplotlib as mpl\n",
    "import matplotlib.pyplot as plt\n",
    "import plotly.express as px\n",
    "import plotly.graph_objects as go"
   ]
  },
  {
   "attachments": {},
   "cell_type": "markdown",
   "metadata": {},
   "source": [
    "**Conjuntos**\n",
    "\n",
    "$$ \\text{CLIENTES} = \\{1, 2, \\ldots, N\\} $$\n",
    "$$ \\text{NODOS} = \\{0\\} \\cup \\text{CLIENTES} $$\n",
    "$$ \\text{CAMIONES} = \\{1, 2, 3, 4, 5, 6, 7\\} $$"
   ]
  },
  {
   "cell_type": "code",
   "execution_count": 106,
   "metadata": {},
   "outputs": [],
   "source": [
    "N = 20\n",
    "CLIENTES = list(range(1, N + 1))\n",
    "NODOS = [0] + CLIENTES\n",
    "CAMIONES = [1, 2, 3, 4, 5, 6, 7]"
   ]
  },
  {
   "cell_type": "code",
   "execution_count": 107,
   "metadata": {},
   "outputs": [],
   "source": [
    "random.seed(142)"
   ]
  },
  {
   "attachments": {},
   "cell_type": "markdown",
   "metadata": {},
   "source": [
    "**Parámetros**\n",
    "\n",
    "$$ \\text{CAPACIDAD\\_CAMION}_c = 70 \\text{ para cada camión } c \\in \\text{CAMIONES} $$\n",
    "$$ \\text{DEMANDA}_{cl}: \\text{Demanda del cliente } cl \\in \\text{CLIENTES} $$\n",
    "$$ \\text{DISTANCIAS}_{n1,n2}: \\text{Distancia euclidiana entre } n1 \\in \\text{NODOS} \\text{ y } n2 \\in \\text{NODOS} $$"
   ]
  },
  {
   "cell_type": "code",
   "execution_count": 108,
   "metadata": {},
   "outputs": [],
   "source": [
    "CAPACIDAD_CAMION = {c: 70 for c in CAMIONES}\n",
    "DEMANDAS = {c: random.randint(10, 20) for c in CLIENTES}\n",
    "COORDENADAS = {n: {\"x\": random.randint(0, N * 10), \"y\": random.randint(0, N * 10)} for n in NODOS}\n",
    "DISTANCIAS = {(n1, n2): ((COORDENADAS[n1][\"x\"] - COORDENADAS[n2][\"x\"]) ** 2 + (COORDENADAS[n1][\"y\"] - COORDENADAS[n2][\"y\"]) ** 2) ** 0.5 for n1 in NODOS for n2 in NODOS}"
   ]
  },
  {
   "cell_type": "code",
   "execution_count": 109,
   "metadata": {},
   "outputs": [
    {
     "data": {
      "application/vnd.plotly.v1+json": {
       "config": {
        "plotlyServerURL": "https://plot.ly"
       },
       "data": [
        {
         "marker": {
          "color": "red",
          "size": 15
         },
         "mode": "markers",
         "name": "Depósito",
         "type": "scatter",
         "x": [
          121
         ],
         "y": [
          63
         ]
        },
        {
         "marker": {
          "color": "black",
          "size": 10
         },
         "mode": "markers",
         "name": "Clientes",
         "type": "scatter",
         "x": [
          25,
          80,
          84,
          16,
          199,
          197,
          68,
          182,
          112,
          200,
          183,
          83,
          28,
          169,
          182,
          7,
          191,
          128,
          82,
          29
         ],
         "y": [
          176,
          133,
          22,
          123,
          164,
          30,
          34,
          1,
          96,
          61,
          194,
          102,
          75,
          68,
          89,
          5,
          60,
          47,
          188,
          85
         ]
        }
       ],
       "layout": {
        "annotations": [
         {
          "showarrow": false,
          "text": "<b>C1: </b> 19",
          "x": 17,
          "y": 184
         },
         {
          "showarrow": false,
          "text": "<b>C2: </b> 20",
          "x": 72,
          "y": 141
         },
         {
          "showarrow": false,
          "text": "<b>C3: </b> 20",
          "x": 76,
          "y": 30
         },
         {
          "showarrow": false,
          "text": "<b>C4: </b> 17",
          "x": 8,
          "y": 131
         },
         {
          "showarrow": false,
          "text": "<b>C5: </b> 12",
          "x": 191,
          "y": 172
         },
         {
          "showarrow": false,
          "text": "<b>C6: </b> 17",
          "x": 189,
          "y": 38
         },
         {
          "showarrow": false,
          "text": "<b>C7: </b> 14",
          "x": 60,
          "y": 42
         },
         {
          "showarrow": false,
          "text": "<b>C8: </b> 15",
          "x": 174,
          "y": 9
         },
         {
          "showarrow": false,
          "text": "<b>C9: </b> 15",
          "x": 104,
          "y": 104
         },
         {
          "showarrow": false,
          "text": "<b>C10: </b> 14",
          "x": 192,
          "y": 69
         },
         {
          "showarrow": false,
          "text": "<b>C11: </b> 10",
          "x": 175,
          "y": 202
         },
         {
          "showarrow": false,
          "text": "<b>C12: </b> 11",
          "x": 75,
          "y": 110
         },
         {
          "showarrow": false,
          "text": "<b>C13: </b> 14",
          "x": 20,
          "y": 83
         },
         {
          "showarrow": false,
          "text": "<b>C14: </b> 12",
          "x": 161,
          "y": 76
         },
         {
          "showarrow": false,
          "text": "<b>C15: </b> 19",
          "x": 174,
          "y": 97
         },
         {
          "showarrow": false,
          "text": "<b>C16: </b> 18",
          "x": -1,
          "y": 13
         },
         {
          "showarrow": false,
          "text": "<b>C17: </b> 13",
          "x": 183,
          "y": 68
         },
         {
          "showarrow": false,
          "text": "<b>C18: </b> 19",
          "x": 120,
          "y": 55
         },
         {
          "showarrow": false,
          "text": "<b>C19: </b> 18",
          "x": 74,
          "y": 196
         },
         {
          "showarrow": false,
          "text": "<b>C20: </b> 10",
          "x": 21,
          "y": 93
         }
        ],
        "height": 600,
        "template": {
         "data": {
          "bar": [
           {
            "error_x": {
             "color": "rgb(51,51,51)"
            },
            "error_y": {
             "color": "rgb(51,51,51)"
            },
            "marker": {
             "line": {
              "color": "rgb(237,237,237)",
              "width": 0.5
             },
             "pattern": {
              "fillmode": "overlay",
              "size": 10,
              "solidity": 0.2
             }
            },
            "type": "bar"
           }
          ],
          "barpolar": [
           {
            "marker": {
             "line": {
              "color": "rgb(237,237,237)",
              "width": 0.5
             },
             "pattern": {
              "fillmode": "overlay",
              "size": 10,
              "solidity": 0.2
             }
            },
            "type": "barpolar"
           }
          ],
          "carpet": [
           {
            "aaxis": {
             "endlinecolor": "rgb(51,51,51)",
             "gridcolor": "white",
             "linecolor": "white",
             "minorgridcolor": "white",
             "startlinecolor": "rgb(51,51,51)"
            },
            "baxis": {
             "endlinecolor": "rgb(51,51,51)",
             "gridcolor": "white",
             "linecolor": "white",
             "minorgridcolor": "white",
             "startlinecolor": "rgb(51,51,51)"
            },
            "type": "carpet"
           }
          ],
          "choropleth": [
           {
            "colorbar": {
             "outlinewidth": 0,
             "tickcolor": "rgb(237,237,237)",
             "ticklen": 6,
             "ticks": "inside"
            },
            "type": "choropleth"
           }
          ],
          "contour": [
           {
            "colorbar": {
             "outlinewidth": 0,
             "tickcolor": "rgb(237,237,237)",
             "ticklen": 6,
             "ticks": "inside"
            },
            "colorscale": [
             [
              0,
              "rgb(20,44,66)"
             ],
             [
              1,
              "rgb(90,179,244)"
             ]
            ],
            "type": "contour"
           }
          ],
          "contourcarpet": [
           {
            "colorbar": {
             "outlinewidth": 0,
             "tickcolor": "rgb(237,237,237)",
             "ticklen": 6,
             "ticks": "inside"
            },
            "type": "contourcarpet"
           }
          ],
          "heatmap": [
           {
            "colorbar": {
             "outlinewidth": 0,
             "tickcolor": "rgb(237,237,237)",
             "ticklen": 6,
             "ticks": "inside"
            },
            "colorscale": [
             [
              0,
              "rgb(20,44,66)"
             ],
             [
              1,
              "rgb(90,179,244)"
             ]
            ],
            "type": "heatmap"
           }
          ],
          "heatmapgl": [
           {
            "colorbar": {
             "outlinewidth": 0,
             "tickcolor": "rgb(237,237,237)",
             "ticklen": 6,
             "ticks": "inside"
            },
            "colorscale": [
             [
              0,
              "rgb(20,44,66)"
             ],
             [
              1,
              "rgb(90,179,244)"
             ]
            ],
            "type": "heatmapgl"
           }
          ],
          "histogram": [
           {
            "marker": {
             "pattern": {
              "fillmode": "overlay",
              "size": 10,
              "solidity": 0.2
             }
            },
            "type": "histogram"
           }
          ],
          "histogram2d": [
           {
            "colorbar": {
             "outlinewidth": 0,
             "tickcolor": "rgb(237,237,237)",
             "ticklen": 6,
             "ticks": "inside"
            },
            "colorscale": [
             [
              0,
              "rgb(20,44,66)"
             ],
             [
              1,
              "rgb(90,179,244)"
             ]
            ],
            "type": "histogram2d"
           }
          ],
          "histogram2dcontour": [
           {
            "colorbar": {
             "outlinewidth": 0,
             "tickcolor": "rgb(237,237,237)",
             "ticklen": 6,
             "ticks": "inside"
            },
            "colorscale": [
             [
              0,
              "rgb(20,44,66)"
             ],
             [
              1,
              "rgb(90,179,244)"
             ]
            ],
            "type": "histogram2dcontour"
           }
          ],
          "mesh3d": [
           {
            "colorbar": {
             "outlinewidth": 0,
             "tickcolor": "rgb(237,237,237)",
             "ticklen": 6,
             "ticks": "inside"
            },
            "type": "mesh3d"
           }
          ],
          "parcoords": [
           {
            "line": {
             "colorbar": {
              "outlinewidth": 0,
              "tickcolor": "rgb(237,237,237)",
              "ticklen": 6,
              "ticks": "inside"
             }
            },
            "type": "parcoords"
           }
          ],
          "pie": [
           {
            "automargin": true,
            "type": "pie"
           }
          ],
          "scatter": [
           {
            "fillpattern": {
             "fillmode": "overlay",
             "size": 10,
             "solidity": 0.2
            },
            "type": "scatter"
           }
          ],
          "scatter3d": [
           {
            "line": {
             "colorbar": {
              "outlinewidth": 0,
              "tickcolor": "rgb(237,237,237)",
              "ticklen": 6,
              "ticks": "inside"
             }
            },
            "marker": {
             "colorbar": {
              "outlinewidth": 0,
              "tickcolor": "rgb(237,237,237)",
              "ticklen": 6,
              "ticks": "inside"
             }
            },
            "type": "scatter3d"
           }
          ],
          "scattercarpet": [
           {
            "marker": {
             "colorbar": {
              "outlinewidth": 0,
              "tickcolor": "rgb(237,237,237)",
              "ticklen": 6,
              "ticks": "inside"
             }
            },
            "type": "scattercarpet"
           }
          ],
          "scattergeo": [
           {
            "marker": {
             "colorbar": {
              "outlinewidth": 0,
              "tickcolor": "rgb(237,237,237)",
              "ticklen": 6,
              "ticks": "inside"
             }
            },
            "type": "scattergeo"
           }
          ],
          "scattergl": [
           {
            "marker": {
             "colorbar": {
              "outlinewidth": 0,
              "tickcolor": "rgb(237,237,237)",
              "ticklen": 6,
              "ticks": "inside"
             }
            },
            "type": "scattergl"
           }
          ],
          "scattermapbox": [
           {
            "marker": {
             "colorbar": {
              "outlinewidth": 0,
              "tickcolor": "rgb(237,237,237)",
              "ticklen": 6,
              "ticks": "inside"
             }
            },
            "type": "scattermapbox"
           }
          ],
          "scatterpolar": [
           {
            "marker": {
             "colorbar": {
              "outlinewidth": 0,
              "tickcolor": "rgb(237,237,237)",
              "ticklen": 6,
              "ticks": "inside"
             }
            },
            "type": "scatterpolar"
           }
          ],
          "scatterpolargl": [
           {
            "marker": {
             "colorbar": {
              "outlinewidth": 0,
              "tickcolor": "rgb(237,237,237)",
              "ticklen": 6,
              "ticks": "inside"
             }
            },
            "type": "scatterpolargl"
           }
          ],
          "scatterternary": [
           {
            "marker": {
             "colorbar": {
              "outlinewidth": 0,
              "tickcolor": "rgb(237,237,237)",
              "ticklen": 6,
              "ticks": "inside"
             }
            },
            "type": "scatterternary"
           }
          ],
          "surface": [
           {
            "colorbar": {
             "outlinewidth": 0,
             "tickcolor": "rgb(237,237,237)",
             "ticklen": 6,
             "ticks": "inside"
            },
            "colorscale": [
             [
              0,
              "rgb(20,44,66)"
             ],
             [
              1,
              "rgb(90,179,244)"
             ]
            ],
            "type": "surface"
           }
          ],
          "table": [
           {
            "cells": {
             "fill": {
              "color": "rgb(237,237,237)"
             },
             "line": {
              "color": "white"
             }
            },
            "header": {
             "fill": {
              "color": "rgb(217,217,217)"
             },
             "line": {
              "color": "white"
             }
            },
            "type": "table"
           }
          ]
         },
         "layout": {
          "annotationdefaults": {
           "arrowhead": 0,
           "arrowwidth": 1
          },
          "autotypenumbers": "strict",
          "coloraxis": {
           "colorbar": {
            "outlinewidth": 0,
            "tickcolor": "rgb(237,237,237)",
            "ticklen": 6,
            "ticks": "inside"
           }
          },
          "colorscale": {
           "sequential": [
            [
             0,
             "rgb(20,44,66)"
            ],
            [
             1,
             "rgb(90,179,244)"
            ]
           ],
           "sequentialminus": [
            [
             0,
             "rgb(20,44,66)"
            ],
            [
             1,
             "rgb(90,179,244)"
            ]
           ]
          },
          "colorway": [
           "#F8766D",
           "#A3A500",
           "#00BF7D",
           "#00B0F6",
           "#E76BF3"
          ],
          "font": {
           "color": "rgb(51,51,51)"
          },
          "geo": {
           "bgcolor": "white",
           "lakecolor": "white",
           "landcolor": "rgb(237,237,237)",
           "showlakes": true,
           "showland": true,
           "subunitcolor": "white"
          },
          "hoverlabel": {
           "align": "left"
          },
          "hovermode": "closest",
          "paper_bgcolor": "white",
          "plot_bgcolor": "rgb(237,237,237)",
          "polar": {
           "angularaxis": {
            "gridcolor": "white",
            "linecolor": "white",
            "showgrid": true,
            "tickcolor": "rgb(51,51,51)",
            "ticks": "outside"
           },
           "bgcolor": "rgb(237,237,237)",
           "radialaxis": {
            "gridcolor": "white",
            "linecolor": "white",
            "showgrid": true,
            "tickcolor": "rgb(51,51,51)",
            "ticks": "outside"
           }
          },
          "scene": {
           "xaxis": {
            "backgroundcolor": "rgb(237,237,237)",
            "gridcolor": "white",
            "gridwidth": 2,
            "linecolor": "white",
            "showbackground": true,
            "showgrid": true,
            "tickcolor": "rgb(51,51,51)",
            "ticks": "outside",
            "zerolinecolor": "white"
           },
           "yaxis": {
            "backgroundcolor": "rgb(237,237,237)",
            "gridcolor": "white",
            "gridwidth": 2,
            "linecolor": "white",
            "showbackground": true,
            "showgrid": true,
            "tickcolor": "rgb(51,51,51)",
            "ticks": "outside",
            "zerolinecolor": "white"
           },
           "zaxis": {
            "backgroundcolor": "rgb(237,237,237)",
            "gridcolor": "white",
            "gridwidth": 2,
            "linecolor": "white",
            "showbackground": true,
            "showgrid": true,
            "tickcolor": "rgb(51,51,51)",
            "ticks": "outside",
            "zerolinecolor": "white"
           }
          },
          "shapedefaults": {
           "fillcolor": "black",
           "line": {
            "width": 0
           },
           "opacity": 0.3
          },
          "ternary": {
           "aaxis": {
            "gridcolor": "white",
            "linecolor": "white",
            "showgrid": true,
            "tickcolor": "rgb(51,51,51)",
            "ticks": "outside"
           },
           "baxis": {
            "gridcolor": "white",
            "linecolor": "white",
            "showgrid": true,
            "tickcolor": "rgb(51,51,51)",
            "ticks": "outside"
           },
           "bgcolor": "rgb(237,237,237)",
           "caxis": {
            "gridcolor": "white",
            "linecolor": "white",
            "showgrid": true,
            "tickcolor": "rgb(51,51,51)",
            "ticks": "outside"
           }
          },
          "xaxis": {
           "automargin": true,
           "gridcolor": "white",
           "linecolor": "white",
           "showgrid": true,
           "tickcolor": "rgb(51,51,51)",
           "ticks": "outside",
           "title": {
            "standoff": 15
           },
           "zerolinecolor": "white"
          },
          "yaxis": {
           "automargin": true,
           "gridcolor": "white",
           "linecolor": "white",
           "showgrid": true,
           "tickcolor": "rgb(51,51,51)",
           "ticks": "outside",
           "title": {
            "standoff": 15
           },
           "zerolinecolor": "white"
          }
         }
        },
        "title": {
         "text": "COORDENADAS NODOS"
        },
        "width": 800,
        "xaxis": {
         "range": [
          -10,
          210
         ],
         "title": {
          "text": "X"
         }
        },
        "yaxis": {
         "range": [
          -10,
          210
         ],
         "title": {
          "text": "Y"
         }
        }
       }
      }
     },
     "metadata": {},
     "output_type": "display_data"
    }
   ],
   "source": [
    "fig = go.Figure()\n",
    "\n",
    "# Añadir punto de depósito en rojo\n",
    "fig.add_trace(\n",
    "    go.Scatter(\n",
    "        x=[COORDENADAS[0][\"x\"]],\n",
    "        y=[COORDENADAS[0][\"y\"]],\n",
    "        mode=\"markers\",\n",
    "        name=\"Depósito\",\n",
    "        marker=dict(color=\"red\", size=15),\n",
    "    )\n",
    ")\n",
    "\n",
    "# Añadir puntos de clientes en negro\n",
    "fig.add_trace(\n",
    "    go.Scatter(\n",
    "        x=[coord[\"x\"] for coord in list(COORDENADAS.values())[1:]],\n",
    "        y=[coord[\"y\"] for coord in list(COORDENADAS.values())[1:]],\n",
    "        mode=\"markers\",\n",
    "        name=\"Clientes\",\n",
    "        marker=dict(color=\"black\", size=10),\n",
    "    )\n",
    ")\n",
    "\n",
    "# Añadir anotaciones de clientes\n",
    "for cliente in CLIENTES:\n",
    "    coord_cliente_x = COORDENADAS[cliente][\"x\"]\n",
    "    coord_cliente_y = COORDENADAS[cliente][\"y\"]\n",
    "    fig.add_annotation(x=coord_cliente_x - 8, y=coord_cliente_y + 8, text=f\"<b>C{cliente}: </b> {DEMANDAS[cliente]}\", showarrow=False)\n",
    "\n",
    "# Configurar el layout del gráfico\n",
    "fig.update_layout(\n",
    "    title=f\"COORDENADAS NODOS\",\n",
    "    xaxis_title=\"X\",\n",
    "    yaxis_title=\"Y\",\n",
    "    xaxis=dict(range=[-10, N * 10 + 10]),\n",
    "    yaxis=dict(range=[-10, N * 10 + 10]),\n",
    "    width=800,\n",
    "    height=600,\n",
    "    template=\"ggplot2\",\n",
    ")\n",
    "\n",
    "fig.show()"
   ]
  },
  {
   "cell_type": "code",
   "execution_count": 110,
   "metadata": {},
   "outputs": [],
   "source": [
    "model = Model(\"CVRP\")"
   ]
  },
  {
   "attachments": {},
   "cell_type": "markdown",
   "metadata": {},
   "source": [
    "**Variables**\n",
    "\n",
    "$$ x_{n1, n2, c} = \\begin{cases} \n",
    "1 & \\text{Si el camión } c \\in \\text{CAMIONES} \\text{ viaja de } n1 \\in \\text{NODOS} \\text{ a } n2 \\in \\text{NODOS} \\\\ \n",
    "0 & \\text{d.l.c.} \n",
    "\\end{cases} $$\n",
    "$$ u_{n, c} \\in \\mathbb{R}^{+} \\text{: Carga acumulada del vehículo } c \\text{ al llegar al nodo } n \\in \\text{NODOS} $$"
   ]
  },
  {
   "cell_type": "code",
   "execution_count": 111,
   "metadata": {},
   "outputs": [],
   "source": [
    "x = model.binary_var_dict([(nodo1, nodo2, camion) for nodo1 in NODOS for nodo2 in NODOS for camion in CAMIONES], name=\"x\")\n",
    "u = model.continuous_var_dict([(nodo, camion) for nodo in NODOS for camion in CAMIONES], name=\"u\")"
   ]
  },
  {
   "cell_type": "markdown",
   "metadata": {},
   "source": [
    "**Función Objetivo**\n",
    "$$ \\text{Minimizar } \\sum_{c \\in \\text{CAMIONES}} \\sum_{n1 \\in \\text{NODOS}} \\sum_{n2 \\in \\text{NODOS}} \\text{DISTANCIAS}_{n1, n2} \\cdot x_{n1, n2, c} $$"
   ]
  },
  {
   "cell_type": "code",
   "execution_count": 112,
   "metadata": {},
   "outputs": [],
   "source": [
    "model.minimize(model.sum(DISTANCIAS[(nodo1, nodo2)] * x[(nodo1, nodo2, camion)] for nodo1 in NODOS for nodo2 in NODOS for camion in CAMIONES))"
   ]
  },
  {
   "cell_type": "markdown",
   "metadata": {},
   "source": [
    "### Restricciones\n",
    "\n",
    "1. **Prohibición de bucles:**\n",
    "$$ \\forall n \\in \\text{NODOS}, \\forall c \\in \\text{CAMIONES}: x_{n, n, c} = 0 $$\n",
    "\n",
    "2. **Asignación única de salidas para cada cliente:**\n",
    "$$ \\forall cl \\in \\text{CLIENTES}: \\sum_{n \\in \\text{NODOS}} \\sum_{c \\in \\text{CAMIONES}} x_{cl, n, c} = 1 $$\n",
    "\n",
    "3. **Asignación única de entradas para cada cliente:**\n",
    "$$ \\forall cl \\in \\text{CLIENTES}: \\sum_{n \\in \\text{NODOS}} \\sum_{c \\in \\text{CAMIONES}} x_{n, cl, c} = 1 $$\n",
    "\n",
    "4. **Restricciones para evitar subtours:**\n",
    "$$ \\forall cl1, cl2 \\in \\text{CLIENTES}, cl1 \\neq cl2, \\forall c \\in \\text{CAMIONES}: \\text{Si } x_{cl1, cl2, c} = 1 \\rightarrow u_{cl2, c} =  u_{cl1, c} + \\text{DEMANDA}_{cl2} $$\n",
    "$$ \\forall cl1, cl2 \\in \\text{CLIENTES}, cl1 \\neq cl2, \\forall c \\in \\text{CAMIONES}: u_{cl2, c} \\geq u_{cl1, c} + \\text{DEMANDA}_{cl2} - \\mathcal{M}  \\cdot (1 - x_{cl1, cl2, c}) $$\n",
    "\n",
    "\n",
    "5. **Demanda mínima en cada cliente:**\n",
    "$$ \\forall cl \\in \\text{CLIENTES}, \\forall c \\in \\text{CAMIONES}: u_{cl, c} \\geq \\text{DEMANDA}_{cl} $$\n",
    "\n",
    "6. **Demanda máxima permitida por el camión:**\n",
    "$$ \\forall cl \\in \\text{CLIENTES}, \\forall c \\in \\text{CAMIONES}: u_{cl, c} \\leq \\text{CAPACIDAD\\_CAMION}_{c} $$\n",
    "\n",
    "7. **Visita de un camión desde el depósito a un cliente:**\n",
    "$$ \\forall c \\in \\text{CAMIONES}: \\sum_{cl \\in \\text{CLIENTES}} x_{0, cl, c} \\leq 1 $$\n",
    "\n",
    "8. **Retorno de un camión del cliente al depósito:**\n",
    "$$ \\forall c \\in \\text{CAMIONES}: \\sum_{cl \\in \\text{CLIENTES}} x_{cl, 0, c} \\leq 1 $$\n",
    "\n",
    "9. **Flujo de continuidad:**\n",
    "$$ \\forall c \\in \\text{CAMIONES}, \\forall n1 \\in \\text{NODOS}: \\sum_{n2 \\in \\text{NODOS}} x_{n1, n2, c} = \\sum_{n2 \\in \\text{NODOS}} x_{n2, n1, c} $$"
   ]
  },
  {
   "cell_type": "code",
   "execution_count": 113,
   "metadata": {},
   "outputs": [],
   "source": [
    "for nodo in NODOS:\n",
    "    for camion in CAMIONES:\n",
    "        model.add_constraint(x[nodo, nodo, camion] == 0)\n",
    "\n",
    "for cliente in CLIENTES:\n",
    "    model.add_constraint(model.sum(x[cliente, nodo, camion] for nodo in NODOS for camion in CAMIONES) == 1)\n",
    "\n",
    "for cliente in CLIENTES:\n",
    "    model.add_constraint(model.sum(x[nodo, cliente, camion] for nodo in NODOS for camion in CAMIONES) == 1)\n",
    "\n",
    "for cliente1 in CLIENTES:\n",
    "    for cliente2 in CLIENTES:\n",
    "        for camion in CAMIONES:\n",
    "            if cliente1 != cliente2:\n",
    "                model.add_constraint(u[cliente2, camion] >= u[cliente1, camion] + DEMANDAS[cliente2] - 10000 * (1 - x[cliente1, cliente2, camion]))\n",
    "                # model.add_indicator(x[(cliente1, cliente2)], u[cliente2] == u[cliente1] + DEMANDAS[cliente2], active_value = 1)\n",
    "\n",
    "for cliente in CLIENTES:\n",
    "    for camion in CAMIONES:\n",
    "        model.add_constraint(u[cliente, camion] >= DEMANDAS[cliente])\n",
    "\n",
    "for cliente in CLIENTES:\n",
    "    for camion in CAMIONES:\n",
    "        model.add_constraint(u[cliente, camion] <= CAPACIDAD_CAMION[camion])\n",
    "\n",
    "for camion in CAMIONES:\n",
    "    model.add_constraint(model.sum(x[0, cliente, camion] for cliente in CLIENTES) <= 1)\n",
    "    model.add_constraint(model.sum(x[cliente, 0, camion] for cliente in CLIENTES) <= 1)\n",
    "\n",
    "for camion in CAMIONES:\n",
    "    for nodo in NODOS:\n",
    "        model.add_constraint(model.sum(x[nodo_, nodo, camion] for nodo_ in NODOS) == model.sum(x[nodo, nodo_, camion] for nodo_ in NODOS))"
   ]
  },
  {
   "cell_type": "code",
   "execution_count": 114,
   "metadata": {},
   "outputs": [],
   "source": [
    "# model.parameters.mip.limits.solutions = 1\n",
    "model.set_time_limit(200)\n",
    "solution = model.solve()"
   ]
  },
  {
   "cell_type": "code",
   "execution_count": 116,
   "metadata": {},
   "outputs": [
    {
     "name": "stdout",
     "output_type": "stream",
     "text": [
      "==== Ruta camión 1 ====\n",
      "0 -> 18 -> 17 -> 10 -> 15 -> 0\n",
      "==== Ruta camión 2 ====\n",
      "0 -> 5 -> 11 -> 14 -> 6 -> 8 -> 0\n",
      "==== Ruta camión 3 ====\n",
      "0 -> 3 -> 7 -> 16 -> 13 -> 0\n",
      "==== Ruta camión 4 ====\n",
      "0 -> 9 -> 12 -> 2 -> 0\n",
      "==== Ruta camión 7 ====\n",
      "0 -> 19 -> 1 -> 4 -> 20 -> 0\n",
      "\n",
      "==== Arreglo de rutas ====\n",
      "{1: [0, 18, 17, 10, 15, 0], 2: [0, 5, 11, 14, 6, 8, 0], 3: [0, 3, 7, 16, 13, 0], 4: [0, 9, 12, 2, 0], 7: [0, 19, 1, 4, 20, 0]}\n"
     ]
    }
   ],
   "source": [
    "rutas = {}\n",
    "for camion in CAMIONES:\n",
    "    for cliente in CLIENTES:\n",
    "        if x[0, cliente, camion].solution_value > 0.9:\n",
    "            print(f\"==== Ruta camión {camion} ====\")\n",
    "            ruta = [0, cliente]\n",
    "            r = \"0 -> \" + str(cliente) + \" -> \"\n",
    "\n",
    "            cliente_actual = cliente\n",
    "            while x[cliente_actual, 0, camion].solution_value < 0.9:\n",
    "                for siguiente_cliente in CLIENTES:\n",
    "                    if x[cliente_actual, siguiente_cliente, camion].solution_value > 0.9:\n",
    "                        break\n",
    "                ruta.append(siguiente_cliente)\n",
    "                r += str(siguiente_cliente) + \" -> \"\n",
    "                cliente_actual = siguiente_cliente\n",
    "\n",
    "            ruta.append(0)\n",
    "            r += \"0\"\n",
    "            print(r)\n",
    "            rutas[camion] = ruta\n",
    "            \n",
    "print(\"\\n==== Arreglo de rutas ====\")\n",
    "print(rutas)\n"
   ]
  },
  {
   "cell_type": "code",
   "execution_count": 117,
   "metadata": {},
   "outputs": [
    {
     "data": {
      "application/vnd.plotly.v1+json": {
       "config": {
        "plotlyServerURL": "https://plot.ly"
       },
       "data": [
        {
         "line": {
          "color": "#DC3912",
          "dash": "solid",
          "width": 2
         },
         "mode": "lines",
         "name": "Ruta C1 - CAP: 65 D: 190.44",
         "type": "scatter",
         "x": [
          121,
          128,
          191,
          200,
          182,
          121
         ],
         "y": [
          63,
          47,
          60,
          61,
          89,
          63
         ]
        },
        {
         "line": {
          "color": "#FF9900",
          "dash": "solid",
          "width": 2
         },
         "mode": "lines",
         "name": "Ruta C2 - CAP: 66 D: 455.22",
         "type": "scatter",
         "x": [
          121,
          199,
          183,
          169,
          197,
          182,
          121
         ],
         "y": [
          63,
          164,
          194,
          68,
          30,
          1,
          63
         ]
        },
        {
         "line": {
          "color": "#109618",
          "dash": "solid",
          "width": 2
         },
         "mode": "lines",
         "name": "Ruta C3 - CAP: 66 D: 309.62",
         "type": "scatter",
         "x": [
          121,
          84,
          68,
          7,
          28,
          121
         ],
         "y": [
          63,
          22,
          34,
          5,
          75,
          63
         ]
        },
        {
         "line": {
          "color": "#990099",
          "dash": "solid",
          "width": 2
         },
         "mode": "lines",
         "name": "Ruta C4 - CAP: 46 D: 176.09",
         "type": "scatter",
         "x": [
          121,
          112,
          83,
          80,
          121
         ],
         "y": [
          63,
          96,
          102,
          133,
          63
         ]
        },
        {
         "line": {
          "color": "#66AA00",
          "dash": "solid",
          "width": 2
         },
         "mode": "lines",
         "name": "Ruta C7 - CAP: 64 D: 377.71",
         "type": "scatter",
         "x": [
          121,
          82,
          25,
          16,
          29,
          121
         ],
         "y": [
          63,
          188,
          176,
          123,
          85,
          63
         ]
        },
        {
         "marker": {
          "color": "red",
          "size": 15
         },
         "mode": "markers",
         "name": "Depósito",
         "type": "scatter",
         "x": [
          121
         ],
         "y": [
          63
         ]
        },
        {
         "marker": {
          "color": "black",
          "size": 10
         },
         "mode": "markers",
         "name": "Clientes",
         "type": "scatter",
         "x": [
          25,
          80,
          84,
          16,
          199,
          197,
          68,
          182,
          112,
          200,
          183,
          83,
          28,
          169,
          182,
          7,
          191,
          128,
          82,
          29
         ],
         "y": [
          176,
          133,
          22,
          123,
          164,
          30,
          34,
          1,
          96,
          61,
          194,
          102,
          75,
          68,
          89,
          5,
          60,
          47,
          188,
          85
         ]
        }
       ],
       "layout": {
        "annotations": [
         {
          "showarrow": false,
          "text": "<b>C1</b>",
          "x": 17,
          "y": 184
         },
         {
          "showarrow": false,
          "text": "<b>C2</b>",
          "x": 72,
          "y": 141
         },
         {
          "showarrow": false,
          "text": "<b>C3</b>",
          "x": 76,
          "y": 30
         },
         {
          "showarrow": false,
          "text": "<b>C4</b>",
          "x": 8,
          "y": 131
         },
         {
          "showarrow": false,
          "text": "<b>C5</b>",
          "x": 191,
          "y": 172
         },
         {
          "showarrow": false,
          "text": "<b>C6</b>",
          "x": 189,
          "y": 38
         },
         {
          "showarrow": false,
          "text": "<b>C7</b>",
          "x": 60,
          "y": 42
         },
         {
          "showarrow": false,
          "text": "<b>C8</b>",
          "x": 174,
          "y": 9
         },
         {
          "showarrow": false,
          "text": "<b>C9</b>",
          "x": 104,
          "y": 104
         },
         {
          "showarrow": false,
          "text": "<b>C10</b>",
          "x": 192,
          "y": 69
         },
         {
          "showarrow": false,
          "text": "<b>C11</b>",
          "x": 175,
          "y": 202
         },
         {
          "showarrow": false,
          "text": "<b>C12</b>",
          "x": 75,
          "y": 110
         },
         {
          "showarrow": false,
          "text": "<b>C13</b>",
          "x": 20,
          "y": 83
         },
         {
          "showarrow": false,
          "text": "<b>C14</b>",
          "x": 161,
          "y": 76
         },
         {
          "showarrow": false,
          "text": "<b>C15</b>",
          "x": 174,
          "y": 97
         },
         {
          "showarrow": false,
          "text": "<b>C16</b>",
          "x": -1,
          "y": 13
         },
         {
          "showarrow": false,
          "text": "<b>C17</b>",
          "x": 183,
          "y": 68
         },
         {
          "showarrow": false,
          "text": "<b>C18</b>",
          "x": 120,
          "y": 55
         },
         {
          "showarrow": false,
          "text": "<b>C19</b>",
          "x": 74,
          "y": 196
         },
         {
          "showarrow": false,
          "text": "<b>C20</b>",
          "x": 21,
          "y": 93
         }
        ],
        "height": 600,
        "template": {
         "data": {
          "bar": [
           {
            "error_x": {
             "color": "rgb(51,51,51)"
            },
            "error_y": {
             "color": "rgb(51,51,51)"
            },
            "marker": {
             "line": {
              "color": "rgb(237,237,237)",
              "width": 0.5
             },
             "pattern": {
              "fillmode": "overlay",
              "size": 10,
              "solidity": 0.2
             }
            },
            "type": "bar"
           }
          ],
          "barpolar": [
           {
            "marker": {
             "line": {
              "color": "rgb(237,237,237)",
              "width": 0.5
             },
             "pattern": {
              "fillmode": "overlay",
              "size": 10,
              "solidity": 0.2
             }
            },
            "type": "barpolar"
           }
          ],
          "carpet": [
           {
            "aaxis": {
             "endlinecolor": "rgb(51,51,51)",
             "gridcolor": "white",
             "linecolor": "white",
             "minorgridcolor": "white",
             "startlinecolor": "rgb(51,51,51)"
            },
            "baxis": {
             "endlinecolor": "rgb(51,51,51)",
             "gridcolor": "white",
             "linecolor": "white",
             "minorgridcolor": "white",
             "startlinecolor": "rgb(51,51,51)"
            },
            "type": "carpet"
           }
          ],
          "choropleth": [
           {
            "colorbar": {
             "outlinewidth": 0,
             "tickcolor": "rgb(237,237,237)",
             "ticklen": 6,
             "ticks": "inside"
            },
            "type": "choropleth"
           }
          ],
          "contour": [
           {
            "colorbar": {
             "outlinewidth": 0,
             "tickcolor": "rgb(237,237,237)",
             "ticklen": 6,
             "ticks": "inside"
            },
            "colorscale": [
             [
              0,
              "rgb(20,44,66)"
             ],
             [
              1,
              "rgb(90,179,244)"
             ]
            ],
            "type": "contour"
           }
          ],
          "contourcarpet": [
           {
            "colorbar": {
             "outlinewidth": 0,
             "tickcolor": "rgb(237,237,237)",
             "ticklen": 6,
             "ticks": "inside"
            },
            "type": "contourcarpet"
           }
          ],
          "heatmap": [
           {
            "colorbar": {
             "outlinewidth": 0,
             "tickcolor": "rgb(237,237,237)",
             "ticklen": 6,
             "ticks": "inside"
            },
            "colorscale": [
             [
              0,
              "rgb(20,44,66)"
             ],
             [
              1,
              "rgb(90,179,244)"
             ]
            ],
            "type": "heatmap"
           }
          ],
          "heatmapgl": [
           {
            "colorbar": {
             "outlinewidth": 0,
             "tickcolor": "rgb(237,237,237)",
             "ticklen": 6,
             "ticks": "inside"
            },
            "colorscale": [
             [
              0,
              "rgb(20,44,66)"
             ],
             [
              1,
              "rgb(90,179,244)"
             ]
            ],
            "type": "heatmapgl"
           }
          ],
          "histogram": [
           {
            "marker": {
             "pattern": {
              "fillmode": "overlay",
              "size": 10,
              "solidity": 0.2
             }
            },
            "type": "histogram"
           }
          ],
          "histogram2d": [
           {
            "colorbar": {
             "outlinewidth": 0,
             "tickcolor": "rgb(237,237,237)",
             "ticklen": 6,
             "ticks": "inside"
            },
            "colorscale": [
             [
              0,
              "rgb(20,44,66)"
             ],
             [
              1,
              "rgb(90,179,244)"
             ]
            ],
            "type": "histogram2d"
           }
          ],
          "histogram2dcontour": [
           {
            "colorbar": {
             "outlinewidth": 0,
             "tickcolor": "rgb(237,237,237)",
             "ticklen": 6,
             "ticks": "inside"
            },
            "colorscale": [
             [
              0,
              "rgb(20,44,66)"
             ],
             [
              1,
              "rgb(90,179,244)"
             ]
            ],
            "type": "histogram2dcontour"
           }
          ],
          "mesh3d": [
           {
            "colorbar": {
             "outlinewidth": 0,
             "tickcolor": "rgb(237,237,237)",
             "ticklen": 6,
             "ticks": "inside"
            },
            "type": "mesh3d"
           }
          ],
          "parcoords": [
           {
            "line": {
             "colorbar": {
              "outlinewidth": 0,
              "tickcolor": "rgb(237,237,237)",
              "ticklen": 6,
              "ticks": "inside"
             }
            },
            "type": "parcoords"
           }
          ],
          "pie": [
           {
            "automargin": true,
            "type": "pie"
           }
          ],
          "scatter": [
           {
            "fillpattern": {
             "fillmode": "overlay",
             "size": 10,
             "solidity": 0.2
            },
            "type": "scatter"
           }
          ],
          "scatter3d": [
           {
            "line": {
             "colorbar": {
              "outlinewidth": 0,
              "tickcolor": "rgb(237,237,237)",
              "ticklen": 6,
              "ticks": "inside"
             }
            },
            "marker": {
             "colorbar": {
              "outlinewidth": 0,
              "tickcolor": "rgb(237,237,237)",
              "ticklen": 6,
              "ticks": "inside"
             }
            },
            "type": "scatter3d"
           }
          ],
          "scattercarpet": [
           {
            "marker": {
             "colorbar": {
              "outlinewidth": 0,
              "tickcolor": "rgb(237,237,237)",
              "ticklen": 6,
              "ticks": "inside"
             }
            },
            "type": "scattercarpet"
           }
          ],
          "scattergeo": [
           {
            "marker": {
             "colorbar": {
              "outlinewidth": 0,
              "tickcolor": "rgb(237,237,237)",
              "ticklen": 6,
              "ticks": "inside"
             }
            },
            "type": "scattergeo"
           }
          ],
          "scattergl": [
           {
            "marker": {
             "colorbar": {
              "outlinewidth": 0,
              "tickcolor": "rgb(237,237,237)",
              "ticklen": 6,
              "ticks": "inside"
             }
            },
            "type": "scattergl"
           }
          ],
          "scattermapbox": [
           {
            "marker": {
             "colorbar": {
              "outlinewidth": 0,
              "tickcolor": "rgb(237,237,237)",
              "ticklen": 6,
              "ticks": "inside"
             }
            },
            "type": "scattermapbox"
           }
          ],
          "scatterpolar": [
           {
            "marker": {
             "colorbar": {
              "outlinewidth": 0,
              "tickcolor": "rgb(237,237,237)",
              "ticklen": 6,
              "ticks": "inside"
             }
            },
            "type": "scatterpolar"
           }
          ],
          "scatterpolargl": [
           {
            "marker": {
             "colorbar": {
              "outlinewidth": 0,
              "tickcolor": "rgb(237,237,237)",
              "ticklen": 6,
              "ticks": "inside"
             }
            },
            "type": "scatterpolargl"
           }
          ],
          "scatterternary": [
           {
            "marker": {
             "colorbar": {
              "outlinewidth": 0,
              "tickcolor": "rgb(237,237,237)",
              "ticklen": 6,
              "ticks": "inside"
             }
            },
            "type": "scatterternary"
           }
          ],
          "surface": [
           {
            "colorbar": {
             "outlinewidth": 0,
             "tickcolor": "rgb(237,237,237)",
             "ticklen": 6,
             "ticks": "inside"
            },
            "colorscale": [
             [
              0,
              "rgb(20,44,66)"
             ],
             [
              1,
              "rgb(90,179,244)"
             ]
            ],
            "type": "surface"
           }
          ],
          "table": [
           {
            "cells": {
             "fill": {
              "color": "rgb(237,237,237)"
             },
             "line": {
              "color": "white"
             }
            },
            "header": {
             "fill": {
              "color": "rgb(217,217,217)"
             },
             "line": {
              "color": "white"
             }
            },
            "type": "table"
           }
          ]
         },
         "layout": {
          "annotationdefaults": {
           "arrowhead": 0,
           "arrowwidth": 1
          },
          "autotypenumbers": "strict",
          "coloraxis": {
           "colorbar": {
            "outlinewidth": 0,
            "tickcolor": "rgb(237,237,237)",
            "ticklen": 6,
            "ticks": "inside"
           }
          },
          "colorscale": {
           "sequential": [
            [
             0,
             "rgb(20,44,66)"
            ],
            [
             1,
             "rgb(90,179,244)"
            ]
           ],
           "sequentialminus": [
            [
             0,
             "rgb(20,44,66)"
            ],
            [
             1,
             "rgb(90,179,244)"
            ]
           ]
          },
          "colorway": [
           "#F8766D",
           "#A3A500",
           "#00BF7D",
           "#00B0F6",
           "#E76BF3"
          ],
          "font": {
           "color": "rgb(51,51,51)"
          },
          "geo": {
           "bgcolor": "white",
           "lakecolor": "white",
           "landcolor": "rgb(237,237,237)",
           "showlakes": true,
           "showland": true,
           "subunitcolor": "white"
          },
          "hoverlabel": {
           "align": "left"
          },
          "hovermode": "closest",
          "paper_bgcolor": "white",
          "plot_bgcolor": "rgb(237,237,237)",
          "polar": {
           "angularaxis": {
            "gridcolor": "white",
            "linecolor": "white",
            "showgrid": true,
            "tickcolor": "rgb(51,51,51)",
            "ticks": "outside"
           },
           "bgcolor": "rgb(237,237,237)",
           "radialaxis": {
            "gridcolor": "white",
            "linecolor": "white",
            "showgrid": true,
            "tickcolor": "rgb(51,51,51)",
            "ticks": "outside"
           }
          },
          "scene": {
           "xaxis": {
            "backgroundcolor": "rgb(237,237,237)",
            "gridcolor": "white",
            "gridwidth": 2,
            "linecolor": "white",
            "showbackground": true,
            "showgrid": true,
            "tickcolor": "rgb(51,51,51)",
            "ticks": "outside",
            "zerolinecolor": "white"
           },
           "yaxis": {
            "backgroundcolor": "rgb(237,237,237)",
            "gridcolor": "white",
            "gridwidth": 2,
            "linecolor": "white",
            "showbackground": true,
            "showgrid": true,
            "tickcolor": "rgb(51,51,51)",
            "ticks": "outside",
            "zerolinecolor": "white"
           },
           "zaxis": {
            "backgroundcolor": "rgb(237,237,237)",
            "gridcolor": "white",
            "gridwidth": 2,
            "linecolor": "white",
            "showbackground": true,
            "showgrid": true,
            "tickcolor": "rgb(51,51,51)",
            "ticks": "outside",
            "zerolinecolor": "white"
           }
          },
          "shapedefaults": {
           "fillcolor": "black",
           "line": {
            "width": 0
           },
           "opacity": 0.3
          },
          "ternary": {
           "aaxis": {
            "gridcolor": "white",
            "linecolor": "white",
            "showgrid": true,
            "tickcolor": "rgb(51,51,51)",
            "ticks": "outside"
           },
           "baxis": {
            "gridcolor": "white",
            "linecolor": "white",
            "showgrid": true,
            "tickcolor": "rgb(51,51,51)",
            "ticks": "outside"
           },
           "bgcolor": "rgb(237,237,237)",
           "caxis": {
            "gridcolor": "white",
            "linecolor": "white",
            "showgrid": true,
            "tickcolor": "rgb(51,51,51)",
            "ticks": "outside"
           }
          },
          "xaxis": {
           "automargin": true,
           "gridcolor": "white",
           "linecolor": "white",
           "showgrid": true,
           "tickcolor": "rgb(51,51,51)",
           "ticks": "outside",
           "title": {
            "standoff": 15
           },
           "zerolinecolor": "white"
          },
          "yaxis": {
           "automargin": true,
           "gridcolor": "white",
           "linecolor": "white",
           "showgrid": true,
           "tickcolor": "rgb(51,51,51)",
           "ticks": "outside",
           "title": {
            "standoff": 15
           },
           "zerolinecolor": "white"
          }
         }
        },
        "title": {
         "text": "RECORRIDO TOTAL: 1509.08"
        },
        "width": 800,
        "xaxis": {
         "range": [
          -10,
          210
         ],
         "title": {
          "text": "X"
         }
        },
        "yaxis": {
         "range": [
          -10,
          210
         ],
         "title": {
          "text": "Y"
         }
        }
       }
      }
     },
     "metadata": {},
     "output_type": "display_data"
    }
   ],
   "source": [
    "fig = go.Figure()\n",
    "\n",
    "# RUTAS\n",
    "for id_camion, ruta in rutas.items():\n",
    "    coords_x = [COORDENADAS[nodo][\"x\"] for nodo in ruta]\n",
    "    coords_y = [COORDENADAS[nodo][\"y\"] for nodo in ruta]\n",
    "    capacidad_ruta = sum(map(lambda x: DEMANDAS[x] if x != 0 else 0, ruta))\n",
    "    distancia_ruta = sum([DISTANCIAS[(ruta[i], ruta[i + 1])] for i in range(len(ruta) - 1)])\n",
    "\n",
    "    fig.add_trace(\n",
    "        go.Scatter(\n",
    "            x=coords_x,\n",
    "            y=coords_y,\n",
    "            mode=\"lines\",\n",
    "            line=dict(color=px.colors.qualitative.G10[id_camion % len(px.colors.qualitative.G10)], width=2, dash=\"solid\"),\n",
    "            name=f\"Ruta C{id_camion} - CAP: {capacidad_ruta} D: {distancia_ruta:.2f}\",\n",
    "        )\n",
    "    )\n",
    "\n",
    "    # FLECHAS\n",
    "    for i in range(len(ruta) - 1):\n",
    "        mid_x = (coords_x[i] + coords_x[i + 1]) / 2\n",
    "        mid_y = (coords_y[i] + coords_y[i + 1]) / 2\n",
    "        fig.add_annotation(\n",
    "            x=mid_x, y=mid_y,\n",
    "            ax=mid_x - (coords_x[i + 1] - coords_x[i]) * 0.1, ay=mid_y - (coords_y[i + 1] - coords_y[i]) * 0.1,\n",
    "            xref=\"x\",\n",
    "            yref=\"y\",\n",
    "            axref=\"x\",\n",
    "            ayref=\"y\",\n",
    "            showarrow=True,\n",
    "            arrowhead=1,\n",
    "            arrowsize=2,\n",
    "            arrowwidth=1,\n",
    "            arrowcolor=px.colors.qualitative.G10[id_camion % len(px.colors.qualitative.G10)],\n",
    "        )\n",
    "\n",
    "# DEPÓSITO\n",
    "fig.add_trace(\n",
    "    go.Scatter(\n",
    "        x=[COORDENADAS[0][\"x\"]],\n",
    "        y=[COORDENADAS[0][\"y\"]],\n",
    "        mode=\"markers\",\n",
    "        name=\"Depósito\",\n",
    "        marker=dict(color=\"red\", size=15),\n",
    "    )\n",
    ")\n",
    "\n",
    "# CLIENTES\n",
    "fig.add_trace(\n",
    "    go.Scatter(\n",
    "        x=[coord[\"x\"] for coord in list(COORDENADAS.values())[1:]],\n",
    "        y=[coord[\"y\"] for coord in list(COORDENADAS.values())[1:]],\n",
    "        mode=\"markers\",\n",
    "        name=\"Clientes\",\n",
    "        marker=dict(color=\"black\", size=10),\n",
    "    )\n",
    ")\n",
    "\n",
    "for cliente in CLIENTES:\n",
    "    coord_cliente_x = COORDENADAS[cliente][\"x\"]\n",
    "    coord_cliente_y = COORDENADAS[cliente][\"y\"]\n",
    "    fig.add_annotation(x=coord_cliente_x - 8, y=coord_cliente_y + 8, text=f\"<b>C{cliente}</b>\", showarrow=False)\n",
    "\n",
    "\n",
    "fig.update_layout(\n",
    "    title=f\"RECORRIDO TOTAL: {solution.objective_value:.2f}\",\n",
    "    xaxis_title=\"X\",\n",
    "    yaxis_title=\"Y\",\n",
    "    xaxis=dict(range=[-10, N * 10 + 10]),\n",
    "    yaxis=dict(range=[-10, N * 10 + 10]),\n",
    "    width=800,\n",
    "    height=600,\n",
    "    template=\"ggplot2\",\n",
    ")\n",
    "\n",
    "fig.show()"
   ]
  }
 ],
 "metadata": {
  "kernelspec": {
   "display_name": "Python 3.7.11 ('base')",
   "language": "python",
   "name": "python3"
  },
  "language_info": {
   "codemirror_mode": {
    "name": "ipython",
    "version": 3
   },
   "file_extension": ".py",
   "mimetype": "text/x-python",
   "name": "python",
   "nbconvert_exporter": "python",
   "pygments_lexer": "ipython3",
   "version": "3.10.10"
  },
  "orig_nbformat": 4,
  "vscode": {
   "interpreter": {
    "hash": "d90077ce7125d20909e99e912648307be4f32fccb58a5fb76bf45800dc67acda"
   }
  }
 },
 "nbformat": 4,
 "nbformat_minor": 2
}
