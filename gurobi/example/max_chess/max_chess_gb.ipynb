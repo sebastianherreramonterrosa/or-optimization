{
 "cells": [
  {
   "cell_type": "code",
   "execution_count": 50,
   "metadata": {},
   "outputs": [],
   "source": [
    "import gurobipy as gp\n",
    "import numpy\n",
    "import plotly.graph_objects as go\n",
    "from gurobipy import GRB"
   ]
  },
  {
   "cell_type": "code",
   "execution_count": 51,
   "metadata": {},
   "outputs": [],
   "source": [
    "COLUMNAS = [\"a\", \"b\", \"c\", \"d\", \"e\", \"f\", \"g\", \"h\"]\n",
    "FILAS = [1, 2, 3, 4, 5, 6, 7, 8]\n",
    "CASILLAS = [f\"{columna}{fila}\" for columna in COLUMNAS for fila in FILAS]\n",
    "PIEZAS = [\"K\", \"R\", \"Q\", \"N\", \"B\"]"
   ]
  },
  {
   "cell_type": "code",
   "execution_count": 52,
   "metadata": {},
   "outputs": [],
   "source": [
    "def ataque_torre(casilla: str) -> list[str]:\n",
    "    columna_torre = COLUMNAS.index(casilla[0]) + 1\n",
    "    fila_torre = int(casilla[1])\n",
    "    casillas_atacadas = []\n",
    "    for fila in range(1, 9):\n",
    "        if fila != fila_torre:\n",
    "            casillas_atacadas.append(f\"{COLUMNAS[columna_torre - 1]}{fila}\")\n",
    "    for i, columna in enumerate(COLUMNAS):\n",
    "        if i + 1 != columna_torre:\n",
    "            casillas_atacadas.append(f\"{columna}{fila_torre}\")\n",
    "    return casillas_atacadas\n",
    "\n",
    "\n",
    "def ataque_alfil(casilla: str) -> list[str]:\n",
    "    columna_alfil = COLUMNAS.index(casilla[0])\n",
    "    fila_alfil = int(casilla[1])\n",
    "    casillas_atacadas = []\n",
    "    direcciones = [(-1, -1), (-1, 1), (1, -1), (1, 1)]\n",
    "    for dx, dy in direcciones:\n",
    "        x, y = columna_alfil, fila_alfil\n",
    "        while 0 <= x + dx < 8 and 0 <= y + dy <= 8:\n",
    "            x += dx\n",
    "            y += dy\n",
    "            if 0 <= x < 8 and 1 <= y <= 8:\n",
    "                casillas_atacadas.append(f\"{COLUMNAS[x]}{y}\")\n",
    "    return casillas_atacadas\n",
    "\n",
    "\n",
    "def ataque_dama(casilla: str) -> list[str]:\n",
    "    columna_dama = COLUMNAS.index(casilla[0])\n",
    "    fila_dama = int(casilla[1])\n",
    "    casillas_atacadas = []\n",
    "    for i in range(8):\n",
    "        if i != columna_dama:\n",
    "            casillas_atacadas.append(f\"{COLUMNAS[i]}{fila_dama}\")\n",
    "        if i + 1 != fila_dama:\n",
    "            casillas_atacadas.append(f\"{COLUMNAS[columna_dama]}{i + 1}\")\n",
    "\n",
    "    direcciones = [(-1, -1), (-1, 1), (1, -1), (1, 1)]\n",
    "    for dx, dy in direcciones:\n",
    "        x, y = columna_dama, fila_dama\n",
    "        while 0 <= x + dx < 8 and 0 <= y + dy <= 8:\n",
    "            x += dx\n",
    "            y += dy\n",
    "            if 0 <= x < 8 and 1 <= y <= 8:\n",
    "                casillas_atacadas.append(f\"{COLUMNAS[x]}{y}\")\n",
    "    return list(set(casillas_atacadas))\n",
    "\n",
    "\n",
    "def ataque_rey(casilla: str) -> list[str]:\n",
    "    columna_rey = COLUMNAS.index(casilla[0])\n",
    "    fila_rey = int(casilla[1])\n",
    "    movimientos = [(-1, -1), (-1, 0), (-1, 1), (0, -1), (0, 1), (1, -1), (1, 0), (1, 1)]\n",
    "    casillas_atacadas = []\n",
    "    for dx, dy in movimientos:\n",
    "        nueva_columna = columna_rey + dx\n",
    "        nueva_fila = fila_rey + dy\n",
    "        if 0 <= nueva_columna < 8 and 1 <= nueva_fila <= 8:\n",
    "            casilla_atacada = f\"{COLUMNAS[nueva_columna]}{nueva_fila}\"\n",
    "            casillas_atacadas.append(casilla_atacada)\n",
    "    return casillas_atacadas\n",
    "\n",
    "\n",
    "def ataque_caballo(casilla: str) -> list[str]:\n",
    "    columna_caballo = COLUMNAS.index(casilla[0])\n",
    "    fila_caballo = int(casilla[1])\n",
    "    movimientos = [(-2, -1), (-2, 1), (-1, -2), (1, -2), (-1, 2), (1, 2), (2, -1), (2, 1)]\n",
    "    casillas_atacadas = []\n",
    "    for dx, dy in movimientos:\n",
    "        nueva_columna = columna_caballo + dx\n",
    "        nueva_fila = fila_caballo + dy\n",
    "        if 0 <= nueva_columna < 8 and 1 <= nueva_fila <= 8:\n",
    "            casilla_atacada = f\"{COLUMNAS[nueva_columna]}{nueva_fila}\"\n",
    "            casillas_atacadas.append(casilla_atacada)\n",
    "    return casillas_atacadas"
   ]
  },
  {
   "cell_type": "code",
   "execution_count": 53,
   "metadata": {},
   "outputs": [],
   "source": [
    "ATAQUE = {\"K\": ataque_rey, \"R\": ataque_torre, \"Q\": ataque_dama, \"N\": ataque_caballo, \"B\": ataque_alfil}\n",
    "GANANCIA_PIEZA = {\"K\": 14, \"R\": 28, \"Q\": 28, \"N\": 7, \"B\": 16}"
   ]
  },
  {
   "cell_type": "code",
   "execution_count": 54,
   "metadata": {},
   "outputs": [],
   "source": [
    "model = gp.Model(\"max_chess\")"
   ]
  },
  {
   "cell_type": "code",
   "execution_count": 55,
   "metadata": {},
   "outputs": [],
   "source": [
    "X = model.addVars(PIEZAS, CASILLAS, name=\"X\", vtype=GRB.BINARY)"
   ]
  },
  {
   "cell_type": "code",
   "execution_count": 56,
   "metadata": {},
   "outputs": [],
   "source": [
    "model.setObjective(gp.quicksum(GANANCIA_PIEZA[pieza] * X[pieza, casilla] for pieza in PIEZAS for casilla in CASILLAS), GRB.MAXIMIZE)"
   ]
  },
  {
   "cell_type": "code",
   "execution_count": 57,
   "metadata": {},
   "outputs": [],
   "source": [
    "for pieza in PIEZAS:\n",
    "    model.addConstr(gp.quicksum(X[pieza, casilla] for casilla in CASILLAS) >= 1, f\"Place_{pieza}\")\n",
    "\n",
    "for casilla in CASILLAS:\n",
    "    model.addConstr(gp.quicksum(X[pieza, casilla] for pieza in PIEZAS) <= 1, f\"Spot_{casilla}\")\n",
    "\n",
    "for pieza in PIEZAS:\n",
    "    for casilla in CASILLAS:\n",
    "        CASILLAS_ATACADAS_PIEZAS = ATAQUE[pieza](casilla)\n",
    "        for casilla_atacada in CASILLAS_ATACADAS_PIEZAS:\n",
    "            for pieza_ in PIEZAS:\n",
    "                model.addConstr(X[pieza_, casilla_atacada] <= 1 - X[pieza, casilla], f\"Attack_{pieza}_{casilla}_{pieza_}_{casilla_atacada}\")"
   ]
  },
  {
   "cell_type": "code",
   "execution_count": 58,
   "metadata": {},
   "outputs": [
    {
     "name": "stdout",
     "output_type": "stream",
     "text": [
      "Set parameter TimeLimit to value 60\n"
     ]
    }
   ],
   "source": [
    "model.setParam(\"TimeLimit\", 60)"
   ]
  },
  {
   "cell_type": "code",
   "execution_count": 59,
   "metadata": {},
   "outputs": [
    {
     "name": "stdout",
     "output_type": "stream",
     "text": [
      "Gurobi Optimizer version 11.0.1 build v11.0.1rc0 (win64 - Windows 11.0 (22631.2))\n",
      "\n",
      "CPU model: Intel(R) Core(TM) i7-9750H CPU @ 2.60GHz, instruction set [SSE2|AVX|AVX2]\n",
      "Thread count: 6 physical cores, 12 logical processors, using up to 12 threads\n",
      "\n",
      "Optimize a model with 18409 rows, 320 columns and 37320 nonzeros\n",
      "Model fingerprint: 0xea2976f1\n",
      "Variable types: 0 continuous, 320 integer (320 binary)\n",
      "Coefficient statistics:\n",
      "  Matrix range     [1e+00, 1e+00]\n",
      "  Objective range  [7e+00, 3e+01]\n",
      "  Bounds range     [1e+00, 1e+00]\n",
      "  RHS range        [1e+00, 1e+00]\n",
      "Found heuristic solution: objective 226.0000000\n",
      "Presolve removed 16999 rows and 0 columns\n",
      "Presolve time: 0.26s\n",
      "Presolved: 1410 rows, 320 columns, 17519 nonzeros\n",
      "Variable types: 0 continuous, 320 integer (320 binary)\n",
      "Found heuristic solution: objective 239.0000000\n",
      "\n",
      "Root relaxation: objective 4.090369e+02, 1550 iterations, 0.23 seconds (0.25 work units)\n",
      "\n",
      "    Nodes    |    Current Node    |     Objective Bounds      |     Work\n",
      " Expl Unexpl |  Obj  Depth IntInf | Incumbent    BestBd   Gap | It/Node Time\n",
      "\n",
      "     0     0  409.03689    0  226  239.00000  409.03689  71.1%     -    0s\n",
      "H    0     0                     244.0000000  409.03689  67.6%     -    0s\n",
      "H    0     0                     255.0000000  409.03689  60.4%     -    1s\n",
      "     0     0  396.82495    0  227  255.00000  396.82495  55.6%     -    1s\n",
      "     0     0  389.72155    0  236  255.00000  389.72155  52.8%     -    2s\n",
      "H    0     0                     265.0000000  389.72155  47.1%     -    2s\n",
      "     0     0  389.41976    0  232  265.00000  389.41976  47.0%     -    2s\n",
      "     0     0  389.38914    0  234  265.00000  389.38914  46.9%     -    2s\n",
      "     0     0  389.38906    0  235  265.00000  389.38906  46.9%     -    2s\n",
      "     0     0  385.58665    0  244  265.00000  385.58665  45.5%     -    2s\n",
      "     0     0  385.13825    0  240  265.00000  385.13825  45.3%     -    2s\n",
      "     0     0  385.09921    0  240  265.00000  385.09921  45.3%     -    2s\n",
      "     0     0  385.08620    0  243  265.00000  385.08620  45.3%     -    2s\n",
      "     0     0  385.08484    0  243  265.00000  385.08484  45.3%     -    2s\n",
      "     0     0  382.53775    0  241  265.00000  382.53775  44.4%     -    3s\n",
      "H    0     0                     267.0000000  382.53775  43.3%     -    3s\n",
      "     0     0  382.40402    0  246  267.00000  382.40402  43.2%     -    3s\n",
      "     0     0  382.34160    0  247  267.00000  382.34160  43.2%     -    3s\n",
      "     0     0  382.33465    0  248  267.00000  382.33465  43.2%     -    3s\n",
      "     0     0  381.15990    0  246  267.00000  381.15990  42.8%     -    3s\n",
      "     0     0  380.79592    0  242  267.00000  380.79592  42.6%     -    3s\n",
      "     0     0  380.72666    0  248  267.00000  380.72666  42.6%     -    4s\n",
      "     0     0  380.71003    0  248  267.00000  380.71003  42.6%     -    4s\n",
      "     0     0  380.70720    0  249  267.00000  380.70720  42.6%     -    4s\n",
      "     0     0  380.15179    0  250  267.00000  380.15179  42.4%     -    4s\n",
      "     0     0  379.97084    0  250  267.00000  379.97084  42.3%     -    4s\n",
      "     0     0  379.91371    0  252  267.00000  379.91371  42.3%     -    4s\n",
      "     0     0  379.88776    0  259  267.00000  379.88776  42.3%     -    4s\n",
      "     0     0  379.88319    0  256  267.00000  379.88319  42.3%     -    4s\n",
      "     0     0  379.76473    0  251  267.00000  379.76473  42.2%     -    4s\n",
      "     0     0  379.73992    0  257  267.00000  379.73992  42.2%     -    4s\n",
      "     0     0  379.73681    0  258  267.00000  379.73681  42.2%     -    4s\n",
      "     0     0  379.59576    0  252  267.00000  379.59576  42.2%     -    4s\n",
      "     0     0  379.48111    0  255  267.00000  379.48111  42.1%     -    4s\n",
      "     0     0  379.45635    0  258  267.00000  379.45635  42.1%     -    4s\n",
      "     0     0  379.44784    0  257  267.00000  379.44784  42.1%     -    4s\n",
      "     0     0  379.38548    0  253  267.00000  379.38548  42.1%     -    4s\n",
      "     0     0  379.36180    0  256  267.00000  379.36180  42.1%     -    5s\n",
      "     0     0  379.35616    0  258  267.00000  379.35616  42.1%     -    5s\n",
      "     0     0  379.33748    0  259  267.00000  379.33748  42.1%     -    5s\n",
      "H    0     0                     269.0000000  379.33748  41.0%     -    5s\n",
      "     0     0  379.32692    0  254  269.00000  379.32692  41.0%     -    5s\n",
      "     0     0  379.30770    0  259  269.00000  379.30770  41.0%     -    5s\n",
      "     0     0  379.30770    0  259  269.00000  379.30770  41.0%     -    5s\n",
      "     0     2  379.30770    0  259  269.00000  379.30770  41.0%     -    5s\n",
      "H   37    40                     273.0000000  379.06237  38.9%   190    6s\n",
      "H   73    80                     276.0000000  379.06237  37.3%   132    7s\n",
      "   260   267  376.20536   31  238  276.00000  379.06237  37.3%   108   10s\n",
      "  1066   893  318.44376   26  116  276.00000  377.23280  36.7%   109   15s\n",
      "  1564  1211  284.52365   33  232  276.00000  376.12266  36.3%   103   21s\n",
      "  1572  1217  329.53351   14  261  276.00000  376.12266  36.3%   103   25s\n",
      "  1589  1233  376.12266   15  256  276.00000  376.12266  36.3%   105   30s\n",
      "  1695  1274  343.66034   21  155  276.00000  376.12266  36.3%   112   35s\n",
      "  2530  1456  374.49685   33  233  276.00000  374.49685  35.7%   112   40s\n",
      "  3868  1914  369.88443   44  224  276.00000  369.88443  34.0%   106   45s\n",
      "* 5125  1863              46     280.0000000  363.74381  29.9%   100   48s\n",
      "  5745  2323  325.81665   53  136  280.00000  358.82262  28.2%  96.4   50s\n",
      "  8387  3819  312.64113   65  129  280.00000  349.51303  24.8%  88.6   55s\n",
      " 10722  5061  284.84175   76   90  280.00000  349.51303  24.8%  85.6   60s\n",
      "\n",
      "Cutting planes:\n",
      "  Gomory: 8\n",
      "  Clique: 187\n",
      "  MIR: 4\n",
      "  Flow cover: 4\n",
      "\n",
      "Explored 11188 nodes (955105 simplex iterations) in 60.10 seconds (39.58 work units)\n",
      "Thread count was 12 (of 12 available processors)\n",
      "\n",
      "Solution count 10: 280 276 273 ... 226\n",
      "\n",
      "Time limit reached\n",
      "Best objective 2.800000000000e+02, best bound 3.490000000000e+02, gap 24.6429%\n"
     ]
    }
   ],
   "source": [
    "model.optimize()"
   ]
  },
  {
   "cell_type": "code",
   "execution_count": 60,
   "metadata": {},
   "outputs": [],
   "source": [
    "TABLERO = {casilla: pieza for pieza in PIEZAS for casilla in CASILLAS if X[pieza, casilla].X > 0.9}"
   ]
  },
  {
   "cell_type": "code",
   "execution_count": 61,
   "metadata": {},
   "outputs": [],
   "source": [
    "PIEZAS_ICONOS = {\"K\": \"♚\", \"R\": \"♜\", \"Q\": \"♛\", \"N\": \"♞\", \"B\": \"♝\"}"
   ]
  },
  {
   "cell_type": "code",
   "execution_count": 62,
   "metadata": {},
   "outputs": [
    {
     "data": {
      "text/plain": [
       "280.0"
      ]
     },
     "execution_count": 62,
     "metadata": {},
     "output_type": "execute_result"
    }
   ],
   "source": [
    "model.objVal"
   ]
  },
  {
   "cell_type": "code",
   "execution_count": 63,
   "metadata": {},
   "outputs": [
    {
     "data": {
      "application/vnd.plotly.v1+json": {
       "config": {
        "plotlyServerURL": "https://plot.ly"
       },
       "data": [
        {
         "colorscale": [
          [
           0,
           "#eeeed2"
          ],
          [
           1,
           "#769656"
          ]
         ],
         "hoverinfo": "none",
         "showscale": false,
         "type": "heatmap",
         "x": [
          "a",
          "b",
          "c",
          "d",
          "e",
          "f",
          "g",
          "h"
         ],
         "y": [
          "1",
          "2",
          "3",
          "4",
          "5",
          "6",
          "7",
          "8"
         ],
         "z": [
          [
           0,
           1,
           0,
           1,
           0,
           1,
           0,
           1
          ],
          [
           1,
           0,
           1,
           0,
           1,
           0,
           1,
           0
          ],
          [
           0,
           1,
           0,
           1,
           0,
           1,
           0,
           1
          ],
          [
           1,
           0,
           1,
           0,
           1,
           0,
           1,
           0
          ],
          [
           0,
           1,
           0,
           1,
           0,
           1,
           0,
           1
          ],
          [
           1,
           0,
           1,
           0,
           1,
           0,
           1,
           0
          ],
          [
           0,
           1,
           0,
           1,
           0,
           1,
           0,
           1
          ],
          [
           1,
           0,
           1,
           0,
           1,
           0,
           1,
           0
          ]
         ]
        }
       ],
       "layout": {
        "annotations": [
         {
          "font": {
           "color": "black",
           "size": 50
          },
          "showarrow": false,
          "text": "♚",
          "x": 0,
          "y": 2
         },
         {
          "font": {
           "color": "black",
           "size": 50
          },
          "showarrow": false,
          "text": "♚",
          "x": 0,
          "y": 0
         },
         {
          "font": {
           "color": "black",
           "size": 50
          },
          "showarrow": false,
          "text": "♚",
          "x": 2,
          "y": 2
         },
         {
          "font": {
           "color": "black",
           "size": 50
          },
          "showarrow": false,
          "text": "♚",
          "x": 3,
          "y": 5
         },
         {
          "font": {
           "color": "black",
           "size": 50
          },
          "showarrow": false,
          "text": "♜",
          "x": 5,
          "y": 3
         },
         {
          "font": {
           "color": "black",
           "size": 50
          },
          "showarrow": false,
          "text": "♜",
          "x": 7,
          "y": 1
         },
         {
          "font": {
           "color": "black",
           "size": 50
          },
          "showarrow": false,
          "text": "♛",
          "x": 1,
          "y": 4
         },
         {
          "font": {
           "color": "black",
           "size": 50
          },
          "showarrow": false,
          "text": "♞",
          "x": 2,
          "y": 0
         },
         {
          "font": {
           "color": "black",
           "size": 50
          },
          "showarrow": false,
          "text": "♞",
          "x": 4,
          "y": 0
         },
         {
          "font": {
           "color": "black",
           "size": 50
          },
          "showarrow": false,
          "text": "♞",
          "x": 6,
          "y": 6
         },
         {
          "font": {
           "color": "black",
           "size": 50
          },
          "showarrow": false,
          "text": "♞",
          "x": 6,
          "y": 2
         },
         {
          "font": {
           "color": "black",
           "size": 50
          },
          "showarrow": false,
          "text": "♝",
          "x": 0,
          "y": 7
         },
         {
          "font": {
           "color": "black",
           "size": 50
          },
          "showarrow": false,
          "text": "♝",
          "x": 0,
          "y": 6
         },
         {
          "font": {
           "color": "black",
           "size": 50
          },
          "showarrow": false,
          "text": "♝",
          "x": 2,
          "y": 7
         },
         {
          "font": {
           "color": "black",
           "size": 50
          },
          "showarrow": false,
          "text": "♝",
          "x": 3,
          "y": 7
         },
         {
          "font": {
           "color": "black",
           "size": 50
          },
          "showarrow": false,
          "text": "♝",
          "x": 3,
          "y": 0
         },
         {
          "font": {
           "color": "black",
           "size": 50
          },
          "showarrow": false,
          "text": "♝",
          "x": 6,
          "y": 7
         },
         {
          "font": {
           "color": "black",
           "size": 50
          },
          "showarrow": false,
          "text": "♝",
          "x": 6,
          "y": 5
         }
        ],
        "coloraxis": {
         "showscale": false
        },
        "height": 800,
        "template": {
         "data": {
          "bar": [
           {
            "error_x": {
             "color": "rgb(51,51,51)"
            },
            "error_y": {
             "color": "rgb(51,51,51)"
            },
            "marker": {
             "line": {
              "color": "rgb(237,237,237)",
              "width": 0.5
             },
             "pattern": {
              "fillmode": "overlay",
              "size": 10,
              "solidity": 0.2
             }
            },
            "type": "bar"
           }
          ],
          "barpolar": [
           {
            "marker": {
             "line": {
              "color": "rgb(237,237,237)",
              "width": 0.5
             },
             "pattern": {
              "fillmode": "overlay",
              "size": 10,
              "solidity": 0.2
             }
            },
            "type": "barpolar"
           }
          ],
          "carpet": [
           {
            "aaxis": {
             "endlinecolor": "rgb(51,51,51)",
             "gridcolor": "white",
             "linecolor": "white",
             "minorgridcolor": "white",
             "startlinecolor": "rgb(51,51,51)"
            },
            "baxis": {
             "endlinecolor": "rgb(51,51,51)",
             "gridcolor": "white",
             "linecolor": "white",
             "minorgridcolor": "white",
             "startlinecolor": "rgb(51,51,51)"
            },
            "type": "carpet"
           }
          ],
          "choropleth": [
           {
            "colorbar": {
             "outlinewidth": 0,
             "tickcolor": "rgb(237,237,237)",
             "ticklen": 6,
             "ticks": "inside"
            },
            "type": "choropleth"
           }
          ],
          "contour": [
           {
            "colorbar": {
             "outlinewidth": 0,
             "tickcolor": "rgb(237,237,237)",
             "ticklen": 6,
             "ticks": "inside"
            },
            "colorscale": [
             [
              0,
              "rgb(20,44,66)"
             ],
             [
              1,
              "rgb(90,179,244)"
             ]
            ],
            "type": "contour"
           }
          ],
          "contourcarpet": [
           {
            "colorbar": {
             "outlinewidth": 0,
             "tickcolor": "rgb(237,237,237)",
             "ticklen": 6,
             "ticks": "inside"
            },
            "type": "contourcarpet"
           }
          ],
          "heatmap": [
           {
            "colorbar": {
             "outlinewidth": 0,
             "tickcolor": "rgb(237,237,237)",
             "ticklen": 6,
             "ticks": "inside"
            },
            "colorscale": [
             [
              0,
              "rgb(20,44,66)"
             ],
             [
              1,
              "rgb(90,179,244)"
             ]
            ],
            "type": "heatmap"
           }
          ],
          "heatmapgl": [
           {
            "colorbar": {
             "outlinewidth": 0,
             "tickcolor": "rgb(237,237,237)",
             "ticklen": 6,
             "ticks": "inside"
            },
            "colorscale": [
             [
              0,
              "rgb(20,44,66)"
             ],
             [
              1,
              "rgb(90,179,244)"
             ]
            ],
            "type": "heatmapgl"
           }
          ],
          "histogram": [
           {
            "marker": {
             "pattern": {
              "fillmode": "overlay",
              "size": 10,
              "solidity": 0.2
             }
            },
            "type": "histogram"
           }
          ],
          "histogram2d": [
           {
            "colorbar": {
             "outlinewidth": 0,
             "tickcolor": "rgb(237,237,237)",
             "ticklen": 6,
             "ticks": "inside"
            },
            "colorscale": [
             [
              0,
              "rgb(20,44,66)"
             ],
             [
              1,
              "rgb(90,179,244)"
             ]
            ],
            "type": "histogram2d"
           }
          ],
          "histogram2dcontour": [
           {
            "colorbar": {
             "outlinewidth": 0,
             "tickcolor": "rgb(237,237,237)",
             "ticklen": 6,
             "ticks": "inside"
            },
            "colorscale": [
             [
              0,
              "rgb(20,44,66)"
             ],
             [
              1,
              "rgb(90,179,244)"
             ]
            ],
            "type": "histogram2dcontour"
           }
          ],
          "mesh3d": [
           {
            "colorbar": {
             "outlinewidth": 0,
             "tickcolor": "rgb(237,237,237)",
             "ticklen": 6,
             "ticks": "inside"
            },
            "type": "mesh3d"
           }
          ],
          "parcoords": [
           {
            "line": {
             "colorbar": {
              "outlinewidth": 0,
              "tickcolor": "rgb(237,237,237)",
              "ticklen": 6,
              "ticks": "inside"
             }
            },
            "type": "parcoords"
           }
          ],
          "pie": [
           {
            "automargin": true,
            "type": "pie"
           }
          ],
          "scatter": [
           {
            "fillpattern": {
             "fillmode": "overlay",
             "size": 10,
             "solidity": 0.2
            },
            "type": "scatter"
           }
          ],
          "scatter3d": [
           {
            "line": {
             "colorbar": {
              "outlinewidth": 0,
              "tickcolor": "rgb(237,237,237)",
              "ticklen": 6,
              "ticks": "inside"
             }
            },
            "marker": {
             "colorbar": {
              "outlinewidth": 0,
              "tickcolor": "rgb(237,237,237)",
              "ticklen": 6,
              "ticks": "inside"
             }
            },
            "type": "scatter3d"
           }
          ],
          "scattercarpet": [
           {
            "marker": {
             "colorbar": {
              "outlinewidth": 0,
              "tickcolor": "rgb(237,237,237)",
              "ticklen": 6,
              "ticks": "inside"
             }
            },
            "type": "scattercarpet"
           }
          ],
          "scattergeo": [
           {
            "marker": {
             "colorbar": {
              "outlinewidth": 0,
              "tickcolor": "rgb(237,237,237)",
              "ticklen": 6,
              "ticks": "inside"
             }
            },
            "type": "scattergeo"
           }
          ],
          "scattergl": [
           {
            "marker": {
             "colorbar": {
              "outlinewidth": 0,
              "tickcolor": "rgb(237,237,237)",
              "ticklen": 6,
              "ticks": "inside"
             }
            },
            "type": "scattergl"
           }
          ],
          "scattermapbox": [
           {
            "marker": {
             "colorbar": {
              "outlinewidth": 0,
              "tickcolor": "rgb(237,237,237)",
              "ticklen": 6,
              "ticks": "inside"
             }
            },
            "type": "scattermapbox"
           }
          ],
          "scatterpolar": [
           {
            "marker": {
             "colorbar": {
              "outlinewidth": 0,
              "tickcolor": "rgb(237,237,237)",
              "ticklen": 6,
              "ticks": "inside"
             }
            },
            "type": "scatterpolar"
           }
          ],
          "scatterpolargl": [
           {
            "marker": {
             "colorbar": {
              "outlinewidth": 0,
              "tickcolor": "rgb(237,237,237)",
              "ticklen": 6,
              "ticks": "inside"
             }
            },
            "type": "scatterpolargl"
           }
          ],
          "scatterternary": [
           {
            "marker": {
             "colorbar": {
              "outlinewidth": 0,
              "tickcolor": "rgb(237,237,237)",
              "ticklen": 6,
              "ticks": "inside"
             }
            },
            "type": "scatterternary"
           }
          ],
          "surface": [
           {
            "colorbar": {
             "outlinewidth": 0,
             "tickcolor": "rgb(237,237,237)",
             "ticklen": 6,
             "ticks": "inside"
            },
            "colorscale": [
             [
              0,
              "rgb(20,44,66)"
             ],
             [
              1,
              "rgb(90,179,244)"
             ]
            ],
            "type": "surface"
           }
          ],
          "table": [
           {
            "cells": {
             "fill": {
              "color": "rgb(237,237,237)"
             },
             "line": {
              "color": "white"
             }
            },
            "header": {
             "fill": {
              "color": "rgb(217,217,217)"
             },
             "line": {
              "color": "white"
             }
            },
            "type": "table"
           }
          ]
         },
         "layout": {
          "annotationdefaults": {
           "arrowhead": 0,
           "arrowwidth": 1
          },
          "autotypenumbers": "strict",
          "coloraxis": {
           "colorbar": {
            "outlinewidth": 0,
            "tickcolor": "rgb(237,237,237)",
            "ticklen": 6,
            "ticks": "inside"
           }
          },
          "colorscale": {
           "sequential": [
            [
             0,
             "rgb(20,44,66)"
            ],
            [
             1,
             "rgb(90,179,244)"
            ]
           ],
           "sequentialminus": [
            [
             0,
             "rgb(20,44,66)"
            ],
            [
             1,
             "rgb(90,179,244)"
            ]
           ]
          },
          "colorway": [
           "#F8766D",
           "#A3A500",
           "#00BF7D",
           "#00B0F6",
           "#E76BF3"
          ],
          "font": {
           "color": "rgb(51,51,51)"
          },
          "geo": {
           "bgcolor": "white",
           "lakecolor": "white",
           "landcolor": "rgb(237,237,237)",
           "showlakes": true,
           "showland": true,
           "subunitcolor": "white"
          },
          "hoverlabel": {
           "align": "left"
          },
          "hovermode": "closest",
          "paper_bgcolor": "white",
          "plot_bgcolor": "rgb(237,237,237)",
          "polar": {
           "angularaxis": {
            "gridcolor": "white",
            "linecolor": "white",
            "showgrid": true,
            "tickcolor": "rgb(51,51,51)",
            "ticks": "outside"
           },
           "bgcolor": "rgb(237,237,237)",
           "radialaxis": {
            "gridcolor": "white",
            "linecolor": "white",
            "showgrid": true,
            "tickcolor": "rgb(51,51,51)",
            "ticks": "outside"
           }
          },
          "scene": {
           "xaxis": {
            "backgroundcolor": "rgb(237,237,237)",
            "gridcolor": "white",
            "gridwidth": 2,
            "linecolor": "white",
            "showbackground": true,
            "showgrid": true,
            "tickcolor": "rgb(51,51,51)",
            "ticks": "outside",
            "zerolinecolor": "white"
           },
           "yaxis": {
            "backgroundcolor": "rgb(237,237,237)",
            "gridcolor": "white",
            "gridwidth": 2,
            "linecolor": "white",
            "showbackground": true,
            "showgrid": true,
            "tickcolor": "rgb(51,51,51)",
            "ticks": "outside",
            "zerolinecolor": "white"
           },
           "zaxis": {
            "backgroundcolor": "rgb(237,237,237)",
            "gridcolor": "white",
            "gridwidth": 2,
            "linecolor": "white",
            "showbackground": true,
            "showgrid": true,
            "tickcolor": "rgb(51,51,51)",
            "ticks": "outside",
            "zerolinecolor": "white"
           }
          },
          "shapedefaults": {
           "fillcolor": "black",
           "line": {
            "width": 0
           },
           "opacity": 0.3
          },
          "ternary": {
           "aaxis": {
            "gridcolor": "white",
            "linecolor": "white",
            "showgrid": true,
            "tickcolor": "rgb(51,51,51)",
            "ticks": "outside"
           },
           "baxis": {
            "gridcolor": "white",
            "linecolor": "white",
            "showgrid": true,
            "tickcolor": "rgb(51,51,51)",
            "ticks": "outside"
           },
           "bgcolor": "rgb(237,237,237)",
           "caxis": {
            "gridcolor": "white",
            "linecolor": "white",
            "showgrid": true,
            "tickcolor": "rgb(51,51,51)",
            "ticks": "outside"
           }
          },
          "xaxis": {
           "automargin": true,
           "gridcolor": "white",
           "linecolor": "white",
           "showgrid": true,
           "tickcolor": "rgb(51,51,51)",
           "ticks": "outside",
           "title": {
            "standoff": 15
           },
           "zerolinecolor": "white"
          },
          "yaxis": {
           "automargin": true,
           "gridcolor": "white",
           "linecolor": "white",
           "showgrid": true,
           "tickcolor": "rgb(51,51,51)",
           "ticks": "outside",
           "title": {
            "standoff": 15
           },
           "zerolinecolor": "white"
          }
         }
        },
        "title": {
         "text": "Utilidad: 280.0"
        },
        "width": 800
       }
      }
     },
     "metadata": {},
     "output_type": "display_data"
    }
   ],
   "source": [
    "# Crear el tablero de ajedrez\n",
    "tablero = numpy.zeros((8, 8), dtype=int)\n",
    "tablero[1::2, ::2] = 1\n",
    "tablero[::2, 1::2] = 1\n",
    "\n",
    "\n",
    "# Crear la figura del tablero usando Heatmap\n",
    "fig = go.Figure()\n",
    "\n",
    "fig.add_trace(\n",
    "    go.Heatmap(\n",
    "        z=tablero,\n",
    "        colorscale=[\"#eeeed2\", \"#769656\"],\n",
    "        showscale=False,\n",
    "        x=COLUMNAS,\n",
    "        y=list(map(str, FILAS)),\n",
    "        hoverinfo=\"none\",\n",
    "    )\n",
    ")\n",
    "\n",
    "for casilla, pieza in TABLERO.items():\n",
    "    x = COLUMNAS.index(casilla[0])\n",
    "    y = 7 - FILAS.index(int(casilla[1]))\n",
    "    fig.add_annotation(x=x, y=y, text=PIEZAS_ICONOS[pieza], showarrow=False, font_size=50, font_color=\"black\")\n",
    "\n",
    "\n",
    "fig.update_layout(coloraxis_showscale=False)\n",
    "fig.update_layout(height=800, width=800, title_text=f\"Utilidad: {model.objVal}\", template=\"ggplot2\")\n",
    "fig.show()"
   ]
  }
 ],
 "metadata": {
  "kernelspec": {
   "display_name": "Python 3",
   "language": "python",
   "name": "python3"
  },
  "language_info": {
   "codemirror_mode": {
    "name": "ipython",
    "version": 3
   },
   "file_extension": ".py",
   "mimetype": "text/x-python",
   "name": "python",
   "nbconvert_exporter": "python",
   "pygments_lexer": "ipython3",
   "version": "3.10.10"
  }
 },
 "nbformat": 4,
 "nbformat_minor": 2
}
