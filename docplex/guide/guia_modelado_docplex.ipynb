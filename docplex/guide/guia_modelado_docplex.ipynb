{
 "cells": [
  {
   "cell_type": "markdown",
   "metadata": {},
   "source": [
    "## **GUÍA MODELADO DOCPLEX**\n",
    "\n",
    "La siguiente es un guía para entender la interfaz de docplex y como trabajar con los 5 items estándar de los modelos de optimización.\n",
    "\n",
    "1. Conjuntos\n",
    "2. Parámetros\n",
    "3. Variables\n",
    "4. Función Objetivo\n",
    "5. Restricciones\n",
    "\n",
    "También se muestran algunas funcionalidades que ofrece docplex para configuración y posprocesamiento"
   ]
  },
  {
   "attachments": {},
   "cell_type": "markdown",
   "metadata": {},
   "source": [
    "##### **Conjuntos**\n"
   ]
  },
  {
   "cell_type": "code",
   "execution_count": null,
   "metadata": {},
   "outputs": [],
   "source": [
    "## Listas 😊\n",
    "A = [\"a1\", \"a2\", \"a3\"]\n",
    "\n",
    "## Conjuntos ❓\n",
    "B = {1, 2, 3, 4, 5, 6, 7}\n"
   ]
  },
  {
   "attachments": {},
   "cell_type": "markdown",
   "metadata": {},
   "source": [
    "##### **Parámetros**\n"
   ]
  },
  {
   "cell_type": "code",
   "execution_count": null,
   "metadata": {},
   "outputs": [],
   "source": [
    "## Diccionario 1\n",
    "parametro_1 = {\n",
    "    (1, 1, 1): 123,\n",
    "    (1, 1, 2): 178,\n",
    "    (1, 2, 1): 165,\n",
    "    (1, 2, 2): 143,\n",
    "    (2, 1, 1): 154,\n",
    "    (2, 1, 2): 151,\n",
    "    (2, 2, 1): 163,\n",
    "    (2, 2, 2): 132,\n",
    "}\n",
    "\n",
    "## Diccionario 2\n",
    "parametro_2 = {1: {1: 2133, 2: 1344}, 2: {1: 1455, 2: 2200}}\n",
    "\n",
    "## Dataframe ❓\n",
    "import pandas\n",
    "\n",
    "data = {\n",
    "    (\"Categoria A\", \"Producto 1\"): [10, 5],\n",
    "    (\"Categoria A\", \"Producto 2\"): [15, 3],\n",
    "    (\"Categoria B\", \"Producto 1\"): [20, 7],\n",
    "    (\"Categoria B\", \"Producto 2\"): [25, 2],\n",
    "}\n",
    "\n",
    "df = pandas.DataFrame.from_dict(data, orient=\"index\", columns=[\"Precio\", \"Cantidad\"])\n",
    "df.index = pandas.MultiIndex.from_tuples(df.index)\n",
    "df\n"
   ]
  },
  {
   "cell_type": "code",
   "execution_count": null,
   "metadata": {},
   "outputs": [],
   "source": [
    "parametro_1[2, 2, 1]"
   ]
  },
  {
   "cell_type": "code",
   "execution_count": null,
   "metadata": {},
   "outputs": [],
   "source": [
    "parametro_2[2][1]"
   ]
  },
  {
   "cell_type": "code",
   "execution_count": null,
   "metadata": {},
   "outputs": [],
   "source": [
    "df.loc[(\"Categoria A\", \"Producto 1\"), \"Precio\"]\n"
   ]
  },
  {
   "attachments": {},
   "cell_type": "markdown",
   "metadata": {},
   "source": [
    "##### **Creación de modelo**\n"
   ]
  },
  {
   "cell_type": "code",
   "execution_count": null,
   "metadata": {},
   "outputs": [],
   "source": [
    "## Importanto DoCplex\n",
    "from docplex.mp.model import Model"
   ]
  },
  {
   "cell_type": "code",
   "execution_count": null,
   "metadata": {},
   "outputs": [],
   "source": [
    "# Inicializando el modelo\n",
    "model = Model(\"el nombre de mi modelo\")\n"
   ]
  },
  {
   "attachments": {},
   "cell_type": "markdown",
   "metadata": {},
   "source": [
    "##### **Variables**\n"
   ]
  },
  {
   "cell_type": "markdown",
   "metadata": {},
   "source": [
    "##### Variables simples"
   ]
  },
  {
   "cell_type": "code",
   "execution_count": null,
   "metadata": {},
   "outputs": [],
   "source": [
    "model.continuous_var(-5, 100, \"la variable continua\")"
   ]
  },
  {
   "cell_type": "code",
   "execution_count": null,
   "metadata": {},
   "outputs": [],
   "source": [
    "model.binary_var(\"la variable binaria\")\n"
   ]
  },
  {
   "cell_type": "code",
   "execution_count": null,
   "metadata": {},
   "outputs": [],
   "source": [
    "model.integer_var(7, 100, \"la varible entera\")"
   ]
  },
  {
   "cell_type": "markdown",
   "metadata": {},
   "source": [
    "##### Variables dict"
   ]
  },
  {
   "cell_type": "code",
   "execution_count": null,
   "metadata": {},
   "outputs": [],
   "source": [
    "var_a = model.continuous_var_dict(A)\n",
    "var_a"
   ]
  },
  {
   "cell_type": "code",
   "execution_count": null,
   "metadata": {},
   "outputs": [],
   "source": [
    "var_a[\"a1\"]"
   ]
  },
  {
   "cell_type": "markdown",
   "metadata": {},
   "source": [
    "##### Variables como lista"
   ]
  },
  {
   "cell_type": "code",
   "execution_count": null,
   "metadata": {},
   "outputs": [],
   "source": [
    "model.continuous_var_list(A)"
   ]
  },
  {
   "cell_type": "markdown",
   "metadata": {},
   "source": [
    "##### Variables múltiples conjuntos"
   ]
  },
  {
   "cell_type": "code",
   "execution_count": null,
   "metadata": {},
   "outputs": [],
   "source": [
    "var_ab = model.binary_var_dict([(a, b) for a in A for b in B])\n",
    "var_ab"
   ]
  },
  {
   "cell_type": "code",
   "execution_count": null,
   "metadata": {},
   "outputs": [],
   "source": [
    "var_ab[\"a3\", 5]"
   ]
  },
  {
   "cell_type": "code",
   "execution_count": null,
   "metadata": {},
   "outputs": [],
   "source": [
    "model.binary_var_matrix(A, B)"
   ]
  },
  {
   "cell_type": "code",
   "execution_count": null,
   "metadata": {},
   "outputs": [],
   "source": [
    "model.binary_var_cube(A, A, B)"
   ]
  },
  {
   "attachments": {},
   "cell_type": "markdown",
   "metadata": {},
   "source": [
    "##### **Función Objetivo**\n"
   ]
  },
  {
   "cell_type": "code",
   "execution_count": null,
   "metadata": {},
   "outputs": [],
   "source": [
    "x = model.continuous_var()\n",
    "y = model.continuous_var()\n",
    "\n",
    "## FO explícita\n",
    "model.maximize(x + y)\n",
    "\n",
    "## FO compacta\n",
    "model.minimize(model.sum(var_a[a] for a in A))"
   ]
  },
  {
   "attachments": {},
   "cell_type": "markdown",
   "metadata": {},
   "source": [
    "##### **Restricciones**\n"
   ]
  },
  {
   "cell_type": "code",
   "execution_count": null,
   "metadata": {},
   "outputs": [],
   "source": [
    "## Restricción explicita\n",
    "model.add_constraint(x + y <= 100, ctname=\"ct_1\")"
   ]
  },
  {
   "cell_type": "code",
   "execution_count": null,
   "metadata": {},
   "outputs": [],
   "source": [
    "## Restricción compacta\n",
    "for a in A:\n",
    "    model.add_constraint(var_a[a] <= 100, ctname=\"el nomobre de la restriccion\")"
   ]
  },
  {
   "cell_type": "code",
   "execution_count": null,
   "metadata": {},
   "outputs": [],
   "source": [
    "for a in A:\n",
    "    for b in B:\n",
    "        model.add_constraint(var_ab[a, b] <= 1)"
   ]
  },
  {
   "cell_type": "code",
   "execution_count": null,
   "metadata": {},
   "outputs": [],
   "source": [
    "model.add_constraints([var_a[a] <= 100 for a in A])"
   ]
  },
  {
   "attachments": {},
   "cell_type": "markdown",
   "metadata": {},
   "source": [
    "##### **POSPROCESAMIENTO Y CONFIGURACIONES**"
   ]
  },
  {
   "cell_type": "markdown",
   "metadata": {},
   "source": [
    "##### Resolver un modelo"
   ]
  },
  {
   "cell_type": "code",
   "execution_count": null,
   "metadata": {},
   "outputs": [],
   "source": [
    "from docplex.mp.model import Model\n",
    "\n",
    "mdl = Model(name=\"buses\")\n",
    "\n",
    "nbbus40 = mdl.integer_var(name=\"nbBus40\")\n",
    "nbbus30 = mdl.integer_var(name=\"nbBus30\")\n",
    "mdl.minimize(nbbus40 * 500 + nbbus30 * 400)\n",
    "mdl.add_constraint(nbbus40 * 40 + nbbus30 * 30 >= 300, \"kids\")\n",
    "\n",
    "solution = mdl.solve()"
   ]
  },
  {
   "cell_type": "markdown",
   "metadata": {},
   "source": [
    "##### Resolver un modelo mostrando logs"
   ]
  },
  {
   "cell_type": "code",
   "execution_count": null,
   "metadata": {},
   "outputs": [],
   "source": [
    "from docplex.mp.model import Model\n",
    "\n",
    "mdl = Model(name=\"buses\")\n",
    "\n",
    "nbbus40 = mdl.integer_var(name=\"nbBus40\")\n",
    "nbbus30 = mdl.integer_var(name=\"nbBus30\")\n",
    "mdl.add_constraint(nbbus40 * 40 + nbbus30 * 30 >= 300, \"kids\")\n",
    "mdl.minimize(nbbus40 * 500 + nbbus30 * 400)\n",
    "\n",
    "\n",
    "mdl.solve(log_output=True)\n"
   ]
  },
  {
   "cell_type": "markdown",
   "metadata": {},
   "source": [
    "##### Objeto solution"
   ]
  },
  {
   "cell_type": "code",
   "execution_count": null,
   "metadata": {},
   "outputs": [],
   "source": [
    "from docplex.mp.model import Model\n",
    "\n",
    "mdl = Model(name=\"buses\")\n",
    "\n",
    "nbbus40 = mdl.integer_var(name=\"nbBus40\")\n",
    "nbbus30 = mdl.integer_var(name=\"nbBus30\")\n",
    "mdl.add_constraint(nbbus40 * 40 + nbbus30 * 30 >= 300, \"kids\")\n",
    "mdl.minimize(nbbus40 * 500 + nbbus30 * 400)\n",
    "\n",
    "\n",
    "solution = mdl.solve()\n",
    "\n",
    "solution\n"
   ]
  },
  {
   "cell_type": "code",
   "execution_count": null,
   "metadata": {},
   "outputs": [],
   "source": [
    "solution.get_objective_value()"
   ]
  },
  {
   "cell_type": "code",
   "execution_count": null,
   "metadata": {},
   "outputs": [],
   "source": [
    "solution.get_value(nbbus40)"
   ]
  },
  {
   "cell_type": "code",
   "execution_count": null,
   "metadata": {},
   "outputs": [],
   "source": [
    "solution.display()\n"
   ]
  },
  {
   "cell_type": "code",
   "execution_count": null,
   "metadata": {},
   "outputs": [],
   "source": [
    "solution.solve_details\n"
   ]
  },
  {
   "cell_type": "code",
   "execution_count": null,
   "metadata": {},
   "outputs": [],
   "source": [
    "solution.solve_status\n"
   ]
  },
  {
   "cell_type": "code",
   "execution_count": null,
   "metadata": {},
   "outputs": [],
   "source": [
    "solution.export_as_json_string()\n"
   ]
  },
  {
   "cell_type": "markdown",
   "metadata": {},
   "source": [
    "##### Exportar .lp"
   ]
  },
  {
   "cell_type": "code",
   "execution_count": null,
   "metadata": {},
   "outputs": [],
   "source": [
    "## Exportar a LP\n",
    "from docplex.mp.model import Model\n",
    "\n",
    "mdl = Model(name=\"buses\")\n",
    "\n",
    "\n",
    "nbbus40 = mdl.integer_var(name=\"nbBus40\")\n",
    "nbbus30 = mdl.integer_var(name=\"nbBus30\")\n",
    "mdl.add_constraint(nbbus40 * 40 + nbbus30 * 30 >= 300, \"kids\")\n",
    "mdl.minimize(nbbus40 * 500 + nbbus30 * 400)\n",
    "\n",
    "mdl.export(\"./buses.lp\")\n"
   ]
  },
  {
   "cell_type": "markdown",
   "metadata": {},
   "source": [
    "##### Limitar tiempo de ejecución"
   ]
  },
  {
   "cell_type": "code",
   "execution_count": null,
   "metadata": {},
   "outputs": [],
   "source": [
    "## Limete de tiempo\n",
    "from docplex.mp.model import Model\n",
    "\n",
    "mdl = Model(name=\"buses\")\n",
    "\n",
    "\n",
    "nbbus40 = mdl.integer_var(name=\"nbBus40\")\n",
    "nbbus30 = mdl.integer_var(name=\"nbBus30\")\n",
    "mdl.add_constraint(nbbus40 * 40 + nbbus30 * 30 >= 300, \"kids\")\n",
    "mdl.minimize(nbbus40 * 500 + nbbus30 * 400)\n",
    "\n",
    "mdl.set_time_limit(20)  # The same\n",
    "mdl.solve()\n",
    "\n",
    "print(\"time limit = \", mdl.get_time_limit())  # The same\n",
    "\n",
    "for v in mdl.iter_integer_vars():\n",
    "    print(v, \" = \", v.solution_value)\n"
   ]
  },
  {
   "cell_type": "markdown",
   "metadata": {},
   "source": [
    "##### Limitar número de mejoras de solucion"
   ]
  },
  {
   "cell_type": "code",
   "execution_count": null,
   "metadata": {},
   "outputs": [],
   "source": [
    "## N-ésima solución encontrada\n",
    "mdl = Model(name=\"buses\")\n",
    "\n",
    "nbbus40 = mdl.integer_var(name=\"nbBus40\")\n",
    "nbbus30 = mdl.integer_var(name=\"nbBus30\")\n",
    "mdl.add_constraint(nbbus40 * 40 + nbbus30 * 30 >= 300, \"kids\")\n",
    "mdl.minimize(nbbus40 * 500 + nbbus30 * 400)\n",
    "\n",
    "mdl.parameters.mip.limits.solutions = 1\n",
    "mdl.solve()\n",
    "\n",
    "print(\"int sol limit = \", mdl.parameters.mip.limits.solutions.get())\n",
    "\n",
    "\n",
    "for v in mdl.iter_integer_vars():\n",
    "    print(v, \" = \", v.solution_value)\n"
   ]
  }
 ],
 "metadata": {
  "kernelspec": {
   "display_name": "base",
   "language": "python",
   "name": "python3"
  },
  "language_info": {
   "codemirror_mode": {
    "name": "ipython",
    "version": 3
   },
   "file_extension": ".py",
   "mimetype": "text/x-python",
   "name": "python",
   "nbconvert_exporter": "python",
   "pygments_lexer": "ipython3",
   "version": "3.10.10"
  },
  "orig_nbformat": 4
 },
 "nbformat": 4,
 "nbformat_minor": 2
}
