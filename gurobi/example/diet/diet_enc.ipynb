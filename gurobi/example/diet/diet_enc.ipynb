{
 "cells": [
  {
   "cell_type": "markdown",
   "metadata": {},
   "source": [
    "## **PROBLEMA DE OPTIMIZACIÓN DE LA DIETA MILITAR**\n",
    "\n",
    "### **Descripción:**\n",
    "\n",
    "El objetivo de este problema es determinar la cantidad óptima de raciones de alimento que deben ser consumidas por un soldado para cumplir con sus requerimientos nutricionales diarios a un costo mínimo. Cada ración de alimento tiene un costo asociado y valores específicos de nutrientes esenciales. Las restricciones están determinadas por los requisitos nutricionales diarios mínimos y máximos establecidos para garantizar el adecuado rendimiento físico y mental del personal militar. Las raciones pueden ser fracciones, un soldado puede comer 1.62 raciones de cualquier alimento.\n",
    "\n",
    "### **Datos:**\n",
    "\n",
    "-   **Raciones de Alimento**: Una lista de raciones de alimento disponibles para el consumo, cada una con su respectivo costo por unidad y las cantidades mínimas y máximas que se pueden consumir por día.\n",
    "\n",
    "-   **Nutrientes**: Una lista de nutrientes esenciales que deben ser consumidos diariamente, cada uno con su cantidad mínima y máxima recomendada.\n",
    "\n",
    "-   **Valores Nutricionales de las Raciones de Alimento**: Una matriz que indica la cantidad de cada nutriente presente en cada ración de alimento.\n",
    "\n",
    "### **Objetivo:**\n",
    "\n",
    "Minimizar el costo total de las raciones de alimento consumidas mientras se cumple con las cantidades recomendadas de cada nutriente.\n",
    "\n",
    "### **Restricciones:**\n",
    "\n",
    "1. Las cantidades de raciones de alimento consumidas deben estar entre las cantidades mínimas y máximas definidas para cada ración de alimento.\n",
    "2. La cantidad total de cada nutriente consumido a partir de todas las raciones de alimento debe estar entre las cantidades mínimas y máximas definidas para cada nutriente.\n",
    "\n",
    "### **Raciones de Alimento**\n",
    "\n",
    "|       Alimento       | Costo_Unitario | qmin | qmax |\n",
    "| :------------------: | :------------: | :--: | :--: |\n",
    "|     Pollo asado      |      0.84      |  1   |  14  |\n",
    "|   Pasta con salsa    |      0.78      |  0   |  14  |\n",
    "|    Tomate fresco     |      0.27      |  1   |  10  |\n",
    "|    Manzana fresca    |      0.24      |  1   |  9   |\n",
    "|         Uvas         |      0.32      |  2   |  13  |\n",
    "| Galletas energéticas |      0.03      |  2   |  15  |\n",
    "|   Leche descremada   |      0.23      |  2   |  12  |\n",
    "|  Cereal con frutas   |      0.34      |  0   |  9   |\n",
    "|      Salchichas      |      0.31      |  1   |  15  |\n",
    "\n",
    "### **Nutrientes**\n",
    "\n",
    "|    Nutiente     | qmin | qmax  |\n",
    "| :-------------: | :--: | :---- |\n",
    "|    Calorías     | 2000 | 2500  |\n",
    "|     Calcio      | 800  | 1600  |\n",
    "|     Hierro      |  10  | 30    |\n",
    "|   Vitamina A    | 5000 | 50000 |\n",
    "| Fibra dietética |  25  | 100   |\n",
    "|  Carbohidratos  |  0   | 300   |\n",
    "|    Proteína     |  50  | 100   |\n",
    "\n",
    "### **Valores Nutricionales de las Raciones de Alimento**\n",
    "\n",
    "|         A/N          | Calorías | Calcio | Hierro | Vit_A  | Fibra dietética | Carbohidratos | Proteína |\n",
    "| :------------------: | :------: | :----: | :----: | :----: | :-------------: | :-----------: | :------: |\n",
    "|     Pollo asado      |  277.4   |  21.9  |  1.8   |  77.4  |        0        |       0       |   42.2   |\n",
    "|   Pasta con salsa    |  358.2   |  80.2  |  2.3   | 3055.2 |      11.6       |     58.3      |   8.2    |\n",
    "|    Tomate fresco     |   25.8   |  6.2   |  0.6   | 766.3  |       1.4       |      5.7      |    1     |\n",
    "|    Manzana fresca    |   81.4   |  9.7   |  0.2   |  73.1  |       3.7       |      21       |   0.3    |\n",
    "|         Uvas         |   15.1   |  3.4   |  0.1   |   24   |       0.2       |      4.1      |   0.2    |\n",
    "| Galletas energéticas |   78.1   |  6.2   |  0.4   | 101.8  |        0        |      9.3      |   0.9    |\n",
    "|   Leche descremada   |  121.2   | 296.7  |  0.1   | 500.2  |        0        |     11.7      |   8.1    |\n",
    "|  Cereal con frutas   |  115.1   |  12.9  |  16.8  | 1250.2 |        4        |     27.9      |    4     |\n",
    "|      Salchichas      |  242.1   |  23.5  |  2.3   |   0    |        0        |      18       |   10.4   |\n",
    "\n",
    "### **¿Cómo cambiaría el problema si? (Resolver en notebbok distinto)**\n",
    "\n",
    "1. Queremos que la ingesta de salchichas represente mínimo el 12% de la ingesta total de alimentos\n",
    "2. Queremos maximizar la ingesta de proteína como primera prioridad y los costos como segunda\n"
   ]
  },
  {
   "cell_type": "code",
   "execution_count": null,
   "metadata": {},
   "outputs": [],
   "source": [
    "import pandas\n",
    "import plotly.graph_objects as go"
   ]
  },
  {
   "cell_type": "code",
   "execution_count": null,
   "metadata": {},
   "outputs": [],
   "source": [
    "df_foods = pandas.read_excel(\"./data.xlsx\", sheet_name=\"Raciones de Alimento\", index_col=0)\n",
    "df_nutrients = pandas.read_excel(\"./data.xlsx\", sheet_name=\"Nutrientes\", index_col=0)\n",
    "df_food_nutrient = pandas.read_excel(\"./data.xlsx\", sheet_name=\"Valores Nutricionales\", index_col=0)"
   ]
  }
 ],
 "metadata": {
  "kernelspec": {
   "display_name": "Python 3",
   "language": "python",
   "name": "python3"
  },
  "language_info": {
   "codemirror_mode": {
    "name": "ipython",
    "version": 3
   },
   "file_extension": ".py",
   "mimetype": "text/x-python",
   "name": "python",
   "nbconvert_exporter": "python",
   "pygments_lexer": "ipython3",
   "version": "3.10.10"
  }
 },
 "nbformat": 4,
 "nbformat_minor": 2
}
