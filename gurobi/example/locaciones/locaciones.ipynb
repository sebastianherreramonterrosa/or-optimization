{
 "cells": [
  {
   "cell_type": "markdown",
   "metadata": {},
   "source": [
    "## **LOCACIONES PLANTAS CLIENTES**"
   ]
  },
  {
   "cell_type": "code",
   "execution_count": 20,
   "metadata": {},
   "outputs": [],
   "source": [
    "import gurobipy as gp\n",
    "from gurobipy import GRB\n",
    "import pandas\n",
    "import plotly.graph_objects as go"
   ]
  },
  {
   "cell_type": "code",
   "execution_count": 21,
   "metadata": {},
   "outputs": [],
   "source": [
    "df_costo_cliente_planta = pandas.read_excel(\"./data.xlsx\", sheet_name=\"COSTO CLIENTE-PLANTA\", index_col=[0, 1])\n",
    "df_demanda = pandas.read_excel(\"./data.xlsx\", sheet_name=\"DEMANDAS CLIENTES\", index_col=0)\n",
    "df_plantas = pandas.read_excel(\"./data.xlsx\", sheet_name=\"COSTO Y CAPACIDAD PLANTAS\", index_col=0)"
   ]
  },
  {
   "cell_type": "markdown",
   "metadata": {},
   "source": [
    "**Conjuntos**"
   ]
  },
  {
   "cell_type": "markdown",
   "metadata": {},
   "source": [
    "$$ P: \\text{Plantas} = \\{1, 2,...,30\\} $$\n",
    "$$ C: \\text{Clientes} = \\{1, 2,...,50\\} $$"
   ]
  },
  {
   "cell_type": "code",
   "execution_count": 22,
   "metadata": {},
   "outputs": [],
   "source": [
    "PLANTAS = df_plantas.index.to_list()\n",
    "CLIENTES = df_demanda.index.to_list()"
   ]
  },
  {
   "cell_type": "markdown",
   "metadata": {},
   "source": [
    "**Parámetros**"
   ]
  },
  {
   "cell_type": "markdown",
   "metadata": {},
   "source": [
    "$$ \\text{CostoApertura}_{p}: \\text{Costo de abrir la planta } p\\in P $$\n",
    "$$ \\text{Capacidad}_{p}: \\text{Capacidad máxima de la planta } p\\in P $$\n",
    "$$ \\text{Demanda}_{c}: \\text{Demanda del cliente } c\\in C $$\n",
    "$$ \\text{CostoAsignacion}_{p,c}: \\text{Costo de asignar la planta } p\\in P \\text{ al cliente } c\\in C $$"
   ]
  },
  {
   "cell_type": "code",
   "execution_count": 23,
   "metadata": {},
   "outputs": [
    {
     "name": "stdout",
     "output_type": "stream",
     "text": [
      "Set parameter Username\n",
      "Academic license - for non-commercial use only - expires 2025-01-28\n"
     ]
    }
   ],
   "source": [
    "model = gp.Model()"
   ]
  },
  {
   "cell_type": "markdown",
   "metadata": {},
   "source": [
    "**Variables**"
   ]
  },
  {
   "attachments": {},
   "cell_type": "markdown",
   "metadata": {},
   "source": [
    "$$ X_{p} = \\left\\{ \\begin{array}{cl}\n",
    "1: \\text{Si abro la planta } p \\in P \\\\\n",
    "0: \\text{dlc}\n",
    "\\end{array} \\right. $$\n",
    "$$ Y_{pc} = \\left\\{ \\begin{array}{cl}\n",
    "1: \\text{Si asigno el cliente } c \\in C \\text{ a la planta } p \\in P \\\\\n",
    "0: \\text{dlc}\n",
    "\\end{array} \\right. $$"
   ]
  },
  {
   "cell_type": "code",
   "execution_count": 24,
   "metadata": {},
   "outputs": [],
   "source": [
    "x = model.addVars(PLANTAS, vtype=GRB.BINARY, name=\"x\")\n",
    "y = model.addVars([(planta, cliente) for planta in PLANTAS for cliente in CLIENTES], vtype=GRB.BINARY, name=\"y\")"
   ]
  },
  {
   "cell_type": "markdown",
   "metadata": {},
   "source": [
    "**Función Objetivo**"
   ]
  },
  {
   "attachments": {},
   "cell_type": "markdown",
   "metadata": {},
   "source": [
    "$$ \\text{minimizar } \\text{FO} = \\sum_{p\\in P} \\text{CAP}_{p} \\times X_{p} + \\sum_{p\\in P} \\sum_{c\\in C} \\text{CCP}_{pc} \\times Y_{pc} $$"
   ]
  },
  {
   "cell_type": "code",
   "execution_count": 25,
   "metadata": {},
   "outputs": [],
   "source": [
    "costo_abrir_plantas = gp.quicksum(x[planta] * df_plantas.loc[planta, \"Costo de abrir\"] for planta in PLANTAS)\n",
    "costo_cliente_planta = gp.quicksum(y[(planta, cliente)] * df_costo_cliente_planta.loc[(planta, cliente), \"Costo de asignar un cliente a un planta\"] for planta in PLANTAS for cliente in CLIENTES)\n",
    "model.setObjective(costo_abrir_plantas + costo_cliente_planta, GRB.MINIMIZE)"
   ]
  },
  {
   "cell_type": "markdown",
   "metadata": {},
   "source": [
    "**Restricciones**"
   ]
  },
  {
   "attachments": {},
   "cell_type": "markdown",
   "metadata": {},
   "source": [
    "$$ \\forall p\\in P \\, \\forall c\\in C: Y_{pc} \\le X_{p} $$\n",
    "\n",
    "$$ \\forall p\\in P: \\sum_{c\\in C} Y_{pc} \\times D_{c} \\le \\text{CAPAC}_{p} $$\n",
    "\n",
    "$$ \\forall c\\in C: \\sum_{p\\in P} Y_{pc} = 1 $$\n",
    "\n",
    "$$ \\forall p\\in P: \\sum_{c\\in C} Y_{pc} \\ge 3 X_{p}$$\n",
    "\n",
    "$$ \\forall p\\in P: \\sum_{c\\in C} Y_{pc} \\times D_{c} \\ge 0.9 * \\text{CAPAC}_{p} X_{p} $$"
   ]
  },
  {
   "cell_type": "code",
   "execution_count": 27,
   "metadata": {},
   "outputs": [],
   "source": [
    "for planta in PLANTAS:\n",
    "    for cliente in CLIENTES:\n",
    "        model.addConstr(y[(planta, cliente)] <= x[planta], name=f\"ct1_{planta}_{cliente}\")\n",
    "\n",
    "for planta in PLANTAS:\n",
    "    model.addConstr(gp.quicksum(y[(planta, cliente)] * df_demanda.loc[cliente, \"Demanda\"] for cliente in CLIENTES) <= df_plantas.loc[planta, \"Capacidad máxima\"], name=f\"ct2_{planta}\")\n",
    "\n",
    "for cliente in CLIENTES:\n",
    "    model.addConstr(gp.quicksum(y[(planta, cliente)] for planta in PLANTAS) == 1, name=f\"ct3_{cliente}\")\n",
    "\n",
    "for planta in PLANTAS:\n",
    "    model.addConstr(gp.quicksum(y[(planta, cliente)] for cliente in CLIENTES) >= 3 * x[planta], name=f\"ct4_{planta}\")\n",
    "\n",
    "for planta in PLANTAS:\n",
    "    model.addConstr(gp.quicksum(y[(planta, cliente)] * df_demanda.loc[cliente, \"Demanda\"] for cliente in CLIENTES) >= 0.9 * df_plantas.loc[planta, \"Capacidad máxima\"] * x[planta], name=f\"ct5_{planta}\")\n",
    "\n"
   ]
  },
  {
   "cell_type": "code",
   "execution_count": 28,
   "metadata": {},
   "outputs": [
    {
     "name": "stdout",
     "output_type": "stream",
     "text": [
      "Set parameter TimeLimit to value 20\n",
      "Gurobi Optimizer version 11.0.1 build v11.0.1rc0 (win64 - Windows 11.0 (22631.2))\n",
      "\n",
      "CPU model: Intel(R) Core(TM) i7-9750H CPU @ 2.60GHz, instruction set [SSE2|AVX|AVX2]\n",
      "Thread count: 6 physical cores, 12 logical processors, using up to 12 threads\n",
      "\n",
      "Optimize a model with 1110 rows, 1020 columns and 6040 nonzeros\n",
      "Model fingerprint: 0xbd23f1ae\n",
      "Variable types: 0 continuous, 1020 integer (1020 binary)\n",
      "Coefficient statistics:\n",
      "  Matrix range     [1e+00, 9e+01]\n",
      "  Objective range  [1e+00, 5e+03]\n",
      "  Bounds range     [1e+00, 1e+00]\n",
      "  RHS range        [1e+00, 1e+02]\n",
      "Presolve removed 220 rows and 74 columns\n",
      "Presolve time: 0.12s\n",
      "Presolved: 890 rows, 946 columns, 6411 nonzeros\n",
      "Variable types: 0 continuous, 946 integer (946 binary)\n",
      "\n",
      "Root relaxation: objective 6.319329e+03, 1033 iterations, 0.07 seconds (0.04 work units)\n",
      "\n",
      "    Nodes    |    Current Node    |     Objective Bounds      |     Work\n",
      " Expl Unexpl |  Obj  Depth IntInf | Incumbent    BestBd   Gap | It/Node Time\n",
      "\n",
      "     0     0 6319.32900    0  509          - 6319.32900      -     -    0s\n",
      "H    0     0                    43817.000000 6319.32900  85.6%     -    0s\n",
      "H    0     0                    43366.000000 6319.32900  85.4%     -    0s\n",
      "H    0     0                    43141.000000 6319.32900  85.4%     -    0s\n",
      "H    0     0                    43066.000000 6902.29606  84.0%     -    0s\n",
      "     0     0 10478.0193    0  396 43066.0000 10478.0193  75.7%     -    0s\n",
      "     0     0 10549.5670    0  388 43066.0000 10549.5670  75.5%     -    0s\n",
      "H    0     0                    42966.000000 19718.1388  54.1%     -    1s\n",
      "     0     0 19724.7457    0  236 42966.0000 19724.7457  54.1%     -    1s\n",
      "H    0     0                    42935.000000 19724.7457  54.1%     -    1s\n",
      "     0     0 21346.1681    0  243 42935.0000 21346.1681  50.3%     -    1s\n",
      "     0     0 21353.4486    0  244 42935.0000 21353.4486  50.3%     -    1s\n",
      "     0     0 32184.1151    0  152 42935.0000 32184.1151  25.0%     -    1s\n",
      "H    0     0                    42616.000000 32184.1151  24.5%     -    1s\n",
      "     0     0 33822.9742    0  144 42616.0000 33822.9742  20.6%     -    1s\n",
      "     0     0 33832.5477    0  145 42616.0000 33832.5477  20.6%     -    1s\n",
      "H    0     0                    42468.000000 33832.5477  20.3%     -    1s\n",
      "H    0     0                    42298.000000 33832.5477  20.0%     -    1s\n",
      "H    0     0                    42228.000000 33832.5477  19.9%     -    1s\n",
      "     0     0 34592.3348    0  160 42228.0000 34592.3348  18.1%     -    1s\n",
      "H    0     0                    42216.000000 34636.8028  18.0%     -    2s\n",
      "     0     0 34636.8028    0  156 42216.0000 34636.8028  18.0%     -    2s\n",
      "     0     0 34641.5315    0  157 42216.0000 34641.5315  17.9%     -    2s\n",
      "     0     0 34900.2258    0  157 42216.0000 34900.2258  17.3%     -    2s\n",
      "     0     0 34936.6694    0  161 42216.0000 34936.6694  17.2%     -    2s\n",
      "     0     0 34944.6652    0  165 42216.0000 34944.6652  17.2%     -    2s\n",
      "     0     0 35477.9720    0  157 42216.0000 35477.9720  16.0%     -    2s\n",
      "     0     0 35528.9822    0  153 42216.0000 35528.9822  15.8%     -    2s\n",
      "     0     0 35532.2590    0  159 42216.0000 35532.2590  15.8%     -    2s\n",
      "     0     0 35909.8947    0  163 42216.0000 35909.8947  14.9%     -    2s\n",
      "H    0     0                    42146.000000 35909.8947  14.8%     -    3s\n",
      "H    0     0                    42087.000000 35949.7045  14.6%     -    3s\n",
      "     0     0 35949.7045    0  158 42087.0000 35949.7045  14.6%     -    3s\n",
      "     0     0 35953.3511    0  162 42087.0000 35953.3511  14.6%     -    3s\n",
      "     0     0 36104.7893    0  173 42087.0000 36104.7893  14.2%     -    3s\n",
      "     0     0 36338.2520    0  173 42087.0000 36338.2520  13.7%     -    3s\n",
      "     0     2 36338.2520    0  173 42087.0000 36338.2520  13.7%     -    3s\n",
      "H   47    43                    41802.000000 38658.7228  7.52%   194    4s\n",
      "H  233   171                    41723.000000 38658.7228  7.34%  89.5    5s\n",
      "H  234   171                    41702.000000 38658.7228  7.30%  89.2    5s\n",
      "H  300   236                    41642.000000 38658.7228  7.16%  79.9    6s\n",
      "H 1413  1115                    41631.000000 39500.0011  5.12%  33.6    9s\n",
      "H 1416  1061                    41616.000000 39526.0107  5.02%  33.5    9s\n",
      "  1419  1063 39536.2783   38  132 41616.0000 39536.2783  5.00%  33.4   10s\n",
      "H 1419  1009                    41558.000000 39536.2783  4.86%  33.4   10s\n",
      "H 1450   990                    41547.000000 39541.0917  4.83%  35.0   10s\n",
      "H 1460   950                    41530.000000 39541.0917  4.79%  35.1   10s\n",
      "H 1463   904                    41515.000000 39541.4540  4.75%  35.1   10s\n",
      "H 1488   880                    41507.000000 39542.3225  4.73%  35.3   11s\n",
      "H 1569   887                    41046.000000 39542.3639  3.66%  36.0   11s\n",
      "H 1575   857                    41015.000000 39542.3639  3.59%  35.9   13s\n",
      "H 1577   820                    40941.000000 39542.3639  3.42%  36.0   13s\n",
      "H 1578   784                    40841.000000 39542.3639  3.18%  36.0   13s\n",
      "H 1583   749                    40836.000000 39542.3639  3.17%  36.1   13s\n",
      "H 1585   716                    40252.000000 39542.3639  1.76%  36.1   13s\n",
      "H 1635   729                    39799.000000 39542.3639  0.64%  36.2   17s\n",
      "H 1645   697                    39747.000000 39542.3639  0.51%  36.2   17s\n",
      "  5840  3944 39574.2495   27   95 39747.0000 39545.6115  0.51%  30.4   20s\n",
      "\n",
      "Cutting planes:\n",
      "  Gomory: 4\n",
      "  Lift-and-project: 7\n",
      "  Cover: 8\n",
      "  MIR: 66\n",
      "  StrongCG: 33\n",
      "  Flow cover: 9\n",
      "  GUB cover: 6\n",
      "  Zero half: 11\n",
      "\n",
      "Explored 6132 nodes (190510 simplex iterations) in 20.04 seconds (9.19 work units)\n",
      "Thread count was 12 (of 12 available processors)\n",
      "\n",
      "Solution count 10: 39747 39799 40252 ... 41515\n",
      "\n",
      "Time limit reached\n",
      "Best objective 3.974700000000e+04, best bound 3.954600000000e+04, gap 0.5057%\n"
     ]
    }
   ],
   "source": [
    "model.setParam(\"TimeLimit\", 20)\n",
    "model.optimize()"
   ]
  },
  {
   "cell_type": "code",
   "execution_count": 55,
   "metadata": {},
   "outputs": [
    {
     "name": "stdout",
     "output_type": "stream",
     "text": [
      "Optimal objective value: 39747.0\n",
      "=== Planta 3 ====\n",
      "Capacidad Planta: 32\n",
      "Cantidad Enviada: 32.0\n",
      "7  20  49  \n",
      "\n",
      "=== Planta 4 ====\n",
      "Capacidad Planta: 52\n",
      "Cantidad Enviada: 52.0\n",
      "9  10  29  \n",
      "\n",
      "=== Planta 6 ====\n",
      "Capacidad Planta: 95\n",
      "Cantidad Enviada: 95.0\n",
      "3  47  50  \n",
      "\n",
      "=== Planta 7 ====\n",
      "Capacidad Planta: 29\n",
      "Cantidad Enviada: 29.0\n",
      "11  35  41  \n",
      "\n",
      "=== Planta 9 ====\n",
      "Capacidad Planta: 80\n",
      "Cantidad Enviada: 80.0\n",
      "17  19  32  36  \n",
      "\n",
      "=== Planta 10 ====\n",
      "Capacidad Planta: 97\n",
      "Cantidad Enviada: 97.0\n",
      "4  14  43  \n",
      "\n",
      "=== Planta 11 ====\n",
      "Capacidad Planta: 23\n",
      "Cantidad Enviada: 23.0\n",
      "8  22  37  \n",
      "\n",
      "=== Planta 12 ====\n",
      "Capacidad Planta: 85\n",
      "Cantidad Enviada: 85.0\n",
      "1  6  42  \n",
      "\n",
      "=== Planta 13 ====\n",
      "Capacidad Planta: 72\n",
      "Cantidad Enviada: 72.0\n",
      "13  21  28  \n",
      "\n",
      "=== Planta 14 ====\n",
      "Capacidad Planta: 62\n",
      "Cantidad Enviada: 62.0\n",
      "15  25  33  40  \n",
      "\n",
      "=== Planta 15 ====\n",
      "Capacidad Planta: 48\n",
      "Cantidad Enviada: 46.0\n",
      "5  26  48  \n",
      "\n",
      "=== Planta 16 ====\n",
      "Capacidad Planta: 100\n",
      "Cantidad Enviada: 100.0\n",
      "12  30  45  46  \n",
      "\n",
      "=== Planta 17 ====\n",
      "Capacidad Planta: 77\n",
      "Cantidad Enviada: 77.0\n",
      "31  38  39  44  \n",
      "\n",
      "=== Planta 18 ====\n",
      "Capacidad Planta: 78\n",
      "Cantidad Enviada: 78.0\n",
      "2  23  34  \n",
      "\n",
      "=== Planta 19 ====\n",
      "Capacidad Planta: 84\n",
      "Cantidad Enviada: 84.0\n",
      "16  18  24  27  \n",
      "\n"
     ]
    }
   ],
   "source": [
    "solution = model.ObjVal\n",
    "print(f\"Optimal objective value: {solution}\")\n",
    "\n",
    "df_resultados = pandas.DataFrame()\n",
    "PLANTAS_ABIERTAS = {}\n",
    "for planta in PLANTAS:\n",
    "    if x[planta].X > 0.99:\n",
    "        print(f\"=== Planta {planta} ====\")\n",
    "        print(f\"Capacidad Planta: {df_plantas.loc[planta, 'Capacidad máxima']}\")\n",
    "        print(f\"Cantidad Enviada: {sum(round(y[(planta, cliente)].X, 0) * df_demanda.loc[cliente, 'Demanda'] for cliente in CLIENTES)}\")\n",
    "        CLIENTES_ATENDIDOS = []\n",
    "        for cliente in CLIENTES:\n",
    "            if y[(planta, cliente)].X > 0.99:\n",
    "                print(cliente, end=\"  \")\n",
    "                CLIENTES_ATENDIDOS.append(cliente)\n",
    "                df_resultados.loc[cliente, planta] = 1\n",
    "        print(\"\\n\")\n",
    "        PLANTAS_ABIERTAS[planta] = {\n",
    "            \"CAPACIDAD_PLANTA\": df_plantas.loc[planta, \"Capacidad máxima\"],\n",
    "            \"CANTIDAD_ENVIADA\": sum(round(y[(planta, cliente)].X, 0) * df_demanda.loc[cliente, \"Demanda\"] for cliente in CLIENTES),\n",
    "            \"CLIENTES_ATENDIDOS\": CLIENTES_ATENDIDOS,\n",
    "        }"
   ]
  },
  {
   "cell_type": "code",
   "execution_count": 56,
   "metadata": {},
   "outputs": [
    {
     "data": {
      "text/html": [
       "<div>\n",
       "<style scoped>\n",
       "    .dataframe tbody tr th:only-of-type {\n",
       "        vertical-align: middle;\n",
       "    }\n",
       "\n",
       "    .dataframe tbody tr th {\n",
       "        vertical-align: top;\n",
       "    }\n",
       "\n",
       "    .dataframe thead th {\n",
       "        text-align: right;\n",
       "    }\n",
       "</style>\n",
       "<table border=\"1\" class=\"dataframe\">\n",
       "  <thead>\n",
       "    <tr style=\"text-align: right;\">\n",
       "      <th></th>\n",
       "      <th>3</th>\n",
       "      <th>4</th>\n",
       "      <th>6</th>\n",
       "      <th>7</th>\n",
       "      <th>9</th>\n",
       "      <th>10</th>\n",
       "      <th>11</th>\n",
       "      <th>12</th>\n",
       "      <th>13</th>\n",
       "      <th>14</th>\n",
       "      <th>15</th>\n",
       "      <th>16</th>\n",
       "      <th>17</th>\n",
       "      <th>18</th>\n",
       "      <th>19</th>\n",
       "    </tr>\n",
       "  </thead>\n",
       "  <tbody>\n",
       "    <tr>\n",
       "      <th>1</th>\n",
       "      <td>0.0</td>\n",
       "      <td>0.0</td>\n",
       "      <td>0.0</td>\n",
       "      <td>0.0</td>\n",
       "      <td>0.0</td>\n",
       "      <td>0.0</td>\n",
       "      <td>0.0</td>\n",
       "      <td>1.0</td>\n",
       "      <td>0.0</td>\n",
       "      <td>0.0</td>\n",
       "      <td>0.0</td>\n",
       "      <td>0.0</td>\n",
       "      <td>0.0</td>\n",
       "      <td>0.0</td>\n",
       "      <td>0.0</td>\n",
       "    </tr>\n",
       "    <tr>\n",
       "      <th>2</th>\n",
       "      <td>0.0</td>\n",
       "      <td>0.0</td>\n",
       "      <td>0.0</td>\n",
       "      <td>0.0</td>\n",
       "      <td>0.0</td>\n",
       "      <td>0.0</td>\n",
       "      <td>0.0</td>\n",
       "      <td>0.0</td>\n",
       "      <td>0.0</td>\n",
       "      <td>0.0</td>\n",
       "      <td>0.0</td>\n",
       "      <td>0.0</td>\n",
       "      <td>0.0</td>\n",
       "      <td>1.0</td>\n",
       "      <td>0.0</td>\n",
       "    </tr>\n",
       "    <tr>\n",
       "      <th>3</th>\n",
       "      <td>0.0</td>\n",
       "      <td>0.0</td>\n",
       "      <td>1.0</td>\n",
       "      <td>0.0</td>\n",
       "      <td>0.0</td>\n",
       "      <td>0.0</td>\n",
       "      <td>0.0</td>\n",
       "      <td>0.0</td>\n",
       "      <td>0.0</td>\n",
       "      <td>0.0</td>\n",
       "      <td>0.0</td>\n",
       "      <td>0.0</td>\n",
       "      <td>0.0</td>\n",
       "      <td>0.0</td>\n",
       "      <td>0.0</td>\n",
       "    </tr>\n",
       "    <tr>\n",
       "      <th>4</th>\n",
       "      <td>0.0</td>\n",
       "      <td>0.0</td>\n",
       "      <td>0.0</td>\n",
       "      <td>0.0</td>\n",
       "      <td>0.0</td>\n",
       "      <td>1.0</td>\n",
       "      <td>0.0</td>\n",
       "      <td>0.0</td>\n",
       "      <td>0.0</td>\n",
       "      <td>0.0</td>\n",
       "      <td>0.0</td>\n",
       "      <td>0.0</td>\n",
       "      <td>0.0</td>\n",
       "      <td>0.0</td>\n",
       "      <td>0.0</td>\n",
       "    </tr>\n",
       "    <tr>\n",
       "      <th>5</th>\n",
       "      <td>0.0</td>\n",
       "      <td>0.0</td>\n",
       "      <td>0.0</td>\n",
       "      <td>0.0</td>\n",
       "      <td>0.0</td>\n",
       "      <td>0.0</td>\n",
       "      <td>0.0</td>\n",
       "      <td>0.0</td>\n",
       "      <td>0.0</td>\n",
       "      <td>0.0</td>\n",
       "      <td>1.0</td>\n",
       "      <td>0.0</td>\n",
       "      <td>0.0</td>\n",
       "      <td>0.0</td>\n",
       "      <td>0.0</td>\n",
       "    </tr>\n",
       "  </tbody>\n",
       "</table>\n",
       "</div>"
      ],
      "text/plain": [
       "    3    4    6    7    9    10   11   12   13   14   15   16   17   18   19\n",
       "1  0.0  0.0  0.0  0.0  0.0  0.0  0.0  1.0  0.0  0.0  0.0  0.0  0.0  0.0  0.0\n",
       "2  0.0  0.0  0.0  0.0  0.0  0.0  0.0  0.0  0.0  0.0  0.0  0.0  0.0  1.0  0.0\n",
       "3  0.0  0.0  1.0  0.0  0.0  0.0  0.0  0.0  0.0  0.0  0.0  0.0  0.0  0.0  0.0\n",
       "4  0.0  0.0  0.0  0.0  0.0  1.0  0.0  0.0  0.0  0.0  0.0  0.0  0.0  0.0  0.0\n",
       "5  0.0  0.0  0.0  0.0  0.0  0.0  0.0  0.0  0.0  0.0  1.0  0.0  0.0  0.0  0.0"
      ]
     },
     "execution_count": 56,
     "metadata": {},
     "output_type": "execute_result"
    }
   ],
   "source": [
    "df_resultados = df_resultados.fillna(0)\n",
    "df_resultados = df_resultados.sort_index()\n",
    "df_resultados.head()"
   ]
  },
  {
   "cell_type": "code",
   "execution_count": 80,
   "metadata": {},
   "outputs": [
    {
     "data": {
      "application/vnd.plotly.v1+json": {
       "config": {
        "plotlyServerURL": "https://plot.ly"
       },
       "data": [
        {
         "colorscale": [
          [
           0,
           "rgb(247,252,245)"
          ],
          [
           0.125,
           "rgb(229,245,224)"
          ],
          [
           0.25,
           "rgb(199,233,192)"
          ],
          [
           0.375,
           "rgb(161,217,155)"
          ],
          [
           0.5,
           "rgb(116,196,118)"
          ],
          [
           0.625,
           "rgb(65,171,93)"
          ],
          [
           0.75,
           "rgb(35,139,69)"
          ],
          [
           0.875,
           "rgb(0,109,44)"
          ],
          [
           1,
           "rgb(0,68,27)"
          ]
         ],
         "showscale": false,
         "type": "heatmap",
         "x": [
          "P03 - 32<br />CA: 3<br />100%",
          "P04 - 52<br />CA: 3<br />100%",
          "P06 - 95<br />CA: 3<br />100%",
          "P07 - 29<br />CA: 3<br />100%",
          "P09 - 80<br />CA: 4<br />100%",
          "P10 - 97<br />CA: 3<br />100%",
          "P11 - 23<br />CA: 3<br />100%",
          "P12 - 85<br />CA: 3<br />100%",
          "P13 - 72<br />CA: 3<br />100%",
          "P14 - 62<br />CA: 4<br />100%",
          "P15 - 48<br />CA: 3<br />100%",
          "P16 - 100<br />CA: 4<br />100%",
          "P17 - 77<br />CA: 4<br />100%",
          "P18 - 78<br />CA: 3<br />100%",
          "P19 - 84<br />CA: 4<br />100%"
         ],
         "y": [
          "C01",
          "C02",
          "C03",
          "C04",
          "C05",
          "C06",
          "C07",
          "C08",
          "C09",
          "C10",
          "C11",
          "C12",
          "C13",
          "C14",
          "C15",
          "C16",
          "C17",
          "C18",
          "C19",
          "C20",
          "C21",
          "C22",
          "C23",
          "C24",
          "C25",
          "C26",
          "C27",
          "C28",
          "C29",
          "C30",
          "C31",
          "C32",
          "C33",
          "C34",
          "C35",
          "C36",
          "C37",
          "C38",
          "C39",
          "C40",
          "C41",
          "C42",
          "C43",
          "C44",
          "C45",
          "C46",
          "C47",
          "C48",
          "C49",
          "C50"
         ],
         "z": [
          [
           0,
           0,
           0,
           0,
           0,
           0,
           0,
           1,
           0,
           0,
           0,
           0,
           0,
           0,
           0
          ],
          [
           0,
           0,
           0,
           0,
           0,
           0,
           0,
           0,
           0,
           0,
           0,
           0,
           0,
           1,
           0
          ],
          [
           0,
           0,
           1,
           0,
           0,
           0,
           0,
           0,
           0,
           0,
           0,
           0,
           0,
           0,
           0
          ],
          [
           0,
           0,
           0,
           0,
           0,
           1,
           0,
           0,
           0,
           0,
           0,
           0,
           0,
           0,
           0
          ],
          [
           0,
           0,
           0,
           0,
           0,
           0,
           0,
           0,
           0,
           0,
           1,
           0,
           0,
           0,
           0
          ],
          [
           0,
           0,
           0,
           0,
           0,
           0,
           0,
           1,
           0,
           0,
           0,
           0,
           0,
           0,
           0
          ],
          [
           1,
           0,
           0,
           0,
           0,
           0,
           0,
           0,
           0,
           0,
           0,
           0,
           0,
           0,
           0
          ],
          [
           0,
           0,
           0,
           0,
           0,
           0,
           1,
           0,
           0,
           0,
           0,
           0,
           0,
           0,
           0
          ],
          [
           0,
           1,
           0,
           0,
           0,
           0,
           0,
           0,
           0,
           0,
           0,
           0,
           0,
           0,
           0
          ],
          [
           0,
           1,
           0,
           0,
           0,
           0,
           0,
           0,
           0,
           0,
           0,
           0,
           0,
           0,
           0
          ],
          [
           0,
           0,
           0,
           1,
           0,
           0,
           0,
           0,
           0,
           0,
           0,
           0,
           0,
           0,
           0
          ],
          [
           0,
           0,
           0,
           0,
           0,
           0,
           0,
           0,
           0,
           0,
           0,
           1,
           0,
           0,
           0
          ],
          [
           0,
           0,
           0,
           0,
           0,
           0,
           0,
           0,
           1,
           0,
           0,
           0,
           0,
           0,
           0
          ],
          [
           0,
           0,
           0,
           0,
           0,
           1,
           0,
           0,
           0,
           0,
           0,
           0,
           0,
           0,
           0
          ],
          [
           0,
           0,
           0,
           0,
           0,
           0,
           0,
           0,
           0,
           1,
           0,
           0,
           0,
           0,
           0
          ],
          [
           0,
           0,
           0,
           0,
           0,
           0,
           0,
           0,
           0,
           0,
           0,
           0,
           0,
           0,
           1
          ],
          [
           0,
           0,
           0,
           0,
           1,
           0,
           0,
           0,
           0,
           0,
           0,
           0,
           0,
           0,
           0
          ],
          [
           0,
           0,
           0,
           0,
           0,
           0,
           0,
           0,
           0,
           0,
           0,
           0,
           0,
           0,
           1
          ],
          [
           0,
           0,
           0,
           0,
           1,
           0,
           0,
           0,
           0,
           0,
           0,
           0,
           0,
           0,
           0
          ],
          [
           1,
           0,
           0,
           0,
           0,
           0,
           0,
           0,
           0,
           0,
           0,
           0,
           0,
           0,
           0
          ],
          [
           0,
           0,
           0,
           0,
           0,
           0,
           0,
           0,
           1,
           0,
           0,
           0,
           0,
           0,
           0
          ],
          [
           0,
           0,
           0,
           0,
           0,
           0,
           1,
           0,
           0,
           0,
           0,
           0,
           0,
           0,
           0
          ],
          [
           0,
           0,
           0,
           0,
           0,
           0,
           0,
           0,
           0,
           0,
           0,
           0,
           0,
           1,
           0
          ],
          [
           0,
           0,
           0,
           0,
           0,
           0,
           0,
           0,
           0,
           0,
           0,
           0,
           0,
           0,
           1
          ],
          [
           0,
           0,
           0,
           0,
           0,
           0,
           0,
           0,
           0,
           1,
           0,
           0,
           0,
           0,
           0
          ],
          [
           0,
           0,
           0,
           0,
           0,
           0,
           0,
           0,
           0,
           0,
           1,
           0,
           0,
           0,
           0
          ],
          [
           0,
           0,
           0,
           0,
           0,
           0,
           0,
           0,
           0,
           0,
           0,
           0,
           0,
           0,
           1
          ],
          [
           0,
           0,
           0,
           0,
           0,
           0,
           0,
           0,
           1,
           0,
           0,
           0,
           0,
           0,
           0
          ],
          [
           0,
           1,
           0,
           0,
           0,
           0,
           0,
           0,
           0,
           0,
           0,
           0,
           0,
           0,
           0
          ],
          [
           0,
           0,
           0,
           0,
           0,
           0,
           0,
           0,
           0,
           0,
           0,
           1,
           0,
           0,
           0
          ],
          [
           0,
           0,
           0,
           0,
           0,
           0,
           0,
           0,
           0,
           0,
           0,
           0,
           1,
           0,
           0
          ],
          [
           0,
           0,
           0,
           0,
           1,
           0,
           0,
           0,
           0,
           0,
           0,
           0,
           0,
           0,
           0
          ],
          [
           0,
           0,
           0,
           0,
           0,
           0,
           0,
           0,
           0,
           1,
           0,
           0,
           0,
           0,
           0
          ],
          [
           0,
           0,
           0,
           0,
           0,
           0,
           0,
           0,
           0,
           0,
           0,
           0,
           0,
           1,
           0
          ],
          [
           0,
           0,
           0,
           1,
           0,
           0,
           0,
           0,
           0,
           0,
           0,
           0,
           0,
           0,
           0
          ],
          [
           0,
           0,
           0,
           0,
           1,
           0,
           0,
           0,
           0,
           0,
           0,
           0,
           0,
           0,
           0
          ],
          [
           0,
           0,
           0,
           0,
           0,
           0,
           1,
           0,
           0,
           0,
           0,
           0,
           0,
           0,
           0
          ],
          [
           0,
           0,
           0,
           0,
           0,
           0,
           0,
           0,
           0,
           0,
           0,
           0,
           1,
           0,
           0
          ],
          [
           0,
           0,
           0,
           0,
           0,
           0,
           0,
           0,
           0,
           0,
           0,
           0,
           1,
           0,
           0
          ],
          [
           0,
           0,
           0,
           0,
           0,
           0,
           0,
           0,
           0,
           1,
           0,
           0,
           0,
           0,
           0
          ],
          [
           0,
           0,
           0,
           1,
           0,
           0,
           0,
           0,
           0,
           0,
           0,
           0,
           0,
           0,
           0
          ],
          [
           0,
           0,
           0,
           0,
           0,
           0,
           0,
           1,
           0,
           0,
           0,
           0,
           0,
           0,
           0
          ],
          [
           0,
           0,
           0,
           0,
           0,
           1,
           0,
           0,
           0,
           0,
           0,
           0,
           0,
           0,
           0
          ],
          [
           0,
           0,
           0,
           0,
           0,
           0,
           0,
           0,
           0,
           0,
           0,
           0,
           1,
           0,
           0
          ],
          [
           0,
           0,
           0,
           0,
           0,
           0,
           0,
           0,
           0,
           0,
           0,
           1,
           0,
           0,
           0
          ],
          [
           0,
           0,
           0,
           0,
           0,
           0,
           0,
           0,
           0,
           0,
           0,
           1,
           0,
           0,
           0
          ],
          [
           0,
           0,
           1,
           0,
           0,
           0,
           0,
           0,
           0,
           0,
           0,
           0,
           0,
           0,
           0
          ],
          [
           0,
           0,
           0,
           0,
           0,
           0,
           0,
           0,
           0,
           0,
           1,
           0,
           0,
           0,
           0
          ],
          [
           1,
           0,
           0,
           0,
           0,
           0,
           0,
           0,
           0,
           0,
           0,
           0,
           0,
           0,
           0
          ],
          [
           0,
           0,
           1,
           0,
           0,
           0,
           0,
           0,
           0,
           0,
           0,
           0,
           0,
           0,
           0
          ]
         ]
        }
       ],
       "layout": {
        "annotations": [
         {
          "align": "center",
          "font": {
           "color": "white",
           "size": 10
          },
          "showarrow": false,
          "text": "C01 - D: 22",
          "x": 7,
          "y": 0
         },
         {
          "align": "center",
          "font": {
           "color": "white",
           "size": 10
          },
          "showarrow": false,
          "text": "C02 - D: 28",
          "x": 13,
          "y": 1
         },
         {
          "align": "center",
          "font": {
           "color": "white",
           "size": 10
          },
          "showarrow": false,
          "text": "C03 - D: 31",
          "x": 2,
          "y": 2
         },
         {
          "align": "center",
          "font": {
           "color": "white",
           "size": 10
          },
          "showarrow": false,
          "text": "C04 - D: 27",
          "x": 5,
          "y": 3
         },
         {
          "align": "center",
          "font": {
           "color": "white",
           "size": 10
          },
          "showarrow": false,
          "text": "C05 - D: 16",
          "x": 10,
          "y": 4
         },
         {
          "align": "center",
          "font": {
           "color": "white",
           "size": 10
          },
          "showarrow": false,
          "text": "C06 - D: 26",
          "x": 7,
          "y": 5
         },
         {
          "align": "center",
          "font": {
           "color": "white",
           "size": 10
          },
          "showarrow": false,
          "text": "C07 - D: 10",
          "x": 0,
          "y": 6
         },
         {
          "align": "center",
          "font": {
           "color": "white",
           "size": 10
          },
          "showarrow": false,
          "text": "C08 - D: 6",
          "x": 6,
          "y": 7
         },
         {
          "align": "center",
          "font": {
           "color": "white",
           "size": 10
          },
          "showarrow": false,
          "text": "C09 - D: 4",
          "x": 1,
          "y": 8
         },
         {
          "align": "center",
          "font": {
           "color": "white",
           "size": 10
          },
          "showarrow": false,
          "text": "C10 - D: 16",
          "x": 1,
          "y": 9
         },
         {
          "align": "center",
          "font": {
           "color": "white",
           "size": 10
          },
          "showarrow": false,
          "text": "C11 - D: 4",
          "x": 3,
          "y": 10
         },
         {
          "align": "center",
          "font": {
           "color": "white",
           "size": 10
          },
          "showarrow": false,
          "text": "C12 - D: 30",
          "x": 11,
          "y": 11
         },
         {
          "align": "center",
          "font": {
           "color": "white",
           "size": 10
          },
          "showarrow": false,
          "text": "C13 - D: 30",
          "x": 8,
          "y": 12
         },
         {
          "align": "center",
          "font": {
           "color": "white",
           "size": 10
          },
          "showarrow": false,
          "text": "C14 - D: 35",
          "x": 5,
          "y": 13
         },
         {
          "align": "center",
          "font": {
           "color": "white",
           "size": 10
          },
          "showarrow": false,
          "text": "C15 - D: 4",
          "x": 9,
          "y": 14
         },
         {
          "align": "center",
          "font": {
           "color": "white",
           "size": 10
          },
          "showarrow": false,
          "text": "C16 - D: 15",
          "x": 14,
          "y": 15
         },
         {
          "align": "center",
          "font": {
           "color": "white",
           "size": 10
          },
          "showarrow": false,
          "text": "C17 - D: 8",
          "x": 4,
          "y": 16
         },
         {
          "align": "center",
          "font": {
           "color": "white",
           "size": 10
          },
          "showarrow": false,
          "text": "C18 - D: 28",
          "x": 14,
          "y": 17
         },
         {
          "align": "center",
          "font": {
           "color": "white",
           "size": 10
          },
          "showarrow": false,
          "text": "C19 - D: 31",
          "x": 4,
          "y": 18
         },
         {
          "align": "center",
          "font": {
           "color": "white",
           "size": 10
          },
          "showarrow": false,
          "text": "C20 - D: 9",
          "x": 0,
          "y": 19
         },
         {
          "align": "center",
          "font": {
           "color": "white",
           "size": 10
          },
          "showarrow": false,
          "text": "C21 - D: 17",
          "x": 8,
          "y": 20
         },
         {
          "align": "center",
          "font": {
           "color": "white",
           "size": 10
          },
          "showarrow": false,
          "text": "C22 - D: 4",
          "x": 6,
          "y": 21
         },
         {
          "align": "center",
          "font": {
           "color": "white",
           "size": 10
          },
          "showarrow": false,
          "text": "C23 - D: 15",
          "x": 13,
          "y": 22
         },
         {
          "align": "center",
          "font": {
           "color": "white",
           "size": 10
          },
          "showarrow": false,
          "text": "C24 - D: 12",
          "x": 14,
          "y": 23
         },
         {
          "align": "center",
          "font": {
           "color": "white",
           "size": 10
          },
          "showarrow": false,
          "text": "C25 - D: 37",
          "x": 9,
          "y": 24
         },
         {
          "align": "center",
          "font": {
           "color": "white",
           "size": 10
          },
          "showarrow": false,
          "text": "C26 - D: 8",
          "x": 10,
          "y": 25
         },
         {
          "align": "center",
          "font": {
           "color": "white",
           "size": 10
          },
          "showarrow": false,
          "text": "C27 - D: 29",
          "x": 14,
          "y": 26
         },
         {
          "align": "center",
          "font": {
           "color": "white",
           "size": 10
          },
          "showarrow": false,
          "text": "C28 - D: 25",
          "x": 8,
          "y": 27
         },
         {
          "align": "center",
          "font": {
           "color": "white",
           "size": 10
          },
          "showarrow": false,
          "text": "C29 - D: 32",
          "x": 1,
          "y": 28
         },
         {
          "align": "center",
          "font": {
           "color": "white",
           "size": 10
          },
          "showarrow": false,
          "text": "C30 - D: 22",
          "x": 11,
          "y": 29
         },
         {
          "align": "center",
          "font": {
           "color": "white",
           "size": 10
          },
          "showarrow": false,
          "text": "C31 - D: 30",
          "x": 12,
          "y": 30
         },
         {
          "align": "center",
          "font": {
           "color": "white",
           "size": 10
          },
          "showarrow": false,
          "text": "C32 - D: 25",
          "x": 4,
          "y": 31
         },
         {
          "align": "center",
          "font": {
           "color": "white",
           "size": 10
          },
          "showarrow": false,
          "text": "C33 - D: 18",
          "x": 9,
          "y": 32
         },
         {
          "align": "center",
          "font": {
           "color": "white",
           "size": 10
          },
          "showarrow": false,
          "text": "C34 - D: 35",
          "x": 13,
          "y": 33
         },
         {
          "align": "center",
          "font": {
           "color": "white",
           "size": 10
          },
          "showarrow": false,
          "text": "C35 - D: 2",
          "x": 3,
          "y": 34
         },
         {
          "align": "center",
          "font": {
           "color": "white",
           "size": 10
          },
          "showarrow": false,
          "text": "C36 - D: 16",
          "x": 4,
          "y": 35
         },
         {
          "align": "center",
          "font": {
           "color": "white",
           "size": 10
          },
          "showarrow": false,
          "text": "C37 - D: 13",
          "x": 6,
          "y": 36
         },
         {
          "align": "center",
          "font": {
           "color": "white",
           "size": 10
          },
          "showarrow": false,
          "text": "C38 - D: 3",
          "x": 12,
          "y": 37
         },
         {
          "align": "center",
          "font": {
           "color": "white",
           "size": 10
          },
          "showarrow": false,
          "text": "C39 - D: 30",
          "x": 12,
          "y": 38
         },
         {
          "align": "center",
          "font": {
           "color": "white",
           "size": 10
          },
          "showarrow": false,
          "text": "C40 - D: 3",
          "x": 9,
          "y": 39
         },
         {
          "align": "center",
          "font": {
           "color": "white",
           "size": 10
          },
          "showarrow": false,
          "text": "C41 - D: 23",
          "x": 3,
          "y": 40
         },
         {
          "align": "center",
          "font": {
           "color": "white",
           "size": 10
          },
          "showarrow": false,
          "text": "C42 - D: 37",
          "x": 7,
          "y": 41
         },
         {
          "align": "center",
          "font": {
           "color": "white",
           "size": 10
          },
          "showarrow": false,
          "text": "C43 - D: 35",
          "x": 5,
          "y": 42
         },
         {
          "align": "center",
          "font": {
           "color": "white",
           "size": 10
          },
          "showarrow": false,
          "text": "C44 - D: 14",
          "x": 12,
          "y": 43
         },
         {
          "align": "center",
          "font": {
           "color": "white",
           "size": 10
          },
          "showarrow": false,
          "text": "C45 - D: 21",
          "x": 11,
          "y": 44
         },
         {
          "align": "center",
          "font": {
           "color": "white",
           "size": 10
          },
          "showarrow": false,
          "text": "C46 - D: 27",
          "x": 11,
          "y": 45
         },
         {
          "align": "center",
          "font": {
           "color": "white",
           "size": 10
          },
          "showarrow": false,
          "text": "C47 - D: 30",
          "x": 2,
          "y": 46
         },
         {
          "align": "center",
          "font": {
           "color": "white",
           "size": 10
          },
          "showarrow": false,
          "text": "C48 - D: 22",
          "x": 10,
          "y": 47
         },
         {
          "align": "center",
          "font": {
           "color": "white",
           "size": 10
          },
          "showarrow": false,
          "text": "C49 - D: 13",
          "x": 0,
          "y": 48
         },
         {
          "align": "center",
          "font": {
           "color": "white",
           "size": 10
          },
          "showarrow": false,
          "text": "C50 - D: 34",
          "x": 2,
          "y": 49
         }
        ],
        "height": 1000,
        "margin": {
         "t": 150
        },
        "template": {
         "data": {
          "bar": [
           {
            "error_x": {
             "color": "rgb(51,51,51)"
            },
            "error_y": {
             "color": "rgb(51,51,51)"
            },
            "marker": {
             "line": {
              "color": "rgb(237,237,237)",
              "width": 0.5
             },
             "pattern": {
              "fillmode": "overlay",
              "size": 10,
              "solidity": 0.2
             }
            },
            "type": "bar"
           }
          ],
          "barpolar": [
           {
            "marker": {
             "line": {
              "color": "rgb(237,237,237)",
              "width": 0.5
             },
             "pattern": {
              "fillmode": "overlay",
              "size": 10,
              "solidity": 0.2
             }
            },
            "type": "barpolar"
           }
          ],
          "carpet": [
           {
            "aaxis": {
             "endlinecolor": "rgb(51,51,51)",
             "gridcolor": "white",
             "linecolor": "white",
             "minorgridcolor": "white",
             "startlinecolor": "rgb(51,51,51)"
            },
            "baxis": {
             "endlinecolor": "rgb(51,51,51)",
             "gridcolor": "white",
             "linecolor": "white",
             "minorgridcolor": "white",
             "startlinecolor": "rgb(51,51,51)"
            },
            "type": "carpet"
           }
          ],
          "choropleth": [
           {
            "colorbar": {
             "outlinewidth": 0,
             "tickcolor": "rgb(237,237,237)",
             "ticklen": 6,
             "ticks": "inside"
            },
            "type": "choropleth"
           }
          ],
          "contour": [
           {
            "colorbar": {
             "outlinewidth": 0,
             "tickcolor": "rgb(237,237,237)",
             "ticklen": 6,
             "ticks": "inside"
            },
            "colorscale": [
             [
              0,
              "rgb(20,44,66)"
             ],
             [
              1,
              "rgb(90,179,244)"
             ]
            ],
            "type": "contour"
           }
          ],
          "contourcarpet": [
           {
            "colorbar": {
             "outlinewidth": 0,
             "tickcolor": "rgb(237,237,237)",
             "ticklen": 6,
             "ticks": "inside"
            },
            "type": "contourcarpet"
           }
          ],
          "heatmap": [
           {
            "colorbar": {
             "outlinewidth": 0,
             "tickcolor": "rgb(237,237,237)",
             "ticklen": 6,
             "ticks": "inside"
            },
            "colorscale": [
             [
              0,
              "rgb(20,44,66)"
             ],
             [
              1,
              "rgb(90,179,244)"
             ]
            ],
            "type": "heatmap"
           }
          ],
          "heatmapgl": [
           {
            "colorbar": {
             "outlinewidth": 0,
             "tickcolor": "rgb(237,237,237)",
             "ticklen": 6,
             "ticks": "inside"
            },
            "colorscale": [
             [
              0,
              "rgb(20,44,66)"
             ],
             [
              1,
              "rgb(90,179,244)"
             ]
            ],
            "type": "heatmapgl"
           }
          ],
          "histogram": [
           {
            "marker": {
             "pattern": {
              "fillmode": "overlay",
              "size": 10,
              "solidity": 0.2
             }
            },
            "type": "histogram"
           }
          ],
          "histogram2d": [
           {
            "colorbar": {
             "outlinewidth": 0,
             "tickcolor": "rgb(237,237,237)",
             "ticklen": 6,
             "ticks": "inside"
            },
            "colorscale": [
             [
              0,
              "rgb(20,44,66)"
             ],
             [
              1,
              "rgb(90,179,244)"
             ]
            ],
            "type": "histogram2d"
           }
          ],
          "histogram2dcontour": [
           {
            "colorbar": {
             "outlinewidth": 0,
             "tickcolor": "rgb(237,237,237)",
             "ticklen": 6,
             "ticks": "inside"
            },
            "colorscale": [
             [
              0,
              "rgb(20,44,66)"
             ],
             [
              1,
              "rgb(90,179,244)"
             ]
            ],
            "type": "histogram2dcontour"
           }
          ],
          "mesh3d": [
           {
            "colorbar": {
             "outlinewidth": 0,
             "tickcolor": "rgb(237,237,237)",
             "ticklen": 6,
             "ticks": "inside"
            },
            "type": "mesh3d"
           }
          ],
          "parcoords": [
           {
            "line": {
             "colorbar": {
              "outlinewidth": 0,
              "tickcolor": "rgb(237,237,237)",
              "ticklen": 6,
              "ticks": "inside"
             }
            },
            "type": "parcoords"
           }
          ],
          "pie": [
           {
            "automargin": true,
            "type": "pie"
           }
          ],
          "scatter": [
           {
            "fillpattern": {
             "fillmode": "overlay",
             "size": 10,
             "solidity": 0.2
            },
            "type": "scatter"
           }
          ],
          "scatter3d": [
           {
            "line": {
             "colorbar": {
              "outlinewidth": 0,
              "tickcolor": "rgb(237,237,237)",
              "ticklen": 6,
              "ticks": "inside"
             }
            },
            "marker": {
             "colorbar": {
              "outlinewidth": 0,
              "tickcolor": "rgb(237,237,237)",
              "ticklen": 6,
              "ticks": "inside"
             }
            },
            "type": "scatter3d"
           }
          ],
          "scattercarpet": [
           {
            "marker": {
             "colorbar": {
              "outlinewidth": 0,
              "tickcolor": "rgb(237,237,237)",
              "ticklen": 6,
              "ticks": "inside"
             }
            },
            "type": "scattercarpet"
           }
          ],
          "scattergeo": [
           {
            "marker": {
             "colorbar": {
              "outlinewidth": 0,
              "tickcolor": "rgb(237,237,237)",
              "ticklen": 6,
              "ticks": "inside"
             }
            },
            "type": "scattergeo"
           }
          ],
          "scattergl": [
           {
            "marker": {
             "colorbar": {
              "outlinewidth": 0,
              "tickcolor": "rgb(237,237,237)",
              "ticklen": 6,
              "ticks": "inside"
             }
            },
            "type": "scattergl"
           }
          ],
          "scattermapbox": [
           {
            "marker": {
             "colorbar": {
              "outlinewidth": 0,
              "tickcolor": "rgb(237,237,237)",
              "ticklen": 6,
              "ticks": "inside"
             }
            },
            "type": "scattermapbox"
           }
          ],
          "scatterpolar": [
           {
            "marker": {
             "colorbar": {
              "outlinewidth": 0,
              "tickcolor": "rgb(237,237,237)",
              "ticklen": 6,
              "ticks": "inside"
             }
            },
            "type": "scatterpolar"
           }
          ],
          "scatterpolargl": [
           {
            "marker": {
             "colorbar": {
              "outlinewidth": 0,
              "tickcolor": "rgb(237,237,237)",
              "ticklen": 6,
              "ticks": "inside"
             }
            },
            "type": "scatterpolargl"
           }
          ],
          "scatterternary": [
           {
            "marker": {
             "colorbar": {
              "outlinewidth": 0,
              "tickcolor": "rgb(237,237,237)",
              "ticklen": 6,
              "ticks": "inside"
             }
            },
            "type": "scatterternary"
           }
          ],
          "surface": [
           {
            "colorbar": {
             "outlinewidth": 0,
             "tickcolor": "rgb(237,237,237)",
             "ticklen": 6,
             "ticks": "inside"
            },
            "colorscale": [
             [
              0,
              "rgb(20,44,66)"
             ],
             [
              1,
              "rgb(90,179,244)"
             ]
            ],
            "type": "surface"
           }
          ],
          "table": [
           {
            "cells": {
             "fill": {
              "color": "rgb(237,237,237)"
             },
             "line": {
              "color": "white"
             }
            },
            "header": {
             "fill": {
              "color": "rgb(217,217,217)"
             },
             "line": {
              "color": "white"
             }
            },
            "type": "table"
           }
          ]
         },
         "layout": {
          "annotationdefaults": {
           "arrowhead": 0,
           "arrowwidth": 1
          },
          "autotypenumbers": "strict",
          "coloraxis": {
           "colorbar": {
            "outlinewidth": 0,
            "tickcolor": "rgb(237,237,237)",
            "ticklen": 6,
            "ticks": "inside"
           }
          },
          "colorscale": {
           "sequential": [
            [
             0,
             "rgb(20,44,66)"
            ],
            [
             1,
             "rgb(90,179,244)"
            ]
           ],
           "sequentialminus": [
            [
             0,
             "rgb(20,44,66)"
            ],
            [
             1,
             "rgb(90,179,244)"
            ]
           ]
          },
          "colorway": [
           "#F8766D",
           "#A3A500",
           "#00BF7D",
           "#00B0F6",
           "#E76BF3"
          ],
          "font": {
           "color": "rgb(51,51,51)"
          },
          "geo": {
           "bgcolor": "white",
           "lakecolor": "white",
           "landcolor": "rgb(237,237,237)",
           "showlakes": true,
           "showland": true,
           "subunitcolor": "white"
          },
          "hoverlabel": {
           "align": "left"
          },
          "hovermode": "closest",
          "paper_bgcolor": "white",
          "plot_bgcolor": "rgb(237,237,237)",
          "polar": {
           "angularaxis": {
            "gridcolor": "white",
            "linecolor": "white",
            "showgrid": true,
            "tickcolor": "rgb(51,51,51)",
            "ticks": "outside"
           },
           "bgcolor": "rgb(237,237,237)",
           "radialaxis": {
            "gridcolor": "white",
            "linecolor": "white",
            "showgrid": true,
            "tickcolor": "rgb(51,51,51)",
            "ticks": "outside"
           }
          },
          "scene": {
           "xaxis": {
            "backgroundcolor": "rgb(237,237,237)",
            "gridcolor": "white",
            "gridwidth": 2,
            "linecolor": "white",
            "showbackground": true,
            "showgrid": true,
            "tickcolor": "rgb(51,51,51)",
            "ticks": "outside",
            "zerolinecolor": "white"
           },
           "yaxis": {
            "backgroundcolor": "rgb(237,237,237)",
            "gridcolor": "white",
            "gridwidth": 2,
            "linecolor": "white",
            "showbackground": true,
            "showgrid": true,
            "tickcolor": "rgb(51,51,51)",
            "ticks": "outside",
            "zerolinecolor": "white"
           },
           "zaxis": {
            "backgroundcolor": "rgb(237,237,237)",
            "gridcolor": "white",
            "gridwidth": 2,
            "linecolor": "white",
            "showbackground": true,
            "showgrid": true,
            "tickcolor": "rgb(51,51,51)",
            "ticks": "outside",
            "zerolinecolor": "white"
           }
          },
          "shapedefaults": {
           "fillcolor": "black",
           "line": {
            "width": 0
           },
           "opacity": 0.3
          },
          "ternary": {
           "aaxis": {
            "gridcolor": "white",
            "linecolor": "white",
            "showgrid": true,
            "tickcolor": "rgb(51,51,51)",
            "ticks": "outside"
           },
           "baxis": {
            "gridcolor": "white",
            "linecolor": "white",
            "showgrid": true,
            "tickcolor": "rgb(51,51,51)",
            "ticks": "outside"
           },
           "bgcolor": "rgb(237,237,237)",
           "caxis": {
            "gridcolor": "white",
            "linecolor": "white",
            "showgrid": true,
            "tickcolor": "rgb(51,51,51)",
            "ticks": "outside"
           }
          },
          "xaxis": {
           "automargin": true,
           "gridcolor": "white",
           "linecolor": "white",
           "showgrid": true,
           "tickcolor": "rgb(51,51,51)",
           "ticks": "outside",
           "title": {
            "standoff": 15
           },
           "zerolinecolor": "white"
          },
          "yaxis": {
           "automargin": true,
           "gridcolor": "white",
           "linecolor": "white",
           "showgrid": true,
           "tickcolor": "rgb(51,51,51)",
           "ticks": "outside",
           "title": {
            "standoff": 15
           },
           "zerolinecolor": "white"
          }
         }
        },
        "title": {
         "text": "ASIGNACIÓN"
        },
        "width": 1200,
        "xaxis": {
         "side": "top",
         "title": {}
        },
        "yaxis": {
         "autorange": "reversed",
         "title": {
          "text": "Clientes"
         }
        }
       }
      }
     },
     "metadata": {},
     "output_type": "display_data"
    }
   ],
   "source": [
    "fig = go.Figure()\n",
    "\n",
    "fig.add_trace(\n",
    "    go.Heatmap(\n",
    "        z=df_resultados.values,\n",
    "        x=df_resultados.columns.map(\n",
    "            lambda i: f\"P{i:02d} - {PLANTAS_ABIERTAS[i]['CAPACIDAD_PLANTA']}<br />CA: {len(PLANTAS_ABIERTAS[i]['CLIENTES_ATENDIDOS'])}<br />{PLANTAS_ABIERTAS[i]['CAPACIDAD_PLANTA'] / PLANTAS_ABIERTAS[i]['CAPACIDAD_PLANTA']:.0%}\"\n",
    "        ),\n",
    "        y=df_resultados.index.map(lambda i: f\"C{i:02d}\"),\n",
    "        colorscale=\"greens\",\n",
    "        showscale=False,\n",
    "    )\n",
    ")\n",
    "\n",
    "# Añadiendo anotaciones donde el valor es 1\n",
    "annotations = []\n",
    "for i in range(df_resultados.shape[0]):\n",
    "    for j in range(df_resultados.shape[1]):\n",
    "        if df_resultados.iat[i, j] == 1:\n",
    "            c = df_resultados.index[i]\n",
    "            annotations.append(\n",
    "                go.layout.Annotation(\n",
    "                    x=j,\n",
    "                    y=i,\n",
    "                    text=f\"C{c:02d} - D: {df_demanda.loc[c, 'Demanda']}\",\n",
    "                    showarrow=False,\n",
    "                    font=dict(color=\"white\", size=10),\n",
    "                    align=\"center\",\n",
    "                )\n",
    "            )\n",
    "\n",
    "# Actualizar el diseño de la figura\n",
    "fig.update_layout(\n",
    "    title=\"ASIGNACIÓN\",\n",
    "    height=1000,\n",
    "    width=1200,\n",
    "    template=\"ggplot2\",\n",
    "    annotations=annotations,\n",
    "    xaxis=dict(title=None, side=\"top\"),\n",
    "    yaxis=dict(title=\"Clientes\", autorange=\"reversed\"),\n",
    "    margin=dict(t=150),\n",
    ")\n",
    "\n",
    "fig.show()"
   ]
  }
 ],
 "metadata": {
  "kernelspec": {
   "display_name": "Python 3.7.11 ('base')",
   "language": "python",
   "name": "python3"
  },
  "language_info": {
   "codemirror_mode": {
    "name": "ipython",
    "version": 3
   },
   "file_extension": ".py",
   "mimetype": "text/x-python",
   "name": "python",
   "nbconvert_exporter": "python",
   "pygments_lexer": "ipython3",
   "version": "3.10.10"
  },
  "orig_nbformat": 4,
  "vscode": {
   "interpreter": {
    "hash": "d90077ce7125d20909e99e912648307be4f32fccb58a5fb76bf45800dc67acda"
   }
  }
 },
 "nbformat": 4,
 "nbformat_minor": 2
}
