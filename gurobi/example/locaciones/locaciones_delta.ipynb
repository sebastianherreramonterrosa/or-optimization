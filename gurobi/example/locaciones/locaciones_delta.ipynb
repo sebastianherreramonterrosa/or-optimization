{
 "cells": [
  {
   "cell_type": "code",
   "execution_count": 1,
   "metadata": {},
   "outputs": [],
   "source": [
    "import gurobipy as gp\n",
    "from gurobipy import GRB\n",
    "import plotly.express as px\n",
    "import pandas"
   ]
  },
  {
   "cell_type": "code",
   "execution_count": 2,
   "metadata": {},
   "outputs": [],
   "source": [
    "df_costo_cliente_planta = pandas.read_excel(\"./data.xlsx\", sheet_name=\"COSTO CLIENTE-PLANTA\", index_col=[0, 1])\n",
    "df_demanda = pandas.read_excel(\"./data.xlsx\", sheet_name=\"DEMANDAS CLIENTES\", index_col=0)\n",
    "df_plantas = pandas.read_excel(\"./data.xlsx\", sheet_name=\"COSTO Y CAPACIDAD PLANTAS\", index_col=0)"
   ]
  },
  {
   "cell_type": "code",
   "execution_count": 3,
   "metadata": {},
   "outputs": [],
   "source": [
    "PLANTAS = df_plantas.index.to_list()\n",
    "CLIENTES = df_demanda.index.to_list()"
   ]
  },
  {
   "cell_type": "code",
   "execution_count": 4,
   "metadata": {},
   "outputs": [],
   "source": [
    "def model_plantas_clientes(min_capacidad: float, tiempo_ejecucion_sec: int) -> float:\n",
    "\n",
    "    model = gp.Model()\n",
    "\n",
    "    ## Variables\n",
    "    x = model.addVars(PLANTAS, vtype=GRB.BINARY, name=\"x\")\n",
    "    y = model.addVars([(planta, cliente) for planta in PLANTAS for cliente in CLIENTES], vtype=GRB.BINARY, name=\"y\")\n",
    "\n",
    "    ## Función Objetivo\n",
    "    costo_abrir_plantas = gp.quicksum(x[planta] * df_plantas.loc[planta, \"Costo de abrir\"] for planta in PLANTAS)\n",
    "    costo_cliente_planta = gp.quicksum(y[(planta, cliente)] * df_costo_cliente_planta.loc[(planta, cliente), \"Costo de asignar un cliente a un planta\"] for planta in PLANTAS for cliente in CLIENTES)\n",
    "    model.setObjective(costo_abrir_plantas + costo_cliente_planta, GRB.MINIMIZE)\n",
    "\n",
    "    ## Restricciones\n",
    "    for planta in PLANTAS:\n",
    "        for cliente in CLIENTES:\n",
    "            model.addConstr(y[(planta, cliente)] <= x[planta], name=f\"ct1_{planta}_{cliente}\")\n",
    "\n",
    "    for planta in PLANTAS:\n",
    "        model.addConstr(gp.quicksum(y[(planta, cliente)] * df_demanda.loc[cliente, \"Demanda\"] for cliente in CLIENTES) <= df_plantas.loc[planta, \"Capacidad máxima\"], name=f\"ct2_{planta}\")\n",
    "\n",
    "    for cliente in CLIENTES:\n",
    "        model.addConstr(gp.quicksum(y[(planta, cliente)] for planta in PLANTAS) == 1, name=f\"ct3_{cliente}\")\n",
    "\n",
    "    for planta in PLANTAS:\n",
    "        model.addConstr(gp.quicksum(y[(planta, cliente)] for cliente in CLIENTES) >= 3 * x[planta], name=f\"ct4_{planta}\")\n",
    "\n",
    "    for planta in PLANTAS:\n",
    "        model.addConstr(\n",
    "            gp.quicksum(y[(planta, cliente)] * df_demanda.loc[cliente, \"Demanda\"] for cliente in CLIENTES) >= min_capacidad * df_plantas.loc[planta, \"Capacidad máxima\"] * x[planta],\n",
    "            name=f\"ct5_{planta}\",\n",
    "        )\n",
    "\n",
    "    ## Resolver Modelo\n",
    "    model.setParam(\"TimeLimit\", tiempo_ejecucion_sec)\n",
    "    model.optimize()\n",
    "\n",
    "    return round(model.ObjVal, 2)"
   ]
  },
  {
   "cell_type": "code",
   "execution_count": 5,
   "metadata": {},
   "outputs": [
    {
     "name": "stdout",
     "output_type": "stream",
     "text": [
      "Set parameter Username\n",
      "Academic license - for non-commercial use only - expires 2025-01-28\n",
      "Set parameter TimeLimit to value 200\n",
      "Gurobi Optimizer version 11.0.1 build v11.0.1rc0 (win64 - Windows 11.0 (22631.2))\n",
      "\n",
      "CPU model: Intel(R) Core(TM) i7-9750H CPU @ 2.60GHz, instruction set [SSE2|AVX|AVX2]\n",
      "Thread count: 6 physical cores, 12 logical processors, using up to 12 threads\n",
      "\n",
      "Optimize a model with 1110 rows, 1020 columns and 6040 nonzeros\n",
      "Model fingerprint: 0x777e123b\n",
      "Variable types: 0 continuous, 1020 integer (1020 binary)\n",
      "Coefficient statistics:\n",
      "  Matrix range     [1e+00, 4e+01]\n",
      "  Objective range  [1e+00, 5e+03]\n",
      "  Bounds range     [1e+00, 1e+00]\n",
      "  RHS range        [1e+00, 1e+02]\n",
      "Presolve removed 226 rows and 74 columns\n",
      "Presolve time: 0.13s\n",
      "Presolved: 884 rows, 946 columns, 6131 nonzeros\n",
      "Variable types: 0 continuous, 946 integer (946 binary)\n",
      "\n",
      "Root relaxation: objective 6.319329e+03, 1108 iterations, 0.07 seconds (0.04 work units)\n",
      "\n",
      "    Nodes    |    Current Node    |     Objective Bounds      |     Work\n",
      " Expl Unexpl |  Obj  Depth IntInf | Incumbent    BestBd   Gap | It/Node Time\n",
      "\n",
      "     0     0 6319.32900    0  509          - 6319.32900      -     -    0s\n",
      "H    0     0                    52903.000000 6319.32900  88.1%     -    0s\n",
      "H    0     0                    43208.000000 6319.32900  85.4%     -    0s\n",
      "H    0     0                    42980.000000 6319.32900  85.3%     -    0s\n",
      "     0     0 10202.8755    0  400 42980.0000 10202.8755  76.3%     -    0s\n",
      "H    0     0                    42903.000000 10202.8755  76.2%     -    0s\n",
      "     0     0 10478.0193    0  381 42903.0000 10478.0193  75.6%     -    0s\n",
      "     0     0 25241.6875    0  188 42903.0000 25241.6875  41.2%     -    1s\n",
      "     0     0 25266.0307    0  199 42903.0000 25266.0307  41.1%     -    1s\n",
      "     0     0 25272.6180    0  198 42903.0000 25272.6180  41.1%     -    1s\n",
      "     0     0 32030.4315    0  145 42903.0000 32030.4315  25.3%     -    1s\n",
      "H    0     0                    42810.000000 32030.4315  25.2%     -    1s\n",
      "H    0     0                    42578.000000 32030.4315  24.8%     -    1s\n",
      "     0     0 32116.4735    0  153 42578.0000 32116.4735  24.6%     -    1s\n",
      "     0     0 32116.6463    0  154 42578.0000 32116.6463  24.6%     -    1s\n",
      "H    0     0                    42531.000000 32116.6463  24.5%     -    1s\n",
      "H    0     0                    42486.000000 33903.4582  20.2%     -    1s\n",
      "     0     0 33903.4582    0  175 42486.0000 33903.4582  20.2%     -    1s\n",
      "     0     0 34566.8501    0  167 42486.0000 34566.8501  18.6%     -    1s\n",
      "     0     0 34573.2234    0  160 42486.0000 34573.2234  18.6%     -    1s\n",
      "H    0     0                    42422.000000 35229.8653  17.0%     -    2s\n",
      "H    0     0                    42354.000000 35229.8653  16.8%     -    2s\n",
      "     0     0 35229.8653    0  164 42354.0000 35229.8653  16.8%     -    2s\n",
      "H    0     0                    42352.000000 35229.8653  16.8%     -    2s\n",
      "H    0     0                    42113.000000 35262.2262  16.3%     -    2s\n",
      "     0     0 35262.2262    0  168 42113.0000 35262.2262  16.3%     -    2s\n",
      "H    0     0                    42054.000000 35269.0090  16.1%     -    2s\n",
      "     0     0 35269.0090    0  168 42054.0000 35269.0090  16.1%     -    2s\n",
      "     0     0 35514.0060    0  181 42054.0000 35514.0060  15.6%     -    2s\n",
      "H    0     0                    41995.000000 35514.0060  15.4%     -    2s\n",
      "     0     0 35528.9496    0  182 41995.0000 35528.9496  15.4%     -    2s\n",
      "     0     0 35747.3210    0  158 41995.0000 35747.3210  14.9%     -    2s\n",
      "     0     0 35758.6901    0  165 41995.0000 35758.6901  14.9%     -    2s\n",
      "     0     0 35872.3526    0  165 41995.0000 35872.3526  14.6%     -    2s\n",
      "     0     0 36145.4425    0  165 41995.0000 36145.4425  13.9%     -    2s\n",
      "H    0     0                    41864.000000 36145.4425  13.7%     -    4s\n",
      "H    0     2                    41847.000000 36145.4425  13.6%     -    4s\n",
      "     0     2 36145.4425    0  165 41847.0000 36145.4425  13.6%     -    4s\n",
      "H   31    38                    41840.000000 38573.7927  7.81%   213    4s\n",
      "H   70    71                    41834.000000 38573.7927  7.79%   178    4s\n",
      "H   72    71                    41827.000000 38573.7927  7.78%   177    4s\n",
      "   125   112 41276.6671   14  107 41827.0000 38573.7927  7.78%   142    5s\n",
      "H  833   738                    41705.000000 38884.9564  6.76%  43.6    5s\n",
      "H  919   802                    41699.000000 38884.9564  6.75%  41.4    6s\n",
      "H  920   797                    41629.000000 38884.9564  6.59%  41.4    6s\n",
      "H 1488  1201                    41619.000000 39457.0259  5.19%  35.6    8s\n",
      "H 1490  1143                    41611.000000 39478.3512  5.13%  35.6    8s\n",
      "H 1492  1087                    41565.000000 39521.1891  4.92%  35.5    9s\n",
      "  1511  1113 39538.5980   17  117 41565.0000 39537.5507  4.88%  36.3   10s\n",
      "  3327  2390 39751.3290   84   29 41565.0000 39538.7753  4.87%  33.4   15s\n",
      " 11290  8744 39620.9277   33   61 41565.0000 39543.1600  4.86%  23.4   20s\n",
      "H15625 12743                    41347.000000 39545.2865  4.36%  21.8   22s\n",
      "H16954 13407                    41283.000000 39545.5500  4.21%  21.4   23s\n",
      "H16956 13374                    41258.000000 39545.5500  4.15%  21.4   23s\n",
      "H16957 13153                    41115.000000 39545.5500  3.82%  21.4   23s\n",
      "H17019 13080                    41074.000000 39545.5500  3.72%  21.3   24s\n",
      "H17020 13023                    41042.000000 39545.5500  3.65%  21.3   24s\n",
      "H17022 12799                    40955.000000 39545.5500  3.44%  21.3   24s\n",
      "H17843 13503                    40944.000000 39545.5500  3.42%  21.2   25s\n",
      "H17890 12865                    40882.000000 39550.4752  3.26%  21.3   28s\n",
      "H17923 12253                    40877.000000 39551.0202  3.24%  21.4   28s\n",
      "H17975 11667                    40859.000000 39552.2109  3.20%  21.5   29s\n",
      "H18000 11108                    40813.000000 39552.6939  3.09%  21.5   29s\n",
      " 18046 11144 39565.6747   34   82 40813.0000 39552.6939  3.09%  21.6   30s\n",
      "H18049 10593                    40795.000000 39552.6939  3.05%  21.6   30s\n",
      "H18058 10079                    40793.000000 39552.6939  3.04%  21.6   30s\n",
      "H18068  9578                    40768.000000 39553.0560  2.98%  21.6   30s\n",
      " 20530 10995 infeasible  131      40768.0000 39553.2344  2.98%  22.7   35s\n",
      " 26821 14121 39575.8669   42   85 40768.0000 39556.9482  2.97%  21.6   43s\n",
      "H26825 13067                    40056.000000 39556.9482  1.25%  21.6   43s\n",
      "H26831 12139                    39931.000000 39556.9482  0.94%  21.6   43s\n",
      " 29363 14320 39573.5984   36   99 39931.0000 39557.9267  0.93%  21.3   45s\n",
      " 37097 17680 39571.4455   43   84 39931.0000 39562.1471  0.92%  20.1   50s\n",
      " 37425 17899 39617.7384   55   52 39931.0000 39562.1471  0.92%  20.3   55s\n",
      " 44802 22258 39703.8858   89   77 39931.0000 39569.0857  0.91%  20.3   60s\n",
      " 59264 31170 39673.6305   69   50 39931.0000 39572.2685  0.90%  19.5   65s\n",
      " 73796 37509 39900.6065  154  165 39931.0000 39573.6221  0.89%  18.8   75s\n",
      " 73838 37550 39577.1164   56  104 39931.0000 39573.6221  0.89%  18.8   80s\n",
      " 75255 38528 39714.9393   98   56 39931.0000 39573.6221  0.89%  19.1   85s\n",
      "*75363 36526             125    39830.000000 39573.6221  0.64%  19.2   85s\n",
      "H75606 34800                    39805.000000 39573.6221  0.58%  19.2   85s\n",
      "H75710 32808                    39731.000000 39573.6221  0.40%  19.2   85s\n",
      " 82472 36467 39637.0571   81   72 39731.0000 39575.8434  0.39%  20.0   90s\n",
      " 89635 39669 39678.4062   92   73 39731.0000 39577.9424  0.39%  20.3   95s\n",
      " 93030 40933 39610.2068   72  131 39731.0000 39578.6948  0.38%  20.5  100s\n",
      "H93100 38944                    39718.000000 39578.6948  0.35%  20.5  101s\n",
      "H93109 36996                    39695.000000 39578.6948  0.29%  20.5  101s\n",
      " 93143 37029 39578.6948   72   79 39695.0000 39578.6948  0.29%  20.5  105s\n",
      "H93156 35190                    39691.000000 39578.6948  0.28%  20.5  105s\n",
      " 96482 36790 39596.9417   75   89 39691.0000 39578.6948  0.28%  21.0  110s\n",
      " 104404 40508 39584.2233   75   89 39691.0000 39578.6948  0.28%  21.5  115s\n",
      " 113079 43920 39685.3397   97   52 39691.0000 39578.9813  0.28%  21.9  120s\n",
      " 124301 48867 39601.6178   83   92 39691.0000 39580.6755  0.28%  22.4  125s\n",
      " 134753 52967 39637.2453   86   90 39691.0000 39581.9190  0.27%  22.6  130s\n",
      " 145107 56758 39683.7833  113   61 39691.0000 39582.7791  0.27%  23.0  135s\n",
      " 155130 60496 39598.6802   81   88 39691.0000 39583.4881  0.27%  23.2  140s\n",
      " 167423 65254 39644.0589   83   64 39691.0000 39584.3156  0.27%  23.4  145s\n",
      " 177160 68769 39658.6359   96   59 39691.0000 39584.8509  0.27%  23.6  150s\n",
      " 188265 72783 39624.4015   83   71 39691.0000 39585.4418  0.27%  23.8  155s\n",
      " 199365 77258 39620.0163   85   81 39691.0000 39586.0023  0.26%  23.9  160s\n",
      " 210230 84843     cutoff  101      39691.0000 39586.4674  0.26%  24.0  165s\n",
      " 224502 94607 39598.4298   80   79 39691.0000 39587.0463  0.26%  24.2  170s\n",
      " 239117 104246 39663.3396   88   63 39691.0000 39587.5213  0.26%  24.5  175s\n",
      " 253844 114354 39605.8801   81  102 39691.0000 39588.0724  0.26%  24.6  180s\n",
      " 266985 123081 39622.1459   86   87 39691.0000 39588.4534  0.26%  24.7  185s\n",
      "*278072 124835             130    39674.000000 39588.7721  0.21%  24.8  189s\n",
      " 280066 125726     cutoff  115      39674.0000 39588.8161  0.21%  24.8  190s\n",
      "H280067 107482                    39659.000000 39588.8161  0.18%  24.8  190s\n",
      " 290868 113751 39598.6620   79   71 39659.0000 39589.2290  0.18%  24.9  195s\n",
      " 302123 119948     cutoff   89      39659.0000 39589.6083  0.17%  25.0  200s\n",
      "\n",
      "Cutting planes:\n",
      "  Gomory: 3\n",
      "  Lift-and-project: 2\n",
      "  Cover: 19\n",
      "  MIR: 67\n",
      "  Mixing: 1\n",
      "  StrongCG: 33\n",
      "  Flow cover: 13\n",
      "  Zero half: 9\n",
      "\n",
      "Explored 303621 nodes (7607915 simplex iterations) in 200.05 seconds (69.69 work units)\n",
      "Thread count was 12 (of 12 available processors)\n",
      "\n",
      "Solution count 10: 39659 39674 39691 ... 40056\n",
      "\n",
      "Time limit reached\n",
      "Best objective 3.965900000000e+04, best bound 3.959000000000e+04, gap 0.1740%\n",
      "Set parameter TimeLimit to value 200\n",
      "Gurobi Optimizer version 11.0.1 build v11.0.1rc0 (win64 - Windows 11.0 (22631.2))\n",
      "\n",
      "CPU model: Intel(R) Core(TM) i7-9750H CPU @ 2.60GHz, instruction set [SSE2|AVX|AVX2]\n",
      "Thread count: 6 physical cores, 12 logical processors, using up to 12 threads\n",
      "\n",
      "Optimize a model with 1110 rows, 1020 columns and 6040 nonzeros\n",
      "Model fingerprint: 0xc2f3bad8\n",
      "Variable types: 0 continuous, 1020 integer (1020 binary)\n",
      "Coefficient statistics:\n",
      "  Matrix range     [1e+00, 4e+01]\n",
      "  Objective range  [1e+00, 5e+03]\n",
      "  Bounds range     [1e+00, 1e+00]\n",
      "  RHS range        [1e+00, 1e+02]\n",
      "Presolve removed 222 rows and 74 columns\n",
      "Presolve time: 0.08s\n",
      "Presolved: 888 rows, 946 columns, 6355 nonzeros\n",
      "Variable types: 0 continuous, 946 integer (946 binary)\n",
      "\n",
      "Root relaxation: objective 6.319329e+03, 976 iterations, 0.04 seconds (0.03 work units)\n",
      "\n",
      "    Nodes    |    Current Node    |     Objective Bounds      |     Work\n",
      " Expl Unexpl |  Obj  Depth IntInf | Incumbent    BestBd   Gap | It/Node Time\n",
      "\n",
      "     0     0 6319.32900    0  509          - 6319.32900      -     -    0s\n",
      "H    0     0                    53313.000000 6319.32900  88.1%     -    0s\n",
      "H    0     0                    43411.000000 6319.32900  85.4%     -    0s\n",
      "H    0     0                    42982.000000 6319.32900  85.3%     -    0s\n",
      "     0     0 10202.8755    0  393 42982.0000 10202.8755  76.3%     -    1s\n",
      "     0     0 10487.4225    0  387 42982.0000 10487.4225  75.6%     -    1s\n",
      "H    0     0                    42893.000000 21414.5907  50.1%     -    2s\n",
      "     0     0 22056.2423    0  222 42893.0000 22056.2423  48.6%     -    2s\n",
      "     0     0 22177.5142    0  200 42893.0000 22177.5142  48.3%     -    2s\n",
      "     0     0 29402.2275    0  171 42893.0000 29402.2275  31.5%     -    2s\n",
      "H    0     0                    42859.000000 29402.2275  31.4%     -    2s\n",
      "     0     0 31503.7733    0  166 42859.0000 31503.7733  26.5%     -    2s\n",
      "H    0     0                    42675.000000 31503.7733  26.2%     -    3s\n",
      "H    0     0                    42571.000000 31503.7733  26.0%     -    3s\n",
      "H    0     0                    42332.000000 31503.7733  25.6%     -    3s\n",
      "H    0     0                    42125.000000 33778.6505  19.8%     -    3s\n",
      "H    0     0                    42091.000000 33778.6505  19.7%     -    3s\n",
      "     0     0 33778.6505    0  158 42091.0000 33778.6505  19.7%     -    3s\n",
      "     0     0 34053.7566    0  152 42091.0000 34053.7566  19.1%     -    3s\n",
      "H    0     0                    42070.000000 34056.2836  19.0%     -    3s\n",
      "     0     0 34056.2836    0  155 42070.0000 34056.2836  19.0%     -    3s\n",
      "     0     0 34600.9398    0  161 42070.0000 34600.9398  17.8%     -    3s\n",
      "     0     0 34610.9986    0  166 42070.0000 34610.9986  17.7%     -    3s\n",
      "     0     0 34914.8347    0  163 42070.0000 34914.8347  17.0%     -    3s\n",
      "     0     0 34924.6022    0  164 42070.0000 34924.6022  17.0%     -    3s\n",
      "     0     0 35325.5922    0  166 42070.0000 35325.5922  16.0%     -    4s\n",
      "     0     0 35366.4183    0  161 42070.0000 35366.4183  15.9%     -    4s\n",
      "     0     0 35367.5381    0  163 42070.0000 35367.5381  15.9%     -    4s\n",
      "     0     0 36053.1983    0  166 42070.0000 36053.1983  14.3%     -    4s\n",
      "     0     0 36105.2040    0  167 42070.0000 36105.2040  14.2%     -    4s\n",
      "     0     0 36109.8643    0  165 42070.0000 36109.8643  14.2%     -    4s\n",
      "     0     0 36252.5237    0  178 42070.0000 36252.5237  13.8%     -    4s\n",
      "     0     0 36265.7119    0  178 42070.0000 36265.7119  13.8%     -    4s\n",
      "H    0     0                    41950.000000 36265.8233  13.5%     -    5s\n",
      "     0     2 36265.8233    0  178 41950.0000 36265.8233  13.5%     -    5s\n",
      "H   31    38                    41943.000000 37518.9418  10.5%   294    6s\n",
      "H   32    38                    41859.000000 37518.9418  10.4%   291    6s\n",
      "H   34    38                    41841.000000 37520.2979  10.3%   285    6s\n",
      "H   36    38                    41701.000000 37520.2979  10.0%   285    6s\n",
      "H   64    65                    41664.000000 38013.9613  8.76%   277    6s\n",
      "H   66    65                    41654.000000 38013.9613  8.74%   274    6s\n",
      "H 1052   947                    41640.000000 38107.7708  8.48%  45.5    8s\n",
      "H 1056   945                    41636.000000 38132.1617  8.42%  46.2    8s\n",
      "H 1058   935                    41574.000000 38132.1617  8.28%  46.5   10s\n",
      "H 1060   928                    41554.000000 38132.1617  8.23%  47.1   10s\n",
      "H 1531  1211                    41534.000000 38132.1617  8.19%  51.9   12s\n",
      "H 1534  1152                    41526.000000 39447.6565  5.00%  51.8   13s\n",
      "  1543  1158 40990.5602   12  121 41526.0000 39533.9345  4.80%  51.5   15s\n",
      "H 1575  1130                    41519.000000 39545.1916  4.75%  53.7   16s\n",
      "H 1620  1107                    41518.000000 39551.4274  4.74%  54.1   17s\n",
      "H 1625  1053                    41486.000000 39551.4274  4.66%  54.1   17s\n",
      "  2730  1875 39618.3985   51   69 41486.0000 39551.4274  4.66%  49.7   20s\n",
      "H 2944  1414                    39699.000000 39551.4274  0.37%  48.6   22s\n",
      "  3772  1800 39671.6786   60   75 39699.0000 39555.2204  0.36%  47.7   25s\n",
      "  7810  4800 39596.7373   21  119 39699.0000 39568.3759  0.33%  43.4   30s\n",
      " 11861  7917 39609.2826   34   82 39699.0000 39576.7829  0.31%  42.1   35s\n",
      " 16351 10518 39634.6786   26   94 39699.0000 39580.9976  0.30%  41.9   40s\n",
      "H18070 11032                    39671.000000 39582.4066  0.22%  41.8   45s\n",
      " 19229 11631 39601.4661   41   95 39671.0000 39582.4066  0.22%  42.8   50s\n",
      "H19737 10780                    39629.000000 39582.4066  0.12%  42.7   50s\n",
      "*21841  9687              44    39611.000000 39585.4534  0.06%  42.8   52s\n",
      "H22357  8868                    39608.000000 39587.8247  0.05%  42.9   52s\n",
      " 22586  8753     cutoff   47      39608.0000 39589.5765  0.05%  42.9   57s\n",
      "*24632  6855              36    39605.000000 39598.1716  0.02%  42.9   59s\n",
      "\n",
      "Cutting planes:\n",
      "  Gomory: 7\n",
      "  Lift-and-project: 6\n",
      "  Cover: 31\n",
      "  MIR: 134\n",
      "  StrongCG: 70\n",
      "  Flow cover: 8\n",
      "  GUB cover: 2\n",
      "  Zero half: 13\n",
      "\n",
      "Explored 25013 nodes (1079041 simplex iterations) in 59.48 seconds (22.16 work units)\n",
      "Thread count was 12 (of 12 available processors)\n",
      "\n",
      "Solution count 10: 39605 39608 39611 ... 41526\n",
      "\n",
      "Optimal solution found (tolerance 1.00e-04)\n",
      "Best objective 3.960500000000e+04, best bound 3.960300000000e+04, gap 0.0050%\n",
      "Set parameter TimeLimit to value 200\n",
      "Gurobi Optimizer version 11.0.1 build v11.0.1rc0 (win64 - Windows 11.0 (22631.2))\n",
      "\n",
      "CPU model: Intel(R) Core(TM) i7-9750H CPU @ 2.60GHz, instruction set [SSE2|AVX|AVX2]\n",
      "Thread count: 6 physical cores, 12 logical processors, using up to 12 threads\n",
      "\n",
      "Optimize a model with 1110 rows, 1020 columns and 6040 nonzeros\n",
      "Model fingerprint: 0xecba9530\n",
      "Variable types: 0 continuous, 1020 integer (1020 binary)\n",
      "Coefficient statistics:\n",
      "  Matrix range     [1e+00, 4e+01]\n",
      "  Objective range  [1e+00, 5e+03]\n",
      "  Bounds range     [1e+00, 1e+00]\n",
      "  RHS range        [1e+00, 1e+02]\n",
      "Found heuristic solution: objective 53903.000000\n",
      "Presolve removed 220 rows and 74 columns\n",
      "Presolve time: 0.07s\n",
      "Presolved: 890 rows, 946 columns, 6411 nonzeros\n",
      "Variable types: 0 continuous, 946 integer (946 binary)\n",
      "Found heuristic solution: objective 53654.000000\n",
      "\n",
      "Root relaxation: objective 6.319329e+03, 1130 iterations, 0.06 seconds (0.05 work units)\n",
      "\n",
      "    Nodes    |    Current Node    |     Objective Bounds      |     Work\n",
      " Expl Unexpl |  Obj  Depth IntInf | Incumbent    BestBd   Gap | It/Node Time\n",
      "\n",
      "     0     0 6319.32900    0  509 53654.0000 6319.32900  88.2%     -    0s\n",
      "H    0     0                    49550.000000 6319.32900  87.2%     -    0s\n",
      "H    0     0                    43411.000000 6319.32900  85.4%     -    0s\n",
      "H    0     0                    43112.000000 6319.32900  85.3%     -    0s\n",
      "H    0     0                    43035.000000 6932.56169  83.9%     -    0s\n",
      "     0     0 8838.46877    0  393 43035.0000 8838.46877  79.5%     -    0s\n",
      "     0     0 10015.6626    0  387 43035.0000 10015.6626  76.7%     -    0s\n",
      "H    0     0                    42780.000000 21361.8333  50.1%     -    1s\n",
      "     0     0 21386.8858    0  212 42780.0000 21386.8858  50.0%     -    1s\n",
      "H    0     0                    42764.000000 21386.8858  50.0%     -    1s\n",
      "H    0     0                    42635.000000 21386.8858  49.8%     -    1s\n",
      "     0     0 22063.1029    0  202 42635.0000 22063.1029  48.3%     -    1s\n",
      "     0     0 28823.1277    0  169 42635.0000 28823.1277  32.4%     -    1s\n",
      "     0     0 29700.8763    0  164 42635.0000 29700.8763  30.3%     -    1s\n",
      "     0     0 29701.1566    0  164 42635.0000 29701.1566  30.3%     -    1s\n",
      "H    0     0                    42624.000000 31543.5892  26.0%     -    1s\n",
      "H    0     0                    42193.000000 31543.5892  25.2%     -    1s\n",
      "H    0     0                    41997.000000 31543.5892  24.9%     -    1s\n",
      "H    0     0                    41865.000000 31543.5892  24.7%     -    1s\n",
      "     0     0 31543.5892    0  162 41865.0000 31543.5892  24.7%     -    1s\n",
      "H    0     0                    41845.000000 31543.5892  24.6%     -    1s\n",
      "     0     0 32135.2506    0  159 41845.0000 32135.2506  23.2%     -    1s\n",
      "     0     0 32139.0491    0  160 41845.0000 32139.0491  23.2%     -    1s\n",
      "     0     0 32871.8663    0  154 41845.0000 32871.8663  21.4%     -    2s\n",
      "     0     0 32888.8535    0  152 41845.0000 32888.8535  21.4%     -    2s\n",
      "     0     0 32889.7853    0  152 41845.0000 32889.7853  21.4%     -    2s\n",
      "     0     0 33799.4736    0  153 41845.0000 33799.4736  19.2%     -    2s\n",
      "H    0     0                    41825.000000 33799.4736  19.2%     -    2s\n",
      "     0     0 33844.5273    0  157 41825.0000 33844.5273  19.1%     -    2s\n",
      "     0     0 33846.6700    0  155 41825.0000 33846.6700  19.1%     -    2s\n",
      "     0     0 34697.4313    0  146 41825.0000 34697.4313  17.0%     -    2s\n",
      "H    0     0                    41801.000000 34697.4313  17.0%     -    2s\n",
      "     0     0 34785.9659    0  141 41801.0000 34785.9659  16.8%     -    2s\n",
      "     0     0 34800.5111    0  145 41801.0000 34800.5111  16.7%     -    2s\n",
      "     0     0 35976.3749    0  160 41801.0000 35976.3749  13.9%     -    2s\n",
      "H    0     0                    41784.000000 35976.3749  13.9%     -    2s\n",
      "     0     0 36003.4927    0  160 41784.0000 36003.4927  13.8%     -    2s\n",
      "     0     0 36005.3955    0  162 41784.0000 36005.3955  13.8%     -    2s\n",
      "     0     0 36276.3688    0  151 41784.0000 36276.3688  13.2%     -    2s\n",
      "     0     0 36303.8681    0  165 41784.0000 36303.8681  13.1%     -    2s\n",
      "     0     0 36306.6375    0  170 41784.0000 36306.6375  13.1%     -    2s\n",
      "     0     0 36601.5205    0  168 41784.0000 36601.5205  12.4%     -    3s\n",
      "     0     0 36611.0567    0  167 41784.0000 36611.0567  12.4%     -    3s\n",
      "     0     0 36693.3914    0  172 41784.0000 36693.3914  12.2%     -    3s\n",
      "     0     0 36836.5309    0  172 41784.0000 36836.5309  11.8%     -    3s\n",
      "     0     2 36836.5309    0  172 41784.0000 36836.5309  11.8%     -    3s\n",
      "H   32    36                    41774.000000 38527.7813  7.77%   153    4s\n",
      "H   65    68                    41768.000000 38577.6697  7.64%   145    4s\n",
      "H   71    68                    41737.000000 38577.6697  7.57%   139    4s\n",
      "H   75    73                    41624.000000 38577.6697  7.32%   139    4s\n",
      "   208   192 39997.4077   12  114 41624.0000 38703.6641  7.02%  92.0    5s\n",
      "H  235   197                    41612.000000 38703.6641  6.99%  86.2    5s\n",
      "H  236   197                    41610.000000 38703.6641  6.98%  86.3    5s\n",
      "H 1384  1135                    41589.000000 39467.2931  5.10%  35.3    7s\n",
      "H 1389  1081                    41564.000000 39528.9828  4.90%  35.2    8s\n",
      "H 1389  1026                    41523.000000 39528.9828  4.80%  35.2    8s\n",
      "H 1418  1007                    41502.000000 39531.9432  4.75%  37.9    9s\n",
      "H 1421   957                    41499.000000 39531.9432  4.74%  38.0    9s\n",
      "H 1469   944                    41497.000000 39546.7504  4.70%  39.3    9s\n",
      "  1493   962 39560.4873   17  115 41497.0000 39546.7504  4.70%  39.8   10s\n",
      "H 1524   936                    41496.000000 39546.7504  4.70%  40.1   10s\n"
     ]
    }
   ],
   "source": [
    "CAPACS = [0.1, 0.2, 0.3, 0.4, 0.5, 0.6, 0.7, 0.8, 0.9]\n",
    "FOS = []\n",
    "for capac in CAPACS:\n",
    "    fo = model_plantas_clientes(capac, 200)\n",
    "    FOS.append(fo)"
   ]
  },
  {
   "cell_type": "code",
   "execution_count": null,
   "metadata": {},
   "outputs": [
    {
     "data": {
      "application/vnd.plotly.v1+json": {
       "config": {
        "plotlyServerURL": "https://plot.ly"
       },
       "data": [
        {
         "hovertemplate": "x=%{x}<br>y=%{y}<extra></extra>",
         "legendgroup": "",
         "line": {
          "color": "blue",
          "dash": "solid",
          "width": 3
         },
         "marker": {
          "color": "red",
          "size": 7,
          "symbol": "x"
         },
         "mode": "markers+lines",
         "name": "",
         "orientation": "v",
         "showlegend": false,
         "type": "scatter",
         "x": [
          0.1,
          0.2,
          0.3,
          0.4,
          0.5,
          0.6,
          0.7,
          0.8,
          0.9
         ],
         "xaxis": "x",
         "y": [
          39605,
          39605,
          39605,
          39605,
          39605,
          39605,
          39605,
          39605,
          39608
         ],
         "yaxis": "y"
        }
       ],
       "layout": {
        "coloraxis": {
         "showscale": false
        },
        "height": 400,
        "legend": {
         "tracegroupgap": 0
        },
        "margin": {
         "t": 60
        },
        "template": {
         "data": {
          "bar": [
           {
            "error_x": {
             "color": "rgb(51,51,51)"
            },
            "error_y": {
             "color": "rgb(51,51,51)"
            },
            "marker": {
             "line": {
              "color": "rgb(237,237,237)",
              "width": 0.5
             },
             "pattern": {
              "fillmode": "overlay",
              "size": 10,
              "solidity": 0.2
             }
            },
            "type": "bar"
           }
          ],
          "barpolar": [
           {
            "marker": {
             "line": {
              "color": "rgb(237,237,237)",
              "width": 0.5
             },
             "pattern": {
              "fillmode": "overlay",
              "size": 10,
              "solidity": 0.2
             }
            },
            "type": "barpolar"
           }
          ],
          "carpet": [
           {
            "aaxis": {
             "endlinecolor": "rgb(51,51,51)",
             "gridcolor": "white",
             "linecolor": "white",
             "minorgridcolor": "white",
             "startlinecolor": "rgb(51,51,51)"
            },
            "baxis": {
             "endlinecolor": "rgb(51,51,51)",
             "gridcolor": "white",
             "linecolor": "white",
             "minorgridcolor": "white",
             "startlinecolor": "rgb(51,51,51)"
            },
            "type": "carpet"
           }
          ],
          "choropleth": [
           {
            "colorbar": {
             "outlinewidth": 0,
             "tickcolor": "rgb(237,237,237)",
             "ticklen": 6,
             "ticks": "inside"
            },
            "type": "choropleth"
           }
          ],
          "contour": [
           {
            "colorbar": {
             "outlinewidth": 0,
             "tickcolor": "rgb(237,237,237)",
             "ticklen": 6,
             "ticks": "inside"
            },
            "colorscale": [
             [
              0,
              "rgb(20,44,66)"
             ],
             [
              1,
              "rgb(90,179,244)"
             ]
            ],
            "type": "contour"
           }
          ],
          "contourcarpet": [
           {
            "colorbar": {
             "outlinewidth": 0,
             "tickcolor": "rgb(237,237,237)",
             "ticklen": 6,
             "ticks": "inside"
            },
            "type": "contourcarpet"
           }
          ],
          "heatmap": [
           {
            "colorbar": {
             "outlinewidth": 0,
             "tickcolor": "rgb(237,237,237)",
             "ticklen": 6,
             "ticks": "inside"
            },
            "colorscale": [
             [
              0,
              "rgb(20,44,66)"
             ],
             [
              1,
              "rgb(90,179,244)"
             ]
            ],
            "type": "heatmap"
           }
          ],
          "heatmapgl": [
           {
            "colorbar": {
             "outlinewidth": 0,
             "tickcolor": "rgb(237,237,237)",
             "ticklen": 6,
             "ticks": "inside"
            },
            "colorscale": [
             [
              0,
              "rgb(20,44,66)"
             ],
             [
              1,
              "rgb(90,179,244)"
             ]
            ],
            "type": "heatmapgl"
           }
          ],
          "histogram": [
           {
            "marker": {
             "pattern": {
              "fillmode": "overlay",
              "size": 10,
              "solidity": 0.2
             }
            },
            "type": "histogram"
           }
          ],
          "histogram2d": [
           {
            "colorbar": {
             "outlinewidth": 0,
             "tickcolor": "rgb(237,237,237)",
             "ticklen": 6,
             "ticks": "inside"
            },
            "colorscale": [
             [
              0,
              "rgb(20,44,66)"
             ],
             [
              1,
              "rgb(90,179,244)"
             ]
            ],
            "type": "histogram2d"
           }
          ],
          "histogram2dcontour": [
           {
            "colorbar": {
             "outlinewidth": 0,
             "tickcolor": "rgb(237,237,237)",
             "ticklen": 6,
             "ticks": "inside"
            },
            "colorscale": [
             [
              0,
              "rgb(20,44,66)"
             ],
             [
              1,
              "rgb(90,179,244)"
             ]
            ],
            "type": "histogram2dcontour"
           }
          ],
          "mesh3d": [
           {
            "colorbar": {
             "outlinewidth": 0,
             "tickcolor": "rgb(237,237,237)",
             "ticklen": 6,
             "ticks": "inside"
            },
            "type": "mesh3d"
           }
          ],
          "parcoords": [
           {
            "line": {
             "colorbar": {
              "outlinewidth": 0,
              "tickcolor": "rgb(237,237,237)",
              "ticklen": 6,
              "ticks": "inside"
             }
            },
            "type": "parcoords"
           }
          ],
          "pie": [
           {
            "automargin": true,
            "type": "pie"
           }
          ],
          "scatter": [
           {
            "fillpattern": {
             "fillmode": "overlay",
             "size": 10,
             "solidity": 0.2
            },
            "type": "scatter"
           }
          ],
          "scatter3d": [
           {
            "line": {
             "colorbar": {
              "outlinewidth": 0,
              "tickcolor": "rgb(237,237,237)",
              "ticklen": 6,
              "ticks": "inside"
             }
            },
            "marker": {
             "colorbar": {
              "outlinewidth": 0,
              "tickcolor": "rgb(237,237,237)",
              "ticklen": 6,
              "ticks": "inside"
             }
            },
            "type": "scatter3d"
           }
          ],
          "scattercarpet": [
           {
            "marker": {
             "colorbar": {
              "outlinewidth": 0,
              "tickcolor": "rgb(237,237,237)",
              "ticklen": 6,
              "ticks": "inside"
             }
            },
            "type": "scattercarpet"
           }
          ],
          "scattergeo": [
           {
            "marker": {
             "colorbar": {
              "outlinewidth": 0,
              "tickcolor": "rgb(237,237,237)",
              "ticklen": 6,
              "ticks": "inside"
             }
            },
            "type": "scattergeo"
           }
          ],
          "scattergl": [
           {
            "marker": {
             "colorbar": {
              "outlinewidth": 0,
              "tickcolor": "rgb(237,237,237)",
              "ticklen": 6,
              "ticks": "inside"
             }
            },
            "type": "scattergl"
           }
          ],
          "scattermapbox": [
           {
            "marker": {
             "colorbar": {
              "outlinewidth": 0,
              "tickcolor": "rgb(237,237,237)",
              "ticklen": 6,
              "ticks": "inside"
             }
            },
            "type": "scattermapbox"
           }
          ],
          "scatterpolar": [
           {
            "marker": {
             "colorbar": {
              "outlinewidth": 0,
              "tickcolor": "rgb(237,237,237)",
              "ticklen": 6,
              "ticks": "inside"
             }
            },
            "type": "scatterpolar"
           }
          ],
          "scatterpolargl": [
           {
            "marker": {
             "colorbar": {
              "outlinewidth": 0,
              "tickcolor": "rgb(237,237,237)",
              "ticklen": 6,
              "ticks": "inside"
             }
            },
            "type": "scatterpolargl"
           }
          ],
          "scatterternary": [
           {
            "marker": {
             "colorbar": {
              "outlinewidth": 0,
              "tickcolor": "rgb(237,237,237)",
              "ticklen": 6,
              "ticks": "inside"
             }
            },
            "type": "scatterternary"
           }
          ],
          "surface": [
           {
            "colorbar": {
             "outlinewidth": 0,
             "tickcolor": "rgb(237,237,237)",
             "ticklen": 6,
             "ticks": "inside"
            },
            "colorscale": [
             [
              0,
              "rgb(20,44,66)"
             ],
             [
              1,
              "rgb(90,179,244)"
             ]
            ],
            "type": "surface"
           }
          ],
          "table": [
           {
            "cells": {
             "fill": {
              "color": "rgb(237,237,237)"
             },
             "line": {
              "color": "white"
             }
            },
            "header": {
             "fill": {
              "color": "rgb(217,217,217)"
             },
             "line": {
              "color": "white"
             }
            },
            "type": "table"
           }
          ]
         },
         "layout": {
          "annotationdefaults": {
           "arrowhead": 0,
           "arrowwidth": 1
          },
          "autotypenumbers": "strict",
          "coloraxis": {
           "colorbar": {
            "outlinewidth": 0,
            "tickcolor": "rgb(237,237,237)",
            "ticklen": 6,
            "ticks": "inside"
           }
          },
          "colorscale": {
           "sequential": [
            [
             0,
             "rgb(20,44,66)"
            ],
            [
             1,
             "rgb(90,179,244)"
            ]
           ],
           "sequentialminus": [
            [
             0,
             "rgb(20,44,66)"
            ],
            [
             1,
             "rgb(90,179,244)"
            ]
           ]
          },
          "colorway": [
           "#F8766D",
           "#A3A500",
           "#00BF7D",
           "#00B0F6",
           "#E76BF3"
          ],
          "font": {
           "color": "rgb(51,51,51)"
          },
          "geo": {
           "bgcolor": "white",
           "lakecolor": "white",
           "landcolor": "rgb(237,237,237)",
           "showlakes": true,
           "showland": true,
           "subunitcolor": "white"
          },
          "hoverlabel": {
           "align": "left"
          },
          "hovermode": "closest",
          "paper_bgcolor": "white",
          "plot_bgcolor": "rgb(237,237,237)",
          "polar": {
           "angularaxis": {
            "gridcolor": "white",
            "linecolor": "white",
            "showgrid": true,
            "tickcolor": "rgb(51,51,51)",
            "ticks": "outside"
           },
           "bgcolor": "rgb(237,237,237)",
           "radialaxis": {
            "gridcolor": "white",
            "linecolor": "white",
            "showgrid": true,
            "tickcolor": "rgb(51,51,51)",
            "ticks": "outside"
           }
          },
          "scene": {
           "xaxis": {
            "backgroundcolor": "rgb(237,237,237)",
            "gridcolor": "white",
            "gridwidth": 2,
            "linecolor": "white",
            "showbackground": true,
            "showgrid": true,
            "tickcolor": "rgb(51,51,51)",
            "ticks": "outside",
            "zerolinecolor": "white"
           },
           "yaxis": {
            "backgroundcolor": "rgb(237,237,237)",
            "gridcolor": "white",
            "gridwidth": 2,
            "linecolor": "white",
            "showbackground": true,
            "showgrid": true,
            "tickcolor": "rgb(51,51,51)",
            "ticks": "outside",
            "zerolinecolor": "white"
           },
           "zaxis": {
            "backgroundcolor": "rgb(237,237,237)",
            "gridcolor": "white",
            "gridwidth": 2,
            "linecolor": "white",
            "showbackground": true,
            "showgrid": true,
            "tickcolor": "rgb(51,51,51)",
            "ticks": "outside",
            "zerolinecolor": "white"
           }
          },
          "shapedefaults": {
           "fillcolor": "black",
           "line": {
            "width": 0
           },
           "opacity": 0.3
          },
          "ternary": {
           "aaxis": {
            "gridcolor": "white",
            "linecolor": "white",
            "showgrid": true,
            "tickcolor": "rgb(51,51,51)",
            "ticks": "outside"
           },
           "baxis": {
            "gridcolor": "white",
            "linecolor": "white",
            "showgrid": true,
            "tickcolor": "rgb(51,51,51)",
            "ticks": "outside"
           },
           "bgcolor": "rgb(237,237,237)",
           "caxis": {
            "gridcolor": "white",
            "linecolor": "white",
            "showgrid": true,
            "tickcolor": "rgb(51,51,51)",
            "ticks": "outside"
           }
          },
          "xaxis": {
           "automargin": true,
           "gridcolor": "white",
           "linecolor": "white",
           "showgrid": true,
           "tickcolor": "rgb(51,51,51)",
           "ticks": "outside",
           "title": {
            "standoff": 15
           },
           "zerolinecolor": "white"
          },
          "yaxis": {
           "automargin": true,
           "gridcolor": "white",
           "linecolor": "white",
           "showgrid": true,
           "tickcolor": "rgb(51,51,51)",
           "ticks": "outside",
           "title": {
            "standoff": 15
           },
           "zerolinecolor": "white"
          }
         }
        },
        "title": {
         "text": "Capacidad VS Función Objetivo"
        },
        "width": 600,
        "xaxis": {
         "anchor": "y",
         "domain": [
          0,
          1
         ],
         "title": {
          "text": "Capacidades"
         }
        },
        "yaxis": {
         "anchor": "x",
         "domain": [
          0,
          1
         ],
         "title": {
          "text": "Función Objetivo"
         }
        }
       }
      }
     },
     "metadata": {},
     "output_type": "display_data"
    }
   ],
   "source": [
    "fig = px.line(x=CAPACS, y=FOS, markers=True)\n",
    "\n",
    "fig.update_traces(\n",
    "    marker=dict(color=\"red\", size=7, symbol=\"x\"),\n",
    "    line=dict(color=\"blue\", width=3),\n",
    ")\n",
    "\n",
    "fig.update_layout(\n",
    "    coloraxis_showscale=False,\n",
    "    height=400,\n",
    "    width=600,\n",
    "    xaxis={\"title\": \"Capacidades\"},\n",
    "    yaxis={\"title\": \"Función Objetivo\"},\n",
    "    title=\"Capacidad VS Función Objetivo\",\n",
    "    template=\"ggplot2\",\n",
    ")\n",
    "\n",
    "fig.show()\n"
   ]
  }
 ],
 "metadata": {
  "kernelspec": {
   "display_name": "base",
   "language": "python",
   "name": "python3"
  },
  "language_info": {
   "codemirror_mode": {
    "name": "ipython",
    "version": 3
   },
   "file_extension": ".py",
   "mimetype": "text/x-python",
   "name": "python",
   "nbconvert_exporter": "python",
   "pygments_lexer": "ipython3",
   "version": "3.10.10"
  },
  "orig_nbformat": 4
 },
 "nbformat": 4,
 "nbformat_minor": 2
}
