{
 "cells": [
  {
   "cell_type": "markdown",
   "metadata": {},
   "source": [
    "## **Alineación Inicial en Equipo de Baloncesto**\n",
    "\n",
    "El entrenador Gregg Popovich dirige un equipo de baloncesto que consta de doce jugadores, cada uno evaluado en una escala de 1 (pobre) a 5 (excelente) en manejo de la pelota, tiros, rebotes y habilidades defensivas. A continuación se muestran las posiciones que cada jugador puede ocupar junto con sus habilidades. La alineación inicial de 5 jugadores debe cumplir con las siguientes restricciones:\n",
    "\n",
    "-   Al menos 3 jugadores del equipo inicial deben ser aptos para la defensa (D), al menos 2 deben poder jugar en el ataque (A) y al menos un jugador debe poder desempeñarse como centro (C).\n",
    "-   El nivel medio del manejo de la pelota, de los tiros y de los rebotes de la alineación inicial debe ser al menos igual a 3.\n",
    "-   Si LeBron James inicia, entonces Kevin Durant no podrá iniciar.\n",
    "-   Si Stephen Curry inicia, entonces tanto Klay Thompson como Draymond Green deben iniciar.\n",
    "-   Al menos uno entre James Harden o Russell Westbrook debe iniciar.\n",
    "\n",
    "Dadas estas restricciones, el entrenador Popovich desea maximizar la capacidad defensiva total del equipo inicial. Se solicita formular el modelo de Programación Lineal Entera (PLE) que permita determinar qué jugadores deben conformar la alineación inicial del equipo.\n",
    "\n",
    "### **Datos de los jugadores**\n",
    "\n",
    "|        Jugador        | Posición | Manejo | Tiros | Rebotes | Defensa |\n",
    "| :-------------------: | :------: | :----: | :---: | :-----: | :-----: |\n",
    "|     LeBron James      |   D-A    |   5    |   5   |    4    |    5    |\n",
    "|     Stephen Curry     |   A-C    |   5    |   5   |    3    |    3    |\n",
    "|     Kevin Durant      |   D-A    |   5    |   5   |    4    |    4    |\n",
    "|     James Harden      |   A-C    |   4    |   5   |    3    |    3    |\n",
    "|   Russell Westbrook   |   D-A    |   4    |   4   |    5    |    4    |\n",
    "|     Klay Thompson     |    A     |   3    |   5   |    3    |    4    |\n",
    "|    Draymond Green     |   D-C    |   3    |   3   |    5    |    5    |\n",
    "| Giannis Antetokounmpo |   D-C    |   5    |   4   |    5    |    5    |\n",
    "|     Kawhi Leonard     |    D     |   4    |   5   |    4    |    5    |\n",
    "|     Kyrie Irving      |    A     |   5    |   5   |    2    |    3    |\n",
    "|     Anthony Davis     |    C     |   4    |   4   |    5    |    5    |\n",
    "|     Nikola Jokic      |    C     |   5    |   4   |    5    |    4    |\n"
   ]
  },
  {
   "cell_type": "code",
   "execution_count": 8,
   "metadata": {},
   "outputs": [],
   "source": [
    "import pandas\n",
    "import gurobipy as gp\n",
    "from gurobipy import GRB"
   ]
  },
  {
   "cell_type": "code",
   "execution_count": 9,
   "metadata": {},
   "outputs": [],
   "source": [
    "df_habilidades = pandas.read_excel(\"./data.xlsx\", sheet_name=\"Habilidades\", index_col=0)\n",
    "df_bin_posicion = pandas.read_excel(\"./data.xlsx\", sheet_name=\"Bin Posición\", index_col=0)\n",
    "df_min_puntuacion_hab = pandas.read_excel(\"./data.xlsx\", sheet_name=\"Min Puntuación Habilidad\", index_col=0)\n",
    "df_min_jugadores_pos = pandas.read_excel(\"./data.xlsx\", sheet_name=\"Min Jugadores Posición\", index_col=0)"
   ]
  },
  {
   "cell_type": "markdown",
   "metadata": {},
   "source": [
    "#### **Conjuntos**\n",
    "$$ J: \\text{Conjunto de jugadores} $$\n",
    "$$ H: \\text{Conjunto de habilidades } \\{\\text{manejo, tiros, rebotes, defensa}\\} $$\n",
    "$$ P: \\text{Conjunto de posiciones } \\{\\text{defensa, ataque, centro}\\} $$"
   ]
  },
  {
   "cell_type": "code",
   "execution_count": 10,
   "metadata": {},
   "outputs": [],
   "source": [
    "JUGADORES = df_habilidades.index.to_list()\n",
    "HABILIDADES = df_habilidades.columns.to_list()\n",
    "POSICIONES = df_min_jugadores_pos.index.to_list()"
   ]
  },
  {
   "cell_type": "markdown",
   "metadata": {},
   "source": [
    "### **Parámetros**\n",
    "$$ \\text{HAB}_{jh}: \\text{Puntuación del jugador } j \\in J \\text{ en la habilidad } h \\in H $$\n",
    "$$ \\text{MIN\\_HAB}_h: \\text{Puntuación mínima requerido para la habilidad } h \\in H $$\n",
    "$$ \\text{MIN\\_JUG}_p: \\text{Mínimo número de jugadores requeridos para la posición } p \\in P $$\n",
    "$$ \\alpha_{jp}: \\begin{cases}1 & \\text{si el jugador } j \\in J \\text{ puede jugar en la posición } p \\in P\\\\ 0 & \\text{ d.l.c.} \\end{cases} $$"
   ]
  },
  {
   "cell_type": "code",
   "execution_count": 11,
   "metadata": {},
   "outputs": [],
   "source": [
    "model = gp.Model(\"Basketball\")"
   ]
  },
  {
   "cell_type": "markdown",
   "metadata": {},
   "source": [
    "#### **Variables de Decisión**\n",
    "$$ x_j: \\begin{cases}1 & \\text{si el jugador } j \\in J \\text{ es seleccionado en el equipo inicial} \\\\ 0 & \\text{ d.l.c.} \\end{cases} $$\n"
   ]
  },
  {
   "cell_type": "code",
   "execution_count": 12,
   "metadata": {},
   "outputs": [],
   "source": [
    "x = model.addVars(JUGADORES, vtype=GRB.BINARY, name=\"x\")"
   ]
  },
  {
   "cell_type": "markdown",
   "metadata": {},
   "source": [
    "#### **Función Objetivo**\n",
    "$$ \\text{Maximizar FO } = \\sum_{j \\in J} x_j \\cdot \\text{HAB}_{j,\\text{Defensa}}  $$"
   ]
  },
  {
   "cell_type": "code",
   "execution_count": 13,
   "metadata": {},
   "outputs": [],
   "source": [
    "model.setObjective(gp.quicksum(x[j] * df_habilidades.loc[j, \"Defender\"] for j in JUGADORES), GRB.MAXIMIZE)"
   ]
  },
  {
   "cell_type": "markdown",
   "metadata": {},
   "source": [
    "#### **Restricciones**\n",
    "\n",
    "**Restricción de selección de equipo:**\n",
    "$$ \\sum_{j \\in J} x_j = 5 $$\n",
    "\n",
    "**Cumplir con los requisitos mínimos por posición:**\n",
    "$$ \\forall p \\in P: \\sum_{j \\in J} x_j \\cdot \\alpha_{jp} \\geq \\text{MIN\\_JUG}_p $$\n",
    "\n",
    "**Cumplir con el nivel medio mínimo:**\n",
    "$$ \\forall h \\in H: \\sum_{j \\in J} x_j \\cdot \\text{HAB}_{jh} \\geq \\text{MIN\\_HAB}_h $$\n",
    "\n",
    "**Restricciones específicas de jugadores:**\n",
    "   - **Si LeBron inicia, Kevin no inicia:**\n",
    "$$ x_{\\text{Kevin}} \\leq 1 - x_{\\text{LeBron}}  $$\n",
    "   - **Si Curry inicia, entonces Thompson y Green deben iniciar:**\n",
    "$$ 2 \\cdot x_{\\text{Curry}} \\leq x_{\\text{Thompson}} + x_{\\text{Green}} $$\n",
    "   - **Al menos Harden o Westbrook debe iniciar:**\n",
    "$$ x_{\\text{Harden}} + x_{\\text{Westbrook}} \\geq 1 $$\n",
    "\n",
    "\n",
    "\n"
   ]
  },
  {
   "cell_type": "code",
   "execution_count": 14,
   "metadata": {},
   "outputs": [
    {
     "data": {
      "text/plain": [
       "<gurobi.Constr *Awaiting Model Update*>"
      ]
     },
     "execution_count": 14,
     "metadata": {},
     "output_type": "execute_result"
    }
   ],
   "source": [
    "model.addConstr(gp.quicksum(x[j] for j in JUGADORES) == 5)\n",
    "\n",
    "for p in POSICIONES:\n",
    "    model.addConstr(gp.quicksum(x[j] * df_bin_posicion.loc[j, p] for j in JUGADORES) >= df_min_jugadores_pos.loc[p, \"Mínimo Jugadores\"])\n",
    "\n",
    "for h in HABILIDADES:\n",
    "    model.addConstr(gp.quicksum(x[j] * df_habilidades.loc[j, h] for j in JUGADORES) >= df_min_puntuacion_hab.loc[h, \"Puntuación mínima\"])\n",
    "\n",
    "# model.addConstr(x[\"Kevin Durant\"] <= 1 - x[\"LeBron James\"])\n",
    "model.addConstr((x[\"LeBron James\"] == 1) >> (x[\"Kevin Durant\"] == 0))\n",
    "\n",
    "# model.addConstr(2 * x[\"Stephen Curry\"] <= x[\"Klay Thompson\"] + x[\"Draymond Green\"])\n",
    "model.addConstr((x[\"Stephen Curry\"] == 1) >> (x[\"Klay Thompson\"] + x[\"Draymond Green\"]== 2))\n",
    "\n",
    "model.addConstr(x[\"James Harden\"] + x[\"Russell Westbrook\"] >= 1)"
   ]
  },
  {
   "cell_type": "code",
   "execution_count": 15,
   "metadata": {},
   "outputs": [
    {
     "name": "stdout",
     "output_type": "stream",
     "text": [
      "Gurobi Optimizer version 11.0.1 build v11.0.1rc0 (win64 - Windows 11.0 (22631.2))\n",
      "\n",
      "CPU model: Intel(R) Core(TM) i7-9750H CPU @ 2.60GHz, instruction set [SSE2|AVX|AVX2]\n",
      "Thread count: 6 physical cores, 12 logical processors, using up to 12 threads\n",
      "\n",
      "Optimize a model with 9 rows, 12 columns and 81 nonzeros\n",
      "Model fingerprint: 0x91335b80\n",
      "Model has 2 general constraints\n",
      "Variable types: 0 continuous, 12 integer (12 binary)\n",
      "Coefficient statistics:\n",
      "  Matrix range     [1e+00, 5e+00]\n",
      "  Objective range  [2e+00, 5e+00]\n",
      "  Bounds range     [1e+00, 1e+00]\n",
      "  RHS range        [1e+00, 1e+01]\n",
      "  GenCon rhs range [2e+00, 2e+00]\n",
      "  GenCon coe range [1e+00, 1e+00]\n",
      "Presolve removed 2 rows and 1 columns\n",
      "Presolve time: 0.01s\n",
      "Presolved: 7 rows, 11 columns, 42 nonzeros\n",
      "Variable types: 0 continuous, 11 integer (11 binary)\n",
      "Found heuristic solution: objective 24.0000000\n",
      "\n",
      "Root relaxation: cutoff, 3 iterations, 0.00 seconds (0.00 work units)\n",
      "\n",
      "    Nodes    |    Current Node    |     Objective Bounds      |     Work\n",
      " Expl Unexpl |  Obj  Depth IntInf | Incumbent    BestBd   Gap | It/Node Time\n",
      "\n",
      "     0     0     cutoff    0        24.00000   24.00000  0.00%     -    0s\n",
      "\n",
      "Explored 1 nodes (3 simplex iterations) in 0.04 seconds (0.00 work units)\n",
      "Thread count was 12 (of 12 available processors)\n",
      "\n",
      "Solution count 1: 24 \n",
      "\n",
      "Optimal solution found (tolerance 1.00e-04)\n",
      "Best objective 2.400000000000e+01, best bound 2.400000000000e+01, gap 0.0000%\n"
     ]
    }
   ],
   "source": [
    "model.optimize()"
   ]
  },
  {
   "cell_type": "code",
   "execution_count": 16,
   "metadata": {},
   "outputs": [
    {
     "data": {
      "text/plain": [
       "24.0"
      ]
     },
     "execution_count": 16,
     "metadata": {},
     "output_type": "execute_result"
    }
   ],
   "source": [
    "model.ObjVal"
   ]
  },
  {
   "cell_type": "code",
   "execution_count": 17,
   "metadata": {},
   "outputs": [
    {
     "data": {
      "text/html": [
       "<div>\n",
       "<style scoped>\n",
       "    .dataframe tbody tr th:only-of-type {\n",
       "        vertical-align: middle;\n",
       "    }\n",
       "\n",
       "    .dataframe tbody tr th {\n",
       "        vertical-align: top;\n",
       "    }\n",
       "\n",
       "    .dataframe thead th {\n",
       "        text-align: right;\n",
       "    }\n",
       "</style>\n",
       "<table border=\"1\" class=\"dataframe\">\n",
       "  <thead>\n",
       "    <tr style=\"text-align: right;\">\n",
       "      <th></th>\n",
       "      <th>Seleccionado?</th>\n",
       "    </tr>\n",
       "  </thead>\n",
       "  <tbody>\n",
       "    <tr>\n",
       "      <th>LeBron James</th>\n",
       "      <td>✅</td>\n",
       "    </tr>\n",
       "    <tr>\n",
       "      <th>Stephen Curry</th>\n",
       "      <td>✖️</td>\n",
       "    </tr>\n",
       "    <tr>\n",
       "      <th>Kevin Durant</th>\n",
       "      <td>✖️</td>\n",
       "    </tr>\n",
       "    <tr>\n",
       "      <th>James Harden</th>\n",
       "      <td>✖️</td>\n",
       "    </tr>\n",
       "    <tr>\n",
       "      <th>Russell Westbrook</th>\n",
       "      <td>✅</td>\n",
       "    </tr>\n",
       "    <tr>\n",
       "      <th>Klay Thompson</th>\n",
       "      <td>✖️</td>\n",
       "    </tr>\n",
       "    <tr>\n",
       "      <th>Draymond Green</th>\n",
       "      <td>✅</td>\n",
       "    </tr>\n",
       "    <tr>\n",
       "      <th>Giannis Antetokounmpo</th>\n",
       "      <td>✅</td>\n",
       "    </tr>\n",
       "    <tr>\n",
       "      <th>Kawhi Leonard</th>\n",
       "      <td>✅</td>\n",
       "    </tr>\n",
       "    <tr>\n",
       "      <th>Kyrie Irving</th>\n",
       "      <td>✖️</td>\n",
       "    </tr>\n",
       "    <tr>\n",
       "      <th>Anthony Davis</th>\n",
       "      <td>✖️</td>\n",
       "    </tr>\n",
       "    <tr>\n",
       "      <th>Nikola Jokic</th>\n",
       "      <td>✖️</td>\n",
       "    </tr>\n",
       "  </tbody>\n",
       "</table>\n",
       "</div>"
      ],
      "text/plain": [
       "                      Seleccionado?\n",
       "LeBron James                      ✅\n",
       "Stephen Curry                    ✖️\n",
       "Kevin Durant                     ✖️\n",
       "James Harden                     ✖️\n",
       "Russell Westbrook                 ✅\n",
       "Klay Thompson                    ✖️\n",
       "Draymond Green                    ✅\n",
       "Giannis Antetokounmpo             ✅\n",
       "Kawhi Leonard                     ✅\n",
       "Kyrie Irving                     ✖️\n",
       "Anthony Davis                    ✖️\n",
       "Nikola Jokic                     ✖️"
      ]
     },
     "execution_count": 17,
     "metadata": {},
     "output_type": "execute_result"
    }
   ],
   "source": [
    "df_resultados = pandas.DataFrame()\n",
    "for j in JUGADORES:\n",
    "    if x[j].X > 0.9:\n",
    "        df_resultados.loc[j, \"Seleccionado?\"] = \"✅\"  \n",
    "    else:\n",
    "        df_resultados.loc[j, \"Seleccionado?\"] = \"✖️\"\n",
    "df_resultados"
   ]
  }
 ],
 "metadata": {
  "kernelspec": {
   "display_name": "Python 3",
   "language": "python",
   "name": "python3"
  },
  "language_info": {
   "codemirror_mode": {
    "name": "ipython",
    "version": 3
   },
   "file_extension": ".py",
   "mimetype": "text/x-python",
   "name": "python",
   "nbconvert_exporter": "python",
   "pygments_lexer": "ipython3",
   "version": "3.10.10"
  }
 },
 "nbformat": 4,
 "nbformat_minor": 2
}
