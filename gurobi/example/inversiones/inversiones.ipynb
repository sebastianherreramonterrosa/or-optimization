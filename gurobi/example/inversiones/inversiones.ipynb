{
 "cells": [
  {
   "cell_type": "markdown",
   "metadata": {},
   "source": [
    "# **VALORES S.A.**\n",
    "\n",
    "La firma Valores S.A. está estudiando la posibilidad de realizar algunas inversiones. La firma tiene la posibilidad de invertir en diez proyectos diferentes, los cuales son denotados en la tabla siguiente. Cada uno de los proyectos tiene una duración de un año. Estos proyectos difieren entre sí en el rendimiento neto y en el desembolso de capital que necesitan. El objetivo de la firma es maximizar el rendimiento neto total al final del año. El capital total disponible para afrontar estos proyectos es de 40 u.m. En cada proyecto se puede invertir una única vez. Solo se puede invertir en máximo 7 proyectos. Adicionalmente, existen un conjunto de restricciones impuestas por las autoridades las cuales se muestran a continuación y se deben cumplir simultáneamente:\n",
    "\n",
    "- No se puede invertir al tiempo en los proyectos 3, 4 y 7.\n",
    "- El proyecto 3 debe elegirse si se elige el 6.\n",
    "- El proyecto 8 solo puede elegirse si se invierte en las opciones 10 o 4.\n",
    "- El proyecto 4 es complementario del 10, luego se aceptan o se rechazan conjuntamente.\n",
    "\n",
    "| PROYECTOS                                    | P1  | P2  | P3  | P4  | P5  | P6  | P7  | P8  | P9  | P10 |\n",
    "| -------------------------------------------- | --- | --- | --- | --- | --- | --- | --- | --- | --- | --- |\n",
    "| **Inversión (u.m.)**                         | 6   | 6   | 4   | 7   | 5   | 6   | 3   | 5   | 3   | 2   |\n",
    "| **Rendimiento neto al final del año (u.m.)** | 4   | 6   | 5   | 8   | 7   | 6   | 3   | 5   | 4   | 2   |\n"
   ]
  },
  {
   "cell_type": "code",
   "execution_count": 15,
   "metadata": {},
   "outputs": [],
   "source": [
    "import gurobipy as gp\n",
    "from gurobipy import GRB\n",
    "import pandas"
   ]
  },
  {
   "cell_type": "markdown",
   "metadata": {},
   "source": [
    "#### **Conjuntos**\n",
    "$$ P: \\text{Proyectos} = \\{1, 2, 3, 4, 5, 6, 7, 8, 9, 10\\} $$"
   ]
  },
  {
   "cell_type": "code",
   "execution_count": 16,
   "metadata": {},
   "outputs": [],
   "source": [
    "P = [1, 2, 3, 4, 5, 6, 7, 8, 9, 10]"
   ]
  },
  {
   "cell_type": "markdown",
   "metadata": {},
   "source": [
    "#### **Parámetros**\n",
    "$$ I_p: \\text{Inversión requerida para el proyecto } p \\in P $$\n",
    "$$ R_p: \\text{Rendimiento neto del proyecto } p \\in P $$"
   ]
  },
  {
   "cell_type": "code",
   "execution_count": 17,
   "metadata": {},
   "outputs": [],
   "source": [
    "I = {1: 6, 2: 6, 3: 4, 4: 7, 5: 5, 6: 6, 7: 3, 8: 5, 9: 3, 10: 2}\n",
    "R = {1: 4, 2: 6, 3: 5, 4: 8, 5: 7, 6: 6, 7: 3, 8: 5, 9: 4, 10: 2}"
   ]
  },
  {
   "cell_type": "code",
   "execution_count": 18,
   "metadata": {},
   "outputs": [],
   "source": [
    "m = gp.Model(\"ValoresSA\")"
   ]
  },
  {
   "cell_type": "markdown",
   "metadata": {},
   "source": [
    "#### **Variables de Decisión**\n",
    "$$ x_p = \\begin{cases} \n",
    "1 & \\text{Si se invierte en el proyecto } p \\in P \\\\ \n",
    "0 & \\text{d.l.c.} \n",
    "\\end{cases}  $$"
   ]
  },
  {
   "cell_type": "code",
   "execution_count": 19,
   "metadata": {},
   "outputs": [],
   "source": [
    "x = m.addVars(P, vtype=GRB.BINARY, name=\"x\")"
   ]
  },
  {
   "cell_type": "markdown",
   "metadata": {},
   "source": [
    "#### **Función Objetivo**\n",
    "$$ \\text{Maximizar FO} = \\sum_{p \\in P} R_p x_p $$"
   ]
  },
  {
   "cell_type": "code",
   "execution_count": 20,
   "metadata": {},
   "outputs": [],
   "source": [
    "m.setObjective(gp.quicksum(R[p] * x[p] for p in P), GRB.MAXIMIZE)"
   ]
  },
  {
   "cell_type": "markdown",
   "metadata": {},
   "source": [
    "### Restricciones\n",
    "\n",
    "1. **Restricción de capital disponible:**\n",
    "$$ \\sum_{p \\in P} I_p x_p \\leq 40 $$\n",
    "\n",
    "2. **Restricción de número máximo de proyectos:**\n",
    "$$ \\sum_{p \\in P} x_p \\leq 7 $$\n",
    "\n",
    "3. **Prohibición de inversión simultánea en proyectos 3, 4 y 7:**\n",
    "$$ x_3 + x_4 + x_7 \\leq 2 $$\n",
    "\n",
    "4. **Dependencia entre proyectos 3 y 6:**\n",
    "$$ x_6 \\leq x_3 $$\n",
    "\n",
    "5. **Dependencia entre proyectos 8 y (10 o 4):**\n",
    "$$ x_8 \\leq x_{10} + x_4 $$\n",
    "\n",
    "6. **Complementariedad entre proyectos 4 y 10:**\n",
    "$$ x_4 = x_{10} $$\n"
   ]
  },
  {
   "cell_type": "code",
   "execution_count": 21,
   "metadata": {},
   "outputs": [
    {
     "data": {
      "text/plain": [
       "<gurobi.Constr *Awaiting Model Update*>"
      ]
     },
     "execution_count": 21,
     "metadata": {},
     "output_type": "execute_result"
    }
   ],
   "source": [
    "# 1. Restricción de capital disponible\n",
    "m.addConstr(gp.quicksum(R[p] * x[p] for p in P) <= 40)\n",
    "\n",
    "# 2. Restricción de número máximo de proyectos\n",
    "m.addConstr(gp.quicksum(x[p] for p in P) <= 7)\n",
    "\n",
    "# 3. Prohibición de inversión simultánea en proyectos 3, 4 y 7\n",
    "m.addConstr(x[3] + x[4] + x[7] <= 2)\n",
    "\n",
    "# 4. Dependencia entre proyectos 3 y 6\n",
    "m.addConstr(x[6] <= x[3])\n",
    "\n",
    "# 5. Dependencia entre proyectos 8 y (10 o 4)\n",
    "m.addConstr(x[8] <= x[10] + x[4])\n",
    "\n",
    "# 6. Complementariedad entre proyectos 4 y 10\n",
    "m.addConstr(x[4] == x[10])"
   ]
  },
  {
   "cell_type": "code",
   "execution_count": 22,
   "metadata": {},
   "outputs": [
    {
     "name": "stdout",
     "output_type": "stream",
     "text": [
      "Gurobi Optimizer version 11.0.1 build v11.0.1rc0 (win64 - Windows 11.0 (22631.2))\n",
      "\n",
      "CPU model: Intel(R) Core(TM) i7-9750H CPU @ 2.60GHz, instruction set [SSE2|AVX|AVX2]\n",
      "Thread count: 6 physical cores, 12 logical processors, using up to 12 threads\n",
      "\n",
      "Optimize a model with 6 rows, 10 columns and 30 nonzeros\n",
      "Model fingerprint: 0x30aed5fe\n",
      "Variable types: 0 continuous, 10 integer (10 binary)\n",
      "Coefficient statistics:\n",
      "  Matrix range     [1e+00, 8e+00]\n",
      "  Objective range  [2e+00, 8e+00]\n",
      "  Bounds range     [1e+00, 1e+00]\n",
      "  RHS range        [2e+00, 4e+01]\n",
      "Found heuristic solution: objective 35.0000000\n",
      "Presolve removed 1 rows and 2 columns\n",
      "Presolve time: 0.00s\n",
      "Presolved: 5 rows, 8 columns, 23 nonzeros\n",
      "Variable types: 0 continuous, 8 integer (7 binary)\n",
      "\n",
      "Root relaxation: objective 3.900000e+01, 4 iterations, 0.00 seconds (0.00 work units)\n",
      "\n",
      "    Nodes    |    Current Node    |     Objective Bounds      |     Work\n",
      " Expl Unexpl |  Obj  Depth IntInf | Incumbent    BestBd   Gap | It/Node Time\n",
      "\n",
      "*    0     0               0      39.0000000   39.00000  0.00%     -    0s\n",
      "\n",
      "Explored 1 nodes (4 simplex iterations) in 0.04 seconds (0.00 work units)\n",
      "Thread count was 12 (of 12 available processors)\n",
      "\n",
      "Solution count 2: 39 35 \n",
      "\n",
      "Optimal solution found (tolerance 1.00e-04)\n",
      "Best objective 3.900000000000e+01, best bound 3.900000000000e+01, gap 0.0000%\n"
     ]
    }
   ],
   "source": [
    "m.optimize()"
   ]
  },
  {
   "cell_type": "code",
   "execution_count": 23,
   "metadata": {},
   "outputs": [
    {
     "data": {
      "text/html": [
       "<div>\n",
       "<style scoped>\n",
       "    .dataframe tbody tr th:only-of-type {\n",
       "        vertical-align: middle;\n",
       "    }\n",
       "\n",
       "    .dataframe tbody tr th {\n",
       "        vertical-align: top;\n",
       "    }\n",
       "\n",
       "    .dataframe thead th {\n",
       "        text-align: right;\n",
       "    }\n",
       "</style>\n",
       "<table border=\"1\" class=\"dataframe\">\n",
       "  <thead>\n",
       "    <tr style=\"text-align: right;\">\n",
       "      <th></th>\n",
       "      <th>Invierto?</th>\n",
       "      <th>Inversión</th>\n",
       "      <th>Rendimiento</th>\n",
       "    </tr>\n",
       "  </thead>\n",
       "  <tbody>\n",
       "    <tr>\n",
       "      <th>Proyecto 1</th>\n",
       "      <td>✖️</td>\n",
       "      <td>0.0</td>\n",
       "      <td>0.0</td>\n",
       "    </tr>\n",
       "    <tr>\n",
       "      <th>Proyecto 2</th>\n",
       "      <td>✅</td>\n",
       "      <td>6.0</td>\n",
       "      <td>6.0</td>\n",
       "    </tr>\n",
       "    <tr>\n",
       "      <th>Proyecto 3</th>\n",
       "      <td>✅</td>\n",
       "      <td>4.0</td>\n",
       "      <td>5.0</td>\n",
       "    </tr>\n",
       "    <tr>\n",
       "      <th>Proyecto 4</th>\n",
       "      <td>✅</td>\n",
       "      <td>7.0</td>\n",
       "      <td>8.0</td>\n",
       "    </tr>\n",
       "    <tr>\n",
       "      <th>Proyecto 5</th>\n",
       "      <td>✅</td>\n",
       "      <td>5.0</td>\n",
       "      <td>7.0</td>\n",
       "    </tr>\n",
       "    <tr>\n",
       "      <th>Proyecto 6</th>\n",
       "      <td>✅</td>\n",
       "      <td>6.0</td>\n",
       "      <td>6.0</td>\n",
       "    </tr>\n",
       "    <tr>\n",
       "      <th>Proyecto 7</th>\n",
       "      <td>✖️</td>\n",
       "      <td>0.0</td>\n",
       "      <td>0.0</td>\n",
       "    </tr>\n",
       "    <tr>\n",
       "      <th>Proyecto 8</th>\n",
       "      <td>✅</td>\n",
       "      <td>5.0</td>\n",
       "      <td>5.0</td>\n",
       "    </tr>\n",
       "    <tr>\n",
       "      <th>Proyecto 9</th>\n",
       "      <td>✖️</td>\n",
       "      <td>0.0</td>\n",
       "      <td>0.0</td>\n",
       "    </tr>\n",
       "    <tr>\n",
       "      <th>Proyecto 10</th>\n",
       "      <td>✅</td>\n",
       "      <td>2.0</td>\n",
       "      <td>2.0</td>\n",
       "    </tr>\n",
       "    <tr>\n",
       "      <th>Total</th>\n",
       "      <td></td>\n",
       "      <td>35.0</td>\n",
       "      <td>39.0</td>\n",
       "    </tr>\n",
       "  </tbody>\n",
       "</table>\n",
       "</div>"
      ],
      "text/plain": [
       "            Invierto?  Inversión  Rendimiento\n",
       "Proyecto 1         ✖️        0.0          0.0\n",
       "Proyecto 2          ✅        6.0          6.0\n",
       "Proyecto 3          ✅        4.0          5.0\n",
       "Proyecto 4          ✅        7.0          8.0\n",
       "Proyecto 5          ✅        5.0          7.0\n",
       "Proyecto 6          ✅        6.0          6.0\n",
       "Proyecto 7         ✖️        0.0          0.0\n",
       "Proyecto 8          ✅        5.0          5.0\n",
       "Proyecto 9         ✖️        0.0          0.0\n",
       "Proyecto 10         ✅        2.0          2.0\n",
       "Total                       35.0         39.0"
      ]
     },
     "execution_count": 23,
     "metadata": {},
     "output_type": "execute_result"
    }
   ],
   "source": [
    "df_resultados = pandas.DataFrame()\n",
    "for p in P:\n",
    "    if x[p].X > 0.9:\n",
    "        df_resultados.loc[f\"Proyecto {p}\", \"Invierto?\"] = \"✅\"\n",
    "        df_resultados.loc[f\"Proyecto {p}\", \"Inversión\"] = I[p]\n",
    "        df_resultados.loc[f\"Proyecto {p}\", \"Rendimiento\"] = R[p]\n",
    "    else:\n",
    "        df_resultados.loc[f\"Proyecto {p}\", \"Invierto?\"] = \"✖️\"\n",
    "        df_resultados.loc[f\"Proyecto {p}\", \"Inversión\"] = 0\n",
    "        df_resultados.loc[f\"Proyecto {p}\", \"Rendimiento\"] = 0\n",
    "        \n",
    "df_resultados.loc[\"Total\", \"Invierto?\"] = \"\"\n",
    "df_resultados.loc[\"Total\", \"Inversión\"] = df_resultados[\"Inversión\"].sum()\n",
    "df_resultados.loc[\"Total\", \"Rendimiento\"] = df_resultados[\"Rendimiento\"].sum()\n",
    "        \n",
    "df_resultados"
   ]
  }
 ],
 "metadata": {
  "kernelspec": {
   "display_name": "Python 3",
   "language": "python",
   "name": "python3"
  },
  "language_info": {
   "codemirror_mode": {
    "name": "ipython",
    "version": 3
   },
   "file_extension": ".py",
   "mimetype": "text/x-python",
   "name": "python",
   "nbconvert_exporter": "python",
   "pygments_lexer": "ipython3",
   "version": "3.10.10"
  }
 },
 "nbformat": 4,
 "nbformat_minor": 2
}
