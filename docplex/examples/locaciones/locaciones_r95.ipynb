{
 "cells": [
  {
   "cell_type": "code",
   "execution_count": 18,
   "metadata": {},
   "outputs": [],
   "source": [
    "from docplex.mp.model import Model\n",
    "import pandas"
   ]
  },
  {
   "cell_type": "code",
   "execution_count": 19,
   "metadata": {},
   "outputs": [],
   "source": [
    "df_costo_cliente_planta = pandas.read_excel(\"./data.xlsx\", sheet_name=\"COSTO CLIENTE-PLANTA\")\n",
    "df_clientes = pandas.read_excel(\"./data.xlsx\", sheet_name=\"DEMANDAS CLIENTES\")\n",
    "df_plantas = pandas.read_excel(\"./data.xlsx\", sheet_name=\"COSTO Y CAPACIDAD PLANTAS\")"
   ]
  },
  {
   "cell_type": "markdown",
   "metadata": {},
   "source": [
    "**Conjuntos**"
   ]
  },
  {
   "cell_type": "code",
   "execution_count": 20,
   "metadata": {},
   "outputs": [],
   "source": [
    "PLANTAS = df_plantas[\"Planta\"].to_list()\n",
    "CLIENTES = df_clientes[\"Cliente\"].to_list()"
   ]
  },
  {
   "cell_type": "markdown",
   "metadata": {},
   "source": [
    "**Parámetros**"
   ]
  },
  {
   "cell_type": "code",
   "execution_count": 21,
   "metadata": {},
   "outputs": [],
   "source": [
    "COSTO_CLIENTE_PLANTA = df_costo_cliente_planta.set_index([\"Planta\", \"Cliente\"])['Costo de asignar un cliente a un planta'].to_dict()\n",
    "DEMANDA_CLIENTE = df_clientes.set_index([\"Cliente\"])[\"Demanda del cliente\"].to_dict()\n",
    "COSTO_ABRIR_PLANTA = df_plantas.set_index([\"Planta\"])[\"Costo de abrir planta\"].to_dict()\n",
    "CAPACIDAD_PLANTA = df_plantas.set_index([\"Planta\"])[\"Capacidad máxima\"].to_dict()"
   ]
  },
  {
   "cell_type": "code",
   "execution_count": 22,
   "metadata": {},
   "outputs": [],
   "source": [
    "model = Model()"
   ]
  },
  {
   "cell_type": "markdown",
   "metadata": {},
   "source": [
    "**Variables**"
   ]
  },
  {
   "cell_type": "code",
   "execution_count": 23,
   "metadata": {},
   "outputs": [],
   "source": [
    "x = model.binary_var_dict(PLANTAS, name=\"x\")\n",
    "y = model.binary_var_dict([(planta, cliente) for planta in PLANTAS for cliente in CLIENTES], name=\"y\")\n",
    "\n",
    "alpha = model.binary_var_dict(PLANTAS, name=\"alpha\")\n",
    "\n",
    "capacidad_utilizada = model.continuous_var_dict(PLANTAS, name=\"capacidad_utilizada\")\n",
    "beta = model.binary_var_dict(PLANTAS, name=\"beta\")\n",
    "pago095 = model.continuous_var_dict(PLANTAS, name=\"p\", lb=-1000)"
   ]
  },
  {
   "cell_type": "markdown",
   "metadata": {},
   "source": [
    "**Función Objetivo**"
   ]
  },
  {
   "cell_type": "code",
   "execution_count": 24,
   "metadata": {},
   "outputs": [],
   "source": [
    "costo_abrir_plantas = model.sum(x[planta] * COSTO_ABRIR_PLANTA[planta] for planta in PLANTAS)\n",
    "costo_cliente_planta = model.sum(y[(planta, cliente)] * COSTO_CLIENTE_PLANTA[(planta, cliente)] for planta in PLANTAS for cliente in CLIENTES)\n",
    "costo_095 = model.sum(pago095[planta] for planta in PLANTAS)\n",
    "model.minimize(costo_abrir_plantas + costo_cliente_planta + costo_095)"
   ]
  },
  {
   "cell_type": "markdown",
   "metadata": {},
   "source": [
    "**Restricciones**"
   ]
  },
  {
   "cell_type": "code",
   "execution_count": 25,
   "metadata": {},
   "outputs": [],
   "source": [
    "for planta in PLANTAS:\n",
    "    for cliente in CLIENTES:\n",
    "        model.add_constraint(y[(planta, cliente)] <= x[planta], ctname=f\"ct1_{planta}_{cliente}\")\n",
    "\n",
    "for planta in PLANTAS:\n",
    "    model.add_constraint(model.sum(y[(planta, cliente)] * DEMANDA_CLIENTE[cliente] for cliente in CLIENTES) <= CAPACIDAD_PLANTA[planta], ctname=f\"ct2_{planta}\")\n",
    "\n",
    "for cliente in CLIENTES:\n",
    "    model.add_constraint(model.sum(y[(planta, cliente)] for planta in PLANTAS) == 1, ctname=f\"ct3_{cliente}\")\n",
    "\n",
    "for planta in PLANTAS:\n",
    "    model.add_constraint(model.sum(y[(planta, cliente)] for cliente in CLIENTES) >= 3 * x[planta], ctname=f\"ct4_{planta}\")\n",
    "\n",
    "for planta in PLANTAS:\n",
    "    model.add_constraint(model.sum(y[(planta, cliente)] * DEMANDA_CLIENTE[cliente] for cliente in CLIENTES) >= 0.9 * CAPACIDAD_PLANTA[planta] * x[planta], ctname=f\"ct5_{planta}\")"
   ]
  },
  {
   "attachments": {},
   "cell_type": "markdown",
   "metadata": {},
   "source": [
    "$$ \\forall p\\in P: \\text{CAPAC}_{p} \\times CU_{p} = \\sum_{c\\in C} Y_{pc} \\times D_{c} $$"
   ]
  },
  {
   "cell_type": "code",
   "execution_count": 26,
   "metadata": {},
   "outputs": [],
   "source": [
    "for planta in PLANTAS:\n",
    "    model.add_constraint(CAPACIDAD_PLANTA[planta] * capacidad_utilizada[planta] == model.sum(y[(planta, cliente)] * DEMANDA_CLIENTE[cliente] for cliente in CLIENTES))"
   ]
  },
  {
   "attachments": {},
   "cell_type": "markdown",
   "metadata": {},
   "source": [
    "$$ \\forall p\\in P: \\mathcal{M} \\times \\beta_{p} \\le \\mathcal{M} + CU_{p} - 0.95 $$\n",
    "$$ \\forall p\\in P: \\mathcal{M} \\times \\beta_{p} \\ge CU_{p} - 0.95 $$"
   ]
  },
  {
   "cell_type": "code",
   "execution_count": 27,
   "metadata": {},
   "outputs": [],
   "source": [
    "for planta in PLANTAS:\n",
    "    model.add_constraint(10 * beta[planta] <= 10 + (capacidad_utilizada[planta] - 0.95))\n",
    "    model.add_constraint(10 * beta[planta] >= (capacidad_utilizada[planta] - 0.95))"
   ]
  },
  {
   "attachments": {},
   "cell_type": "markdown",
   "metadata": {},
   "source": [
    "$$ \\forall p\\in P: X_{pc} = 0 \\to \\text{Pago095}_{p}=0 $$\n",
    "$$ \\forall p\\in P: X_{pc} = 1 \\to \\text{Pago095}_{p}=-500\\times\\beta_{p}+500\\times(1-\\beta_{p}) $$"
   ]
  },
  {
   "cell_type": "code",
   "execution_count": 28,
   "metadata": {},
   "outputs": [],
   "source": [
    "# for planta in PLANTAS:\n",
    "#     model.add_indicator(x[planta], pago095[planta] == 0, active_value=0)\n",
    "#     model.add_indicator(x[planta], pago095[planta] == -500 * (beta[planta]) + 500 * (1 - beta[planta]), active_value=1)"
   ]
  },
  {
   "attachments": {},
   "cell_type": "markdown",
   "metadata": {},
   "source": [
    "$$ \\text{Pago095}_{p} \\le -500\\times\\beta_{p}+500\\times(1-\\beta_{p})+\\mathcal{M}\\times (1-X_{p}) $$\n",
    "$$ \\text{Pago095}_{p} \\ge -500\\times\\beta_{p}+500\\times(1-\\beta_{p})-\\mathcal{M}\\times (1-X_{p}) $$\n",
    "$$ \\text{Pago095}_{p} \\le 0+\\mathcal{M}\\times X_{p} $$\n",
    "$$ \\text{Pago095}_{p} \\ge 0-\\mathcal{M}\\times X_{p} $$"
   ]
  },
  {
   "cell_type": "code",
   "execution_count": 29,
   "metadata": {},
   "outputs": [],
   "source": [
    "for planta in PLANTAS:\n",
    "    model.add_constraint(pago095[planta] <= -500 * (beta[planta]) + 500 * (1 - beta[planta]) + 10000 * (1 - x[planta]))\n",
    "    model.add_constraint(pago095[planta] >= -500 * (beta[planta]) + 500 * (1 - beta[planta]) - 10000 * (1 - x[planta]))\n",
    "    model.add_constraint(pago095[planta] <= 0 + 10000 * (x[planta]))\n",
    "    model.add_constraint(pago095[planta] >= 0 - 10000 * (x[planta]))"
   ]
  },
  {
   "cell_type": "code",
   "execution_count": 30,
   "metadata": {},
   "outputs": [],
   "source": [
    "model.set_time_limit(20)"
   ]
  },
  {
   "cell_type": "code",
   "execution_count": 31,
   "metadata": {},
   "outputs": [
    {
     "name": "stdout",
     "output_type": "stream",
     "text": [
      "Version identifier: 22.1.1.0 | 2022-11-27 | 9160aff4d\n",
      "CPXPARAM_Read_DataCheck                          1\n",
      "CPXPARAM_TimeLimit                               20\n",
      "Tried aggregator 1 time.\n",
      "MIP Presolve eliminated 74 rows and 94 columns.\n",
      "MIP Presolve modified 1171 coefficients.\n",
      "Reduced MIP has 1176 rows, 1006 columns, and 6822 nonzeros.\n",
      "Reduced MIP has 966 binaries, 0 generals, 0 SOSs, and 0 indicators.\n",
      "Presolve time = 0.02 sec. (9.69 ticks)\n",
      "Probing fixed 0 vars, tightened 1 bounds.\n",
      "Probing time = 0.00 sec. (3.33 ticks)\n",
      "Cover probing fixed 0 vars, tightened 3 bounds.\n",
      "Tried aggregator 1 time.\n",
      "Detecting symmetries...\n",
      "MIP Presolve modified 13 coefficients.\n",
      "Reduced MIP has 1176 rows, 1006 columns, and 6822 nonzeros.\n",
      "Reduced MIP has 966 binaries, 20 generals, 0 SOSs, and 0 indicators.\n",
      "Presolve time = 0.00 sec. (5.49 ticks)\n",
      "Probing time = 0.00 sec. (2.24 ticks)\n",
      "Clique table members: 1134.\n",
      "MIP emphasis: balance optimality and feasibility.\n",
      "MIP search method: dynamic search.\n",
      "Parallel mode: deterministic, using up to 12 threads.\n",
      "Root relaxation solution time = 0.06 sec. (56.78 ticks)\n",
      "\n",
      "        Nodes                                         Cuts/\n",
      "   Node  Left     Objective  IInf  Best Integer    Best Bound    ItCnt     Gap\n",
      "\n",
      "      0     0     4732.0564   681                   4732.0564     1033         \n",
      "      0     0    23390.4886   204                   Cuts: 136     1813         \n",
      "      0     0    31571.8590    79                    Cuts: 81     2122         \n",
      "      0     0    31838.0752    79                    Cuts: 62     2201         \n",
      "      0     0    31851.8661   104                    Cuts: 53     2276         \n",
      "      0     0    31867.8038    95                    Cuts: 48     2368         \n",
      "Detecting symmetries...\n",
      "      0     0    31893.0446   109                    Cuts: 57     2470         \n",
      "      0     0    31901.4733   105                    Cuts: 46     2544         \n",
      "      0     0    31909.1807   110                    Cuts: 37     2620         \n",
      "      0     0    31915.3517   116                    Cuts: 34     2686         \n",
      "      0     0    31919.6837   128                    Cuts: 35     2741         \n",
      "      0     0    31929.4850   123                    Cuts: 27     2859         \n",
      "      0     0    31933.8764   125                    Cuts: 22     2934         \n",
      "      0     0    31938.2889   137                    Cuts: 33     3015         \n",
      "      0     0    31945.2820   140                    Cuts: 28     3099         \n",
      "      0     0    31947.8476   144                    Cuts: 26     3164         \n",
      "      0     0    31953.1965   145                    Cuts: 18     3248         \n",
      "      0     0    31957.7281   148                    Cuts: 31     3317         \n",
      "*     0+    0                        48292.0000    31957.7281            33.82%\n",
      "*     0+    0                        36466.0000    31957.7281            12.36%\n",
      "Detecting symmetries...\n",
      "      0     2    31957.7281   148    36466.0000    31957.7281     3317   12.36%\n",
      "Elapsed time = 3.58 sec. (1908.89 ticks, tree = 0.02 MB, solutions = 2)\n",
      "     20    22    32019.5000   100    36466.0000    31957.7864     4618   12.36%\n",
      "    105    99    32563.5132    42    36466.0000    31957.7864     7973   12.36%\n",
      "*   160+   11                        34817.0000    31957.7864             8.21%\n",
      "*   165+   11                        34770.0000    31957.7864             8.09%\n",
      "*   200+   11                        34748.0000    31957.7864             8.03%\n",
      "    243   176    32000.9325   116    34748.0000    31957.7864    11328    8.03%\n",
      "    884   537    32087.0350    94    34748.0000    31963.3260    34527    8.01%\n",
      "   1918  1085    32005.7730   102    34748.0000    31964.4868    63259    8.01%\n",
      "   2896  2290    32233.7008    34    34748.0000    31967.0256   126715    8.00%\n",
      "   3826  3117    32176.3165    73    34748.0000    31969.0756   169532    8.00%\n",
      "\n",
      "Performing restart 1\n",
      "\n",
      "Repeating presolve.\n",
      "Tried aggregator 1 time.\n",
      "MIP Presolve eliminated 25 rows and 5 columns.\n",
      "MIP Presolve modified 2901 coefficients.\n",
      "Reduced MIP has 1151 rows, 1001 columns, and 4933 nonzeros.\n",
      "Reduced MIP has 961 binaries, 20 generals, 0 SOSs, and 0 indicators.\n",
      "Presolve time = 0.02 sec. (6.07 ticks)\n",
      "Tried aggregator 1 time.\n",
      "MIP Presolve eliminated 1 rows and 1 columns.\n",
      "Reduced MIP has 1150 rows, 1000 columns, and 4927 nonzeros.\n",
      "Reduced MIP has 960 binaries, 20 generals, 0 SOSs, and 0 indicators.\n",
      "Presolve time = 0.02 sec. (4.71 ticks)\n",
      "Represolve time = 0.05 sec. (24.14 ticks)\n",
      "   4088     0    31963.0721   164    34748.0000      Cuts: 26   202605    8.00%\n",
      "   4088     0    31965.9386   154    34748.0000      Cuts: 22   202663    8.00%\n",
      "   4088     0    31969.6657   150    34748.0000      Cuts: 17   202727    8.00%\n",
      "   4088     0    31970.7687   150    34748.0000      Cuts: 17   202766    7.99%\n",
      "   4088     0    31971.2599   153    34748.0000      Cuts: 17   202789    7.99%\n",
      "   4088     0    31972.1164   152    34748.0000      Cuts: 18   202821    7.99%\n",
      "   4088     0    31972.6741   156    34748.0000       Cuts: 8   202843    7.99%\n",
      "   4088     0    31973.1509   155    34748.0000      Cuts: 11   202858    7.99%\n",
      "   4088     0    31974.0233   155    34748.0000      Cuts: 11   202880    7.98%\n",
      "   4088     0    31974.1227   152    34748.0000       Cuts: 5   202888    7.98%\n",
      "   4088     0    31974.3610   150    34748.0000       Cuts: 5   202900    7.98%\n",
      "   4088     0    31975.7730   153    34748.0000      Cuts: 12   202932    7.98%\n",
      "   4088     0    31975.9929   154    34748.0000      Cuts: 11   202941    7.98%\n",
      "   4088     0    31976.3631   157    34748.0000       Cuts: 8   202963    7.98%\n",
      "   4088     0    31976.6944   161    34748.0000      Cuts: 15   202977    7.98%\n",
      "*  4088+    0                        34648.0000    31976.6944             7.71%\n",
      "   4088     2    31976.6944   161    34648.0000    31978.3475   202977    7.71%\n",
      "   4099    10    32740.0589   117    34648.0000    31996.3135   203382    7.65%\n",
      "   7294  2750    32159.8949    51    34648.0000    32030.4602   265000    7.55%\n",
      "Elapsed time = 12.72 sec. (6252.74 ticks, tree = 23.83 MB, solutions = 8)\n",
      "  15428 10013    32204.7110    44    34648.0000    32042.0103   379938    7.52%\n",
      "* 21995+16139                        34645.0000    32049.8834             7.49%\n",
      "  23493 17883    32079.8631    98    34645.0000    32050.2629   508053    7.49%\n",
      "Starting limited solution polishing.\n",
      "* 25330+19347                        33783.0000    32051.3951             5.13%\n",
      "* 26478+18534                        33767.0000    32051.5417             5.08%\n",
      "* 26986+19241                        33767.0000    32051.5417             5.08%\n",
      "  27086 18974    32082.5346    85    33767.0000    32051.5417   546649    5.08%\n",
      "\n",
      "GUB cover cuts applied:  4\n",
      "Clique cuts applied:  23\n",
      "Cover cuts applied:  34\n",
      "Implied bound cuts applied:  41\n",
      "Flow cuts applied:  3\n",
      "Mixed integer rounding cuts applied:  64\n",
      "Zero-half cuts applied:  27\n",
      "Gomory fractional cuts applied:  4\n",
      "\n",
      "Root node processing (before b&c):\n",
      "  Real time             =    3.56 sec. (1897.32 ticks)\n",
      "Parallel b&c, 12 threads:\n",
      "  Real time             =   16.47 sec. (7358.13 ticks)\n",
      "  Sync time (average)   =    2.56 sec.\n",
      "  Wait time (average)   =    0.02 sec.\n",
      "                          ------------\n",
      "Total (root+branch&cut) =   20.03 sec. (9255.44 ticks)\n"
     ]
    }
   ],
   "source": [
    "solution = model.solve(log_output=True)"
   ]
  },
  {
   "cell_type": "code",
   "execution_count": 32,
   "metadata": {},
   "outputs": [
    {
     "data": {
      "text/plain": [
       "docplex.mp.solution.SolveSolution(obj=33767,values={x_3:1,x_4:1,x_5:1,x_.."
      ]
     },
     "execution_count": 32,
     "metadata": {},
     "output_type": "execute_result"
    }
   ],
   "source": [
    "solution"
   ]
  },
  {
   "cell_type": "code",
   "execution_count": 33,
   "metadata": {},
   "outputs": [
    {
     "data": {
      "text/plain": [
       "<JobSolveStatus.FEASIBLE_SOLUTION: 1>"
      ]
     },
     "execution_count": 33,
     "metadata": {},
     "output_type": "execute_result"
    }
   ],
   "source": [
    "model.get_solve_status()"
   ]
  },
  {
   "cell_type": "code",
   "execution_count": 34,
   "metadata": {},
   "outputs": [
    {
     "data": {
      "text/plain": [
       "33766.99999989415"
      ]
     },
     "execution_count": 34,
     "metadata": {},
     "output_type": "execute_result"
    }
   ],
   "source": [
    "model.objective_value"
   ]
  },
  {
   "cell_type": "code",
   "execution_count": 35,
   "metadata": {},
   "outputs": [
    {
     "data": {
      "text/html": [
       "<div>\n",
       "<style scoped>\n",
       "    .dataframe tbody tr th:only-of-type {\n",
       "        vertical-align: middle;\n",
       "    }\n",
       "\n",
       "    .dataframe tbody tr th {\n",
       "        vertical-align: top;\n",
       "    }\n",
       "\n",
       "    .dataframe thead th {\n",
       "        text-align: right;\n",
       "    }\n",
       "</style>\n",
       "<table border=\"1\" class=\"dataframe\">\n",
       "  <thead>\n",
       "    <tr style=\"text-align: right;\">\n",
       "      <th></th>\n",
       "      <th>X</th>\n",
       "      <th>CU</th>\n",
       "      <th>β</th>\n",
       "      <th>Pago_095</th>\n",
       "    </tr>\n",
       "  </thead>\n",
       "  <tbody>\n",
       "    <tr>\n",
       "      <th>1</th>\n",
       "      <td>0</td>\n",
       "      <td>0</td>\n",
       "      <td>0</td>\n",
       "      <td>0</td>\n",
       "    </tr>\n",
       "    <tr>\n",
       "      <th>2</th>\n",
       "      <td>0</td>\n",
       "      <td>0</td>\n",
       "      <td>0</td>\n",
       "      <td>0</td>\n",
       "    </tr>\n",
       "    <tr>\n",
       "      <th>3</th>\n",
       "      <td>1.0</td>\n",
       "      <td>1.0</td>\n",
       "      <td>1.0</td>\n",
       "      <td>-500.0</td>\n",
       "    </tr>\n",
       "    <tr>\n",
       "      <th>4</th>\n",
       "      <td>1.0</td>\n",
       "      <td>0.961538</td>\n",
       "      <td>1.0</td>\n",
       "      <td>-500.0</td>\n",
       "    </tr>\n",
       "    <tr>\n",
       "      <th>5</th>\n",
       "      <td>1.0</td>\n",
       "      <td>1.0</td>\n",
       "      <td>1.0</td>\n",
       "      <td>-500.0</td>\n",
       "    </tr>\n",
       "    <tr>\n",
       "      <th>6</th>\n",
       "      <td>1.0</td>\n",
       "      <td>0.957895</td>\n",
       "      <td>1.0</td>\n",
       "      <td>-500.0</td>\n",
       "    </tr>\n",
       "    <tr>\n",
       "      <th>7</th>\n",
       "      <td>1.0</td>\n",
       "      <td>0.965517</td>\n",
       "      <td>1.0</td>\n",
       "      <td>-500.0</td>\n",
       "    </tr>\n",
       "    <tr>\n",
       "      <th>8</th>\n",
       "      <td>0</td>\n",
       "      <td>0</td>\n",
       "      <td>0</td>\n",
       "      <td>0</td>\n",
       "    </tr>\n",
       "    <tr>\n",
       "      <th>9</th>\n",
       "      <td>1.0</td>\n",
       "      <td>0.95</td>\n",
       "      <td>1.0</td>\n",
       "      <td>-500.0</td>\n",
       "    </tr>\n",
       "    <tr>\n",
       "      <th>10</th>\n",
       "      <td>1.0</td>\n",
       "      <td>0.969072</td>\n",
       "      <td>1.0</td>\n",
       "      <td>-500.0</td>\n",
       "    </tr>\n",
       "    <tr>\n",
       "      <th>11</th>\n",
       "      <td>1.0</td>\n",
       "      <td>0.956522</td>\n",
       "      <td>1.0</td>\n",
       "      <td>-500.0</td>\n",
       "    </tr>\n",
       "    <tr>\n",
       "      <th>12</th>\n",
       "      <td>1.0</td>\n",
       "      <td>0.988235</td>\n",
       "      <td>1.0</td>\n",
       "      <td>-500.0</td>\n",
       "    </tr>\n",
       "    <tr>\n",
       "      <th>13</th>\n",
       "      <td>1.0</td>\n",
       "      <td>0.958333</td>\n",
       "      <td>1.0</td>\n",
       "      <td>-500.0</td>\n",
       "    </tr>\n",
       "    <tr>\n",
       "      <th>14</th>\n",
       "      <td>1.0</td>\n",
       "      <td>0.951613</td>\n",
       "      <td>1.0</td>\n",
       "      <td>-500.0</td>\n",
       "    </tr>\n",
       "    <tr>\n",
       "      <th>15</th>\n",
       "      <td>1.0</td>\n",
       "      <td>0.979167</td>\n",
       "      <td>1.0</td>\n",
       "      <td>-500.0</td>\n",
       "    </tr>\n",
       "    <tr>\n",
       "      <th>16</th>\n",
       "      <td>1.0</td>\n",
       "      <td>0.95</td>\n",
       "      <td>1.0</td>\n",
       "      <td>-500.0</td>\n",
       "    </tr>\n",
       "    <tr>\n",
       "      <th>17</th>\n",
       "      <td>1.0</td>\n",
       "      <td>0.987013</td>\n",
       "      <td>1.0</td>\n",
       "      <td>-500.0</td>\n",
       "    </tr>\n",
       "    <tr>\n",
       "      <th>18</th>\n",
       "      <td>1.0</td>\n",
       "      <td>0.987179</td>\n",
       "      <td>1.0</td>\n",
       "      <td>-500.0</td>\n",
       "    </tr>\n",
       "    <tr>\n",
       "      <th>19</th>\n",
       "      <td>1.0</td>\n",
       "      <td>0.952381</td>\n",
       "      <td>1.0</td>\n",
       "      <td>-500.0</td>\n",
       "    </tr>\n",
       "    <tr>\n",
       "      <th>20</th>\n",
       "      <td>0</td>\n",
       "      <td>0</td>\n",
       "      <td>0</td>\n",
       "      <td>0</td>\n",
       "    </tr>\n",
       "  </tbody>\n",
       "</table>\n",
       "</div>"
      ],
      "text/plain": [
       "      X        CU    β Pago_095\n",
       "1     0         0    0        0\n",
       "2     0         0    0        0\n",
       "3   1.0       1.0  1.0   -500.0\n",
       "4   1.0  0.961538  1.0   -500.0\n",
       "5   1.0       1.0  1.0   -500.0\n",
       "6   1.0  0.957895  1.0   -500.0\n",
       "7   1.0  0.965517  1.0   -500.0\n",
       "8     0         0    0        0\n",
       "9   1.0      0.95  1.0   -500.0\n",
       "10  1.0  0.969072  1.0   -500.0\n",
       "11  1.0  0.956522  1.0   -500.0\n",
       "12  1.0  0.988235  1.0   -500.0\n",
       "13  1.0  0.958333  1.0   -500.0\n",
       "14  1.0  0.951613  1.0   -500.0\n",
       "15  1.0  0.979167  1.0   -500.0\n",
       "16  1.0      0.95  1.0   -500.0\n",
       "17  1.0  0.987013  1.0   -500.0\n",
       "18  1.0  0.987179  1.0   -500.0\n",
       "19  1.0  0.952381  1.0   -500.0\n",
       "20    0         0    0        0"
      ]
     },
     "execution_count": 35,
     "metadata": {},
     "output_type": "execute_result"
    }
   ],
   "source": [
    "df = pandas.DataFrame(columns=[\"X\", \"CU\", \"β\", \"Pago_095\"])\n",
    "for planta in PLANTAS:\n",
    "    df.loc[planta, \"X\"] = x[planta].solution_value\n",
    "    df.loc[planta, \"CU\"] = capacidad_utilizada[planta].solution_value\n",
    "    df.loc[planta, \"β\"] = beta[planta].solution_value\n",
    "    df.loc[planta, \"Pago_095\"] = pago095[planta].solution_value\n",
    "df"
   ]
  },
  {
   "cell_type": "code",
   "execution_count": 36,
   "metadata": {},
   "outputs": [
    {
     "name": "stdout",
     "output_type": "stream",
     "text": [
      "=== Planta 3 ====\n",
      "Capacidad Planta: 32\n",
      "Cantidad Enviada: 32.0\n",
      "Capacidad Utilizada: 1.0\n",
      "Pago 0.95: -500.0\n",
      "10  38  49  \n",
      "\n",
      "=== Planta 4 ====\n",
      "Capacidad Planta: 52\n",
      "Cantidad Enviada: 50.0\n",
      "Capacidad Utilizada: 0.9615384615384616\n",
      "Pago 0.95: -500.0\n",
      "12  17  24  \n",
      "\n",
      "=== Planta 5 ====\n",
      "Capacidad Planta: 32\n",
      "Cantidad Enviada: 32.0\n",
      "Capacidad Utilizada: 1.0\n",
      "Pago 0.95: -500.0\n",
      "11  16  37  \n",
      "\n",
      "=== Planta 6 ====\n",
      "Capacidad Planta: 95\n",
      "Cantidad Enviada: 91.0\n",
      "Capacidad Utilizada: 0.9578947368421052\n",
      "Pago 0.95: -500.0\n",
      "3  6  50  \n",
      "\n",
      "=== Planta 7 ====\n",
      "Capacidad Planta: 29\n",
      "Cantidad Enviada: 28.000000055714285\n",
      "Capacidad Utilizada: 0.9655172433004926\n",
      "Pago 0.95: -500.0\n",
      "7  35  36  \n",
      "\n",
      "=== Planta 9 ====\n",
      "Capacidad Planta: 80\n",
      "Cantidad Enviada: 76.0\n",
      "Capacidad Utilizada: 0.9499999999999995\n",
      "Pago 0.95: -500.0\n",
      "8  14  34  \n",
      "\n",
      "=== Planta 10 ====\n",
      "Capacidad Planta: 97\n",
      "Cantidad Enviada: 94.0\n",
      "Capacidad Utilizada: 0.9690721649484536\n",
      "Pago 0.95: -500.0\n",
      "4  25  47  \n",
      "\n",
      "=== Planta 11 ====\n",
      "Capacidad Planta: 23\n",
      "Cantidad Enviada: 22.0\n",
      "Capacidad Utilizada: 0.9565217391304348\n",
      "Pago 0.95: -500.0\n",
      "22  23  40  \n",
      "\n",
      "=== Planta 12 ====\n",
      "Capacidad Planta: 85\n",
      "Cantidad Enviada: 84.00000000557142\n",
      "Capacidad Utilizada: 0.9882352941831933\n",
      "Pago 0.95: -500.0\n",
      "5  19  42  \n",
      "\n",
      "=== Planta 13 ====\n",
      "Capacidad Planta: 72\n",
      "Cantidad Enviada: 69.0\n",
      "Capacidad Utilizada: 0.9583333333333333\n",
      "Pago 0.95: -500.0\n",
      "9  39  43  \n",
      "\n",
      "=== Planta 14 ====\n",
      "Capacidad Planta: 62\n",
      "Cantidad Enviada: 59.0\n",
      "Capacidad Utilizada: 0.9516129032258064\n",
      "Pago 0.95: -500.0\n",
      "13  15  28  \n",
      "\n",
      "=== Planta 15 ====\n",
      "Capacidad Planta: 48\n",
      "Cantidad Enviada: 47.00000001671429\n",
      "Capacidad Utilizada: 0.9791666670148809\n",
      "Pago 0.95: -500.0\n",
      "1  21  26  \n",
      "\n",
      "=== Planta 16 ====\n",
      "Capacidad Planta: 100\n",
      "Cantidad Enviada: 95.0\n",
      "Capacidad Utilizada: 0.9500000000000001\n",
      "Pago 0.95: -500.0\n",
      "30  32  45  46  \n",
      "\n",
      "=== Planta 17 ====\n",
      "Capacidad Planta: 77\n",
      "Cantidad Enviada: 76.0\n",
      "Capacidad Utilizada: 0.9870129870129871\n",
      "Pago 0.95: -500.0\n",
      "29  31  44  \n",
      "\n",
      "=== Planta 18 ====\n",
      "Capacidad Planta: 78\n",
      "Cantidad Enviada: 76.999999922\n",
      "Capacidad Utilizada: 0.9871794861794871\n",
      "Pago 0.95: -500.0\n",
      "2  20  33  48  \n",
      "\n",
      "=== Planta 19 ====\n",
      "Capacidad Planta: 84\n",
      "Cantidad Enviada: 80.0\n",
      "Capacidad Utilizada: 0.9523809523809523\n",
      "Pago 0.95: -500.0\n",
      "18  27  41  \n",
      "\n"
     ]
    }
   ],
   "source": [
    "for planta in PLANTAS:\n",
    "    if x[planta].solution_value > 0.99:\n",
    "        print(f\"=== Planta {planta} ====\")\n",
    "        print(f\"Capacidad Planta: {CAPACIDAD_PLANTA[planta]}\")\n",
    "        print(f\"Cantidad Enviada: {sum(y[(planta, cliente)].solution_value * DEMANDA_CLIENTE[cliente] for cliente in CLIENTES)}\")\n",
    "        print(f\"Capacidad Utilizada: {capacidad_utilizada[planta].solution_value}\")\n",
    "        print(f\"Pago 0.95: {pago095[planta].solution_value}\")\n",
    "        for cliente in CLIENTES:\n",
    "            if y[(planta, cliente)].solution_value > 0.99:\n",
    "                print(cliente, end=\"  \")\n",
    "        print(\"\\n\")"
   ]
  }
 ],
 "metadata": {
  "kernelspec": {
   "display_name": "Python 3.7.11 ('base')",
   "language": "python",
   "name": "python3"
  },
  "language_info": {
   "codemirror_mode": {
    "name": "ipython",
    "version": 3
   },
   "file_extension": ".py",
   "mimetype": "text/x-python",
   "name": "python",
   "nbconvert_exporter": "python",
   "pygments_lexer": "ipython3",
   "version": "3.10.10"
  },
  "orig_nbformat": 4,
  "vscode": {
   "interpreter": {
    "hash": "d90077ce7125d20909e99e912648307be4f32fccb58a5fb76bf45800dc67acda"
   }
  }
 },
 "nbformat": 4,
 "nbformat_minor": 2
}
