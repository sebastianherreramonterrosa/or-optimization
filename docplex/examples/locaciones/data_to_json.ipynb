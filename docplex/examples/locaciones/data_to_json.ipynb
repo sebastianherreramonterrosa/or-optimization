{
 "cells": [
  {
   "cell_type": "code",
   "execution_count": 52,
   "metadata": {},
   "outputs": [],
   "source": [
    "from docplex.mp.model import Model\n",
    "import pandas\n",
    "import json"
   ]
  },
  {
   "cell_type": "code",
   "execution_count": 53,
   "metadata": {},
   "outputs": [],
   "source": [
    "df_costo_cliente_planta = pandas.read_excel(\"./Parámetros.xlsx\", sheet_name=\"COSTO CLIENTE-PLANTA\")\n",
    "df_clientes = pandas.read_excel(\"./Parámetros.xlsx\", sheet_name=\"DEMANDAS CLIENTES\")\n",
    "df_plantas = pandas.read_excel(\"./Parámetros.xlsx\", sheet_name=\"COSTO Y CAPACIDAD PLANTAS\")"
   ]
  },
  {
   "cell_type": "markdown",
   "metadata": {},
   "source": [
    "**Conjuntos**"
   ]
  },
  {
   "cell_type": "code",
   "execution_count": 54,
   "metadata": {},
   "outputs": [],
   "source": [
    "PLANTAS = df_plantas[\"Planta\"].to_list()\n",
    "CLIENTES = df_clientes[\"Cliente\"].to_list()"
   ]
  },
  {
   "cell_type": "markdown",
   "metadata": {},
   "source": [
    "**Parámetros**"
   ]
  },
  {
   "cell_type": "code",
   "execution_count": 55,
   "metadata": {},
   "outputs": [],
   "source": [
    "COSTO_CLIENTE_PLANTA = df_costo_cliente_planta.to_dict(\"records\")\n",
    "DEMANDA_CLIENTE = df_clientes.set_index([\"Cliente\"])[\"Demanda del cliente\"].to_dict()\n",
    "COSTO_ABRIR_PLANTA = df_plantas.set_index([\"Planta\"])[\"Costo de abrir planta\"].to_dict()\n",
    "CAPACIDAD_PLANTA = df_plantas.set_index([\"Planta\"])[\"Capacidad máxima\"].to_dict()"
   ]
  },
  {
   "cell_type": "code",
   "execution_count": 56,
   "metadata": {},
   "outputs": [
    {
     "data": {
      "text/html": [
       "<div>\n",
       "<style scoped>\n",
       "    .dataframe tbody tr th:only-of-type {\n",
       "        vertical-align: middle;\n",
       "    }\n",
       "\n",
       "    .dataframe tbody tr th {\n",
       "        vertical-align: top;\n",
       "    }\n",
       "\n",
       "    .dataframe thead th {\n",
       "        text-align: right;\n",
       "    }\n",
       "</style>\n",
       "<table border=\"1\" class=\"dataframe\">\n",
       "  <thead>\n",
       "    <tr style=\"text-align: right;\">\n",
       "      <th></th>\n",
       "      <th>Planta</th>\n",
       "      <th>Cliente</th>\n",
       "      <th>Costo de asignar un cliente a un planta</th>\n",
       "    </tr>\n",
       "  </thead>\n",
       "  <tbody>\n",
       "    <tr>\n",
       "      <th>0</th>\n",
       "      <td>1</td>\n",
       "      <td>1</td>\n",
       "      <td>29</td>\n",
       "    </tr>\n",
       "    <tr>\n",
       "      <th>1</th>\n",
       "      <td>1</td>\n",
       "      <td>2</td>\n",
       "      <td>45</td>\n",
       "    </tr>\n",
       "    <tr>\n",
       "      <th>2</th>\n",
       "      <td>1</td>\n",
       "      <td>3</td>\n",
       "      <td>47</td>\n",
       "    </tr>\n",
       "    <tr>\n",
       "      <th>3</th>\n",
       "      <td>1</td>\n",
       "      <td>4</td>\n",
       "      <td>81</td>\n",
       "    </tr>\n",
       "    <tr>\n",
       "      <th>4</th>\n",
       "      <td>1</td>\n",
       "      <td>5</td>\n",
       "      <td>1</td>\n",
       "    </tr>\n",
       "    <tr>\n",
       "      <th>...</th>\n",
       "      <td>...</td>\n",
       "      <td>...</td>\n",
       "      <td>...</td>\n",
       "    </tr>\n",
       "    <tr>\n",
       "      <th>995</th>\n",
       "      <td>20</td>\n",
       "      <td>46</td>\n",
       "      <td>28</td>\n",
       "    </tr>\n",
       "    <tr>\n",
       "      <th>996</th>\n",
       "      <td>20</td>\n",
       "      <td>47</td>\n",
       "      <td>91</td>\n",
       "    </tr>\n",
       "    <tr>\n",
       "      <th>997</th>\n",
       "      <td>20</td>\n",
       "      <td>48</td>\n",
       "      <td>21</td>\n",
       "    </tr>\n",
       "    <tr>\n",
       "      <th>998</th>\n",
       "      <td>20</td>\n",
       "      <td>49</td>\n",
       "      <td>54</td>\n",
       "    </tr>\n",
       "    <tr>\n",
       "      <th>999</th>\n",
       "      <td>20</td>\n",
       "      <td>50</td>\n",
       "      <td>20</td>\n",
       "    </tr>\n",
       "  </tbody>\n",
       "</table>\n",
       "<p>1000 rows × 3 columns</p>\n",
       "</div>"
      ],
      "text/plain": [
       "     Planta  Cliente  Costo de asignar un cliente a un planta\n",
       "0         1        1                                       29\n",
       "1         1        2                                       45\n",
       "2         1        3                                       47\n",
       "3         1        4                                       81\n",
       "4         1        5                                        1\n",
       "..      ...      ...                                      ...\n",
       "995      20       46                                       28\n",
       "996      20       47                                       91\n",
       "997      20       48                                       21\n",
       "998      20       49                                       54\n",
       "999      20       50                                       20\n",
       "\n",
       "[1000 rows x 3 columns]"
      ]
     },
     "execution_count": 56,
     "metadata": {},
     "output_type": "execute_result"
    }
   ],
   "source": [
    "pandas.DataFrame(df_costo_cliente_planta.to_dict(\"records\"))"
   ]
  },
  {
   "cell_type": "code",
   "execution_count": 57,
   "metadata": {},
   "outputs": [],
   "source": [
    "input_data = {\n",
    "    \"TIEMPO_EJECUCION\": 20,\n",
    "    \"PLANTAS\": PLANTAS,\n",
    "    \"CLIENTES\": CLIENTES,\n",
    "    \"COSTO_CLIENTE_PLANTA\": COSTO_CLIENTE_PLANTA,\n",
    "    \"DEMANDA_CLIENTE\": DEMANDA_CLIENTE,\n",
    "    \"COSTO_ABRIR_PLANTA\": COSTO_ABRIR_PLANTA,\n",
    "    \"CAPACIDAD_PLANTA\": CAPACIDAD_PLANTA,\n",
    "}"
   ]
  },
  {
   "cell_type": "code",
   "execution_count": 58,
   "metadata": {},
   "outputs": [],
   "source": [
    "output_file = open(\"./data_plantas_open.json\", \"w\")\n",
    "json.dump(input_data, output_file)"
   ]
  }
 ],
 "metadata": {
  "kernelspec": {
   "display_name": "base",
   "language": "python",
   "name": "python3"
  },
  "language_info": {
   "codemirror_mode": {
    "name": "ipython",
    "version": 3
   },
   "file_extension": ".py",
   "mimetype": "text/x-python",
   "name": "python",
   "nbconvert_exporter": "python",
   "pygments_lexer": "ipython3",
   "version": "3.7.11"
  },
  "orig_nbformat": 4
 },
 "nbformat": 4,
 "nbformat_minor": 2
}
