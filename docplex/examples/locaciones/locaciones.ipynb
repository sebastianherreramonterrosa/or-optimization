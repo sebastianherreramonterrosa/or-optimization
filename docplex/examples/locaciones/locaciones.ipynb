{
 "cells": [
  {
   "cell_type": "markdown",
   "metadata": {},
   "source": [
    "## **LOCACIONES PLANTAS CLIENTES**"
   ]
  },
  {
   "cell_type": "code",
   "execution_count": 10,
   "metadata": {},
   "outputs": [],
   "source": [
    "from docplex.mp.model import Model\n",
    "import pandas"
   ]
  },
  {
   "cell_type": "code",
   "execution_count": 11,
   "metadata": {},
   "outputs": [],
   "source": [
    "df_costo_cliente_planta = pandas.read_excel(\"./data.xlsx\", sheet_name=\"COSTO CLIENTE-PLANTA\")\n",
    "df_clientes = pandas.read_excel(\"./data.xlsx\", sheet_name=\"DEMANDAS CLIENTES\")\n",
    "df_plantas = pandas.read_excel(\"./data.xlsx\", sheet_name=\"COSTO Y CAPACIDAD PLANTAS\")"
   ]
  },
  {
   "cell_type": "markdown",
   "metadata": {},
   "source": [
    "**Conjuntos**"
   ]
  },
  {
   "cell_type": "markdown",
   "metadata": {},
   "source": [
    "$$ P: \\text{Plantas} = \\{1, 2,...,30\\} $$\n",
    "$$ C: \\text{Clientes} = \\{1, 2,...,50\\} $$"
   ]
  },
  {
   "cell_type": "code",
   "execution_count": 12,
   "metadata": {},
   "outputs": [],
   "source": [
    "PLANTAS = df_plantas[\"Planta\"].to_list()\n",
    "CLIENTES = df_clientes[\"Cliente\"].to_list()"
   ]
  },
  {
   "cell_type": "markdown",
   "metadata": {},
   "source": [
    "**Parámetros**"
   ]
  },
  {
   "cell_type": "markdown",
   "metadata": {},
   "source": [
    "$$ \\text{CostoApertura}_{p}: \\text{Costo de abrir la planta } p\\in P $$\n",
    "$$ \\text{Capacidad}_{p}: \\text{Capacidad máxima de la planta } p\\in P $$\n",
    "$$ \\text{Demanda}_{c}: \\text{Demanda del cliente } c\\in C $$\n",
    "$$ \\text{CostoAsignacion}_{p,c}: \\text{Costo de asignar la planta } p\\in P \\text{ al cliente } c\\in C $$"
   ]
  },
  {
   "cell_type": "code",
   "execution_count": 13,
   "metadata": {},
   "outputs": [],
   "source": [
    "COSTO_CLIENTE_PLANTA = df_costo_cliente_planta.set_index([\"Planta\", \"Cliente\"])['Costo de asignar un cliente a un planta'].to_dict()\n",
    "DEMANDA_CLIENTE = df_clientes.set_index([\"Cliente\"])[\"Demanda del cliente\"].to_dict()\n",
    "COSTO_ABRIR_PLANTA = df_plantas.set_index([\"Planta\"])[\"Costo de abrir planta\"].to_dict()\n",
    "CAPACIDAD_PLANTA = df_plantas.set_index([\"Planta\"])[\"Capacidad máxima\"].to_dict()"
   ]
  },
  {
   "cell_type": "code",
   "execution_count": 14,
   "metadata": {},
   "outputs": [],
   "source": [
    "model = Model()"
   ]
  },
  {
   "cell_type": "markdown",
   "metadata": {},
   "source": [
    "**Variables**"
   ]
  },
  {
   "attachments": {},
   "cell_type": "markdown",
   "metadata": {},
   "source": [
    "$$ X_{p} = \\left\\{ \\begin{array}{cl}\n",
    "1: \\text{Si abro la planta } p \\in P \\\\\n",
    "0: \\text{dlc}\n",
    "\\end{array} \\right. $$\n",
    "$$ Y_{pc} = \\left\\{ \\begin{array}{cl}\n",
    "1: \\text{Si asigno el cliente } c \\in C \\text{ a la planta } p \\in P \\\\\n",
    "0: \\text{dlc}\n",
    "\\end{array} \\right. $$"
   ]
  },
  {
   "cell_type": "code",
   "execution_count": 15,
   "metadata": {},
   "outputs": [],
   "source": [
    "x = model.binary_var_dict(PLANTAS, name=\"x\")\n",
    "y = model.binary_var_dict([(planta, cliente) for planta in PLANTAS for cliente in CLIENTES], name=\"y\")"
   ]
  },
  {
   "cell_type": "markdown",
   "metadata": {},
   "source": [
    "**Función Objetivo**"
   ]
  },
  {
   "attachments": {},
   "cell_type": "markdown",
   "metadata": {},
   "source": [
    "$$ \\text{minimizar } \\text{FO} = \\sum_{p\\in P} \\text{CAP}_{p} \\times X_{p} + \\sum_{p\\in P} \\sum_{c\\in C} \\text{CCP}_{pc} \\times Y_{pc} $$"
   ]
  },
  {
   "cell_type": "code",
   "execution_count": 16,
   "metadata": {},
   "outputs": [
    {
     "data": {
      "text/plain": [
       "DecisionKPI(name=costo_cliente_planta,expr=29y_1_1+45y_1_2+47y_1_3+81y_1_4+y_1_5+38y_1_6+32y_1_7+43y_1_8+64..)"
      ]
     },
     "execution_count": 16,
     "metadata": {},
     "output_type": "execute_result"
    }
   ],
   "source": [
    "costo_abrir_plantas = model.sum(x[planta] * COSTO_ABRIR_PLANTA[planta] for planta in PLANTAS)\n",
    "costo_cliente_planta = model.sum(y[(planta, cliente)] * COSTO_CLIENTE_PLANTA[(planta, cliente)] for planta in PLANTAS for cliente in CLIENTES)\n",
    "model.minimize(costo_abrir_plantas + costo_cliente_planta)\n",
    "\n",
    "model.add_kpi(costo_abrir_plantas, \"costo_abrir_plantas\")\n",
    "model.add_kpi(costo_cliente_planta, \"costo_cliente_planta\")"
   ]
  },
  {
   "cell_type": "markdown",
   "metadata": {},
   "source": [
    "**Restricciones**"
   ]
  },
  {
   "attachments": {},
   "cell_type": "markdown",
   "metadata": {},
   "source": [
    "$$ \\forall p\\in P \\, \\forall c\\in C: Y_{pc} \\le X_{p} $$\n",
    "\n",
    "$$ \\forall p\\in P: \\sum_{c\\in C} Y_{pc} \\times D_{c} \\le \\text{CAPAC}_{p} $$\n",
    "\n",
    "$$ \\forall c\\in C: \\sum_{p\\in P} Y_{pc} = 1 $$\n",
    "\n",
    "$$ \\forall p\\in P: \\sum_{c\\in C} Y_{pc} \\ge 3 X_{p}$$\n",
    "\n",
    "$$ \\forall p\\in P: \\sum_{c\\in C} Y_{pc} \\times D_{c} \\ge 0.9 * \\text{CAPAC}_{p} X_{p} $$"
   ]
  },
  {
   "cell_type": "code",
   "execution_count": 17,
   "metadata": {},
   "outputs": [],
   "source": [
    "for planta in PLANTAS:\n",
    "    for cliente in CLIENTES:\n",
    "        model.add_constraint(y[(planta, cliente)] <= x[planta], ctname=f\"ct1_{planta}_{cliente}\")\n",
    "\n",
    "for planta in PLANTAS:\n",
    "    model.add_constraint(model.sum(y[(planta, cliente)] * DEMANDA_CLIENTE[cliente] for cliente in CLIENTES) <= CAPACIDAD_PLANTA[planta], ctname=f\"ct2_{planta}\")\n",
    "\n",
    "for cliente in CLIENTES:\n",
    "    model.add_constraint(model.sum(y[(planta, cliente)] for planta in PLANTAS) == 1, ctname=f\"ct3_{cliente}\")\n",
    "\n",
    "for planta in PLANTAS:\n",
    "    model.add_constraint(model.sum(y[(planta, cliente)] for cliente in CLIENTES) >= 3 * x[planta], ctname=f\"ct4_{planta}\")\n",
    "\n",
    "for planta in PLANTAS:\n",
    "    model.add_constraint(model.sum(y[(planta, cliente)] * DEMANDA_CLIENTE[cliente] for cliente in CLIENTES) >= 0.9 * CAPACIDAD_PLANTA[planta] * x[planta], ctname=f\"ct5_{planta}\")\n"
   ]
  },
  {
   "cell_type": "code",
   "execution_count": 18,
   "metadata": {},
   "outputs": [
    {
     "data": {
      "text/plain": [
       "'./locaciones.lp'"
      ]
     },
     "execution_count": 18,
     "metadata": {},
     "output_type": "execute_result"
    }
   ],
   "source": [
    "model.export(f\"./locaciones.lp\")"
   ]
  },
  {
   "cell_type": "code",
   "execution_count": null,
   "metadata": {},
   "outputs": [],
   "source": [
    "model.set_time_limit(20)"
   ]
  },
  {
   "cell_type": "code",
   "execution_count": 10,
   "metadata": {},
   "outputs": [
    {
     "name": "stdout",
     "output_type": "stream",
     "text": [
      "Version identifier: 22.1.1.0 | 2022-11-27 | 9160aff4d\n",
      "CPXPARAM_Read_DataCheck                          1\n",
      "Tried aggregator 1 time.\n",
      "MIP Presolve eliminated 91 rows and 74 columns.\n",
      "MIP Presolve added 17 rows and 17 columns.\n",
      "MIP Presolve modified 981 coefficients.\n",
      "Reduced MIP has 1036 rows, 963 columns, and 4807 nonzeros.\n",
      "Reduced MIP has 946 binaries, 17 generals, 0 SOSs, and 0 indicators.\n",
      "Presolve time = 0.03 sec. (8.21 ticks)\n",
      "Probing time = 0.00 sec. (2.16 ticks)\n",
      "Tried aggregator 1 time.\n",
      "Detecting symmetries...\n",
      "Reduced MIP has 1036 rows, 963 columns, and 4807 nonzeros.\n",
      "Reduced MIP has 946 binaries, 17 generals, 0 SOSs, and 0 indicators.\n",
      "Presolve time = 0.02 sec. (4.44 ticks)\n",
      "Probing time = 0.00 sec. (2.16 ticks)\n",
      "Clique table members: 924.\n",
      "MIP emphasis: balance optimality and feasibility.\n",
      "MIP search method: dynamic search.\n",
      "Parallel mode: deterministic, using up to 12 threads.\n",
      "Root relaxation solution time = 0.08 sec. (35.75 ticks)\n",
      "\n",
      "        Nodes                                         Cuts/\n",
      "   Node  Left     Objective  IInf  Best Integer    Best Bound    ItCnt     Gap\n",
      "\n",
      "      0     0     5397.9357   681                   5397.9357      947         \n",
      "      0     0    28206.9108   225                   Cuts: 115     1862         \n",
      "      0     0    39292.2311    58                    Cuts: 85     2421         \n",
      "      0     0    39311.6722    97                    Cuts: 57     2518         \n",
      "      0     0    39335.3656    95                    Cuts: 52     2608         \n",
      "*     0+    0                        48637.0000    39335.3656            19.12%\n",
      "      0     0    39356.0846   107    48637.0000      Cuts: 48     2706   19.08%\n",
      "*     0+    0                        43468.0000    39356.0846             9.46%\n",
      "*     0+    0                        43407.0000    39356.0846             9.33%\n",
      "*     0+    0                        42217.0000    39356.0846             6.78%\n",
      "      0     0  -1.00000e+75     0    42217.0000    39356.0846     2706    6.78%\n",
      "Detecting symmetries...\n",
      "      0     0    39363.7867   123    42217.0000      Cuts: 40     2789    6.64%\n",
      "      0     0    39375.6824   122    42217.0000      Cuts: 33     2882    6.64%\n",
      "      0     0    39390.2956   126    42217.0000      Cuts: 38     2980    6.64%\n",
      "      0     0    39405.5268   126    42217.0000      Cuts: 27     3067    6.64%\n",
      "      0     0    39408.8615   128    42217.0000      Cuts: 30     3120    6.64%\n",
      "      0     0    39411.4404   132    42217.0000      Cuts: 16     3169    6.64%\n",
      "Detecting symmetries...\n",
      "      0     2    39411.4404   132    42217.0000    39415.2997     3169    6.64%\n",
      "Elapsed time = 3.45 sec. (1215.49 ticks, tree = 0.02 MB, solutions = 4)\n",
      "*   629+  417                        42127.0000    39415.2997             6.44%\n",
      "    631   535    39679.5075    49    42127.0000    39415.2997    22615    6.44%\n",
      "*  1498+ 1223                        40443.0000    39416.0185             2.54%\n",
      "   1880  1352    39636.0628    52    40443.0000    39421.8773    50826    2.52%\n",
      "   3171  2432    39465.0488   121    40443.0000    39423.2069    81459    2.52%\n",
      "\n",
      "Performing restart 1\n",
      "\n",
      "Repeating presolve.\n",
      "Tried aggregator 1 time.\n",
      "MIP Presolve eliminated 417 rows and 16 columns.\n",
      "MIP Presolve added 1 rows and 1 columns.\n",
      "MIP Presolve modified 915 coefficients.\n",
      "Reduced MIP has 620 rows, 948 columns, and 3875 nonzeros.\n",
      "Reduced MIP has 930 binaries, 18 generals, 0 SOSs, and 0 indicators.\n",
      "Presolve time = 0.02 sec. (4.46 ticks)\n",
      "Tried aggregator 1 time.\n",
      "MIP Presolve modified 30 coefficients.\n",
      "Reduced MIP has 620 rows, 948 columns, and 3873 nonzeros.\n",
      "Reduced MIP has 930 binaries, 18 generals, 0 SOSs, and 0 indicators.\n",
      "Presolve time = 0.00 sec. (4.07 ticks)\n",
      "Represolve time = 0.06 sec. (18.52 ticks)\n",
      "   4050     0    39418.4292   144    40443.0000      Cuts: 34   114714    2.52%\n",
      "   4050     0    39421.6022   137    40443.0000      Cuts: 19   114794    2.52%\n",
      "   4050     0    39427.8872   135    40443.0000      Cuts: 22   114881    2.51%\n",
      "   4050     0    39431.6327   139    40443.0000      Cuts: 23   114944    2.50%\n",
      "   4050     0    39433.6875   146    40443.0000      Cuts: 16   115000    2.50%\n",
      "   4050     0    39435.7851   149    40443.0000      Cuts: 16   115050    2.48%\n",
      "   4050     0    39437.5091   142    40443.0000      Cuts: 17   115097    2.48%\n",
      "   4050     0    39443.1175   139    40443.0000      Cuts: 14   115158    2.47%\n",
      "   4050     0    39446.5736   134    40443.0000      Cuts: 25   115220    2.46%\n",
      "   4050     0    39466.2196   146    40443.0000      Cuts: 28   115261    2.42%\n",
      "   4050     0    39469.9252   143    40443.0000      Cuts: 13   115308    2.41%\n",
      "   4050     0    39471.3365   149    40443.0000      Cuts: 18   115337    2.40%\n",
      "   4050     0    39471.7480   149    40443.0000       Cuts: 9   115361    2.40%\n",
      "   4050     0    39472.7535   141    40443.0000      Cuts: 12   115384    2.40%\n",
      "   4050     0    39474.1105   148    40443.0000      Cuts: 14   115419    2.40%\n",
      "   4050     0    39474.5688   144    40443.0000      Cuts: 13   115436    2.39%\n",
      "*  4050+    0                        40408.0000    39474.5688             2.31%\n",
      "   4050     2    39479.2650   143    40408.0000    39474.5688   115436    2.31%\n",
      "   4059     6    39538.9746    97    40408.0000    39516.2829   115861    2.21%\n",
      "*  4185+    8                        40373.0000    39527.6793             2.09%\n",
      "*  4301+    9                        40274.0000    39527.6793             1.85%\n",
      "   4304   177    39679.3634    72    40274.0000    39527.6793   123977    1.85%\n",
      "*  4341+   10                        40152.0000    39529.3034             1.55%\n",
      "   5426   938    39808.0527    59    40152.0000    39533.6063   148415    1.54%\n",
      "   6666  1937    39886.9165    41    40152.0000    39536.9492   175100    1.53%\n",
      "   9171  4544    40003.6223    44    40152.0000    39539.3186   215909    1.53%\n",
      "* 14472+ 9335                        40139.0000    39542.6961             1.49%\n",
      "  17863 12449    39902.7081    44    40139.0000    39543.9326   367832    1.48%\n",
      "Elapsed time = 15.09 sec. (5773.57 ticks, tree = 9.00 MB, solutions = 11)\n",
      "  25838 19384    39604.5792    85    40139.0000    39546.7935   515813    1.48%\n",
      "  33923 27397    infeasible          40139.0000    39548.0691   684669    1.47%\n",
      "* 42457+35581                        40131.0000    39549.7705             1.45%\n",
      "* 42500+35478                        40131.0000    39549.7705             1.45%\n",
      "* 42501+35818                        40129.0000    39549.7862             1.44%\n",
      "  42573 36112    39627.7685    60    40129.0000    39549.8625   864352    1.44%\n",
      "* 45012+35309                        40078.0000    39549.9477             1.32%\n",
      "* 45085+35309                        39990.0000    39549.9477             1.10%\n",
      "* 45634+35309                        39950.0000    39549.9477             1.00%\n",
      "* 46075+35309                        39926.0000    39549.9477             0.94%\n",
      "  48312 40188    39610.8127    52    39926.0000    39549.9477   942596    0.94%\n",
      "\n",
      "Performing restart 2\n",
      "\n",
      "Repeating presolve.\n",
      "Tried aggregator 1 time.\n",
      "MIP Presolve eliminated 314 rows and 58 columns.\n",
      "Reduced MIP has 306 rows, 890 columns, and 3093 nonzeros.\n",
      "Reduced MIP has 873 binaries, 17 generals, 0 SOSs, and 0 indicators.\n",
      "Presolve time = 0.02 sec. (2.13 ticks)\n",
      "Tried aggregator 1 time.\n",
      "Reduced MIP has 306 rows, 890 columns, and 3093 nonzeros.\n",
      "Reduced MIP has 873 binaries, 17 generals, 0 SOSs, and 0 indicators.\n",
      "Presolve time = 0.00 sec. (2.50 ticks)\n",
      "Represolve time = 0.09 sec. (19.29 ticks)\n",
      "  52887     0    39529.9775   137    39926.0000      Cuts: 35  1055907    0.94%\n",
      "  52887     0    39534.4285   144    39926.0000      Cuts: 21  1055966    0.94%\n",
      "  52887     0    39538.0863   141    39926.0000       Cuts: 9  1056011    0.94%\n",
      "  52887     0    39539.2040   140    39926.0000      Cuts: 18  1056044    0.94%\n",
      "  52887     0    39540.5936   143    39926.0000      Cuts: 17  1056077    0.94%\n",
      "  52887     0    39540.9025   147    39926.0000      Cuts: 22  1056094    0.94%\n",
      "  52887     0    39541.4571   146    39926.0000      Cuts: 11  1056116    0.94%\n",
      "  52887     0    39543.5925   138    39926.0000      Cuts: 12  1056165    0.94%\n",
      "  52887     0    39543.9271   136    39926.0000      Cuts: 14  1056186    0.94%\n",
      "  52887     0    39544.7974   150    39926.0000      Cuts: 16  1056211    0.94%\n",
      "  52887     0    39545.1225   148    39926.0000       Cuts: 8  1056222    0.94%\n",
      "  52887     0    39545.7955   140    39926.0000       Cuts: 8  1056242    0.94%\n",
      "\n",
      "Repeating presolve.\n",
      "Tried aggregator 1 time.\n",
      "MIP Presolve eliminated 159 rows and 156 columns.\n",
      "Reduced MIP has 147 rows, 734 columns, and 2337 nonzeros.\n",
      "Reduced MIP has 720 binaries, 14 generals, 0 SOSs, and 0 indicators.\n",
      "Presolve time = 0.00 sec. (1.44 ticks)\n",
      "Tried aggregator 1 time.\n",
      "Reduced MIP has 147 rows, 734 columns, and 2337 nonzeros.\n",
      "Reduced MIP has 720 binaries, 14 generals, 0 SOSs, and 0 indicators.\n",
      "Presolve time = 0.00 sec. (1.70 ticks)\n",
      "Represolve time = 0.05 sec. (18.98 ticks)\n",
      "  52887     0    39548.7091   134    39926.0000      Cuts: 15  1056661    0.94%\n",
      "  52887     0    39549.7755   129    39926.0000      Cuts: 23  1056703    0.94%\n",
      "  52887     0    39550.4887   139    39926.0000      Cuts: 23  1056731    0.94%\n",
      "  52887     0    39551.0457   142    39926.0000      Cuts: 10  1056749    0.94%\n",
      "  52887     0    39551.2821   133    39926.0000      Cuts: 16  1056767    0.94%\n",
      "  52887     0    39551.4860   135    39926.0000      Cuts: 10  1056796    0.94%\n",
      "  52887     0    39551.6358   132    39926.0000       Cuts: 7  1056806    0.94%\n",
      "  52887     0    39551.7245   150    39926.0000       Cuts: 7  1056818    0.94%\n",
      "  52887     0    39551.8250   143    39926.0000    MIRcuts: 2  1056828    0.94%\n",
      "  52887     0    39551.8841   144    39926.0000    MIRcuts: 5  1056835    0.94%\n",
      "  52887     0    39551.9747   145    39926.0000    MIRcuts: 3  1056853    0.94%\n",
      "  52887     0    39552.0571   145    39926.0000       Cuts: 4  1056861    0.94%\n",
      "  52887     0    39552.1428   147    39926.0000       Cuts: 9  1056871    0.94%\n",
      "  52887     0    39552.2960   149    39926.0000    MIRcuts: 2  1056886    0.94%\n",
      "  52887     0    39552.4127   151    39926.0000       Cuts: 7  1056895    0.94%\n",
      "  52887     0    39552.5621   151    39926.0000       Cuts: 2  1056905    0.94%\n",
      "  52887     2    39552.5621   151    39926.0000    39552.5621  1056905    0.94%\n",
      "  55065  1643    39598.6334    81    39926.0000    39561.8922  1112481    0.91%\n",
      "  62163  7902    39627.0684    75    39926.0000    39567.4505  1230695    0.90%\n",
      "  70405 15483    39620.5449    45    39926.0000    39569.3628  1368042    0.89%\n",
      "  79252 23794    39618.7205    93    39926.0000    39571.0218  1510985    0.89%\n",
      "  87206 31038    39647.1008    50    39926.0000    39572.2482  1648385    0.89%\n",
      "Elapsed time = 48.80 sec. (16361.23 ticks, tree = 15.32 MB, solutions = 21)\n",
      "  94156 38044    39649.1040    49    39926.0000    39572.9957  1781711    0.88%\n",
      " 101275 44365    39598.9769    88    39926.0000    39573.5791  1914488    0.88%\n",
      " 108350 51150    39643.2259    87    39926.0000    39574.3850  2064513    0.88%\n",
      " 115421 56747    39750.4984   102    39926.0000    39574.9028  2188793    0.88%\n",
      " 122617 65218    39808.0302    49    39926.0000    39575.4569  2362454    0.88%\n",
      " 129326 71216    39797.1119   102    39926.0000    39576.0308  2505896    0.88%\n",
      " 136447 77425    39611.2017    98    39926.0000    39576.5406  2648548    0.88%\n",
      " 143790 84554    39719.2680    64    39926.0000    39576.9176  2806770    0.87%\n",
      "*150397+90965                        39809.0000    39577.1740             0.58%\n",
      " 151071 91489    39624.9381   100    39809.0000    39577.1740  2960858    0.58%\n",
      " 157879 88270    39634.9698   115    39809.0000    39577.5981  3080785    0.58%\n",
      "Elapsed time = 86.70 sec. (25899.43 ticks, tree = 45.75 MB, solutions = 22)\n",
      "*160075+90063                        39804.0000    39577.7266             0.57%\n",
      " 164281 93656    39588.5477   104    39804.0000    39577.9840  3231859    0.57%\n",
      " 170849 100824    39656.5761   111    39804.0000    39578.3355  3394152    0.57%\n",
      "*173698+102869                        39802.0000    39578.4775             0.56%\n",
      " 177326 105795    39737.4488    74    39802.0000    39578.6616  3518678    0.56%\n",
      "*180548+109775                        39688.0000    39578.9233             0.27%\n",
      "*181789+72832                        39683.0000    39578.9744             0.26%\n",
      "*182641+73185                        39683.0000    39579.0409             0.26%\n",
      "*182876+73304                        39683.0000    39579.1045             0.26%\n",
      " 183529 71179        cutoff          39683.0000    39579.1387  3660551    0.26%\n",
      "*186379+73964                        39648.0000    39579.4017             0.17%\n",
      " 188689 50954    39609.6443    97    39648.0000    39579.6192  3811047    0.17%\n",
      " 193617 55129    39603.8921    95    39648.0000    39580.2388  3968785    0.17%\n",
      " 197871 59111    39625.7283    71    39648.0000    39580.9253  4140515    0.17%\n",
      " 201370 61377    39610.3461   146    39648.0000    39581.5046  4260528    0.17%\n",
      " 204202 64038    39626.8544   130    39648.0000    39582.0623  4436907    0.17%\n",
      " 206660 65765    39615.9235    77    39648.0000    39582.5611  4587747    0.17%\n",
      "Elapsed time = 117.94 sec. (35438.31 ticks, tree = 38.66 MB, solutions = 27)\n",
      "*208719 66842      integral     0    39634.0000    39582.9780  4698204    0.13%\n",
      "*209107 66991      integral     0    39611.0000    39583.0786  4719957    0.07%\n",
      " 211174 21063        cutoff          39611.0000    39583.6870  4924983    0.07%\n",
      "*212131 20545      integral     0    39610.0000    39584.5803  4972184    0.06%\n",
      "*212938 18619      integral     0    39608.0000    39586.5371  5025299    0.05%\n",
      " 217472 12347    infeasible          39608.0000    39593.5982  5190444    0.04%\n",
      " 225587  3968        cutoff          39608.0000    39602.9841  5324409    0.01%\n",
      "\n",
      "GUB cover cuts applied:  4\n",
      "Clique cuts applied:  12\n",
      "Cover cuts applied:  179\n",
      "Implied bound cuts applied:  2\n",
      "Flow cuts applied:  8\n",
      "Mixed integer rounding cuts applied:  528\n",
      "Zero-half cuts applied:  37\n",
      "Gomory fractional cuts applied:  1\n",
      "\n",
      "Root node processing (before b&c):\n",
      "  Real time             =    3.47 sec. (1205.50 ticks)\n",
      "Parallel b&c, 12 threads:\n",
      "  Real time             =  129.08 sec. (38901.20 ticks)\n",
      "  Sync time (average)   =   22.68 sec.\n",
      "  Wait time (average)   =    0.44 sec.\n",
      "                          ------------\n",
      "Total (root+branch&cut) =  132.55 sec. (40106.70 ticks)\n"
     ]
    }
   ],
   "source": [
    "solution = model.solve(log_output=True)"
   ]
  },
  {
   "cell_type": "code",
   "execution_count": null,
   "metadata": {},
   "outputs": [
    {
     "data": {
      "text/plain": [
       "docplex.mp.solution.SolveSolution(obj=40101,values={x_3:1,x_4:1,x_6:1,x_.."
      ]
     },
     "execution_count": 11,
     "metadata": {},
     "output_type": "execute_result"
    }
   ],
   "source": [
    "solution"
   ]
  },
  {
   "cell_type": "code",
   "execution_count": null,
   "metadata": {},
   "outputs": [
    {
     "data": {
      "text/plain": [
       "<JobSolveStatus.FEASIBLE_SOLUTION: 1>"
      ]
     },
     "execution_count": 12,
     "metadata": {},
     "output_type": "execute_result"
    }
   ],
   "source": [
    "model.get_solve_status()"
   ]
  },
  {
   "cell_type": "code",
   "execution_count": null,
   "metadata": {},
   "outputs": [
    {
     "data": {
      "text/plain": [
       "40101.0"
      ]
     },
     "execution_count": 13,
     "metadata": {},
     "output_type": "execute_result"
    }
   ],
   "source": [
    "model.objective_value"
   ]
  },
  {
   "cell_type": "code",
   "execution_count": null,
   "metadata": {},
   "outputs": [
    {
     "data": {
      "text/plain": [
       "0"
      ]
     },
     "execution_count": 14,
     "metadata": {},
     "output_type": "execute_result"
    }
   ],
   "source": [
    "y[(3, 1)].solution_value"
   ]
  },
  {
   "cell_type": "code",
   "execution_count": null,
   "metadata": {},
   "outputs": [
    {
     "name": "stdout",
     "output_type": "stream",
     "text": [
      "=== Planta 3 ====\n",
      "Capacidad Planta: 32\n",
      "Cantidad Enviada: 32.0\n",
      "10  37  38  \n",
      "\n",
      "=== Planta 4 ====\n",
      "Capacidad Planta: 52\n",
      "Cantidad Enviada: 52.0\n",
      "8  18  33  \n",
      "\n",
      "=== Planta 6 ====\n",
      "Capacidad Planta: 95\n",
      "Cantidad Enviada: 94.0\n",
      "3  4  30  44  \n",
      "\n",
      "=== Planta 7 ====\n",
      "Capacidad Planta: 29\n",
      "Cantidad Enviada: 29.0\n",
      "9  35  41  \n",
      "\n",
      "=== Planta 9 ====\n",
      "Capacidad Planta: 80\n",
      "Cantidad Enviada: 80.0\n",
      "19  46  48  \n",
      "\n",
      "=== Planta 10 ====\n",
      "Capacidad Planta: 97\n",
      "Cantidad Enviada: 97.0\n",
      "13  25  47  \n",
      "\n",
      "=== Planta 11 ====\n",
      "Capacidad Planta: 23\n",
      "Cantidad Enviada: 23.0\n",
      "11  22  23  \n",
      "\n",
      "=== Planta 12 ====\n",
      "Capacidad Planta: 85\n",
      "Cantidad Enviada: 85.0\n",
      "5  6  26  43  \n",
      "\n",
      "=== Planta 13 ====\n",
      "Capacidad Planta: 72\n",
      "Cantidad Enviada: 72.0\n",
      "21  28  31  \n",
      "\n",
      "=== Planta 14 ====\n",
      "Capacidad Planta: 62\n",
      "Cantidad Enviada: 62.0\n",
      "12  27  40  \n",
      "\n",
      "=== Planta 15 ====\n",
      "Capacidad Planta: 48\n",
      "Cantidad Enviada: 47.0\n",
      "15  39  49  \n",
      "\n",
      "=== Planta 16 ====\n",
      "Capacidad Planta: 100\n",
      "Cantidad Enviada: 100.0\n",
      "7  14  20  32  45  \n",
      "\n",
      "=== Planta 17 ====\n",
      "Capacidad Planta: 77\n",
      "Cantidad Enviada: 77.0\n",
      "17  29  42  \n",
      "\n",
      "=== Planta 18 ====\n",
      "Capacidad Planta: 78\n",
      "Cantidad Enviada: 78.0\n",
      "2  36  50  \n",
      "\n",
      "=== Planta 19 ====\n",
      "Capacidad Planta: 84\n",
      "Cantidad Enviada: 84.0\n",
      "1  16  24  34  \n",
      "\n"
     ]
    }
   ],
   "source": [
    "PLANTAS_ABIERTAS = []\n",
    "for planta in PLANTAS:\n",
    "    if x[planta].solution_value > 0.99:\n",
    "        print(f\"=== Planta {planta} ====\")\n",
    "        print(f\"Capacidad Planta: {CAPACIDAD_PLANTA[planta]}\")\n",
    "        print(f\"Cantidad Enviada: {sum(round(y[(planta, cliente)].solution_value, 0) * DEMANDA_CLIENTE[cliente] for cliente in CLIENTES)}\")\n",
    "        CLIENTES_ATENDIDOS = []\n",
    "        for cliente in CLIENTES:\n",
    "            if y[(planta, cliente)].solution_value > 0.99:\n",
    "                print(cliente, end=\"  \")\n",
    "                CLIENTES_ATENDIDOS.append(cliente)\n",
    "        print(\"\\n\")\n",
    "        PLANTAS_ABIERTAS.append(\n",
    "            {\n",
    "                \"ID\": planta,\n",
    "                \"CAPACIDAD_PLANTA\": CAPACIDAD_PLANTA[planta],\n",
    "                \"CANTIDAD_ENVIADA\": sum(round(y[(planta, cliente)].solution_value, 0) * DEMANDA_CLIENTE[cliente] for cliente in CLIENTES),\n",
    "                \"CLIENTES_ATENDIDOS\": CLIENTES_ATENDIDOS,\n",
    "            }\n",
    "        )"
   ]
  },
  {
   "cell_type": "code",
   "execution_count": null,
   "metadata": {},
   "outputs": [
    {
     "data": {
      "text/plain": [
       "[{'ID': 3,\n",
       "  'CAPACIDAD_PLANTA': 32,\n",
       "  'CANTIDAD_ENVIADA': 32.0,\n",
       "  'CLIENTES_ATENDIDOS': [10, 37, 38]},\n",
       " {'ID': 4,\n",
       "  'CAPACIDAD_PLANTA': 52,\n",
       "  'CANTIDAD_ENVIADA': 52.0,\n",
       "  'CLIENTES_ATENDIDOS': [8, 18, 33]},\n",
       " {'ID': 6,\n",
       "  'CAPACIDAD_PLANTA': 95,\n",
       "  'CANTIDAD_ENVIADA': 94.0,\n",
       "  'CLIENTES_ATENDIDOS': [3, 4, 30, 44]},\n",
       " {'ID': 7,\n",
       "  'CAPACIDAD_PLANTA': 29,\n",
       "  'CANTIDAD_ENVIADA': 29.0,\n",
       "  'CLIENTES_ATENDIDOS': [9, 35, 41]},\n",
       " {'ID': 9,\n",
       "  'CAPACIDAD_PLANTA': 80,\n",
       "  'CANTIDAD_ENVIADA': 80.0,\n",
       "  'CLIENTES_ATENDIDOS': [19, 46, 48]},\n",
       " {'ID': 10,\n",
       "  'CAPACIDAD_PLANTA': 97,\n",
       "  'CANTIDAD_ENVIADA': 97.0,\n",
       "  'CLIENTES_ATENDIDOS': [13, 25, 47]},\n",
       " {'ID': 11,\n",
       "  'CAPACIDAD_PLANTA': 23,\n",
       "  'CANTIDAD_ENVIADA': 23.0,\n",
       "  'CLIENTES_ATENDIDOS': [11, 22, 23]},\n",
       " {'ID': 12,\n",
       "  'CAPACIDAD_PLANTA': 85,\n",
       "  'CANTIDAD_ENVIADA': 85.0,\n",
       "  'CLIENTES_ATENDIDOS': [5, 6, 26, 43]},\n",
       " {'ID': 13,\n",
       "  'CAPACIDAD_PLANTA': 72,\n",
       "  'CANTIDAD_ENVIADA': 72.0,\n",
       "  'CLIENTES_ATENDIDOS': [21, 28, 31]},\n",
       " {'ID': 14,\n",
       "  'CAPACIDAD_PLANTA': 62,\n",
       "  'CANTIDAD_ENVIADA': 62.0,\n",
       "  'CLIENTES_ATENDIDOS': [12, 27, 40]},\n",
       " {'ID': 15,\n",
       "  'CAPACIDAD_PLANTA': 48,\n",
       "  'CANTIDAD_ENVIADA': 47.0,\n",
       "  'CLIENTES_ATENDIDOS': [15, 39, 49]},\n",
       " {'ID': 16,\n",
       "  'CAPACIDAD_PLANTA': 100,\n",
       "  'CANTIDAD_ENVIADA': 100.0,\n",
       "  'CLIENTES_ATENDIDOS': [7, 14, 20, 32, 45]},\n",
       " {'ID': 17,\n",
       "  'CAPACIDAD_PLANTA': 77,\n",
       "  'CANTIDAD_ENVIADA': 77.0,\n",
       "  'CLIENTES_ATENDIDOS': [17, 29, 42]},\n",
       " {'ID': 18,\n",
       "  'CAPACIDAD_PLANTA': 78,\n",
       "  'CANTIDAD_ENVIADA': 78.0,\n",
       "  'CLIENTES_ATENDIDOS': [2, 36, 50]},\n",
       " {'ID': 19,\n",
       "  'CAPACIDAD_PLANTA': 84,\n",
       "  'CANTIDAD_ENVIADA': 84.0,\n",
       "  'CLIENTES_ATENDIDOS': [1, 16, 24, 34]}]"
      ]
     },
     "execution_count": 16,
     "metadata": {},
     "output_type": "execute_result"
    }
   ],
   "source": [
    "PLANTAS_ABIERTAS"
   ]
  }
 ],
 "metadata": {
  "kernelspec": {
   "display_name": "Python 3.7.11 ('base')",
   "language": "python",
   "name": "python3"
  },
  "language_info": {
   "codemirror_mode": {
    "name": "ipython",
    "version": 3
   },
   "file_extension": ".py",
   "mimetype": "text/x-python",
   "name": "python",
   "nbconvert_exporter": "python",
   "pygments_lexer": "ipython3",
   "version": "3.10.10"
  },
  "orig_nbformat": 4,
  "vscode": {
   "interpreter": {
    "hash": "d90077ce7125d20909e99e912648307be4f32fccb58a5fb76bf45800dc67acda"
   }
  }
 },
 "nbformat": 4,
 "nbformat_minor": 2
}
