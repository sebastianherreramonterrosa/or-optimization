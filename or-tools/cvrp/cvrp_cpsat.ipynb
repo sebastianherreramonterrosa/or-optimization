{
 "cells": [
  {
   "cell_type": "code",
   "execution_count": 205,
   "metadata": {},
   "outputs": [],
   "source": [
    "from ortools.sat.python import cp_model\n",
    "import random\n",
    "import re\n",
    "import time\n",
    "import plotly.graph_objects as go\n",
    "import plotly.express as px\n",
    "import itertools"
   ]
  },
  {
   "attachments": {},
   "cell_type": "markdown",
   "metadata": {},
   "source": [
    "**Conjuntos**\n",
    "\n",
    "$$ \\text{CLIENTES} = \\{1, 2, \\ldots, N\\} $$\n",
    "$$ \\text{NODOS} = \\{0\\} \\cup \\text{CLIENTES} $$\n",
    "$$ \\text{CAMIONES} = \\{1, 2, 3, 4, 5, 6, 7\\} $$"
   ]
  },
  {
   "cell_type": "code",
   "execution_count": 206,
   "metadata": {},
   "outputs": [],
   "source": [
    "N = 20\n",
    "CLIENTES = list(range(1, N + 1))\n",
    "NODOS = [0] + CLIENTES\n",
    "CAMIONES = [1, 2, 3, 4, 5]"
   ]
  },
  {
   "cell_type": "code",
   "execution_count": 207,
   "metadata": {},
   "outputs": [],
   "source": [
    "random.seed(142)"
   ]
  },
  {
   "attachments": {},
   "cell_type": "markdown",
   "metadata": {},
   "source": [
    "**Parámetros**\n",
    "\n",
    "$$ \\text{CAPACIDAD\\_CAMION}_c = 70 \\text{ para cada camión } c \\in \\text{CAMIONES} $$\n",
    "$$ \\text{DEMANDA}_{cl}: \\text{Demanda del cliente } cl \\in \\text{CLIENTES} $$\n",
    "$$ \\text{DISTANCIAS}_{n1,n2}: \\text{Distancia euclidiana entre } n1 \\in \\text{NODOS} \\text{ y } n2 \\in \\text{NODOS} $$"
   ]
  },
  {
   "cell_type": "code",
   "execution_count": 208,
   "metadata": {},
   "outputs": [],
   "source": [
    "CAPACIDAD_CAMION = {c: 70 for c in CAMIONES}\n",
    "DEMANDAS = {c: random.randint(10, 20) for c in CLIENTES}\n",
    "COORDENADAS = {n: {\"x\": random.randint(0, N * 10), \"y\": random.randint(0, N * 10)} for n in NODOS}\n",
    "DISTANCIAS = {(n1, n2): ((COORDENADAS[n1][\"x\"] - COORDENADAS[n2][\"x\"]) ** 2 + (COORDENADAS[n1][\"y\"] - COORDENADAS[n2][\"y\"]) ** 2) ** 0.5 for n1 in NODOS for n2 in NODOS}"
   ]
  },
  {
   "cell_type": "code",
   "execution_count": 209,
   "metadata": {},
   "outputs": [
    {
     "data": {
      "application/vnd.plotly.v1+json": {
       "config": {
        "plotlyServerURL": "https://plot.ly"
       },
       "data": [
        {
         "marker": {
          "color": "red",
          "size": 15
         },
         "mode": "markers",
         "name": "Depósito",
         "type": "scatter",
         "x": [
          121
         ],
         "y": [
          63
         ]
        },
        {
         "marker": {
          "color": "black",
          "size": 10
         },
         "mode": "markers",
         "name": "Clientes",
         "type": "scatter",
         "x": [
          25,
          80,
          84,
          16,
          199,
          197,
          68,
          182,
          112,
          200,
          183,
          83,
          28,
          169,
          182,
          7,
          191,
          128,
          82,
          29
         ],
         "y": [
          176,
          133,
          22,
          123,
          164,
          30,
          34,
          1,
          96,
          61,
          194,
          102,
          75,
          68,
          89,
          5,
          60,
          47,
          188,
          85
         ]
        }
       ],
       "layout": {
        "annotations": [
         {
          "showarrow": false,
          "text": "<b>C1: </b> 19",
          "x": 17,
          "y": 184
         },
         {
          "showarrow": false,
          "text": "<b>C2: </b> 20",
          "x": 72,
          "y": 141
         },
         {
          "showarrow": false,
          "text": "<b>C3: </b> 20",
          "x": 76,
          "y": 30
         },
         {
          "showarrow": false,
          "text": "<b>C4: </b> 17",
          "x": 8,
          "y": 131
         },
         {
          "showarrow": false,
          "text": "<b>C5: </b> 12",
          "x": 191,
          "y": 172
         },
         {
          "showarrow": false,
          "text": "<b>C6: </b> 17",
          "x": 189,
          "y": 38
         },
         {
          "showarrow": false,
          "text": "<b>C7: </b> 14",
          "x": 60,
          "y": 42
         },
         {
          "showarrow": false,
          "text": "<b>C8: </b> 15",
          "x": 174,
          "y": 9
         },
         {
          "showarrow": false,
          "text": "<b>C9: </b> 15",
          "x": 104,
          "y": 104
         },
         {
          "showarrow": false,
          "text": "<b>C10: </b> 14",
          "x": 192,
          "y": 69
         },
         {
          "showarrow": false,
          "text": "<b>C11: </b> 10",
          "x": 175,
          "y": 202
         },
         {
          "showarrow": false,
          "text": "<b>C12: </b> 11",
          "x": 75,
          "y": 110
         },
         {
          "showarrow": false,
          "text": "<b>C13: </b> 14",
          "x": 20,
          "y": 83
         },
         {
          "showarrow": false,
          "text": "<b>C14: </b> 12",
          "x": 161,
          "y": 76
         },
         {
          "showarrow": false,
          "text": "<b>C15: </b> 19",
          "x": 174,
          "y": 97
         },
         {
          "showarrow": false,
          "text": "<b>C16: </b> 18",
          "x": -1,
          "y": 13
         },
         {
          "showarrow": false,
          "text": "<b>C17: </b> 13",
          "x": 183,
          "y": 68
         },
         {
          "showarrow": false,
          "text": "<b>C18: </b> 19",
          "x": 120,
          "y": 55
         },
         {
          "showarrow": false,
          "text": "<b>C19: </b> 18",
          "x": 74,
          "y": 196
         },
         {
          "showarrow": false,
          "text": "<b>C20: </b> 10",
          "x": 21,
          "y": 93
         }
        ],
        "height": 600,
        "template": {
         "data": {
          "bar": [
           {
            "error_x": {
             "color": "rgb(51,51,51)"
            },
            "error_y": {
             "color": "rgb(51,51,51)"
            },
            "marker": {
             "line": {
              "color": "rgb(237,237,237)",
              "width": 0.5
             },
             "pattern": {
              "fillmode": "overlay",
              "size": 10,
              "solidity": 0.2
             }
            },
            "type": "bar"
           }
          ],
          "barpolar": [
           {
            "marker": {
             "line": {
              "color": "rgb(237,237,237)",
              "width": 0.5
             },
             "pattern": {
              "fillmode": "overlay",
              "size": 10,
              "solidity": 0.2
             }
            },
            "type": "barpolar"
           }
          ],
          "carpet": [
           {
            "aaxis": {
             "endlinecolor": "rgb(51,51,51)",
             "gridcolor": "white",
             "linecolor": "white",
             "minorgridcolor": "white",
             "startlinecolor": "rgb(51,51,51)"
            },
            "baxis": {
             "endlinecolor": "rgb(51,51,51)",
             "gridcolor": "white",
             "linecolor": "white",
             "minorgridcolor": "white",
             "startlinecolor": "rgb(51,51,51)"
            },
            "type": "carpet"
           }
          ],
          "choropleth": [
           {
            "colorbar": {
             "outlinewidth": 0,
             "tickcolor": "rgb(237,237,237)",
             "ticklen": 6,
             "ticks": "inside"
            },
            "type": "choropleth"
           }
          ],
          "contour": [
           {
            "colorbar": {
             "outlinewidth": 0,
             "tickcolor": "rgb(237,237,237)",
             "ticklen": 6,
             "ticks": "inside"
            },
            "colorscale": [
             [
              0,
              "rgb(20,44,66)"
             ],
             [
              1,
              "rgb(90,179,244)"
             ]
            ],
            "type": "contour"
           }
          ],
          "contourcarpet": [
           {
            "colorbar": {
             "outlinewidth": 0,
             "tickcolor": "rgb(237,237,237)",
             "ticklen": 6,
             "ticks": "inside"
            },
            "type": "contourcarpet"
           }
          ],
          "heatmap": [
           {
            "colorbar": {
             "outlinewidth": 0,
             "tickcolor": "rgb(237,237,237)",
             "ticklen": 6,
             "ticks": "inside"
            },
            "colorscale": [
             [
              0,
              "rgb(20,44,66)"
             ],
             [
              1,
              "rgb(90,179,244)"
             ]
            ],
            "type": "heatmap"
           }
          ],
          "heatmapgl": [
           {
            "colorbar": {
             "outlinewidth": 0,
             "tickcolor": "rgb(237,237,237)",
             "ticklen": 6,
             "ticks": "inside"
            },
            "colorscale": [
             [
              0,
              "rgb(20,44,66)"
             ],
             [
              1,
              "rgb(90,179,244)"
             ]
            ],
            "type": "heatmapgl"
           }
          ],
          "histogram": [
           {
            "marker": {
             "pattern": {
              "fillmode": "overlay",
              "size": 10,
              "solidity": 0.2
             }
            },
            "type": "histogram"
           }
          ],
          "histogram2d": [
           {
            "colorbar": {
             "outlinewidth": 0,
             "tickcolor": "rgb(237,237,237)",
             "ticklen": 6,
             "ticks": "inside"
            },
            "colorscale": [
             [
              0,
              "rgb(20,44,66)"
             ],
             [
              1,
              "rgb(90,179,244)"
             ]
            ],
            "type": "histogram2d"
           }
          ],
          "histogram2dcontour": [
           {
            "colorbar": {
             "outlinewidth": 0,
             "tickcolor": "rgb(237,237,237)",
             "ticklen": 6,
             "ticks": "inside"
            },
            "colorscale": [
             [
              0,
              "rgb(20,44,66)"
             ],
             [
              1,
              "rgb(90,179,244)"
             ]
            ],
            "type": "histogram2dcontour"
           }
          ],
          "mesh3d": [
           {
            "colorbar": {
             "outlinewidth": 0,
             "tickcolor": "rgb(237,237,237)",
             "ticklen": 6,
             "ticks": "inside"
            },
            "type": "mesh3d"
           }
          ],
          "parcoords": [
           {
            "line": {
             "colorbar": {
              "outlinewidth": 0,
              "tickcolor": "rgb(237,237,237)",
              "ticklen": 6,
              "ticks": "inside"
             }
            },
            "type": "parcoords"
           }
          ],
          "pie": [
           {
            "automargin": true,
            "type": "pie"
           }
          ],
          "scatter": [
           {
            "fillpattern": {
             "fillmode": "overlay",
             "size": 10,
             "solidity": 0.2
            },
            "type": "scatter"
           }
          ],
          "scatter3d": [
           {
            "line": {
             "colorbar": {
              "outlinewidth": 0,
              "tickcolor": "rgb(237,237,237)",
              "ticklen": 6,
              "ticks": "inside"
             }
            },
            "marker": {
             "colorbar": {
              "outlinewidth": 0,
              "tickcolor": "rgb(237,237,237)",
              "ticklen": 6,
              "ticks": "inside"
             }
            },
            "type": "scatter3d"
           }
          ],
          "scattercarpet": [
           {
            "marker": {
             "colorbar": {
              "outlinewidth": 0,
              "tickcolor": "rgb(237,237,237)",
              "ticklen": 6,
              "ticks": "inside"
             }
            },
            "type": "scattercarpet"
           }
          ],
          "scattergeo": [
           {
            "marker": {
             "colorbar": {
              "outlinewidth": 0,
              "tickcolor": "rgb(237,237,237)",
              "ticklen": 6,
              "ticks": "inside"
             }
            },
            "type": "scattergeo"
           }
          ],
          "scattergl": [
           {
            "marker": {
             "colorbar": {
              "outlinewidth": 0,
              "tickcolor": "rgb(237,237,237)",
              "ticklen": 6,
              "ticks": "inside"
             }
            },
            "type": "scattergl"
           }
          ],
          "scattermapbox": [
           {
            "marker": {
             "colorbar": {
              "outlinewidth": 0,
              "tickcolor": "rgb(237,237,237)",
              "ticklen": 6,
              "ticks": "inside"
             }
            },
            "type": "scattermapbox"
           }
          ],
          "scatterpolar": [
           {
            "marker": {
             "colorbar": {
              "outlinewidth": 0,
              "tickcolor": "rgb(237,237,237)",
              "ticklen": 6,
              "ticks": "inside"
             }
            },
            "type": "scatterpolar"
           }
          ],
          "scatterpolargl": [
           {
            "marker": {
             "colorbar": {
              "outlinewidth": 0,
              "tickcolor": "rgb(237,237,237)",
              "ticklen": 6,
              "ticks": "inside"
             }
            },
            "type": "scatterpolargl"
           }
          ],
          "scatterternary": [
           {
            "marker": {
             "colorbar": {
              "outlinewidth": 0,
              "tickcolor": "rgb(237,237,237)",
              "ticklen": 6,
              "ticks": "inside"
             }
            },
            "type": "scatterternary"
           }
          ],
          "surface": [
           {
            "colorbar": {
             "outlinewidth": 0,
             "tickcolor": "rgb(237,237,237)",
             "ticklen": 6,
             "ticks": "inside"
            },
            "colorscale": [
             [
              0,
              "rgb(20,44,66)"
             ],
             [
              1,
              "rgb(90,179,244)"
             ]
            ],
            "type": "surface"
           }
          ],
          "table": [
           {
            "cells": {
             "fill": {
              "color": "rgb(237,237,237)"
             },
             "line": {
              "color": "white"
             }
            },
            "header": {
             "fill": {
              "color": "rgb(217,217,217)"
             },
             "line": {
              "color": "white"
             }
            },
            "type": "table"
           }
          ]
         },
         "layout": {
          "annotationdefaults": {
           "arrowhead": 0,
           "arrowwidth": 1
          },
          "autotypenumbers": "strict",
          "coloraxis": {
           "colorbar": {
            "outlinewidth": 0,
            "tickcolor": "rgb(237,237,237)",
            "ticklen": 6,
            "ticks": "inside"
           }
          },
          "colorscale": {
           "sequential": [
            [
             0,
             "rgb(20,44,66)"
            ],
            [
             1,
             "rgb(90,179,244)"
            ]
           ],
           "sequentialminus": [
            [
             0,
             "rgb(20,44,66)"
            ],
            [
             1,
             "rgb(90,179,244)"
            ]
           ]
          },
          "colorway": [
           "#F8766D",
           "#A3A500",
           "#00BF7D",
           "#00B0F6",
           "#E76BF3"
          ],
          "font": {
           "color": "rgb(51,51,51)"
          },
          "geo": {
           "bgcolor": "white",
           "lakecolor": "white",
           "landcolor": "rgb(237,237,237)",
           "showlakes": true,
           "showland": true,
           "subunitcolor": "white"
          },
          "hoverlabel": {
           "align": "left"
          },
          "hovermode": "closest",
          "paper_bgcolor": "white",
          "plot_bgcolor": "rgb(237,237,237)",
          "polar": {
           "angularaxis": {
            "gridcolor": "white",
            "linecolor": "white",
            "showgrid": true,
            "tickcolor": "rgb(51,51,51)",
            "ticks": "outside"
           },
           "bgcolor": "rgb(237,237,237)",
           "radialaxis": {
            "gridcolor": "white",
            "linecolor": "white",
            "showgrid": true,
            "tickcolor": "rgb(51,51,51)",
            "ticks": "outside"
           }
          },
          "scene": {
           "xaxis": {
            "backgroundcolor": "rgb(237,237,237)",
            "gridcolor": "white",
            "gridwidth": 2,
            "linecolor": "white",
            "showbackground": true,
            "showgrid": true,
            "tickcolor": "rgb(51,51,51)",
            "ticks": "outside",
            "zerolinecolor": "white"
           },
           "yaxis": {
            "backgroundcolor": "rgb(237,237,237)",
            "gridcolor": "white",
            "gridwidth": 2,
            "linecolor": "white",
            "showbackground": true,
            "showgrid": true,
            "tickcolor": "rgb(51,51,51)",
            "ticks": "outside",
            "zerolinecolor": "white"
           },
           "zaxis": {
            "backgroundcolor": "rgb(237,237,237)",
            "gridcolor": "white",
            "gridwidth": 2,
            "linecolor": "white",
            "showbackground": true,
            "showgrid": true,
            "tickcolor": "rgb(51,51,51)",
            "ticks": "outside",
            "zerolinecolor": "white"
           }
          },
          "shapedefaults": {
           "fillcolor": "black",
           "line": {
            "width": 0
           },
           "opacity": 0.3
          },
          "ternary": {
           "aaxis": {
            "gridcolor": "white",
            "linecolor": "white",
            "showgrid": true,
            "tickcolor": "rgb(51,51,51)",
            "ticks": "outside"
           },
           "baxis": {
            "gridcolor": "white",
            "linecolor": "white",
            "showgrid": true,
            "tickcolor": "rgb(51,51,51)",
            "ticks": "outside"
           },
           "bgcolor": "rgb(237,237,237)",
           "caxis": {
            "gridcolor": "white",
            "linecolor": "white",
            "showgrid": true,
            "tickcolor": "rgb(51,51,51)",
            "ticks": "outside"
           }
          },
          "xaxis": {
           "automargin": true,
           "gridcolor": "white",
           "linecolor": "white",
           "showgrid": true,
           "tickcolor": "rgb(51,51,51)",
           "ticks": "outside",
           "title": {
            "standoff": 15
           },
           "zerolinecolor": "white"
          },
          "yaxis": {
           "automargin": true,
           "gridcolor": "white",
           "linecolor": "white",
           "showgrid": true,
           "tickcolor": "rgb(51,51,51)",
           "ticks": "outside",
           "title": {
            "standoff": 15
           },
           "zerolinecolor": "white"
          }
         }
        },
        "title": {
         "text": "COORDENADAS NODOS"
        },
        "width": 800,
        "xaxis": {
         "range": [
          -10,
          210
         ],
         "title": {
          "text": "X"
         }
        },
        "yaxis": {
         "range": [
          -10,
          210
         ],
         "title": {
          "text": "Y"
         }
        }
       }
      }
     },
     "metadata": {},
     "output_type": "display_data"
    }
   ],
   "source": [
    "fig = go.Figure()\n",
    "\n",
    "# Añadir punto de depósito en rojo\n",
    "fig.add_trace(\n",
    "    go.Scatter(\n",
    "        x=[COORDENADAS[0][\"x\"]],\n",
    "        y=[COORDENADAS[0][\"y\"]],\n",
    "        mode=\"markers\",\n",
    "        name=\"Depósito\",\n",
    "        marker=dict(color=\"red\", size=15),\n",
    "    )\n",
    ")\n",
    "\n",
    "# Añadir puntos de clientes en negro\n",
    "fig.add_trace(\n",
    "    go.Scatter(\n",
    "        x=[coord[\"x\"] for coord in list(COORDENADAS.values())[1:]],\n",
    "        y=[coord[\"y\"] for coord in list(COORDENADAS.values())[1:]],\n",
    "        mode=\"markers\",\n",
    "        name=\"Clientes\",\n",
    "        marker=dict(color=\"black\", size=10),\n",
    "    )\n",
    ")\n",
    "\n",
    "# Añadir anotaciones de clientes\n",
    "for cliente in CLIENTES:\n",
    "    coord_cliente_x = COORDENADAS[cliente][\"x\"]\n",
    "    coord_cliente_y = COORDENADAS[cliente][\"y\"]\n",
    "    fig.add_annotation(x=coord_cliente_x - 8, y=coord_cliente_y + 8, text=f\"<b>C{cliente}: </b> {DEMANDAS[cliente]}\", showarrow=False)\n",
    "\n",
    "# Configurar el layout del gráfico\n",
    "fig.update_layout(\n",
    "    title=f\"COORDENADAS NODOS\",\n",
    "    xaxis_title=\"X\",\n",
    "    yaxis_title=\"Y\",\n",
    "    xaxis=dict(range=[-10, N * 10 + 10]),\n",
    "    yaxis=dict(range=[-10, N * 10 + 10]),\n",
    "    width=800,\n",
    "    height=600,\n",
    "    template=\"ggplot2\",\n",
    ")\n",
    "\n",
    "fig.show()"
   ]
  },
  {
   "cell_type": "code",
   "execution_count": 210,
   "metadata": {},
   "outputs": [],
   "source": [
    "model = cp_model.CpModel()"
   ]
  },
  {
   "attachments": {},
   "cell_type": "markdown",
   "metadata": {},
   "source": [
    "**Variables**\n",
    "\n",
    "$$ x_{n1, n2, c} = \\begin{cases} \n",
    "1 & \\text{Si el camión } c \\in \\text{CAMIONES} \\text{ viaja de } n1 \\in \\text{NODOS} \\text{ a } n2 \\in \\text{NODOS} \\\\ \n",
    "0 & \\text{d.l.c.} \n",
    "\\end{cases} $$\n",
    "$$ u_{n, c} \\in \\mathbb{R}^{+} \\text{: Carga acumulada del vehículo } c \\text{ al llegar al nodo } n \\in \\text{NODOS} $$"
   ]
  },
  {
   "cell_type": "code",
   "execution_count": 211,
   "metadata": {},
   "outputs": [],
   "source": [
    "# x = model.addVars(NODOS, NODOS, CAMIONES, vtype=GRB.BINARY, name=\"x\")\n",
    "x = {(nodo1, nodo2, camion): model.NewBoolVar(f\"x_{nodo1}_{nodo2}_{camion}\") for nodo1 in NODOS for nodo2 in NODOS for camion in CAMIONES if nodo1 != nodo2}\n",
    "assign = {(nodo, camion): model.NewBoolVar(f\"assign_{nodo}_{camion}\") for nodo in NODOS for camion in CAMIONES}\n",
    "used_car = {camion: model.NewBoolVar(f\"used_{camion}\") for camion in CAMIONES}"
   ]
  },
  {
   "cell_type": "markdown",
   "metadata": {},
   "source": [
    "**Función Objetivo**\n",
    "$$ \\text{Minimizar } \\sum_{c \\in \\text{CAMIONES}} \\sum_{n1 \\in \\text{NODOS}} \\sum_{n2 \\in \\text{NODOS}} \\text{DISTANCIAS}_{n1, n2} \\cdot x_{n1, n2, c} $$"
   ]
  },
  {
   "cell_type": "code",
   "execution_count": 212,
   "metadata": {},
   "outputs": [],
   "source": [
    "# model.setObjective(gp.quicksum(DISTANCIAS[n1, n2] * x[n1, n2, c] for n1 in NODOS for n2 in NODOS for c in CAMIONES), GRB.MINIMIZE)\n",
    "model.Minimize(sum(DISTANCIAS[n1, n2] * x[n1, n2, c] for n1 in NODOS for n2 in NODOS for c in CAMIONES if n1 != n2))"
   ]
  },
  {
   "cell_type": "markdown",
   "metadata": {},
   "source": [
    "### Restricciones"
   ]
  },
  {
   "cell_type": "code",
   "execution_count": 213,
   "metadata": {},
   "outputs": [],
   "source": [
    "for nodo in NODOS:\n",
    "    expressions = [assign[nodo, camion] for camion in CAMIONES]\n",
    "    model.AddAtLeastOne(expressions)\n",
    "\n",
    "for nodo in NODOS:\n",
    "    for camion in CAMIONES:\n",
    "        model.Add(assign[nodo, camion] <= used_car[camion])\n",
    "        \n",
    "for camion in CAMIONES:\n",
    "    model.Add(assign[0, camion] == used_car[camion])\n",
    "    \n",
    "    arcs = [(n1, n2, x[n1, n2, camion]) for n1 in NODOS for n2 in NODOS if n1 != n2] + [(nodo, nodo, assign[nodo, camion].Not()) for nodo in NODOS]\n",
    "    model.AddCircuit(arcs)\n",
    "\n",
    "    # model.Add(sum(x[nodo, cliente, camion] * DEMANDAS[cliente] for nodo in NODOS for cliente in CLIENTES if nodo != cliente) <= CAPACIDAD_CAMION[camion])\n",
    "    # expressions = [v * data[i][2] for (i, c, c), v in assign.items() if c == cc]\n",
    "    # expressions = [assign[nodo, camion] * DEMANDAS[nodo] for (nodo, camion_), var in assign.items() if camion == camion_ and nodo in CLIENTES]\n",
    "    model.Add(sum(assign[cliente, camion] * DEMANDAS[cliente] for cliente in CLIENTES) <= CAPACIDAD_CAMION[camion])"
   ]
  },
  {
   "cell_type": "code",
   "execution_count": 214,
   "metadata": {},
   "outputs": [],
   "source": [
    "solver = cp_model.CpSolver()\n",
    "solver.parameters.max_time_in_seconds = 20"
   ]
  },
  {
   "cell_type": "code",
   "execution_count": 215,
   "metadata": {},
   "outputs": [],
   "source": [
    "status = solver.Solve(model)"
   ]
  },
  {
   "cell_type": "code",
   "execution_count": 216,
   "metadata": {},
   "outputs": [
    {
     "data": {
      "text/plain": [
       "2"
      ]
     },
     "execution_count": 216,
     "metadata": {},
     "output_type": "execute_result"
    }
   ],
   "source": [
    "status"
   ]
  },
  {
   "cell_type": "code",
   "execution_count": 217,
   "metadata": {},
   "outputs": [
    {
     "data": {
      "text/plain": [
       "False"
      ]
     },
     "execution_count": 217,
     "metadata": {},
     "output_type": "execute_result"
    }
   ],
   "source": [
    "status == cp_model.OPTIMAL"
   ]
  },
  {
   "cell_type": "code",
   "execution_count": 218,
   "metadata": {},
   "outputs": [
    {
     "data": {
      "text/plain": [
       "1494.1623366508247"
      ]
     },
     "execution_count": 218,
     "metadata": {},
     "output_type": "execute_result"
    }
   ],
   "source": [
    "solver.ObjectiveValue()"
   ]
  },
  {
   "cell_type": "code",
   "execution_count": 219,
   "metadata": {},
   "outputs": [
    {
     "name": "stdout",
     "output_type": "stream",
     "text": [
      "==== Ruta camión 1 ====\n",
      "0 -> 2 -> 11 -> 5 -> 15 -> 0\n",
      "==== Ruta camión 2 ====\n",
      "0 -> 17 -> 10 -> 6 -> 8 -> 0\n",
      "==== Ruta camión 3 ====\n",
      "0 -> 7 -> 16 -> 13 -> 20 -> 12 -> 0\n",
      "==== Ruta camión 4 ====\n",
      "0 -> 3 -> 18 -> 14 -> 0\n",
      "==== Ruta camión 5 ====\n",
      "0 -> 4 -> 1 -> 19 -> 9 -> 0\n",
      "\n",
      "==== Arreglo de rutas ====\n",
      "{1: [0, 2, 11, 5, 15, 0], 2: [0, 17, 10, 6, 8, 0], 3: [0, 7, 16, 13, 20, 12, 0], 4: [0, 3, 18, 14, 0], 5: [0, 4, 1, 19, 9, 0]}\n"
     ]
    }
   ],
   "source": [
    "rutas = {}\n",
    "for camion in CAMIONES:\n",
    "    for cliente in CLIENTES:\n",
    "        if solver.Value(x[0, cliente, camion]) > 0.9:\n",
    "            print(f\"==== Ruta camión {camion} ====\")\n",
    "            ruta = [0, cliente]\n",
    "            r = \"0 -> \" + str(cliente) + \" -> \"\n",
    "\n",
    "            cliente_actual = cliente\n",
    "            while solver.Value(x[cliente_actual, 0, camion]) < 0.9:\n",
    "                for siguiente_cliente in CLIENTES:\n",
    "                    if cliente_actual != siguiente_cliente:\n",
    "                        if solver.Value(x[cliente_actual, siguiente_cliente, camion]) > 0.9:\n",
    "                            break\n",
    "                ruta.append(siguiente_cliente)\n",
    "                r += str(siguiente_cliente) + \" -> \"\n",
    "                cliente_actual = siguiente_cliente\n",
    "\n",
    "            ruta.append(0)\n",
    "            r += \"0\"\n",
    "            print(r)\n",
    "            rutas[camion] = ruta\n",
    "            \n",
    "print(\"\\n==== Arreglo de rutas ====\")\n",
    "print(rutas)\n"
   ]
  },
  {
   "cell_type": "code",
   "execution_count": 220,
   "metadata": {},
   "outputs": [
    {
     "data": {
      "application/vnd.plotly.v1+json": {
       "config": {
        "plotlyServerURL": "https://plot.ly"
       },
       "data": [
        {
         "line": {
          "color": "#DC3912",
          "dash": "solid",
          "width": 2
         },
         "mode": "lines",
         "name": "Ruta C1 - CAP: 61 D: 378.04",
         "type": "scatter",
         "x": [
          121,
          80,
          183,
          199,
          182,
          121
         ],
         "y": [
          63,
          133,
          194,
          164,
          89,
          63
         ]
        },
        {
         "line": {
          "color": "#FF9900",
          "dash": "solid",
          "width": 2
         },
         "mode": "lines",
         "name": "Ruta C2 - CAP: 59 D: 229.89",
         "type": "scatter",
         "x": [
          121,
          191,
          200,
          197,
          182,
          121
         ],
         "y": [
          63,
          60,
          61,
          30,
          1,
          63
         ]
        },
        {
         "line": {
          "color": "#109618",
          "dash": "solid",
          "width": 2
         },
         "mode": "lines",
         "name": "Ruta C3 - CAP: 67 D: 322.15",
         "type": "scatter",
         "x": [
          121,
          68,
          7,
          28,
          29,
          83,
          121
         ],
         "y": [
          63,
          34,
          5,
          75,
          85,
          102,
          63
         ]
        },
        {
         "line": {
          "color": "#990099",
          "dash": "solid",
          "width": 2
         },
         "mode": "lines",
         "name": "Ruta C4 - CAP: 51 D: 200.16",
         "type": "scatter",
         "x": [
          121,
          84,
          128,
          169,
          121
         ],
         "y": [
          63,
          22,
          47,
          68,
          63
         ]
        },
        {
         "line": {
          "color": "#0099C6",
          "dash": "solid",
          "width": 2
         },
         "mode": "lines",
         "name": "Ruta C5 - CAP: 69 D: 363.92",
         "type": "scatter",
         "x": [
          121,
          16,
          25,
          82,
          112,
          121
         ],
         "y": [
          63,
          123,
          176,
          188,
          96,
          63
         ]
        },
        {
         "marker": {
          "color": "red",
          "size": 15
         },
         "mode": "markers",
         "name": "Depósito",
         "type": "scatter",
         "x": [
          121
         ],
         "y": [
          63
         ]
        },
        {
         "marker": {
          "color": "black",
          "size": 10
         },
         "mode": "markers",
         "name": "Clientes",
         "type": "scatter",
         "x": [
          25,
          80,
          84,
          16,
          199,
          197,
          68,
          182,
          112,
          200,
          183,
          83,
          28,
          169,
          182,
          7,
          191,
          128,
          82,
          29
         ],
         "y": [
          176,
          133,
          22,
          123,
          164,
          30,
          34,
          1,
          96,
          61,
          194,
          102,
          75,
          68,
          89,
          5,
          60,
          47,
          188,
          85
         ]
        }
       ],
       "layout": {
        "annotations": [
         {
          "arrowcolor": "#DC3912",
          "arrowhead": 1,
          "arrowsize": 2,
          "arrowwidth": 1,
          "ax": 104.6,
          "axref": "x",
          "ay": 91,
          "ayref": "y",
          "showarrow": true,
          "x": 100.5,
          "xref": "x",
          "y": 98,
          "yref": "y"
         },
         {
          "arrowcolor": "#DC3912",
          "arrowhead": 1,
          "arrowsize": 2,
          "arrowwidth": 1,
          "ax": 121.2,
          "axref": "x",
          "ay": 157.4,
          "ayref": "y",
          "showarrow": true,
          "x": 131.5,
          "xref": "x",
          "y": 163.5,
          "yref": "y"
         },
         {
          "arrowcolor": "#DC3912",
          "arrowhead": 1,
          "arrowsize": 2,
          "arrowwidth": 1,
          "ax": 189.4,
          "axref": "x",
          "ay": 182,
          "ayref": "y",
          "showarrow": true,
          "x": 191,
          "xref": "x",
          "y": 179,
          "yref": "y"
         },
         {
          "arrowcolor": "#DC3912",
          "arrowhead": 1,
          "arrowsize": 2,
          "arrowwidth": 1,
          "ax": 192.2,
          "axref": "x",
          "ay": 134,
          "ayref": "y",
          "showarrow": true,
          "x": 190.5,
          "xref": "x",
          "y": 126.5,
          "yref": "y"
         },
         {
          "arrowcolor": "#DC3912",
          "arrowhead": 1,
          "arrowsize": 2,
          "arrowwidth": 1,
          "ax": 157.6,
          "axref": "x",
          "ay": 78.6,
          "ayref": "y",
          "showarrow": true,
          "x": 151.5,
          "xref": "x",
          "y": 76,
          "yref": "y"
         },
         {
          "arrowcolor": "#FF9900",
          "arrowhead": 1,
          "arrowsize": 2,
          "arrowwidth": 1,
          "ax": 149,
          "axref": "x",
          "ay": 61.8,
          "ayref": "y",
          "showarrow": true,
          "x": 156,
          "xref": "x",
          "y": 61.5,
          "yref": "y"
         },
         {
          "arrowcolor": "#FF9900",
          "arrowhead": 1,
          "arrowsize": 2,
          "arrowwidth": 1,
          "ax": 194.6,
          "axref": "x",
          "ay": 60.4,
          "ayref": "y",
          "showarrow": true,
          "x": 195.5,
          "xref": "x",
          "y": 60.5,
          "yref": "y"
         },
         {
          "arrowcolor": "#FF9900",
          "arrowhead": 1,
          "arrowsize": 2,
          "arrowwidth": 1,
          "ax": 198.8,
          "axref": "x",
          "ay": 48.6,
          "ayref": "y",
          "showarrow": true,
          "x": 198.5,
          "xref": "x",
          "y": 45.5,
          "yref": "y"
         },
         {
          "arrowcolor": "#FF9900",
          "arrowhead": 1,
          "arrowsize": 2,
          "arrowwidth": 1,
          "ax": 191,
          "axref": "x",
          "ay": 18.4,
          "ayref": "y",
          "showarrow": true,
          "x": 189.5,
          "xref": "x",
          "y": 15.5,
          "yref": "y"
         },
         {
          "arrowcolor": "#FF9900",
          "arrowhead": 1,
          "arrowsize": 2,
          "arrowwidth": 1,
          "ax": 157.6,
          "axref": "x",
          "ay": 25.8,
          "ayref": "y",
          "showarrow": true,
          "x": 151.5,
          "xref": "x",
          "y": 32,
          "yref": "y"
         },
         {
          "arrowcolor": "#109618",
          "arrowhead": 1,
          "arrowsize": 2,
          "arrowwidth": 1,
          "ax": 99.8,
          "axref": "x",
          "ay": 51.4,
          "ayref": "y",
          "showarrow": true,
          "x": 94.5,
          "xref": "x",
          "y": 48.5,
          "yref": "y"
         },
         {
          "arrowcolor": "#109618",
          "arrowhead": 1,
          "arrowsize": 2,
          "arrowwidth": 1,
          "ax": 43.6,
          "axref": "x",
          "ay": 22.4,
          "ayref": "y",
          "showarrow": true,
          "x": 37.5,
          "xref": "x",
          "y": 19.5,
          "yref": "y"
         },
         {
          "arrowcolor": "#109618",
          "arrowhead": 1,
          "arrowsize": 2,
          "arrowwidth": 1,
          "ax": 15.4,
          "axref": "x",
          "ay": 33,
          "ayref": "y",
          "showarrow": true,
          "x": 17.5,
          "xref": "x",
          "y": 40,
          "yref": "y"
         },
         {
          "arrowcolor": "#109618",
          "arrowhead": 1,
          "arrowsize": 2,
          "arrowwidth": 1,
          "ax": 28.4,
          "axref": "x",
          "ay": 79,
          "ayref": "y",
          "showarrow": true,
          "x": 28.5,
          "xref": "x",
          "y": 80,
          "yref": "y"
         },
         {
          "arrowcolor": "#109618",
          "arrowhead": 1,
          "arrowsize": 2,
          "arrowwidth": 1,
          "ax": 50.6,
          "axref": "x",
          "ay": 91.8,
          "ayref": "y",
          "showarrow": true,
          "x": 56,
          "xref": "x",
          "y": 93.5,
          "yref": "y"
         },
         {
          "arrowcolor": "#109618",
          "arrowhead": 1,
          "arrowsize": 2,
          "arrowwidth": 1,
          "ax": 98.2,
          "axref": "x",
          "ay": 86.4,
          "ayref": "y",
          "showarrow": true,
          "x": 102,
          "xref": "x",
          "y": 82.5,
          "yref": "y"
         },
         {
          "arrowcolor": "#990099",
          "arrowhead": 1,
          "arrowsize": 2,
          "arrowwidth": 1,
          "ax": 106.2,
          "axref": "x",
          "ay": 46.6,
          "ayref": "y",
          "showarrow": true,
          "x": 102.5,
          "xref": "x",
          "y": 42.5,
          "yref": "y"
         },
         {
          "arrowcolor": "#990099",
          "arrowhead": 1,
          "arrowsize": 2,
          "arrowwidth": 1,
          "ax": 101.6,
          "axref": "x",
          "ay": 32,
          "ayref": "y",
          "showarrow": true,
          "x": 106,
          "xref": "x",
          "y": 34.5,
          "yref": "y"
         },
         {
          "arrowcolor": "#990099",
          "arrowhead": 1,
          "arrowsize": 2,
          "arrowwidth": 1,
          "ax": 144.4,
          "axref": "x",
          "ay": 55.4,
          "ayref": "y",
          "showarrow": true,
          "x": 148.5,
          "xref": "x",
          "y": 57.5,
          "yref": "y"
         },
         {
          "arrowcolor": "#990099",
          "arrowhead": 1,
          "arrowsize": 2,
          "arrowwidth": 1,
          "ax": 149.8,
          "axref": "x",
          "ay": 66,
          "ayref": "y",
          "showarrow": true,
          "x": 145,
          "xref": "x",
          "y": 65.5,
          "yref": "y"
         },
         {
          "arrowcolor": "#0099C6",
          "arrowhead": 1,
          "arrowsize": 2,
          "arrowwidth": 1,
          "ax": 79,
          "axref": "x",
          "ay": 87,
          "ayref": "y",
          "showarrow": true,
          "x": 68.5,
          "xref": "x",
          "y": 93,
          "yref": "y"
         },
         {
          "arrowcolor": "#0099C6",
          "arrowhead": 1,
          "arrowsize": 2,
          "arrowwidth": 1,
          "ax": 19.6,
          "axref": "x",
          "ay": 144.2,
          "ayref": "y",
          "showarrow": true,
          "x": 20.5,
          "xref": "x",
          "y": 149.5,
          "yref": "y"
         },
         {
          "arrowcolor": "#0099C6",
          "arrowhead": 1,
          "arrowsize": 2,
          "arrowwidth": 1,
          "ax": 47.8,
          "axref": "x",
          "ay": 180.8,
          "ayref": "y",
          "showarrow": true,
          "x": 53.5,
          "xref": "x",
          "y": 182,
          "yref": "y"
         },
         {
          "arrowcolor": "#0099C6",
          "arrowhead": 1,
          "arrowsize": 2,
          "arrowwidth": 1,
          "ax": 94,
          "axref": "x",
          "ay": 151.2,
          "ayref": "y",
          "showarrow": true,
          "x": 97,
          "xref": "x",
          "y": 142,
          "yref": "y"
         },
         {
          "arrowcolor": "#0099C6",
          "arrowhead": 1,
          "arrowsize": 2,
          "arrowwidth": 1,
          "ax": 115.6,
          "axref": "x",
          "ay": 82.8,
          "ayref": "y",
          "showarrow": true,
          "x": 116.5,
          "xref": "x",
          "y": 79.5,
          "yref": "y"
         },
         {
          "showarrow": false,
          "text": "<b>C1: </b> 19",
          "x": 17,
          "y": 184
         },
         {
          "showarrow": false,
          "text": "<b>C2: </b> 20",
          "x": 72,
          "y": 141
         },
         {
          "showarrow": false,
          "text": "<b>C3: </b> 20",
          "x": 76,
          "y": 30
         },
         {
          "showarrow": false,
          "text": "<b>C4: </b> 17",
          "x": 8,
          "y": 131
         },
         {
          "showarrow": false,
          "text": "<b>C5: </b> 12",
          "x": 191,
          "y": 172
         },
         {
          "showarrow": false,
          "text": "<b>C6: </b> 17",
          "x": 189,
          "y": 38
         },
         {
          "showarrow": false,
          "text": "<b>C7: </b> 14",
          "x": 60,
          "y": 42
         },
         {
          "showarrow": false,
          "text": "<b>C8: </b> 15",
          "x": 174,
          "y": 9
         },
         {
          "showarrow": false,
          "text": "<b>C9: </b> 15",
          "x": 104,
          "y": 104
         },
         {
          "showarrow": false,
          "text": "<b>C10: </b> 14",
          "x": 192,
          "y": 69
         },
         {
          "showarrow": false,
          "text": "<b>C11: </b> 10",
          "x": 175,
          "y": 202
         },
         {
          "showarrow": false,
          "text": "<b>C12: </b> 11",
          "x": 75,
          "y": 110
         },
         {
          "showarrow": false,
          "text": "<b>C13: </b> 14",
          "x": 20,
          "y": 83
         },
         {
          "showarrow": false,
          "text": "<b>C14: </b> 12",
          "x": 161,
          "y": 76
         },
         {
          "showarrow": false,
          "text": "<b>C15: </b> 19",
          "x": 174,
          "y": 97
         },
         {
          "showarrow": false,
          "text": "<b>C16: </b> 18",
          "x": -1,
          "y": 13
         },
         {
          "showarrow": false,
          "text": "<b>C17: </b> 13",
          "x": 183,
          "y": 68
         },
         {
          "showarrow": false,
          "text": "<b>C18: </b> 19",
          "x": 120,
          "y": 55
         },
         {
          "showarrow": false,
          "text": "<b>C19: </b> 18",
          "x": 74,
          "y": 196
         },
         {
          "showarrow": false,
          "text": "<b>C20: </b> 10",
          "x": 21,
          "y": 93
         }
        ],
        "height": 600,
        "template": {
         "data": {
          "bar": [
           {
            "error_x": {
             "color": "rgb(51,51,51)"
            },
            "error_y": {
             "color": "rgb(51,51,51)"
            },
            "marker": {
             "line": {
              "color": "rgb(237,237,237)",
              "width": 0.5
             },
             "pattern": {
              "fillmode": "overlay",
              "size": 10,
              "solidity": 0.2
             }
            },
            "type": "bar"
           }
          ],
          "barpolar": [
           {
            "marker": {
             "line": {
              "color": "rgb(237,237,237)",
              "width": 0.5
             },
             "pattern": {
              "fillmode": "overlay",
              "size": 10,
              "solidity": 0.2
             }
            },
            "type": "barpolar"
           }
          ],
          "carpet": [
           {
            "aaxis": {
             "endlinecolor": "rgb(51,51,51)",
             "gridcolor": "white",
             "linecolor": "white",
             "minorgridcolor": "white",
             "startlinecolor": "rgb(51,51,51)"
            },
            "baxis": {
             "endlinecolor": "rgb(51,51,51)",
             "gridcolor": "white",
             "linecolor": "white",
             "minorgridcolor": "white",
             "startlinecolor": "rgb(51,51,51)"
            },
            "type": "carpet"
           }
          ],
          "choropleth": [
           {
            "colorbar": {
             "outlinewidth": 0,
             "tickcolor": "rgb(237,237,237)",
             "ticklen": 6,
             "ticks": "inside"
            },
            "type": "choropleth"
           }
          ],
          "contour": [
           {
            "colorbar": {
             "outlinewidth": 0,
             "tickcolor": "rgb(237,237,237)",
             "ticklen": 6,
             "ticks": "inside"
            },
            "colorscale": [
             [
              0,
              "rgb(20,44,66)"
             ],
             [
              1,
              "rgb(90,179,244)"
             ]
            ],
            "type": "contour"
           }
          ],
          "contourcarpet": [
           {
            "colorbar": {
             "outlinewidth": 0,
             "tickcolor": "rgb(237,237,237)",
             "ticklen": 6,
             "ticks": "inside"
            },
            "type": "contourcarpet"
           }
          ],
          "heatmap": [
           {
            "colorbar": {
             "outlinewidth": 0,
             "tickcolor": "rgb(237,237,237)",
             "ticklen": 6,
             "ticks": "inside"
            },
            "colorscale": [
             [
              0,
              "rgb(20,44,66)"
             ],
             [
              1,
              "rgb(90,179,244)"
             ]
            ],
            "type": "heatmap"
           }
          ],
          "heatmapgl": [
           {
            "colorbar": {
             "outlinewidth": 0,
             "tickcolor": "rgb(237,237,237)",
             "ticklen": 6,
             "ticks": "inside"
            },
            "colorscale": [
             [
              0,
              "rgb(20,44,66)"
             ],
             [
              1,
              "rgb(90,179,244)"
             ]
            ],
            "type": "heatmapgl"
           }
          ],
          "histogram": [
           {
            "marker": {
             "pattern": {
              "fillmode": "overlay",
              "size": 10,
              "solidity": 0.2
             }
            },
            "type": "histogram"
           }
          ],
          "histogram2d": [
           {
            "colorbar": {
             "outlinewidth": 0,
             "tickcolor": "rgb(237,237,237)",
             "ticklen": 6,
             "ticks": "inside"
            },
            "colorscale": [
             [
              0,
              "rgb(20,44,66)"
             ],
             [
              1,
              "rgb(90,179,244)"
             ]
            ],
            "type": "histogram2d"
           }
          ],
          "histogram2dcontour": [
           {
            "colorbar": {
             "outlinewidth": 0,
             "tickcolor": "rgb(237,237,237)",
             "ticklen": 6,
             "ticks": "inside"
            },
            "colorscale": [
             [
              0,
              "rgb(20,44,66)"
             ],
             [
              1,
              "rgb(90,179,244)"
             ]
            ],
            "type": "histogram2dcontour"
           }
          ],
          "mesh3d": [
           {
            "colorbar": {
             "outlinewidth": 0,
             "tickcolor": "rgb(237,237,237)",
             "ticklen": 6,
             "ticks": "inside"
            },
            "type": "mesh3d"
           }
          ],
          "parcoords": [
           {
            "line": {
             "colorbar": {
              "outlinewidth": 0,
              "tickcolor": "rgb(237,237,237)",
              "ticklen": 6,
              "ticks": "inside"
             }
            },
            "type": "parcoords"
           }
          ],
          "pie": [
           {
            "automargin": true,
            "type": "pie"
           }
          ],
          "scatter": [
           {
            "fillpattern": {
             "fillmode": "overlay",
             "size": 10,
             "solidity": 0.2
            },
            "type": "scatter"
           }
          ],
          "scatter3d": [
           {
            "line": {
             "colorbar": {
              "outlinewidth": 0,
              "tickcolor": "rgb(237,237,237)",
              "ticklen": 6,
              "ticks": "inside"
             }
            },
            "marker": {
             "colorbar": {
              "outlinewidth": 0,
              "tickcolor": "rgb(237,237,237)",
              "ticklen": 6,
              "ticks": "inside"
             }
            },
            "type": "scatter3d"
           }
          ],
          "scattercarpet": [
           {
            "marker": {
             "colorbar": {
              "outlinewidth": 0,
              "tickcolor": "rgb(237,237,237)",
              "ticklen": 6,
              "ticks": "inside"
             }
            },
            "type": "scattercarpet"
           }
          ],
          "scattergeo": [
           {
            "marker": {
             "colorbar": {
              "outlinewidth": 0,
              "tickcolor": "rgb(237,237,237)",
              "ticklen": 6,
              "ticks": "inside"
             }
            },
            "type": "scattergeo"
           }
          ],
          "scattergl": [
           {
            "marker": {
             "colorbar": {
              "outlinewidth": 0,
              "tickcolor": "rgb(237,237,237)",
              "ticklen": 6,
              "ticks": "inside"
             }
            },
            "type": "scattergl"
           }
          ],
          "scattermapbox": [
           {
            "marker": {
             "colorbar": {
              "outlinewidth": 0,
              "tickcolor": "rgb(237,237,237)",
              "ticklen": 6,
              "ticks": "inside"
             }
            },
            "type": "scattermapbox"
           }
          ],
          "scatterpolar": [
           {
            "marker": {
             "colorbar": {
              "outlinewidth": 0,
              "tickcolor": "rgb(237,237,237)",
              "ticklen": 6,
              "ticks": "inside"
             }
            },
            "type": "scatterpolar"
           }
          ],
          "scatterpolargl": [
           {
            "marker": {
             "colorbar": {
              "outlinewidth": 0,
              "tickcolor": "rgb(237,237,237)",
              "ticklen": 6,
              "ticks": "inside"
             }
            },
            "type": "scatterpolargl"
           }
          ],
          "scatterternary": [
           {
            "marker": {
             "colorbar": {
              "outlinewidth": 0,
              "tickcolor": "rgb(237,237,237)",
              "ticklen": 6,
              "ticks": "inside"
             }
            },
            "type": "scatterternary"
           }
          ],
          "surface": [
           {
            "colorbar": {
             "outlinewidth": 0,
             "tickcolor": "rgb(237,237,237)",
             "ticklen": 6,
             "ticks": "inside"
            },
            "colorscale": [
             [
              0,
              "rgb(20,44,66)"
             ],
             [
              1,
              "rgb(90,179,244)"
             ]
            ],
            "type": "surface"
           }
          ],
          "table": [
           {
            "cells": {
             "fill": {
              "color": "rgb(237,237,237)"
             },
             "line": {
              "color": "white"
             }
            },
            "header": {
             "fill": {
              "color": "rgb(217,217,217)"
             },
             "line": {
              "color": "white"
             }
            },
            "type": "table"
           }
          ]
         },
         "layout": {
          "annotationdefaults": {
           "arrowhead": 0,
           "arrowwidth": 1
          },
          "autotypenumbers": "strict",
          "coloraxis": {
           "colorbar": {
            "outlinewidth": 0,
            "tickcolor": "rgb(237,237,237)",
            "ticklen": 6,
            "ticks": "inside"
           }
          },
          "colorscale": {
           "sequential": [
            [
             0,
             "rgb(20,44,66)"
            ],
            [
             1,
             "rgb(90,179,244)"
            ]
           ],
           "sequentialminus": [
            [
             0,
             "rgb(20,44,66)"
            ],
            [
             1,
             "rgb(90,179,244)"
            ]
           ]
          },
          "colorway": [
           "#F8766D",
           "#A3A500",
           "#00BF7D",
           "#00B0F6",
           "#E76BF3"
          ],
          "font": {
           "color": "rgb(51,51,51)"
          },
          "geo": {
           "bgcolor": "white",
           "lakecolor": "white",
           "landcolor": "rgb(237,237,237)",
           "showlakes": true,
           "showland": true,
           "subunitcolor": "white"
          },
          "hoverlabel": {
           "align": "left"
          },
          "hovermode": "closest",
          "paper_bgcolor": "white",
          "plot_bgcolor": "rgb(237,237,237)",
          "polar": {
           "angularaxis": {
            "gridcolor": "white",
            "linecolor": "white",
            "showgrid": true,
            "tickcolor": "rgb(51,51,51)",
            "ticks": "outside"
           },
           "bgcolor": "rgb(237,237,237)",
           "radialaxis": {
            "gridcolor": "white",
            "linecolor": "white",
            "showgrid": true,
            "tickcolor": "rgb(51,51,51)",
            "ticks": "outside"
           }
          },
          "scene": {
           "xaxis": {
            "backgroundcolor": "rgb(237,237,237)",
            "gridcolor": "white",
            "gridwidth": 2,
            "linecolor": "white",
            "showbackground": true,
            "showgrid": true,
            "tickcolor": "rgb(51,51,51)",
            "ticks": "outside",
            "zerolinecolor": "white"
           },
           "yaxis": {
            "backgroundcolor": "rgb(237,237,237)",
            "gridcolor": "white",
            "gridwidth": 2,
            "linecolor": "white",
            "showbackground": true,
            "showgrid": true,
            "tickcolor": "rgb(51,51,51)",
            "ticks": "outside",
            "zerolinecolor": "white"
           },
           "zaxis": {
            "backgroundcolor": "rgb(237,237,237)",
            "gridcolor": "white",
            "gridwidth": 2,
            "linecolor": "white",
            "showbackground": true,
            "showgrid": true,
            "tickcolor": "rgb(51,51,51)",
            "ticks": "outside",
            "zerolinecolor": "white"
           }
          },
          "shapedefaults": {
           "fillcolor": "black",
           "line": {
            "width": 0
           },
           "opacity": 0.3
          },
          "ternary": {
           "aaxis": {
            "gridcolor": "white",
            "linecolor": "white",
            "showgrid": true,
            "tickcolor": "rgb(51,51,51)",
            "ticks": "outside"
           },
           "baxis": {
            "gridcolor": "white",
            "linecolor": "white",
            "showgrid": true,
            "tickcolor": "rgb(51,51,51)",
            "ticks": "outside"
           },
           "bgcolor": "rgb(237,237,237)",
           "caxis": {
            "gridcolor": "white",
            "linecolor": "white",
            "showgrid": true,
            "tickcolor": "rgb(51,51,51)",
            "ticks": "outside"
           }
          },
          "xaxis": {
           "automargin": true,
           "gridcolor": "white",
           "linecolor": "white",
           "showgrid": true,
           "tickcolor": "rgb(51,51,51)",
           "ticks": "outside",
           "title": {
            "standoff": 15
           },
           "zerolinecolor": "white"
          },
          "yaxis": {
           "automargin": true,
           "gridcolor": "white",
           "linecolor": "white",
           "showgrid": true,
           "tickcolor": "rgb(51,51,51)",
           "ticks": "outside",
           "title": {
            "standoff": 15
           },
           "zerolinecolor": "white"
          }
         }
        },
        "title": {
         "text": "RECORRIDO TOTAL: 1494.16"
        },
        "width": 800,
        "xaxis": {
         "range": [
          -10,
          210
         ],
         "title": {
          "text": "X"
         }
        },
        "yaxis": {
         "range": [
          -10,
          210
         ],
         "title": {
          "text": "Y"
         }
        }
       }
      }
     },
     "metadata": {},
     "output_type": "display_data"
    }
   ],
   "source": [
    "fig = go.Figure()\n",
    "\n",
    "# RUTAS\n",
    "for id_camion, ruta in rutas.items():\n",
    "    coords_x = [COORDENADAS[nodo][\"x\"] for nodo in ruta]\n",
    "    coords_y = [COORDENADAS[nodo][\"y\"] for nodo in ruta]\n",
    "    capacidad_ruta = sum(map(lambda x: DEMANDAS[x] if x != 0 else 0, ruta))\n",
    "    distancia_ruta = sum([DISTANCIAS[(ruta[i], ruta[i + 1])] for i in range(len(ruta) - 1)])\n",
    "\n",
    "    fig.add_trace(\n",
    "        go.Scatter(\n",
    "            x=coords_x,\n",
    "            y=coords_y,\n",
    "            mode=\"lines\",\n",
    "            line=dict(color=px.colors.qualitative.G10[id_camion % len(px.colors.qualitative.G10)], width=2, dash=\"solid\"),\n",
    "            name=f\"Ruta C{id_camion} - CAP: {capacidad_ruta} D: {distancia_ruta:.2f}\",\n",
    "        )\n",
    "    )\n",
    "\n",
    "    # FLECHAS\n",
    "    for i in range(len(ruta) - 1):\n",
    "        mid_x = (coords_x[i] + coords_x[i + 1]) / 2\n",
    "        mid_y = (coords_y[i] + coords_y[i + 1]) / 2\n",
    "        fig.add_annotation(\n",
    "            x=mid_x, y=mid_y,\n",
    "            ax=mid_x - (coords_x[i + 1] - coords_x[i]) * 0.1, ay=mid_y - (coords_y[i + 1] - coords_y[i]) * 0.1,\n",
    "            xref=\"x\",\n",
    "            yref=\"y\",\n",
    "            axref=\"x\",\n",
    "            ayref=\"y\",\n",
    "            showarrow=True,\n",
    "            arrowhead=1,\n",
    "            arrowsize=2,\n",
    "            arrowwidth=1,\n",
    "            arrowcolor=px.colors.qualitative.G10[id_camion % len(px.colors.qualitative.G10)],\n",
    "        )\n",
    "\n",
    "# DEPÓSITO\n",
    "fig.add_trace(\n",
    "    go.Scatter(\n",
    "        x=[COORDENADAS[0][\"x\"]],\n",
    "        y=[COORDENADAS[0][\"y\"]],\n",
    "        mode=\"markers\",\n",
    "        name=\"Depósito\",\n",
    "        marker=dict(color=\"red\", size=15),\n",
    "    )\n",
    ")\n",
    "\n",
    "# CLIENTES\n",
    "fig.add_trace(\n",
    "    go.Scatter(\n",
    "        x=[coord[\"x\"] for coord in list(COORDENADAS.values())[1:]],\n",
    "        y=[coord[\"y\"] for coord in list(COORDENADAS.values())[1:]],\n",
    "        mode=\"markers\",\n",
    "        name=\"Clientes\",\n",
    "        marker=dict(color=\"black\", size=10),\n",
    "    )\n",
    ")\n",
    "\n",
    "for cliente in CLIENTES:\n",
    "    coord_cliente_x = COORDENADAS[cliente][\"x\"]\n",
    "    coord_cliente_y = COORDENADAS[cliente][\"y\"]\n",
    "    fig.add_annotation(x=coord_cliente_x - 8, y=coord_cliente_y + 8, text=f\"<b>C{cliente}: </b> {DEMANDAS[cliente]}\", showarrow=False)\n",
    "\n",
    "\n",
    "fig.update_layout(\n",
    "    title=f\"RECORRIDO TOTAL: {solver.ObjectiveValue():.2f}\",\n",
    "    xaxis_title=\"X\",\n",
    "    yaxis_title=\"Y\",\n",
    "    xaxis=dict(range=[-10, N * 10 + 10]),\n",
    "    yaxis=dict(range=[-10, N * 10 + 10]),\n",
    "    width=800,\n",
    "    height=600,\n",
    "    template=\"ggplot2\",\n",
    ")\n",
    "\n",
    "fig.show()"
   ]
  }
 ],
 "metadata": {
  "kernelspec": {
   "display_name": "Python 3.7.11 ('base')",
   "language": "python",
   "name": "python3"
  },
  "language_info": {
   "codemirror_mode": {
    "name": "ipython",
    "version": 3
   },
   "file_extension": ".py",
   "mimetype": "text/x-python",
   "name": "python",
   "nbconvert_exporter": "python",
   "pygments_lexer": "ipython3",
   "version": "3.10.10"
  },
  "orig_nbformat": 4,
  "vscode": {
   "interpreter": {
    "hash": "d90077ce7125d20909e99e912648307be4f32fccb58a5fb76bf45800dc67acda"
   }
  }
 },
 "nbformat": 4,
 "nbformat_minor": 2
}
