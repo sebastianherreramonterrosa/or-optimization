{
 "cells": [
  {
   "cell_type": "code",
   "execution_count": 1,
   "metadata": {},
   "outputs": [],
   "source": [
    "import pandas\n",
    "import scipy\n",
    "from docplex.mp.model import Model\n",
    "import plotly.graph_objects as go\n",
    "import matplotlib.pyplot as plt\n",
    "import numpy"
   ]
  },
  {
   "cell_type": "code",
   "execution_count": 2,
   "metadata": {},
   "outputs": [],
   "source": [
    "COLUMNAS = [\"a\", \"b\", \"c\", \"d\", \"e\", \"f\", \"g\", \"h\"]\n",
    "FILAS = [1, 2, 3, 4, 5, 6, 7, 8]\n",
    "CASILLAS = [f\"{columna}{fila}\" for columna in COLUMNAS for fila in FILAS]\n",
    "PIEZAS = [\"K\", \"R\", \"Q\", \"N\", \"B\"]"
   ]
  },
  {
   "cell_type": "code",
   "execution_count": 3,
   "metadata": {},
   "outputs": [],
   "source": [
    "def ataque_torre(casilla: str) -> list[str]:\n",
    "    columna_torre = COLUMNAS.index(casilla[0]) + 1\n",
    "    fila_torre = int(casilla[1])\n",
    "    casillas_atacadas = []\n",
    "    for fila in range(1, 9):\n",
    "        if fila != fila_torre:\n",
    "            casillas_atacadas.append(f\"{COLUMNAS[columna_torre - 1]}{fila}\")\n",
    "    for i, columna in enumerate(COLUMNAS):\n",
    "        if i + 1 != columna_torre:\n",
    "            casillas_atacadas.append(f\"{columna}{fila_torre}\")\n",
    "    return casillas_atacadas\n",
    "\n",
    "\n",
    "def ataque_alfil(casilla: str) -> list[str]:\n",
    "    columna_alfil = COLUMNAS.index(casilla[0])\n",
    "    fila_alfil = int(casilla[1])\n",
    "    casillas_atacadas = []\n",
    "    direcciones = [(-1, -1), (-1, 1), (1, -1), (1, 1)]\n",
    "    for dx, dy in direcciones:\n",
    "        x, y = columna_alfil, fila_alfil\n",
    "        while 0 <= x + dx < 8 and 0 <= y + dy <= 8:\n",
    "            x += dx\n",
    "            y += dy\n",
    "            if 0 <= x < 8 and 1 <= y <= 8:\n",
    "                casillas_atacadas.append(f\"{COLUMNAS[x]}{y}\")\n",
    "    return casillas_atacadas\n",
    "\n",
    "\n",
    "def ataque_dama(casilla: str) -> list[str]:\n",
    "    columna_dama = COLUMNAS.index(casilla[0])\n",
    "    fila_dama = int(casilla[1])\n",
    "    casillas_atacadas = []\n",
    "    for i in range(8):\n",
    "        if i != columna_dama:\n",
    "            casillas_atacadas.append(f\"{COLUMNAS[i]}{fila_dama}\")\n",
    "        if i + 1 != fila_dama:\n",
    "            casillas_atacadas.append(f\"{COLUMNAS[columna_dama]}{i + 1}\")\n",
    "\n",
    "    direcciones = [(-1, -1), (-1, 1), (1, -1), (1, 1)]\n",
    "    for dx, dy in direcciones:\n",
    "        x, y = columna_dama, fila_dama\n",
    "        while 0 <= x + dx < 8 and 0 <= y + dy <= 8:\n",
    "            x += dx\n",
    "            y += dy\n",
    "            if 0 <= x < 8 and 1 <= y <= 8:\n",
    "                casillas_atacadas.append(f\"{COLUMNAS[x]}{y}\")\n",
    "    return list(set(casillas_atacadas))\n",
    "\n",
    "\n",
    "def ataque_rey(casilla: str) -> list[str]:\n",
    "    columna_rey = COLUMNAS.index(casilla[0])\n",
    "    fila_rey = int(casilla[1])\n",
    "    movimientos = [(-1, -1), (-1, 0), (-1, 1), (0, -1), (0, 1), (1, -1), (1, 0), (1, 1)]\n",
    "    casillas_atacadas = []\n",
    "    for dx, dy in movimientos:\n",
    "        nueva_columna = columna_rey + dx\n",
    "        nueva_fila = fila_rey + dy\n",
    "        if 0 <= nueva_columna < 8 and 1 <= nueva_fila <= 8:\n",
    "            casilla_atacada = f\"{COLUMNAS[nueva_columna]}{nueva_fila}\"\n",
    "            casillas_atacadas.append(casilla_atacada)\n",
    "    return casillas_atacadas\n",
    "\n",
    "\n",
    "def ataque_caballo(casilla: str) -> list[str]:\n",
    "    columna_caballo = COLUMNAS.index(casilla[0])\n",
    "    fila_caballo = int(casilla[1])\n",
    "    movimientos = [(-2, -1), (-2, 1), (-1, -2), (1, -2), (-1, 2), (1, 2), (2, -1), (2, 1)]\n",
    "    casillas_atacadas = []\n",
    "    for dx, dy in movimientos:\n",
    "        nueva_columna = columna_caballo + dx\n",
    "        nueva_fila = fila_caballo + dy\n",
    "        if 0 <= nueva_columna < 8 and 1 <= nueva_fila <= 8:\n",
    "            casilla_atacada = f\"{COLUMNAS[nueva_columna]}{nueva_fila}\"\n",
    "            casillas_atacadas.append(casilla_atacada)\n",
    "    return casillas_atacadas"
   ]
  },
  {
   "cell_type": "code",
   "execution_count": 4,
   "metadata": {},
   "outputs": [],
   "source": [
    "ATAQUE = {\"K\": ataque_rey, \"R\": ataque_torre, \"Q\": ataque_dama, \"N\": ataque_caballo, \"B\": ataque_alfil}\n",
    "GANANCIA_PIEZA = {\"K\": 14, \"R\": 28, \"Q\": 28, \"N\": 7, \"B\": 16}"
   ]
  },
  {
   "cell_type": "code",
   "execution_count": 5,
   "metadata": {},
   "outputs": [],
   "source": [
    "model = Model(\"max_chess\")"
   ]
  },
  {
   "cell_type": "code",
   "execution_count": 6,
   "metadata": {},
   "outputs": [],
   "source": [
    "X = model.binary_var_matrix(PIEZAS, CASILLAS, name=\"X\")"
   ]
  },
  {
   "cell_type": "code",
   "execution_count": 7,
   "metadata": {},
   "outputs": [],
   "source": [
    "model.maximize(model.sum(GANANCIA_PIEZA[pieza] * X[pieza, casilla] for pieza in PIEZAS for casilla in CASILLAS))"
   ]
  },
  {
   "cell_type": "code",
   "execution_count": 8,
   "metadata": {},
   "outputs": [],
   "source": [
    "for pieza in PIEZAS:\n",
    "    model.add_constraint(model.sum(X[pieza, casilla] for casilla in CASILLAS) >= 1, f\"Place_{pieza}\")\n",
    "\n",
    "for casilla in CASILLAS:\n",
    "    model.add_constraint(model.sum(X[pieza, casilla] for pieza in PIEZAS) <= 1, f\"Spot_{casilla}\")\n",
    "\n",
    "for pieza in PIEZAS:\n",
    "    for casilla in CASILLAS:\n",
    "        CASILLAS_ATACADAS_PIEZAS = ATAQUE[pieza](casilla)\n",
    "        for casilla_atacada in CASILLAS_ATACADAS_PIEZAS:\n",
    "            for pieza_ in PIEZAS:\n",
    "                model.add_constraint(X[pieza_, casilla_atacada] <= 1 - X[pieza, casilla], f\"Attack_{pieza}_{casilla}_{pieza_}_{casilla_atacada}\")"
   ]
  },
  {
   "cell_type": "code",
   "execution_count": 9,
   "metadata": {},
   "outputs": [],
   "source": [
    "model.set_time_limit(60)"
   ]
  },
  {
   "cell_type": "code",
   "execution_count": 10,
   "metadata": {},
   "outputs": [
    {
     "name": "stdout",
     "output_type": "stream",
     "text": [
      "Version identifier: 22.1.1.0 | 2022-11-27 | 9160aff4d\n",
      "CPXPARAM_Read_DataCheck                          1\n",
      "CPXPARAM_TimeLimit                               60\n",
      "Found incumbent of value 93.000000 after 0.00 sec. (0.61 ticks)\n"
     ]
    },
    {
     "name": "stdout",
     "output_type": "stream",
     "text": [
      "Tried aggregator 1 time.\n",
      "MIP Presolve eliminated 17427 rows and 0 columns.\n",
      "MIP Presolve modified 977 coefficients.\n",
      "Reduced MIP has 982 rows, 320 columns, and 13750 nonzeros.\n",
      "Reduced MIP has 320 binaries, 0 generals, 0 SOSs, and 0 indicators.\n",
      "Presolve time = 0.12 sec. (53.14 ticks)\n",
      "Probing time = 0.02 sec. (0.55 ticks)\n",
      "Tried aggregator 1 time.\n",
      "Detecting symmetries...\n",
      "Reduced MIP has 982 rows, 320 columns, and 13750 nonzeros.\n",
      "Reduced MIP has 320 binaries, 0 generals, 0 SOSs, and 0 indicators.\n",
      "Presolve time = 0.03 sec. (14.04 ticks)\n",
      "Probing time = 0.00 sec. (0.55 ticks)\n",
      "Clique table members: 977.\n",
      "MIP emphasis: balance optimality and feasibility.\n",
      "MIP search method: dynamic search.\n",
      "Parallel mode: deterministic, using up to 12 threads.\n",
      "Root relaxation solution time = 0.33 sec. (173.85 ticks)\n",
      "\n",
      "        Nodes                                         Cuts/\n",
      "   Node  Left     Objective  IInf  Best Integer    Best Bound    ItCnt     Gap\n",
      "\n",
      "*     0+    0                           93.0000     5952.0000              --- \n",
      "*     0+    0                          236.0000     5952.0000              --- \n",
      "*     0+    0                          244.0000     5952.0000              --- \n",
      "*     0+    0                          260.0000     5952.0000              --- \n",
      "      0     0      388.2656   234      260.0000      388.2656     2514   49.33%\n",
      "*     0+    0                          267.0000      388.2656            45.42%\n",
      "      0     0      385.1846   242      267.0000      Cuts: 51     2811   44.26%\n",
      "      0     0      383.7237   246      267.0000      Cuts: 14     3014   43.72%\n",
      "      0     0      382.8602   245      267.0000      Cuts: 13     3200   43.39%\n",
      "      0     0      382.0460   245      267.0000      Cuts: 10     3333   43.09%\n",
      "      0     0      381.6427   246      267.0000    Cliques: 6     3447   42.94%\n",
      "Detecting symmetries...\n",
      "      0     0      381.5025   245      267.0000    Cliques: 3     3527   42.88%\n",
      "      0     0      381.2038   245      267.0000       Cuts: 4     3626   42.77%\n",
      "      0     0      381.1075   247      267.0000    Cliques: 2     3686   42.74%\n",
      "      0     0      380.7189   247      267.0000      Cuts: 13     3852   42.59%\n",
      "      0     0      380.2359   249      267.0000      Cuts: 11     3998   42.41%\n",
      "      0     0      380.1065   247      267.0000       Cuts: 2     4061   42.36%\n",
      "      0     0      379.8198   245      267.0000       Cuts: 5     4187   42.25%\n",
      "      0     0      379.1815   246      267.0000       Cuts: 9     4369   42.02%\n",
      "*     0+    0                          280.0000      379.1815            35.42%\n",
      "      0     0      378.9104   243      280.0000      Cuts: 20     4506   35.33%\n",
      "      0     0      378.7386   244      280.0000       Cuts: 9     4605   35.26%\n",
      "      0     0      378.5156   238      280.0000       Cuts: 4     4718   35.18%\n",
      "      0     0      378.2968   240      280.0000       Cuts: 6     4817   35.11%\n",
      "      0     0      378.0487   243      280.0000      Cuts: 10     4957   35.02%\n",
      "      0     0      377.6056   240      280.0000      Cuts: 11     5108   34.86%\n",
      "      0     0      377.2510   242      280.0000      Cuts: 11     5235   34.73%\n",
      "      0     0      377.1885   244      280.0000    Cliques: 2     5282   34.71%\n",
      "      0     0      377.0017   246      280.0000       Cuts: 5     5377   34.64%\n",
      "      0     0      376.9745   247      280.0000    Cliques: 1     5426   34.63%\n",
      "Detecting symmetries...\n",
      "      0     2      376.9745   247      280.0000      376.9745     5426   34.63%\n",
      "Elapsed time = 5.66 sec. (2139.09 ticks, tree = 0.02 MB, solutions = 6)\n",
      "    175    11      331.8813   122      280.0000      376.8972    12132   34.61%\n",
      "    474   158      320.4902   114      280.0000      376.2006    37115   34.36%\n",
      "    832   442      343.4375   151      280.0000      376.2006    65238   34.36%\n",
      "   1173   787      319.7982   123      280.0000      376.2006    99784   34.36%\n",
      "   1534  1123      291.1146   116      280.0000      376.2006   132819   34.36%\n",
      "   1941  1395      333.2016   134      280.0000      376.2006   169056   34.36%\n",
      "   2331  1668      286.4844    78      280.0000      372.1728   199394   32.92%\n",
      "   2749  2043      287.1610    94      280.0000      366.0827   236634   30.74%\n",
      "   3054  2292      297.9083   100      280.0000      359.4823   280047   28.39%\n",
      "\n",
      "Performing restart 1\n",
      "\n",
      "Repeating presolve.\n",
      "Tried aggregator 1 time.\n",
      "Reduced MIP has 982 rows, 320 columns, and 13750 nonzeros.\n",
      "Reduced MIP has 320 binaries, 0 generals, 0 SOSs, and 0 indicators.\n",
      "Presolve time = 0.03 sec. (13.36 ticks)\n",
      "Tried aggregator 1 time.\n",
      "Reduced MIP has 982 rows, 320 columns, and 13750 nonzeros.\n",
      "Reduced MIP has 320 binaries, 0 generals, 0 SOSs, and 0 indicators.\n",
      "Presolve time = 0.03 sec. (14.24 ticks)\n",
      "Represolve time = 0.17 sec. (43.39 ticks)\n",
      "   4150     0      376.7266   248      280.0000       Cuts: 4   389727   22.87%\n",
      "   4150     0      376.4609   246      280.0000      Cuts: 12   389906   22.87%\n",
      "   4150     0      376.3381   247      280.0000       Cuts: 7   389994   22.87%\n",
      "   4150     0      376.2651   249      280.0000       Cuts: 2   390075   22.87%\n",
      "   4150     0      376.1412   249      280.0000       Cuts: 7   390166   22.87%\n",
      "   4150     2      376.1412   249      280.0000      344.0496   390166   22.87%\n",
      "Elapsed time = 25.47 sec. (6631.80 ticks, tree = 0.02 MB, solutions = 6)\n",
      "*  4155+    3                          281.0000      344.0496            22.44%\n",
      "   4179    18      298.4046    78      281.0000      344.0496   396164   22.44%\n",
      "   6536  1386      288.4924    89      281.0000      344.0496   477443   22.44%\n",
      "   9117  3378      284.0904    98      281.0000      344.0496   614898   22.44%\n",
      "\n",
      "Performing restart 2\n",
      "\n",
      "Repeating presolve.\n",
      "Tried aggregator 1 time.\n",
      "Reduced MIP has 982 rows, 320 columns, and 13750 nonzeros.\n",
      "Reduced MIP has 320 binaries, 0 generals, 0 SOSs, and 0 indicators.\n",
      "Presolve time = 0.02 sec. (13.36 ticks)\n",
      "Tried aggregator 1 time.\n",
      "Reduced MIP has 982 rows, 320 columns, and 13750 nonzeros.\n",
      "Reduced MIP has 320 binaries, 0 generals, 0 SOSs, and 0 indicators.\n",
      "Presolve time = 0.02 sec. (14.24 ticks)\n",
      "Represolve time = 0.75 sec. (93.57 ticks)\n",
      "   9428     0      375.8154   248      281.0000       Cuts: 3   651334   22.44%\n",
      "   9428     0      375.7099   252      281.0000      Cuts: 11   651463   22.44%\n",
      "   9428     0      375.6438   253      281.0000       Cuts: 3   651536   22.44%\n",
      "   9428     0      375.5912   248      281.0000       Cuts: 3   651597   22.44%\n",
      "   9428     0      375.4823   249      281.0000       Cuts: 3   651690   22.44%\n",
      "   9428     0      375.4319   248      281.0000       Cuts: 4   651765   22.44%\n",
      "   9428     0      375.3771   245      281.0000       Cuts: 3   651839   22.44%\n",
      "   9428     2      375.3771   245      281.0000      344.0496   651839   22.44%\n",
      "Starting limited solution polishing.\n",
      "\n",
      "Clique cuts applied:  69\n",
      "Zero-half cuts applied:  43\n",
      "Gomory fractional cuts applied:  1\n",
      "\n",
      "Root node processing (before b&c):\n",
      "  Real time             =    5.36 sec. (2134.39 ticks)\n",
      "Parallel b&c, 12 threads:\n",
      "  Real time             =   54.67 sec. (9890.78 ticks)\n",
      "  Sync time (average)   =    6.16 sec.\n",
      "  Wait time (average)   =    9.59 sec.\n",
      "                          ------------\n",
      "Total (root+branch&cut) =   60.03 sec. (12025.17 ticks)\n"
     ]
    }
   ],
   "source": [
    "solution = model.solve(log_output=True)"
   ]
  },
  {
   "cell_type": "code",
   "execution_count": 11,
   "metadata": {},
   "outputs": [],
   "source": [
    "TABLERO = {casilla: pieza for pieza in PIEZAS for casilla in CASILLAS if X[pieza, casilla].solution_value > 0.9}"
   ]
  },
  {
   "cell_type": "code",
   "execution_count": 12,
   "metadata": {},
   "outputs": [],
   "source": [
    "PIEZAS_ICONOS = {\"K\": \"♚\", \"R\": \"♜\", \"Q\": \"♛\", \"N\": \"♞\", \"B\": \"♝\"}"
   ]
  },
  {
   "cell_type": "code",
   "execution_count": 13,
   "metadata": {},
   "outputs": [
    {
     "data": {
      "text/plain": [
       "281.0"
      ]
     },
     "execution_count": 13,
     "metadata": {},
     "output_type": "execute_result"
    }
   ],
   "source": [
    "solution.objective_value"
   ]
  },
  {
   "cell_type": "code",
   "execution_count": 14,
   "metadata": {},
   "outputs": [
    {
     "data": {
      "application/vnd.plotly.v1+json": {
       "config": {
        "plotlyServerURL": "https://plot.ly"
       },
       "data": [
        {
         "colorscale": [
          [
           0,
           "#eeeed2"
          ],
          [
           1,
           "#769656"
          ]
         ],
         "hoverinfo": "none",
         "showscale": false,
         "type": "heatmap",
         "x": [
          "a",
          "b",
          "c",
          "d",
          "e",
          "f",
          "g",
          "h"
         ],
         "y": [
          "1",
          "2",
          "3",
          "4",
          "5",
          "6",
          "7",
          "8"
         ],
         "z": [
          [
           0,
           1,
           0,
           1,
           0,
           1,
           0,
           1
          ],
          [
           1,
           0,
           1,
           0,
           1,
           0,
           1,
           0
          ],
          [
           0,
           1,
           0,
           1,
           0,
           1,
           0,
           1
          ],
          [
           1,
           0,
           1,
           0,
           1,
           0,
           1,
           0
          ],
          [
           0,
           1,
           0,
           1,
           0,
           1,
           0,
           1
          ],
          [
           1,
           0,
           1,
           0,
           1,
           0,
           1,
           0
          ],
          [
           0,
           1,
           0,
           1,
           0,
           1,
           0,
           1
          ],
          [
           1,
           0,
           1,
           0,
           1,
           0,
           1,
           0
          ]
         ]
        }
       ],
       "layout": {
        "annotations": [
         {
          "font": {
           "color": "black",
           "size": 50
          },
          "showarrow": false,
          "text": "♚",
          "x": 0,
          "y": 7
         },
         {
          "font": {
           "color": "black",
           "size": 50
          },
          "showarrow": false,
          "text": "♚",
          "x": 2,
          "y": 7
         },
         {
          "font": {
           "color": "black",
           "size": 50
          },
          "showarrow": false,
          "text": "♚",
          "x": 2,
          "y": 3
         },
         {
          "font": {
           "color": "black",
           "size": 50
          },
          "showarrow": false,
          "text": "♚",
          "x": 5,
          "y": 4
         },
         {
          "font": {
           "color": "black",
           "size": 50
          },
          "showarrow": false,
          "text": "♚",
          "x": 5,
          "y": 0
         },
         {
          "font": {
           "color": "black",
           "size": 50
          },
          "showarrow": false,
          "text": "♚",
          "x": 7,
          "y": 0
         },
         {
          "font": {
           "color": "black",
           "size": 50
          },
          "showarrow": false,
          "text": "♜",
          "x": 1,
          "y": 1
         },
         {
          "font": {
           "color": "black",
           "size": 50
          },
          "showarrow": false,
          "text": "♜",
          "x": 3,
          "y": 5
         },
         {
          "font": {
           "color": "black",
           "size": 50
          },
          "showarrow": false,
          "text": "♜",
          "x": 6,
          "y": 6
         },
         {
          "font": {
           "color": "black",
           "size": 50
          },
          "showarrow": false,
          "text": "♛",
          "x": 4,
          "y": 2
         },
         {
          "font": {
           "color": "black",
           "size": 50
          },
          "showarrow": false,
          "text": "♞",
          "x": 0,
          "y": 0
         },
         {
          "font": {
           "color": "black",
           "size": 50
          },
          "showarrow": false,
          "text": "♞",
          "x": 5,
          "y": 7
         },
         {
          "font": {
           "color": "black",
           "size": 50
          },
          "showarrow": false,
          "text": "♞",
          "x": 7,
          "y": 7
         },
         {
          "font": {
           "color": "black",
           "size": 50
          },
          "showarrow": false,
          "text": "♝",
          "x": 0,
          "y": 4
         },
         {
          "font": {
           "color": "black",
           "size": 50
          },
          "showarrow": false,
          "text": "♝",
          "x": 0,
          "y": 3
         },
         {
          "font": {
           "color": "black",
           "size": 50
          },
          "showarrow": false,
          "text": "♝",
          "x": 7,
          "y": 4
         },
         {
          "font": {
           "color": "black",
           "size": 50
          },
          "showarrow": false,
          "text": "♝",
          "x": 7,
          "y": 3
         }
        ],
        "coloraxis": {
         "showscale": false
        },
        "height": 800,
        "template": {
         "data": {
          "bar": [
           {
            "error_x": {
             "color": "rgb(51,51,51)"
            },
            "error_y": {
             "color": "rgb(51,51,51)"
            },
            "marker": {
             "line": {
              "color": "rgb(237,237,237)",
              "width": 0.5
             },
             "pattern": {
              "fillmode": "overlay",
              "size": 10,
              "solidity": 0.2
             }
            },
            "type": "bar"
           }
          ],
          "barpolar": [
           {
            "marker": {
             "line": {
              "color": "rgb(237,237,237)",
              "width": 0.5
             },
             "pattern": {
              "fillmode": "overlay",
              "size": 10,
              "solidity": 0.2
             }
            },
            "type": "barpolar"
           }
          ],
          "carpet": [
           {
            "aaxis": {
             "endlinecolor": "rgb(51,51,51)",
             "gridcolor": "white",
             "linecolor": "white",
             "minorgridcolor": "white",
             "startlinecolor": "rgb(51,51,51)"
            },
            "baxis": {
             "endlinecolor": "rgb(51,51,51)",
             "gridcolor": "white",
             "linecolor": "white",
             "minorgridcolor": "white",
             "startlinecolor": "rgb(51,51,51)"
            },
            "type": "carpet"
           }
          ],
          "choropleth": [
           {
            "colorbar": {
             "outlinewidth": 0,
             "tickcolor": "rgb(237,237,237)",
             "ticklen": 6,
             "ticks": "inside"
            },
            "type": "choropleth"
           }
          ],
          "contour": [
           {
            "colorbar": {
             "outlinewidth": 0,
             "tickcolor": "rgb(237,237,237)",
             "ticklen": 6,
             "ticks": "inside"
            },
            "colorscale": [
             [
              0,
              "rgb(20,44,66)"
             ],
             [
              1,
              "rgb(90,179,244)"
             ]
            ],
            "type": "contour"
           }
          ],
          "contourcarpet": [
           {
            "colorbar": {
             "outlinewidth": 0,
             "tickcolor": "rgb(237,237,237)",
             "ticklen": 6,
             "ticks": "inside"
            },
            "type": "contourcarpet"
           }
          ],
          "heatmap": [
           {
            "colorbar": {
             "outlinewidth": 0,
             "tickcolor": "rgb(237,237,237)",
             "ticklen": 6,
             "ticks": "inside"
            },
            "colorscale": [
             [
              0,
              "rgb(20,44,66)"
             ],
             [
              1,
              "rgb(90,179,244)"
             ]
            ],
            "type": "heatmap"
           }
          ],
          "heatmapgl": [
           {
            "colorbar": {
             "outlinewidth": 0,
             "tickcolor": "rgb(237,237,237)",
             "ticklen": 6,
             "ticks": "inside"
            },
            "colorscale": [
             [
              0,
              "rgb(20,44,66)"
             ],
             [
              1,
              "rgb(90,179,244)"
             ]
            ],
            "type": "heatmapgl"
           }
          ],
          "histogram": [
           {
            "marker": {
             "pattern": {
              "fillmode": "overlay",
              "size": 10,
              "solidity": 0.2
             }
            },
            "type": "histogram"
           }
          ],
          "histogram2d": [
           {
            "colorbar": {
             "outlinewidth": 0,
             "tickcolor": "rgb(237,237,237)",
             "ticklen": 6,
             "ticks": "inside"
            },
            "colorscale": [
             [
              0,
              "rgb(20,44,66)"
             ],
             [
              1,
              "rgb(90,179,244)"
             ]
            ],
            "type": "histogram2d"
           }
          ],
          "histogram2dcontour": [
           {
            "colorbar": {
             "outlinewidth": 0,
             "tickcolor": "rgb(237,237,237)",
             "ticklen": 6,
             "ticks": "inside"
            },
            "colorscale": [
             [
              0,
              "rgb(20,44,66)"
             ],
             [
              1,
              "rgb(90,179,244)"
             ]
            ],
            "type": "histogram2dcontour"
           }
          ],
          "mesh3d": [
           {
            "colorbar": {
             "outlinewidth": 0,
             "tickcolor": "rgb(237,237,237)",
             "ticklen": 6,
             "ticks": "inside"
            },
            "type": "mesh3d"
           }
          ],
          "parcoords": [
           {
            "line": {
             "colorbar": {
              "outlinewidth": 0,
              "tickcolor": "rgb(237,237,237)",
              "ticklen": 6,
              "ticks": "inside"
             }
            },
            "type": "parcoords"
           }
          ],
          "pie": [
           {
            "automargin": true,
            "type": "pie"
           }
          ],
          "scatter": [
           {
            "fillpattern": {
             "fillmode": "overlay",
             "size": 10,
             "solidity": 0.2
            },
            "type": "scatter"
           }
          ],
          "scatter3d": [
           {
            "line": {
             "colorbar": {
              "outlinewidth": 0,
              "tickcolor": "rgb(237,237,237)",
              "ticklen": 6,
              "ticks": "inside"
             }
            },
            "marker": {
             "colorbar": {
              "outlinewidth": 0,
              "tickcolor": "rgb(237,237,237)",
              "ticklen": 6,
              "ticks": "inside"
             }
            },
            "type": "scatter3d"
           }
          ],
          "scattercarpet": [
           {
            "marker": {
             "colorbar": {
              "outlinewidth": 0,
              "tickcolor": "rgb(237,237,237)",
              "ticklen": 6,
              "ticks": "inside"
             }
            },
            "type": "scattercarpet"
           }
          ],
          "scattergeo": [
           {
            "marker": {
             "colorbar": {
              "outlinewidth": 0,
              "tickcolor": "rgb(237,237,237)",
              "ticklen": 6,
              "ticks": "inside"
             }
            },
            "type": "scattergeo"
           }
          ],
          "scattergl": [
           {
            "marker": {
             "colorbar": {
              "outlinewidth": 0,
              "tickcolor": "rgb(237,237,237)",
              "ticklen": 6,
              "ticks": "inside"
             }
            },
            "type": "scattergl"
           }
          ],
          "scattermapbox": [
           {
            "marker": {
             "colorbar": {
              "outlinewidth": 0,
              "tickcolor": "rgb(237,237,237)",
              "ticklen": 6,
              "ticks": "inside"
             }
            },
            "type": "scattermapbox"
           }
          ],
          "scatterpolar": [
           {
            "marker": {
             "colorbar": {
              "outlinewidth": 0,
              "tickcolor": "rgb(237,237,237)",
              "ticklen": 6,
              "ticks": "inside"
             }
            },
            "type": "scatterpolar"
           }
          ],
          "scatterpolargl": [
           {
            "marker": {
             "colorbar": {
              "outlinewidth": 0,
              "tickcolor": "rgb(237,237,237)",
              "ticklen": 6,
              "ticks": "inside"
             }
            },
            "type": "scatterpolargl"
           }
          ],
          "scatterternary": [
           {
            "marker": {
             "colorbar": {
              "outlinewidth": 0,
              "tickcolor": "rgb(237,237,237)",
              "ticklen": 6,
              "ticks": "inside"
             }
            },
            "type": "scatterternary"
           }
          ],
          "surface": [
           {
            "colorbar": {
             "outlinewidth": 0,
             "tickcolor": "rgb(237,237,237)",
             "ticklen": 6,
             "ticks": "inside"
            },
            "colorscale": [
             [
              0,
              "rgb(20,44,66)"
             ],
             [
              1,
              "rgb(90,179,244)"
             ]
            ],
            "type": "surface"
           }
          ],
          "table": [
           {
            "cells": {
             "fill": {
              "color": "rgb(237,237,237)"
             },
             "line": {
              "color": "white"
             }
            },
            "header": {
             "fill": {
              "color": "rgb(217,217,217)"
             },
             "line": {
              "color": "white"
             }
            },
            "type": "table"
           }
          ]
         },
         "layout": {
          "annotationdefaults": {
           "arrowhead": 0,
           "arrowwidth": 1
          },
          "autotypenumbers": "strict",
          "coloraxis": {
           "colorbar": {
            "outlinewidth": 0,
            "tickcolor": "rgb(237,237,237)",
            "ticklen": 6,
            "ticks": "inside"
           }
          },
          "colorscale": {
           "sequential": [
            [
             0,
             "rgb(20,44,66)"
            ],
            [
             1,
             "rgb(90,179,244)"
            ]
           ],
           "sequentialminus": [
            [
             0,
             "rgb(20,44,66)"
            ],
            [
             1,
             "rgb(90,179,244)"
            ]
           ]
          },
          "colorway": [
           "#F8766D",
           "#A3A500",
           "#00BF7D",
           "#00B0F6",
           "#E76BF3"
          ],
          "font": {
           "color": "rgb(51,51,51)"
          },
          "geo": {
           "bgcolor": "white",
           "lakecolor": "white",
           "landcolor": "rgb(237,237,237)",
           "showlakes": true,
           "showland": true,
           "subunitcolor": "white"
          },
          "hoverlabel": {
           "align": "left"
          },
          "hovermode": "closest",
          "paper_bgcolor": "white",
          "plot_bgcolor": "rgb(237,237,237)",
          "polar": {
           "angularaxis": {
            "gridcolor": "white",
            "linecolor": "white",
            "showgrid": true,
            "tickcolor": "rgb(51,51,51)",
            "ticks": "outside"
           },
           "bgcolor": "rgb(237,237,237)",
           "radialaxis": {
            "gridcolor": "white",
            "linecolor": "white",
            "showgrid": true,
            "tickcolor": "rgb(51,51,51)",
            "ticks": "outside"
           }
          },
          "scene": {
           "xaxis": {
            "backgroundcolor": "rgb(237,237,237)",
            "gridcolor": "white",
            "gridwidth": 2,
            "linecolor": "white",
            "showbackground": true,
            "showgrid": true,
            "tickcolor": "rgb(51,51,51)",
            "ticks": "outside",
            "zerolinecolor": "white"
           },
           "yaxis": {
            "backgroundcolor": "rgb(237,237,237)",
            "gridcolor": "white",
            "gridwidth": 2,
            "linecolor": "white",
            "showbackground": true,
            "showgrid": true,
            "tickcolor": "rgb(51,51,51)",
            "ticks": "outside",
            "zerolinecolor": "white"
           },
           "zaxis": {
            "backgroundcolor": "rgb(237,237,237)",
            "gridcolor": "white",
            "gridwidth": 2,
            "linecolor": "white",
            "showbackground": true,
            "showgrid": true,
            "tickcolor": "rgb(51,51,51)",
            "ticks": "outside",
            "zerolinecolor": "white"
           }
          },
          "shapedefaults": {
           "fillcolor": "black",
           "line": {
            "width": 0
           },
           "opacity": 0.3
          },
          "ternary": {
           "aaxis": {
            "gridcolor": "white",
            "linecolor": "white",
            "showgrid": true,
            "tickcolor": "rgb(51,51,51)",
            "ticks": "outside"
           },
           "baxis": {
            "gridcolor": "white",
            "linecolor": "white",
            "showgrid": true,
            "tickcolor": "rgb(51,51,51)",
            "ticks": "outside"
           },
           "bgcolor": "rgb(237,237,237)",
           "caxis": {
            "gridcolor": "white",
            "linecolor": "white",
            "showgrid": true,
            "tickcolor": "rgb(51,51,51)",
            "ticks": "outside"
           }
          },
          "xaxis": {
           "automargin": true,
           "gridcolor": "white",
           "linecolor": "white",
           "showgrid": true,
           "tickcolor": "rgb(51,51,51)",
           "ticks": "outside",
           "title": {
            "standoff": 15
           },
           "zerolinecolor": "white"
          },
          "yaxis": {
           "automargin": true,
           "gridcolor": "white",
           "linecolor": "white",
           "showgrid": true,
           "tickcolor": "rgb(51,51,51)",
           "ticks": "outside",
           "title": {
            "standoff": 15
           },
           "zerolinecolor": "white"
          }
         }
        },
        "title": {
         "text": "Utilidad: 281.0"
        },
        "width": 800
       }
      }
     },
     "metadata": {},
     "output_type": "display_data"
    }
   ],
   "source": [
    "# Crear el tablero de ajedrez\n",
    "tablero = numpy.zeros((8, 8), dtype=int)\n",
    "tablero[1::2, ::2] = 1\n",
    "tablero[::2, 1::2] = 1\n",
    "\n",
    "\n",
    "# Crear la figura del tablero usando Heatmap\n",
    "fig = go.Figure()\n",
    "\n",
    "fig.add_trace(\n",
    "    go.Heatmap(\n",
    "        z=tablero,\n",
    "        colorscale=[\"#eeeed2\", \"#769656\"],\n",
    "        showscale=False,\n",
    "        x=COLUMNAS,\n",
    "        y=list(map(str, FILAS)),\n",
    "        hoverinfo=\"none\",\n",
    "    )\n",
    ")\n",
    "\n",
    "for casilla, pieza in TABLERO.items():\n",
    "    x = COLUMNAS.index(casilla[0])\n",
    "    y = 7 - FILAS.index(int(casilla[1]))\n",
    "    fig.add_annotation(x=x, y=y, text=PIEZAS_ICONOS[pieza], showarrow=False, font_size=50, font_color=\"black\")\n",
    "\n",
    "\n",
    "fig.update_layout(coloraxis_showscale=False)\n",
    "fig.update_layout(height=800, width=800, title_text=f\"Utilidad: {solution.objective_value}\", template=\"ggplot2\")\n",
    "fig.show()"
   ]
  }
 ],
 "metadata": {
  "kernelspec": {
   "display_name": "Python 3",
   "language": "python",
   "name": "python3"
  },
  "language_info": {
   "codemirror_mode": {
    "name": "ipython",
    "version": 3
   },
   "file_extension": ".py",
   "mimetype": "text/x-python",
   "name": "python",
   "nbconvert_exporter": "python",
   "pygments_lexer": "ipython3",
   "version": "3.10.10"
  }
 },
 "nbformat": 4,
 "nbformat_minor": 2
}
