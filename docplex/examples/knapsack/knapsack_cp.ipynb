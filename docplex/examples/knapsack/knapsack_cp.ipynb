{
 "cells": [
  {
   "cell_type": "code",
   "execution_count": 1,
   "metadata": {},
   "outputs": [],
   "source": [
    "from docplex.mp.model import Model"
   ]
  },
  {
   "attachments": {},
   "cell_type": "markdown",
   "metadata": {},
   "source": [
    "**Conjuntos**"
   ]
  },
  {
   "cell_type": "code",
   "execution_count": 2,
   "metadata": {},
   "outputs": [],
   "source": [
    "OBJETOS = [1, 2, 3, 4, 5, 6]"
   ]
  },
  {
   "attachments": {},
   "cell_type": "markdown",
   "metadata": {},
   "source": [
    "**Parámetros**"
   ]
  },
  {
   "cell_type": "code",
   "execution_count": 3,
   "metadata": {},
   "outputs": [],
   "source": [
    "PESOS = {1: 5, 2: 11, 3: 20, 4: 18, 5: 22, 6: 16}\n",
    "UTILIDADES = {1: 3, 2: 2, 3: 7, 4: 9, 5: 11, 6: 8}\n",
    "CAPACIDAD_MOCHILA = 50"
   ]
  },
  {
   "cell_type": "code",
   "execution_count": 4,
   "metadata": {},
   "outputs": [],
   "source": [
    "model = Model(\"Bin packing\")"
   ]
  },
  {
   "attachments": {},
   "cell_type": "markdown",
   "metadata": {},
   "source": [
    "**Variables**"
   ]
  },
  {
   "cell_type": "code",
   "execution_count": 5,
   "metadata": {},
   "outputs": [],
   "source": [
    "X = model.binary_var_dict(OBJETOS)"
   ]
  },
  {
   "attachments": {},
   "cell_type": "markdown",
   "metadata": {},
   "source": [
    "**Función Objetivo**"
   ]
  },
  {
   "cell_type": "code",
   "execution_count": 6,
   "metadata": {},
   "outputs": [],
   "source": [
    "model.maximize(\n",
    "    model.sum(X[objeto] * UTILIDADES[objeto] for objeto in OBJETOS)\n",
    ")"
   ]
  },
  {
   "attachments": {},
   "cell_type": "markdown",
   "metadata": {},
   "source": [
    "**Restricciones**"
   ]
  },
  {
   "cell_type": "code",
   "execution_count": 7,
   "metadata": {},
   "outputs": [
    {
     "data": {
      "text/plain": [
       "docplex.mp.LinearConstraint[](5x1+11x2+20x3+18x4+22x5+16x6,LE,50)"
      ]
     },
     "execution_count": 7,
     "metadata": {},
     "output_type": "execute_result"
    }
   ],
   "source": [
    "model.add_constraint(\n",
    "    model.sum(X[objeto] * PESOS[objeto] for objeto in OBJETOS) <= CAPACIDAD_MOCHILA\n",
    ")"
   ]
  },
  {
   "cell_type": "code",
   "execution_count": 8,
   "metadata": {},
   "outputs": [
    {
     "name": "stdout",
     "output_type": "stream",
     "text": [
      "Version identifier: 22.1.1.0 | 2022-11-27 | 9160aff4d\n",
      "CPXPARAM_Read_DataCheck                          1\n",
      "Found incumbent of value 0.000000 after 0.00 sec. (0.00 ticks)\n",
      "Tried aggregator 1 time.\n",
      "MIP Presolve added 2 rows and 2 columns.\n",
      "Reduced MIP has 3 rows, 8 columns, and 12 nonzeros.\n",
      "Reduced MIP has 6 binaries, 2 generals, 0 SOSs, and 0 indicators.\n",
      "Presolve time = 0.00 sec. (0.01 ticks)\n",
      "Probing time = 0.00 sec. (0.00 ticks)\n",
      "Tried aggregator 1 time.\n",
      "MIP Presolve eliminated 2 rows and 2 columns.\n",
      "MIP Presolve added 2 rows and 2 columns.\n",
      "Reduced MIP has 3 rows, 8 columns, and 12 nonzeros.\n",
      "Reduced MIP has 6 binaries, 2 generals, 0 SOSs, and 0 indicators.\n",
      "Presolve time = 0.02 sec. (0.01 ticks)\n",
      "Probing time = 0.00 sec. (0.00 ticks)\n",
      "MIP emphasis: balance optimality and feasibility.\n",
      "MIP search method: dynamic search.\n",
      "Parallel mode: deterministic, using up to 12 threads.\n",
      "Root relaxation solution time = 0.00 sec. (0.00 ticks)\n",
      "\n",
      "        Nodes                                         Cuts/\n",
      "   Node  Left     Objective  IInf  Best Integer    Best Bound    ItCnt     Gap\n",
      "\n",
      "*     0+    0                            0.0000       40.0000              --- \n",
      "*     0+    0                           23.0000       40.0000            73.91%\n",
      "      0     0       25.5000     1       23.0000       25.5000        0   10.87%\n",
      "      0     0        cutoff             23.0000                      1     --- \n",
      "Elapsed time = 0.06 sec. (0.05 ticks, tree = 0.01 MB, solutions = 2)\n",
      "\n",
      "Root node processing (before b&c):\n",
      "  Real time             =    0.08 sec. (0.05 ticks)\n",
      "Parallel b&c, 12 threads:\n",
      "  Real time             =    0.00 sec. (0.00 ticks)\n",
      "  Sync time (average)   =    0.00 sec.\n",
      "  Wait time (average)   =    0.00 sec.\n",
      "                          ------------\n",
      "Total (root+branch&cut) =    0.08 sec. (0.05 ticks)\n"
     ]
    }
   ],
   "source": [
    "solution = model.solve(log_output=True)"
   ]
  },
  {
   "cell_type": "code",
   "execution_count": 9,
   "metadata": {},
   "outputs": [
    {
     "data": {
      "text/plain": [
       "23.0"
      ]
     },
     "execution_count": 9,
     "metadata": {},
     "output_type": "execute_result"
    }
   ],
   "source": [
    "solution.objective_value"
   ]
  },
  {
   "cell_type": "code",
   "execution_count": 10,
   "metadata": {},
   "outputs": [
    {
     "name": "stdout",
     "output_type": "stream",
     "text": [
      "Agregue el objeto 1 con utilidad 3\n",
      "Agregue el objeto 4 con utilidad 9\n",
      "Agregue el objeto 5 con utilidad 11\n"
     ]
    }
   ],
   "source": [
    "for objeto in OBJETOS:\n",
    "    ## En problemas grandes es posible que .solution_value de las variables binarias que se activaron\n",
    "    ## no sea exactament 1, sino 0.9999 ..., por lo que para revisar la condición de que variables se \n",
    "    ## activaron usamos la condición de >= 0.9\n",
    "    # if X[objeto].solution_value >= 0.9:\n",
    "    if X[objeto].solution_value >= 0.9:\n",
    "        print(f\"Agregue el objeto {objeto} con utilidad {UTILIDADES[objeto]}\")"
   ]
  },
  {
   "cell_type": "code",
   "execution_count": 13,
   "metadata": {},
   "outputs": [
    {
     "name": "stdout",
     "output_type": "stream",
     "text": [
      "Capacidad utilizada 45.0\n"
     ]
    }
   ],
   "source": [
    "print(\"Capacidad utilizada\", sum(X[objeto].solution_value * PESOS[objeto] for objeto in OBJETOS))"
   ]
  }
 ],
 "metadata": {
  "kernelspec": {
   "display_name": "base",
   "language": "python",
   "name": "python3"
  },
  "language_info": {
   "codemirror_mode": {
    "name": "ipython",
    "version": 3
   },
   "file_extension": ".py",
   "mimetype": "text/x-python",
   "name": "python",
   "nbconvert_exporter": "python",
   "pygments_lexer": "ipython3",
   "version": "3.10.10"
  },
  "orig_nbformat": 4
 },
 "nbformat": 4,
 "nbformat_minor": 2
}
