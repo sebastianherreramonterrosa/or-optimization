{
 "cells": [
  {
   "cell_type": "markdown",
   "metadata": {},
   "source": [
    "## **PROBLEMA TELEFONOS**\n",
    "\n",
    "Una compañía telefónica produce y vende dos tipos de teléfonos: teléfonos de escritorio y teléfonos celulares.\n",
    "Cada tipo de teléfono es ensamblado y pintado por la empresa. El objetivo es maximizar las ganancias y la empresa tiene que producir al menos 100 de cada tipo de teléfono.\n",
    "Existen límites en cuanto a la capacidad de producción de la empresa, y la empresa debe calcular la cantidad óptima de cada tipo de teléfono a producir, sin exceder la capacidad de la planta.\n",
    "\n",
    "Condiciones\n",
    "\n",
    "1. La producción de teléfonos de escritorio debe ser mayor o igual a 100.\n",
    "2. La producción de teléfonos celulares debe ser mayor o igual a 100.\n",
    "3. El tiempo de montaje total no debe exceder las 400 horas. Montar un teléfono de escritorio tarda 12 minutos y un celular 24 minutos.\n",
    "4. El tiempo de pintura total no debe exceder las 490 horas. Pintar un teléfono de escritorio tarda 30 minutos y un celular 24 minutos.\n",
    "5. La compañía vende cada telefono de escritorio a 12 dolares y cada celular a 20 dolares\n",
    "\n",
    "**_¿Cómo cambiaría el problema si?_**\n",
    "\n",
    "La compañía tiene la opción de exceder sus horas de montaje hasta 40. Pero cada hora utilizada le cuesta 2 dólares ¿Cuántas de estas horas debería utilizar?\n",
    "Si las horas de ensamblaje fuera un recurso infinito ¿El overtime también sería infinito?\n"
   ]
  },
  {
   "cell_type": "markdown",
   "metadata": {},
   "source": [
    "$$ \\text{maximizar FO} = 12 \\cdot \\text{desk} + 20 \\cdot \\text{cell} - 2 \\cdot \\text{overtime} $$\n",
    "\n",
    "$$ \\text{desk} \\geq 100 $$\n",
    "$$ \\text{cell} \\geq 100 $$\n",
    "$$ 0.2 \\cdot \\text{desk} + 0.4 \\cdot \\text{cell} \\leq 400 + \\text{overtime} $$\n",
    "$$ 0.5 \\cdot \\text{desk} + 0.4 \\cdot \\text{cell} \\leq 490 $$\n",
    "$$ \\text{overtime} \\leq 40 $$\n"
   ]
  },
  {
   "cell_type": "code",
   "execution_count": 1,
   "metadata": {},
   "outputs": [],
   "source": [
    "import gurobipy as gp\n",
    "from gurobipy import GRB"
   ]
  },
  {
   "cell_type": "code",
   "execution_count": 2,
   "metadata": {},
   "outputs": [
    {
     "name": "stdout",
     "output_type": "stream",
     "text": [
      "Set parameter Username\n",
      "Academic license - for non-commercial use only - expires 2025-01-28\n"
     ]
    }
   ],
   "source": [
    "model = gp.Model(name=\"telephone_production\")"
   ]
  },
  {
   "cell_type": "code",
   "execution_count": 3,
   "metadata": {},
   "outputs": [],
   "source": [
    "desk = model.addVar(vtype=GRB.CONTINUOUS, name=\"desk\")\n",
    "cell = model.addVar(vtype=GRB.CONTINUOUS, name=\"cell\")\n",
    "overtime = model.addVar(vtype=GRB.CONTINUOUS, name=\"overtime\")"
   ]
  },
  {
   "cell_type": "code",
   "execution_count": 4,
   "metadata": {},
   "outputs": [],
   "source": [
    "model.setObjective(12 * desk + 20 * cell - 2 * overtime, GRB.MAXIMIZE)"
   ]
  },
  {
   "cell_type": "code",
   "execution_count": 5,
   "metadata": {},
   "outputs": [
    {
     "data": {
      "text/plain": [
       "<gurobi.Constr *Awaiting Model Update*>"
      ]
     },
     "execution_count": 5,
     "metadata": {},
     "output_type": "execute_result"
    }
   ],
   "source": [
    "# Restricción #1: la producción de escritorio es mayor a 100\n",
    "model.addConstr(desk >= 100, \"Desk_Production\")\n",
    "\n",
    "# Restricción #2: la producción de células es mayor que 100\n",
    "model.addConstr(cell >= 100, \"Cell_Production\")\n",
    "\n",
    "# Restricción #3: límite de tiempo de ensamblaje\n",
    "model.addConstr(0.2 * desk + 0.4 * cell <= 400 + overtime, \"Assembly_Time\")\n",
    "\n",
    "# Restricción #4: límite de tiempo de pintura\n",
    "model.addConstr(0.5 * desk + 0.4 * cell <= 490, \"Painting_Time\")\n",
    "\n",
    "# Restricción adicional para las horas extra\n",
    "model.addConstr(overtime <= 40, \"Overtime_Limit\")"
   ]
  },
  {
   "cell_type": "code",
   "execution_count": 6,
   "metadata": {},
   "outputs": [
    {
     "name": "stdout",
     "output_type": "stream",
     "text": [
      "Gurobi Optimizer version 11.0.1 build v11.0.1rc0 (win64 - Windows 11.0 (22631.2))\n",
      "\n",
      "CPU model: Intel(R) Core(TM) i7-9750H CPU @ 2.60GHz, instruction set [SSE2|AVX|AVX2]\n",
      "Thread count: 6 physical cores, 12 logical processors, using up to 12 threads\n",
      "\n",
      "Optimize a model with 5 rows, 3 columns and 8 nonzeros\n",
      "Model fingerprint: 0x012000ea\n",
      "Coefficient statistics:\n",
      "  Matrix range     [2e-01, 1e+00]\n",
      "  Objective range  [2e+00, 2e+01]\n",
      "  Bounds range     [0e+00, 0e+00]\n",
      "  RHS range        [4e+01, 5e+02]\n",
      "Presolve removed 3 rows and 0 columns\n",
      "Presolve time: 0.02s\n",
      "Presolved: 2 rows, 3 columns, 5 nonzeros\n",
      "\n",
      "Iteration    Objective       Primal Inf.    Dual Inf.      Time\n",
      "       0    2.3080000e+04   8.618625e+00   0.000000e+00      0s\n",
      "       2    2.2253333e+04   0.000000e+00   0.000000e+00      0s\n",
      "\n",
      "Solved in 2 iterations and 0.04 seconds (0.00 work units)\n",
      "Optimal objective  2.225333333e+04\n"
     ]
    }
   ],
   "source": [
    "model.optimize()"
   ]
  },
  {
   "cell_type": "code",
   "execution_count": 7,
   "metadata": {},
   "outputs": [
    {
     "data": {
      "text/plain": [
       "166.66666666666669"
      ]
     },
     "execution_count": 7,
     "metadata": {},
     "output_type": "execute_result"
    }
   ],
   "source": [
    "desk.X"
   ]
  },
  {
   "cell_type": "code",
   "execution_count": 8,
   "metadata": {},
   "outputs": [
    {
     "data": {
      "text/plain": [
       "1016.6666666666665"
      ]
     },
     "execution_count": 8,
     "metadata": {},
     "output_type": "execute_result"
    }
   ],
   "source": [
    "cell.X"
   ]
  },
  {
   "cell_type": "code",
   "execution_count": 9,
   "metadata": {},
   "outputs": [
    {
     "data": {
      "text/plain": [
       "40.0"
      ]
     },
     "execution_count": 9,
     "metadata": {},
     "output_type": "execute_result"
    }
   ],
   "source": [
    "overtime.X"
   ]
  },
  {
   "cell_type": "code",
   "execution_count": 10,
   "metadata": {},
   "outputs": [
    {
     "data": {
      "text/plain": [
       "22253.33333333333"
      ]
     },
     "execution_count": 10,
     "metadata": {},
     "output_type": "execute_result"
    }
   ],
   "source": [
    "model.ObjVal"
   ]
  }
 ],
 "metadata": {
  "kernelspec": {
   "display_name": "Python 3",
   "language": "python",
   "name": "python3"
  },
  "language_info": {
   "codemirror_mode": {
    "name": "ipython",
    "version": 3
   },
   "file_extension": ".py",
   "mimetype": "text/x-python",
   "name": "python",
   "nbconvert_exporter": "python",
   "pygments_lexer": "ipython3",
   "version": "3.10.10"
  }
 },
 "nbformat": 4,
 "nbformat_minor": 2
}
