{
 "cells": [
  {
   "cell_type": "markdown",
   "metadata": {},
   "source": [
    "#### **CVRP Miller–Tucker–Zemlin**"
   ]
  },
  {
   "cell_type": "code",
   "execution_count": 148,
   "metadata": {},
   "outputs": [],
   "source": [
    "from docplex.mp.model import Model\n",
    "import random\n",
    "import plotly.express as px\n",
    "import plotly.graph_objects as go"
   ]
  },
  {
   "attachments": {},
   "cell_type": "markdown",
   "metadata": {},
   "source": [
    "**Conjuntos**"
   ]
  },
  {
   "cell_type": "markdown",
   "metadata": {},
   "source": [
    "$$ \\text{CLIENTES} = \\{1, 2, \\ldots, N\\} $$\n",
    "$$ \\text{NODOS} = \\{0\\} \\cup \\text{CLIENTES} $$"
   ]
  },
  {
   "cell_type": "code",
   "execution_count": 149,
   "metadata": {},
   "outputs": [],
   "source": [
    "N = 20\n",
    "CLIENTES = list(range(1, N + 1))\n",
    "NODOS = [0] + CLIENTES"
   ]
  },
  {
   "attachments": {},
   "cell_type": "markdown",
   "metadata": {},
   "source": [
    "**Parámetros**"
   ]
  },
  {
   "cell_type": "markdown",
   "metadata": {},
   "source": [
    "$$ \\text{CAPACIDAD\\_CAMION} = 70 $$\n",
    "$$ \\text{DEMANDA}_{c}: \\text{Demanda del cliente } c \\in \\text{CLIENTES} $$\n",
    "$$ \\text{DISTANCIAS}_{n1,n2}: \\text{Distancia euclidiana entre } n1 \\in \\text{NODOS} \\text{ y } n2 \\in \\text{NODOS} $$\n"
   ]
  },
  {
   "cell_type": "code",
   "execution_count": 150,
   "metadata": {},
   "outputs": [],
   "source": [
    "random.seed(142)"
   ]
  },
  {
   "cell_type": "code",
   "execution_count": 151,
   "metadata": {},
   "outputs": [],
   "source": [
    "CAPACIDAD_CAMION = 70\n",
    "DEMANDAS = {c: random.randint(10, 20) for c in CLIENTES}\n",
    "COORDENADAS = {n: {\"x\": random.randint(0, N * 10), \"y\": random.randint(0, N * 10)} for n in NODOS}\n",
    "DISTANCIAS = {(n1, n2): ((COORDENADAS[n1][\"x\"] - COORDENADAS[n2][\"x\"]) ** 2 + (COORDENADAS[n1][\"y\"] - COORDENADAS[n2][\"y\"]) ** 2) ** 0.5 for n1 in NODOS for n2 in NODOS}"
   ]
  },
  {
   "cell_type": "code",
   "execution_count": 152,
   "metadata": {},
   "outputs": [
    {
     "data": {
      "application/vnd.plotly.v1+json": {
       "config": {
        "plotlyServerURL": "https://plot.ly"
       },
       "data": [
        {
         "marker": {
          "color": "red",
          "size": 15
         },
         "mode": "markers",
         "name": "Depósito",
         "type": "scatter",
         "x": [
          121
         ],
         "y": [
          63
         ]
        },
        {
         "marker": {
          "color": "black",
          "size": 10
         },
         "mode": "markers",
         "name": "Clientes",
         "type": "scatter",
         "x": [
          25,
          80,
          84,
          16,
          199,
          197,
          68,
          182,
          112,
          200,
          183,
          83,
          28,
          169,
          182,
          7,
          191,
          128,
          82,
          29
         ],
         "y": [
          176,
          133,
          22,
          123,
          164,
          30,
          34,
          1,
          96,
          61,
          194,
          102,
          75,
          68,
          89,
          5,
          60,
          47,
          188,
          85
         ]
        }
       ],
       "layout": {
        "annotations": [
         {
          "showarrow": false,
          "text": "C1",
          "x": 17,
          "y": 184
         },
         {
          "showarrow": false,
          "text": "C2",
          "x": 72,
          "y": 141
         },
         {
          "showarrow": false,
          "text": "C3",
          "x": 76,
          "y": 30
         },
         {
          "showarrow": false,
          "text": "C4",
          "x": 8,
          "y": 131
         },
         {
          "showarrow": false,
          "text": "C5",
          "x": 191,
          "y": 172
         },
         {
          "showarrow": false,
          "text": "C6",
          "x": 189,
          "y": 38
         },
         {
          "showarrow": false,
          "text": "C7",
          "x": 60,
          "y": 42
         },
         {
          "showarrow": false,
          "text": "C8",
          "x": 174,
          "y": 9
         },
         {
          "showarrow": false,
          "text": "C9",
          "x": 104,
          "y": 104
         },
         {
          "showarrow": false,
          "text": "C10",
          "x": 192,
          "y": 69
         },
         {
          "showarrow": false,
          "text": "C11",
          "x": 175,
          "y": 202
         },
         {
          "showarrow": false,
          "text": "C12",
          "x": 75,
          "y": 110
         },
         {
          "showarrow": false,
          "text": "C13",
          "x": 20,
          "y": 83
         },
         {
          "showarrow": false,
          "text": "C14",
          "x": 161,
          "y": 76
         },
         {
          "showarrow": false,
          "text": "C15",
          "x": 174,
          "y": 97
         },
         {
          "showarrow": false,
          "text": "C16",
          "x": -1,
          "y": 13
         },
         {
          "showarrow": false,
          "text": "C17",
          "x": 183,
          "y": 68
         },
         {
          "showarrow": false,
          "text": "C18",
          "x": 120,
          "y": 55
         },
         {
          "showarrow": false,
          "text": "C19",
          "x": 74,
          "y": 196
         },
         {
          "showarrow": false,
          "text": "C20",
          "x": 21,
          "y": 93
         }
        ],
        "height": 600,
        "template": {
         "data": {
          "bar": [
           {
            "error_x": {
             "color": "rgb(51,51,51)"
            },
            "error_y": {
             "color": "rgb(51,51,51)"
            },
            "marker": {
             "line": {
              "color": "rgb(237,237,237)",
              "width": 0.5
             },
             "pattern": {
              "fillmode": "overlay",
              "size": 10,
              "solidity": 0.2
             }
            },
            "type": "bar"
           }
          ],
          "barpolar": [
           {
            "marker": {
             "line": {
              "color": "rgb(237,237,237)",
              "width": 0.5
             },
             "pattern": {
              "fillmode": "overlay",
              "size": 10,
              "solidity": 0.2
             }
            },
            "type": "barpolar"
           }
          ],
          "carpet": [
           {
            "aaxis": {
             "endlinecolor": "rgb(51,51,51)",
             "gridcolor": "white",
             "linecolor": "white",
             "minorgridcolor": "white",
             "startlinecolor": "rgb(51,51,51)"
            },
            "baxis": {
             "endlinecolor": "rgb(51,51,51)",
             "gridcolor": "white",
             "linecolor": "white",
             "minorgridcolor": "white",
             "startlinecolor": "rgb(51,51,51)"
            },
            "type": "carpet"
           }
          ],
          "choropleth": [
           {
            "colorbar": {
             "outlinewidth": 0,
             "tickcolor": "rgb(237,237,237)",
             "ticklen": 6,
             "ticks": "inside"
            },
            "type": "choropleth"
           }
          ],
          "contour": [
           {
            "colorbar": {
             "outlinewidth": 0,
             "tickcolor": "rgb(237,237,237)",
             "ticklen": 6,
             "ticks": "inside"
            },
            "colorscale": [
             [
              0,
              "rgb(20,44,66)"
             ],
             [
              1,
              "rgb(90,179,244)"
             ]
            ],
            "type": "contour"
           }
          ],
          "contourcarpet": [
           {
            "colorbar": {
             "outlinewidth": 0,
             "tickcolor": "rgb(237,237,237)",
             "ticklen": 6,
             "ticks": "inside"
            },
            "type": "contourcarpet"
           }
          ],
          "heatmap": [
           {
            "colorbar": {
             "outlinewidth": 0,
             "tickcolor": "rgb(237,237,237)",
             "ticklen": 6,
             "ticks": "inside"
            },
            "colorscale": [
             [
              0,
              "rgb(20,44,66)"
             ],
             [
              1,
              "rgb(90,179,244)"
             ]
            ],
            "type": "heatmap"
           }
          ],
          "heatmapgl": [
           {
            "colorbar": {
             "outlinewidth": 0,
             "tickcolor": "rgb(237,237,237)",
             "ticklen": 6,
             "ticks": "inside"
            },
            "colorscale": [
             [
              0,
              "rgb(20,44,66)"
             ],
             [
              1,
              "rgb(90,179,244)"
             ]
            ],
            "type": "heatmapgl"
           }
          ],
          "histogram": [
           {
            "marker": {
             "pattern": {
              "fillmode": "overlay",
              "size": 10,
              "solidity": 0.2
             }
            },
            "type": "histogram"
           }
          ],
          "histogram2d": [
           {
            "colorbar": {
             "outlinewidth": 0,
             "tickcolor": "rgb(237,237,237)",
             "ticklen": 6,
             "ticks": "inside"
            },
            "colorscale": [
             [
              0,
              "rgb(20,44,66)"
             ],
             [
              1,
              "rgb(90,179,244)"
             ]
            ],
            "type": "histogram2d"
           }
          ],
          "histogram2dcontour": [
           {
            "colorbar": {
             "outlinewidth": 0,
             "tickcolor": "rgb(237,237,237)",
             "ticklen": 6,
             "ticks": "inside"
            },
            "colorscale": [
             [
              0,
              "rgb(20,44,66)"
             ],
             [
              1,
              "rgb(90,179,244)"
             ]
            ],
            "type": "histogram2dcontour"
           }
          ],
          "mesh3d": [
           {
            "colorbar": {
             "outlinewidth": 0,
             "tickcolor": "rgb(237,237,237)",
             "ticklen": 6,
             "ticks": "inside"
            },
            "type": "mesh3d"
           }
          ],
          "parcoords": [
           {
            "line": {
             "colorbar": {
              "outlinewidth": 0,
              "tickcolor": "rgb(237,237,237)",
              "ticklen": 6,
              "ticks": "inside"
             }
            },
            "type": "parcoords"
           }
          ],
          "pie": [
           {
            "automargin": true,
            "type": "pie"
           }
          ],
          "scatter": [
           {
            "fillpattern": {
             "fillmode": "overlay",
             "size": 10,
             "solidity": 0.2
            },
            "type": "scatter"
           }
          ],
          "scatter3d": [
           {
            "line": {
             "colorbar": {
              "outlinewidth": 0,
              "tickcolor": "rgb(237,237,237)",
              "ticklen": 6,
              "ticks": "inside"
             }
            },
            "marker": {
             "colorbar": {
              "outlinewidth": 0,
              "tickcolor": "rgb(237,237,237)",
              "ticklen": 6,
              "ticks": "inside"
             }
            },
            "type": "scatter3d"
           }
          ],
          "scattercarpet": [
           {
            "marker": {
             "colorbar": {
              "outlinewidth": 0,
              "tickcolor": "rgb(237,237,237)",
              "ticklen": 6,
              "ticks": "inside"
             }
            },
            "type": "scattercarpet"
           }
          ],
          "scattergeo": [
           {
            "marker": {
             "colorbar": {
              "outlinewidth": 0,
              "tickcolor": "rgb(237,237,237)",
              "ticklen": 6,
              "ticks": "inside"
             }
            },
            "type": "scattergeo"
           }
          ],
          "scattergl": [
           {
            "marker": {
             "colorbar": {
              "outlinewidth": 0,
              "tickcolor": "rgb(237,237,237)",
              "ticklen": 6,
              "ticks": "inside"
             }
            },
            "type": "scattergl"
           }
          ],
          "scattermapbox": [
           {
            "marker": {
             "colorbar": {
              "outlinewidth": 0,
              "tickcolor": "rgb(237,237,237)",
              "ticklen": 6,
              "ticks": "inside"
             }
            },
            "type": "scattermapbox"
           }
          ],
          "scatterpolar": [
           {
            "marker": {
             "colorbar": {
              "outlinewidth": 0,
              "tickcolor": "rgb(237,237,237)",
              "ticklen": 6,
              "ticks": "inside"
             }
            },
            "type": "scatterpolar"
           }
          ],
          "scatterpolargl": [
           {
            "marker": {
             "colorbar": {
              "outlinewidth": 0,
              "tickcolor": "rgb(237,237,237)",
              "ticklen": 6,
              "ticks": "inside"
             }
            },
            "type": "scatterpolargl"
           }
          ],
          "scatterternary": [
           {
            "marker": {
             "colorbar": {
              "outlinewidth": 0,
              "tickcolor": "rgb(237,237,237)",
              "ticklen": 6,
              "ticks": "inside"
             }
            },
            "type": "scatterternary"
           }
          ],
          "surface": [
           {
            "colorbar": {
             "outlinewidth": 0,
             "tickcolor": "rgb(237,237,237)",
             "ticklen": 6,
             "ticks": "inside"
            },
            "colorscale": [
             [
              0,
              "rgb(20,44,66)"
             ],
             [
              1,
              "rgb(90,179,244)"
             ]
            ],
            "type": "surface"
           }
          ],
          "table": [
           {
            "cells": {
             "fill": {
              "color": "rgb(237,237,237)"
             },
             "line": {
              "color": "white"
             }
            },
            "header": {
             "fill": {
              "color": "rgb(217,217,217)"
             },
             "line": {
              "color": "white"
             }
            },
            "type": "table"
           }
          ]
         },
         "layout": {
          "annotationdefaults": {
           "arrowhead": 0,
           "arrowwidth": 1
          },
          "autotypenumbers": "strict",
          "coloraxis": {
           "colorbar": {
            "outlinewidth": 0,
            "tickcolor": "rgb(237,237,237)",
            "ticklen": 6,
            "ticks": "inside"
           }
          },
          "colorscale": {
           "sequential": [
            [
             0,
             "rgb(20,44,66)"
            ],
            [
             1,
             "rgb(90,179,244)"
            ]
           ],
           "sequentialminus": [
            [
             0,
             "rgb(20,44,66)"
            ],
            [
             1,
             "rgb(90,179,244)"
            ]
           ]
          },
          "colorway": [
           "#F8766D",
           "#A3A500",
           "#00BF7D",
           "#00B0F6",
           "#E76BF3"
          ],
          "font": {
           "color": "rgb(51,51,51)"
          },
          "geo": {
           "bgcolor": "white",
           "lakecolor": "white",
           "landcolor": "rgb(237,237,237)",
           "showlakes": true,
           "showland": true,
           "subunitcolor": "white"
          },
          "hoverlabel": {
           "align": "left"
          },
          "hovermode": "closest",
          "paper_bgcolor": "white",
          "plot_bgcolor": "rgb(237,237,237)",
          "polar": {
           "angularaxis": {
            "gridcolor": "white",
            "linecolor": "white",
            "showgrid": true,
            "tickcolor": "rgb(51,51,51)",
            "ticks": "outside"
           },
           "bgcolor": "rgb(237,237,237)",
           "radialaxis": {
            "gridcolor": "white",
            "linecolor": "white",
            "showgrid": true,
            "tickcolor": "rgb(51,51,51)",
            "ticks": "outside"
           }
          },
          "scene": {
           "xaxis": {
            "backgroundcolor": "rgb(237,237,237)",
            "gridcolor": "white",
            "gridwidth": 2,
            "linecolor": "white",
            "showbackground": true,
            "showgrid": true,
            "tickcolor": "rgb(51,51,51)",
            "ticks": "outside",
            "zerolinecolor": "white"
           },
           "yaxis": {
            "backgroundcolor": "rgb(237,237,237)",
            "gridcolor": "white",
            "gridwidth": 2,
            "linecolor": "white",
            "showbackground": true,
            "showgrid": true,
            "tickcolor": "rgb(51,51,51)",
            "ticks": "outside",
            "zerolinecolor": "white"
           },
           "zaxis": {
            "backgroundcolor": "rgb(237,237,237)",
            "gridcolor": "white",
            "gridwidth": 2,
            "linecolor": "white",
            "showbackground": true,
            "showgrid": true,
            "tickcolor": "rgb(51,51,51)",
            "ticks": "outside",
            "zerolinecolor": "white"
           }
          },
          "shapedefaults": {
           "fillcolor": "black",
           "line": {
            "width": 0
           },
           "opacity": 0.3
          },
          "ternary": {
           "aaxis": {
            "gridcolor": "white",
            "linecolor": "white",
            "showgrid": true,
            "tickcolor": "rgb(51,51,51)",
            "ticks": "outside"
           },
           "baxis": {
            "gridcolor": "white",
            "linecolor": "white",
            "showgrid": true,
            "tickcolor": "rgb(51,51,51)",
            "ticks": "outside"
           },
           "bgcolor": "rgb(237,237,237)",
           "caxis": {
            "gridcolor": "white",
            "linecolor": "white",
            "showgrid": true,
            "tickcolor": "rgb(51,51,51)",
            "ticks": "outside"
           }
          },
          "xaxis": {
           "automargin": true,
           "gridcolor": "white",
           "linecolor": "white",
           "showgrid": true,
           "tickcolor": "rgb(51,51,51)",
           "ticks": "outside",
           "title": {
            "standoff": 15
           },
           "zerolinecolor": "white"
          },
          "yaxis": {
           "automargin": true,
           "gridcolor": "white",
           "linecolor": "white",
           "showgrid": true,
           "tickcolor": "rgb(51,51,51)",
           "ticks": "outside",
           "title": {
            "standoff": 15
           },
           "zerolinecolor": "white"
          }
         }
        },
        "title": {
         "text": "COORDENADAS NODOS"
        },
        "width": 800,
        "xaxis": {
         "range": [
          -10,
          210
         ],
         "title": {
          "text": "X"
         }
        },
        "yaxis": {
         "range": [
          -10,
          210
         ],
         "title": {
          "text": "Y"
         }
        }
       }
      }
     },
     "metadata": {},
     "output_type": "display_data"
    }
   ],
   "source": [
    "fig = go.Figure()\n",
    "\n",
    "# Añadir punto de depósito en rojo\n",
    "fig.add_trace(\n",
    "    go.Scatter(\n",
    "        x=[COORDENADAS[0][\"x\"]],\n",
    "        y=[COORDENADAS[0][\"y\"]],\n",
    "        mode=\"markers\",\n",
    "        name=\"Depósito\",\n",
    "        marker=dict(color=\"red\", size=15),\n",
    "    )\n",
    ")\n",
    "\n",
    "# Añadir puntos de clientes en negro\n",
    "fig.add_trace(\n",
    "    go.Scatter(\n",
    "        x=[coord[\"x\"] for coord in list(COORDENADAS.values())[1:]],\n",
    "        y=[coord[\"y\"] for coord in list(COORDENADAS.values())[1:]],\n",
    "        mode=\"markers\",\n",
    "        name=\"Clientes\",\n",
    "        marker=dict(color=\"black\", size=10),\n",
    "    )\n",
    ")\n",
    "\n",
    "# Añadir anotaciones de clientes\n",
    "for cliente in CLIENTES:\n",
    "    coord_cliente_x = COORDENADAS[cliente][\"x\"]\n",
    "    coord_cliente_y = COORDENADAS[cliente][\"y\"]\n",
    "    fig.add_annotation(x=coord_cliente_x - 8, y=coord_cliente_y + 8, text=f\"<b>C{cliente}: </b> {DEMANDAS[cliente]}\", showarrow=False)\n",
    "\n",
    "# Configurar el layout del gráfico\n",
    "fig.update_layout(\n",
    "    title=f\"COORDENADAS NODOS\",\n",
    "    xaxis_title=\"X\",\n",
    "    yaxis_title=\"Y\",\n",
    "    xaxis=dict(range=[-10, N * 10 + 10]),\n",
    "    yaxis=dict(range=[-10, N * 10 + 10]),\n",
    "    width=800,\n",
    "    height=600,\n",
    "    template=\"ggplot2\",\n",
    ")\n",
    "\n",
    "fig.show()"
   ]
  },
  {
   "cell_type": "code",
   "execution_count": 153,
   "metadata": {},
   "outputs": [],
   "source": [
    "model = Model(\"CVRP\")"
   ]
  },
  {
   "attachments": {},
   "cell_type": "markdown",
   "metadata": {},
   "source": [
    "**Variables**"
   ]
  },
  {
   "cell_type": "markdown",
   "metadata": {},
   "source": [
    "$$ x_{n1, n2} = \\begin{cases} \n",
    "1 & \\text{Si el camión viaja de } n1 \\in \\text{NODOS} \\text{ al } n2 \\in \\text{NODOS} \\\\ \n",
    "0 & \\text{d.l.c.} \n",
    "\\end{cases} $$\n",
    "$$ u_{n} \\in \\mathbb{Z}^{+} \\text{: Carga acumulada del vehículo al llegar al nodo } n \\in \\text{NODOS} $$"
   ]
  },
  {
   "cell_type": "code",
   "execution_count": 154,
   "metadata": {},
   "outputs": [],
   "source": [
    "x = model.binary_var_dict([(nodo1, nodo2) for nodo1 in NODOS for nodo2 in NODOS], name=\"x\")\n",
    "u = model.integer_var_dict(NODOS, name=\"u\")"
   ]
  },
  {
   "cell_type": "markdown",
   "metadata": {},
   "source": [
    "**Función Objetivo**"
   ]
  },
  {
   "cell_type": "markdown",
   "metadata": {},
   "source": [
    "$$ \\text{Minimizar } \\sum_{n1 \\in \\text{NODOS}} \\sum_{n2 \\in \\text{NODOS}} \\text{DISTANCIAS}_{n1,n2} \\cdot x_{n1, n2} $$"
   ]
  },
  {
   "cell_type": "code",
   "execution_count": 155,
   "metadata": {},
   "outputs": [],
   "source": [
    "model.minimize(model.sum(DISTANCIAS[(nodo1, nodo2)] * x[(nodo1, nodo2)] for nodo1 in NODOS for nodo2 in NODOS))"
   ]
  },
  {
   "cell_type": "markdown",
   "metadata": {},
   "source": [
    "**Restricciones**"
   ]
  },
  {
   "cell_type": "markdown",
   "metadata": {},
   "source": [
    "1. **Prohibición de bucles:**\n",
    "$$ \\forall n \\in \\text{NODOS}: x_{n, n} = 0 $$\n",
    "\n",
    "2. **Asignación única de salidas para cada cliente:**\n",
    "$$ \\forall c \\in \\text{CLIENTES}: \\sum_{n \\in \\text{NODOS}, n \\neq c} x_{c, n} = 1 $$\n",
    "\n",
    "3. **Asignación única de entradas para cada cliente:**\n",
    "$$ \\forall c \\in \\text{CLIENTES}: \\sum_{n \\in \\text{NODOS}, n \\neq c} x_{n, c} = 1 $$\n",
    "\n",
    "4. **Restricciones para evitar subtours:**\n",
    "$$ \\forall c1, c2 \\in \\text{CLIENTES}, c1 \\neq c2: \\text{Si } x_{c1, c2} = 1 \\rightarrow u_{c2} =  u_{c1} + \\text{DEMANDA}_{c2} $$\n",
    "\n",
    "$$ \\begin{cases} \n",
    "\\forall c1, c2 \\in \\text{CLIENTES}, c1 \\neq c2:  u_{c2} \\leq u_{c1} + \\text{DEMANDA}_{c2} + \\mathcal{M} (1 - x_{c1, c2}) ❓\\\\\n",
    "\\forall c1, c2 \\in \\text{CLIENTES}, c1 \\neq c2:  u_{c2} \\geq u_{c1} + \\text{DEMANDA}_{c2} - \\mathcal{M} (1 - x_{c1, c2}) ✅\n",
    "\\end{cases} $$\n",
    "\n",
    "5. **Demanda mínima en cada cliente:**\n",
    "$$ \\forall c \\in \\text{CLIENTES}: u_{c} \\geq \\text{DEMANDA}_{c} $$\n",
    "\n",
    "6. **Demanda máxima permitida por el camión:**\n",
    "$$ \\forall c \\in \\text{CLIENTES}: u_{c} \\leq \\text{CAPACIDAD\\_CAMION} $$\n"
   ]
  },
  {
   "cell_type": "code",
   "execution_count": 156,
   "metadata": {},
   "outputs": [],
   "source": [
    "for nodo in NODOS:\n",
    "    model.add_constraint(x[(nodo, nodo)] == 0)\n",
    "\n",
    "for cliente in CLIENTES:\n",
    "    model.add_constraint(model.sum(x[(cliente, nodo)] for nodo in NODOS if nodo != cliente) == 1)\n",
    "\n",
    "for cliente in CLIENTES:\n",
    "    model.add_constraint(model.sum(x[(nodo, cliente)] for nodo in NODOS if nodo != cliente) == 1)\n",
    "\n",
    "for cliente1 in CLIENTES:\n",
    "    for cliente2 in CLIENTES:\n",
    "        if cliente1 != cliente2:\n",
    "            # model.add_constraint(u[cliente2] >= u[cliente1] + DEMANDAS[cliente2] - 10000 * (1 - x[cliente1, cliente2]))\n",
    "            model.add_indicator(x[(cliente1, cliente2)], u[cliente2] >= u[cliente1] + DEMANDAS[cliente2], active_value = 1)\n",
    "\n",
    "for cliente in CLIENTES:\n",
    "    model.add_constraint(u[cliente] >= DEMANDAS[cliente])\n",
    "\n",
    "for cliente in CLIENTES:\n",
    "    model.add_constraint(u[cliente] <= CAPACIDAD_CAMION)"
   ]
  },
  {
   "cell_type": "code",
   "execution_count": 157,
   "metadata": {},
   "outputs": [],
   "source": [
    "model.set_time_limit(20)\n",
    "solution = model.solve()"
   ]
  },
  {
   "cell_type": "code",
   "execution_count": 158,
   "metadata": {},
   "outputs": [
    {
     "name": "stdout",
     "output_type": "stream",
     "text": [
      "==== Ruta 1 ====\n",
      "0 -> 2 -> 1 -> 4 -> 20 -> 0\n",
      "==== Ruta 2 ====\n",
      "0 -> 5 -> 11 -> 19 -> 12 -> 9 -> 0\n",
      "==== Ruta 3 ====\n",
      "0 -> 8 -> 6 -> 17 -> 10 -> 0\n",
      "==== Ruta 4 ====\n",
      "0 -> 13 -> 16 -> 7 -> 3 -> 0\n",
      "==== Ruta 5 ====\n",
      "0 -> 18 -> 14 -> 15 -> 0\n",
      "\n",
      "==== Arreglo de rutas ====\n",
      "[[0, 2, 1, 4, 20, 0], [0, 5, 11, 19, 12, 9, 0], [0, 8, 6, 17, 10, 0], [0, 13, 16, 7, 3, 0], [0, 18, 14, 15, 0]]\n"
     ]
    }
   ],
   "source": [
    "rutas = []\n",
    "for i, cliente in enumerate(CLIENTES):\n",
    "    if x[(0, cliente)].solution_value > 0.9:\n",
    "        print(f\"==== Ruta {i} ====\")\n",
    "        \n",
    "        ruta = [0, cliente]\n",
    "        r = \"0 -> \" + str(cliente) + \" -> \"\n",
    "\n",
    "        c1 = cliente\n",
    "        while x[(c1, 0)].solution_value < 0.9:\n",
    "            c2 = next(c for c in CLIENTES if x[(c1, c)].solution_value > 0.9)\n",
    "            r += str(c2) + \" -> \"\n",
    "            ruta.append(c2)\n",
    "            c1 = c2\n",
    "\n",
    "        r += \"0\"\n",
    "        ruta.append(0)\n",
    "\n",
    "        print(r)\n",
    "        rutas.append(ruta)\n",
    "\n",
    "print(\"\\n==== Arreglo de rutas ====\")\n",
    "print(rutas)\n"
   ]
  },
  {
   "cell_type": "code",
   "execution_count": 159,
   "metadata": {},
   "outputs": [
    {
     "data": {
      "application/vnd.plotly.v1+json": {
       "config": {
        "plotlyServerURL": "https://plot.ly"
       },
       "data": [
        {
         "line": {
          "color": "#3366CC",
          "dash": "solid",
          "width": 2
         },
         "mode": "lines",
         "name": "Ruta 1 - CAP: 66 D: 339.45",
         "type": "scatter",
         "x": [
          121,
          80,
          25,
          16,
          29,
          121
         ],
         "y": [
          63,
          133,
          176,
          123,
          85,
          63
         ]
        },
        {
         "line": {
          "color": "#DC3912",
          "dash": "solid",
          "width": 2
         },
         "mode": "lines",
         "name": "Ruta 2 - CAP: 66 D: 412.62",
         "type": "scatter",
         "x": [
          121,
          199,
          183,
          82,
          83,
          112,
          121
         ],
         "y": [
          63,
          164,
          194,
          188,
          102,
          96,
          63
         ]
        },
        {
         "line": {
          "color": "#FF9900",
          "dash": "solid",
          "width": 2
         },
         "mode": "lines",
         "name": "Ruta 3 - CAP: 59 D: 238.30",
         "type": "scatter",
         "x": [
          121,
          182,
          197,
          191,
          200,
          121
         ],
         "y": [
          63,
          1,
          30,
          60,
          61,
          63
         ]
        },
        {
         "line": {
          "color": "#109618",
          "dash": "solid",
          "width": 2
         },
         "mode": "lines",
         "name": "Ruta 4 - CAP: 66 D: 309.62",
         "type": "scatter",
         "x": [
          121,
          28,
          7,
          68,
          84,
          121
         ],
         "y": [
          63,
          75,
          5,
          34,
          22,
          63
         ]
        },
        {
         "line": {
          "color": "#990099",
          "dash": "solid",
          "width": 2
         },
         "mode": "lines",
         "name": "Ruta 5 - CAP: 50 D: 154.54",
         "type": "scatter",
         "x": [
          121,
          128,
          169,
          182,
          121
         ],
         "y": [
          63,
          47,
          68,
          89,
          63
         ]
        },
        {
         "marker": {
          "color": "red",
          "size": 15
         },
         "mode": "markers",
         "name": "Depósito",
         "type": "scatter",
         "x": [
          121
         ],
         "y": [
          63
         ]
        },
        {
         "marker": {
          "color": "black",
          "size": 10
         },
         "mode": "markers",
         "name": "Clientes",
         "type": "scatter",
         "x": [
          25,
          80,
          84,
          16,
          199,
          197,
          68,
          182,
          112,
          200,
          183,
          83,
          28,
          169,
          182,
          7,
          191,
          128,
          82,
          29
         ],
         "y": [
          176,
          133,
          22,
          123,
          164,
          30,
          34,
          1,
          96,
          61,
          194,
          102,
          75,
          68,
          89,
          5,
          60,
          47,
          188,
          85
         ]
        }
       ],
       "layout": {
        "annotations": [
         {
          "showarrow": false,
          "text": "<b>C1</b>",
          "x": 17,
          "y": 184
         },
         {
          "showarrow": false,
          "text": "<b>C2</b>",
          "x": 72,
          "y": 141
         },
         {
          "showarrow": false,
          "text": "<b>C3</b>",
          "x": 76,
          "y": 30
         },
         {
          "showarrow": false,
          "text": "<b>C4</b>",
          "x": 8,
          "y": 131
         },
         {
          "showarrow": false,
          "text": "<b>C5</b>",
          "x": 191,
          "y": 172
         },
         {
          "showarrow": false,
          "text": "<b>C6</b>",
          "x": 189,
          "y": 38
         },
         {
          "showarrow": false,
          "text": "<b>C7</b>",
          "x": 60,
          "y": 42
         },
         {
          "showarrow": false,
          "text": "<b>C8</b>",
          "x": 174,
          "y": 9
         },
         {
          "showarrow": false,
          "text": "<b>C9</b>",
          "x": 104,
          "y": 104
         },
         {
          "showarrow": false,
          "text": "<b>C10</b>",
          "x": 192,
          "y": 69
         },
         {
          "showarrow": false,
          "text": "<b>C11</b>",
          "x": 175,
          "y": 202
         },
         {
          "showarrow": false,
          "text": "<b>C12</b>",
          "x": 75,
          "y": 110
         },
         {
          "showarrow": false,
          "text": "<b>C13</b>",
          "x": 20,
          "y": 83
         },
         {
          "showarrow": false,
          "text": "<b>C14</b>",
          "x": 161,
          "y": 76
         },
         {
          "showarrow": false,
          "text": "<b>C15</b>",
          "x": 174,
          "y": 97
         },
         {
          "showarrow": false,
          "text": "<b>C16</b>",
          "x": -1,
          "y": 13
         },
         {
          "showarrow": false,
          "text": "<b>C17</b>",
          "x": 183,
          "y": 68
         },
         {
          "showarrow": false,
          "text": "<b>C18</b>",
          "x": 120,
          "y": 55
         },
         {
          "showarrow": false,
          "text": "<b>C19</b>",
          "x": 74,
          "y": 196
         },
         {
          "showarrow": false,
          "text": "<b>C20</b>",
          "x": 21,
          "y": 93
         }
        ],
        "height": 600,
        "template": {
         "data": {
          "bar": [
           {
            "error_x": {
             "color": "rgb(51,51,51)"
            },
            "error_y": {
             "color": "rgb(51,51,51)"
            },
            "marker": {
             "line": {
              "color": "rgb(237,237,237)",
              "width": 0.5
             },
             "pattern": {
              "fillmode": "overlay",
              "size": 10,
              "solidity": 0.2
             }
            },
            "type": "bar"
           }
          ],
          "barpolar": [
           {
            "marker": {
             "line": {
              "color": "rgb(237,237,237)",
              "width": 0.5
             },
             "pattern": {
              "fillmode": "overlay",
              "size": 10,
              "solidity": 0.2
             }
            },
            "type": "barpolar"
           }
          ],
          "carpet": [
           {
            "aaxis": {
             "endlinecolor": "rgb(51,51,51)",
             "gridcolor": "white",
             "linecolor": "white",
             "minorgridcolor": "white",
             "startlinecolor": "rgb(51,51,51)"
            },
            "baxis": {
             "endlinecolor": "rgb(51,51,51)",
             "gridcolor": "white",
             "linecolor": "white",
             "minorgridcolor": "white",
             "startlinecolor": "rgb(51,51,51)"
            },
            "type": "carpet"
           }
          ],
          "choropleth": [
           {
            "colorbar": {
             "outlinewidth": 0,
             "tickcolor": "rgb(237,237,237)",
             "ticklen": 6,
             "ticks": "inside"
            },
            "type": "choropleth"
           }
          ],
          "contour": [
           {
            "colorbar": {
             "outlinewidth": 0,
             "tickcolor": "rgb(237,237,237)",
             "ticklen": 6,
             "ticks": "inside"
            },
            "colorscale": [
             [
              0,
              "rgb(20,44,66)"
             ],
             [
              1,
              "rgb(90,179,244)"
             ]
            ],
            "type": "contour"
           }
          ],
          "contourcarpet": [
           {
            "colorbar": {
             "outlinewidth": 0,
             "tickcolor": "rgb(237,237,237)",
             "ticklen": 6,
             "ticks": "inside"
            },
            "type": "contourcarpet"
           }
          ],
          "heatmap": [
           {
            "colorbar": {
             "outlinewidth": 0,
             "tickcolor": "rgb(237,237,237)",
             "ticklen": 6,
             "ticks": "inside"
            },
            "colorscale": [
             [
              0,
              "rgb(20,44,66)"
             ],
             [
              1,
              "rgb(90,179,244)"
             ]
            ],
            "type": "heatmap"
           }
          ],
          "heatmapgl": [
           {
            "colorbar": {
             "outlinewidth": 0,
             "tickcolor": "rgb(237,237,237)",
             "ticklen": 6,
             "ticks": "inside"
            },
            "colorscale": [
             [
              0,
              "rgb(20,44,66)"
             ],
             [
              1,
              "rgb(90,179,244)"
             ]
            ],
            "type": "heatmapgl"
           }
          ],
          "histogram": [
           {
            "marker": {
             "pattern": {
              "fillmode": "overlay",
              "size": 10,
              "solidity": 0.2
             }
            },
            "type": "histogram"
           }
          ],
          "histogram2d": [
           {
            "colorbar": {
             "outlinewidth": 0,
             "tickcolor": "rgb(237,237,237)",
             "ticklen": 6,
             "ticks": "inside"
            },
            "colorscale": [
             [
              0,
              "rgb(20,44,66)"
             ],
             [
              1,
              "rgb(90,179,244)"
             ]
            ],
            "type": "histogram2d"
           }
          ],
          "histogram2dcontour": [
           {
            "colorbar": {
             "outlinewidth": 0,
             "tickcolor": "rgb(237,237,237)",
             "ticklen": 6,
             "ticks": "inside"
            },
            "colorscale": [
             [
              0,
              "rgb(20,44,66)"
             ],
             [
              1,
              "rgb(90,179,244)"
             ]
            ],
            "type": "histogram2dcontour"
           }
          ],
          "mesh3d": [
           {
            "colorbar": {
             "outlinewidth": 0,
             "tickcolor": "rgb(237,237,237)",
             "ticklen": 6,
             "ticks": "inside"
            },
            "type": "mesh3d"
           }
          ],
          "parcoords": [
           {
            "line": {
             "colorbar": {
              "outlinewidth": 0,
              "tickcolor": "rgb(237,237,237)",
              "ticklen": 6,
              "ticks": "inside"
             }
            },
            "type": "parcoords"
           }
          ],
          "pie": [
           {
            "automargin": true,
            "type": "pie"
           }
          ],
          "scatter": [
           {
            "fillpattern": {
             "fillmode": "overlay",
             "size": 10,
             "solidity": 0.2
            },
            "type": "scatter"
           }
          ],
          "scatter3d": [
           {
            "line": {
             "colorbar": {
              "outlinewidth": 0,
              "tickcolor": "rgb(237,237,237)",
              "ticklen": 6,
              "ticks": "inside"
             }
            },
            "marker": {
             "colorbar": {
              "outlinewidth": 0,
              "tickcolor": "rgb(237,237,237)",
              "ticklen": 6,
              "ticks": "inside"
             }
            },
            "type": "scatter3d"
           }
          ],
          "scattercarpet": [
           {
            "marker": {
             "colorbar": {
              "outlinewidth": 0,
              "tickcolor": "rgb(237,237,237)",
              "ticklen": 6,
              "ticks": "inside"
             }
            },
            "type": "scattercarpet"
           }
          ],
          "scattergeo": [
           {
            "marker": {
             "colorbar": {
              "outlinewidth": 0,
              "tickcolor": "rgb(237,237,237)",
              "ticklen": 6,
              "ticks": "inside"
             }
            },
            "type": "scattergeo"
           }
          ],
          "scattergl": [
           {
            "marker": {
             "colorbar": {
              "outlinewidth": 0,
              "tickcolor": "rgb(237,237,237)",
              "ticklen": 6,
              "ticks": "inside"
             }
            },
            "type": "scattergl"
           }
          ],
          "scattermapbox": [
           {
            "marker": {
             "colorbar": {
              "outlinewidth": 0,
              "tickcolor": "rgb(237,237,237)",
              "ticklen": 6,
              "ticks": "inside"
             }
            },
            "type": "scattermapbox"
           }
          ],
          "scatterpolar": [
           {
            "marker": {
             "colorbar": {
              "outlinewidth": 0,
              "tickcolor": "rgb(237,237,237)",
              "ticklen": 6,
              "ticks": "inside"
             }
            },
            "type": "scatterpolar"
           }
          ],
          "scatterpolargl": [
           {
            "marker": {
             "colorbar": {
              "outlinewidth": 0,
              "tickcolor": "rgb(237,237,237)",
              "ticklen": 6,
              "ticks": "inside"
             }
            },
            "type": "scatterpolargl"
           }
          ],
          "scatterternary": [
           {
            "marker": {
             "colorbar": {
              "outlinewidth": 0,
              "tickcolor": "rgb(237,237,237)",
              "ticklen": 6,
              "ticks": "inside"
             }
            },
            "type": "scatterternary"
           }
          ],
          "surface": [
           {
            "colorbar": {
             "outlinewidth": 0,
             "tickcolor": "rgb(237,237,237)",
             "ticklen": 6,
             "ticks": "inside"
            },
            "colorscale": [
             [
              0,
              "rgb(20,44,66)"
             ],
             [
              1,
              "rgb(90,179,244)"
             ]
            ],
            "type": "surface"
           }
          ],
          "table": [
           {
            "cells": {
             "fill": {
              "color": "rgb(237,237,237)"
             },
             "line": {
              "color": "white"
             }
            },
            "header": {
             "fill": {
              "color": "rgb(217,217,217)"
             },
             "line": {
              "color": "white"
             }
            },
            "type": "table"
           }
          ]
         },
         "layout": {
          "annotationdefaults": {
           "arrowhead": 0,
           "arrowwidth": 1
          },
          "autotypenumbers": "strict",
          "coloraxis": {
           "colorbar": {
            "outlinewidth": 0,
            "tickcolor": "rgb(237,237,237)",
            "ticklen": 6,
            "ticks": "inside"
           }
          },
          "colorscale": {
           "sequential": [
            [
             0,
             "rgb(20,44,66)"
            ],
            [
             1,
             "rgb(90,179,244)"
            ]
           ],
           "sequentialminus": [
            [
             0,
             "rgb(20,44,66)"
            ],
            [
             1,
             "rgb(90,179,244)"
            ]
           ]
          },
          "colorway": [
           "#F8766D",
           "#A3A500",
           "#00BF7D",
           "#00B0F6",
           "#E76BF3"
          ],
          "font": {
           "color": "rgb(51,51,51)"
          },
          "geo": {
           "bgcolor": "white",
           "lakecolor": "white",
           "landcolor": "rgb(237,237,237)",
           "showlakes": true,
           "showland": true,
           "subunitcolor": "white"
          },
          "hoverlabel": {
           "align": "left"
          },
          "hovermode": "closest",
          "paper_bgcolor": "white",
          "plot_bgcolor": "rgb(237,237,237)",
          "polar": {
           "angularaxis": {
            "gridcolor": "white",
            "linecolor": "white",
            "showgrid": true,
            "tickcolor": "rgb(51,51,51)",
            "ticks": "outside"
           },
           "bgcolor": "rgb(237,237,237)",
           "radialaxis": {
            "gridcolor": "white",
            "linecolor": "white",
            "showgrid": true,
            "tickcolor": "rgb(51,51,51)",
            "ticks": "outside"
           }
          },
          "scene": {
           "xaxis": {
            "backgroundcolor": "rgb(237,237,237)",
            "gridcolor": "white",
            "gridwidth": 2,
            "linecolor": "white",
            "showbackground": true,
            "showgrid": true,
            "tickcolor": "rgb(51,51,51)",
            "ticks": "outside",
            "zerolinecolor": "white"
           },
           "yaxis": {
            "backgroundcolor": "rgb(237,237,237)",
            "gridcolor": "white",
            "gridwidth": 2,
            "linecolor": "white",
            "showbackground": true,
            "showgrid": true,
            "tickcolor": "rgb(51,51,51)",
            "ticks": "outside",
            "zerolinecolor": "white"
           },
           "zaxis": {
            "backgroundcolor": "rgb(237,237,237)",
            "gridcolor": "white",
            "gridwidth": 2,
            "linecolor": "white",
            "showbackground": true,
            "showgrid": true,
            "tickcolor": "rgb(51,51,51)",
            "ticks": "outside",
            "zerolinecolor": "white"
           }
          },
          "shapedefaults": {
           "fillcolor": "black",
           "line": {
            "width": 0
           },
           "opacity": 0.3
          },
          "ternary": {
           "aaxis": {
            "gridcolor": "white",
            "linecolor": "white",
            "showgrid": true,
            "tickcolor": "rgb(51,51,51)",
            "ticks": "outside"
           },
           "baxis": {
            "gridcolor": "white",
            "linecolor": "white",
            "showgrid": true,
            "tickcolor": "rgb(51,51,51)",
            "ticks": "outside"
           },
           "bgcolor": "rgb(237,237,237)",
           "caxis": {
            "gridcolor": "white",
            "linecolor": "white",
            "showgrid": true,
            "tickcolor": "rgb(51,51,51)",
            "ticks": "outside"
           }
          },
          "xaxis": {
           "automargin": true,
           "gridcolor": "white",
           "linecolor": "white",
           "showgrid": true,
           "tickcolor": "rgb(51,51,51)",
           "ticks": "outside",
           "title": {
            "standoff": 15
           },
           "zerolinecolor": "white"
          },
          "yaxis": {
           "automargin": true,
           "gridcolor": "white",
           "linecolor": "white",
           "showgrid": true,
           "tickcolor": "rgb(51,51,51)",
           "ticks": "outside",
           "title": {
            "standoff": 15
           },
           "zerolinecolor": "white"
          }
         }
        },
        "title": {
         "text": "RECORRIDO TOTAL: 1454.53"
        },
        "width": 800,
        "xaxis": {
         "range": [
          -10,
          210
         ],
         "title": {
          "text": "X"
         }
        },
        "yaxis": {
         "range": [
          -10,
          210
         ],
         "title": {
          "text": "Y"
         }
        }
       }
      }
     },
     "metadata": {},
     "output_type": "display_data"
    }
   ],
   "source": [
    "fig = go.Figure()\n",
    "\n",
    "# RUTAS\n",
    "for idx, ruta in enumerate(rutas):\n",
    "    x = [COORDENADAS[nodo][\"x\"] for nodo in ruta]\n",
    "    y = [COORDENADAS[nodo][\"y\"] for nodo in ruta]\n",
    "    capacidad_ruta = sum(map(lambda x: DEMANDAS[x] if x != 0 else 0, ruta))\n",
    "    distancia_ruta = sum([DISTANCIAS[(ruta[i], ruta[i + 1])] for i in range(len(ruta) - 1)])\n",
    "    fig.add_trace(\n",
    "        go.Scatter(\n",
    "            x=x,\n",
    "            y=y,\n",
    "            mode=\"lines\",\n",
    "            line=dict(color=px.colors.qualitative.G10[idx % len(px.colors.qualitative.G10)], width=2, dash=\"solid\"),\n",
    "            name=f\"Ruta {idx+1} - CAP: {capacidad_ruta} D: {distancia_ruta:.2f}\",\n",
    "        )\n",
    "    )\n",
    "\n",
    "# DEPÓSITO\n",
    "fig.add_trace(\n",
    "    go.Scatter(\n",
    "        x=[COORDENADAS[0][\"x\"]],\n",
    "        y=[COORDENADAS[0][\"y\"]],\n",
    "        mode=\"markers\",\n",
    "        name=\"Depósito\",\n",
    "        marker=dict(color=\"red\", size=15),\n",
    "    )\n",
    ")\n",
    "\n",
    "# CLIENTES\n",
    "fig.add_trace(\n",
    "    go.Scatter(\n",
    "        x=[coord[\"x\"] for coord in list(COORDENADAS.values())[1:]],\n",
    "        y=[coord[\"y\"] for coord in list(COORDENADAS.values())[1:]],\n",
    "        mode=\"markers\",\n",
    "        name=\"Clientes\",\n",
    "        marker=dict(color=\"black\", size=10),\n",
    "    )\n",
    ")\n",
    "\n",
    "for cliente in CLIENTES:\n",
    "    coord_cliente_x = COORDENADAS[cliente][\"x\"]\n",
    "    coord_cliente_y = COORDENADAS[cliente][\"y\"]\n",
    "    fig.add_annotation(x=coord_cliente_x - 8, y=coord_cliente_y + 8, text=f\"<b>C{cliente}</b>\", showarrow=False)\n",
    "\n",
    "\n",
    "fig.update_layout(\n",
    "    title=f\"RECORRIDO TOTAL: {solution.objective_value:.2f}\",\n",
    "    xaxis_title=\"X\",\n",
    "    yaxis_title=\"Y\",\n",
    "    xaxis=dict(range=[-10, N * 10 + 10]),\n",
    "    yaxis=dict(range=[-10, N * 10 + 10]),\n",
    "    width=800,\n",
    "    height=600,\n",
    "    template=\"ggplot2\",\n",
    ")\n",
    "\n",
    "fig.show()"
   ]
  },
  {
   "cell_type": "markdown",
   "metadata": {},
   "source": [
    "### Conjuntos\n",
    "$$ \\text{CLIENTES} = \\{1, 2, \\ldots, N\\} $$\n",
    "$$ \\text{NODOS} = \\{0\\} \\cup \\text{CLIENTES} $$\n",
    "\n",
    "### Parámetros\n",
    "$$ \\text{CAPACIDAD\\_CAMION} = 70 $$\n",
    "$$ \\text{DEMANDA}_{c}: \\text{Demanda del cliente } c \\in \\text{CLIENTES} $$\n",
    "$$ \\text{DISTANCIAS}_{n1,n2}: \\text{Distancia euclidiana entre } n1 \\in \\text{NODOS} \\text{ y } n2 \\in \\text{NODOS} $$\n",
    "\n",
    "### Variables de Decisión\n",
    "$$ x_{n1, n2} = \\begin{cases} \n",
    "1 & \\text{Si el camión viaja de } n1 \\in \\text{NODOS} \\text{ al } n2 \\in \\text{NODOS} \\\\ \n",
    "0 & \\text{d.l.c.} \n",
    "\\end{cases} $$\n",
    "$$ u_{n} \\in \\mathbb{Z}^{+} \\text{: Carga acumulada del vehículo al llegar al nodo } n \\in \\text{NODOS} $$\n",
    "\n",
    "### Función Objetivo\n",
    "$$ \\text{Minimizar } \\sum_{n1 \\in \\text{NODOS}} \\sum_{n2 \\in \\text{NODOS}} \\text{DISTANCIAS}_{n1,n2} \\cdot x_{n1, n2} $$\n",
    "\n",
    "### Restricciones\n",
    "\n",
    "1. **Prohibición de bucles:**\n",
    "$$ \\forall n \\in \\text{NODOS}: x_{n, n} = 0 $$\n",
    "\n",
    "2. **Asignación única de salidas para cada cliente:**\n",
    "$$ \\forall c \\in \\text{CLIENTES}: \\sum_{n \\in \\text{NODOS}, n \\neq c} x_{c, n} = 1 $$\n",
    "\n",
    "3. **Asignación única de entradas para cada cliente:**\n",
    "$$ \\forall c \\in \\text{CLIENTES}: \\sum_{n \\in \\text{NODOS}, n \\neq c} x_{n, c} = 1 $$\n",
    "\n",
    "4. **Restricciones para evitar subtours:**\n",
    "$$ \\forall c1, c2 \\in \\text{CLIENTES}, c1 \\neq c2: \\text{Si } x_{c1, c2} = 1 \\rightarrow u_{c2} =  u_{c1} + \\text{DEMANDA}_{c2} $$\n",
    "\n",
    "$$ \\begin{cases} \n",
    "\\forall c1, c2 \\in \\text{CLIENTES}, c1 \\neq c2:  u_{c2} \\leq u_{c1} + \\text{DEMANDA}_{c2} + \\mathcal{M} (1 - x_{c1, c2}) ❓\\\\\n",
    "\\forall c1, c2 \\in \\text{CLIENTES}, c1 \\neq c2:  u_{c2} \\geq u_{c1} + \\text{DEMANDA}_{c2} - \\mathcal{M} (1 - x_{c1, c2}) ✅\n",
    "\\end{cases} $$\n",
    "\n",
    "5. **Demanda mínima en cada cliente:**\n",
    "$$ \\forall c \\in \\text{CLIENTES}: u_{c} \\geq \\text{DEMANDA}_{c} $$\n",
    "\n",
    "6. **Demanda máxima permitida por el camión:**\n",
    "$$ \\forall c \\in \\text{CLIENTES}: u_{c} \\leq \\text{CAPACIDAD\\_CAMION} $$\n",
    "\n"
   ]
  }
 ],
 "metadata": {
  "kernelspec": {
   "display_name": "Python 3.7.11 ('base')",
   "language": "python",
   "name": "python3"
  },
  "language_info": {
   "codemirror_mode": {
    "name": "ipython",
    "version": 3
   },
   "file_extension": ".py",
   "mimetype": "text/x-python",
   "name": "python",
   "nbconvert_exporter": "python",
   "pygments_lexer": "ipython3",
   "version": "3.10.10"
  },
  "orig_nbformat": 4,
  "vscode": {
   "interpreter": {
    "hash": "d90077ce7125d20909e99e912648307be4f32fccb58a5fb76bf45800dc67acda"
   }
  }
 },
 "nbformat": 4,
 "nbformat_minor": 2
}
