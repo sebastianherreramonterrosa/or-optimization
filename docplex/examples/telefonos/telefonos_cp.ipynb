{
 "cells": [
  {
   "cell_type": "markdown",
   "metadata": {},
   "source": [
    "## **PROBLEMA TELEFONOS**\n",
    "\n",
    "Una compañía telefónica produce y vende dos tipos de teléfonos: teléfonos de escritorio y teléfonos celulares.\n",
    "Cada tipo de teléfono es ensamblado y pintado por la empresa. El objetivo es maximizar las ganancias y la empresa tiene que producir al menos 100 de cada tipo de teléfono.\n",
    "Existen límites en cuanto a la capacidad de producción de la empresa, y la empresa debe calcular la cantidad óptima de cada tipo de teléfono a producir, sin exceder la capacidad de la planta.\n",
    "\n",
    "Condiciones\n",
    "\n",
    "1. La producción de teléfonos de escritorio debe ser mayor o igual a 100.\n",
    "2. La producción de teléfonos celulares debe ser mayor o igual a 100.\n",
    "3. El tiempo de montaje total no debe exceder las 400 horas. Montar un teléfono de escritorio tarda 12 minutos y un celular 24 minutos.\n",
    "4. El tiempo de pintura total no debe exceder las 490 horas. Pintar un teléfono de escritorio tarda 30 minutos y un celular 24 minutos.\n",
    "5. La compañía vende cada telefono de escritorio a 12 dolares y cada celular a 20 dolares\n",
    "\n",
    "**_¿Cómo cambiaría el problema si?_**\n",
    "\n",
    "La compañía tiene la opción de exceder sus horas de montaje hasta 40. Pero cada hora utilizada le cuesta 2 dólares ¿Cuántas de estas horas debería utilizar?\n",
    "Si las horas de ensamblaje fuera un recurso infinito ¿El overtime también sería infinito?\n"
   ]
  },
  {
   "cell_type": "markdown",
   "metadata": {},
   "source": [
    "$$ \\text{maximizar FO} = 12 \\cdot \\text{desk} + 20 \\cdot \\text{cell} - 2 \\cdot \\text{overtime} $$\n",
    "\n",
    "$$ \\text{desk} \\geq 100 $$\n",
    "$$ \\text{cell} \\geq 100 $$\n",
    "$$ 0.2 \\cdot \\text{desk} + 0.4 \\cdot \\text{cell} \\leq 400 + \\text{overtime} $$\n",
    "$$ 0.5 \\cdot \\text{desk} + 0.4 \\cdot \\text{cell} \\leq 490 $$\n",
    "$$ \\text{overtime} \\leq 40 $$\n"
   ]
  },
  {
   "cell_type": "code",
   "execution_count": 25,
   "metadata": {},
   "outputs": [],
   "source": [
    "from docplex.mp.model import Model\n"
   ]
  },
  {
   "cell_type": "code",
   "execution_count": 26,
   "metadata": {},
   "outputs": [],
   "source": [
    "model = Model(name=\"telephone_production\")"
   ]
  },
  {
   "cell_type": "code",
   "execution_count": 27,
   "metadata": {},
   "outputs": [],
   "source": [
    "desk = model.continuous_var(name=\"desk\")\n",
    "cell = model.continuous_var(name=\"cell\")\n",
    "overtime = model.continuous_var(name=\"overtime\")"
   ]
  },
  {
   "cell_type": "code",
   "execution_count": 28,
   "metadata": {},
   "outputs": [],
   "source": [
    "model.maximize(12 * desk + 20 * cell - 2 * overtime)\n"
   ]
  },
  {
   "cell_type": "code",
   "execution_count": 29,
   "metadata": {},
   "outputs": [
    {
     "data": {
      "text/plain": [
       "docplex.mp.LinearConstraint[](overtime,LE,40)"
      ]
     },
     "execution_count": 29,
     "metadata": {},
     "output_type": "execute_result"
    }
   ],
   "source": [
    "# restricción #1: la producción de escritorio es mayor a 100\n",
    "model.add_constraint(desk >= 100)\n",
    "\n",
    "# restricción #2: la producción de células es mayor que 100\n",
    "model.add_constraint(cell >= 100)\n",
    "\n",
    "# restricción #3: límite de tiempo de ensamblaje\n",
    "model.add_constraint(0.2 * desk + 0.4 * cell <= 400 + overtime)\n",
    "\n",
    "# restricción #4: límite de tiempo de pintura\n",
    "model.add_constraint(0.5 * desk + 0.4 * cell <= 490)\n",
    "\n",
    "model.add_constraint(overtime <= 40)\n"
   ]
  },
  {
   "cell_type": "code",
   "execution_count": 30,
   "metadata": {},
   "outputs": [
    {
     "name": "stdout",
     "output_type": "stream",
     "text": [
      "Model: telephone_production\n",
      " - number of variables: 3\n",
      "   - binary=0, integer=0, continuous=3\n",
      " - number of constraints: 5\n",
      "   - linear=5\n",
      " - parameters: defaults\n",
      " - objective: maximize\n",
      " - problem type is: LP\n"
     ]
    }
   ],
   "source": [
    "model.print_information()\n"
   ]
  },
  {
   "cell_type": "code",
   "execution_count": 31,
   "metadata": {},
   "outputs": [
    {
     "name": "stdout",
     "output_type": "stream",
     "text": [
      "Version identifier: 22.1.1.0 | 2022-11-27 | 9160aff4d\n",
      "CPXPARAM_Read_DataCheck                          1\n",
      "Tried aggregator 1 time.\n",
      "LP Presolve eliminated 3 rows and 0 columns.\n",
      "Reduced LP has 2 rows, 3 columns, and 5 nonzeros.\n",
      "Presolve time = 0.00 sec. (0.00 ticks)\n",
      "\n",
      "Iteration log . . .\n",
      "Iteration:     1   Dual infeasibility =             0.000000\n",
      "Iteration:     2   Dual objective     =         22253.333333\n"
     ]
    }
   ],
   "source": [
    "solution = model.solve(log_output=True)\n"
   ]
  },
  {
   "cell_type": "code",
   "execution_count": 32,
   "metadata": {},
   "outputs": [
    {
     "name": "stdout",
     "output_type": "stream",
     "text": [
      "solution for: telephone_production\n",
      "objective: 22253.333\n",
      "status: OPTIMAL_SOLUTION(2)\n",
      "desk = 166.667\n",
      "cell = 1016.667\n",
      "overtime = 40.000\n"
     ]
    }
   ],
   "source": [
    "solution.display()\n"
   ]
  }
 ],
 "metadata": {
  "kernelspec": {
   "display_name": "Python 3",
   "language": "python",
   "name": "python3"
  },
  "language_info": {
   "codemirror_mode": {
    "name": "ipython",
    "version": 3
   },
   "file_extension": ".py",
   "mimetype": "text/x-python",
   "name": "python",
   "nbconvert_exporter": "python",
   "pygments_lexer": "ipython3",
   "version": "3.10.10"
  }
 },
 "nbformat": 4,
 "nbformat_minor": 2
}
