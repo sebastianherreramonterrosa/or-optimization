{
 "cells": [
  {
   "cell_type": "markdown",
   "metadata": {},
   "source": [
    "## **LOCACIONES PLANTAS CLIENTES: Restricciones Adicionales**"
   ]
  },
  {
   "cell_type": "code",
   "execution_count": 1,
   "metadata": {},
   "outputs": [],
   "source": [
    "from docplex.mp.model import Model\n",
    "import pandas"
   ]
  },
  {
   "cell_type": "code",
   "execution_count": 2,
   "metadata": {},
   "outputs": [],
   "source": [
    "df_costo_cliente_planta = pandas.read_excel(\"./data.xlsx\", sheet_name=\"COSTO CLIENTE-PLANTA\")\n",
    "df_clientes = pandas.read_excel(\"./data.xlsx\", sheet_name=\"DEMANDAS CLIENTES\")\n",
    "df_plantas = pandas.read_excel(\"./data.xlsx\", sheet_name=\"COSTO Y CAPACIDAD PLANTAS\")"
   ]
  },
  {
   "attachments": {},
   "cell_type": "markdown",
   "metadata": {},
   "source": [
    "**Conjuntos**"
   ]
  },
  {
   "cell_type": "code",
   "execution_count": 3,
   "metadata": {},
   "outputs": [],
   "source": [
    "PLANTAS = df_plantas[\"Planta\"].to_list()\n",
    "CLIENTES = df_clientes[\"Cliente\"].to_list()"
   ]
  },
  {
   "attachments": {},
   "cell_type": "markdown",
   "metadata": {},
   "source": [
    "**Parámetros**"
   ]
  },
  {
   "cell_type": "code",
   "execution_count": 4,
   "metadata": {},
   "outputs": [],
   "source": [
    "COSTO_CLIENTE_PLANTA = df_costo_cliente_planta.set_index([\"Planta\", \"Cliente\"])['Costo de asignar un cliente a un planta'].to_dict()\n",
    "DEMANDA_CLIENTE = df_clientes.set_index([\"Cliente\"])[\"Demanda del cliente\"].to_dict()\n",
    "COSTO_ABRIR_PLANTA = df_plantas.set_index([\"Planta\"])[\"Costo de abrir planta\"].to_dict()\n",
    "CAPACIDAD_PLANTA = df_plantas.set_index([\"Planta\"])[\"Capacidad máxima\"].to_dict()"
   ]
  },
  {
   "cell_type": "code",
   "execution_count": 5,
   "metadata": {},
   "outputs": [],
   "source": [
    "model = Model()"
   ]
  },
  {
   "attachments": {},
   "cell_type": "markdown",
   "metadata": {},
   "source": [
    "**Variables**"
   ]
  },
  {
   "cell_type": "code",
   "execution_count": 6,
   "metadata": {},
   "outputs": [],
   "source": [
    "x = model.binary_var_dict(PLANTAS, name=\"x\")\n",
    "y = model.binary_var_dict([(planta, cliente) for planta in PLANTAS for cliente in CLIENTES], name=\"y\")\n",
    "\n",
    "alpha = model.binary_var_dict(PLANTAS, name=\"alpha\")"
   ]
  },
  {
   "attachments": {},
   "cell_type": "markdown",
   "metadata": {},
   "source": [
    "**Función Objetivo**"
   ]
  },
  {
   "cell_type": "code",
   "execution_count": 7,
   "metadata": {},
   "outputs": [],
   "source": [
    "costo_abrir_plantas = model.sum(x[planta] * COSTO_ABRIR_PLANTA[planta] for planta in PLANTAS)\n",
    "costo_cliente_planta = model.sum(y[(planta, cliente)] * COSTO_CLIENTE_PLANTA[(planta, cliente)] for planta in PLANTAS for cliente in CLIENTES)\n",
    "costo_4plantas = model.sum(alpha[planta] * 2000 for planta in PLANTAS)\n",
    "model.minimize(costo_abrir_plantas + costo_cliente_planta + costo_4plantas)"
   ]
  },
  {
   "attachments": {},
   "cell_type": "markdown",
   "metadata": {},
   "source": [
    "**Restricciones**"
   ]
  },
  {
   "cell_type": "code",
   "execution_count": 8,
   "metadata": {},
   "outputs": [],
   "source": [
    "for planta in PLANTAS:\n",
    "    for cliente in CLIENTES:\n",
    "        model.add_constraint(y[(planta, cliente)] <= x[planta], ctname=f\"ct1_{planta}_{cliente}\")\n",
    "\n",
    "for planta in PLANTAS:\n",
    "    model.add_constraint(model.sum(y[(planta, cliente)] * DEMANDA_CLIENTE[cliente] for cliente in CLIENTES) <= CAPACIDAD_PLANTA[planta], ctname=f\"ct2_{planta}\")\n",
    "\n",
    "for cliente in CLIENTES:\n",
    "    model.add_constraint(model.sum(y[(planta, cliente)] for planta in PLANTAS) == 1, ctname=f\"ct3_{cliente}\")\n",
    "\n",
    "for planta in PLANTAS:\n",
    "    model.add_constraint(model.sum(y[(planta, cliente)] for cliente in CLIENTES) >= 3 * x[planta], ctname=f\"ct4_{planta}\")\n",
    "\n",
    "for planta in PLANTAS:\n",
    "    model.add_constraint(model.sum(y[(planta, cliente)] * DEMANDA_CLIENTE[cliente] for cliente in CLIENTES) >= 0.9 * CAPACIDAD_PLANTA[planta] * x[planta], ctname=f\"ct5_{planta}\")"
   ]
  },
  {
   "attachments": {},
   "cell_type": "markdown",
   "metadata": {},
   "source": [
    "$$ \\forall p\\in P:  Y_{p,7} + Y_{p,10}+ Y_{p,49} \\le 1 $$\n",
    "\n",
    "$$ \\sum_{c\\in C: c \\le 10} Y_{12,c} \\ge 2 $$\n",
    "\n",
    "$$ \\forall p\\in P: \\mathrm{Si } \\sum_{c\\in C} Y_{pc} \\ge 4\\to \\alpha_{p}=1 $$\n",
    "\n",
    "$$ \\forall p\\in P: \\mathrm{Si } \\sum_{c\\in C} Y_{pc} \\le 3\\to \\alpha_{p}=0 $$"
   ]
  },
  {
   "cell_type": "code",
   "execution_count": 9,
   "metadata": {},
   "outputs": [
    {
     "data": {
      "text/plain": [
       "docplex.mp.LinearConstraint[ct7](y_12_1+y_12_2+y_12_3+y_12_4+y_12_5+y_12_6+y_12_7+y_12_8+y_12_9+y_12_10,GE,2)"
      ]
     },
     "execution_count": 9,
     "metadata": {},
     "output_type": "execute_result"
    }
   ],
   "source": [
    "# 7 10 y 49 tienen que estar en diferente planta\n",
    "for planta in PLANTAS:\n",
    "    model.add_constraint(y[(planta, 7)] + y[(planta, 10)] + y[(planta, 49)] <= 1 , ctname=f\"ct6_{planta}\")\n",
    "\n",
    "# La planta 12 tiene que tener al menos a 2 clientes de 1 al 10\n",
    "model.add_constraint(model.sum(y[(12, cliente)] for cliente in CLIENTES if cliente <= 10) >= 2 , ctname=f\"ct7\")\n",
    "\n",
    "# for planta in PLANTAS:\n",
    "#     model.add_if_then(\n",
    "#         model.sum(y[(planta, cliente)] for cliente in CLIENTES) >= 4, alpha[planta] == 1\n",
    "#     )\n",
    "#     model.add_if_then(\n",
    "#         model.sum(y[(planta, cliente)] for cliente in CLIENTES) <= 3, alpha[planta] == 0\n",
    "#     )"
   ]
  },
  {
   "attachments": {},
   "cell_type": "markdown",
   "metadata": {},
   "source": [
    "$$ \\forall p\\in P: \\mathcal{M} \\times \\alpha_{p} \\ge \\sum_{c\\in C} Y_{pc} - 3.5 $$\n",
    "$$ \\forall p\\in P: \\mathcal{M} \\times \\alpha_{p} \\le \\mathcal{M} + \\sum_{c\\in C} Y_{pc} - 3.5 $$"
   ]
  },
  {
   "cell_type": "code",
   "execution_count": 10,
   "metadata": {},
   "outputs": [],
   "source": [
    "for planta in PLANTAS:\n",
    "    model.add_constraint(10 * alpha[planta] >= model.sum(y[(planta, cliente)] for cliente in CLIENTES) - 3.5)\n",
    "    model.add_constraint(10 * alpha[planta] <= 10 +  model.sum(y[(planta, cliente)] for cliente in CLIENTES) - 3.5)"
   ]
  },
  {
   "cell_type": "code",
   "execution_count": 11,
   "metadata": {},
   "outputs": [],
   "source": [
    "model.set_time_limit(20)"
   ]
  },
  {
   "cell_type": "code",
   "execution_count": 12,
   "metadata": {},
   "outputs": [
    {
     "name": "stdout",
     "output_type": "stream",
     "text": [
      "Version identifier: 22.1.1.0 | 2022-11-27 | 9160aff4d\n",
      "CPXPARAM_Read_DataCheck                          1\n",
      "CPXPARAM_TimeLimit                               20\n",
      "Tried aggregator 1 time.\n",
      "MIP Presolve eliminated 151 rows and 74 columns.\n",
      "MIP Presolve added 17 rows and 17 columns.\n",
      "MIP Presolve modified 2053 coefficients.\n",
      "Reduced MIP has 1037 rows, 983 columns, and 6669 nonzeros.\n",
      "Reduced MIP has 966 binaries, 17 generals, 0 SOSs, and 0 indicators.\n",
      "Presolve time = 0.02 sec. (10.87 ticks)\n",
      "Probing fixed 1 vars, tightened 1 bounds.\n",
      "Probing time = 0.02 sec. (3.71 ticks)\n",
      "Tried aggregator 1 time.\n",
      "Detecting symmetries...\n",
      "MIP Presolve eliminated 48 rows and 1 columns.\n",
      "Reduced MIP has 989 rows, 982 columns, and 6571 nonzeros.\n",
      "Reduced MIP has 965 binaries, 17 generals, 0 SOSs, and 0 indicators.\n",
      "Presolve time = 0.02 sec. (5.20 ticks)\n",
      "Probing time = 0.00 sec. (2.31 ticks)\n",
      "Clique table members: 888.\n",
      "MIP emphasis: balance optimality and feasibility.\n",
      "MIP search method: dynamic search.\n",
      "Parallel mode: deterministic, using up to 12 threads.\n",
      "Root relaxation solution time = 0.09 sec. (48.77 ticks)\n",
      "\n",
      "        Nodes                                         Cuts/\n",
      "   Node  Left     Objective  IInf  Best Integer    Best Bound    ItCnt     Gap\n",
      "\n",
      "      0     0    10058.7150   623                  10058.7150     1041         \n",
      "      0     0    34052.0819   187                   Cuts: 123     2108         \n",
      "      0     0    40241.1911   106                    Cuts: 75     2389         \n",
      "      0     0    40369.8886    89                    Cuts: 60     2509         \n",
      "      0     0    40398.4087   128                    Cuts: 56     2601         \n",
      "      0     0    40414.6284   119                    Cuts: 49     2691         \n",
      "Detecting symmetries...\n",
      "      0     0    40429.7636   133                    Cuts: 58     2786         \n",
      "      0     0    40449.5049   132                    Cuts: 47     2891         \n",
      "      0     0    40459.9015   139                    Cuts: 47     3013         \n",
      "      0     0    40469.2688   128                    Cuts: 40     3115         \n",
      "      0     0    40476.1121   138                    Cuts: 30     3190         \n",
      "      0     0    40483.3259   144                    Cuts: 30     3261         \n",
      "      0     0    40488.5118   152                    Cuts: 37     3331         \n",
      "*     0+    0                        60785.0000    40488.5118            33.39%\n",
      "      0     0    40497.3683   156    60785.0000      Cuts: 38     3413   33.38%\n",
      "*     0+    0                        60273.0000    40497.3683            32.81%\n",
      "      0     0  -1.00000e+75     0    60273.0000    40497.3683     3413   32.81%\n",
      "      0     0    40499.8741   157    60273.0000      Cuts: 19     3453   32.81%\n",
      "      0     0    40501.4492   156    60273.0000      Cuts: 11     3489   32.80%\n",
      "Detecting symmetries...\n",
      "      0     2    40501.4492   156    60273.0000    40501.4492     3489   32.80%\n",
      "Elapsed time = 1.81 sec. (758.97 ticks, tree = 0.02 MB, solutions = 2)\n",
      "    153   128    40712.3323    47    60273.0000    40501.4592     9624   32.80%\n",
      "*   221+    1                        47753.0000    40501.4592            15.19%\n",
      "*   450+    1                        46883.0000    40501.4592            13.61%\n",
      "*   539+    1                        45889.0000    40501.4592            11.74%\n",
      "*   616+    1                        45865.0000    40501.4592            11.69%\n",
      "    637   564    42508.3887    42    45865.0000    40502.7331    26989   11.69%\n",
      "   1340  1019    41307.8370    41    45865.0000    40505.4628    47497   11.69%\n",
      "   2542  2084    40522.5386   125    45865.0000    40508.9371    91385   11.68%\n",
      "   3501  2862    40552.0225   109    45865.0000    40508.9371   126644   11.68%\n",
      "\n",
      "Performing restart 1\n",
      "\n",
      "Repeating presolve.\n",
      "Tried aggregator 1 time.\n",
      "MIP Presolve eliminated 6 rows and 6 columns.\n",
      "MIP Presolve modified 2572 coefficients.\n",
      "Reduced MIP has 983 rows, 976 columns, and 6421 nonzeros.\n",
      "Reduced MIP has 959 binaries, 17 generals, 0 SOSs, and 0 indicators.\n",
      "Presolve time = 0.02 sec. (6.54 ticks)\n",
      "Tried aggregator 1 time.\n",
      "Reduced MIP has 983 rows, 976 columns, and 6421 nonzeros.\n",
      "Reduced MIP has 959 binaries, 17 generals, 0 SOSs, and 0 indicators.\n",
      "Presolve time = 0.02 sec. (5.44 ticks)\n",
      "Represolve time = 0.05 sec. (25.68 ticks)\n",
      "   4096     0    40530.0165   156    45865.0000      Cuts: 30   168496   11.63%\n",
      "   4096     0    40545.3366   155    45865.0000      Cuts: 27   168622   11.60%\n",
      "   4096     0    40558.7407   166    45865.0000      Cuts: 45   168740   11.57%\n",
      "*  4096+    0                        45691.0000    40558.7407            11.23%\n",
      "   4096     0    40581.9227   156    45691.0000      Cuts: 48   168864   11.18%\n",
      "   4096     0    40590.8373   164    45691.0000      Cuts: 32   168974   11.16%\n",
      "   4096     0    40597.6304   172    45691.0000      Cuts: 35   169061   11.15%\n",
      "*  4096+    0                        45655.0000    40597.6304            11.08%\n",
      "   4096     0    40603.0105   178    45655.0000      Cuts: 25   169145   11.07%\n",
      "   4096     0    40613.4514   175    45655.0000      Cuts: 28   169271   11.04%\n",
      "   4096     0    40618.7578   178    45655.0000      Cuts: 21   169355   11.03%\n",
      "*  4096+    0                        45645.0000    40618.7578            11.01%\n",
      "   4096     0    40630.2962   178    45645.0000      Cuts: 29   169470   10.99%\n",
      "   4096     0    40638.4139   173    45645.0000      Cuts: 35   169570   10.97%\n",
      "   4096     0    40642.6590   178    45645.0000      Cuts: 39   169649   10.96%\n",
      "   4096     0    40645.7071   156    45645.0000      Cuts: 39   169742   10.95%\n",
      "   4096     0    40648.3135   170    45645.0000      Cuts: 36   169798   10.95%\n",
      "   4096     0    40651.3142   177    45645.0000      Cuts: 24   169859   10.94%\n",
      "   4096     0    40653.5914   169    45645.0000      Cuts: 31   169923   10.94%\n",
      "   4096     0    40657.0121   165    45645.0000      Cuts: 19   170019   10.93%\n",
      "*  4096+    0                        45610.0000    40657.0121            10.86%\n",
      "   4096     0    40662.2649   176    45610.0000      Cuts: 23   170094   10.85%\n",
      "   4096     0    40663.6955   176    45610.0000      Cuts: 22   170135   10.84%\n",
      "   4096     0    40666.5161   186    45610.0000      Cuts: 15   170175   10.84%\n",
      "*  4096+    0                        43667.0000    40666.5161             6.87%\n",
      "   4096     0    40673.9537   163    43667.0000      Cuts: 24   170270    6.82%\n",
      "   4096     0    40681.7728   161    43667.0000      Cuts: 28   170371    6.75%\n",
      "   4096     0    40693.0588   180    43667.0000      Cuts: 24   170482    6.75%\n",
      "   4096     0    40704.0830   173    43667.0000      Cuts: 31   170570    6.75%\n",
      "   4096     0    40710.0255   162    43667.0000      Cuts: 22   170635    6.75%\n",
      "   4096     2    40710.0255   162    43667.0000    40720.5884   170635    6.75%\n",
      "   4110    14    40739.4046   139    43667.0000    40739.5147   171499    6.70%\n",
      "   4320   162    41773.5174    75    43667.0000    40748.2628   180046    6.68%\n",
      "   4886   566    42175.6829    67    43667.0000    40748.2628   199479    6.68%\n",
      "  11149  5624    43621.9400    46    43667.0000    41586.5465   301980    4.76%\n",
      "Elapsed time = 14.05 sec. (6091.79 ticks, tree = 50.83 MB, solutions = 14)\n",
      "* 16624 11116      integral     0    42127.0000    41657.0747   404245    1.12%\n",
      "* 17420+ 4663                        42103.0000    41658.5736             1.06%\n",
      "  23503  9823    42089.8845    78    42103.0000    41672.5524   514846    1.02%\n",
      "Starting limited solution polishing.\n",
      "* 24765+11482                        41840.0000    41676.4947             0.39%\n",
      "* 25942+ 5349                        41838.0000    41678.9503             0.38%\n",
      "\n",
      "GUB cover cuts applied:  9\n",
      "Clique cuts applied:  8\n",
      "Cover cuts applied:  51\n",
      "Implied bound cuts applied:  36\n",
      "Flow cuts applied:  7\n",
      "Mixed integer rounding cuts applied:  182\n",
      "Zero-half cuts applied:  21\n",
      "Lift and project cuts applied:  1\n",
      "Gomory fractional cuts applied:  3\n",
      "\n",
      "Root node processing (before b&c):\n",
      "  Real time             =    1.78 sec. (747.78 ticks)\n",
      "Parallel b&c, 12 threads:\n",
      "  Real time             =   18.25 sec. (7969.57 ticks)\n",
      "  Sync time (average)   =    2.59 sec.\n",
      "  Wait time (average)   =    0.05 sec.\n",
      "                          ------------\n",
      "Total (root+branch&cut) =   20.03 sec. (8717.35 ticks)\n"
     ]
    }
   ],
   "source": [
    "solution = model.solve(log_output=True)"
   ]
  },
  {
   "cell_type": "code",
   "execution_count": 13,
   "metadata": {},
   "outputs": [
    {
     "data": {
      "text/plain": [
       "docplex.mp.solution.SolveSolution(obj=41838,values={x_3:1,x_4:1,x_5:8.30.."
      ]
     },
     "execution_count": 13,
     "metadata": {},
     "output_type": "execute_result"
    }
   ],
   "source": [
    "solution"
   ]
  },
  {
   "cell_type": "code",
   "execution_count": 14,
   "metadata": {},
   "outputs": [
    {
     "data": {
      "text/plain": [
       "<JobSolveStatus.FEASIBLE_SOLUTION: 1>"
      ]
     },
     "execution_count": 14,
     "metadata": {},
     "output_type": "execute_result"
    }
   ],
   "source": [
    "model.get_solve_status()"
   ]
  },
  {
   "cell_type": "code",
   "execution_count": 15,
   "metadata": {},
   "outputs": [
    {
     "data": {
      "text/plain": [
       "41838.00000000111"
      ]
     },
     "execution_count": 15,
     "metadata": {},
     "output_type": "execute_result"
    }
   ],
   "source": [
    "model.objective_value"
   ]
  },
  {
   "cell_type": "code",
   "execution_count": 16,
   "metadata": {},
   "outputs": [
    {
     "name": "stdout",
     "output_type": "stream",
     "text": [
      "=== Planta 3 ====\n",
      "Capacidad Planta: 32\n",
      "Cantidad Enviada: 31.99999999992093\n",
      "0\n",
      "7  20  37  \n",
      "\n",
      "=== Planta 4 ====\n",
      "Capacidad Planta: 52\n",
      "Cantidad Enviada: 52.0\n",
      "0\n",
      "8  10  39  \n",
      "\n",
      "=== Planta 6 ====\n",
      "Capacidad Planta: 95\n",
      "Cantidad Enviada: 95.0\n",
      "0\n",
      "3  47  50  \n",
      "\n",
      "=== Planta 7 ====\n",
      "Capacidad Planta: 29\n",
      "Cantidad Enviada: 28.000000000049585\n",
      "0\n",
      "11  17  36  \n",
      "\n",
      "=== Planta 9 ====\n",
      "Capacidad Planta: 80\n",
      "Cantidad Enviada: 80.00000000000003\n",
      "0\n",
      "19  46  48  \n",
      "\n",
      "=== Planta 10 ====\n",
      "Capacidad Planta: 97\n",
      "Cantidad Enviada: 96.99999999997252\n",
      "0\n",
      "4  14  43  \n",
      "\n",
      "=== Planta 11 ====\n",
      "Capacidad Planta: 23\n",
      "Cantidad Enviada: 23.000000000000004\n",
      "0\n",
      "24  26  40  \n",
      "\n",
      "=== Planta 12 ====\n",
      "Capacidad Planta: 85\n",
      "Cantidad Enviada: 85.0\n",
      "0\n",
      "1  6  25  \n",
      "\n",
      "=== Planta 13 ====\n",
      "Capacidad Planta: 72\n",
      "Cantidad Enviada: 72.00000000000027\n",
      "0\n",
      "21  28  31  \n",
      "\n",
      "=== Planta 14 ====\n",
      "Capacidad Planta: 62\n",
      "Cantidad Enviada: 61.99999999992949\n",
      "0\n",
      "12  13  35  \n",
      "\n",
      "=== Planta 15 ====\n",
      "Capacidad Planta: 48\n",
      "Cantidad Enviada: 47.99999999999991\n",
      "0\n",
      "5  9  18  \n",
      "\n",
      "=== Planta 16 ====\n",
      "Capacidad Planta: 100\n",
      "Cantidad Enviada: 100.0\n",
      "1.0\n",
      "15  22  23  30  32  38  44  49  \n",
      "\n",
      "=== Planta 17 ====\n",
      "Capacidad Planta: 77\n",
      "Cantidad Enviada: 76.0\n",
      "0\n",
      "33  42  45  \n",
      "\n",
      "=== Planta 18 ====\n",
      "Capacidad Planta: 78\n",
      "Cantidad Enviada: 78.00000000006271\n",
      "0\n",
      "2  16  34  \n",
      "\n",
      "=== Planta 19 ====\n",
      "Capacidad Planta: 84\n",
      "Cantidad Enviada: 84.00000000003811\n",
      "0\n",
      "27  29  41  \n",
      "\n"
     ]
    }
   ],
   "source": [
    "for planta in PLANTAS:\n",
    "    if x[planta].solution_value > 0.99:\n",
    "        print(f\"=== Planta {planta} ====\")\n",
    "        print(f\"Capacidad Planta: {CAPACIDAD_PLANTA[planta]}\")\n",
    "        print(f\"Cantidad Enviada: {sum(y[(planta, cliente)].solution_value * DEMANDA_CLIENTE[cliente] for cliente in CLIENTES)}\")\n",
    "        print(alpha[planta].solution_value)\n",
    "        for cliente in CLIENTES:\n",
    "            if y[(planta, cliente)].solution_value > 0.99:\n",
    "                print(cliente, end=\"  \")\n",
    "        print(\"\\n\")"
   ]
  }
 ],
 "metadata": {
  "kernelspec": {
   "display_name": "Python 3.7.11 ('base')",
   "language": "python",
   "name": "python3"
  },
  "language_info": {
   "codemirror_mode": {
    "name": "ipython",
    "version": 3
   },
   "file_extension": ".py",
   "mimetype": "text/x-python",
   "name": "python",
   "nbconvert_exporter": "python",
   "pygments_lexer": "ipython3",
   "version": "3.10.10"
  },
  "orig_nbformat": 4,
  "vscode": {
   "interpreter": {
    "hash": "d90077ce7125d20909e99e912648307be4f32fccb58a5fb76bf45800dc67acda"
   }
  }
 },
 "nbformat": 4,
 "nbformat_minor": 2
}
